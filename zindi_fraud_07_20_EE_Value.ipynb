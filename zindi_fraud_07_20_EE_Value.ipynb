{
 "cells": [
  {
   "cell_type": "markdown",
   "metadata": {},
   "source": [
    "# Тьюнинг EllipticEnvelope"
   ]
  },
  {
   "cell_type": "markdown",
   "metadata": {},
   "source": [
    "## Field `Value`"
   ]
  },
  {
   "cell_type": "code",
   "execution_count": 1,
   "metadata": {},
   "outputs": [],
   "source": [
    "import numpy  as np\n",
    "import pandas as pd"
   ]
  },
  {
   "cell_type": "code",
   "execution_count": 2,
   "metadata": {},
   "outputs": [],
   "source": [
    "df_trn = pd.read_csv('../data/training_le.csv')\n",
    "df_tst = pd.read_csv('../data/test_le.csv')"
   ]
  },
  {
   "cell_type": "code",
   "execution_count": 3,
   "metadata": {},
   "outputs": [],
   "source": [
    "X_trn = df_trn.drop(columns=['FraudResult'], axis=1)\n",
    "y_trn = df_trn['FraudResult']\n",
    "\n",
    "X_tst = df_tst"
   ]
  },
  {
   "cell_type": "markdown",
   "metadata": {},
   "source": [
    "**Frauds**"
   ]
  },
  {
   "cell_type": "code",
   "execution_count": 4,
   "metadata": {},
   "outputs": [
    {
     "name": "stdout",
     "output_type": "stream",
     "text": [
      "Train Label Distribution: Counter({0: 95469, 1: 193})\n"
     ]
    }
   ],
   "source": [
    "from collections import Counter\n",
    "print('Train Label Distribution: {}'.format(Counter(y_trn)))"
   ]
  },
  {
   "cell_type": "code",
   "execution_count": 5,
   "metadata": {},
   "outputs": [
    {
     "name": "stdout",
     "output_type": "stream",
     "text": [
      "Train outliers fraction: 0.002\n"
     ]
    }
   ],
   "source": [
    "num_transactions = df_trn.shape[0]\n",
    "num_otliers = df_trn['FraudResult'].value_counts()[1]\n",
    "num_inliers = df_trn['FraudResult'].value_counts()[0]\n",
    "outliers_fraction = num_otliers / num_transactions\n",
    "print('Train outliers fraction:', round(outliers_fraction, 3))"
   ]
  },
  {
   "cell_type": "code",
   "execution_count": 6,
   "metadata": {},
   "outputs": [
    {
     "name": "stdout",
     "output_type": "stream",
     "text": [
      "Number of outliers on union dataset = 284.0\n"
     ]
    }
   ],
   "source": [
    "print('Number of outliers on union dataset =', round((df_trn.shape[0]+df_tst.shape[0])*outliers_fraction, 0))"
   ]
  },
  {
   "cell_type": "markdown",
   "metadata": {},
   "source": [
    "**Union dataframes**"
   ]
  },
  {
   "cell_type": "code",
   "execution_count": 7,
   "metadata": {},
   "outputs": [],
   "source": [
    "columns4drop = [\n",
    "    'BatchId',\n",
    "    'SubscriptionId',\n",
    "    'CustomerId',\n",
    "    'TransactionStartTime'\n",
    "]"
   ]
  },
  {
   "cell_type": "code",
   "execution_count": 8,
   "metadata": {},
   "outputs": [
    {
     "name": "stdout",
     "output_type": "stream",
     "text": [
      "(95662, 8) (45019, 8)\n"
     ]
    }
   ],
   "source": [
    "df_trn_cut = df_trn.drop(columns=columns4drop, axis=1)\n",
    "df_tst_cut = df_tst.drop(columns=columns4drop, axis=1)\n",
    "\n",
    "df_trn_cut = df_trn_cut.drop(columns='FraudResult', axis=1)\n",
    "\n",
    "print(df_trn_cut.shape, df_tst_cut.shape)"
   ]
  },
  {
   "cell_type": "code",
   "execution_count": 9,
   "metadata": {},
   "outputs": [
    {
     "data": {
      "text/plain": [
       "(140681, 8)"
      ]
     },
     "execution_count": 9,
     "metadata": {},
     "output_type": "execute_result"
    }
   ],
   "source": [
    "frames = [df_trn_cut, df_tst_cut]\n",
    "df_union = pd.concat(frames)\n",
    "df_union.shape"
   ]
  },
  {
   "cell_type": "code",
   "execution_count": 10,
   "metadata": {},
   "outputs": [
    {
     "data": {
      "text/html": [
       "<div>\n",
       "<style scoped>\n",
       "    .dataframe tbody tr th:only-of-type {\n",
       "        vertical-align: middle;\n",
       "    }\n",
       "\n",
       "    .dataframe tbody tr th {\n",
       "        vertical-align: top;\n",
       "    }\n",
       "\n",
       "    .dataframe thead th {\n",
       "        text-align: right;\n",
       "    }\n",
       "</style>\n",
       "<table border=\"1\" class=\"dataframe\">\n",
       "  <thead>\n",
       "    <tr style=\"text-align: right;\">\n",
       "      <th></th>\n",
       "      <th>AccountId</th>\n",
       "      <th>ProviderId</th>\n",
       "      <th>ProductId</th>\n",
       "      <th>ProductCategory</th>\n",
       "      <th>ChannelId</th>\n",
       "      <th>Amount</th>\n",
       "      <th>Value</th>\n",
       "      <th>PricingStrategy</th>\n",
       "    </tr>\n",
       "  </thead>\n",
       "  <tbody>\n",
       "    <tr>\n",
       "      <th>0</th>\n",
       "      <td>3956</td>\n",
       "      <td>5</td>\n",
       "      <td>9</td>\n",
       "      <td>0</td>\n",
       "      <td>2</td>\n",
       "      <td>1000.0</td>\n",
       "      <td>1000</td>\n",
       "      <td>2</td>\n",
       "    </tr>\n",
       "    <tr>\n",
       "      <th>1</th>\n",
       "      <td>4840</td>\n",
       "      <td>3</td>\n",
       "      <td>5</td>\n",
       "      <td>2</td>\n",
       "      <td>1</td>\n",
       "      <td>-20.0</td>\n",
       "      <td>20</td>\n",
       "      <td>2</td>\n",
       "    </tr>\n",
       "    <tr>\n",
       "      <th>2</th>\n",
       "      <td>4228</td>\n",
       "      <td>5</td>\n",
       "      <td>0</td>\n",
       "      <td>0</td>\n",
       "      <td>2</td>\n",
       "      <td>500.0</td>\n",
       "      <td>500</td>\n",
       "      <td>2</td>\n",
       "    </tr>\n",
       "    <tr>\n",
       "      <th>3</th>\n",
       "      <td>647</td>\n",
       "      <td>0</td>\n",
       "      <td>20</td>\n",
       "      <td>9</td>\n",
       "      <td>2</td>\n",
       "      <td>20000.0</td>\n",
       "      <td>21800</td>\n",
       "      <td>2</td>\n",
       "    </tr>\n",
       "    <tr>\n",
       "      <th>4</th>\n",
       "      <td>4840</td>\n",
       "      <td>3</td>\n",
       "      <td>5</td>\n",
       "      <td>2</td>\n",
       "      <td>1</td>\n",
       "      <td>-644.0</td>\n",
       "      <td>644</td>\n",
       "      <td>2</td>\n",
       "    </tr>\n",
       "  </tbody>\n",
       "</table>\n",
       "</div>"
      ],
      "text/plain": [
       "   AccountId  ProviderId  ProductId  ProductCategory  ChannelId   Amount  \\\n",
       "0       3956           5          9                0          2   1000.0   \n",
       "1       4840           3          5                2          1    -20.0   \n",
       "2       4228           5          0                0          2    500.0   \n",
       "3        647           0         20                9          2  20000.0   \n",
       "4       4840           3          5                2          1   -644.0   \n",
       "\n",
       "   Value  PricingStrategy  \n",
       "0   1000                2  \n",
       "1     20                2  \n",
       "2    500                2  \n",
       "3  21800                2  \n",
       "4    644                2  "
      ]
     },
     "execution_count": 10,
     "metadata": {},
     "output_type": "execute_result"
    }
   ],
   "source": [
    "df_union.head()"
   ]
  },
  {
   "cell_type": "markdown",
   "metadata": {},
   "source": [
    "## Only `Value`"
   ]
  },
  {
   "cell_type": "code",
   "execution_count": 11,
   "metadata": {},
   "outputs": [],
   "source": [
    "columns4drop = [\n",
    "    'AccountId',\n",
    "    'ProviderId',\n",
    "    'ProductId',\n",
    "    'ProductCategory',\n",
    "    'ChannelId',\n",
    "    'Amount',\n",
    "    'PricingStrategy',\n",
    "]"
   ]
  },
  {
   "cell_type": "code",
   "execution_count": 12,
   "metadata": {},
   "outputs": [],
   "source": [
    "df_value = df_union.drop(columns=columns4drop, axis=1)"
   ]
  },
  {
   "cell_type": "code",
   "execution_count": 13,
   "metadata": {},
   "outputs": [
    {
     "data": {
      "text/html": [
       "<div>\n",
       "<style scoped>\n",
       "    .dataframe tbody tr th:only-of-type {\n",
       "        vertical-align: middle;\n",
       "    }\n",
       "\n",
       "    .dataframe tbody tr th {\n",
       "        vertical-align: top;\n",
       "    }\n",
       "\n",
       "    .dataframe thead th {\n",
       "        text-align: right;\n",
       "    }\n",
       "</style>\n",
       "<table border=\"1\" class=\"dataframe\">\n",
       "  <thead>\n",
       "    <tr style=\"text-align: right;\">\n",
       "      <th></th>\n",
       "      <th>Value</th>\n",
       "    </tr>\n",
       "  </thead>\n",
       "  <tbody>\n",
       "    <tr>\n",
       "      <th>0</th>\n",
       "      <td>1000</td>\n",
       "    </tr>\n",
       "    <tr>\n",
       "      <th>1</th>\n",
       "      <td>20</td>\n",
       "    </tr>\n",
       "    <tr>\n",
       "      <th>2</th>\n",
       "      <td>500</td>\n",
       "    </tr>\n",
       "    <tr>\n",
       "      <th>3</th>\n",
       "      <td>21800</td>\n",
       "    </tr>\n",
       "    <tr>\n",
       "      <th>4</th>\n",
       "      <td>644</td>\n",
       "    </tr>\n",
       "  </tbody>\n",
       "</table>\n",
       "</div>"
      ],
      "text/plain": [
       "   Value\n",
       "0   1000\n",
       "1     20\n",
       "2    500\n",
       "3  21800\n",
       "4    644"
      ]
     },
     "execution_count": 13,
     "metadata": {},
     "output_type": "execute_result"
    }
   ],
   "source": [
    "df_value.head()"
   ]
  },
  {
   "cell_type": "markdown",
   "metadata": {},
   "source": [
    "## Running"
   ]
  },
  {
   "cell_type": "code",
   "execution_count": 14,
   "metadata": {},
   "outputs": [],
   "source": [
    "from sklearn.metrics import confusion_matrix\n",
    "from sklearn.metrics import precision_score\n",
    "from sklearn.metrics import recall_score\n",
    "from sklearn.metrics import f1_score"
   ]
  },
  {
   "cell_type": "code",
   "execution_count": 15,
   "metadata": {},
   "outputs": [],
   "source": [
    "from sklearn.covariance import EllipticEnvelope"
   ]
  },
  {
   "cell_type": "code",
   "execution_count": 16,
   "metadata": {},
   "outputs": [],
   "source": [
    "def running_EE(X, y_eta_trn):\n",
    "    print(' '*37, 'Confusion-Matrix')\n",
    "    print('Algorithm', ' '*30, 'TN       FP')\n",
    "    print(' '*17, 'Frd_tst  Frd_trn       FN       TP     Precision  Recall     F1-score')\n",
    "    print('='*100)    \n",
    "\n",
    "    algorithm = EllipticEnvelope(contamination=outliers_fraction)\n",
    "    y_pred = algorithm.fit(X).predict(X)\n",
    "\n",
    "    y_pred = [ 1 if x == -1 else 0 for x in y_pred ]\n",
    "    y_pred_trn = y_pred[ : len(y_trn)]\n",
    "    y_pred_tst = y_pred[len(y_trn) : ]\n",
    "\n",
    "    n_frauds_trn      = Counter(y_pred_trn)[1]\n",
    "    n_frauds_tst      = Counter(y_pred_tst)[1]\n",
    "    tn, fp, fn, tp    = confusion_matrix(y_eta_trn, y_pred_trn).ravel()\n",
    "    precision         = precision_score(y_eta_trn, y_pred_trn)\n",
    "    recall            = recall_score(y_eta_trn, y_pred_trn)\n",
    "    f1                = f1_score(y_eta_trn, y_pred_trn)\n",
    "\n",
    "    print('%s %8i %8i' % (' '*34, tn, fp))\n",
    "    print('%s %8i %8i %8i %8i %10.4f %10.4f %10.4f' % \n",
    "          ('EE    '+' '*10, n_frauds_tst, n_frauds_trn, fn, tp, precision, recall, f1))\n",
    "        \n",
    "    print('-'*100)\n",
    "    return"
   ]
  },
  {
   "cell_type": "code",
   "execution_count": 17,
   "metadata": {},
   "outputs": [
    {
     "name": "stdout",
     "output_type": "stream",
     "text": [
      "                                      Confusion-Matrix\n",
      "Algorithm                                TN       FP\n",
      "                  Frd_tst  Frd_trn       FN       TP     Precision  Recall     F1-score\n",
      "====================================================================================================\n",
      "                                      95411       58\n",
      "EE                     55      181       70      123     0.6796     0.6373     0.6578\n",
      "----------------------------------------------------------------------------------------------------\n"
     ]
    }
   ],
   "source": [
    "running_EE(df_value, y_trn)"
   ]
  },
  {
   "cell_type": "markdown",
   "metadata": {},
   "source": [
    "## Choosing Scaler"
   ]
  },
  {
   "cell_type": "code",
   "execution_count": 18,
   "metadata": {},
   "outputs": [],
   "source": [
    "from sklearn.preprocessing import MinMaxScaler\n",
    "from sklearn.preprocessing import minmax_scale\n",
    "from sklearn.preprocessing import MaxAbsScaler\n",
    "from sklearn.preprocessing import StandardScaler\n",
    "from sklearn.preprocessing import RobustScaler\n",
    "from sklearn.preprocessing import Normalizer\n",
    "from sklearn.preprocessing import QuantileTransformer\n",
    "from sklearn.preprocessing import PowerTransformer"
   ]
  },
  {
   "cell_type": "code",
   "execution_count": 22,
   "metadata": {},
   "outputs": [],
   "source": [
    "def running_EE_scaler(name, X, y_eta_trn):\n",
    "    algorithm = EllipticEnvelope(contamination=outliers_fraction, support_fraction=1.0)\n",
    "    y_pred = algorithm.fit(X).predict(X)\n",
    "\n",
    "    y_pred = [ 1 if x == -1 else 0 for x in y_pred ]\n",
    "    y_pred_trn = y_pred[ : len(y_trn)]\n",
    "    y_pred_tst = y_pred[len(y_trn) : ]\n",
    "\n",
    "    n_frauds_trn      = Counter(y_pred_trn)[1]\n",
    "    n_frauds_tst      = Counter(y_pred_tst)[1]\n",
    "    tn, fp, fn, tp    = confusion_matrix(y_eta_trn, y_pred_trn).ravel()\n",
    "    precision         = precision_score(y_eta_trn, y_pred_trn)\n",
    "    recall            = recall_score(y_eta_trn, y_pred_trn)\n",
    "    f1                = f1_score(y_eta_trn, y_pred_trn)\n",
    "\n",
    "    print('%s %8i %8i' % (' '*56, tn, fp))\n",
    "    print('%s %8i %8i %8i %8i %10.4f %10.4f %10.4f' % \n",
    "          (name, n_frauds_tst, n_frauds_trn, fn, tp, precision, recall, f1))\n",
    "        \n",
    "    return"
   ]
  },
  {
   "cell_type": "code",
   "execution_count": 31,
   "metadata": {},
   "outputs": [
    {
     "name": "stdout",
     "output_type": "stream",
     "text": [
      "                                                            Confusion-Matrix\n",
      "Scaler                                                         TN       FP\n",
      "                                        Frd_tst  Frd_trn       FN       TP     Precision  Recall     F1-score\n",
      "==============================================================================================================\n",
      "                                                            95411       58\n",
      "Unscaled data                                55      181       70      123     0.6796     0.6373     0.6578\n",
      "                                                            95411       58\n",
      "Standard scaling                             55      181       70      123     0.6796     0.6373     0.6578\n",
      "                                                            95411       58\n",
      "Min-max scaling                              55      181       70      123     0.6796     0.6373     0.6578\n",
      "                                                            95410       59\n",
      "Max-abs scaling                              94      231       21      172     0.7446     0.8912     0.8113\n",
      "                                                            95411       58\n",
      "Robust scaling (without params)              55      181       70      123     0.6796     0.6373     0.6578\n",
      "                                                            95411       58\n",
      "Robust scaling (quantile=(25, 75))           55      181       70      123     0.6796     0.6373     0.6578\n",
      "                                                            95411       58\n",
      "Power transformation (Yeo-Johnson)           55      181       70      123     0.6796     0.6373     0.6578\n",
      "                                                            95411       58\n",
      "Power transformation (Box-Cox)               55      181       70      123     0.6796     0.6373     0.6578\n",
      "                                                            95314      155\n",
      "Quantile transformation (gaussian pdf)       60      219      129       64     0.2922     0.3316     0.3107\n",
      "                                                            95314      155\n",
      "Quantile transformation (uniform pdf)        60      219      129       64     0.2922     0.3316     0.3107\n",
      "--------------------------------------------------------------------------------------------------------------\n"
     ]
    }
   ],
   "source": [
    "print(' '*59, 'Confusion-Matrix')\n",
    "print('Scaler', ' '*55, 'TN       FP')\n",
    "print(' '*39, 'Frd_tst  Frd_trn       FN       TP     Precision  Recall     F1-score')\n",
    "print('='*110)    \n",
    "\n",
    "X = df_value\n",
    "running_EE_scaler('Unscaled data                         ', X, y_trn)\n",
    "running_EE_scaler('Standard scaling                      ', StandardScaler().fit_transform(X), y_trn)\n",
    "running_EE_scaler('Min-max scaling                       ', MinMaxScaler().fit_transform(X), y_trn)\n",
    "running_EE_scaler('Max-abs scaling                       ', MaxAbsScaler().fit_transform(X), y_trn)\n",
    "running_EE_scaler('Robust scaling (without params)       ', RobustScaler().fit_transform(X), y_trn)\n",
    "running_EE_scaler('Robust scaling (quantile=(25, 75))    ', RobustScaler(quantile_range=(25, 75)).fit_transform(X), y_trn)\n",
    "running_EE_scaler('Power transformation (Yeo-Johnson)    ', PowerTransformer(method='yeo-johnson').fit_transform(X), y_trn)\n",
    "running_EE_scaler('Power transformation (Box-Cox)        ', PowerTransformer(method='box-cox').fit_transform(X), y_trn)\n",
    "running_EE_scaler('Quantile transformation (gaussian pdf)', QuantileTransformer(output_distribution='normal').fit_transform(X), y_trn)\n",
    "running_EE_scaler('Quantile transformation (uniform pdf) ', QuantileTransformer(output_distribution='uniform').fit_transform(X), y_trn)\n",
    "# running_EE_scaler('Sample-wise L2 normalizing            ', Normalizer().fit_transform(X), y_trn)\n",
    "\n",
    "print('-'*110)"
   ]
  },
  {
   "cell_type": "markdown",
   "metadata": {},
   "source": [
    "## Max-abs Scaling"
   ]
  },
  {
   "cell_type": "code",
   "execution_count": 36,
   "metadata": {},
   "outputs": [],
   "source": [
    "def scaleColumns(data, cols_to_scale, scaler):\n",
    "    for col in cols_to_scale:\n",
    "        data[col] = pd.DataFrame(scaler.fit_transform(pd.DataFrame(data[col])))\n",
    "    return data"
   ]
  },
  {
   "cell_type": "code",
   "execution_count": 57,
   "metadata": {},
   "outputs": [],
   "source": [
    "df_value_max = scaleColumns(df_value, ['Value'], MaxAbsScaler())"
   ]
  },
  {
   "cell_type": "code",
   "execution_count": 58,
   "metadata": {},
   "outputs": [
    {
     "data": {
      "text/html": [
       "<div>\n",
       "<style scoped>\n",
       "    .dataframe tbody tr th:only-of-type {\n",
       "        vertical-align: middle;\n",
       "    }\n",
       "\n",
       "    .dataframe tbody tr th {\n",
       "        vertical-align: top;\n",
       "    }\n",
       "\n",
       "    .dataframe thead th {\n",
       "        text-align: right;\n",
       "    }\n",
       "</style>\n",
       "<table border=\"1\" class=\"dataframe\">\n",
       "  <thead>\n",
       "    <tr style=\"text-align: right;\">\n",
       "      <th></th>\n",
       "      <th>Value</th>\n",
       "    </tr>\n",
       "  </thead>\n",
       "  <tbody>\n",
       "    <tr>\n",
       "      <th>0</th>\n",
       "      <td>0.000101</td>\n",
       "    </tr>\n",
       "    <tr>\n",
       "      <th>1</th>\n",
       "      <td>0.000002</td>\n",
       "    </tr>\n",
       "    <tr>\n",
       "      <th>2</th>\n",
       "      <td>0.000051</td>\n",
       "    </tr>\n",
       "    <tr>\n",
       "      <th>3</th>\n",
       "      <td>0.002206</td>\n",
       "    </tr>\n",
       "    <tr>\n",
       "      <th>4</th>\n",
       "      <td>0.000065</td>\n",
       "    </tr>\n",
       "  </tbody>\n",
       "</table>\n",
       "</div>"
      ],
      "text/plain": [
       "      Value\n",
       "0  0.000101\n",
       "1  0.000002\n",
       "2  0.000051\n",
       "3  0.002206\n",
       "4  0.000065"
      ]
     },
     "execution_count": 58,
     "metadata": {},
     "output_type": "execute_result"
    }
   ],
   "source": [
    "df_value_max.head()"
   ]
  },
  {
   "cell_type": "code",
   "execution_count": 59,
   "metadata": {},
   "outputs": [
    {
     "data": {
      "text/plain": [
       "(140681, 1)"
      ]
     },
     "execution_count": 59,
     "metadata": {},
     "output_type": "execute_result"
    }
   ],
   "source": [
    "df_value_max.shape"
   ]
  },
  {
   "cell_type": "markdown",
   "metadata": {},
   "source": [
    "## Grid Search CV"
   ]
  },
  {
   "cell_type": "code",
   "execution_count": 61,
   "metadata": {},
   "outputs": [],
   "source": [
    "X1 = df_value_max[ : df_trn.shape[0]]\n",
    "y1 = y_trn.astype(np.int8)\n",
    "y1[y_trn==1] = -1\n",
    "y1[y_trn==0] = 1"
   ]
  },
  {
   "cell_type": "code",
   "execution_count": 64,
   "metadata": {},
   "outputs": [],
   "source": [
    "from sklearn.model_selection import StratifiedKFold"
   ]
  },
  {
   "cell_type": "code",
   "execution_count": 66,
   "metadata": {},
   "outputs": [],
   "source": [
    "skf = StratifiedKFold(n_splits=3, shuffle=True, random_state=0)\n",
    "folds = list(skf.split(X1, y1))"
   ]
  },
  {
   "cell_type": "code",
   "execution_count": 67,
   "metadata": {},
   "outputs": [],
   "source": [
    "from sklearn.model_selection import GridSearchCV\n",
    "from sklearn.metrics import f1_score, make_scorer"
   ]
  },
  {
   "cell_type": "code",
   "execution_count": 68,
   "metadata": {},
   "outputs": [],
   "source": [
    "ee = EllipticEnvelope()\n",
    "params = {\n",
    "    'support_fraction': np.linspace(0.70, 0.99, num=30),\n",
    "    'contamination'   : np.linspace(0.0015, 0.0025, num=101)\n",
    "}\n",
    "f1score = make_scorer(f1_score)\n",
    "grdsrch = GridSearchCV(estimator=ee, param_grid=params, scoring=f1score, cv=folds, n_jobs=-1)\n",
    "grdsrch.fit(X1, y1);"
   ]
  },
  {
   "cell_type": "code",
   "execution_count": 69,
   "metadata": {},
   "outputs": [
    {
     "data": {
      "text/html": [
       "<div>\n",
       "<style scoped>\n",
       "    .dataframe tbody tr th:only-of-type {\n",
       "        vertical-align: middle;\n",
       "    }\n",
       "\n",
       "    .dataframe tbody tr th {\n",
       "        vertical-align: top;\n",
       "    }\n",
       "\n",
       "    .dataframe thead th {\n",
       "        text-align: right;\n",
       "    }\n",
       "</style>\n",
       "<table border=\"1\" class=\"dataframe\">\n",
       "  <thead>\n",
       "    <tr style=\"text-align: right;\">\n",
       "      <th></th>\n",
       "      <th>mean_test_score</th>\n",
       "      <th>params</th>\n",
       "    </tr>\n",
       "  </thead>\n",
       "  <tbody>\n",
       "    <tr>\n",
       "      <th>2652</th>\n",
       "      <td>0.999581</td>\n",
       "      <td>{'contamination': 0.00238, 'support_fraction':...</td>\n",
       "    </tr>\n",
       "    <tr>\n",
       "      <th>2651</th>\n",
       "      <td>0.999581</td>\n",
       "      <td>{'contamination': 0.00238, 'support_fraction':...</td>\n",
       "    </tr>\n",
       "    <tr>\n",
       "      <th>2649</th>\n",
       "      <td>0.999581</td>\n",
       "      <td>{'contamination': 0.00238, 'support_fraction':...</td>\n",
       "    </tr>\n",
       "    <tr>\n",
       "      <th>2619</th>\n",
       "      <td>0.999581</td>\n",
       "      <td>{'contamination': 0.00237, 'support_fraction':...</td>\n",
       "    </tr>\n",
       "    <tr>\n",
       "      <th>1539</th>\n",
       "      <td>0.999581</td>\n",
       "      <td>{'contamination': 0.00201, 'support_fraction':...</td>\n",
       "    </tr>\n",
       "  </tbody>\n",
       "</table>\n",
       "</div>"
      ],
      "text/plain": [
       "      mean_test_score                                             params\n",
       "2652         0.999581  {'contamination': 0.00238, 'support_fraction':...\n",
       "2651         0.999581  {'contamination': 0.00238, 'support_fraction':...\n",
       "2649         0.999581  {'contamination': 0.00238, 'support_fraction':...\n",
       "2619         0.999581  {'contamination': 0.00237, 'support_fraction':...\n",
       "1539         0.999581  {'contamination': 0.00201, 'support_fraction':..."
      ]
     },
     "execution_count": 69,
     "metadata": {},
     "output_type": "execute_result"
    }
   ],
   "source": [
    "df_res = pd.DataFrame(grdsrch.cv_results_)\n",
    "df_res[['mean_test_score', 'params']].sort_values(by=['mean_test_score'], ascending=False).head()"
   ]
  },
  {
   "cell_type": "code",
   "execution_count": 70,
   "metadata": {},
   "outputs": [
    {
     "data": {
      "text/plain": [
       "EllipticEnvelope(assume_centered=False, contamination=0.00201,\n",
       "                 random_state=None, store_precision=True,\n",
       "                 support_fraction=0.79)"
      ]
     },
     "execution_count": 70,
     "metadata": {},
     "output_type": "execute_result"
    }
   ],
   "source": [
    "grdsrch.best_estimator_"
   ]
  },
  {
   "cell_type": "markdown",
   "metadata": {},
   "source": [
    "**Make predictions with our optimized envelope fit**"
   ]
  },
  {
   "cell_type": "code",
   "execution_count": 71,
   "metadata": {},
   "outputs": [
    {
     "data": {
      "text/plain": [
       "Counter({0: 44946, 1: 73})"
      ]
     },
     "execution_count": 71,
     "metadata": {},
     "output_type": "execute_result"
    }
   ],
   "source": [
    "ee_opt = grdsrch.best_estimator_\n",
    "X_tst = df_value[df_trn.shape[0] : ]\n",
    "y_pred = ee_opt.predict(X_tst)\n",
    "y_pred = [ 1 if x == -1 else 0 for x in y_pred ]\n",
    "Counter(y_pred)"
   ]
  },
  {
   "cell_type": "markdown",
   "metadata": {},
   "source": [
    "**Submission**"
   ]
  },
  {
   "cell_type": "code",
   "execution_count": 56,
   "metadata": {},
   "outputs": [],
   "source": [
    "df_sbm = pd.read_csv('../data/sample_submission.csv')\n",
    "df_sbm['FraudResult'] = y_pred\n",
    "df_sbm.to_csv('../submitted/AlBo0720_EE_Value.csv', encoding='utf-8', index=False)"
   ]
  },
  {
   "cell_type": "markdown",
   "metadata": {},
   "source": [
    "**Result:** `0.0`"
   ]
  },
  {
   "cell_type": "code",
   "execution_count": null,
   "metadata": {},
   "outputs": [],
   "source": []
  },
  {
   "cell_type": "markdown",
   "metadata": {},
   "source": [
    "### Dummy submitted"
   ]
  },
  {
   "cell_type": "code",
   "execution_count": 73,
   "metadata": {},
   "outputs": [],
   "source": [
    "df_tst = pd.read_csv('../data/test_le.csv')"
   ]
  },
  {
   "cell_type": "code",
   "execution_count": 77,
   "metadata": {},
   "outputs": [],
   "source": [
    "columns4drop = [\n",
    "    'BatchId',\n",
    "    'SubscriptionId',\n",
    "    'CustomerId',\n",
    "    'AccountId',\n",
    "    'ProviderId',\n",
    "    'ProductId',\n",
    "    'ProductCategory',\n",
    "    'ChannelId',\n",
    "    'Amount',\n",
    "    'TransactionStartTime',\n",
    "    'PricingStrategy',\n",
    "]"
   ]
  },
  {
   "cell_type": "code",
   "execution_count": 78,
   "metadata": {},
   "outputs": [],
   "source": [
    "df_tst_cut = df_tst.drop(columns=columns4drop, axis=1)"
   ]
  },
  {
   "cell_type": "code",
   "execution_count": 79,
   "metadata": {},
   "outputs": [
    {
     "data": {
      "text/html": [
       "<div>\n",
       "<style scoped>\n",
       "    .dataframe tbody tr th:only-of-type {\n",
       "        vertical-align: middle;\n",
       "    }\n",
       "\n",
       "    .dataframe tbody tr th {\n",
       "        vertical-align: top;\n",
       "    }\n",
       "\n",
       "    .dataframe thead th {\n",
       "        text-align: right;\n",
       "    }\n",
       "</style>\n",
       "<table border=\"1\" class=\"dataframe\">\n",
       "  <thead>\n",
       "    <tr style=\"text-align: right;\">\n",
       "      <th></th>\n",
       "      <th>Value</th>\n",
       "    </tr>\n",
       "  </thead>\n",
       "  <tbody>\n",
       "    <tr>\n",
       "      <th>0</th>\n",
       "      <td>1000</td>\n",
       "    </tr>\n",
       "    <tr>\n",
       "      <th>1</th>\n",
       "      <td>2000</td>\n",
       "    </tr>\n",
       "    <tr>\n",
       "      <th>2</th>\n",
       "      <td>50</td>\n",
       "    </tr>\n",
       "    <tr>\n",
       "      <th>3</th>\n",
       "      <td>3000</td>\n",
       "    </tr>\n",
       "    <tr>\n",
       "      <th>4</th>\n",
       "      <td>60</td>\n",
       "    </tr>\n",
       "  </tbody>\n",
       "</table>\n",
       "</div>"
      ],
      "text/plain": [
       "   Value\n",
       "0   1000\n",
       "1   2000\n",
       "2     50\n",
       "3   3000\n",
       "4     60"
      ]
     },
     "execution_count": 79,
     "metadata": {},
     "output_type": "execute_result"
    }
   ],
   "source": [
    "df_tst_cut.head()"
   ]
  },
  {
   "cell_type": "code",
   "execution_count": 81,
   "metadata": {},
   "outputs": [
    {
     "data": {
      "text/plain": [
       "Counter({0: 44964, 1: 55})"
      ]
     },
     "execution_count": 81,
     "metadata": {},
     "output_type": "execute_result"
    }
   ],
   "source": [
    "X_tst = df_tst_cut\n",
    "y_pred = EllipticEnvelope(contamination=outliers_fraction).fit(X_tst).predict(X_tst)\n",
    "y_pred = [ 1 if x == -1 else 0 for x in y_pred ]\n",
    "Counter(y_pred)"
   ]
  },
  {
   "cell_type": "code",
   "execution_count": 82,
   "metadata": {},
   "outputs": [],
   "source": [
    "df_sbm = pd.read_csv('../data/sample_submission.csv')\n",
    "df_sbm['FraudResult'] = y_pred\n",
    "df_sbm.to_csv('../submitted/AlBo0720_EE_Value.csv', encoding='utf-8', index=False)"
   ]
  },
  {
   "cell_type": "markdown",
   "metadata": {},
   "source": [
    "**Result:** `0.581818181818182`"
   ]
  },
  {
   "cell_type": "markdown",
   "metadata": {},
   "source": [
    "max-abs scaler"
   ]
  },
  {
   "cell_type": "code",
   "execution_count": 83,
   "metadata": {},
   "outputs": [],
   "source": [
    "df_tst_cut_max = scaleColumns(df_tst_cut, ['Value'], MaxAbsScaler())"
   ]
  },
  {
   "cell_type": "code",
   "execution_count": 84,
   "metadata": {},
   "outputs": [
    {
     "data": {
      "text/html": [
       "<div>\n",
       "<style scoped>\n",
       "    .dataframe tbody tr th:only-of-type {\n",
       "        vertical-align: middle;\n",
       "    }\n",
       "\n",
       "    .dataframe tbody tr th {\n",
       "        vertical-align: top;\n",
       "    }\n",
       "\n",
       "    .dataframe thead th {\n",
       "        text-align: right;\n",
       "    }\n",
       "</style>\n",
       "<table border=\"1\" class=\"dataframe\">\n",
       "  <thead>\n",
       "    <tr style=\"text-align: right;\">\n",
       "      <th></th>\n",
       "      <th>Value</th>\n",
       "    </tr>\n",
       "  </thead>\n",
       "  <tbody>\n",
       "    <tr>\n",
       "      <th>0</th>\n",
       "      <td>0.000105</td>\n",
       "    </tr>\n",
       "    <tr>\n",
       "      <th>1</th>\n",
       "      <td>0.000211</td>\n",
       "    </tr>\n",
       "    <tr>\n",
       "      <th>2</th>\n",
       "      <td>0.000005</td>\n",
       "    </tr>\n",
       "    <tr>\n",
       "      <th>3</th>\n",
       "      <td>0.000316</td>\n",
       "    </tr>\n",
       "    <tr>\n",
       "      <th>4</th>\n",
       "      <td>0.000006</td>\n",
       "    </tr>\n",
       "  </tbody>\n",
       "</table>\n",
       "</div>"
      ],
      "text/plain": [
       "      Value\n",
       "0  0.000105\n",
       "1  0.000211\n",
       "2  0.000005\n",
       "3  0.000316\n",
       "4  0.000006"
      ]
     },
     "execution_count": 84,
     "metadata": {},
     "output_type": "execute_result"
    }
   ],
   "source": [
    "df_tst_cut_max.head()"
   ]
  },
  {
   "cell_type": "code",
   "execution_count": 86,
   "metadata": {},
   "outputs": [
    {
     "data": {
      "text/plain": [
       "Counter({0: 44925, 1: 94})"
      ]
     },
     "execution_count": 86,
     "metadata": {},
     "output_type": "execute_result"
    }
   ],
   "source": [
    "X_tst = df_tst_cut_max\n",
    "y_pred = EllipticEnvelope(contamination=0.00201, support_fraction=0.79).fit(X_tst).predict(X_tst)\n",
    "y_pred = [ 1 if x == -1 else 0 for x in y_pred ]\n",
    "Counter(y_pred)"
   ]
  },
  {
   "cell_type": "code",
   "execution_count": 87,
   "metadata": {},
   "outputs": [],
   "source": [
    "df_sbm = pd.read_csv('../data/sample_submission.csv')\n",
    "df_sbm['FraudResult'] = y_pred\n",
    "df_sbm.to_csv('../submitted/AlBo0720_EE_Value.csv', encoding='utf-8', index=False)"
   ]
  },
  {
   "cell_type": "markdown",
   "metadata": {},
   "source": [
    "**Result:** `0.684931506849315`"
   ]
  },
  {
   "cell_type": "code",
   "execution_count": null,
   "metadata": {},
   "outputs": [],
   "source": []
  }
 ],
 "metadata": {
  "kernelspec": {
   "display_name": "Python 3",
   "language": "python",
   "name": "python3"
  },
  "language_info": {
   "codemirror_mode": {
    "name": "ipython",
    "version": 3
   },
   "file_extension": ".py",
   "mimetype": "text/x-python",
   "name": "python",
   "nbconvert_exporter": "python",
   "pygments_lexer": "ipython3",
   "version": "3.7.1"
  }
 },
 "nbformat": 4,
 "nbformat_minor": 2
}
