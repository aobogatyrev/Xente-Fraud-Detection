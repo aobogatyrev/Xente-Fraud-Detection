{
 "cells": [
  {
   "cell_type": "markdown",
   "metadata": {},
   "source": [
    "# Тьюнинг EllipticEnvelope"
   ]
  },
  {
   "cell_type": "code",
   "execution_count": 1,
   "metadata": {},
   "outputs": [],
   "source": [
    "import numpy  as np\n",
    "import pandas as pd"
   ]
  },
  {
   "cell_type": "code",
   "execution_count": 2,
   "metadata": {},
   "outputs": [],
   "source": [
    "df_trn = pd.read_csv('../data/training_le.csv')\n",
    "df_tst = pd.read_csv('../data/test_le.csv')\n",
    "df_sbm = pd.read_csv('../data/sample_submission.csv')"
   ]
  },
  {
   "cell_type": "code",
   "execution_count": 3,
   "metadata": {},
   "outputs": [],
   "source": [
    "X_trn = df_trn.drop(columns=['FraudResult'], axis=1)\n",
    "y_trn = df_trn['FraudResult']\n",
    "\n",
    "X_tst = df_tst"
   ]
  },
  {
   "cell_type": "code",
   "execution_count": 4,
   "metadata": {},
   "outputs": [
    {
     "name": "stdout",
     "output_type": "stream",
     "text": [
      "Train Label Distribution: Counter({0: 95469, 1: 193})\n"
     ]
    }
   ],
   "source": [
    "from collections import Counter\n",
    "print('Train Label Distribution: {}'.format(Counter(y_trn)))"
   ]
  },
  {
   "cell_type": "code",
   "execution_count": 5,
   "metadata": {},
   "outputs": [
    {
     "name": "stdout",
     "output_type": "stream",
     "text": [
      "Train outliers fraction: 0.002\n"
     ]
    }
   ],
   "source": [
    "num_transactions = y_trn.shape[0]\n",
    "num_otliers = y_trn.value_counts()[1]\n",
    "num_inliers = y_trn.value_counts()[0]\n",
    "outliers_fraction = num_otliers / num_transactions\n",
    "print('Train outliers fraction:', round(outliers_fraction, 3))"
   ]
  },
  {
   "cell_type": "code",
   "execution_count": 6,
   "metadata": {},
   "outputs": [
    {
     "data": {
      "text/plain": [
       "(140681, 12)"
      ]
     },
     "execution_count": 6,
     "metadata": {},
     "output_type": "execute_result"
    }
   ],
   "source": [
    "frames = [X_trn, X_tst]\n",
    "X_uni = pd.concat(frames)\n",
    "X_uni.shape"
   ]
  },
  {
   "cell_type": "code",
   "execution_count": 7,
   "metadata": {},
   "outputs": [],
   "source": [
    "from sklearn.covariance import EllipticEnvelope"
   ]
  },
  {
   "cell_type": "code",
   "execution_count": 8,
   "metadata": {},
   "outputs": [],
   "source": [
    "from sklearn.metrics import confusion_matrix\n",
    "from sklearn.metrics import precision_score\n",
    "from sklearn.metrics import recall_score\n",
    "from sklearn.metrics import f1_score"
   ]
  },
  {
   "cell_type": "code",
   "execution_count": 9,
   "metadata": {},
   "outputs": [],
   "source": [
    "def running_EE(X, y_eta_trn):\n",
    "    print(' '*37, 'Confusion-Matrix')\n",
    "    print('Algorithm', ' '*30, 'TN       FP')\n",
    "    print(' '*17, 'Frd_tst  Frd_trn       FN       TP     Precision  Recall     F1-score')\n",
    "    print('='*100)    \n",
    "\n",
    "    algorithm = EllipticEnvelope(contamination=outliers_fraction)\n",
    "    y_pred = algorithm.fit(X).predict(X)\n",
    "\n",
    "    y_pred = [ 1 if x == -1 else 0 for x in y_pred ]\n",
    "    y_pred_trn = y_pred[ : len(y_trn)]\n",
    "    y_pred_tst = y_pred[len(y_trn) : ]\n",
    "\n",
    "    n_frauds_trn      = Counter(y_pred_trn)[1]\n",
    "    n_frauds_tst      = Counter(y_pred_tst)[1]\n",
    "    tn, fp, fn, tp    = confusion_matrix(y_eta_trn, y_pred_trn).ravel()\n",
    "    precision         = precision_score(y_eta_trn, y_pred_trn)\n",
    "    recall            = recall_score(y_eta_trn, y_pred_trn)\n",
    "    f1                = f1_score(y_eta_trn, y_pred_trn)\n",
    "\n",
    "    print('%s %8i %8i' % (' '*34, tn, fp))\n",
    "    print('%s %8i %8i %8i %8i %10.4f %10.4f %10.4f' % \n",
    "          ('EE    '+' '*10, n_frauds_tst, n_frauds_trn, fn, tp, precision, recall, f1))\n",
    "        \n",
    "    print('-'*100)"
   ]
  },
  {
   "cell_type": "markdown",
   "metadata": {},
   "source": [
    "### `Amount`"
   ]
  },
  {
   "cell_type": "code",
   "execution_count": 10,
   "metadata": {},
   "outputs": [
    {
     "data": {
      "text/html": [
       "<div>\n",
       "<style scoped>\n",
       "    .dataframe tbody tr th:only-of-type {\n",
       "        vertical-align: middle;\n",
       "    }\n",
       "\n",
       "    .dataframe tbody tr th {\n",
       "        vertical-align: top;\n",
       "    }\n",
       "\n",
       "    .dataframe thead th {\n",
       "        text-align: right;\n",
       "    }\n",
       "</style>\n",
       "<table border=\"1\" class=\"dataframe\">\n",
       "  <thead>\n",
       "    <tr style=\"text-align: right;\">\n",
       "      <th></th>\n",
       "      <th>BatchId</th>\n",
       "      <th>AccountId</th>\n",
       "      <th>SubscriptionId</th>\n",
       "      <th>CustomerId</th>\n",
       "      <th>ProviderId</th>\n",
       "      <th>ProductId</th>\n",
       "      <th>ProductCategory</th>\n",
       "      <th>ChannelId</th>\n",
       "      <th>Amount</th>\n",
       "      <th>Value</th>\n",
       "      <th>TransactionStartTime</th>\n",
       "      <th>PricingStrategy</th>\n",
       "    </tr>\n",
       "  </thead>\n",
       "  <tbody>\n",
       "    <tr>\n",
       "      <th>0</th>\n",
       "      <td>36122</td>\n",
       "      <td>3956</td>\n",
       "      <td>886</td>\n",
       "      <td>4405</td>\n",
       "      <td>5</td>\n",
       "      <td>9</td>\n",
       "      <td>0</td>\n",
       "      <td>2</td>\n",
       "      <td>1000.0</td>\n",
       "      <td>1000</td>\n",
       "      <td>2018-11-15 02:18:49</td>\n",
       "      <td>2</td>\n",
       "    </tr>\n",
       "    <tr>\n",
       "      <th>1</th>\n",
       "      <td>15641</td>\n",
       "      <td>4840</td>\n",
       "      <td>3828</td>\n",
       "      <td>4405</td>\n",
       "      <td>3</td>\n",
       "      <td>5</td>\n",
       "      <td>2</td>\n",
       "      <td>1</td>\n",
       "      <td>-20.0</td>\n",
       "      <td>20</td>\n",
       "      <td>2018-11-15 02:19:08</td>\n",
       "      <td>2</td>\n",
       "    </tr>\n",
       "    <tr>\n",
       "      <th>2</th>\n",
       "      <td>53940</td>\n",
       "      <td>4228</td>\n",
       "      <td>221</td>\n",
       "      <td>4682</td>\n",
       "      <td>5</td>\n",
       "      <td>0</td>\n",
       "      <td>0</td>\n",
       "      <td>2</td>\n",
       "      <td>500.0</td>\n",
       "      <td>500</td>\n",
       "      <td>2018-11-15 02:44:21</td>\n",
       "      <td>2</td>\n",
       "    </tr>\n",
       "    <tr>\n",
       "      <th>3</th>\n",
       "      <td>102362</td>\n",
       "      <td>647</td>\n",
       "      <td>2184</td>\n",
       "      <td>987</td>\n",
       "      <td>0</td>\n",
       "      <td>20</td>\n",
       "      <td>9</td>\n",
       "      <td>2</td>\n",
       "      <td>20000.0</td>\n",
       "      <td>21800</td>\n",
       "      <td>2018-11-15 03:32:55</td>\n",
       "      <td>2</td>\n",
       "    </tr>\n",
       "    <tr>\n",
       "      <th>4</th>\n",
       "      <td>38779</td>\n",
       "      <td>4840</td>\n",
       "      <td>3828</td>\n",
       "      <td>987</td>\n",
       "      <td>3</td>\n",
       "      <td>5</td>\n",
       "      <td>2</td>\n",
       "      <td>1</td>\n",
       "      <td>-644.0</td>\n",
       "      <td>644</td>\n",
       "      <td>2018-11-15 03:34:21</td>\n",
       "      <td>2</td>\n",
       "    </tr>\n",
       "  </tbody>\n",
       "</table>\n",
       "</div>"
      ],
      "text/plain": [
       "   BatchId  AccountId  SubscriptionId  CustomerId  ProviderId  ProductId  \\\n",
       "0    36122       3956             886        4405           5          9   \n",
       "1    15641       4840            3828        4405           3          5   \n",
       "2    53940       4228             221        4682           5          0   \n",
       "3   102362        647            2184         987           0         20   \n",
       "4    38779       4840            3828         987           3          5   \n",
       "\n",
       "   ProductCategory  ChannelId   Amount  Value TransactionStartTime  \\\n",
       "0                0          2   1000.0   1000  2018-11-15 02:18:49   \n",
       "1                2          1    -20.0     20  2018-11-15 02:19:08   \n",
       "2                0          2    500.0    500  2018-11-15 02:44:21   \n",
       "3                9          2  20000.0  21800  2018-11-15 03:32:55   \n",
       "4                2          1   -644.0    644  2018-11-15 03:34:21   \n",
       "\n",
       "   PricingStrategy  \n",
       "0                2  \n",
       "1                2  \n",
       "2                2  \n",
       "3                2  \n",
       "4                2  "
      ]
     },
     "execution_count": 10,
     "metadata": {},
     "output_type": "execute_result"
    }
   ],
   "source": [
    "X_trn.head()"
   ]
  },
  {
   "cell_type": "code",
   "execution_count": 11,
   "metadata": {},
   "outputs": [
    {
     "data": {
      "text/html": [
       "<div>\n",
       "<style scoped>\n",
       "    .dataframe tbody tr th:only-of-type {\n",
       "        vertical-align: middle;\n",
       "    }\n",
       "\n",
       "    .dataframe tbody tr th {\n",
       "        vertical-align: top;\n",
       "    }\n",
       "\n",
       "    .dataframe thead th {\n",
       "        text-align: right;\n",
       "    }\n",
       "</style>\n",
       "<table border=\"1\" class=\"dataframe\">\n",
       "  <thead>\n",
       "    <tr style=\"text-align: right;\">\n",
       "      <th></th>\n",
       "      <th>Amount</th>\n",
       "    </tr>\n",
       "  </thead>\n",
       "  <tbody>\n",
       "    <tr>\n",
       "      <th>0</th>\n",
       "      <td>1000.0</td>\n",
       "    </tr>\n",
       "    <tr>\n",
       "      <th>1</th>\n",
       "      <td>-20.0</td>\n",
       "    </tr>\n",
       "    <tr>\n",
       "      <th>2</th>\n",
       "      <td>500.0</td>\n",
       "    </tr>\n",
       "    <tr>\n",
       "      <th>3</th>\n",
       "      <td>20000.0</td>\n",
       "    </tr>\n",
       "    <tr>\n",
       "      <th>4</th>\n",
       "      <td>-644.0</td>\n",
       "    </tr>\n",
       "  </tbody>\n",
       "</table>\n",
       "</div>"
      ],
      "text/plain": [
       "    Amount\n",
       "0   1000.0\n",
       "1    -20.0\n",
       "2    500.0\n",
       "3  20000.0\n",
       "4   -644.0"
      ]
     },
     "execution_count": 11,
     "metadata": {},
     "output_type": "execute_result"
    }
   ],
   "source": [
    "columns4drop = [\n",
    "    'BatchId',\n",
    "    'AccountId',\n",
    "    'SubscriptionId',\n",
    "    'CustomerId',\n",
    "    'ProviderId',\n",
    "    'ProductId',\n",
    "    'ProductCategory',\n",
    "    'ChannelId',\n",
    "    'Value',\n",
    "    'TransactionStartTime',\n",
    "    'PricingStrategy'\n",
    "]\n",
    "X_amount = X_trn.drop(columns=columns4drop, axis=1)\n",
    "X_amount.head()"
   ]
  },
  {
   "cell_type": "code",
   "execution_count": 12,
   "metadata": {},
   "outputs": [
    {
     "name": "stdout",
     "output_type": "stream",
     "text": [
      "f1-score=0.81132\n"
     ]
    }
   ],
   "source": [
    "algorithm = EllipticEnvelope(contamination=outliers_fraction)\n",
    "y_pred = algorithm.fit(X_amount).predict(X_amount)\n",
    "y_pred = [ 1 if x == -1 else 0 for x in y_pred ]\n",
    "print('f1-score=%.5f' % f1_score(y_trn, y_pred))"
   ]
  },
  {
   "cell_type": "markdown",
   "metadata": {},
   "source": [
    "### `Value`"
   ]
  },
  {
   "cell_type": "code",
   "execution_count": 13,
   "metadata": {},
   "outputs": [
    {
     "data": {
      "text/html": [
       "<div>\n",
       "<style scoped>\n",
       "    .dataframe tbody tr th:only-of-type {\n",
       "        vertical-align: middle;\n",
       "    }\n",
       "\n",
       "    .dataframe tbody tr th {\n",
       "        vertical-align: top;\n",
       "    }\n",
       "\n",
       "    .dataframe thead th {\n",
       "        text-align: right;\n",
       "    }\n",
       "</style>\n",
       "<table border=\"1\" class=\"dataframe\">\n",
       "  <thead>\n",
       "    <tr style=\"text-align: right;\">\n",
       "      <th></th>\n",
       "      <th>Value</th>\n",
       "    </tr>\n",
       "  </thead>\n",
       "  <tbody>\n",
       "    <tr>\n",
       "      <th>0</th>\n",
       "      <td>1000</td>\n",
       "    </tr>\n",
       "    <tr>\n",
       "      <th>1</th>\n",
       "      <td>20</td>\n",
       "    </tr>\n",
       "    <tr>\n",
       "      <th>2</th>\n",
       "      <td>500</td>\n",
       "    </tr>\n",
       "    <tr>\n",
       "      <th>3</th>\n",
       "      <td>21800</td>\n",
       "    </tr>\n",
       "    <tr>\n",
       "      <th>4</th>\n",
       "      <td>644</td>\n",
       "    </tr>\n",
       "  </tbody>\n",
       "</table>\n",
       "</div>"
      ],
      "text/plain": [
       "   Value\n",
       "0   1000\n",
       "1     20\n",
       "2    500\n",
       "3  21800\n",
       "4    644"
      ]
     },
     "execution_count": 13,
     "metadata": {},
     "output_type": "execute_result"
    }
   ],
   "source": [
    "columns4drop = [\n",
    "    'BatchId',\n",
    "    'AccountId',\n",
    "    'SubscriptionId',\n",
    "    'CustomerId',\n",
    "    'ProviderId',\n",
    "    'ProductId',\n",
    "    'ProductCategory',\n",
    "    'ChannelId',\n",
    "    'Amount',\n",
    "    'TransactionStartTime',\n",
    "    'PricingStrategy'\n",
    "]\n",
    "X_value = X_trn.drop(columns=columns4drop, axis=1)\n",
    "X_value.head()"
   ]
  },
  {
   "cell_type": "code",
   "execution_count": 14,
   "metadata": {},
   "outputs": [
    {
     "name": "stdout",
     "output_type": "stream",
     "text": [
      "f1-score=0.65775\n"
     ]
    }
   ],
   "source": [
    "algorithm = EllipticEnvelope(contamination=outliers_fraction)\n",
    "y_pred = algorithm.fit(X_value).predict(X_value)\n",
    "y_pred = [ 1 if x == -1 else 0 for x in y_pred ]\n",
    "print('f1-score=%.5f' % f1_score(y_trn, y_pred))"
   ]
  },
  {
   "cell_type": "markdown",
   "metadata": {},
   "source": [
    "### `Amount` and `Value`"
   ]
  },
  {
   "cell_type": "code",
   "execution_count": 15,
   "metadata": {},
   "outputs": [
    {
     "data": {
      "text/html": [
       "<div>\n",
       "<style scoped>\n",
       "    .dataframe tbody tr th:only-of-type {\n",
       "        vertical-align: middle;\n",
       "    }\n",
       "\n",
       "    .dataframe tbody tr th {\n",
       "        vertical-align: top;\n",
       "    }\n",
       "\n",
       "    .dataframe thead th {\n",
       "        text-align: right;\n",
       "    }\n",
       "</style>\n",
       "<table border=\"1\" class=\"dataframe\">\n",
       "  <thead>\n",
       "    <tr style=\"text-align: right;\">\n",
       "      <th></th>\n",
       "      <th>Amount</th>\n",
       "      <th>Value</th>\n",
       "    </tr>\n",
       "  </thead>\n",
       "  <tbody>\n",
       "    <tr>\n",
       "      <th>0</th>\n",
       "      <td>1000.0</td>\n",
       "      <td>1000</td>\n",
       "    </tr>\n",
       "    <tr>\n",
       "      <th>1</th>\n",
       "      <td>-20.0</td>\n",
       "      <td>20</td>\n",
       "    </tr>\n",
       "    <tr>\n",
       "      <th>2</th>\n",
       "      <td>500.0</td>\n",
       "      <td>500</td>\n",
       "    </tr>\n",
       "    <tr>\n",
       "      <th>3</th>\n",
       "      <td>20000.0</td>\n",
       "      <td>21800</td>\n",
       "    </tr>\n",
       "    <tr>\n",
       "      <th>4</th>\n",
       "      <td>-644.0</td>\n",
       "      <td>644</td>\n",
       "    </tr>\n",
       "  </tbody>\n",
       "</table>\n",
       "</div>"
      ],
      "text/plain": [
       "    Amount  Value\n",
       "0   1000.0   1000\n",
       "1    -20.0     20\n",
       "2    500.0    500\n",
       "3  20000.0  21800\n",
       "4   -644.0    644"
      ]
     },
     "execution_count": 15,
     "metadata": {},
     "output_type": "execute_result"
    }
   ],
   "source": [
    "columns4drop = [\n",
    "    'BatchId',\n",
    "    'AccountId',\n",
    "    'SubscriptionId',\n",
    "    'CustomerId',\n",
    "    'ProviderId',\n",
    "    'ProductId',\n",
    "    'ProductCategory',\n",
    "    'ChannelId',\n",
    "    'TransactionStartTime',\n",
    "    'PricingStrategy'\n",
    "]\n",
    "X_am_val = X_trn.drop(columns=columns4drop, axis=1)\n",
    "X_am_val.head()"
   ]
  },
  {
   "cell_type": "code",
   "execution_count": 16,
   "metadata": {},
   "outputs": [
    {
     "name": "stdout",
     "output_type": "stream",
     "text": [
      "f1-score=0.31755\n"
     ]
    }
   ],
   "source": [
    "algorithm = EllipticEnvelope(contamination=outliers_fraction)\n",
    "y_pred = algorithm.fit(X_am_val).predict(X_am_val)\n",
    "y_pred = [ 1 if x == -1 else 0 for x in y_pred ]\n",
    "print('f1-score=%.5f' % f1_score(y_trn, y_pred))"
   ]
  },
  {
   "cell_type": "markdown",
   "metadata": {},
   "source": [
    "### `Amount` scalers"
   ]
  },
  {
   "cell_type": "code",
   "execution_count": 17,
   "metadata": {},
   "outputs": [],
   "source": [
    "from sklearn.preprocessing import MinMaxScaler\n",
    "from sklearn.preprocessing import minmax_scale\n",
    "from sklearn.preprocessing import MaxAbsScaler\n",
    "from sklearn.preprocessing import StandardScaler\n",
    "from sklearn.preprocessing import RobustScaler\n",
    "from sklearn.preprocessing import Normalizer\n",
    "from sklearn.preprocessing import QuantileTransformer\n",
    "from sklearn.preprocessing import PowerTransformer"
   ]
  },
  {
   "cell_type": "code",
   "execution_count": 18,
   "metadata": {},
   "outputs": [],
   "source": [
    "def running_EE_scaler(name, X, y_eta_trn):\n",
    "    algorithm = EllipticEnvelope(contamination=outliers_fraction, support_fraction=1.0)\n",
    "    y_pred = algorithm.fit(X).predict(X)\n",
    "\n",
    "    y_pred = [ 1 if x == -1 else 0 for x in y_pred ]\n",
    "    y_pred_trn = y_pred[ : len(y_trn)]\n",
    "    y_pred_tst = y_pred[len(y_trn) : ]\n",
    "\n",
    "    n_frauds_trn      = Counter(y_pred_trn)[1]\n",
    "    n_frauds_tst      = Counter(y_pred_tst)[1]\n",
    "    tn, fp, fn, tp    = confusion_matrix(y_eta_trn, y_pred_trn).ravel()\n",
    "    precision         = precision_score(y_eta_trn, y_pred_trn)\n",
    "    recall            = recall_score(y_eta_trn, y_pred_trn)\n",
    "    f1                = f1_score(y_eta_trn, y_pred_trn)\n",
    "\n",
    "    print('%s %8i %8i' % (' '*56, tn, fp))\n",
    "    print('%s %8i %8i %8i %8i %10.4f %10.4f %10.4f' % \n",
    "          (name, n_frauds_tst, n_frauds_trn, fn, tp, precision, recall, f1))"
   ]
  },
  {
   "cell_type": "code",
   "execution_count": 19,
   "metadata": {},
   "outputs": [
    {
     "name": "stdout",
     "output_type": "stream",
     "text": [
      "                                                            Confusion-Matrix\n",
      "Scaler                                                         TN       FP\n",
      "                                        Frd_tst  Frd_trn       FN       TP     Precision  Recall     F1-score\n",
      "==============================================================================================================\n",
      "                                                            95411       58\n",
      "Unscaled data                                 0      180       71      122     0.6778     0.6321     0.6542\n",
      "                                                            95411       58\n",
      "Standard scaling                              0      180       71      122     0.6778     0.6321     0.6542\n",
      "                                                            95411       58\n",
      "Min-max scaling                               0      180       71      122     0.6778     0.6321     0.6542\n",
      "                                                            95410       59\n",
      "Max-abs scaling                               0      231       21      172     0.7446     0.8912     0.8113\n",
      "                                                            95411       58\n",
      "Robust scaling (without params)               0      180       71      122     0.6778     0.6321     0.6542\n",
      "                                                            95411       58\n",
      "Robust scaling (quantile=(25, 75))            0      180       71      122     0.6778     0.6321     0.6542\n",
      "                                                            95352      117\n",
      "Power transformation (Yeo-Johnson)            0      192      118       75     0.3906     0.3886     0.3896\n",
      "                                                            95352      117\n",
      "Quantile transformation (gaussian pdf)        0      184      126       67     0.3641     0.3472     0.3554\n",
      "                                                            95364      105\n",
      "Quantile transformation (uniform pdf)         0      167      131       62     0.3713     0.3212     0.3444\n",
      "--------------------------------------------------------------------------------------------------------------\n"
     ]
    }
   ],
   "source": [
    "print(' '*59, 'Confusion-Matrix')\n",
    "print('Scaler', ' '*55, 'TN       FP')\n",
    "print(' '*39, 'Frd_tst  Frd_trn       FN       TP     Precision  Recall     F1-score')\n",
    "print('='*110)    \n",
    "\n",
    "X = X_amount\n",
    "running_EE_scaler('Unscaled data                         ', X, y_trn)\n",
    "running_EE_scaler('Standard scaling                      ', StandardScaler().fit_transform(X), y_trn)\n",
    "running_EE_scaler('Min-max scaling                       ', MinMaxScaler().fit_transform(X), y_trn)\n",
    "running_EE_scaler('Max-abs scaling                       ', MaxAbsScaler().fit_transform(X), y_trn)\n",
    "running_EE_scaler('Robust scaling (without params)       ', RobustScaler().fit_transform(X), y_trn)\n",
    "running_EE_scaler('Robust scaling (quantile=(25, 75))    ', RobustScaler(quantile_range=(25, 75)).fit_transform(X), y_trn)\n",
    "running_EE_scaler('Power transformation (Yeo-Johnson)    ', PowerTransformer(method='yeo-johnson').fit_transform(X), y_trn)\n",
    "# running_EE_scaler('Power transformation (Box-Cox)        ', PowerTransformer(method='box-cox').fit_transform(X), y_trn)\n",
    "running_EE_scaler('Quantile transformation (gaussian pdf)', QuantileTransformer(output_distribution='normal').fit_transform(X), y_trn)\n",
    "running_EE_scaler('Quantile transformation (uniform pdf) ', QuantileTransformer(output_distribution='uniform').fit_transform(X), y_trn)\n",
    "# running_EE_scaler('Sample-wise L2 normalizing            ', Normalizer().fit_transform(X), y_trn)\n",
    "\n",
    "print('-'*110)"
   ]
  },
  {
   "cell_type": "markdown",
   "metadata": {},
   "source": [
    "### `Amount` and `ProviderId`"
   ]
  },
  {
   "cell_type": "code",
   "execution_count": 20,
   "metadata": {},
   "outputs": [
    {
     "name": "stdout",
     "output_type": "stream",
     "text": [
      "   ProviderId   Amount\n",
      "0           5   1000.0\n",
      "1           3    -20.0\n",
      "2           5    500.0\n",
      "3           0  20000.0\n",
      "4           3   -644.0\n",
      "f1-score=0.64324\n"
     ]
    }
   ],
   "source": [
    "columns4drop = [\n",
    "    'BatchId',\n",
    "    'AccountId',\n",
    "    'SubscriptionId',\n",
    "    'CustomerId',\n",
    "#     'ProviderId',\n",
    "    'ProductId',\n",
    "    'ProductCategory',\n",
    "    'ChannelId',\n",
    "#     'Amount',\n",
    "    'Value',\n",
    "    'TransactionStartTime',\n",
    "    'PricingStrategy'\n",
    "]\n",
    "X = X_trn.drop(columns=columns4drop, axis=1)\n",
    "print(X[:5])\n",
    "\n",
    "algorithm = EllipticEnvelope(contamination=outliers_fraction)\n",
    "y_pred = algorithm.fit(X).predict(X)\n",
    "y_pred = [ 1 if x == -1 else 0 for x in y_pred ]\n",
    "print('f1-score=%.5f' % f1_score(y_trn, y_pred))"
   ]
  },
  {
   "cell_type": "markdown",
   "metadata": {},
   "source": [
    "### `Amount` and `ProductId`"
   ]
  },
  {
   "cell_type": "code",
   "execution_count": 21,
   "metadata": {},
   "outputs": [
    {
     "name": "stdout",
     "output_type": "stream",
     "text": [
      "   ProductId   Amount\n",
      "0          9   1000.0\n",
      "1          5    -20.0\n",
      "2          0    500.0\n",
      "3         20  20000.0\n",
      "4          5   -644.0\n",
      "f1-score=0.65775\n"
     ]
    }
   ],
   "source": [
    "columns4drop = [\n",
    "    'BatchId',\n",
    "    'AccountId',\n",
    "    'SubscriptionId',\n",
    "    'CustomerId',\n",
    "    'ProviderId',\n",
    "#     'ProductId',\n",
    "    'ProductCategory',\n",
    "    'ChannelId',\n",
    "#     'Amount',\n",
    "    'Value',\n",
    "    'TransactionStartTime',\n",
    "    'PricingStrategy'\n",
    "]\n",
    "X = X_trn.drop(columns=columns4drop, axis=1)\n",
    "print(X[:5])\n",
    "\n",
    "algorithm = EllipticEnvelope(contamination=outliers_fraction)\n",
    "y_pred = algorithm.fit(X).predict(X)\n",
    "y_pred = [ 1 if x == -1 else 0 for x in y_pred ]\n",
    "print('f1-score=%.5f' % f1_score(y_trn, y_pred))"
   ]
  },
  {
   "cell_type": "markdown",
   "metadata": {},
   "source": [
    "### `Amount` and `ProductCategory`"
   ]
  },
  {
   "cell_type": "code",
   "execution_count": 22,
   "metadata": {},
   "outputs": [
    {
     "name": "stdout",
     "output_type": "stream",
     "text": [
      "   ProductCategory   Amount\n",
      "0                0   1000.0\n",
      "1                2    -20.0\n",
      "2                0    500.0\n",
      "3                9  20000.0\n",
      "4                2   -644.0\n",
      "f1-score=0.78554\n"
     ]
    }
   ],
   "source": [
    "columns4drop = [\n",
    "    'BatchId',\n",
    "    'AccountId',\n",
    "    'SubscriptionId',\n",
    "    'CustomerId',\n",
    "    'ProviderId',\n",
    "    'ProductId',\n",
    "#     'ProductCategory',\n",
    "    'ChannelId',\n",
    "#     'Amount',\n",
    "    'Value',\n",
    "    'TransactionStartTime',\n",
    "    'PricingStrategy'\n",
    "]\n",
    "X = X_trn.drop(columns=columns4drop, axis=1)\n",
    "print(X[:5])\n",
    "\n",
    "algorithm = EllipticEnvelope(contamination=outliers_fraction)\n",
    "y_pred = algorithm.fit(X).predict(X)\n",
    "y_pred = [ 1 if x == -1 else 0 for x in y_pred ]\n",
    "print('f1-score=%.5f' % f1_score(y_trn, y_pred))"
   ]
  },
  {
   "cell_type": "markdown",
   "metadata": {},
   "source": [
    "### `Amount` and `ChannelId`"
   ]
  },
  {
   "cell_type": "code",
   "execution_count": 23,
   "metadata": {},
   "outputs": [
    {
     "name": "stdout",
     "output_type": "stream",
     "text": [
      "   ChannelId   Amount\n",
      "0          2   1000.0\n",
      "1          1    -20.0\n",
      "2          2    500.0\n",
      "3          2  20000.0\n",
      "4          1   -644.0\n",
      "f1-score=0.81132\n"
     ]
    }
   ],
   "source": [
    "columns4drop = [\n",
    "    'BatchId',\n",
    "    'AccountId',\n",
    "    'SubscriptionId',\n",
    "    'CustomerId',\n",
    "    'ProviderId',\n",
    "    'ProductId',\n",
    "    'ProductCategory',\n",
    "#     'ChannelId',\n",
    "#     'Amount',\n",
    "    'Value',\n",
    "    'TransactionStartTime',\n",
    "    'PricingStrategy'\n",
    "]\n",
    "X = X_trn.drop(columns=columns4drop, axis=1)\n",
    "print(X[:5])\n",
    "\n",
    "algorithm = EllipticEnvelope(contamination=outliers_fraction)\n",
    "y_pred = algorithm.fit(X).predict(X)\n",
    "y_pred = [ 1 if x == -1 else 0 for x in y_pred ]\n",
    "print('f1-score=%.5f' % f1_score(y_trn, y_pred))"
   ]
  },
  {
   "cell_type": "markdown",
   "metadata": {},
   "source": [
    "### `Amount` and `PricingStrategy`"
   ]
  },
  {
   "cell_type": "code",
   "execution_count": 24,
   "metadata": {},
   "outputs": [
    {
     "name": "stdout",
     "output_type": "stream",
     "text": [
      "    Amount  PricingStrategy\n",
      "0   1000.0                2\n",
      "1    -20.0                2\n",
      "2    500.0                2\n",
      "3  20000.0                2\n",
      "4   -644.0                2\n",
      "f1-score=0.69430\n"
     ]
    }
   ],
   "source": [
    "columns4drop = [\n",
    "    'BatchId',\n",
    "    'AccountId',\n",
    "    'SubscriptionId',\n",
    "    'CustomerId',\n",
    "    'ProviderId',\n",
    "    'ProductId',\n",
    "    'ProductCategory',\n",
    "    'ChannelId',\n",
    "#     'Amount',\n",
    "    'Value',\n",
    "    'TransactionStartTime',\n",
    "#     'PricingStrategy'\n",
    "]\n",
    "X = X_trn.drop(columns=columns4drop, axis=1)\n",
    "print(X[:5])\n",
    "\n",
    "algorithm = EllipticEnvelope(contamination=outliers_fraction)\n",
    "y_pred = algorithm.fit(X).predict(X)\n",
    "y_pred = [ 1 if x == -1 else 0 for x in y_pred ]\n",
    "print('f1-score=%.5f' % f1_score(y_trn, y_pred))"
   ]
  },
  {
   "cell_type": "markdown",
   "metadata": {},
   "source": [
    "### `ProviderId`, `ProductId`, `ProductCategory`, `ChannelId`, `Amount`, `PricingStrategy`"
   ]
  },
  {
   "cell_type": "code",
   "execution_count": 25,
   "metadata": {},
   "outputs": [
    {
     "name": "stdout",
     "output_type": "stream",
     "text": [
      "   ProviderId  ProductId  ProductCategory  ChannelId   Amount  PricingStrategy\n",
      "0           5          9                0          2   1000.0                2\n",
      "1           3          5                2          1    -20.0                2\n",
      "2           5          0                0          2    500.0                2\n",
      "3           0         20                9          2  20000.0                2\n",
      "4           3          5                2          1   -644.0                2\n",
      "f1-score=0.70951\n"
     ]
    }
   ],
   "source": [
    "columns4drop = [\n",
    "    'BatchId',\n",
    "    'AccountId',\n",
    "    'SubscriptionId',\n",
    "    'CustomerId',\n",
    "#     'ProviderId',\n",
    "#     'ProductId',\n",
    "#     'ProductCategory',\n",
    "#     'ChannelId',\n",
    "#     'Amount',\n",
    "    'Value',\n",
    "    'TransactionStartTime',\n",
    "#     'PricingStrategy'\n",
    "]\n",
    "X = X_trn.drop(columns=columns4drop, axis=1)\n",
    "print(X[:5])\n",
    "\n",
    "algorithm = EllipticEnvelope(contamination=outliers_fraction, support_fraction=1)\n",
    "y_pred = algorithm.fit(X).predict(X)\n",
    "y_pred = [ 1 if x == -1 else 0 for x in y_pred ]\n",
    "print('f1-score=%.5f' % f1_score(y_trn, y_pred))"
   ]
  },
  {
   "cell_type": "markdown",
   "metadata": {},
   "source": [
    "## Grid Search"
   ]
  },
  {
   "cell_type": "markdown",
   "metadata": {},
   "source": [
    "### `Amount`"
   ]
  },
  {
   "cell_type": "code",
   "execution_count": 27,
   "metadata": {},
   "outputs": [],
   "source": [
    "from sklearn.model_selection import StratifiedKFold\n",
    "from sklearn.model_selection import GridSearchCV\n",
    "from sklearn.metrics import f1_score, make_scorer"
   ]
  },
  {
   "cell_type": "code",
   "execution_count": 28,
   "metadata": {},
   "outputs": [],
   "source": [
    "X1 = X_amount\n",
    "y1 = y_trn.astype(np.int8)\n",
    "y1[y_trn==1] = -1\n",
    "y1[y_trn==0] = 1"
   ]
  },
  {
   "cell_type": "code",
   "execution_count": 29,
   "metadata": {},
   "outputs": [],
   "source": [
    "skf = StratifiedKFold(n_splits=3, shuffle=True, random_state=0)\n",
    "folds = list(skf.split(X1, y1))"
   ]
  },
  {
   "cell_type": "code",
   "execution_count": 30,
   "metadata": {},
   "outputs": [],
   "source": [
    "ee = EllipticEnvelope()\n",
    "params = {\n",
    "    'support_fraction': np.linspace(0.70, 0.99, num=30),\n",
    "    'contamination'   : np.linspace(0.0015, 0.0025, num=101)\n",
    "}\n",
    "f1score = make_scorer(f1_score)\n",
    "grdsrch = GridSearchCV(estimator=ee, param_grid=params, scoring=f1score, cv=folds, n_jobs=-1)\n",
    "grdsrch.fit(X1, y1);"
   ]
  },
  {
   "cell_type": "code",
   "execution_count": 31,
   "metadata": {},
   "outputs": [
    {
     "data": {
      "text/html": [
       "<div>\n",
       "<style scoped>\n",
       "    .dataframe tbody tr th:only-of-type {\n",
       "        vertical-align: middle;\n",
       "    }\n",
       "\n",
       "    .dataframe tbody tr th {\n",
       "        vertical-align: top;\n",
       "    }\n",
       "\n",
       "    .dataframe thead th {\n",
       "        text-align: right;\n",
       "    }\n",
       "</style>\n",
       "<table border=\"1\" class=\"dataframe\">\n",
       "  <thead>\n",
       "    <tr style=\"text-align: right;\">\n",
       "      <th></th>\n",
       "      <th>mean_test_score</th>\n",
       "      <th>params</th>\n",
       "    </tr>\n",
       "  </thead>\n",
       "  <tbody>\n",
       "    <tr>\n",
       "      <th>1468</th>\n",
       "      <td>0.999581</td>\n",
       "      <td>{'contamination': 0.00198, 'support_fraction':...</td>\n",
       "    </tr>\n",
       "    <tr>\n",
       "      <th>1498</th>\n",
       "      <td>0.999581</td>\n",
       "      <td>{'contamination': 0.00199, 'support_fraction':...</td>\n",
       "    </tr>\n",
       "    <tr>\n",
       "      <th>2779</th>\n",
       "      <td>0.999576</td>\n",
       "      <td>{'contamination': 0.0024200000000000003, 'supp...</td>\n",
       "    </tr>\n",
       "    <tr>\n",
       "      <th>2803</th>\n",
       "      <td>0.999576</td>\n",
       "      <td>{'contamination': 0.00243, 'support_fraction':...</td>\n",
       "    </tr>\n",
       "    <tr>\n",
       "      <th>2790</th>\n",
       "      <td>0.999576</td>\n",
       "      <td>{'contamination': 0.00243, 'support_fraction':...</td>\n",
       "    </tr>\n",
       "  </tbody>\n",
       "</table>\n",
       "</div>"
      ],
      "text/plain": [
       "      mean_test_score                                             params\n",
       "1468         0.999581  {'contamination': 0.00198, 'support_fraction':...\n",
       "1498         0.999581  {'contamination': 0.00199, 'support_fraction':...\n",
       "2779         0.999576  {'contamination': 0.0024200000000000003, 'supp...\n",
       "2803         0.999576  {'contamination': 0.00243, 'support_fraction':...\n",
       "2790         0.999576  {'contamination': 0.00243, 'support_fraction':..."
      ]
     },
     "execution_count": 31,
     "metadata": {},
     "output_type": "execute_result"
    }
   ],
   "source": [
    "df_res = pd.DataFrame(grdsrch.cv_results_)\n",
    "df_res[['mean_test_score', 'params']].sort_values(by=['mean_test_score'], ascending=False).head()"
   ]
  },
  {
   "cell_type": "code",
   "execution_count": 32,
   "metadata": {},
   "outputs": [
    {
     "data": {
      "text/plain": [
       "EllipticEnvelope(assume_centered=False, contamination=0.00198,\n",
       "                 random_state=None, store_precision=True,\n",
       "                 support_fraction=0.98)"
      ]
     },
     "execution_count": 32,
     "metadata": {},
     "output_type": "execute_result"
    }
   ],
   "source": [
    "grdsrch.best_estimator_"
   ]
  },
  {
   "cell_type": "markdown",
   "metadata": {},
   "source": [
    "### `ProviderId`, `ProductId`, `ProductCategory`, `ChannelId`, `Amount`, `PricingStrategy`"
   ]
  },
  {
   "cell_type": "code",
   "execution_count": 44,
   "metadata": {},
   "outputs": [],
   "source": [
    "columns4drop = [\n",
    "    'BatchId',\n",
    "    'AccountId',\n",
    "    'SubscriptionId',\n",
    "    'CustomerId',\n",
    "#     'ProviderId',\n",
    "#     'ProductId',\n",
    "#     'ProductCategory',\n",
    "#     'ChannelId',\n",
    "#     'Amount',\n",
    "    'Value',\n",
    "    'TransactionStartTime',\n",
    "#     'PricingStrategy'\n",
    "]\n",
    "X = X_trn.drop(columns=columns4drop, axis=1)"
   ]
  },
  {
   "cell_type": "code",
   "execution_count": 34,
   "metadata": {},
   "outputs": [],
   "source": [
    "X1 = X\n",
    "y1 = y_trn.astype(np.int8)\n",
    "y1[y_trn==1] = -1\n",
    "y1[y_trn==0] = 1"
   ]
  },
  {
   "cell_type": "code",
   "execution_count": 35,
   "metadata": {},
   "outputs": [],
   "source": [
    "skf = StratifiedKFold(n_splits=3, shuffle=True, random_state=0)\n",
    "folds = list(skf.split(X1, y1))"
   ]
  },
  {
   "cell_type": "code",
   "execution_count": 37,
   "metadata": {},
   "outputs": [
    {
     "name": "stderr",
     "output_type": "stream",
     "text": [
      "/home/abogatyrov/anaconda3/lib/python3.7/site-packages/sklearn/covariance/robust_covariance.py:170: RuntimeWarning: Determinant has increased; this should not happen: log(det) > log(previous_det) (8.459654980245112 > 7.652074242635567). You may want to try with a higher value of support_fraction (current value: 0.503).\n",
      "  RuntimeWarning)\n",
      "/home/abogatyrov/anaconda3/lib/python3.7/site-packages/sklearn/covariance/robust_covariance.py:170: RuntimeWarning: Determinant has increased; this should not happen: log(det) > log(previous_det) (4.359029293680054 > 1.032931417319297). You may want to try with a higher value of support_fraction (current value: 0.503).\n",
      "  RuntimeWarning)\n",
      "/home/abogatyrov/anaconda3/lib/python3.7/site-packages/sklearn/covariance/robust_covariance.py:170: RuntimeWarning: Determinant has increased; this should not happen: log(det) > log(previous_det) (-2.186258653304630 > -24.126049169133747). You may want to try with a higher value of support_fraction (current value: 0.503).\n",
      "  RuntimeWarning)\n",
      "/home/abogatyrov/anaconda3/lib/python3.7/site-packages/sklearn/covariance/robust_covariance.py:170: RuntimeWarning: Determinant has increased; this should not happen: log(det) > log(previous_det) (-29.950716671870211 > -55.125510436582175). You may want to try with a higher value of support_fraction (current value: 0.503).\n",
      "  RuntimeWarning)\n",
      "/home/abogatyrov/anaconda3/lib/python3.7/site-packages/sklearn/covariance/robust_covariance.py:170: RuntimeWarning: Determinant has increased; this should not happen: log(det) > log(previous_det) (-1.595287801705171 > -28.335758356748393). You may want to try with a higher value of support_fraction (current value: 0.503).\n",
      "  RuntimeWarning)\n",
      "/home/abogatyrov/anaconda3/lib/python3.7/site-packages/sklearn/covariance/robust_covariance.py:170: RuntimeWarning: Determinant has increased; this should not happen: log(det) > log(previous_det) (-28.752128221331603 > -58.657100128846338). You may want to try with a higher value of support_fraction (current value: 0.503).\n",
      "  RuntimeWarning)\n",
      "/home/abogatyrov/anaconda3/lib/python3.7/site-packages/sklearn/covariance/robust_covariance.py:170: RuntimeWarning: Determinant has increased; this should not happen: log(det) > log(previous_det) (-28.752128221331603 > -57.458764924766172). You may want to try with a higher value of support_fraction (current value: 0.503).\n",
      "  RuntimeWarning)\n",
      "/home/abogatyrov/anaconda3/lib/python3.7/site-packages/sklearn/covariance/robust_covariance.py:170: RuntimeWarning: Determinant has increased; this should not happen: log(det) > log(previous_det) (3.922566888756156 > -1.266967088055358). You may want to try with a higher value of support_fraction (current value: 0.503).\n",
      "  RuntimeWarning)\n",
      "/home/abogatyrov/anaconda3/lib/python3.7/site-packages/sklearn/covariance/robust_covariance.py:170: RuntimeWarning: Determinant has increased; this should not happen: log(det) > log(previous_det) (6.493431525776776 > -61.740328533720117). You may want to try with a higher value of support_fraction (current value: 0.501).\n",
      "  RuntimeWarning)\n",
      "/home/abogatyrov/anaconda3/lib/python3.7/site-packages/sklearn/covariance/robust_covariance.py:170: RuntimeWarning: Determinant has increased; this should not happen: log(det) > log(previous_det) (8.208824637190075 > -64.387627658556625). You may want to try with a higher value of support_fraction (current value: 0.501).\n",
      "  RuntimeWarning)\n",
      "/home/abogatyrov/anaconda3/lib/python3.7/site-packages/sklearn/covariance/robust_covariance.py:170: RuntimeWarning: Determinant has increased; this should not happen: log(det) > log(previous_det) (-32.586133588024914 > -63.907347093593970). You may want to try with a higher value of support_fraction (current value: 0.501).\n",
      "  RuntimeWarning)\n",
      "/home/abogatyrov/anaconda3/lib/python3.7/site-packages/sklearn/covariance/robust_covariance.py:170: RuntimeWarning: Determinant has increased; this should not happen: log(det) > log(previous_det) (2.361299385634200 > -1.409335585817343). You may want to try with a higher value of support_fraction (current value: 0.501).\n",
      "  RuntimeWarning)\n",
      "/home/abogatyrov/anaconda3/lib/python3.7/site-packages/sklearn/covariance/robust_covariance.py:170: RuntimeWarning: Determinant has increased; this should not happen: log(det) > log(previous_det) (1.741925693586201 > 0.555445507269152). You may want to try with a higher value of support_fraction (current value: 0.501).\n",
      "  RuntimeWarning)\n",
      "/home/abogatyrov/anaconda3/lib/python3.7/site-packages/sklearn/covariance/robust_covariance.py:170: RuntimeWarning: Determinant has increased; this should not happen: log(det) > log(previous_det) (-32.586133588024914 > -63.880694412362203). You may want to try with a higher value of support_fraction (current value: 0.501).\n",
      "  RuntimeWarning)\n",
      "/home/abogatyrov/anaconda3/lib/python3.7/site-packages/sklearn/covariance/robust_covariance.py:170: RuntimeWarning: Determinant has increased; this should not happen: log(det) > log(previous_det) (-28.482686219860668 > -62.919059951768944). You may want to try with a higher value of support_fraction (current value: 0.501).\n",
      "  RuntimeWarning)\n",
      "/home/abogatyrov/anaconda3/lib/python3.7/site-packages/sklearn/covariance/robust_covariance.py:170: RuntimeWarning: Determinant has increased; this should not happen: log(det) > log(previous_det) (-25.434036391915768 > -29.253785171672920). You may want to try with a higher value of support_fraction (current value: 0.501).\n",
      "  RuntimeWarning)\n",
      "/home/abogatyrov/anaconda3/lib/python3.7/site-packages/sklearn/covariance/robust_covariance.py:170: RuntimeWarning: Determinant has increased; this should not happen: log(det) > log(previous_det) (3.450086047624768 > 2.844805042476996). You may want to try with a higher value of support_fraction (current value: 0.501).\n",
      "  RuntimeWarning)\n",
      "/home/abogatyrov/anaconda3/lib/python3.7/site-packages/sklearn/covariance/robust_covariance.py:170: RuntimeWarning: Determinant has increased; this should not happen: log(det) > log(previous_det) (-1.613828586937704 > -61.450112764023359). You may want to try with a higher value of support_fraction (current value: 0.501).\n",
      "  RuntimeWarning)\n",
      "/home/abogatyrov/anaconda3/lib/python3.7/site-packages/sklearn/covariance/robust_covariance.py:170: RuntimeWarning: Determinant has increased; this should not happen: log(det) > log(previous_det) (-1.981105254719496 > -61.651123594258223). You may want to try with a higher value of support_fraction (current value: 0.501).\n",
      "  RuntimeWarning)\n",
      "/home/abogatyrov/anaconda3/lib/python3.7/site-packages/sklearn/covariance/robust_covariance.py:170: RuntimeWarning: Determinant has increased; this should not happen: log(det) > log(previous_det) (2.258788958044394 > 1.526768333769921). You may want to try with a higher value of support_fraction (current value: 0.501).\n",
      "  RuntimeWarning)\n",
      "/home/abogatyrov/anaconda3/lib/python3.7/site-packages/sklearn/covariance/robust_covariance.py:170: RuntimeWarning: Determinant has increased; this should not happen: log(det) > log(previous_det) (2.660440693835938 > 0.346180080372743). You may want to try with a higher value of support_fraction (current value: 0.501).\n",
      "  RuntimeWarning)\n",
      "/home/abogatyrov/anaconda3/lib/python3.7/site-packages/sklearn/covariance/robust_covariance.py:170: RuntimeWarning: Determinant has increased; this should not happen: log(det) > log(previous_det) (2.554285506276116 > -1.649391288874594). You may want to try with a higher value of support_fraction (current value: 0.501).\n",
      "  RuntimeWarning)\n",
      "/home/abogatyrov/anaconda3/lib/python3.7/site-packages/sklearn/covariance/robust_covariance.py:170: RuntimeWarning: Determinant has increased; this should not happen: log(det) > log(previous_det) (-1.981105254719496 > -62.048456873247723). You may want to try with a higher value of support_fraction (current value: 0.501).\n",
      "  RuntimeWarning)\n",
      "/home/abogatyrov/anaconda3/lib/python3.7/site-packages/sklearn/covariance/robust_covariance.py:170: RuntimeWarning: Determinant has increased; this should not happen: log(det) > log(previous_det) (2.398213280322821 > -95.487836329359226). You may want to try with a higher value of support_fraction (current value: 0.501).\n",
      "  RuntimeWarning)\n",
      "/home/abogatyrov/anaconda3/lib/python3.7/site-packages/sklearn/covariance/robust_covariance.py:170: RuntimeWarning: Determinant has increased; this should not happen: log(det) > log(previous_det) (2.401378574616482 > -91.682257933650362). You may want to try with a higher value of support_fraction (current value: 0.501).\n",
      "  RuntimeWarning)\n",
      "/home/abogatyrov/anaconda3/lib/python3.7/site-packages/sklearn/covariance/robust_covariance.py:170: RuntimeWarning: Determinant has increased; this should not happen: log(det) > log(previous_det) (-32.586133588024914 > -63.722652921863521). You may want to try with a higher value of support_fraction (current value: 0.501).\n",
      "  RuntimeWarning)\n"
     ]
    },
    {
     "name": "stderr",
     "output_type": "stream",
     "text": [
      "/home/abogatyrov/anaconda3/lib/python3.7/site-packages/sklearn/covariance/robust_covariance.py:170: RuntimeWarning: Determinant has increased; this should not happen: log(det) > log(previous_det) (5.928702197782217 > -26.691097333700007). You may want to try with a higher value of support_fraction (current value: 0.501).\n",
      "  RuntimeWarning)\n",
      "/home/abogatyrov/anaconda3/lib/python3.7/site-packages/sklearn/covariance/robust_covariance.py:170: RuntimeWarning: Determinant has increased; this should not happen: log(det) > log(previous_det) (-1.981105254719496 > -61.661061616733974). You may want to try with a higher value of support_fraction (current value: 0.501).\n",
      "  RuntimeWarning)\n",
      "/home/abogatyrov/anaconda3/lib/python3.7/site-packages/sklearn/covariance/robust_covariance.py:170: RuntimeWarning: Determinant has increased; this should not happen: log(det) > log(previous_det) (2.401378574616482 > -91.713515774283948). You may want to try with a higher value of support_fraction (current value: 0.501).\n",
      "  RuntimeWarning)\n",
      "/home/abogatyrov/anaconda3/lib/python3.7/site-packages/sklearn/covariance/robust_covariance.py:170: RuntimeWarning: Determinant has increased; this should not happen: log(det) > log(previous_det) (3.825836605067848 > 1.260503425648804). You may want to try with a higher value of support_fraction (current value: 0.501).\n",
      "  RuntimeWarning)\n",
      "/home/abogatyrov/anaconda3/lib/python3.7/site-packages/sklearn/covariance/robust_covariance.py:170: RuntimeWarning: Determinant has increased; this should not happen: log(det) > log(previous_det) (1.916633978661408 > 0.656402508750361). You may want to try with a higher value of support_fraction (current value: 0.501).\n",
      "  RuntimeWarning)\n",
      "/home/abogatyrov/anaconda3/lib/python3.7/site-packages/sklearn/covariance/robust_covariance.py:170: RuntimeWarning: Determinant has increased; this should not happen: log(det) > log(previous_det) (2.627908858013467 > -93.015624435061966). You may want to try with a higher value of support_fraction (current value: 0.501).\n",
      "  RuntimeWarning)\n",
      "/home/abogatyrov/anaconda3/lib/python3.7/site-packages/sklearn/covariance/robust_covariance.py:170: RuntimeWarning: Determinant has increased; this should not happen: log(det) > log(previous_det) (2.520138657946436 > -92.719145734229684). You may want to try with a higher value of support_fraction (current value: 0.501).\n",
      "  RuntimeWarning)\n",
      "/home/abogatyrov/anaconda3/lib/python3.7/site-packages/sklearn/covariance/robust_covariance.py:170: RuntimeWarning: Determinant has increased; this should not happen: log(det) > log(previous_det) (2.401378574616482 > -92.011127250347315). You may want to try with a higher value of support_fraction (current value: 0.501).\n",
      "  RuntimeWarning)\n",
      "/home/abogatyrov/anaconda3/lib/python3.7/site-packages/sklearn/covariance/robust_covariance.py:170: RuntimeWarning: Determinant has increased; this should not happen: log(det) > log(previous_det) (1.956583752062107 > -58.679053371001515). You may want to try with a higher value of support_fraction (current value: 0.501).\n",
      "  RuntimeWarning)\n",
      "/home/abogatyrov/anaconda3/lib/python3.7/site-packages/sklearn/covariance/robust_covariance.py:170: RuntimeWarning: Determinant has increased; this should not happen: log(det) > log(previous_det) (-32.586133588024914 > -63.916507234746859). You may want to try with a higher value of support_fraction (current value: 0.501).\n",
      "  RuntimeWarning)\n",
      "/home/abogatyrov/anaconda3/lib/python3.7/site-packages/sklearn/covariance/robust_covariance.py:170: RuntimeWarning: Determinant has increased; this should not happen: log(det) > log(previous_det) (2.401378574616482 > -91.887668445652992). You may want to try with a higher value of support_fraction (current value: 0.501).\n",
      "  RuntimeWarning)\n",
      "/home/abogatyrov/anaconda3/lib/python3.7/site-packages/sklearn/covariance/robust_covariance.py:170: RuntimeWarning: Determinant has increased; this should not happen: log(det) > log(previous_det) (2.398213280322821 > -96.724041977473817). You may want to try with a higher value of support_fraction (current value: 0.501).\n",
      "  RuntimeWarning)\n",
      "/home/abogatyrov/anaconda3/lib/python3.7/site-packages/sklearn/covariance/robust_covariance.py:170: RuntimeWarning: Determinant has increased; this should not happen: log(det) > log(previous_det) (2.401378574616482 > -91.803319241519659). You may want to try with a higher value of support_fraction (current value: 0.501).\n",
      "  RuntimeWarning)\n",
      "/home/abogatyrov/anaconda3/lib/python3.7/site-packages/sklearn/covariance/robust_covariance.py:170: RuntimeWarning: Determinant has increased; this should not happen: log(det) > log(previous_det) (3.316776007497337 > -31.171004306321286). You may want to try with a higher value of support_fraction (current value: 0.501).\n",
      "  RuntimeWarning)\n",
      "/home/abogatyrov/anaconda3/lib/python3.7/site-packages/sklearn/covariance/robust_covariance.py:170: RuntimeWarning: Determinant has increased; this should not happen: log(det) > log(previous_det) (2.401378574616482 > -91.838033387314184). You may want to try with a higher value of support_fraction (current value: 0.501).\n",
      "  RuntimeWarning)\n",
      "/home/abogatyrov/anaconda3/lib/python3.7/site-packages/sklearn/covariance/robust_covariance.py:170: RuntimeWarning: Determinant has increased; this should not happen: log(det) > log(previous_det) (6.493431525776776 > -61.975663451805055). You may want to try with a higher value of support_fraction (current value: 0.501).\n",
      "  RuntimeWarning)\n",
      "/home/abogatyrov/anaconda3/lib/python3.7/site-packages/sklearn/covariance/robust_covariance.py:170: RuntimeWarning: Determinant has increased; this should not happen: log(det) > log(previous_det) (-1.752228058577394 > -34.545394158967682). You may want to try with a higher value of support_fraction (current value: 0.501).\n",
      "  RuntimeWarning)\n",
      "/home/abogatyrov/anaconda3/lib/python3.7/site-packages/sklearn/covariance/robust_covariance.py:170: RuntimeWarning: Determinant has increased; this should not happen: log(det) > log(previous_det) (-28.700604195822244 > -28.977194973362383). You may want to try with a higher value of support_fraction (current value: 0.501).\n",
      "  RuntimeWarning)\n",
      "/home/abogatyrov/anaconda3/lib/python3.7/site-packages/sklearn/covariance/robust_covariance.py:170: RuntimeWarning: Determinant has increased; this should not happen: log(det) > log(previous_det) (0.922526310087820 > 0.585297760208632). You may want to try with a higher value of support_fraction (current value: 0.501).\n",
      "  RuntimeWarning)\n",
      "/home/abogatyrov/anaconda3/lib/python3.7/site-packages/sklearn/covariance/robust_covariance.py:170: RuntimeWarning: Determinant has increased; this should not happen: log(det) > log(previous_det) (1.207655792633489 > 0.563187273459064). You may want to try with a higher value of support_fraction (current value: 0.501).\n",
      "  RuntimeWarning)\n",
      "/home/abogatyrov/anaconda3/lib/python3.7/site-packages/sklearn/covariance/robust_covariance.py:170: RuntimeWarning: Determinant has increased; this should not happen: log(det) > log(previous_det) (2.627908858013467 > -93.501812752341408). You may want to try with a higher value of support_fraction (current value: 0.501).\n",
      "  RuntimeWarning)\n",
      "/home/abogatyrov/anaconda3/lib/python3.7/site-packages/sklearn/covariance/robust_covariance.py:170: RuntimeWarning: Determinant has increased; this should not happen: log(det) > log(previous_det) (-1.163308331636624 > -92.418396684897402). You may want to try with a higher value of support_fraction (current value: 0.501).\n",
      "  RuntimeWarning)\n",
      "/home/abogatyrov/anaconda3/lib/python3.7/site-packages/sklearn/covariance/robust_covariance.py:170: RuntimeWarning: Determinant has increased; this should not happen: log(det) > log(previous_det) (1.916633978661408 > 0.829438564671138). You may want to try with a higher value of support_fraction (current value: 0.501).\n",
      "  RuntimeWarning)\n",
      "/home/abogatyrov/anaconda3/lib/python3.7/site-packages/sklearn/covariance/robust_covariance.py:170: RuntimeWarning: Determinant has increased; this should not happen: log(det) > log(previous_det) (2.449144540709314 > -1.805192321921868). You may want to try with a higher value of support_fraction (current value: 0.501).\n",
      "  RuntimeWarning)\n",
      "/home/abogatyrov/anaconda3/lib/python3.7/site-packages/sklearn/covariance/robust_covariance.py:170: RuntimeWarning: Determinant has increased; this should not happen: log(det) > log(previous_det) (1.207655792633489 > 0.563187273459034). You may want to try with a higher value of support_fraction (current value: 0.501).\n",
      "  RuntimeWarning)\n",
      "/home/abogatyrov/anaconda3/lib/python3.7/site-packages/sklearn/covariance/robust_covariance.py:170: RuntimeWarning: Determinant has increased; this should not happen: log(det) > log(previous_det) (8.208824637190075 > -66.040652845862297). You may want to try with a higher value of support_fraction (current value: 0.501).\n",
      "  RuntimeWarning)\n",
      "/home/abogatyrov/anaconda3/lib/python3.7/site-packages/sklearn/covariance/robust_covariance.py:170: RuntimeWarning: Determinant has increased; this should not happen: log(det) > log(previous_det) (1.222855609043161 > -30.033177520455073). You may want to try with a higher value of support_fraction (current value: 0.501).\n",
      "  RuntimeWarning)\n",
      "/home/abogatyrov/anaconda3/lib/python3.7/site-packages/sklearn/covariance/robust_covariance.py:170: RuntimeWarning: Determinant has increased; this should not happen: log(det) > log(previous_det) (2.627908858013467 > -92.588593743881233). You may want to try with a higher value of support_fraction (current value: 0.501).\n",
      "  RuntimeWarning)\n",
      "/home/abogatyrov/anaconda3/lib/python3.7/site-packages/sklearn/covariance/robust_covariance.py:170: RuntimeWarning: Determinant has increased; this should not happen: log(det) > log(previous_det) (2.401378574616482 > -91.804443324862234). You may want to try with a higher value of support_fraction (current value: 0.501).\n",
      "  RuntimeWarning)\n",
      "/home/abogatyrov/anaconda3/lib/python3.7/site-packages/sklearn/covariance/robust_covariance.py:170: RuntimeWarning: Determinant has increased; this should not happen: log(det) > log(previous_det) (-1.981105254719496 > -61.806775933524584). You may want to try with a higher value of support_fraction (current value: 0.501).\n",
      "  RuntimeWarning)\n",
      "/home/abogatyrov/anaconda3/lib/python3.7/site-packages/sklearn/covariance/robust_covariance.py:170: RuntimeWarning: Determinant has increased; this should not happen: log(det) > log(previous_det) (2.378988633493826 > -1.950793358205821). You may want to try with a higher value of support_fraction (current value: 0.501).\n",
      "  RuntimeWarning)\n"
     ]
    },
    {
     "name": "stderr",
     "output_type": "stream",
     "text": [
      "/home/abogatyrov/anaconda3/lib/python3.7/site-packages/sklearn/covariance/robust_covariance.py:170: RuntimeWarning: Determinant has increased; this should not happen: log(det) > log(previous_det) (3.629048702433025 > 2.348227178498889). You may want to try with a higher value of support_fraction (current value: 0.501).\n",
      "  RuntimeWarning)\n",
      "/home/abogatyrov/anaconda3/lib/python3.7/site-packages/sklearn/covariance/robust_covariance.py:170: RuntimeWarning: Determinant has increased; this should not happen: log(det) > log(previous_det) (3.796957912665754 > -0.783006491426047). You may want to try with a higher value of support_fraction (current value: 0.501).\n",
      "  RuntimeWarning)\n",
      "/home/abogatyrov/anaconda3/lib/python3.7/site-packages/sklearn/covariance/robust_covariance.py:170: RuntimeWarning: Determinant has increased; this should not happen: log(det) > log(previous_det) (3.160972262178938 > -0.685748379575842). You may want to try with a higher value of support_fraction (current value: 0.501).\n",
      "  RuntimeWarning)\n",
      "/home/abogatyrov/anaconda3/lib/python3.7/site-packages/sklearn/covariance/robust_covariance.py:170: RuntimeWarning: Determinant has increased; this should not happen: log(det) > log(previous_det) (6.172497254369108 > 3.135603082084154). You may want to try with a higher value of support_fraction (current value: 0.501).\n",
      "  RuntimeWarning)\n",
      "/home/abogatyrov/anaconda3/lib/python3.7/site-packages/sklearn/covariance/robust_covariance.py:170: RuntimeWarning: Determinant has increased; this should not happen: log(det) > log(previous_det) (-1.981105254719496 > -61.822936066774730). You may want to try with a higher value of support_fraction (current value: 0.501).\n",
      "  RuntimeWarning)\n",
      "/home/abogatyrov/anaconda3/lib/python3.7/site-packages/sklearn/covariance/robust_covariance.py:170: RuntimeWarning: Determinant has increased; this should not happen: log(det) > log(previous_det) (8.619262020084454 > -31.818505317468301). You may want to try with a higher value of support_fraction (current value: 0.501).\n",
      "  RuntimeWarning)\n",
      "/home/abogatyrov/anaconda3/lib/python3.7/site-packages/sklearn/covariance/robust_covariance.py:170: RuntimeWarning: Determinant has increased; this should not happen: log(det) > log(previous_det) (2.401378574616482 > -91.853336215466427). You may want to try with a higher value of support_fraction (current value: 0.501).\n",
      "  RuntimeWarning)\n",
      "/home/abogatyrov/anaconda3/lib/python3.7/site-packages/sklearn/covariance/robust_covariance.py:170: RuntimeWarning: Determinant has increased; this should not happen: log(det) > log(previous_det) (7.036231970714111 > -62.127178012412671). You may want to try with a higher value of support_fraction (current value: 0.501).\n",
      "  RuntimeWarning)\n",
      "/home/abogatyrov/anaconda3/lib/python3.7/site-packages/sklearn/covariance/robust_covariance.py:170: RuntimeWarning: Determinant has increased; this should not happen: log(det) > log(previous_det) (0.064198530601469 > -26.744227231411315). You may want to try with a higher value of support_fraction (current value: 0.501).\n",
      "  RuntimeWarning)\n",
      "/home/abogatyrov/anaconda3/lib/python3.7/site-packages/sklearn/covariance/robust_covariance.py:170: RuntimeWarning: Determinant has increased; this should not happen: log(det) > log(previous_det) (2.774196806612863 > -1.353738196137030). You may want to try with a higher value of support_fraction (current value: 0.501).\n",
      "  RuntimeWarning)\n",
      "/home/abogatyrov/anaconda3/lib/python3.7/site-packages/sklearn/covariance/robust_covariance.py:170: RuntimeWarning: Determinant has increased; this should not happen: log(det) > log(previous_det) (2.838864943435425 > -26.171420014726344). You may want to try with a higher value of support_fraction (current value: 0.501).\n",
      "  RuntimeWarning)\n",
      "/home/abogatyrov/anaconda3/lib/python3.7/site-packages/sklearn/covariance/robust_covariance.py:170: RuntimeWarning: Determinant has increased; this should not happen: log(det) > log(previous_det) (0.274223878436524 > -57.283871953528802). You may want to try with a higher value of support_fraction (current value: 0.501).\n",
      "  RuntimeWarning)\n",
      "/home/abogatyrov/anaconda3/lib/python3.7/site-packages/sklearn/covariance/robust_covariance.py:170: RuntimeWarning: Determinant has increased; this should not happen: log(det) > log(previous_det) (2.585748010801017 > 1.677124949344203). You may want to try with a higher value of support_fraction (current value: 0.501).\n",
      "  RuntimeWarning)\n",
      "/home/abogatyrov/anaconda3/lib/python3.7/site-packages/sklearn/covariance/robust_covariance.py:170: RuntimeWarning: Determinant has increased; this should not happen: log(det) > log(previous_det) (2.401378574616482 > -91.670996287310771). You may want to try with a higher value of support_fraction (current value: 0.501).\n",
      "  RuntimeWarning)\n",
      "/home/abogatyrov/anaconda3/lib/python3.7/site-packages/sklearn/covariance/robust_covariance.py:170: RuntimeWarning: Determinant has increased; this should not happen: log(det) > log(previous_det) (-0.535926322478869 > -57.733565291386086). You may want to try with a higher value of support_fraction (current value: 0.501).\n",
      "  RuntimeWarning)\n",
      "/home/abogatyrov/anaconda3/lib/python3.7/site-packages/sklearn/covariance/robust_covariance.py:170: RuntimeWarning: Determinant has increased; this should not happen: log(det) > log(previous_det) (2.481149972904110 > 1.556432160853908). You may want to try with a higher value of support_fraction (current value: 0.501).\n",
      "  RuntimeWarning)\n",
      "/home/abogatyrov/anaconda3/lib/python3.7/site-packages/sklearn/covariance/robust_covariance.py:170: RuntimeWarning: Determinant has increased; this should not happen: log(det) > log(previous_det) (6.360014147678367 > -63.296585935091670). You may want to try with a higher value of support_fraction (current value: 0.501).\n",
      "  RuntimeWarning)\n",
      "/home/abogatyrov/anaconda3/lib/python3.7/site-packages/sklearn/covariance/robust_covariance.py:170: RuntimeWarning: Determinant has increased; this should not happen: log(det) > log(previous_det) (8.208824637190075 > -63.037946275491102). You may want to try with a higher value of support_fraction (current value: 0.501).\n",
      "  RuntimeWarning)\n",
      "/home/abogatyrov/anaconda3/lib/python3.7/site-packages/sklearn/covariance/robust_covariance.py:170: RuntimeWarning: Determinant has increased; this should not happen: log(det) > log(previous_det) (3.862302052569517 > -28.883514259021794). You may want to try with a higher value of support_fraction (current value: 0.501).\n",
      "  RuntimeWarning)\n",
      "/home/abogatyrov/anaconda3/lib/python3.7/site-packages/sklearn/covariance/robust_covariance.py:170: RuntimeWarning: Determinant has increased; this should not happen: log(det) > log(previous_det) (2.401378574616482 > -91.451878461311310). You may want to try with a higher value of support_fraction (current value: 0.501).\n",
      "  RuntimeWarning)\n",
      "/home/abogatyrov/anaconda3/lib/python3.7/site-packages/sklearn/covariance/robust_covariance.py:170: RuntimeWarning: Determinant has increased; this should not happen: log(det) > log(previous_det) (-1.981105254719496 > -61.757494557097864). You may want to try with a higher value of support_fraction (current value: 0.501).\n",
      "  RuntimeWarning)\n",
      "/home/abogatyrov/anaconda3/lib/python3.7/site-packages/sklearn/covariance/robust_covariance.py:170: RuntimeWarning: Determinant has increased; this should not happen: log(det) > log(previous_det) (2.554664210079541 > -59.448594857881517). You may want to try with a higher value of support_fraction (current value: 0.501).\n",
      "  RuntimeWarning)\n",
      "/home/abogatyrov/anaconda3/lib/python3.7/site-packages/sklearn/covariance/robust_covariance.py:170: RuntimeWarning: Determinant has increased; this should not happen: log(det) > log(previous_det) (-1.981105254719496 > -61.996542610152801). You may want to try with a higher value of support_fraction (current value: 0.501).\n",
      "  RuntimeWarning)\n",
      "/home/abogatyrov/anaconda3/lib/python3.7/site-packages/sklearn/covariance/robust_covariance.py:170: RuntimeWarning: Determinant has increased; this should not happen: log(det) > log(previous_det) (-0.209296467999423 > -61.536766256421011). You may want to try with a higher value of support_fraction (current value: 0.501).\n",
      "  RuntimeWarning)\n",
      "/home/abogatyrov/anaconda3/lib/python3.7/site-packages/sklearn/covariance/robust_covariance.py:170: RuntimeWarning: Determinant has increased; this should not happen: log(det) > log(previous_det) (2.426712413784101 > -1.834626935598843). You may want to try with a higher value of support_fraction (current value: 0.501).\n",
      "  RuntimeWarning)\n",
      "/home/abogatyrov/anaconda3/lib/python3.7/site-packages/sklearn/covariance/robust_covariance.py:170: RuntimeWarning: Determinant has increased; this should not happen: log(det) > log(previous_det) (2.181151837018798 > -26.221704546971374). You may want to try with a higher value of support_fraction (current value: 0.501).\n",
      "  RuntimeWarning)\n",
      "/home/abogatyrov/anaconda3/lib/python3.7/site-packages/sklearn/covariance/robust_covariance.py:170: RuntimeWarning: Determinant has increased; this should not happen: log(det) > log(previous_det) (2.181151837018797 > -27.113427169190786). You may want to try with a higher value of support_fraction (current value: 0.501).\n",
      "  RuntimeWarning)\n",
      "/home/abogatyrov/anaconda3/lib/python3.7/site-packages/sklearn/covariance/robust_covariance.py:170: RuntimeWarning: Determinant has increased; this should not happen: log(det) > log(previous_det) (3.894103898220119 > 1.288813765867498). You may want to try with a higher value of support_fraction (current value: 0.501).\n",
      "  RuntimeWarning)\n",
      "/home/abogatyrov/anaconda3/lib/python3.7/site-packages/sklearn/covariance/robust_covariance.py:170: RuntimeWarning: Determinant has increased; this should not happen: log(det) > log(previous_det) (2.182978712613949 > -25.109351752982519). You may want to try with a higher value of support_fraction (current value: 0.501).\n",
      "  RuntimeWarning)\n",
      "/home/abogatyrov/anaconda3/lib/python3.7/site-packages/sklearn/covariance/robust_covariance.py:170: RuntimeWarning: Determinant has increased; this should not happen: log(det) > log(previous_det) (10.549969190901969 > 5.675463551651921). You may want to try with a higher value of support_fraction (current value: 0.501).\n",
      "  RuntimeWarning)\n",
      "/home/abogatyrov/anaconda3/lib/python3.7/site-packages/sklearn/covariance/robust_covariance.py:170: RuntimeWarning: Determinant has increased; this should not happen: log(det) > log(previous_det) (4.033668080919265 > 2.591678686646428). You may want to try with a higher value of support_fraction (current value: 0.501).\n",
      "  RuntimeWarning)\n",
      "/home/abogatyrov/anaconda3/lib/python3.7/site-packages/sklearn/covariance/robust_covariance.py:170: RuntimeWarning: Determinant has increased; this should not happen: log(det) > log(previous_det) (7.096825356298633 > -62.336943704909267). You may want to try with a higher value of support_fraction (current value: 0.501).\n",
      "  RuntimeWarning)\n"
     ]
    },
    {
     "name": "stderr",
     "output_type": "stream",
     "text": [
      "/home/abogatyrov/anaconda3/lib/python3.7/site-packages/sklearn/covariance/robust_covariance.py:170: RuntimeWarning: Determinant has increased; this should not happen: log(det) > log(previous_det) (0.995848563729706 > -30.403282087471418). You may want to try with a higher value of support_fraction (current value: 0.501).\n",
      "  RuntimeWarning)\n",
      "/home/abogatyrov/anaconda3/lib/python3.7/site-packages/sklearn/covariance/robust_covariance.py:170: RuntimeWarning: Determinant has increased; this should not happen: log(det) > log(previous_det) (2.352693821769979 > -0.931839493336134). You may want to try with a higher value of support_fraction (current value: 0.501).\n",
      "  RuntimeWarning)\n",
      "/home/abogatyrov/anaconda3/lib/python3.7/site-packages/sklearn/covariance/robust_covariance.py:170: RuntimeWarning: Determinant has increased; this should not happen: log(det) > log(previous_det) (2.870556506507107 > -1.610044728412568). You may want to try with a higher value of support_fraction (current value: 0.501).\n",
      "  RuntimeWarning)\n",
      "/home/abogatyrov/anaconda3/lib/python3.7/site-packages/sklearn/covariance/robust_covariance.py:170: RuntimeWarning: Determinant has increased; this should not happen: log(det) > log(previous_det) (2.838864943435425 > -26.232044636542781). You may want to try with a higher value of support_fraction (current value: 0.501).\n",
      "  RuntimeWarning)\n",
      "/home/abogatyrov/anaconda3/lib/python3.7/site-packages/sklearn/covariance/robust_covariance.py:170: RuntimeWarning: Determinant has increased; this should not happen: log(det) > log(previous_det) (2.401378574616482 > -91.929793344554383). You may want to try with a higher value of support_fraction (current value: 0.501).\n",
      "  RuntimeWarning)\n",
      "/home/abogatyrov/anaconda3/lib/python3.7/site-packages/sklearn/covariance/robust_covariance.py:170: RuntimeWarning: Determinant has increased; this should not happen: log(det) > log(previous_det) (2.401378574616482 > -91.578315921618071). You may want to try with a higher value of support_fraction (current value: 0.501).\n",
      "  RuntimeWarning)\n",
      "/home/abogatyrov/anaconda3/lib/python3.7/site-packages/sklearn/covariance/robust_covariance.py:170: RuntimeWarning: Determinant has increased; this should not happen: log(det) > log(previous_det) (2.627908858013467 > -96.413859899981745). You may want to try with a higher value of support_fraction (current value: 0.501).\n",
      "  RuntimeWarning)\n",
      "/home/abogatyrov/anaconda3/lib/python3.7/site-packages/sklearn/covariance/robust_covariance.py:170: RuntimeWarning: Determinant has increased; this should not happen: log(det) > log(previous_det) (6.360014147678367 > -63.360957188027399). You may want to try with a higher value of support_fraction (current value: 0.501).\n",
      "  RuntimeWarning)\n",
      "/home/abogatyrov/anaconda3/lib/python3.7/site-packages/sklearn/covariance/robust_covariance.py:170: RuntimeWarning: Determinant has increased; this should not happen: log(det) > log(previous_det) (-32.586133588024914 > -63.883083720251136). You may want to try with a higher value of support_fraction (current value: 0.501).\n",
      "  RuntimeWarning)\n",
      "/home/abogatyrov/anaconda3/lib/python3.7/site-packages/sklearn/covariance/robust_covariance.py:170: RuntimeWarning: Determinant has increased; this should not happen: log(det) > log(previous_det) (8.208824637190075 > -60.744339655240310). You may want to try with a higher value of support_fraction (current value: 0.501).\n",
      "  RuntimeWarning)\n",
      "/home/abogatyrov/anaconda3/lib/python3.7/site-packages/sklearn/covariance/robust_covariance.py:170: RuntimeWarning: Determinant has increased; this should not happen: log(det) > log(previous_det) (6.890109987612831 > -34.620452539728220). You may want to try with a higher value of support_fraction (current value: 0.501).\n",
      "  RuntimeWarning)\n",
      "/home/abogatyrov/anaconda3/lib/python3.7/site-packages/sklearn/covariance/robust_covariance.py:170: RuntimeWarning: Determinant has increased; this should not happen: log(det) > log(previous_det) (2.181151837018853 > -26.083647000439719). You may want to try with a higher value of support_fraction (current value: 0.501).\n",
      "  RuntimeWarning)\n",
      "/home/abogatyrov/anaconda3/lib/python3.7/site-packages/sklearn/covariance/robust_covariance.py:170: RuntimeWarning: Determinant has increased; this should not happen: log(det) > log(previous_det) (-28.636928892551190 > -30.608165616415349). You may want to try with a higher value of support_fraction (current value: 0.501).\n",
      "  RuntimeWarning)\n",
      "/home/abogatyrov/anaconda3/lib/python3.7/site-packages/sklearn/covariance/robust_covariance.py:170: RuntimeWarning: Determinant has increased; this should not happen: log(det) > log(previous_det) (2.348227178498889 > -27.435841166539802). You may want to try with a higher value of support_fraction (current value: 0.501).\n",
      "  RuntimeWarning)\n",
      "/home/abogatyrov/anaconda3/lib/python3.7/site-packages/sklearn/covariance/robust_covariance.py:170: RuntimeWarning: Determinant has increased; this should not happen: log(det) > log(previous_det) (3.534459761793641 > 3.266564043847408). You may want to try with a higher value of support_fraction (current value: 0.501).\n",
      "  RuntimeWarning)\n",
      "/home/abogatyrov/anaconda3/lib/python3.7/site-packages/sklearn/covariance/robust_covariance.py:170: RuntimeWarning: Determinant has increased; this should not happen: log(det) > log(previous_det) (6.493431525776776 > -64.754636644963369). You may want to try with a higher value of support_fraction (current value: 0.501).\n",
      "  RuntimeWarning)\n",
      "/home/abogatyrov/anaconda3/lib/python3.7/site-packages/sklearn/covariance/robust_covariance.py:170: RuntimeWarning: Determinant has increased; this should not happen: log(det) > log(previous_det) (5.350780734038991 > -28.663812050299924). You may want to try with a higher value of support_fraction (current value: 0.501).\n",
      "  RuntimeWarning)\n",
      "/home/abogatyrov/anaconda3/lib/python3.7/site-packages/sklearn/covariance/robust_covariance.py:170: RuntimeWarning: Determinant has increased; this should not happen: log(det) > log(previous_det) (6.597574063449983 > -61.861828873311012). You may want to try with a higher value of support_fraction (current value: 0.501).\n",
      "  RuntimeWarning)\n",
      "/home/abogatyrov/anaconda3/lib/python3.7/site-packages/sklearn/covariance/robust_covariance.py:170: RuntimeWarning: Determinant has increased; this should not happen: log(det) > log(previous_det) (-32.586133588024914 > -63.690756924039391). You may want to try with a higher value of support_fraction (current value: 0.501).\n",
      "  RuntimeWarning)\n",
      "/home/abogatyrov/anaconda3/lib/python3.7/site-packages/sklearn/covariance/robust_covariance.py:170: RuntimeWarning: Determinant has increased; this should not happen: log(det) > log(previous_det) (7.699343963004293 > -30.272297944430136). You may want to try with a higher value of support_fraction (current value: 0.501).\n",
      "  RuntimeWarning)\n",
      "/home/abogatyrov/anaconda3/lib/python3.7/site-packages/sklearn/covariance/robust_covariance.py:170: RuntimeWarning: Determinant has increased; this should not happen: log(det) > log(previous_det) (3.629048702433025 > 2.391977601178999). You may want to try with a higher value of support_fraction (current value: 0.501).\n",
      "  RuntimeWarning)\n",
      "/home/abogatyrov/anaconda3/lib/python3.7/site-packages/sklearn/covariance/robust_covariance.py:170: RuntimeWarning: Determinant has increased; this should not happen: log(det) > log(previous_det) (3.160159115142827 > -25.659948906068621). You may want to try with a higher value of support_fraction (current value: 0.501).\n",
      "  RuntimeWarning)\n",
      "/home/abogatyrov/anaconda3/lib/python3.7/site-packages/sklearn/covariance/robust_covariance.py:170: RuntimeWarning: Determinant has increased; this should not happen: log(det) > log(previous_det) (-1.769170791918783 > -3.782891463544919). You may want to try with a higher value of support_fraction (current value: 0.501).\n",
      "  RuntimeWarning)\n",
      "/home/abogatyrov/anaconda3/lib/python3.7/site-packages/sklearn/covariance/robust_covariance.py:170: RuntimeWarning: Determinant has increased; this should not happen: log(det) > log(previous_det) (-1.059583974981392 > -90.935720633290373). You may want to try with a higher value of support_fraction (current value: 0.501).\n",
      "  RuntimeWarning)\n",
      "/home/abogatyrov/anaconda3/lib/python3.7/site-packages/sklearn/covariance/robust_covariance.py:170: RuntimeWarning: Determinant has increased; this should not happen: log(det) > log(previous_det) (-1.035776107469318 > -90.440432018253915). You may want to try with a higher value of support_fraction (current value: 0.501).\n",
      "  RuntimeWarning)\n"
     ]
    },
    {
     "name": "stderr",
     "output_type": "stream",
     "text": [
      "/home/abogatyrov/anaconda3/lib/python3.7/site-packages/sklearn/covariance/robust_covariance.py:170: RuntimeWarning: Determinant has increased; this should not happen: log(det) > log(previous_det) (1.916633978661408 > 0.916206338850116). You may want to try with a higher value of support_fraction (current value: 0.501).\n",
      "  RuntimeWarning)\n",
      "/home/abogatyrov/anaconda3/lib/python3.7/site-packages/sklearn/covariance/robust_covariance.py:170: RuntimeWarning: Determinant has increased; this should not happen: log(det) > log(previous_det) (3.123786260919299 > -60.440733159182841). You may want to try with a higher value of support_fraction (current value: 0.501).\n",
      "  RuntimeWarning)\n",
      "/home/abogatyrov/anaconda3/lib/python3.7/site-packages/sklearn/covariance/robust_covariance.py:170: RuntimeWarning: Determinant has increased; this should not happen: log(det) > log(previous_det) (8.208824637190075 > -60.059200816170971). You may want to try with a higher value of support_fraction (current value: 0.501).\n",
      "  RuntimeWarning)\n",
      "/home/abogatyrov/anaconda3/lib/python3.7/site-packages/sklearn/covariance/robust_covariance.py:170: RuntimeWarning: Determinant has increased; this should not happen: log(det) > log(previous_det) (-32.031633917618734 > -64.689829346578335). You may want to try with a higher value of support_fraction (current value: 0.501).\n",
      "  RuntimeWarning)\n",
      "/home/abogatyrov/anaconda3/lib/python3.7/site-packages/sklearn/covariance/robust_covariance.py:170: RuntimeWarning: Determinant has increased; this should not happen: log(det) > log(previous_det) (5.928702197782217 > -27.574040657616141). You may want to try with a higher value of support_fraction (current value: 0.501).\n",
      "  RuntimeWarning)\n",
      "/home/abogatyrov/anaconda3/lib/python3.7/site-packages/sklearn/covariance/robust_covariance.py:170: RuntimeWarning: Determinant has increased; this should not happen: log(det) > log(previous_det) (5.928702197782217 > 1.344893947577250). You may want to try with a higher value of support_fraction (current value: 0.501).\n",
      "  RuntimeWarning)\n",
      "/home/abogatyrov/anaconda3/lib/python3.7/site-packages/sklearn/covariance/robust_covariance.py:170: RuntimeWarning: Determinant has increased; this should not happen: log(det) > log(previous_det) (1.367988748333930 > -26.781324029959606). You may want to try with a higher value of support_fraction (current value: 0.501).\n",
      "  RuntimeWarning)\n",
      "/home/abogatyrov/anaconda3/lib/python3.7/site-packages/sklearn/covariance/robust_covariance.py:170: RuntimeWarning: Determinant has increased; this should not happen: log(det) > log(previous_det) (-1.594801544770085 > -92.530763486000154). You may want to try with a higher value of support_fraction (current value: 0.501).\n",
      "  RuntimeWarning)\n",
      "/home/abogatyrov/anaconda3/lib/python3.7/site-packages/sklearn/covariance/robust_covariance.py:170: RuntimeWarning: Determinant has increased; this should not happen: log(det) > log(previous_det) (2.803083429707042 > -0.593622490618029). You may want to try with a higher value of support_fraction (current value: 0.501).\n",
      "  RuntimeWarning)\n",
      "/home/abogatyrov/anaconda3/lib/python3.7/site-packages/sklearn/covariance/robust_covariance.py:170: RuntimeWarning: Determinant has increased; this should not happen: log(det) > log(previous_det) (2.803083429707042 > -0.593622490618403). You may want to try with a higher value of support_fraction (current value: 0.501).\n",
      "  RuntimeWarning)\n",
      "/home/abogatyrov/anaconda3/lib/python3.7/site-packages/sklearn/covariance/robust_covariance.py:170: RuntimeWarning: Determinant has increased; this should not happen: log(det) > log(previous_det) (3.962077965604808 > -24.993092080003180). You may want to try with a higher value of support_fraction (current value: 0.501).\n",
      "  RuntimeWarning)\n",
      "/home/abogatyrov/anaconda3/lib/python3.7/site-packages/sklearn/covariance/robust_covariance.py:170: RuntimeWarning: Determinant has increased; this should not happen: log(det) > log(previous_det) (2.348227178498889 > 1.793159132520345). You may want to try with a higher value of support_fraction (current value: 0.501).\n",
      "  RuntimeWarning)\n",
      "/home/abogatyrov/anaconda3/lib/python3.7/site-packages/sklearn/covariance/robust_covariance.py:170: RuntimeWarning: Determinant has increased; this should not happen: log(det) > log(previous_det) (5.917374833611596 > -26.674101740803046). You may want to try with a higher value of support_fraction (current value: 0.501).\n",
      "  RuntimeWarning)\n",
      "/home/abogatyrov/anaconda3/lib/python3.7/site-packages/sklearn/covariance/robust_covariance.py:170: RuntimeWarning: Determinant has increased; this should not happen: log(det) > log(previous_det) (2.398213280322821 > -95.881685088133807). You may want to try with a higher value of support_fraction (current value: 0.501).\n",
      "  RuntimeWarning)\n",
      "/home/abogatyrov/anaconda3/lib/python3.7/site-packages/sklearn/covariance/robust_covariance.py:170: RuntimeWarning: Determinant has increased; this should not happen: log(det) > log(previous_det) (1.601545434373362 > -25.261010150364843). You may want to try with a higher value of support_fraction (current value: 0.501).\n",
      "  RuntimeWarning)\n",
      "/home/abogatyrov/anaconda3/lib/python3.7/site-packages/sklearn/covariance/robust_covariance.py:170: RuntimeWarning: Determinant has increased; this should not happen: log(det) > log(previous_det) (3.656782096298170 > 1.341831508832085). You may want to try with a higher value of support_fraction (current value: 0.501).\n",
      "  RuntimeWarning)\n",
      "/home/abogatyrov/anaconda3/lib/python3.7/site-packages/sklearn/covariance/robust_covariance.py:170: RuntimeWarning: Determinant has increased; this should not happen: log(det) > log(previous_det) (-1.564003829464822 > -91.047510393361975). You may want to try with a higher value of support_fraction (current value: 0.501).\n",
      "  RuntimeWarning)\n",
      "/home/abogatyrov/anaconda3/lib/python3.7/site-packages/sklearn/covariance/robust_covariance.py:170: RuntimeWarning: Determinant has increased; this should not happen: log(det) > log(previous_det) (-1.564003829464853 > -94.100699490221416). You may want to try with a higher value of support_fraction (current value: 0.501).\n",
      "  RuntimeWarning)\n",
      "/home/abogatyrov/anaconda3/lib/python3.7/site-packages/sklearn/covariance/robust_covariance.py:170: RuntimeWarning: Determinant has increased; this should not happen: log(det) > log(previous_det) (1.774886054290752 > -33.648185225631593). You may want to try with a higher value of support_fraction (current value: 0.501).\n",
      "  RuntimeWarning)\n",
      "/home/abogatyrov/anaconda3/lib/python3.7/site-packages/sklearn/covariance/robust_covariance.py:170: RuntimeWarning: Determinant has increased; this should not happen: log(det) > log(previous_det) (3.571570005440735 > 0.194478164667705). You may want to try with a higher value of support_fraction (current value: 0.501).\n",
      "  RuntimeWarning)\n",
      "/home/abogatyrov/anaconda3/lib/python3.7/site-packages/sklearn/covariance/robust_covariance.py:170: RuntimeWarning: Determinant has increased; this should not happen: log(det) > log(previous_det) (-2.696695374780743 > -3.501671884971744). You may want to try with a higher value of support_fraction (current value: 0.501).\n",
      "  RuntimeWarning)\n",
      "/home/abogatyrov/anaconda3/lib/python3.7/site-packages/sklearn/covariance/robust_covariance.py:170: RuntimeWarning: Determinant has increased; this should not happen: log(det) > log(previous_det) (2.361299385634200 > -1.409335585817165). You may want to try with a higher value of support_fraction (current value: 0.501).\n",
      "  RuntimeWarning)\n",
      "/home/abogatyrov/anaconda3/lib/python3.7/site-packages/sklearn/covariance/robust_covariance.py:170: RuntimeWarning: Determinant has increased; this should not happen: log(det) > log(previous_det) (3.962077965604808 > -24.990155298611640). You may want to try with a higher value of support_fraction (current value: 0.501).\n",
      "  RuntimeWarning)\n",
      "/home/abogatyrov/anaconda3/lib/python3.7/site-packages/sklearn/covariance/robust_covariance.py:170: RuntimeWarning: Determinant has increased; this should not happen: log(det) > log(previous_det) (2.517471800069139 > -65.612569326123406). You may want to try with a higher value of support_fraction (current value: 0.500).\n",
      "  RuntimeWarning)\n"
     ]
    }
   ],
   "source": [
    "ee = EllipticEnvelope()\n",
    "params = {\n",
    "#     'support_fraction': np.linspace(0.70,   0.99,   num=30),\n",
    "    'contamination'   : np.linspace(0.0015, 0.0025, num=101)\n",
    "}\n",
    "f1score = make_scorer(f1_score)\n",
    "grdsrch = GridSearchCV(estimator=ee, param_grid=params, scoring=f1score, cv=folds, n_jobs=-1)\n",
    "grdsrch.fit(X1, y1);"
   ]
  },
  {
   "cell_type": "code",
   "execution_count": 38,
   "metadata": {},
   "outputs": [
    {
     "data": {
      "text/html": [
       "<div>\n",
       "<style scoped>\n",
       "    .dataframe tbody tr th:only-of-type {\n",
       "        vertical-align: middle;\n",
       "    }\n",
       "\n",
       "    .dataframe tbody tr th {\n",
       "        vertical-align: top;\n",
       "    }\n",
       "\n",
       "    .dataframe thead th {\n",
       "        text-align: right;\n",
       "    }\n",
       "</style>\n",
       "<table border=\"1\" class=\"dataframe\">\n",
       "  <thead>\n",
       "    <tr style=\"text-align: right;\">\n",
       "      <th></th>\n",
       "      <th>mean_test_score</th>\n",
       "      <th>params</th>\n",
       "    </tr>\n",
       "  </thead>\n",
       "  <tbody>\n",
       "    <tr>\n",
       "      <th>93</th>\n",
       "      <td>0.999570</td>\n",
       "      <td>{'contamination': 0.00243}</td>\n",
       "    </tr>\n",
       "    <tr>\n",
       "      <th>92</th>\n",
       "      <td>0.999570</td>\n",
       "      <td>{'contamination': 0.0024200000000000003}</td>\n",
       "    </tr>\n",
       "    <tr>\n",
       "      <th>88</th>\n",
       "      <td>0.999565</td>\n",
       "      <td>{'contamination': 0.00238}</td>\n",
       "    </tr>\n",
       "    <tr>\n",
       "      <th>84</th>\n",
       "      <td>0.999560</td>\n",
       "      <td>{'contamination': 0.00234}</td>\n",
       "    </tr>\n",
       "    <tr>\n",
       "      <th>86</th>\n",
       "      <td>0.999560</td>\n",
       "      <td>{'contamination': 0.00236}</td>\n",
       "    </tr>\n",
       "  </tbody>\n",
       "</table>\n",
       "</div>"
      ],
      "text/plain": [
       "    mean_test_score                                    params\n",
       "93         0.999570                {'contamination': 0.00243}\n",
       "92         0.999570  {'contamination': 0.0024200000000000003}\n",
       "88         0.999565                {'contamination': 0.00238}\n",
       "84         0.999560                {'contamination': 0.00234}\n",
       "86         0.999560                {'contamination': 0.00236}"
      ]
     },
     "execution_count": 38,
     "metadata": {},
     "output_type": "execute_result"
    }
   ],
   "source": [
    "df_res = pd.DataFrame(grdsrch.cv_results_)\n",
    "df_res[['mean_test_score', 'params']].sort_values(by=['mean_test_score'], ascending=False).head()"
   ]
  },
  {
   "cell_type": "code",
   "execution_count": 39,
   "metadata": {},
   "outputs": [
    {
     "data": {
      "text/plain": [
       "EllipticEnvelope(assume_centered=False, contamination=0.0024200000000000003,\n",
       "                 random_state=None, store_precision=True,\n",
       "                 support_fraction=None)"
      ]
     },
     "execution_count": 39,
     "metadata": {},
     "output_type": "execute_result"
    }
   ],
   "source": [
    "grdsrch.best_estimator_"
   ]
  },
  {
   "cell_type": "code",
   "execution_count": 45,
   "metadata": {},
   "outputs": [],
   "source": [
    "X_tst_drop = X_tst.drop(columns=columns4drop, axis=1)"
   ]
  },
  {
   "cell_type": "code",
   "execution_count": null,
   "metadata": {},
   "outputs": [],
   "source": []
  },
  {
   "cell_type": "code",
   "execution_count": 46,
   "metadata": {},
   "outputs": [
    {
     "name": "stderr",
     "output_type": "stream",
     "text": [
      "/home/abogatyrov/anaconda3/lib/python3.7/site-packages/sklearn/covariance/robust_covariance.py:170: RuntimeWarning: Determinant has increased; this should not happen: log(det) > log(previous_det) (6.485682936102525 > 6.289227325853878). You may want to try with a higher value of support_fraction (current value: 0.503).\n",
      "  RuntimeWarning)\n",
      "/home/abogatyrov/anaconda3/lib/python3.7/site-packages/sklearn/covariance/robust_covariance.py:170: RuntimeWarning: Determinant has increased; this should not happen: log(det) > log(previous_det) (9.405249563204361 > -28.448095167812880). You may want to try with a higher value of support_fraction (current value: 0.503).\n",
      "  RuntimeWarning)\n",
      "/home/abogatyrov/anaconda3/lib/python3.7/site-packages/sklearn/covariance/robust_covariance.py:170: RuntimeWarning: Determinant has increased; this should not happen: log(det) > log(previous_det) (3.470554475070283 > -23.318690245644810). You may want to try with a higher value of support_fraction (current value: 0.503).\n",
      "  RuntimeWarning)\n",
      "/home/abogatyrov/anaconda3/lib/python3.7/site-packages/sklearn/covariance/robust_covariance.py:170: RuntimeWarning: Determinant has increased; this should not happen: log(det) > log(previous_det) (10.191369545319473 > 8.423641656580402). You may want to try with a higher value of support_fraction (current value: 0.503).\n",
      "  RuntimeWarning)\n",
      "/home/abogatyrov/anaconda3/lib/python3.7/site-packages/sklearn/covariance/robust_covariance.py:170: RuntimeWarning: Determinant has increased; this should not happen: log(det) > log(previous_det) (9.821932799186328 > 8.849614812665909). You may want to try with a higher value of support_fraction (current value: 0.503).\n",
      "  RuntimeWarning)\n",
      "/home/abogatyrov/anaconda3/lib/python3.7/site-packages/sklearn/covariance/robust_covariance.py:170: RuntimeWarning: Determinant has increased; this should not happen: log(det) > log(previous_det) (10.266825194249796 > 8.562066694297922). You may want to try with a higher value of support_fraction (current value: 0.503).\n",
      "  RuntimeWarning)\n",
      "/home/abogatyrov/anaconda3/lib/python3.7/site-packages/sklearn/covariance/robust_covariance.py:170: RuntimeWarning: Determinant has increased; this should not happen: log(det) > log(previous_det) (11.150369248241010 > 9.871144770875397). You may want to try with a higher value of support_fraction (current value: 0.503).\n",
      "  RuntimeWarning)\n",
      "/home/abogatyrov/anaconda3/lib/python3.7/site-packages/sklearn/covariance/robust_covariance.py:170: RuntimeWarning: Determinant has increased; this should not happen: log(det) > log(previous_det) (10.958015137133600 > 10.248243728588676). You may want to try with a higher value of support_fraction (current value: 0.503).\n",
      "  RuntimeWarning)\n",
      "/home/abogatyrov/anaconda3/lib/python3.7/site-packages/sklearn/covariance/robust_covariance.py:170: RuntimeWarning: Determinant has increased; this should not happen: log(det) > log(previous_det) (9.434754356430485 > 9.433650970135581). You may want to try with a higher value of support_fraction (current value: 0.503).\n",
      "  RuntimeWarning)\n",
      "/home/abogatyrov/anaconda3/lib/python3.7/site-packages/sklearn/covariance/robust_covariance.py:170: RuntimeWarning: Determinant has increased; this should not happen: log(det) > log(previous_det) (10.958015137133600 > 10.248243728588719). You may want to try with a higher value of support_fraction (current value: 0.503).\n",
      "  RuntimeWarning)\n",
      "/home/abogatyrov/anaconda3/lib/python3.7/site-packages/sklearn/covariance/robust_covariance.py:170: RuntimeWarning: Determinant has increased; this should not happen: log(det) > log(previous_det) (5.713645422409591 > -23.613920697749919). You may want to try with a higher value of support_fraction (current value: 0.503).\n",
      "  RuntimeWarning)\n",
      "/home/abogatyrov/anaconda3/lib/python3.7/site-packages/sklearn/covariance/robust_covariance.py:170: RuntimeWarning: Determinant has increased; this should not happen: log(det) > log(previous_det) (3.165052631830990 > 1.992412282707317). You may want to try with a higher value of support_fraction (current value: 0.503).\n",
      "  RuntimeWarning)\n",
      "/home/abogatyrov/anaconda3/lib/python3.7/site-packages/sklearn/covariance/robust_covariance.py:170: RuntimeWarning: Determinant has increased; this should not happen: log(det) > log(previous_det) (7.762094655218545 > -30.997809353419697). You may want to try with a higher value of support_fraction (current value: 0.503).\n",
      "  RuntimeWarning)\n",
      "/home/abogatyrov/anaconda3/lib/python3.7/site-packages/sklearn/covariance/robust_covariance.py:170: RuntimeWarning: Determinant has increased; this should not happen: log(det) > log(previous_det) (3.930851900924700 > -24.287477730767858). You may want to try with a higher value of support_fraction (current value: 0.503).\n",
      "  RuntimeWarning)\n",
      "/home/abogatyrov/anaconda3/lib/python3.7/site-packages/sklearn/covariance/robust_covariance.py:170: RuntimeWarning: Determinant has increased; this should not happen: log(det) > log(previous_det) (4.112937914091043 > -24.941542946019972). You may want to try with a higher value of support_fraction (current value: 0.503).\n",
      "  RuntimeWarning)\n",
      "/home/abogatyrov/anaconda3/lib/python3.7/site-packages/sklearn/covariance/robust_covariance.py:170: RuntimeWarning: Determinant has increased; this should not happen: log(det) > log(previous_det) (3.848666757642488 > 3.729460660758176). You may want to try with a higher value of support_fraction (current value: 0.503).\n",
      "  RuntimeWarning)\n",
      "/home/abogatyrov/anaconda3/lib/python3.7/site-packages/sklearn/covariance/robust_covariance.py:170: RuntimeWarning: Determinant has increased; this should not happen: log(det) > log(previous_det) (4.670104063158419 > 4.398841783354828). You may want to try with a higher value of support_fraction (current value: 0.503).\n",
      "  RuntimeWarning)\n",
      "/home/abogatyrov/anaconda3/lib/python3.7/site-packages/sklearn/covariance/robust_covariance.py:170: RuntimeWarning: Determinant has increased; this should not happen: log(det) > log(previous_det) (6.502587456166223 > -24.786201571142996). You may want to try with a higher value of support_fraction (current value: 0.503).\n",
      "  RuntimeWarning)\n",
      "/home/abogatyrov/anaconda3/lib/python3.7/site-packages/sklearn/covariance/robust_covariance.py:170: RuntimeWarning: Determinant has increased; this should not happen: log(det) > log(previous_det) (8.610357682007592 > 6.357891142685919). You may want to try with a higher value of support_fraction (current value: 0.501).\n",
      "  RuntimeWarning)\n",
      "/home/abogatyrov/anaconda3/lib/python3.7/site-packages/sklearn/covariance/robust_covariance.py:170: RuntimeWarning: Determinant has increased; this should not happen: log(det) > log(previous_det) (6.043210489194539 > 5.363141077229220). You may want to try with a higher value of support_fraction (current value: 0.501).\n",
      "  RuntimeWarning)\n",
      "/home/abogatyrov/anaconda3/lib/python3.7/site-packages/sklearn/covariance/robust_covariance.py:170: RuntimeWarning: Determinant has increased; this should not happen: log(det) > log(previous_det) (1.641719197532604 > -30.730502039592647). You may want to try with a higher value of support_fraction (current value: 0.501).\n",
      "  RuntimeWarning)\n",
      "/home/abogatyrov/anaconda3/lib/python3.7/site-packages/sklearn/covariance/robust_covariance.py:170: RuntimeWarning: Determinant has increased; this should not happen: log(det) > log(previous_det) (1.641784054562478 > -28.414411507590643). You may want to try with a higher value of support_fraction (current value: 0.501).\n",
      "  RuntimeWarning)\n",
      "/home/abogatyrov/anaconda3/lib/python3.7/site-packages/sklearn/covariance/robust_covariance.py:170: RuntimeWarning: Determinant has increased; this should not happen: log(det) > log(previous_det) (9.706270792966389 > 3.172760374761274). You may want to try with a higher value of support_fraction (current value: 0.501).\n",
      "  RuntimeWarning)\n",
      "/home/abogatyrov/anaconda3/lib/python3.7/site-packages/sklearn/covariance/robust_covariance.py:170: RuntimeWarning: Determinant has increased; this should not happen: log(det) > log(previous_det) (1.641719197532604 > -30.387293084043439). You may want to try with a higher value of support_fraction (current value: 0.501).\n",
      "  RuntimeWarning)\n",
      "/home/abogatyrov/anaconda3/lib/python3.7/site-packages/sklearn/covariance/robust_covariance.py:170: RuntimeWarning: Determinant has increased; this should not happen: log(det) > log(previous_det) (9.524538751096452 > -25.711833057644249). You may want to try with a higher value of support_fraction (current value: 0.501).\n",
      "  RuntimeWarning)\n",
      "/home/abogatyrov/anaconda3/lib/python3.7/site-packages/sklearn/covariance/robust_covariance.py:170: RuntimeWarning: Determinant has increased; this should not happen: log(det) > log(previous_det) (6.038618941087789 > -25.494832257151572). You may want to try with a higher value of support_fraction (current value: 0.501).\n",
      "  RuntimeWarning)\n",
      "/home/abogatyrov/anaconda3/lib/python3.7/site-packages/sklearn/covariance/robust_covariance.py:170: RuntimeWarning: Determinant has increased; this should not happen: log(det) > log(previous_det) (6.025239371001733 > -24.409392232826733). You may want to try with a higher value of support_fraction (current value: 0.501).\n",
      "  RuntimeWarning)\n",
      "/home/abogatyrov/anaconda3/lib/python3.7/site-packages/sklearn/covariance/robust_covariance.py:170: RuntimeWarning: Determinant has increased; this should not happen: log(det) > log(previous_det) (6.814465623388271 > 6.709347142722447). You may want to try with a higher value of support_fraction (current value: 0.501).\n",
      "  RuntimeWarning)\n",
      "/home/abogatyrov/anaconda3/lib/python3.7/site-packages/sklearn/covariance/robust_covariance.py:170: RuntimeWarning: Determinant has increased; this should not happen: log(det) > log(previous_det) (9.429749608255456 > 5.901469216619928). You may want to try with a higher value of support_fraction (current value: 0.501).\n",
      "  RuntimeWarning)\n",
      "/home/abogatyrov/anaconda3/lib/python3.7/site-packages/sklearn/covariance/robust_covariance.py:170: RuntimeWarning: Determinant has increased; this should not happen: log(det) > log(previous_det) (7.605980368972707 > 7.049783595673891). You may want to try with a higher value of support_fraction (current value: 0.501).\n",
      "  RuntimeWarning)\n",
      "/home/abogatyrov/anaconda3/lib/python3.7/site-packages/sklearn/covariance/robust_covariance.py:170: RuntimeWarning: Determinant has increased; this should not happen: log(det) > log(previous_det) (6.028042775455736 > -28.099125581878457). You may want to try with a higher value of support_fraction (current value: 0.501).\n",
      "  RuntimeWarning)\n",
      "/home/abogatyrov/anaconda3/lib/python3.7/site-packages/sklearn/covariance/robust_covariance.py:170: RuntimeWarning: Determinant has increased; this should not happen: log(det) > log(previous_det) (6.028042775455736 > -27.461761844010638). You may want to try with a higher value of support_fraction (current value: 0.501).\n",
      "  RuntimeWarning)\n",
      "/home/abogatyrov/anaconda3/lib/python3.7/site-packages/sklearn/covariance/robust_covariance.py:170: RuntimeWarning: Determinant has increased; this should not happen: log(det) > log(previous_det) (6.025239371001733 > -24.485417162758239). You may want to try with a higher value of support_fraction (current value: 0.501).\n",
      "  RuntimeWarning)\n",
      "/home/abogatyrov/anaconda3/lib/python3.7/site-packages/sklearn/covariance/robust_covariance.py:170: RuntimeWarning: Determinant has increased; this should not happen: log(det) > log(previous_det) (1.641708387618671 > -28.118670772159234). You may want to try with a higher value of support_fraction (current value: 0.501).\n",
      "  RuntimeWarning)\n",
      "/home/abogatyrov/anaconda3/lib/python3.7/site-packages/sklearn/covariance/robust_covariance.py:170: RuntimeWarning: Determinant has increased; this should not happen: log(det) > log(previous_det) (1.641708387618650 > -29.115390515551788). You may want to try with a higher value of support_fraction (current value: 0.501).\n",
      "  RuntimeWarning)\n",
      "/home/abogatyrov/anaconda3/lib/python3.7/site-packages/sklearn/covariance/robust_covariance.py:170: RuntimeWarning: Determinant has increased; this should not happen: log(det) > log(previous_det) (8.647637288104747 > -21.824052974320118). You may want to try with a higher value of support_fraction (current value: 0.501).\n",
      "  RuntimeWarning)\n",
      "/home/abogatyrov/anaconda3/lib/python3.7/site-packages/sklearn/covariance/robust_covariance.py:170: RuntimeWarning: Determinant has increased; this should not happen: log(det) > log(previous_det) (6.038618941087789 > -25.515328883343727). You may want to try with a higher value of support_fraction (current value: 0.501).\n",
      "  RuntimeWarning)\n",
      "/home/abogatyrov/anaconda3/lib/python3.7/site-packages/sklearn/covariance/robust_covariance.py:170: RuntimeWarning: Determinant has increased; this should not happen: log(det) > log(previous_det) (5.711437219294812 > 4.989118952319612). You may want to try with a higher value of support_fraction (current value: 0.501).\n",
      "  RuntimeWarning)\n",
      "/home/abogatyrov/anaconda3/lib/python3.7/site-packages/sklearn/covariance/robust_covariance.py:170: RuntimeWarning: Determinant has increased; this should not happen: log(det) > log(previous_det) (9.872642879948248 > 6.725936653293440). You may want to try with a higher value of support_fraction (current value: 0.501).\n",
      "  RuntimeWarning)\n",
      "/home/abogatyrov/anaconda3/lib/python3.7/site-packages/sklearn/covariance/robust_covariance.py:170: RuntimeWarning: Determinant has increased; this should not happen: log(det) > log(previous_det) (7.104099403385091 > 1.355080984436148). You may want to try with a higher value of support_fraction (current value: 0.501).\n",
      "  RuntimeWarning)\n",
      "/home/abogatyrov/anaconda3/lib/python3.7/site-packages/sklearn/covariance/robust_covariance.py:170: RuntimeWarning: Determinant has increased; this should not happen: log(det) > log(previous_det) (1.641719197532604 > -30.714710909082633). You may want to try with a higher value of support_fraction (current value: 0.501).\n",
      "  RuntimeWarning)\n"
     ]
    },
    {
     "name": "stderr",
     "output_type": "stream",
     "text": [
      "/home/abogatyrov/anaconda3/lib/python3.7/site-packages/sklearn/covariance/robust_covariance.py:170: RuntimeWarning: Determinant has increased; this should not happen: log(det) > log(previous_det) (1.646722433411263 > -28.015997430446241). You may want to try with a higher value of support_fraction (current value: 0.501).\n",
      "  RuntimeWarning)\n",
      "/home/abogatyrov/anaconda3/lib/python3.7/site-packages/sklearn/covariance/robust_covariance.py:170: RuntimeWarning: Determinant has increased; this should not happen: log(det) > log(previous_det) (-1.031674782463363 > -25.723715147885166). You may want to try with a higher value of support_fraction (current value: 0.501).\n",
      "  RuntimeWarning)\n",
      "/home/abogatyrov/anaconda3/lib/python3.7/site-packages/sklearn/covariance/robust_covariance.py:170: RuntimeWarning: Determinant has increased; this should not happen: log(det) > log(previous_det) (7.962327246399568 > 6.227288560316013). You may want to try with a higher value of support_fraction (current value: 0.501).\n",
      "  RuntimeWarning)\n",
      "/home/abogatyrov/anaconda3/lib/python3.7/site-packages/sklearn/covariance/robust_covariance.py:170: RuntimeWarning: Determinant has increased; this should not happen: log(det) > log(previous_det) (9.225285185453492 > 6.627576282270700). You may want to try with a higher value of support_fraction (current value: 0.501).\n",
      "  RuntimeWarning)\n",
      "/home/abogatyrov/anaconda3/lib/python3.7/site-packages/sklearn/covariance/robust_covariance.py:170: RuntimeWarning: Determinant has increased; this should not happen: log(det) > log(previous_det) (6.850288674818196 > 6.674235283291155). You may want to try with a higher value of support_fraction (current value: 0.501).\n",
      "  RuntimeWarning)\n",
      "/home/abogatyrov/anaconda3/lib/python3.7/site-packages/sklearn/covariance/robust_covariance.py:170: RuntimeWarning: Determinant has increased; this should not happen: log(det) > log(previous_det) (7.079227566722506 > -22.351656165936323). You may want to try with a higher value of support_fraction (current value: 0.501).\n",
      "  RuntimeWarning)\n",
      "/home/abogatyrov/anaconda3/lib/python3.7/site-packages/sklearn/covariance/robust_covariance.py:170: RuntimeWarning: Determinant has increased; this should not happen: log(det) > log(previous_det) (1.641708387618651 > -30.216960598020236). You may want to try with a higher value of support_fraction (current value: 0.501).\n",
      "  RuntimeWarning)\n",
      "/home/abogatyrov/anaconda3/lib/python3.7/site-packages/sklearn/covariance/robust_covariance.py:170: RuntimeWarning: Determinant has increased; this should not happen: log(det) > log(previous_det) (6.791861830906042 > 4.791495990054532). You may want to try with a higher value of support_fraction (current value: 0.501).\n",
      "  RuntimeWarning)\n",
      "/home/abogatyrov/anaconda3/lib/python3.7/site-packages/sklearn/covariance/robust_covariance.py:170: RuntimeWarning: Determinant has increased; this should not happen: log(det) > log(previous_det) (9.506680499559724 > -25.662944244754446). You may want to try with a higher value of support_fraction (current value: 0.501).\n",
      "  RuntimeWarning)\n",
      "/home/abogatyrov/anaconda3/lib/python3.7/site-packages/sklearn/covariance/robust_covariance.py:170: RuntimeWarning: Determinant has increased; this should not happen: log(det) > log(previous_det) (8.314813082810886 > -22.836620764254132). You may want to try with a higher value of support_fraction (current value: 0.501).\n",
      "  RuntimeWarning)\n",
      "/home/abogatyrov/anaconda3/lib/python3.7/site-packages/sklearn/covariance/robust_covariance.py:170: RuntimeWarning: Determinant has increased; this should not happen: log(det) > log(previous_det) (8.314813082810886 > -22.830099590452544). You may want to try with a higher value of support_fraction (current value: 0.501).\n",
      "  RuntimeWarning)\n",
      "/home/abogatyrov/anaconda3/lib/python3.7/site-packages/sklearn/covariance/robust_covariance.py:170: RuntimeWarning: Determinant has increased; this should not happen: log(det) > log(previous_det) (9.201025874128776 > 4.960992179745861). You may want to try with a higher value of support_fraction (current value: 0.501).\n",
      "  RuntimeWarning)\n",
      "/home/abogatyrov/anaconda3/lib/python3.7/site-packages/sklearn/covariance/robust_covariance.py:170: RuntimeWarning: Determinant has increased; this should not happen: log(det) > log(previous_det) (1.642640313358502 > -28.053730115150024). You may want to try with a higher value of support_fraction (current value: 0.501).\n",
      "  RuntimeWarning)\n",
      "/home/abogatyrov/anaconda3/lib/python3.7/site-packages/sklearn/covariance/robust_covariance.py:170: RuntimeWarning: Determinant has increased; this should not happen: log(det) > log(previous_det) (13.145466519868423 > 11.516321011007028). You may want to try with a higher value of support_fraction (current value: 0.501).\n",
      "  RuntimeWarning)\n",
      "/home/abogatyrov/anaconda3/lib/python3.7/site-packages/sklearn/covariance/robust_covariance.py:170: RuntimeWarning: Determinant has increased; this should not happen: log(det) > log(previous_det) (4.268251194843519 > 2.785941105471995). You may want to try with a higher value of support_fraction (current value: 0.501).\n",
      "  RuntimeWarning)\n",
      "/home/abogatyrov/anaconda3/lib/python3.7/site-packages/sklearn/covariance/robust_covariance.py:170: RuntimeWarning: Determinant has increased; this should not happen: log(det) > log(previous_det) (-1.589248043250739 > -59.266480935017633). You may want to try with a higher value of support_fraction (current value: 0.501).\n",
      "  RuntimeWarning)\n",
      "/home/abogatyrov/anaconda3/lib/python3.7/site-packages/sklearn/covariance/robust_covariance.py:170: RuntimeWarning: Determinant has increased; this should not happen: log(det) > log(previous_det) (-2.016247337831386 > -55.605426180315547). You may want to try with a higher value of support_fraction (current value: 0.501).\n",
      "  RuntimeWarning)\n",
      "/home/abogatyrov/anaconda3/lib/python3.7/site-packages/sklearn/covariance/robust_covariance.py:170: RuntimeWarning: Determinant has increased; this should not happen: log(det) > log(previous_det) (1.646722433411263 > -30.614916866325640). You may want to try with a higher value of support_fraction (current value: 0.501).\n",
      "  RuntimeWarning)\n",
      "/home/abogatyrov/anaconda3/lib/python3.7/site-packages/sklearn/covariance/robust_covariance.py:170: RuntimeWarning: Determinant has increased; this should not happen: log(det) > log(previous_det) (6.791861830906042 > -24.214162519586747). You may want to try with a higher value of support_fraction (current value: 0.501).\n",
      "  RuntimeWarning)\n",
      "/home/abogatyrov/anaconda3/lib/python3.7/site-packages/sklearn/covariance/robust_covariance.py:170: RuntimeWarning: Determinant has increased; this should not happen: log(det) > log(previous_det) (6.814465623388231 > 6.725250554233501). You may want to try with a higher value of support_fraction (current value: 0.501).\n",
      "  RuntimeWarning)\n",
      "/home/abogatyrov/anaconda3/lib/python3.7/site-packages/sklearn/covariance/robust_covariance.py:170: RuntimeWarning: Determinant has increased; this should not happen: log(det) > log(previous_det) (7.080927172204071 > -22.510015013655174). You may want to try with a higher value of support_fraction (current value: 0.501).\n",
      "  RuntimeWarning)\n",
      "/home/abogatyrov/anaconda3/lib/python3.7/site-packages/sklearn/covariance/robust_covariance.py:170: RuntimeWarning: Determinant has increased; this should not happen: log(det) > log(previous_det) (6.028042775455736 > -27.334562282026887). You may want to try with a higher value of support_fraction (current value: 0.501).\n",
      "  RuntimeWarning)\n",
      "/home/abogatyrov/anaconda3/lib/python3.7/site-packages/sklearn/covariance/robust_covariance.py:170: RuntimeWarning: Determinant has increased; this should not happen: log(det) > log(previous_det) (-1.708520207525812 > -1.742010492173002). You may want to try with a higher value of support_fraction (current value: 0.501).\n",
      "  RuntimeWarning)\n",
      "/home/abogatyrov/anaconda3/lib/python3.7/site-packages/sklearn/covariance/robust_covariance.py:170: RuntimeWarning: Determinant has increased; this should not happen: log(det) > log(previous_det) (8.329463191120384 > -22.729428218218910). You may want to try with a higher value of support_fraction (current value: 0.501).\n",
      "  RuntimeWarning)\n",
      "/home/abogatyrov/anaconda3/lib/python3.7/site-packages/sklearn/covariance/robust_covariance.py:170: RuntimeWarning: Determinant has increased; this should not happen: log(det) > log(previous_det) (1.642640313358500 > -28.873877740201578). You may want to try with a higher value of support_fraction (current value: 0.501).\n",
      "  RuntimeWarning)\n",
      "/home/abogatyrov/anaconda3/lib/python3.7/site-packages/sklearn/covariance/robust_covariance.py:170: RuntimeWarning: Determinant has increased; this should not happen: log(det) > log(previous_det) (-27.971160196095067 > -28.127493337851774). You may want to try with a higher value of support_fraction (current value: 0.501).\n",
      "  RuntimeWarning)\n",
      "/home/abogatyrov/anaconda3/lib/python3.7/site-packages/sklearn/covariance/robust_covariance.py:170: RuntimeWarning: Determinant has increased; this should not happen: log(det) > log(previous_det) (-27.971160196095067 > -28.119401475785040). You may want to try with a higher value of support_fraction (current value: 0.501).\n",
      "  RuntimeWarning)\n",
      "/home/abogatyrov/anaconda3/lib/python3.7/site-packages/sklearn/covariance/robust_covariance.py:170: RuntimeWarning: Determinant has increased; this should not happen: log(det) > log(previous_det) (9.022875297227937 > 4.653510335952710). You may want to try with a higher value of support_fraction (current value: 0.501).\n",
      "  RuntimeWarning)\n",
      "/home/abogatyrov/anaconda3/lib/python3.7/site-packages/sklearn/covariance/robust_covariance.py:170: RuntimeWarning: Determinant has increased; this should not happen: log(det) > log(previous_det) (8.968339298918430 > 4.651992626570651). You may want to try with a higher value of support_fraction (current value: 0.501).\n",
      "  RuntimeWarning)\n",
      "/home/abogatyrov/anaconda3/lib/python3.7/site-packages/sklearn/covariance/robust_covariance.py:170: RuntimeWarning: Determinant has increased; this should not happen: log(det) > log(previous_det) (1.646722433411263 > -1.849215342785688). You may want to try with a higher value of support_fraction (current value: 0.501).\n",
      "  RuntimeWarning)\n",
      "/home/abogatyrov/anaconda3/lib/python3.7/site-packages/sklearn/covariance/robust_covariance.py:170: RuntimeWarning: Determinant has increased; this should not happen: log(det) > log(previous_det) (6.002299965979351 > 5.258046773883728). You may want to try with a higher value of support_fraction (current value: 0.501).\n",
      "  RuntimeWarning)\n",
      "/home/abogatyrov/anaconda3/lib/python3.7/site-packages/sklearn/covariance/robust_covariance.py:170: RuntimeWarning: Determinant has increased; this should not happen: log(det) > log(previous_det) (9.434016624789050 > 6.334803343748829). You may want to try with a higher value of support_fraction (current value: 0.501).\n",
      "  RuntimeWarning)\n",
      "/home/abogatyrov/anaconda3/lib/python3.7/site-packages/sklearn/covariance/robust_covariance.py:170: RuntimeWarning: Determinant has increased; this should not happen: log(det) > log(previous_det) (9.184108025526644 > -22.308323331316267). You may want to try with a higher value of support_fraction (current value: 0.501).\n",
      "  RuntimeWarning)\n",
      "/home/abogatyrov/anaconda3/lib/python3.7/site-packages/sklearn/covariance/robust_covariance.py:170: RuntimeWarning: Determinant has increased; this should not happen: log(det) > log(previous_det) (-27.971160196095067 > -28.421725373306224). You may want to try with a higher value of support_fraction (current value: 0.501).\n",
      "  RuntimeWarning)\n",
      "/home/abogatyrov/anaconda3/lib/python3.7/site-packages/sklearn/covariance/robust_covariance.py:170: RuntimeWarning: Determinant has increased; this should not happen: log(det) > log(previous_det) (-27.971160196095067 > -29.029611215916297). You may want to try with a higher value of support_fraction (current value: 0.501).\n",
      "  RuntimeWarning)\n",
      "/home/abogatyrov/anaconda3/lib/python3.7/site-packages/sklearn/covariance/robust_covariance.py:170: RuntimeWarning: Determinant has increased; this should not happen: log(det) > log(previous_det) (1.641730682938141 > -29.017882273928041). You may want to try with a higher value of support_fraction (current value: 0.501).\n",
      "  RuntimeWarning)\n"
     ]
    },
    {
     "name": "stderr",
     "output_type": "stream",
     "text": [
      "/home/abogatyrov/anaconda3/lib/python3.7/site-packages/sklearn/covariance/robust_covariance.py:170: RuntimeWarning: Determinant has increased; this should not happen: log(det) > log(previous_det) (9.359405459916719 > -25.382548583340029). You may want to try with a higher value of support_fraction (current value: 0.501).\n",
      "  RuntimeWarning)\n",
      "/home/abogatyrov/anaconda3/lib/python3.7/site-packages/sklearn/covariance/robust_covariance.py:170: RuntimeWarning: Determinant has increased; this should not happen: log(det) > log(previous_det) (9.934499740501774 > 7.707342679888614). You may want to try with a higher value of support_fraction (current value: 0.501).\n",
      "  RuntimeWarning)\n",
      "/home/abogatyrov/anaconda3/lib/python3.7/site-packages/sklearn/covariance/robust_covariance.py:170: RuntimeWarning: Determinant has increased; this should not happen: log(det) > log(previous_det) (9.880477469952162 > 7.713195294238093). You may want to try with a higher value of support_fraction (current value: 0.501).\n",
      "  RuntimeWarning)\n",
      "/home/abogatyrov/anaconda3/lib/python3.7/site-packages/sklearn/covariance/robust_covariance.py:170: RuntimeWarning: Determinant has increased; this should not happen: log(det) > log(previous_det) (1.641784054562478 > -28.884437273947388). You may want to try with a higher value of support_fraction (current value: 0.501).\n",
      "  RuntimeWarning)\n",
      "/home/abogatyrov/anaconda3/lib/python3.7/site-packages/sklearn/covariance/robust_covariance.py:170: RuntimeWarning: Determinant has increased; this should not happen: log(det) > log(previous_det) (-22.320689756946891 > -25.420999535569319). You may want to try with a higher value of support_fraction (current value: 0.501).\n",
      "  RuntimeWarning)\n",
      "/home/abogatyrov/anaconda3/lib/python3.7/site-packages/sklearn/covariance/robust_covariance.py:170: RuntimeWarning: Determinant has increased; this should not happen: log(det) > log(previous_det) (6.039959478106820 > -25.735514043338362). You may want to try with a higher value of support_fraction (current value: 0.501).\n",
      "  RuntimeWarning)\n",
      "/home/abogatyrov/anaconda3/lib/python3.7/site-packages/sklearn/covariance/robust_covariance.py:170: RuntimeWarning: Determinant has increased; this should not happen: log(det) > log(previous_det) (7.031938542250050 > 2.457163350567992). You may want to try with a higher value of support_fraction (current value: 0.501).\n",
      "  RuntimeWarning)\n",
      "/home/abogatyrov/anaconda3/lib/python3.7/site-packages/sklearn/covariance/robust_covariance.py:170: RuntimeWarning: Determinant has increased; this should not happen: log(det) > log(previous_det) (10.339837170487765 > 8.451644948501539). You may want to try with a higher value of support_fraction (current value: 0.501).\n",
      "  RuntimeWarning)\n",
      "/home/abogatyrov/anaconda3/lib/python3.7/site-packages/sklearn/covariance/robust_covariance.py:170: RuntimeWarning: Determinant has increased; this should not happen: log(det) > log(previous_det) (7.101842619653162 > -22.514600121419569). You may want to try with a higher value of support_fraction (current value: 0.501).\n",
      "  RuntimeWarning)\n",
      "/home/abogatyrov/anaconda3/lib/python3.7/site-packages/sklearn/covariance/robust_covariance.py:170: RuntimeWarning: Determinant has increased; this should not happen: log(det) > log(previous_det) (-2.016247337831378 > -55.765844182420764). You may want to try with a higher value of support_fraction (current value: 0.501).\n",
      "  RuntimeWarning)\n",
      "/home/abogatyrov/anaconda3/lib/python3.7/site-packages/sklearn/covariance/robust_covariance.py:170: RuntimeWarning: Determinant has increased; this should not happen: log(det) > log(previous_det) (1.641711225232359 > -30.260369634495454). You may want to try with a higher value of support_fraction (current value: 0.501).\n",
      "  RuntimeWarning)\n",
      "/home/abogatyrov/anaconda3/lib/python3.7/site-packages/sklearn/covariance/robust_covariance.py:170: RuntimeWarning: Determinant has increased; this should not happen: log(det) > log(previous_det) (1.641708387618680 > -30.759794045844714). You may want to try with a higher value of support_fraction (current value: 0.501).\n",
      "  RuntimeWarning)\n",
      "/home/abogatyrov/anaconda3/lib/python3.7/site-packages/sklearn/covariance/robust_covariance.py:170: RuntimeWarning: Determinant has increased; this should not happen: log(det) > log(previous_det) (10.404197305896812 > 9.078471222149535). You may want to try with a higher value of support_fraction (current value: 0.501).\n",
      "  RuntimeWarning)\n",
      "/home/abogatyrov/anaconda3/lib/python3.7/site-packages/sklearn/covariance/robust_covariance.py:170: RuntimeWarning: Determinant has increased; this should not happen: log(det) > log(previous_det) (7.900905030668218 > 6.131644115146029). You may want to try with a higher value of support_fraction (current value: 0.501).\n",
      "  RuntimeWarning)\n",
      "/home/abogatyrov/anaconda3/lib/python3.7/site-packages/sklearn/covariance/robust_covariance.py:170: RuntimeWarning: Determinant has increased; this should not happen: log(det) > log(previous_det) (7.018950105638333 > 6.540082396880114). You may want to try with a higher value of support_fraction (current value: 0.501).\n",
      "  RuntimeWarning)\n",
      "/home/abogatyrov/anaconda3/lib/python3.7/site-packages/sklearn/covariance/robust_covariance.py:170: RuntimeWarning: Determinant has increased; this should not happen: log(det) > log(previous_det) (1.641708387618651 > -30.643925297543554). You may want to try with a higher value of support_fraction (current value: 0.501).\n",
      "  RuntimeWarning)\n",
      "/home/abogatyrov/anaconda3/lib/python3.7/site-packages/sklearn/covariance/robust_covariance.py:170: RuntimeWarning: Determinant has increased; this should not happen: log(det) > log(previous_det) (7.551968185890374 > 1.523880076864549). You may want to try with a higher value of support_fraction (current value: 0.501).\n",
      "  RuntimeWarning)\n",
      "/home/abogatyrov/anaconda3/lib/python3.7/site-packages/sklearn/covariance/robust_covariance.py:170: RuntimeWarning: Determinant has increased; this should not happen: log(det) > log(previous_det) (7.019083489585720 > 6.540782398996038). You may want to try with a higher value of support_fraction (current value: 0.501).\n",
      "  RuntimeWarning)\n",
      "/home/abogatyrov/anaconda3/lib/python3.7/site-packages/sklearn/covariance/robust_covariance.py:170: RuntimeWarning: Determinant has increased; this should not happen: log(det) > log(previous_det) (6.825295368349838 > 6.577391149000389). You may want to try with a higher value of support_fraction (current value: 0.501).\n",
      "  RuntimeWarning)\n",
      "/home/abogatyrov/anaconda3/lib/python3.7/site-packages/sklearn/covariance/robust_covariance.py:170: RuntimeWarning: Determinant has increased; this should not happen: log(det) > log(previous_det) (5.846826388641268 > -22.647892932475290). You may want to try with a higher value of support_fraction (current value: 0.501).\n",
      "  RuntimeWarning)\n",
      "/home/abogatyrov/anaconda3/lib/python3.7/site-packages/sklearn/covariance/robust_covariance.py:170: RuntimeWarning: Determinant has increased; this should not happen: log(det) > log(previous_det) (1.641719197532604 > -28.505978052470347). You may want to try with a higher value of support_fraction (current value: 0.501).\n",
      "  RuntimeWarning)\n",
      "/home/abogatyrov/anaconda3/lib/python3.7/site-packages/sklearn/covariance/robust_covariance.py:170: RuntimeWarning: Determinant has increased; this should not happen: log(det) > log(previous_det) (1.641775947663803 > -31.072690331301590). You may want to try with a higher value of support_fraction (current value: 0.501).\n",
      "  RuntimeWarning)\n",
      "/home/abogatyrov/anaconda3/lib/python3.7/site-packages/sklearn/covariance/robust_covariance.py:170: RuntimeWarning: Determinant has increased; this should not happen: log(det) > log(previous_det) (8.661625035538972 > 6.428689746124514). You may want to try with a higher value of support_fraction (current value: 0.501).\n",
      "  RuntimeWarning)\n",
      "/home/abogatyrov/anaconda3/lib/python3.7/site-packages/sklearn/covariance/robust_covariance.py:170: RuntimeWarning: Determinant has increased; this should not happen: log(det) > log(previous_det) (10.437569264562823 > 9.206060911889718). You may want to try with a higher value of support_fraction (current value: 0.501).\n",
      "  RuntimeWarning)\n",
      "/home/abogatyrov/anaconda3/lib/python3.7/site-packages/sklearn/covariance/robust_covariance.py:170: RuntimeWarning: Determinant has increased; this should not happen: log(det) > log(previous_det) (6.814465623388223 > 6.545544749947675). You may want to try with a higher value of support_fraction (current value: 0.501).\n",
      "  RuntimeWarning)\n",
      "/home/abogatyrov/anaconda3/lib/python3.7/site-packages/sklearn/covariance/robust_covariance.py:170: RuntimeWarning: Determinant has increased; this should not happen: log(det) > log(previous_det) (6.814465623388234 > 6.580916459046214). You may want to try with a higher value of support_fraction (current value: 0.501).\n",
      "  RuntimeWarning)\n",
      "/home/abogatyrov/anaconda3/lib/python3.7/site-packages/sklearn/covariance/robust_covariance.py:170: RuntimeWarning: Determinant has increased; this should not happen: log(det) > log(previous_det) (8.009063419084571 > 5.230382486206457). You may want to try with a higher value of support_fraction (current value: 0.501).\n",
      "  RuntimeWarning)\n",
      "/home/abogatyrov/anaconda3/lib/python3.7/site-packages/sklearn/covariance/robust_covariance.py:170: RuntimeWarning: Determinant has increased; this should not happen: log(det) > log(previous_det) (6.814465623388229 > 6.668146559691573). You may want to try with a higher value of support_fraction (current value: 0.501).\n",
      "  RuntimeWarning)\n",
      "/home/abogatyrov/anaconda3/lib/python3.7/site-packages/sklearn/covariance/robust_covariance.py:170: RuntimeWarning: Determinant has increased; this should not happen: log(det) > log(previous_det) (6.575474203689565 > 5.380365926712040). You may want to try with a higher value of support_fraction (current value: 0.501).\n",
      "  RuntimeWarning)\n",
      "/home/abogatyrov/anaconda3/lib/python3.7/site-packages/sklearn/covariance/robust_covariance.py:170: RuntimeWarning: Determinant has increased; this should not happen: log(det) > log(previous_det) (-30.571972271890090 > -32.112506440501178). You may want to try with a higher value of support_fraction (current value: 0.501).\n",
      "  RuntimeWarning)\n"
     ]
    },
    {
     "name": "stderr",
     "output_type": "stream",
     "text": [
      "/home/abogatyrov/anaconda3/lib/python3.7/site-packages/sklearn/covariance/robust_covariance.py:170: RuntimeWarning: Determinant has increased; this should not happen: log(det) > log(previous_det) (6.637213727159780 > 2.091085013463672). You may want to try with a higher value of support_fraction (current value: 0.501).\n",
      "  RuntimeWarning)\n",
      "/home/abogatyrov/anaconda3/lib/python3.7/site-packages/sklearn/covariance/robust_covariance.py:170: RuntimeWarning: Determinant has increased; this should not happen: log(det) > log(previous_det) (1.641708387618670 > -28.067148134213475). You may want to try with a higher value of support_fraction (current value: 0.501).\n",
      "  RuntimeWarning)\n",
      "/home/abogatyrov/anaconda3/lib/python3.7/site-packages/sklearn/covariance/robust_covariance.py:170: RuntimeWarning: Determinant has increased; this should not happen: log(det) > log(previous_det) (6.639480852341633 > 6.395914563101663). You may want to try with a higher value of support_fraction (current value: 0.501).\n",
      "  RuntimeWarning)\n",
      "/home/abogatyrov/anaconda3/lib/python3.7/site-packages/sklearn/covariance/robust_covariance.py:170: RuntimeWarning: Determinant has increased; this should not happen: log(det) > log(previous_det) (10.071152608768095 > 8.870311589932633). You may want to try with a higher value of support_fraction (current value: 0.501).\n",
      "  RuntimeWarning)\n",
      "/home/abogatyrov/anaconda3/lib/python3.7/site-packages/sklearn/covariance/robust_covariance.py:170: RuntimeWarning: Determinant has increased; this should not happen: log(det) > log(previous_det) (6.027535625386473 > -27.413981778938250). You may want to try with a higher value of support_fraction (current value: 0.501).\n",
      "  RuntimeWarning)\n",
      "/home/abogatyrov/anaconda3/lib/python3.7/site-packages/sklearn/covariance/robust_covariance.py:170: RuntimeWarning: Determinant has increased; this should not happen: log(det) > log(previous_det) (1.646722433411263 > -30.754091007806302). You may want to try with a higher value of support_fraction (current value: 0.501).\n",
      "  RuntimeWarning)\n",
      "/home/abogatyrov/anaconda3/lib/python3.7/site-packages/sklearn/covariance/robust_covariance.py:170: RuntimeWarning: Determinant has increased; this should not happen: log(det) > log(previous_det) (9.203283373214051 > 4.880742019868839). You may want to try with a higher value of support_fraction (current value: 0.501).\n",
      "  RuntimeWarning)\n",
      "/home/abogatyrov/anaconda3/lib/python3.7/site-packages/sklearn/covariance/robust_covariance.py:170: RuntimeWarning: Determinant has increased; this should not happen: log(det) > log(previous_det) (6.814465623388251 > 6.581978912575138). You may want to try with a higher value of support_fraction (current value: 0.501).\n",
      "  RuntimeWarning)\n",
      "/home/abogatyrov/anaconda3/lib/python3.7/site-packages/sklearn/covariance/robust_covariance.py:170: RuntimeWarning: Determinant has increased; this should not happen: log(det) > log(previous_det) (10.269051329208482 > 8.702902667659936). You may want to try with a higher value of support_fraction (current value: 0.501).\n",
      "  RuntimeWarning)\n",
      "/home/abogatyrov/anaconda3/lib/python3.7/site-packages/sklearn/covariance/robust_covariance.py:170: RuntimeWarning: Determinant has increased; this should not happen: log(det) > log(previous_det) (-0.811642744556668 > -25.149768306076744). You may want to try with a higher value of support_fraction (current value: 0.501).\n",
      "  RuntimeWarning)\n",
      "/home/abogatyrov/anaconda3/lib/python3.7/site-packages/sklearn/covariance/robust_covariance.py:170: RuntimeWarning: Determinant has increased; this should not happen: log(det) > log(previous_det) (9.549560225344875 > -25.712604844070619). You may want to try with a higher value of support_fraction (current value: 0.501).\n",
      "  RuntimeWarning)\n",
      "/home/abogatyrov/anaconda3/lib/python3.7/site-packages/sklearn/covariance/robust_covariance.py:170: RuntimeWarning: Determinant has increased; this should not happen: log(det) > log(previous_det) (8.636776874604770 > 5.716971345493869). You may want to try with a higher value of support_fraction (current value: 0.501).\n",
      "  RuntimeWarning)\n",
      "/home/abogatyrov/anaconda3/lib/python3.7/site-packages/sklearn/covariance/robust_covariance.py:170: RuntimeWarning: Determinant has increased; this should not happen: log(det) > log(previous_det) (8.636776874604770 > 5.717303101815484). You may want to try with a higher value of support_fraction (current value: 0.501).\n",
      "  RuntimeWarning)\n",
      "/home/abogatyrov/anaconda3/lib/python3.7/site-packages/sklearn/covariance/robust_covariance.py:170: RuntimeWarning: Determinant has increased; this should not happen: log(det) > log(previous_det) (1.641719197532604 > -30.940455528408634). You may want to try with a higher value of support_fraction (current value: 0.501).\n",
      "  RuntimeWarning)\n",
      "/home/abogatyrov/anaconda3/lib/python3.7/site-packages/sklearn/covariance/robust_covariance.py:170: RuntimeWarning: Determinant has increased; this should not happen: log(det) > log(previous_det) (9.103188137565466 > 4.438046309278915). You may want to try with a higher value of support_fraction (current value: 0.501).\n",
      "  RuntimeWarning)\n",
      "/home/abogatyrov/anaconda3/lib/python3.7/site-packages/sklearn/covariance/robust_covariance.py:170: RuntimeWarning: Determinant has increased; this should not happen: log(det) > log(previous_det) (10.353181043504906 > 8.024146465111818). You may want to try with a higher value of support_fraction (current value: 0.501).\n",
      "  RuntimeWarning)\n",
      "/home/abogatyrov/anaconda3/lib/python3.7/site-packages/sklearn/covariance/robust_covariance.py:170: RuntimeWarning: Determinant has increased; this should not happen: log(det) > log(previous_det) (8.981207665481499 > 8.090076511703368). You may want to try with a higher value of support_fraction (current value: 0.501).\n",
      "  RuntimeWarning)\n",
      "/home/abogatyrov/anaconda3/lib/python3.7/site-packages/sklearn/covariance/robust_covariance.py:170: RuntimeWarning: Determinant has increased; this should not happen: log(det) > log(previous_det) (7.090526283762504 > 2.515690729740604). You may want to try with a higher value of support_fraction (current value: 0.501).\n",
      "  RuntimeWarning)\n",
      "/home/abogatyrov/anaconda3/lib/python3.7/site-packages/sklearn/covariance/robust_covariance.py:170: RuntimeWarning: Determinant has increased; this should not happen: log(det) > log(previous_det) (9.127118506484567 > 4.774698603194564). You may want to try with a higher value of support_fraction (current value: 0.501).\n",
      "  RuntimeWarning)\n",
      "/home/abogatyrov/anaconda3/lib/python3.7/site-packages/sklearn/covariance/robust_covariance.py:170: RuntimeWarning: Determinant has increased; this should not happen: log(det) > log(previous_det) (-2.016247337831386 > -55.562798323595302). You may want to try with a higher value of support_fraction (current value: 0.501).\n",
      "  RuntimeWarning)\n",
      "/home/abogatyrov/anaconda3/lib/python3.7/site-packages/sklearn/covariance/robust_covariance.py:170: RuntimeWarning: Determinant has increased; this should not happen: log(det) > log(previous_det) (1.641719197532604 > -28.887714420935527). You may want to try with a higher value of support_fraction (current value: 0.501).\n",
      "  RuntimeWarning)\n",
      "/home/abogatyrov/anaconda3/lib/python3.7/site-packages/sklearn/covariance/robust_covariance.py:170: RuntimeWarning: Determinant has increased; this should not happen: log(det) > log(previous_det) (-1.589248043250744 > -59.196418753702687). You may want to try with a higher value of support_fraction (current value: 0.501).\n",
      "  RuntimeWarning)\n",
      "/home/abogatyrov/anaconda3/lib/python3.7/site-packages/sklearn/covariance/robust_covariance.py:170: RuntimeWarning: Determinant has increased; this should not happen: log(det) > log(previous_det) (8.590541459607090 > 4.796573009093384). You may want to try with a higher value of support_fraction (current value: 0.501).\n",
      "  RuntimeWarning)\n",
      "/home/abogatyrov/anaconda3/lib/python3.7/site-packages/sklearn/covariance/robust_covariance.py:170: RuntimeWarning: Determinant has increased; this should not happen: log(det) > log(previous_det) (-28.001699232680327 > -28.695742722151977). You may want to try with a higher value of support_fraction (current value: 0.501).\n",
      "  RuntimeWarning)\n",
      "/home/abogatyrov/anaconda3/lib/python3.7/site-packages/sklearn/covariance/robust_covariance.py:170: RuntimeWarning: Determinant has increased; this should not happen: log(det) > log(previous_det) (6.637213727159785 > 6.426430256968174). You may want to try with a higher value of support_fraction (current value: 0.501).\n",
      "  RuntimeWarning)\n",
      "/home/abogatyrov/anaconda3/lib/python3.7/site-packages/sklearn/covariance/robust_covariance.py:170: RuntimeWarning: Determinant has increased; this should not happen: log(det) > log(previous_det) (9.684036779552397 > 4.533810058186643). You may want to try with a higher value of support_fraction (current value: 0.501).\n",
      "  RuntimeWarning)\n",
      "/home/abogatyrov/anaconda3/lib/python3.7/site-packages/sklearn/covariance/robust_covariance.py:170: RuntimeWarning: Determinant has increased; this should not happen: log(det) > log(previous_det) (1.641708387618650 > -28.928167726259751). You may want to try with a higher value of support_fraction (current value: 0.501).\n",
      "  RuntimeWarning)\n",
      "/home/abogatyrov/anaconda3/lib/python3.7/site-packages/sklearn/covariance/robust_covariance.py:170: RuntimeWarning: Determinant has increased; this should not happen: log(det) > log(previous_det) (9.151549298954619 > 5.971191349691239). You may want to try with a higher value of support_fraction (current value: 0.501).\n",
      "  RuntimeWarning)\n",
      "/home/abogatyrov/anaconda3/lib/python3.7/site-packages/sklearn/covariance/robust_covariance.py:170: RuntimeWarning: Determinant has increased; this should not happen: log(det) > log(previous_det) (-2.016247337831385 > -55.929005584304726). You may want to try with a higher value of support_fraction (current value: 0.501).\n",
      "  RuntimeWarning)\n",
      "/home/abogatyrov/anaconda3/lib/python3.7/site-packages/sklearn/covariance/robust_covariance.py:170: RuntimeWarning: Determinant has increased; this should not happen: log(det) > log(previous_det) (-2.016247337831385 > -55.928141580409225). You may want to try with a higher value of support_fraction (current value: 0.501).\n",
      "  RuntimeWarning)\n",
      "/home/abogatyrov/anaconda3/lib/python3.7/site-packages/sklearn/covariance/robust_covariance.py:170: RuntimeWarning: Determinant has increased; this should not happen: log(det) > log(previous_det) (-2.016247337831378 > -55.820611165080578). You may want to try with a higher value of support_fraction (current value: 0.501).\n",
      "  RuntimeWarning)\n",
      "/home/abogatyrov/anaconda3/lib/python3.7/site-packages/sklearn/covariance/robust_covariance.py:170: RuntimeWarning: Determinant has increased; this should not happen: log(det) > log(previous_det) (1.646722433411263 > -30.938756801829754). You may want to try with a higher value of support_fraction (current value: 0.501).\n",
      "  RuntimeWarning)\n",
      "/home/abogatyrov/anaconda3/lib/python3.7/site-packages/sklearn/covariance/robust_covariance.py:170: RuntimeWarning: Determinant has increased; this should not happen: log(det) > log(previous_det) (10.751305244907527 > 8.389698420628712). You may want to try with a higher value of support_fraction (current value: 0.501).\n",
      "  RuntimeWarning)\n"
     ]
    },
    {
     "name": "stderr",
     "output_type": "stream",
     "text": [
      "/home/abogatyrov/anaconda3/lib/python3.7/site-packages/sklearn/covariance/robust_covariance.py:170: RuntimeWarning: Determinant has increased; this should not happen: log(det) > log(previous_det) (6.215403520557547 > 5.988568261978611). You may want to try with a higher value of support_fraction (current value: 0.501).\n",
      "  RuntimeWarning)\n",
      "/home/abogatyrov/anaconda3/lib/python3.7/site-packages/sklearn/covariance/robust_covariance.py:170: RuntimeWarning: Determinant has increased; this should not happen: log(det) > log(previous_det) (9.970053020385507 > 8.032940218232296). You may want to try with a higher value of support_fraction (current value: 0.501).\n",
      "  RuntimeWarning)\n",
      "/home/abogatyrov/anaconda3/lib/python3.7/site-packages/sklearn/covariance/robust_covariance.py:170: RuntimeWarning: Determinant has increased; this should not happen: log(det) > log(previous_det) (7.873683653892205 > 6.976268008561743). You may want to try with a higher value of support_fraction (current value: 0.501).\n",
      "  RuntimeWarning)\n",
      "/home/abogatyrov/anaconda3/lib/python3.7/site-packages/sklearn/covariance/robust_covariance.py:170: RuntimeWarning: Determinant has increased; this should not happen: log(det) > log(previous_det) (-4.481965043647672 > -57.180067613272747). You may want to try with a higher value of support_fraction (current value: 0.500).\n",
      "  RuntimeWarning)\n"
     ]
    },
    {
     "data": {
      "text/plain": [
       "Counter({0: 44909, 1: 110})"
      ]
     },
     "execution_count": 46,
     "metadata": {},
     "output_type": "execute_result"
    }
   ],
   "source": [
    "y_pred = EllipticEnvelope(\n",
    "    assume_centered=False,\n",
    "    contamination=0.0024200000000000003,\n",
    "    random_state=None,\n",
    "    store_precision=True,\n",
    "    support_fraction=None\n",
    ").fit(X_tst_drop).predict(X_tst_drop)\n",
    "y_pred = [ 1 if x == -1 else 0 for x in y_pred ]\n",
    "Counter(y_pred)"
   ]
  },
  {
   "cell_type": "code",
   "execution_count": 47,
   "metadata": {},
   "outputs": [],
   "source": [
    "df_sbm = pd.read_csv('../data/sample_submission.csv')\n",
    "df_sbm['FraudResult'] = y_pred\n",
    "df_sbm.to_csv('../submitted/AlBo0722_EE_Amount_etc.csv', encoding='utf-8', index=False)"
   ]
  },
  {
   "cell_type": "markdown",
   "metadata": {},
   "source": [
    "`Results: 0.617283950617284`"
   ]
  },
  {
   "cell_type": "code",
   "execution_count": null,
   "metadata": {},
   "outputs": [],
   "source": []
  }
 ],
 "metadata": {
  "kernelspec": {
   "display_name": "Python 3",
   "language": "python",
   "name": "python3"
  },
  "language_info": {
   "codemirror_mode": {
    "name": "ipython",
    "version": 3
   },
   "file_extension": ".py",
   "mimetype": "text/x-python",
   "name": "python",
   "nbconvert_exporter": "python",
   "pygments_lexer": "ipython3",
   "version": "3.7.1"
  }
 },
 "nbformat": 4,
 "nbformat_minor": 2
}
