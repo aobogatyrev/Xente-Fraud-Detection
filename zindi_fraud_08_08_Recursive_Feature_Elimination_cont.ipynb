{
 "cells": [
  {
   "cell_type": "markdown",
   "metadata": {},
   "source": [
    "# Recursive Feature Elimination (RFE), cont.\n",
    "1. Extra Trees Classifier\n",
    "2. Random Forest Classifier\n",
    "3. Ada Boost Classifier"
   ]
  },
  {
   "cell_type": "markdown",
   "metadata": {},
   "source": [
    "## Extra Trees Classifier"
   ]
  },
  {
   "cell_type": "code",
   "execution_count": 1,
   "metadata": {},
   "outputs": [],
   "source": [
    "import numpy  as np\n",
    "import pandas as pd"
   ]
  },
  {
   "cell_type": "code",
   "execution_count": 2,
   "metadata": {},
   "outputs": [],
   "source": [
    "df_trn = pd.read_csv('../data/train-agg-cut.csv')\n",
    "df_tst = pd.read_csv('../data/test-agg-cut.csv')\n",
    "df_sbm = pd.read_csv('../data/sample_submission.csv')"
   ]
  },
  {
   "cell_type": "code",
   "execution_count": 3,
   "metadata": {},
   "outputs": [],
   "source": [
    "X_trn = df_trn.drop(columns=['FraudResult'], axis=1)\n",
    "y_trn = df_trn['FraudResult']\n",
    "\n",
    "X_tst = df_tst"
   ]
  },
  {
   "cell_type": "code",
   "execution_count": 4,
   "metadata": {},
   "outputs": [],
   "source": [
    "import os\n",
    "from collections import Counter\n",
    "from sklearn.ensemble import BaggingClassifier"
   ]
  },
  {
   "cell_type": "code",
   "execution_count": 8,
   "metadata": {},
   "outputs": [],
   "source": [
    "def prediction(X_trn, y_trn, X_tst, name):\n",
    "    predict = BaggingClassifier(n_estimators=1000, n_jobs=-1, random_state=24).fit(X_trn, y_trn).predict(X_tst)\n",
    "    print('Results:', Counter(predict))\n",
    "    df_sbm['FraudResult'] = predict\n",
    "\n",
    "    # определяем был ли ранее точно такой же результат\n",
    "    current_subm_set = set(df_sbm[df_sbm['FraudResult'] == 1].index.tolist())\n",
    "\n",
    "    # просматриваем все файлы в папке submitted\n",
    "    is_exist = False\n",
    "    files = os.listdir('../submitted')\n",
    "    files.sort()\n",
    "    for f in files:\n",
    "        f_csv = pd.read_csv('../submitted/' + f)\n",
    "        if set(f_csv[f_csv['FraudResult'] == 1].index.tolist()) == current_subm_set:\n",
    "            print('It is the same as in: ' + f)\n",
    "            is_exist = True\n",
    "    if not is_exist:\n",
    "        print('New result! Submit it!')\n",
    "        df_sbm.to_csv('../submitted/AlBo0808_RFE_' + name + '.csv', encoding='utf-8', index=False)"
   ]
  },
  {
   "cell_type": "code",
   "execution_count": 9,
   "metadata": {},
   "outputs": [],
   "source": [
    "columns5 = [\n",
    "    'Value',\n",
    "    'AmountPositive',\n",
    "    'product_category_transactions__AmountNegative_global_count',\n",
    "    'account_provider_transactions__AmountPositive_global_avg',\n",
    "    'provider_transactions__Value_global_avg',\n",
    "]"
   ]
  },
  {
   "cell_type": "code",
   "execution_count": 10,
   "metadata": {},
   "outputs": [
    {
     "name": "stdout",
     "output_type": "stream",
     "text": [
      "Results: Counter({0: 44951, 1: 68})\n",
      "It is the same as in: AlBo0808_RFE_ETC_5.csv\n"
     ]
    }
   ],
   "source": [
    "prediction(X_trn[columns5], y_trn, X_tst[columns5], 'ETC_5')"
   ]
  },
  {
   "cell_type": "markdown",
   "metadata": {},
   "source": [
    "**Results:** `0.689655172413793`"
   ]
  },
  {
   "cell_type": "code",
   "execution_count": 11,
   "metadata": {},
   "outputs": [
    {
     "name": "stdout",
     "output_type": "stream",
     "text": [
      "Results: Counter({0: 44946, 1: 73})\n",
      "It is the same as in: AlBo0726_top292chi2_BaggingClassifier.csv\n"
     ]
    }
   ],
   "source": [
    "columns6 = [\n",
    "    'Value',\n",
    "    'AmountPositive',\n",
    "    'product_category_transactions__AmountNegative_global_count',\n",
    "    'account_provider_transactions__AmountPositive_global_avg',\n",
    "    'provider_transactions__Value_global_avg',\n",
    "    'account_product_transactions__AmountPositive_global_sum',\n",
    "]\n",
    "\n",
    "prediction(X_trn[columns6], y_trn, X_tst[columns6], 'ETC_6')"
   ]
  },
  {
   "cell_type": "code",
   "execution_count": 12,
   "metadata": {},
   "outputs": [
    {
     "name": "stdout",
     "output_type": "stream",
     "text": [
      "Results: Counter({0: 44946, 1: 73})\n",
      "It is the same as in: AlBo0726_top292chi2_BaggingClassifier.csv\n"
     ]
    }
   ],
   "source": [
    "columns7 = [\n",
    "    'Value',\n",
    "    'AmountPositive',\n",
    "    'product_category_transactions__AmountNegative_global_count',\n",
    "    'account_provider_transactions__AmountPositive_global_avg',\n",
    "    'provider_transactions__Value_global_avg',\n",
    "    'account_product_transactions__AmountPositive_global_sum',\n",
    "    'product_category_transactions__AmountPositive_global_count',\n",
    "]\n",
    "\n",
    "prediction(X_trn[columns7], y_trn, X_tst[columns7], 'ETC_7')"
   ]
  },
  {
   "cell_type": "code",
   "execution_count": 13,
   "metadata": {},
   "outputs": [
    {
     "name": "stdout",
     "output_type": "stream",
     "text": [
      "Results: Counter({0: 44946, 1: 73})\n",
      "It is the same as in: AlBo0726_top28chi2_BaggingClassifier.csv\n"
     ]
    }
   ],
   "source": [
    "columns8 = [\n",
    "    'Value',\n",
    "    'AmountPositive',\n",
    "    'product_category_transactions__AmountNegative_global_count',\n",
    "    'account_provider_transactions__AmountPositive_global_avg',\n",
    "    'provider_transactions__Value_global_avg',\n",
    "    'account_product_transactions__AmountPositive_global_sum',\n",
    "    'product_category_transactions__AmountPositive_global_count',\n",
    "    'account_pricing_strategy_transactions__Value_global_avg',\n",
    "]\n",
    "\n",
    "prediction(X_trn[columns8], y_trn, X_tst[columns8], 'ETC_8')"
   ]
  },
  {
   "cell_type": "markdown",
   "metadata": {},
   "source": [
    "**`AlBo0726_top28chi2_BaggingClassifier.csv:`** `0.793103448275862`"
   ]
  },
  {
   "cell_type": "code",
   "execution_count": 15,
   "metadata": {},
   "outputs": [
    {
     "name": "stdout",
     "output_type": "stream",
     "text": [
      "Results: Counter({0: 44946, 1: 73})\n",
      "It is the same as in: AlBo0726_top28chi2_BaggingClassifier.csv\n"
     ]
    }
   ],
   "source": [
    "columns8 = [\n",
    "    'Value',\n",
    "    'AmountPositive',\n",
    "    'product_category_transactions__AmountNegative_global_count',\n",
    "    'account_provider_transactions__AmountPositive_global_avg',\n",
    "    'provider_transactions__Value_global_avg',\n",
    "    'account_product_transactions__AmountPositive_global_sum',\n",
    "    'product_category_transactions__AmountPositive_global_count',\n",
    "    'account_pricing_strategy_transactions__Value_global_avg',\n",
    "]\n",
    "\n",
    "prediction(X_trn[columns8], y_trn, X_tst[columns8], 'ETC_8')"
   ]
  },
  {
   "cell_type": "markdown",
   "metadata": {},
   "source": [
    "**`AlBo0726_top28chi2_BaggingClassifier.csv:`** `0.793103448275862`"
   ]
  },
  {
   "cell_type": "code",
   "execution_count": 16,
   "metadata": {},
   "outputs": [
    {
     "name": "stdout",
     "output_type": "stream",
     "text": [
      "Results: Counter({0: 44938, 1: 81})\n",
      "New result! Submit it!\n"
     ]
    }
   ],
   "source": [
    "columns9 = [\n",
    "    'Value',\n",
    "    'AmountPositive',\n",
    "    'product_category_transactions__AmountNegative_global_count',\n",
    "    'account_provider_transactions__AmountPositive_global_avg',\n",
    "    'provider_transactions__Value_global_avg',\n",
    "    'account_product_transactions__AmountPositive_global_sum',\n",
    "    'product_category_transactions__AmountPositive_global_count',\n",
    "    'account_pricing_strategy_transactions__Value_global_avg',\n",
    "    'product_category_transactions__AmountNegative_week_count',\n",
    "]\n",
    "\n",
    "prediction(X_trn[columns9], y_trn, X_tst[columns9], 'ETC_9')"
   ]
  },
  {
   "cell_type": "markdown",
   "metadata": {},
   "source": [
    "**Results:** `0.793650793650794`"
   ]
  },
  {
   "cell_type": "markdown",
   "metadata": {},
   "source": [
    "### Cheating"
   ]
  },
  {
   "cell_type": "code",
   "execution_count": 46,
   "metadata": {},
   "outputs": [],
   "source": [
    "predict_proba = BaggingClassifier(n_estimators=1000, n_jobs=-1, random_state=24).fit(X_trn[columns9], y_trn).predict_proba(X_tst[columns9])"
   ]
  },
  {
   "cell_type": "code",
   "execution_count": 50,
   "metadata": {},
   "outputs": [
    {
     "data": {
      "text/plain": [
       "80"
      ]
     },
     "execution_count": 50,
     "metadata": {},
     "output_type": "execute_result"
    }
   ],
   "source": [
    "predict = np.where(predict_proba[:, 1] > 0.55, 1, 0)\n",
    "predict.sum()"
   ]
  },
  {
   "cell_type": "code",
   "execution_count": 55,
   "metadata": {},
   "outputs": [
    {
     "name": "stdout",
     "output_type": "stream",
     "text": [
      "New result! Submit it!\n"
     ]
    }
   ],
   "source": [
    "df_sbm['FraudResult'] = predict\n",
    "# определяем был ли ранее точно такой же результат\n",
    "current_subm_set = set(df_sbm[df_sbm['FraudResult'] == 1].index.tolist())\n",
    "\n",
    "# просматриваем все файлы в папке submitted\n",
    "is_exist = False\n",
    "files = os.listdir('../submitted')\n",
    "files.sort()\n",
    "for f in files:\n",
    "    f_csv = pd.read_csv('../submitted/' + f)\n",
    "    if set(f_csv[f_csv['FraudResult'] == 1].index.tolist()) == current_subm_set:\n",
    "        print('It is the same as in: ' + f)\n",
    "        is_exist = True\n",
    "if not is_exist:\n",
    "    print('New result! Submit it!')\n",
    "    df_sbm.to_csv('../submitted/AlBo0808_RFE_ETC_9_80.csv', encoding='utf-8', index=False)"
   ]
  },
  {
   "cell_type": "code",
   "execution_count": 71,
   "metadata": {},
   "outputs": [
    {
     "name": "stdout",
     "output_type": "stream",
     "text": [
      "81\n",
      "80\n",
      "['TransactionId_11374']\n",
      "[]\n",
      "['TransactionId_11374']\n"
     ]
    }
   ],
   "source": [
    "df_ETC_9    = pd.read_csv('../submitted/AlBo0808_RFE_ETC_9.csv')\n",
    "df_ETC_9_80 = pd.read_csv('../submitted/AlBo0808_RFE_ETC_9_80.csv')\n",
    "\n",
    "set_ETC_9    = set(df_ETC_9['TransactionId'][df_ETC_9['FraudResult']==1].tolist())\n",
    "set_ETC_9_80 = set(df_ETC_9_80['TransactionId'][df_ETC_9_80['FraudResult']==1].tolist())\n",
    "\n",
    "print(len(set_ETC_9))\n",
    "print(len(set_ETC_9_80))\n",
    "print(np.sort(list(set_ETC_9 - set_ETC_9_80)))\n",
    "print(np.sort(list(set_ETC_9_80 - set_ETC_9)))\n",
    "print(np.sort(list(set_ETC_9_80 ^ set_ETC_9)))"
   ]
  },
  {
   "cell_type": "code",
   "execution_count": 72,
   "metadata": {},
   "outputs": [
    {
     "name": "stdout",
     "output_type": "stream",
     "text": [
      "81\n",
      "72\n",
      "['TransactionId_11832' 'TransactionId_22203' 'TransactionId_24572'\n",
      " 'TransactionId_45907' 'TransactionId_47953' 'TransactionId_54314'\n",
      " 'TransactionId_62319' 'TransactionId_6746' 'TransactionId_88480']\n",
      "[]\n",
      "['TransactionId_11832' 'TransactionId_22203' 'TransactionId_24572'\n",
      " 'TransactionId_45907' 'TransactionId_47953' 'TransactionId_54314'\n",
      " 'TransactionId_62319' 'TransactionId_6746' 'TransactionId_88480']\n"
     ]
    }
   ],
   "source": [
    "df_top18 = pd.read_csv('../submitted/AlBo0726_top18chi2_BaggingClassifier.csv')\n",
    "df_ETC_9 = pd.read_csv('../submitted/AlBo0808_RFE_ETC_9.csv')\n",
    "\n",
    "set_top18 = set(df_top18['TransactionId'][df_top18['FraudResult']==1].tolist())\n",
    "set_ETC_9 = set(df_ETC_9['TransactionId'][df_ETC_9['FraudResult']==1].tolist())\n",
    "\n",
    "print(len(set_ETC_9))\n",
    "print(len(set_top18))\n",
    "print(np.sort(list(set_ETC_9 - set_top18)))\n",
    "print(np.sort(list(set_top18 - set_ETC_9)))\n",
    "print(np.sort(list(set_top18 ^ set_ETC_9)))"
   ]
  },
  {
   "cell_type": "code",
   "execution_count": 74,
   "metadata": {},
   "outputs": [
    {
     "data": {
      "text/plain": [
       "True"
      ]
     },
     "execution_count": 74,
     "metadata": {},
     "output_type": "execute_result"
    }
   ],
   "source": [
    "'TransactionId_11374' in set_top18"
   ]
  },
  {
   "cell_type": "markdown",
   "metadata": {},
   "source": [
    "берем первую тройку транзакций, отличающихся от лучшего результата (`top18chi2`)"
   ]
  },
  {
   "cell_type": "code",
   "execution_count": null,
   "metadata": {},
   "outputs": [],
   "source": [
    "df_sbm['FraudResult'] = df_top18['FraudResult']\n",
    "\n",
    "print(df_sbm['FraudResult'][df_sbm['TransactionId']=='TransactionId_11832'])\n",
    "print(df_sbm['FraudResult'][df_sbm['TransactionId']=='TransactionId_22203'])\n",
    "print(df_sbm['FraudResult'][df_sbm['TransactionId']=='TransactionId_24572'])\n",
    "\n",
    "df_sbm.at[df_sbm['TransactionId'] == 'TransactionId_11832', 'FraudResult'] = 1\n",
    "df_sbm.at[df_sbm['TransactionId'] == 'TransactionId_22203', 'FraudResult'] = 1\n",
    "df_sbm.at[df_sbm['TransactionId'] == 'TransactionId_24572', 'FraudResult'] = 1\n",
    "\n",
    "print(df_sbm['FraudResult'][df_sbm['TransactionId']=='TransactionId_11832'])\n",
    "print(df_sbm['FraudResult'][df_sbm['TransactionId']=='TransactionId_22203'])\n",
    "print(df_sbm['FraudResult'][df_sbm['TransactionId']=='TransactionId_24572'])"
   ]
  },
  {
   "cell_type": "code",
   "execution_count": 92,
   "metadata": {},
   "outputs": [
    {
     "name": "stdout",
     "output_type": "stream",
     "text": [
      "New result! Submit it!\n"
     ]
    }
   ],
   "source": [
    "# определяем был ли ранее точно такой же результат\n",
    "current_subm_set = set(df_sbm[df_sbm['FraudResult'] == 1].index.tolist())\n",
    "\n",
    "# просматриваем все файлы в папке submitted\n",
    "is_exist = False\n",
    "files = os.listdir('../submitted')\n",
    "files.sort()\n",
    "for f in files:\n",
    "    f_csv = pd.read_csv('../submitted/' + f)\n",
    "    if set(f_csv[f_csv['FraudResult'] == 1].index.tolist()) == current_subm_set:\n",
    "        print('It is the same as in: ' + f)\n",
    "        is_exist = True\n",
    "if not is_exist:\n",
    "    print('New result! Submit it!')\n",
    "    df_sbm.to_csv('../submitted/AlBo0808_top18chi2plus3.csv', encoding='utf-8', index=False)"
   ]
  },
  {
   "cell_type": "markdown",
   "metadata": {},
   "source": [
    "**Result:** `0.8`"
   ]
  },
  {
   "cell_type": "markdown",
   "metadata": {},
   "source": [
    "берем вторую тройку транзакций, отличающихся от лучшего результата (`top18chi2`)"
   ]
  },
  {
   "cell_type": "code",
   "execution_count": 94,
   "metadata": {},
   "outputs": [],
   "source": [
    "df_sbm['FraudResult'] = df_top18['FraudResult']\n",
    "\n",
    "df_sbm.at[df_sbm['TransactionId'] == 'TransactionId_45907', 'FraudResult'] = 1\n",
    "df_sbm.at[df_sbm['TransactionId'] == 'TransactionId_47953', 'FraudResult'] = 1\n",
    "df_sbm.at[df_sbm['TransactionId'] == 'TransactionId_54314', 'FraudResult'] = 1"
   ]
  },
  {
   "cell_type": "code",
   "execution_count": 95,
   "metadata": {},
   "outputs": [
    {
     "name": "stdout",
     "output_type": "stream",
     "text": [
      "New result! Submit it!\n"
     ]
    }
   ],
   "source": [
    "# определяем был ли ранее точно такой же результат\n",
    "current_subm_set = set(df_sbm[df_sbm['FraudResult'] == 1].index.tolist())\n",
    "\n",
    "# просматриваем все файлы в папке submitted\n",
    "is_exist = False\n",
    "files = os.listdir('../submitted')\n",
    "files.sort()\n",
    "for f in files:\n",
    "    f_csv = pd.read_csv('../submitted/' + f)\n",
    "    if set(f_csv[f_csv['FraudResult'] == 1].index.tolist()) == current_subm_set:\n",
    "        print('It is the same as in: ' + f)\n",
    "        is_exist = True\n",
    "if not is_exist:\n",
    "    print('New result! Submit it!')\n",
    "    df_sbm.to_csv('../submitted/AlBo0808_top18chi2plus3_2.csv', encoding='utf-8', index=False)"
   ]
  },
  {
   "cell_type": "markdown",
   "metadata": {},
   "source": [
    "берем третью тройку транзакций, отличающихся от лучшего результата (`top18chi2`)"
   ]
  },
  {
   "cell_type": "code",
   "execution_count": 97,
   "metadata": {},
   "outputs": [],
   "source": [
    "df_sbm['FraudResult'] = df_top18['FraudResult']\n",
    "\n",
    "df_sbm.at[df_sbm['TransactionId'] == 'TransactionId_62319', 'FraudResult'] = 1\n",
    "df_sbm.at[df_sbm['TransactionId'] == 'TransactionId_6746',  'FraudResult'] = 1\n",
    "df_sbm.at[df_sbm['TransactionId'] == 'TransactionId_88480', 'FraudResult'] = 1"
   ]
  },
  {
   "cell_type": "code",
   "execution_count": 98,
   "metadata": {},
   "outputs": [
    {
     "name": "stdout",
     "output_type": "stream",
     "text": [
      "New result! Submit it!\n"
     ]
    }
   ],
   "source": [
    "# определяем был ли ранее точно такой же результат\n",
    "current_subm_set = set(df_sbm[df_sbm['FraudResult'] == 1].index.tolist())\n",
    "\n",
    "# просматриваем все файлы в папке submitted\n",
    "is_exist = False\n",
    "files = os.listdir('../submitted')\n",
    "files.sort()\n",
    "for f in files:\n",
    "    f_csv = pd.read_csv('../submitted/' + f)\n",
    "    if set(f_csv[f_csv['FraudResult'] == 1].index.tolist()) == current_subm_set:\n",
    "        print('It is the same as in: ' + f)\n",
    "        is_exist = True\n",
    "if not is_exist:\n",
    "    print('New result! Submit it!')\n",
    "    df_sbm.to_csv('../submitted/AlBo0808_top18chi2plus3_3.csv', encoding='utf-8', index=False)"
   ]
  },
  {
   "cell_type": "markdown",
   "metadata": {},
   "source": [
    "**Result:** `0.847457627118644`"
   ]
  },
  {
   "cell_type": "markdown",
   "metadata": {},
   "source": [
    "### Continue"
   ]
  },
  {
   "cell_type": "code",
   "execution_count": 100,
   "metadata": {},
   "outputs": [
    {
     "name": "stdout",
     "output_type": "stream",
     "text": [
      "Results: Counter({0: 44937, 1: 82})\n",
      "New result! Submit it!\n"
     ]
    }
   ],
   "source": [
    "columns10 = [\n",
    "    'Value',\n",
    "    'AmountPositive',\n",
    "    'product_category_transactions__AmountNegative_global_count',\n",
    "    'account_provider_transactions__AmountPositive_global_avg',\n",
    "    'provider_transactions__Value_global_avg',\n",
    "    'account_product_transactions__AmountPositive_global_sum',\n",
    "    'product_category_transactions__AmountPositive_global_count',\n",
    "    'account_pricing_strategy_transactions__Value_global_avg',\n",
    "    'product_category_transactions__AmountNegative_week_count',\n",
    "    'provider_transactions__AmountPositive_week_count',\n",
    "]\n",
    "\n",
    "prediction(X_trn[columns10], y_trn, X_tst[columns10], 'ETC_10')"
   ]
  },
  {
   "cell_type": "code",
   "execution_count": 101,
   "metadata": {},
   "outputs": [
    {
     "name": "stdout",
     "output_type": "stream",
     "text": [
      "81\n",
      "82\n",
      "['TransactionId_99792']\n",
      "[]\n",
      "['TransactionId_99792']\n"
     ]
    }
   ],
   "source": [
    "df_ETC_9  = pd.read_csv('../submitted/AlBo0808_RFE_ETC_9.csv')\n",
    "df_ETC_10 = pd.read_csv('../submitted/AlBo0808_RFE_ETC_10.csv')\n",
    "\n",
    "set_ETC_9  = set(df_ETC_9 ['TransactionId'][df_ETC_9 ['FraudResult']==1].tolist())\n",
    "set_ETC_10 = set(df_ETC_10['TransactionId'][df_ETC_10['FraudResult']==1].tolist())\n",
    "\n",
    "print(len(set_ETC_9))\n",
    "print(len(set_ETC_10))\n",
    "print(np.sort(list(set_ETC_10 - set_ETC_9)))\n",
    "print(np.sort(list(set_ETC_9  - set_ETC_10)))\n",
    "print(np.sort(list(set_ETC_9  ^ set_ETC_10)))"
   ]
  },
  {
   "cell_type": "code",
   "execution_count": 102,
   "metadata": {},
   "outputs": [
    {
     "name": "stdout",
     "output_type": "stream",
     "text": [
      "Results: Counter({0: 44938, 1: 81})\n",
      "It is the same as in: AlBo0808_RFE_ETC_9.csv\n"
     ]
    }
   ],
   "source": [
    "columns11 = [\n",
    "    'Value',\n",
    "    'AmountPositive',\n",
    "    'product_category_transactions__AmountNegative_global_count',\n",
    "    'account_provider_transactions__AmountPositive_global_avg',\n",
    "    'provider_transactions__Value_global_avg',\n",
    "    'account_product_transactions__AmountPositive_global_sum',\n",
    "    'product_category_transactions__AmountPositive_global_count',\n",
    "    'account_pricing_strategy_transactions__Value_global_avg',\n",
    "    'product_category_transactions__AmountNegative_week_count',\n",
    "    'provider_transactions__AmountPositive_week_count',\n",
    "    'account_provider_transactions__Value_global_avg',\n",
    "]\n",
    "\n",
    "prediction(X_trn[columns11], y_trn, X_tst[columns11], 'ETC_11')"
   ]
  },
  {
   "cell_type": "code",
   "execution_count": 103,
   "metadata": {},
   "outputs": [
    {
     "name": "stdout",
     "output_type": "stream",
     "text": [
      "Results: Counter({0: 44932, 1: 87})\n",
      "New result! Submit it!\n"
     ]
    }
   ],
   "source": [
    "columns12 = [\n",
    "    'Value',\n",
    "    'AmountPositive',\n",
    "    'product_category_transactions__AmountNegative_global_count',\n",
    "    'account_provider_transactions__AmountPositive_global_avg',\n",
    "    'provider_transactions__Value_global_avg',\n",
    "    'account_product_transactions__AmountPositive_global_sum',\n",
    "    'product_category_transactions__AmountPositive_global_count',\n",
    "    'account_pricing_strategy_transactions__Value_global_avg',\n",
    "    'product_category_transactions__AmountNegative_week_count',\n",
    "    'provider_transactions__AmountPositive_week_count',\n",
    "    'account_provider_transactions__Value_global_avg',\n",
    "    'pricing_strategy_transactions__Value_global_avg',\n",
    "]\n",
    "\n",
    "prediction(X_trn[columns12], y_trn, X_tst[columns12], 'ETC_12')"
   ]
  },
  {
   "cell_type": "code",
   "execution_count": 104,
   "metadata": {},
   "outputs": [
    {
     "name": "stdout",
     "output_type": "stream",
     "text": [
      "81\n",
      "87\n",
      "['TransactionId_112983' 'TransactionId_132243' 'TransactionId_29526'\n",
      " 'TransactionId_3655' 'TransactionId_6285' 'TransactionId_99792']\n",
      "[]\n",
      "['TransactionId_112983' 'TransactionId_132243' 'TransactionId_29526'\n",
      " 'TransactionId_3655' 'TransactionId_6285' 'TransactionId_99792']\n"
     ]
    }
   ],
   "source": [
    "df_ETC_9  = pd.read_csv('../submitted/AlBo0808_RFE_ETC_9.csv')\n",
    "df_ETC_12 = pd.read_csv('../submitted/AlBo0808_RFE_ETC_12.csv')\n",
    "\n",
    "set_ETC_9  = set(df_ETC_9 ['TransactionId'][df_ETC_9 ['FraudResult']==1].tolist())\n",
    "set_ETC_12 = set(df_ETC_12['TransactionId'][df_ETC_12['FraudResult']==1].tolist())\n",
    "\n",
    "print(len(set_ETC_9))\n",
    "print(len(set_ETC_12))\n",
    "print(np.sort(list(set_ETC_12 - set_ETC_9)))\n",
    "print(np.sort(list(set_ETC_9  - set_ETC_12)))\n",
    "print(np.sort(list(set_ETC_9  ^ set_ETC_12)))"
   ]
  },
  {
   "cell_type": "code",
   "execution_count": null,
   "metadata": {},
   "outputs": [],
   "source": []
  },
  {
   "cell_type": "markdown",
   "metadata": {},
   "source": [
    "## Random Forest Classifier"
   ]
  },
  {
   "cell_type": "code",
   "execution_count": 105,
   "metadata": {},
   "outputs": [],
   "source": [
    "import numpy  as np\n",
    "import pandas as pd"
   ]
  },
  {
   "cell_type": "code",
   "execution_count": 106,
   "metadata": {},
   "outputs": [],
   "source": [
    "df_trn = pd.read_csv('../data/train-agg-cut.csv')\n",
    "df_tst = pd.read_csv('../data/test-agg-cut.csv')\n",
    "df_sbm = pd.read_csv('../data/sample_submission.csv')"
   ]
  },
  {
   "cell_type": "code",
   "execution_count": 107,
   "metadata": {},
   "outputs": [],
   "source": [
    "X_trn = df_trn.drop(columns=['FraudResult'], axis=1)\n",
    "y_trn = df_trn['FraudResult']\n",
    "\n",
    "X_tst = df_tst"
   ]
  },
  {
   "cell_type": "code",
   "execution_count": 108,
   "metadata": {},
   "outputs": [],
   "source": [
    "import os\n",
    "from collections import Counter\n",
    "from sklearn.ensemble import BaggingClassifier"
   ]
  },
  {
   "cell_type": "code",
   "execution_count": 109,
   "metadata": {},
   "outputs": [],
   "source": [
    "def prediction(X_trn, y_trn, X_tst, name):\n",
    "    predict = BaggingClassifier(n_estimators=1000, n_jobs=-1, random_state=24).fit(X_trn, y_trn).predict(X_tst)\n",
    "    print('Results:', Counter(predict))\n",
    "    df_sbm['FraudResult'] = predict\n",
    "\n",
    "    # определяем был ли ранее точно такой же результат\n",
    "    current_subm_set = set(df_sbm[df_sbm['FraudResult'] == 1].index.tolist())\n",
    "\n",
    "    # просматриваем все файлы в папке submitted\n",
    "    is_exist = False\n",
    "    files = os.listdir('../submitted')\n",
    "    files.sort()\n",
    "    for f in files:\n",
    "        f_csv = pd.read_csv('../submitted/' + f)\n",
    "        if set(f_csv[f_csv['FraudResult'] == 1].index.tolist()) == current_subm_set:\n",
    "            print('It is the same as in: ' + f)\n",
    "            is_exist = True\n",
    "    if not is_exist:\n",
    "        print('New result! Submit it!')\n",
    "        df_sbm.to_csv('../submitted/AlBo0809_RFE_' + name + '.csv', encoding='utf-8', index=False)"
   ]
  },
  {
   "cell_type": "code",
   "execution_count": 110,
   "metadata": {},
   "outputs": [
    {
     "name": "stdout",
     "output_type": "stream",
     "text": [
      "Results: Counter({0: 44958, 1: 61})\n",
      "It is the same as in: AlBo0726_top2chi2_BaggingClassifier.csv\n"
     ]
    }
   ],
   "source": [
    "columns5 = [\n",
    "    'AmountPositive',\n",
    "    'Value',\n",
    "    'product_category_transactions__AmountPositive_global_count',\n",
    "    'account_provider_transactions__Value_global_avg',\n",
    "    'account_product_transactions__AmountPositive_global_avg',\n",
    "]\n",
    "\n",
    "prediction(X_trn[columns5], y_trn, X_tst[columns5], 'RFC_5')"
   ]
  },
  {
   "cell_type": "code",
   "execution_count": 111,
   "metadata": {},
   "outputs": [
    {
     "name": "stdout",
     "output_type": "stream",
     "text": [
      "Results: Counter({0: 44941, 1: 78})\n",
      "New result! Submit it!\n"
     ]
    }
   ],
   "source": [
    "columns6 = [\n",
    "    'AmountPositive',\n",
    "    'Value',\n",
    "    'product_category_transactions__AmountPositive_global_count',\n",
    "    'account_provider_transactions__Value_global_avg',\n",
    "    'account_product_transactions__AmountPositive_global_avg',\n",
    "    'product_category_transactions__AmountPositive_global_avg',\n",
    "]\n",
    "\n",
    "prediction(X_trn[columns6], y_trn, X_tst[columns6], 'RFC_6')"
   ]
  },
  {
   "cell_type": "markdown",
   "metadata": {},
   "source": [
    "**Result:** `0.73015873015873`"
   ]
  },
  {
   "cell_type": "code",
   "execution_count": 113,
   "metadata": {},
   "outputs": [
    {
     "name": "stdout",
     "output_type": "stream",
     "text": [
      "Results: Counter({0: 44951, 1: 68})\n",
      "New result! Submit it!\n"
     ]
    }
   ],
   "source": [
    "columns7 = [\n",
    "    'AmountPositive',\n",
    "    'Value',\n",
    "    'product_category_transactions__AmountPositive_global_count',\n",
    "    'account_provider_transactions__Value_global_avg',\n",
    "    'account_product_transactions__AmountPositive_global_avg',\n",
    "    'product_category_transactions__AmountPositive_global_avg',\n",
    "    'provider_transactions__AmountPositive_global_avg',\n",
    "]\n",
    "\n",
    "prediction(X_trn[columns7], y_trn, X_tst[columns7], 'RFC_7')"
   ]
  },
  {
   "cell_type": "markdown",
   "metadata": {},
   "source": [
    "**Result:** `0.714285714285714`"
   ]
  },
  {
   "cell_type": "code",
   "execution_count": 114,
   "metadata": {},
   "outputs": [
    {
     "name": "stdout",
     "output_type": "stream",
     "text": [
      "Results: Counter({0: 44948, 1: 71})\n",
      "New result! Submit it!\n"
     ]
    }
   ],
   "source": [
    "columns8 = [\n",
    "    'AmountPositive',\n",
    "    'Value',\n",
    "    'product_category_transactions__AmountPositive_global_count',\n",
    "    'account_provider_transactions__Value_global_avg',\n",
    "    'account_product_transactions__AmountPositive_global_avg',\n",
    "    'product_category_transactions__AmountPositive_global_avg',\n",
    "    'provider_transactions__AmountPositive_global_avg',\n",
    "    'account_provider_transactions__AmountPositive_global_avg',\n",
    "]\n",
    "\n",
    "prediction(X_trn[columns8], y_trn, X_tst[columns8], 'RFC_8')"
   ]
  },
  {
   "cell_type": "markdown",
   "metadata": {},
   "source": [
    "**Result:** `0.736842105263158`"
   ]
  },
  {
   "cell_type": "code",
   "execution_count": 115,
   "metadata": {},
   "outputs": [
    {
     "name": "stdout",
     "output_type": "stream",
     "text": [
      "Results: Counter({0: 44927, 1: 92})\n",
      "New result! Submit it!\n"
     ]
    }
   ],
   "source": [
    "columns9 = [\n",
    "    'AmountPositive',\n",
    "    'Value',\n",
    "    'product_category_transactions__AmountPositive_global_count',\n",
    "    'account_provider_transactions__Value_global_avg',\n",
    "    'account_product_transactions__AmountPositive_global_avg',\n",
    "    'product_category_transactions__AmountPositive_global_avg',\n",
    "    'provider_transactions__AmountPositive_global_avg',\n",
    "    'account_provider_transactions__AmountPositive_global_avg',\n",
    "    'pricing_strategy_transactions__AmountPositive_week_sum',\n",
    "]\n",
    "\n",
    "prediction(X_trn[columns9], y_trn, X_tst[columns9], 'RFC_9')"
   ]
  },
  {
   "cell_type": "markdown",
   "metadata": {},
   "source": [
    "**Result:** `0.704225352112676`"
   ]
  },
  {
   "cell_type": "code",
   "execution_count": 117,
   "metadata": {},
   "outputs": [
    {
     "name": "stdout",
     "output_type": "stream",
     "text": [
      "Results: Counter({0: 44927, 1: 92})\n",
      "It is the same as in: AlBo0809_RFE_RFC_9.csv\n"
     ]
    }
   ],
   "source": [
    "columns10 = [\n",
    "    'AmountPositive',\n",
    "    'Value',\n",
    "    'product_category_transactions__AmountPositive_global_count',\n",
    "    'account_provider_transactions__Value_global_avg',\n",
    "    'account_product_transactions__AmountPositive_global_avg',\n",
    "    'product_category_transactions__AmountPositive_global_avg',\n",
    "    'provider_transactions__AmountPositive_global_avg',\n",
    "    'account_provider_transactions__AmountPositive_global_avg',\n",
    "    'pricing_strategy_transactions__AmountPositive_week_sum',\n",
    "    'account_product_transactions__Value_global_avg',\n",
    "]\n",
    "\n",
    "prediction(X_trn[columns10], y_trn, X_tst[columns10], 'RFC_10')"
   ]
  },
  {
   "cell_type": "code",
   "execution_count": 118,
   "metadata": {},
   "outputs": [
    {
     "name": "stdout",
     "output_type": "stream",
     "text": [
      "Results: Counter({0: 44927, 1: 92})\n",
      "It is the same as in: AlBo0809_RFE_RFC_9.csv\n"
     ]
    }
   ],
   "source": [
    "columns11 = [\n",
    "    'AmountPositive',\n",
    "    'Value',\n",
    "    'product_category_transactions__AmountPositive_global_count',\n",
    "    'account_provider_transactions__Value_global_avg',\n",
    "    'account_product_transactions__AmountPositive_global_avg',\n",
    "    'product_category_transactions__AmountPositive_global_avg',\n",
    "    'provider_transactions__AmountPositive_global_avg',\n",
    "    'account_provider_transactions__AmountPositive_global_avg',\n",
    "    'pricing_strategy_transactions__AmountPositive_week_sum',\n",
    "    'account_product_transactions__Value_global_avg',\n",
    "    'channel_transactions__AmountNegative_week_count',\n",
    "]\n",
    "\n",
    "prediction(X_trn[columns11], y_trn, X_tst[columns11], 'RFC_11')"
   ]
  },
  {
   "cell_type": "code",
   "execution_count": 119,
   "metadata": {},
   "outputs": [
    {
     "name": "stdout",
     "output_type": "stream",
     "text": [
      "Results: Counter({0: 44927, 1: 92})\n",
      "It is the same as in: AlBo0809_RFE_RFC_9.csv\n"
     ]
    }
   ],
   "source": [
    "columns12 = [\n",
    "    'AmountPositive',\n",
    "    'Value',\n",
    "    'product_category_transactions__AmountPositive_global_count',\n",
    "    'account_provider_transactions__Value_global_avg',\n",
    "    'account_product_transactions__AmountPositive_global_avg',\n",
    "    'product_category_transactions__AmountPositive_global_avg',\n",
    "    'provider_transactions__AmountPositive_global_avg',\n",
    "    'account_provider_transactions__AmountPositive_global_avg',\n",
    "    'pricing_strategy_transactions__AmountPositive_week_sum',\n",
    "    'account_product_transactions__Value_global_avg',\n",
    "    'channel_transactions__AmountNegative_week_count',\n",
    "    'product_transactions__Value_global_sum',\n",
    "]\n",
    "\n",
    "prediction(X_trn[columns12], y_trn, X_tst[columns12], 'RFC_12')"
   ]
  },
  {
   "cell_type": "code",
   "execution_count": 120,
   "metadata": {},
   "outputs": [
    {
     "name": "stdout",
     "output_type": "stream",
     "text": [
      "Results: Counter({0: 44927, 1: 92})\n",
      "It is the same as in: AlBo0809_RFE_RFC_9.csv\n"
     ]
    }
   ],
   "source": [
    "columns13 = [\n",
    "    'AmountPositive',\n",
    "    'Value',\n",
    "    'product_category_transactions__AmountPositive_global_count',\n",
    "    'account_provider_transactions__Value_global_avg',\n",
    "    'account_product_transactions__AmountPositive_global_avg',\n",
    "    'product_category_transactions__AmountPositive_global_avg',\n",
    "    'provider_transactions__AmountPositive_global_avg',\n",
    "    'account_provider_transactions__AmountPositive_global_avg',\n",
    "    'pricing_strategy_transactions__AmountPositive_week_sum',\n",
    "    'account_product_transactions__Value_global_avg',\n",
    "    'channel_transactions__AmountNegative_week_count',\n",
    "    'product_transactions__Value_global_sum',\n",
    "    'provider_transactions__Value_global_avg',\n",
    "]\n",
    "\n",
    "prediction(X_trn[columns13], y_trn, X_tst[columns13], 'RFC_13')"
   ]
  },
  {
   "cell_type": "code",
   "execution_count": 121,
   "metadata": {},
   "outputs": [
    {
     "name": "stdout",
     "output_type": "stream",
     "text": [
      "Results: Counter({0: 44927, 1: 92})\n",
      "It is the same as in: AlBo0809_RFE_RFC_9.csv\n"
     ]
    }
   ],
   "source": [
    "columns14 = [\n",
    "    'AmountPositive',\n",
    "    'Value',\n",
    "    'product_category_transactions__AmountPositive_global_count',\n",
    "    'account_provider_transactions__Value_global_avg',\n",
    "    'account_product_transactions__AmountPositive_global_avg',\n",
    "    'product_category_transactions__AmountPositive_global_avg',\n",
    "    'provider_transactions__AmountPositive_global_avg',\n",
    "    'account_provider_transactions__AmountPositive_global_avg',\n",
    "    'pricing_strategy_transactions__AmountPositive_week_sum',\n",
    "    'account_product_transactions__Value_global_avg',\n",
    "    'channel_transactions__AmountNegative_week_count',\n",
    "    'product_transactions__Value_global_sum',\n",
    "    'provider_transactions__Value_global_avg',\n",
    "    'account_product_category_transactions__Value_global_avg'\n",
    "]\n",
    "\n",
    "prediction(X_trn[columns14], y_trn, X_tst[columns14], 'RFC_14')"
   ]
  },
  {
   "cell_type": "code",
   "execution_count": 122,
   "metadata": {},
   "outputs": [
    {
     "name": "stdout",
     "output_type": "stream",
     "text": [
      "Results: Counter({0: 44927, 1: 92})\n",
      "It is the same as in: AlBo0809_RFE_RFC_9.csv\n"
     ]
    }
   ],
   "source": [
    "columns15 = [\n",
    "    'AmountPositive',\n",
    "    'Value',\n",
    "    'product_category_transactions__AmountPositive_global_count',\n",
    "    'account_provider_transactions__Value_global_avg',\n",
    "    'account_product_transactions__AmountPositive_global_avg',\n",
    "    'product_category_transactions__AmountPositive_global_avg',\n",
    "    'provider_transactions__AmountPositive_global_avg',\n",
    "    'account_provider_transactions__AmountPositive_global_avg',\n",
    "    'pricing_strategy_transactions__AmountPositive_week_sum',\n",
    "    'account_product_transactions__Value_global_avg',\n",
    "    'channel_transactions__AmountNegative_week_count',\n",
    "    'product_transactions__Value_global_sum',\n",
    "    'provider_transactions__Value_global_avg',\n",
    "    'account_product_category_transactions__Value_global_avg',\n",
    "    'product_transactions__AmountPositive_global_sum',\n",
    "]\n",
    "\n",
    "prediction(X_trn[columns15], y_trn, X_tst[columns15], 'RFC_15')"
   ]
  },
  {
   "cell_type": "code",
   "execution_count": 123,
   "metadata": {},
   "outputs": [
    {
     "name": "stdout",
     "output_type": "stream",
     "text": [
      "Results: Counter({0: 44927, 1: 92})\n",
      "It is the same as in: AlBo0809_RFE_RFC_9.csv\n"
     ]
    }
   ],
   "source": [
    "columns16 = [\n",
    "    'AmountPositive',\n",
    "    'Value',\n",
    "    'product_category_transactions__AmountPositive_global_count',\n",
    "    'account_provider_transactions__Value_global_avg',\n",
    "    'account_product_transactions__AmountPositive_global_avg',\n",
    "    'product_category_transactions__AmountPositive_global_avg',\n",
    "    'provider_transactions__AmountPositive_global_avg',\n",
    "    'account_provider_transactions__AmountPositive_global_avg',\n",
    "    'pricing_strategy_transactions__AmountPositive_week_sum',\n",
    "    'account_product_transactions__Value_global_avg',\n",
    "    'channel_transactions__AmountNegative_week_count',\n",
    "    'product_transactions__Value_global_sum',\n",
    "    'provider_transactions__Value_global_avg',\n",
    "    'account_product_category_transactions__Value_global_avg',\n",
    "    'product_transactions__AmountPositive_global_sum',\n",
    "    'pricing_strategy_transactions__AmountPositive_global_avg',\n",
    "]\n",
    "\n",
    "prediction(X_trn[columns16], y_trn, X_tst[columns16], 'RFC_16')"
   ]
  },
  {
   "cell_type": "code",
   "execution_count": 124,
   "metadata": {},
   "outputs": [
    {
     "name": "stdout",
     "output_type": "stream",
     "text": [
      "Results: Counter({0: 44927, 1: 92})\n",
      "It is the same as in: AlBo0809_RFE_RFC_9.csv\n"
     ]
    }
   ],
   "source": [
    "columns17 = [\n",
    "    'AmountPositive',\n",
    "    'Value',\n",
    "    'product_category_transactions__AmountPositive_global_count',\n",
    "    'account_provider_transactions__Value_global_avg',\n",
    "    'account_product_transactions__AmountPositive_global_avg',\n",
    "    'product_category_transactions__AmountPositive_global_avg',\n",
    "    'provider_transactions__AmountPositive_global_avg',\n",
    "    'account_provider_transactions__AmountPositive_global_avg',\n",
    "    'pricing_strategy_transactions__AmountPositive_week_sum',\n",
    "    'account_product_transactions__Value_global_avg',\n",
    "    'channel_transactions__AmountNegative_week_count',\n",
    "    'product_transactions__Value_global_sum',\n",
    "    'provider_transactions__Value_global_avg',\n",
    "    'account_product_category_transactions__Value_global_avg',\n",
    "    'product_transactions__AmountPositive_global_sum',\n",
    "    'pricing_strategy_transactions__AmountPositive_global_avg',\n",
    "    'pricing_strategy_transactions__AmountPositive_week_count',\n",
    "]\n",
    "\n",
    "prediction(X_trn[columns17], y_trn, X_tst[columns17], 'RFC_17')"
   ]
  },
  {
   "cell_type": "code",
   "execution_count": 126,
   "metadata": {},
   "outputs": [
    {
     "name": "stdout",
     "output_type": "stream",
     "text": [
      "Results: Counter({0: 44927, 1: 92})\n",
      "It is the same as in: AlBo0809_RFE_RFC_9.csv\n"
     ]
    }
   ],
   "source": [
    "columns18 = [\n",
    "    'AmountPositive',\n",
    "    'Value',\n",
    "    'product_category_transactions__AmountPositive_global_count',\n",
    "    'account_provider_transactions__Value_global_avg',\n",
    "    'account_product_transactions__AmountPositive_global_avg',\n",
    "    'product_category_transactions__AmountPositive_global_avg',\n",
    "    'provider_transactions__AmountPositive_global_avg',\n",
    "    'account_provider_transactions__AmountPositive_global_avg',\n",
    "    'pricing_strategy_transactions__AmountPositive_week_sum',\n",
    "    'account_product_transactions__Value_global_avg',\n",
    "    'channel_transactions__AmountNegative_week_count',\n",
    "    'product_transactions__Value_global_sum',\n",
    "    'provider_transactions__Value_global_avg',\n",
    "    'account_product_category_transactions__Value_global_avg',\n",
    "    'product_transactions__AmountPositive_global_sum',\n",
    "    'pricing_strategy_transactions__AmountPositive_global_avg',\n",
    "    'pricing_strategy_transactions__AmountPositive_week_count',\n",
    "    'pricing_strategy_transactions__Value_global_avg',\n",
    "]\n",
    "\n",
    "prediction(X_trn[columns18], y_trn, X_tst[columns18], 'RFC_18')"
   ]
  },
  {
   "cell_type": "code",
   "execution_count": 127,
   "metadata": {},
   "outputs": [
    {
     "name": "stdout",
     "output_type": "stream",
     "text": [
      "Results: Counter({0: 44927, 1: 92})\n",
      "It is the same as in: AlBo0809_RFE_RFC_9.csv\n"
     ]
    }
   ],
   "source": [
    "columns19 = [\n",
    "    'AmountPositive',\n",
    "    'Value',\n",
    "    'product_category_transactions__AmountPositive_global_count',\n",
    "    'account_provider_transactions__Value_global_avg',\n",
    "    'account_product_transactions__AmountPositive_global_avg',\n",
    "    'product_category_transactions__AmountPositive_global_avg',\n",
    "    'provider_transactions__AmountPositive_global_avg',\n",
    "    'account_provider_transactions__AmountPositive_global_avg',\n",
    "    'pricing_strategy_transactions__AmountPositive_week_sum',\n",
    "    'account_product_transactions__Value_global_avg',\n",
    "    'channel_transactions__AmountNegative_week_count',\n",
    "    'product_transactions__Value_global_sum',\n",
    "    'provider_transactions__Value_global_avg',\n",
    "    'account_product_category_transactions__Value_global_avg',\n",
    "    'product_transactions__AmountPositive_global_sum',\n",
    "    'pricing_strategy_transactions__AmountPositive_global_avg',\n",
    "    'pricing_strategy_transactions__AmountPositive_week_count',\n",
    "    'pricing_strategy_transactions__Value_global_avg',\n",
    "    'product_category_transactions__AmountPositive_global_sum',\n",
    "]\n",
    "\n",
    "prediction(X_trn[columns19], y_trn, X_tst[columns19], 'RFC_19')"
   ]
  },
  {
   "cell_type": "code",
   "execution_count": 128,
   "metadata": {},
   "outputs": [
    {
     "name": "stdout",
     "output_type": "stream",
     "text": [
      "Results: Counter({0: 44927, 1: 92})\n",
      "It is the same as in: AlBo0809_RFE_RFC_9.csv\n"
     ]
    }
   ],
   "source": [
    "columns20 = [\n",
    "    'AmountPositive',\n",
    "    'Value',\n",
    "    'product_category_transactions__AmountPositive_global_count',\n",
    "    'account_provider_transactions__Value_global_avg',\n",
    "    'account_product_transactions__AmountPositive_global_avg',\n",
    "    'product_category_transactions__AmountPositive_global_avg',\n",
    "    'provider_transactions__AmountPositive_global_avg',\n",
    "    'account_provider_transactions__AmountPositive_global_avg',\n",
    "    'pricing_strategy_transactions__AmountPositive_week_sum',\n",
    "    'account_product_transactions__Value_global_avg',\n",
    "    'channel_transactions__AmountNegative_week_count',\n",
    "    'product_transactions__Value_global_sum',\n",
    "    'provider_transactions__Value_global_avg',\n",
    "    'account_product_category_transactions__Value_global_avg',\n",
    "    'product_transactions__AmountPositive_global_sum',\n",
    "    'pricing_strategy_transactions__AmountPositive_global_avg',\n",
    "    'pricing_strategy_transactions__AmountPositive_week_count',\n",
    "    'pricing_strategy_transactions__Value_global_avg',\n",
    "    'product_category_transactions__AmountPositive_global_sum',\n",
    "    'account_channel_transactions__Value_global_avg',\n",
    "]\n",
    "\n",
    "prediction(X_trn[columns20], y_trn, X_tst[columns20], 'RFC_20')"
   ]
  },
  {
   "cell_type": "code",
   "execution_count": 129,
   "metadata": {},
   "outputs": [
    {
     "name": "stdout",
     "output_type": "stream",
     "text": [
      "Results: Counter({0: 44927, 1: 92})\n",
      "It is the same as in: AlBo0809_RFE_RFC_9.csv\n"
     ]
    }
   ],
   "source": [
    "columns21 = [\n",
    "    'AmountPositive',\n",
    "    'Value',\n",
    "    'product_category_transactions__AmountPositive_global_count',\n",
    "    'account_provider_transactions__Value_global_avg',\n",
    "    'account_product_transactions__AmountPositive_global_avg',\n",
    "    'product_category_transactions__AmountPositive_global_avg',\n",
    "    'provider_transactions__AmountPositive_global_avg',\n",
    "    'account_provider_transactions__AmountPositive_global_avg',\n",
    "    'pricing_strategy_transactions__AmountPositive_week_sum',\n",
    "    'account_product_transactions__Value_global_avg',\n",
    "    'channel_transactions__AmountNegative_week_count',\n",
    "    'product_transactions__Value_global_sum',\n",
    "    'provider_transactions__Value_global_avg',\n",
    "    'account_product_category_transactions__Value_global_avg',\n",
    "    'product_transactions__AmountPositive_global_sum',\n",
    "    'pricing_strategy_transactions__AmountPositive_global_avg',\n",
    "    'pricing_strategy_transactions__AmountPositive_week_count',\n",
    "    'pricing_strategy_transactions__Value_global_avg',\n",
    "    'product_category_transactions__AmountPositive_global_sum',\n",
    "    'account_channel_transactions__Value_global_avg',\n",
    "    'pricing_strategy_transactions__Value_week_sum',\n",
    "]\n",
    "\n",
    "prediction(X_trn[columns21], y_trn, X_tst[columns21], 'RFC_21')"
   ]
  },
  {
   "cell_type": "code",
   "execution_count": 130,
   "metadata": {},
   "outputs": [
    {
     "name": "stdout",
     "output_type": "stream",
     "text": [
      "Results: Counter({0: 44927, 1: 92})\n",
      "It is the same as in: AlBo0809_RFE_RFC_9.csv\n"
     ]
    }
   ],
   "source": [
    "columns22 = [\n",
    "    'AmountPositive',\n",
    "    'Value',\n",
    "    'product_category_transactions__AmountPositive_global_count',\n",
    "    'account_provider_transactions__Value_global_avg',\n",
    "    'account_product_transactions__AmountPositive_global_avg',\n",
    "    'product_category_transactions__AmountPositive_global_avg',\n",
    "    'provider_transactions__AmountPositive_global_avg',\n",
    "    'account_provider_transactions__AmountPositive_global_avg',\n",
    "    'pricing_strategy_transactions__AmountPositive_week_sum',\n",
    "    'account_product_transactions__Value_global_avg',\n",
    "    'channel_transactions__AmountNegative_week_count',\n",
    "    'product_transactions__Value_global_sum',\n",
    "    'provider_transactions__Value_global_avg',\n",
    "    'account_product_category_transactions__Value_global_avg',\n",
    "    'product_transactions__AmountPositive_global_sum',\n",
    "    'pricing_strategy_transactions__AmountPositive_global_avg',\n",
    "    'pricing_strategy_transactions__AmountPositive_week_count',\n",
    "    'pricing_strategy_transactions__Value_global_avg',\n",
    "    'product_category_transactions__AmountPositive_global_sum',\n",
    "    'account_channel_transactions__Value_global_avg',\n",
    "    'pricing_strategy_transactions__Value_week_sum',\n",
    "    'provider_transactions__Value_week_avg'\n",
    "]\n",
    "\n",
    "prediction(X_trn[columns22], y_trn, X_tst[columns22], 'RFC_22')"
   ]
  },
  {
   "cell_type": "code",
   "execution_count": 131,
   "metadata": {},
   "outputs": [
    {
     "name": "stdout",
     "output_type": "stream",
     "text": [
      "Results: Counter({0: 44927, 1: 92})\n",
      "It is the same as in: AlBo0809_RFE_RFC_9.csv\n"
     ]
    }
   ],
   "source": [
    "columns23 = [\n",
    "    'AmountPositive',\n",
    "    'Value',\n",
    "    'product_category_transactions__AmountPositive_global_count',\n",
    "    'account_provider_transactions__Value_global_avg',\n",
    "    'account_product_transactions__AmountPositive_global_avg',\n",
    "    'product_category_transactions__AmountPositive_global_avg',\n",
    "    'provider_transactions__AmountPositive_global_avg',\n",
    "    'account_provider_transactions__AmountPositive_global_avg',\n",
    "    'pricing_strategy_transactions__AmountPositive_week_sum',\n",
    "    'account_product_transactions__Value_global_avg',\n",
    "    'channel_transactions__AmountNegative_week_count',\n",
    "    'product_transactions__Value_global_sum',\n",
    "    'provider_transactions__Value_global_avg',\n",
    "    'account_product_category_transactions__Value_global_avg',\n",
    "    'product_transactions__AmountPositive_global_sum',\n",
    "    'pricing_strategy_transactions__AmountPositive_global_avg',\n",
    "    'pricing_strategy_transactions__AmountPositive_week_count',\n",
    "    'pricing_strategy_transactions__Value_global_avg',\n",
    "    'product_category_transactions__AmountPositive_global_sum',\n",
    "    'account_channel_transactions__Value_global_avg',\n",
    "    'pricing_strategy_transactions__Value_week_sum',\n",
    "    'provider_transactions__Value_week_avg',\n",
    "    'product_transactions__Value_global_avg'\n",
    "]\n",
    "\n",
    "prediction(X_trn[columns23], y_trn, X_tst[columns23], 'RFC_23')"
   ]
  },
  {
   "cell_type": "code",
   "execution_count": 132,
   "metadata": {},
   "outputs": [
    {
     "name": "stdout",
     "output_type": "stream",
     "text": [
      "Results: Counter({0: 44922, 1: 97})\n",
      "New result! Submit it!\n"
     ]
    }
   ],
   "source": [
    "columns24 = [\n",
    "    'AmountPositive',\n",
    "    'Value',\n",
    "    'product_category_transactions__AmountPositive_global_count',\n",
    "    'account_provider_transactions__Value_global_avg',\n",
    "    'account_product_transactions__AmountPositive_global_avg',\n",
    "    'product_category_transactions__AmountPositive_global_avg',\n",
    "    'provider_transactions__AmountPositive_global_avg',\n",
    "    'account_provider_transactions__AmountPositive_global_avg',\n",
    "    'pricing_strategy_transactions__AmountPositive_week_sum',\n",
    "    'account_product_transactions__Value_global_avg',\n",
    "    'channel_transactions__AmountNegative_week_count',\n",
    "    'product_transactions__Value_global_sum',\n",
    "    'provider_transactions__Value_global_avg',\n",
    "    'account_product_category_transactions__Value_global_avg',\n",
    "    'product_transactions__AmountPositive_global_sum',\n",
    "    'pricing_strategy_transactions__AmountPositive_global_avg',\n",
    "    'pricing_strategy_transactions__AmountPositive_week_count',\n",
    "    'pricing_strategy_transactions__Value_global_avg',\n",
    "    'product_category_transactions__AmountPositive_global_sum',\n",
    "    'account_channel_transactions__Value_global_avg',\n",
    "    'pricing_strategy_transactions__Value_week_sum',\n",
    "    'provider_transactions__Value_week_avg',\n",
    "    'product_transactions__Value_global_avg',\n",
    "    'product_category_transactions__Value_global_avg',\n",
    "]\n",
    "\n",
    "prediction(X_trn[columns24], y_trn, X_tst[columns24], 'RFC_24')"
   ]
  },
  {
   "cell_type": "code",
   "execution_count": null,
   "metadata": {},
   "outputs": [],
   "source": []
  },
  {
   "cell_type": "code",
   "execution_count": 14,
   "metadata": {},
   "outputs": [
    {
     "name": "stdout",
     "output_type": "stream",
     "text": [
      "Equal\n"
     ]
    }
   ],
   "source": [
    "df_AB  = pd.read_csv('../submitted/AlBo0726_top18chi2_BaggingClassifier.csv')\n",
    "df_OM  = pd.read_csv('../submitted/rf-custom-features-v18.csv')\n",
    "set_AB = set(df_AB[df_AB['FraudResult'] == 1].index.tolist())\n",
    "set_OM = set(df_OM[df_OM['FraudResult'] == 1].index.tolist())\n",
    "if set_AB == set_OM:\n",
    "    print('Equal')\n",
    "else:\n",
    "    print('Not equal')"
   ]
  }
 ],
 "metadata": {
  "kernelspec": {
   "display_name": "Python 3",
   "language": "python",
   "name": "python3"
  },
  "language_info": {
   "codemirror_mode": {
    "name": "ipython",
    "version": 3
   },
   "file_extension": ".py",
   "mimetype": "text/x-python",
   "name": "python",
   "nbconvert_exporter": "python",
   "pygments_lexer": "ipython3",
   "version": "3.7.1"
  }
 },
 "nbformat": 4,
 "nbformat_minor": 2
}
