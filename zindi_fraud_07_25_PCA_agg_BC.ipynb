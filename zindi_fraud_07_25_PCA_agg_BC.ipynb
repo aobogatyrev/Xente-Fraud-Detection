{
 "cells": [
  {
   "cell_type": "markdown",
   "metadata": {},
   "source": [
    "# PCA for aggregate features"
   ]
  },
  {
   "cell_type": "code",
   "execution_count": 1,
   "metadata": {},
   "outputs": [],
   "source": [
    "import numpy as np\n",
    "import pandas as pd\n",
    "import matplotlib.pyplot as plt\n",
    "from sklearn.model_selection import GridSearchCV\n",
    "from sklearn.pipeline import Pipeline\n",
    "from sklearn.svm import LinearSVC\n",
    "from sklearn.decomposition import PCA, NMF\n",
    "from sklearn.feature_selection import SelectKBest, chi2"
   ]
  },
  {
   "cell_type": "code",
   "execution_count": 2,
   "metadata": {},
   "outputs": [],
   "source": [
    "df_trn = pd.read_csv('../data/train-agg.csv')\n",
    "df_tst = pd.read_csv('../data/test-agg.csv')\n",
    "df_sbm = pd.read_csv('../data/sample_submission.csv')"
   ]
  },
  {
   "cell_type": "code",
   "execution_count": 3,
   "metadata": {},
   "outputs": [],
   "source": [
    "df_trn['AmountPositive'] = df_trn['Amount'].apply(lambda x: x if x > 0 else 0)\n",
    "df_trn['AmountNegative'] = df_trn['Amount'].apply(lambda x: x if x < 0 else 0)\n",
    "\n",
    "df_tst['AmountPositive'] = df_tst['Amount'].apply(lambda x: x if x > 0 else 0)\n",
    "df_tst['AmountNegative'] = df_tst['Amount'].apply(lambda x: x if x < 0 else 0)"
   ]
  },
  {
   "cell_type": "code",
   "execution_count": 4,
   "metadata": {},
   "outputs": [],
   "source": [
    "columns4drop = [\n",
    "    'TransactionId',\n",
    "    'BatchId',\n",
    "    'AccountId',\n",
    "    'SubscriptionId',\n",
    "    'CustomerId',\n",
    "    'CurrencyCode',\n",
    "    'CountryCode',\n",
    "    'ProviderId',\n",
    "    'ProductId',\n",
    "    'ProductCategory',\n",
    "    'ChannelId',\n",
    "    'Amount',\n",
    "    'TransactionStartTime',\n",
    "    'PricingStrategy'\n",
    "]"
   ]
  },
  {
   "cell_type": "code",
   "execution_count": 5,
   "metadata": {},
   "outputs": [],
   "source": [
    "df_trn_cut = df_trn.drop(columns=columns4drop, axis=1)\n",
    "df_tst_cut = df_tst.drop(columns=columns4drop, axis=1)"
   ]
  },
  {
   "cell_type": "code",
   "execution_count": 6,
   "metadata": {},
   "outputs": [],
   "source": [
    "df_trn_cut.to_csv('../data/train-agg-cut.csv', encoding='utf-8', index=False)\n",
    "df_tst_cut.to_csv('../data/test-agg-cut.csv',  encoding='utf-8', index=False)"
   ]
  },
  {
   "cell_type": "code",
   "execution_count": 11,
   "metadata": {},
   "outputs": [],
   "source": [
    "X_trn = df_trn_cut.drop(columns=['FraudResult'], axis=1)\n",
    "y_trn = df_trn_cut['FraudResult']\n",
    "\n",
    "X_tst = df_tst_cut"
   ]
  },
  {
   "cell_type": "code",
   "execution_count": 25,
   "metadata": {},
   "outputs": [],
   "source": [
    "from sklearn.ensemble import BaggingClassifier\n",
    "from sklearn.decomposition import PCA\n",
    "from sklearn.model_selection import cross_val_score\n",
    "from sklearn.model_selection import cross_validate\n",
    "from sklearn.metrics import precision_score, recall_score, f1_score, roc_auc_score, accuracy_score, classification_report"
   ]
  },
  {
   "cell_type": "code",
   "execution_count": 26,
   "metadata": {},
   "outputs": [
    {
     "name": "stdout",
     "output_type": "stream",
     "text": [
      "PCA( 2): f1-score=0.0025\n",
      "PCA( 4): f1-score=0.0077\n",
      "PCA( 6): f1-score=0.0110\n",
      "PCA( 8): f1-score=0.0017\n",
      "PCA(10): f1-score=0.0019\n",
      "PCA(12): f1-score=0.0084\n",
      "PCA(14): f1-score=0.0011\n",
      "PCA(16): f1-score=0.0008\n",
      "PCA(18): f1-score=0.0056\n",
      "PCA(20): f1-score=0.0019\n",
      "PCA(22): f1-score=0.0029\n",
      "PCA(24): f1-score=0.0031\n",
      "PCA(26): f1-score=0.0054\n",
      "PCA(28): f1-score=0.0020\n",
      "PCA(30): f1-score=0.0062\n"
     ]
    }
   ],
   "source": [
    "for n_components in range(2, 32, 2):\n",
    "    X_pca_trn = PCA(n_components=n_components).fit(X_trn).transform(X_trn)\n",
    "    BaggingClassifier().fit(X_pca_trn, y_trn)\n",
    "    cv_results = cross_validate(BaggingClassifier(), X_pca_trn, y_trn,\n",
    "                                scoring=('precision', 'recall', 'f1'), cv=3, n_jobs=-1)\n",
    "    print('PCA(%2i): f1-score=%6.4f' % (n_components, cv_results['test_f1'].mean()))"
   ]
  },
  {
   "cell_type": "code",
   "execution_count": 38,
   "metadata": {},
   "outputs": [
    {
     "name": "stdout",
     "output_type": "stream",
     "text": [
      "PCA(32): f1-score=0.0013\n",
      "PCA(34): f1-score=0.0060\n",
      "PCA(36): f1-score=0.0031\n",
      "PCA(38): f1-score=0.0020\n",
      "PCA(40): f1-score=0.0046\n",
      "PCA(42): f1-score=0.0109\n",
      "PCA(44): f1-score=0.0034\n",
      "PCA(46): f1-score=0.0115\n",
      "PCA(48): f1-score=0.0253\n",
      "PCA(50): f1-score=0.0009\n",
      "PCA(52): f1-score=0.0018\n",
      "PCA(54): f1-score=0.0046\n",
      "PCA(56): f1-score=0.0008\n",
      "PCA(58): f1-score=0.0009\n",
      "PCA(60): f1-score=0.0005\n",
      "PCA(62): f1-score=0.0019\n",
      "PCA(64): f1-score=0.0062\n",
      "PCA(66): f1-score=0.0015\n",
      "PCA(68): f1-score=0.0008\n",
      "PCA(70): f1-score=0.0018\n",
      "PCA(72): f1-score=0.0007\n",
      "PCA(74): f1-score=0.0007\n",
      "PCA(76): f1-score=0.0005\n",
      "PCA(78): f1-score=0.0018\n",
      "PCA(80): f1-score=0.0081\n",
      "PCA(82): f1-score=0.0021\n",
      "PCA(84): f1-score=0.0062\n",
      "PCA(86): f1-score=0.0189\n",
      "PCA(88): f1-score=0.0120\n",
      "PCA(90): f1-score=0.0114\n",
      "PCA(92): f1-score=0.0016\n",
      "PCA(94): f1-score=0.0028\n",
      "PCA(96): f1-score=0.2327\n",
      "PCA(98): f1-score=0.2518\n",
      "PCA(100): f1-score=0.2742\n",
      "PCA(102): f1-score=0.3273\n",
      "PCA(104): f1-score=0.2516\n",
      "PCA(106): f1-score=0.2182\n",
      "PCA(108): f1-score=0.3010\n",
      "PCA(110): f1-score=0.3336\n",
      "PCA(112): f1-score=0.3581\n",
      "PCA(114): f1-score=0.3186\n",
      "PCA(116): f1-score=0.3468\n",
      "PCA(118): f1-score=0.2411\n",
      "PCA(120): f1-score=0.2312\n",
      "PCA(122): f1-score=0.2656\n",
      "PCA(124): f1-score=0.2057\n",
      "PCA(126): f1-score=0.2504\n",
      "PCA(128): f1-score=0.3153\n",
      "PCA(130): f1-score=0.2731\n",
      "PCA(132): f1-score=0.2777\n",
      "PCA(134): f1-score=0.2712\n",
      "PCA(136): f1-score=0.2457\n",
      "PCA(138): f1-score=0.3435\n",
      "PCA(140): f1-score=0.2244\n",
      "PCA(142): f1-score=0.3130\n",
      "PCA(144): f1-score=0.3022\n",
      "PCA(146): f1-score=0.2429\n",
      "PCA(148): f1-score=0.3157\n",
      "PCA(150): f1-score=0.2341\n",
      "PCA(152): f1-score=0.2609\n",
      "PCA(154): f1-score=0.2508\n",
      "PCA(156): f1-score=0.3234\n",
      "PCA(158): f1-score=0.2715\n",
      "PCA(160): f1-score=0.2661\n",
      "PCA(162): f1-score=0.3571\n",
      "PCA(164): f1-score=0.2358\n",
      "PCA(166): f1-score=0.2705\n",
      "PCA(168): f1-score=0.2160\n",
      "PCA(170): f1-score=0.2530\n",
      "PCA(172): f1-score=0.2866\n",
      "PCA(174): f1-score=0.2323\n",
      "PCA(176): f1-score=0.3062\n",
      "PCA(178): f1-score=0.2948\n",
      "PCA(180): f1-score=0.3623\n",
      "PCA(182): f1-score=0.3038\n",
      "PCA(184): f1-score=0.2788\n",
      "PCA(186): f1-score=0.2314\n",
      "PCA(188): f1-score=0.3183\n",
      "PCA(190): f1-score=0.2954\n",
      "PCA(192): f1-score=0.2812\n",
      "PCA(194): f1-score=0.2552\n",
      "PCA(196): f1-score=0.2524\n",
      "PCA(198): f1-score=0.2722\n",
      "PCA(200): f1-score=0.2543\n",
      "PCA(202): f1-score=0.2836\n",
      "PCA(204): f1-score=0.2463\n",
      "PCA(206): f1-score=0.2588\n",
      "PCA(208): f1-score=0.2614\n",
      "PCA(210): f1-score=0.2546\n",
      "PCA(212): f1-score=0.3361\n",
      "PCA(214): f1-score=0.2640\n",
      "PCA(216): f1-score=0.3066\n",
      "PCA(218): f1-score=0.2798\n",
      "PCA(220): f1-score=0.2793\n",
      "PCA(222): f1-score=0.2276\n",
      "PCA(224): f1-score=0.2718\n",
      "PCA(226): f1-score=0.2698\n",
      "PCA(228): f1-score=0.2575\n",
      "PCA(230): f1-score=0.2578\n",
      "PCA(232): f1-score=0.2379\n",
      "PCA(234): f1-score=0.2696\n",
      "PCA(236): f1-score=0.2820\n",
      "PCA(238): f1-score=0.2305\n",
      "PCA(240): f1-score=0.2472\n",
      "PCA(242): f1-score=0.2870\n",
      "PCA(244): f1-score=0.2862\n",
      "PCA(246): f1-score=0.1802\n",
      "PCA(248): f1-score=0.2404\n",
      "PCA(250): f1-score=0.2696\n",
      "PCA(252): f1-score=0.2700\n",
      "PCA(254): f1-score=0.2724\n"
     ]
    }
   ],
   "source": [
    "for n_components in range(32, 256, 2):\n",
    "    X_pca_trn = PCA(n_components=n_components).fit(X_trn).transform(X_trn)\n",
    "    BaggingClassifier().fit(X_pca_trn, y_trn)\n",
    "    cv_results = cross_validate(BaggingClassifier(), X_pca_trn, y_trn,\n",
    "                                scoring=('precision', 'recall', 'f1'), cv=3, n_jobs=-1)\n",
    "    print('PCA(%2i): f1-score=%6.4f' % (n_components, cv_results['test_f1'].mean()))"
   ]
  },
  {
   "cell_type": "code",
   "execution_count": 28,
   "metadata": {},
   "outputs": [
    {
     "data": {
      "text/plain": [
       "(95662, 498)"
      ]
     },
     "execution_count": 28,
     "metadata": {},
     "output_type": "execute_result"
    }
   ],
   "source": [
    "X_trn.shape"
   ]
  },
  {
   "cell_type": "code",
   "execution_count": 35,
   "metadata": {},
   "outputs": [],
   "source": [
    "pca = PCA(n_components=32)\n",
    "X_pca_trn = pca.fit(X_trn).transform(X_trn)"
   ]
  },
  {
   "cell_type": "code",
   "execution_count": 36,
   "metadata": {},
   "outputs": [
    {
     "data": {
      "text/plain": [
       "(95662, 32)"
      ]
     },
     "execution_count": 36,
     "metadata": {},
     "output_type": "execute_result"
    }
   ],
   "source": [
    "np.shape(X_pca_trn)"
   ]
  },
  {
   "cell_type": "code",
   "execution_count": 37,
   "metadata": {},
   "outputs": [
    {
     "data": {
      "text/plain": [
       "(95662, 498)"
      ]
     },
     "execution_count": 37,
     "metadata": {},
     "output_type": "execute_result"
    }
   ],
   "source": [
    "X_inv = pca.inverse_transform(X_pca_trn)\n",
    "np.shape(X_inv)"
   ]
  },
  {
   "cell_type": "code",
   "execution_count": null,
   "metadata": {},
   "outputs": [],
   "source": [
    "pca = PCA(n_components=1)\n",
    "pca.fit(X)\n",
    "X_pca = pca.transform(X)\n",
    "print(\"original shape:   \", X.shape)\n",
    "print(\"transformed shape:\", X_pca.shape)"
   ]
  }
 ],
 "metadata": {
  "kernelspec": {
   "display_name": "Python 3",
   "language": "python",
   "name": "python3"
  },
  "language_info": {
   "codemirror_mode": {
    "name": "ipython",
    "version": 3
   },
   "file_extension": ".py",
   "mimetype": "text/x-python",
   "name": "python",
   "nbconvert_exporter": "python",
   "pygments_lexer": "ipython3",
   "version": "3.7.1"
  }
 },
 "nbformat": 4,
 "nbformat_minor": 2
}
