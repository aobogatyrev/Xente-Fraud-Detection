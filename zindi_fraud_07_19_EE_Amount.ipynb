{
 "cells": [
  {
   "cell_type": "markdown",
   "metadata": {},
   "source": [
    "# Тьюнинг EllipticEnvelope"
   ]
  },
  {
   "cell_type": "code",
   "execution_count": 1,
   "metadata": {},
   "outputs": [],
   "source": [
    "import numpy  as np\n",
    "import pandas as pd"
   ]
  },
  {
   "cell_type": "code",
   "execution_count": 2,
   "metadata": {},
   "outputs": [],
   "source": [
    "df_trn = pd.read_csv('../data/training_le.csv')\n",
    "df_tst = pd.read_csv('../data/test_le.csv')"
   ]
  },
  {
   "cell_type": "code",
   "execution_count": 3,
   "metadata": {},
   "outputs": [],
   "source": [
    "y_trn = df_trn['FraudResult']"
   ]
  },
  {
   "cell_type": "markdown",
   "metadata": {},
   "source": [
    "**Frauds**"
   ]
  },
  {
   "cell_type": "code",
   "execution_count": 4,
   "metadata": {},
   "outputs": [
    {
     "name": "stdout",
     "output_type": "stream",
     "text": [
      "Train Label Distribution: Counter({0: 95469, 1: 193})\n"
     ]
    }
   ],
   "source": [
    "from collections import Counter\n",
    "print('Train Label Distribution: {}'.format(Counter(y_trn)))"
   ]
  },
  {
   "cell_type": "code",
   "execution_count": 5,
   "metadata": {},
   "outputs": [
    {
     "name": "stdout",
     "output_type": "stream",
     "text": [
      "Train outliers fraction: 0.002\n"
     ]
    }
   ],
   "source": [
    "num_transactions = df_trn.shape[0]\n",
    "num_otliers = df_trn['FraudResult'].value_counts()[1]\n",
    "num_inliers = df_trn['FraudResult'].value_counts()[0]\n",
    "outliers_fraction = num_otliers / num_transactions\n",
    "print('Train outliers fraction:', round(outliers_fraction, 3))"
   ]
  },
  {
   "cell_type": "code",
   "execution_count": 7,
   "metadata": {},
   "outputs": [
    {
     "name": "stdout",
     "output_type": "stream",
     "text": [
      "Number of outliers on union dataset = 284.0\n"
     ]
    }
   ],
   "source": [
    "print('Number of outliers on union dataset =', round((df_trn.shape[0]+df_tst.shape[0])*outliers_fraction, 0))"
   ]
  },
  {
   "cell_type": "markdown",
   "metadata": {},
   "source": [
    "**Union dataframes**"
   ]
  },
  {
   "cell_type": "code",
   "execution_count": 8,
   "metadata": {},
   "outputs": [],
   "source": [
    "df_trn = df_trn.drop(columns='FraudResult', axis=1)"
   ]
  },
  {
   "cell_type": "code",
   "execution_count": 9,
   "metadata": {},
   "outputs": [],
   "source": [
    "columns4drop = [\n",
    "    'BatchId',\n",
    "    'SubscriptionId',\n",
    "    'CustomerId',\n",
    "    'TransactionStartTime'\n",
    "]"
   ]
  },
  {
   "cell_type": "code",
   "execution_count": 10,
   "metadata": {},
   "outputs": [
    {
     "name": "stdout",
     "output_type": "stream",
     "text": [
      "(95662, 8) (45019, 8)\n"
     ]
    }
   ],
   "source": [
    "df_trn = df_trn.drop(columns=columns4drop, axis=1)\n",
    "df_tst = df_tst.drop(columns=columns4drop, axis=1)\n",
    "print(df_trn.shape, df_tst.shape)"
   ]
  },
  {
   "cell_type": "code",
   "execution_count": 11,
   "metadata": {},
   "outputs": [
    {
     "data": {
      "text/plain": [
       "(140681, 8)"
      ]
     },
     "execution_count": 11,
     "metadata": {},
     "output_type": "execute_result"
    }
   ],
   "source": [
    "frames = [df_trn, df_tst]\n",
    "df_union = pd.concat(frames)\n",
    "df_union.shape"
   ]
  },
  {
   "cell_type": "code",
   "execution_count": 12,
   "metadata": {},
   "outputs": [
    {
     "data": {
      "text/html": [
       "<div>\n",
       "<style scoped>\n",
       "    .dataframe tbody tr th:only-of-type {\n",
       "        vertical-align: middle;\n",
       "    }\n",
       "\n",
       "    .dataframe tbody tr th {\n",
       "        vertical-align: top;\n",
       "    }\n",
       "\n",
       "    .dataframe thead th {\n",
       "        text-align: right;\n",
       "    }\n",
       "</style>\n",
       "<table border=\"1\" class=\"dataframe\">\n",
       "  <thead>\n",
       "    <tr style=\"text-align: right;\">\n",
       "      <th></th>\n",
       "      <th>AccountId</th>\n",
       "      <th>ProviderId</th>\n",
       "      <th>ProductId</th>\n",
       "      <th>ProductCategory</th>\n",
       "      <th>ChannelId</th>\n",
       "      <th>Amount</th>\n",
       "      <th>Value</th>\n",
       "      <th>PricingStrategy</th>\n",
       "    </tr>\n",
       "  </thead>\n",
       "  <tbody>\n",
       "    <tr>\n",
       "      <th>0</th>\n",
       "      <td>3956</td>\n",
       "      <td>5</td>\n",
       "      <td>9</td>\n",
       "      <td>0</td>\n",
       "      <td>2</td>\n",
       "      <td>1000.0</td>\n",
       "      <td>1000</td>\n",
       "      <td>2</td>\n",
       "    </tr>\n",
       "    <tr>\n",
       "      <th>1</th>\n",
       "      <td>4840</td>\n",
       "      <td>3</td>\n",
       "      <td>5</td>\n",
       "      <td>2</td>\n",
       "      <td>1</td>\n",
       "      <td>-20.0</td>\n",
       "      <td>20</td>\n",
       "      <td>2</td>\n",
       "    </tr>\n",
       "    <tr>\n",
       "      <th>2</th>\n",
       "      <td>4228</td>\n",
       "      <td>5</td>\n",
       "      <td>0</td>\n",
       "      <td>0</td>\n",
       "      <td>2</td>\n",
       "      <td>500.0</td>\n",
       "      <td>500</td>\n",
       "      <td>2</td>\n",
       "    </tr>\n",
       "    <tr>\n",
       "      <th>3</th>\n",
       "      <td>647</td>\n",
       "      <td>0</td>\n",
       "      <td>20</td>\n",
       "      <td>9</td>\n",
       "      <td>2</td>\n",
       "      <td>20000.0</td>\n",
       "      <td>21800</td>\n",
       "      <td>2</td>\n",
       "    </tr>\n",
       "    <tr>\n",
       "      <th>4</th>\n",
       "      <td>4840</td>\n",
       "      <td>3</td>\n",
       "      <td>5</td>\n",
       "      <td>2</td>\n",
       "      <td>1</td>\n",
       "      <td>-644.0</td>\n",
       "      <td>644</td>\n",
       "      <td>2</td>\n",
       "    </tr>\n",
       "  </tbody>\n",
       "</table>\n",
       "</div>"
      ],
      "text/plain": [
       "   AccountId  ProviderId  ProductId  ProductCategory  ChannelId   Amount  \\\n",
       "0       3956           5          9                0          2   1000.0   \n",
       "1       4840           3          5                2          1    -20.0   \n",
       "2       4228           5          0                0          2    500.0   \n",
       "3        647           0         20                9          2  20000.0   \n",
       "4       4840           3          5                2          1   -644.0   \n",
       "\n",
       "   Value  PricingStrategy  \n",
       "0   1000                2  \n",
       "1     20                2  \n",
       "2    500                2  \n",
       "3  21800                2  \n",
       "4    644                2  "
      ]
     },
     "execution_count": 12,
     "metadata": {},
     "output_type": "execute_result"
    }
   ],
   "source": [
    "df_union.head()"
   ]
  },
  {
   "cell_type": "code",
   "execution_count": 13,
   "metadata": {},
   "outputs": [],
   "source": [
    "from sklearn.metrics import confusion_matrix\n",
    "from sklearn.metrics import precision_score\n",
    "from sklearn.metrics import recall_score\n",
    "from sklearn.metrics import f1_score"
   ]
  },
  {
   "cell_type": "code",
   "execution_count": 24,
   "metadata": {},
   "outputs": [],
   "source": [
    "def running_EE(X, y_eta_trn):\n",
    "    print(' '*27, 'Confusion-Matrix')\n",
    "    print('Algorithm', ' '*20, 'TN       FP')\n",
    "    print(' '*7, 'Frd_tst  Frd_trn       FN       TP     Precision  Recall     F1-score')\n",
    "    print('='*100)\n",
    "\n",
    "    y_pred = algorithm.fit(X).predict(X)\n",
    "            \n",
    "    y_pred = [ 1 if x == -1 else 0 for x in y_pred ]\n",
    "    y_pred_trn = y_pred[ : len(y_trn)]\n",
    "    y_pred_tst = y_pred[len(y_trn) : ]\n",
    "        \n",
    "    n_frauds_trn      = Counter(y_pred_trn)[1]\n",
    "    n_frauds_tst      = Counter(y_pred_tst)[1]\n",
    "    tn, fp, fn, tp    = confusion_matrix(y_eta_trn, y_pred_trn).ravel()\n",
    "    precision         = precision_score(y_eta_trn, y_pred_trn)\n",
    "    recall            = recall_score(y_eta_trn, y_pred_trn)\n",
    "    f1                = f1_score(y_eta_trn, y_pred_trn)\n",
    "        \n",
    "    print('%s %8i %8i' % (' '*24, tn, fp))\n",
    "    print('%s %8i %8i %8i %8i %10.4f %10.4f %10.4f' % \n",
    "          ('EE    ', n_frauds_tst, n_frauds_trn, fn, tp, precision, recall, f1))\n",
    "        \n",
    "    print('-'*100)\n",
    "    return"
   ]
  },
  {
   "cell_type": "code",
   "execution_count": 16,
   "metadata": {},
   "outputs": [],
   "source": [
    "from sklearn.covariance import EllipticEnvelope"
   ]
  },
  {
   "cell_type": "code",
   "execution_count": 17,
   "metadata": {},
   "outputs": [],
   "source": [
    "algorithm = EllipticEnvelope(contamination=outliers_fraction*1.15)"
   ]
  },
  {
   "cell_type": "markdown",
   "metadata": {},
   "source": [
    "### Only `Amount`"
   ]
  },
  {
   "cell_type": "code",
   "execution_count": 18,
   "metadata": {},
   "outputs": [],
   "source": [
    "columns4drop = [\n",
    "    'AccountId',\n",
    "    'ProviderId',\n",
    "    'ProductId',\n",
    "    'ProductCategory',\n",
    "    'ChannelId',\n",
    "    'Value',\n",
    "    'PricingStrategy',\n",
    "]"
   ]
  },
  {
   "cell_type": "code",
   "execution_count": 19,
   "metadata": {},
   "outputs": [],
   "source": [
    "df = df_union.drop(columns=columns4drop, axis=1)"
   ]
  },
  {
   "cell_type": "code",
   "execution_count": 20,
   "metadata": {},
   "outputs": [
    {
     "data": {
      "text/html": [
       "<div>\n",
       "<style scoped>\n",
       "    .dataframe tbody tr th:only-of-type {\n",
       "        vertical-align: middle;\n",
       "    }\n",
       "\n",
       "    .dataframe tbody tr th {\n",
       "        vertical-align: top;\n",
       "    }\n",
       "\n",
       "    .dataframe thead th {\n",
       "        text-align: right;\n",
       "    }\n",
       "</style>\n",
       "<table border=\"1\" class=\"dataframe\">\n",
       "  <thead>\n",
       "    <tr style=\"text-align: right;\">\n",
       "      <th></th>\n",
       "      <th>Amount</th>\n",
       "    </tr>\n",
       "  </thead>\n",
       "  <tbody>\n",
       "    <tr>\n",
       "      <th>0</th>\n",
       "      <td>1000.0</td>\n",
       "    </tr>\n",
       "    <tr>\n",
       "      <th>1</th>\n",
       "      <td>-20.0</td>\n",
       "    </tr>\n",
       "    <tr>\n",
       "      <th>2</th>\n",
       "      <td>500.0</td>\n",
       "    </tr>\n",
       "    <tr>\n",
       "      <th>3</th>\n",
       "      <td>20000.0</td>\n",
       "    </tr>\n",
       "    <tr>\n",
       "      <th>4</th>\n",
       "      <td>-644.0</td>\n",
       "    </tr>\n",
       "  </tbody>\n",
       "</table>\n",
       "</div>"
      ],
      "text/plain": [
       "    Amount\n",
       "0   1000.0\n",
       "1    -20.0\n",
       "2    500.0\n",
       "3  20000.0\n",
       "4   -644.0"
      ]
     },
     "execution_count": 20,
     "metadata": {},
     "output_type": "execute_result"
    }
   ],
   "source": [
    "df.head()"
   ]
  },
  {
   "cell_type": "code",
   "execution_count": 25,
   "metadata": {},
   "outputs": [
    {
     "name": "stdout",
     "output_type": "stream",
     "text": [
      "                            Confusion-Matrix\n",
      "Algorithm                      TN       FP\n",
      "        Frd_tst  Frd_trn       FN       TP     Precision  Recall     F1-score\n",
      "====================================================================================================\n",
      "                            95408       61\n",
      "EE           94      233       21      172     0.7382     0.8912     0.8075\n",
      "----------------------------------------------------------------------------------------------------\n"
     ]
    }
   ],
   "source": [
    "running_EE(df, y_trn)"
   ]
  },
  {
   "cell_type": "code",
   "execution_count": null,
   "metadata": {},
   "outputs": [],
   "source": [
    "# support_fraction=1.,contamination=0.261"
   ]
  },
  {
   "cell_type": "markdown",
   "metadata": {},
   "source": [
    "**Grid Search CV**"
   ]
  },
  {
   "cell_type": "code",
   "execution_count": 29,
   "metadata": {},
   "outputs": [],
   "source": [
    "X1 = df[ : df_trn.shape[0]]\n",
    "y1 = y_trn.astype(np.int8)\n",
    "y1[y_trn==1] = -1\n",
    "y1[y_trn==0] = 1"
   ]
  },
  {
   "cell_type": "code",
   "execution_count": 26,
   "metadata": {},
   "outputs": [],
   "source": [
    "from sklearn.model_selection import StratifiedKFold"
   ]
  },
  {
   "cell_type": "code",
   "execution_count": 30,
   "metadata": {},
   "outputs": [],
   "source": [
    "skf = StratifiedKFold(n_splits=3)\n",
    "folds = list(skf.split(X1, y1))"
   ]
  },
  {
   "cell_type": "code",
   "execution_count": 31,
   "metadata": {},
   "outputs": [],
   "source": [
    "from sklearn.model_selection import GridSearchCV\n",
    "from sklearn.metrics import f1_score, make_scorer"
   ]
  },
  {
   "cell_type": "code",
   "execution_count": 72,
   "metadata": {},
   "outputs": [],
   "source": [
    "ee = EllipticEnvelope()\n",
    "params = {\n",
    "    'support_fraction': np.linspace(0.50, 0.99, num=50),\n",
    "    'contamination'   : np.linspace(0.0015, 0.0025, num=101)\n",
    "}\n",
    "f1score = make_scorer(f1_score)\n",
    "grdsrch = GridSearchCV(estimator=ee, param_grid=params, scoring=f1score, cv=folds, n_jobs=-1)\n",
    "grdsrch.fit(X1, y1);"
   ]
  },
  {
   "cell_type": "code",
   "execution_count": 73,
   "metadata": {},
   "outputs": [
    {
     "data": {
      "text/html": [
       "<div>\n",
       "<style scoped>\n",
       "    .dataframe tbody tr th:only-of-type {\n",
       "        vertical-align: middle;\n",
       "    }\n",
       "\n",
       "    .dataframe tbody tr th {\n",
       "        vertical-align: top;\n",
       "    }\n",
       "\n",
       "    .dataframe thead th {\n",
       "        text-align: right;\n",
       "    }\n",
       "</style>\n",
       "<table border=\"1\" class=\"dataframe\">\n",
       "  <thead>\n",
       "    <tr style=\"text-align: right;\">\n",
       "      <th></th>\n",
       "      <th>mean_test_score</th>\n",
       "      <th>params</th>\n",
       "    </tr>\n",
       "  </thead>\n",
       "  <tbody>\n",
       "    <tr>\n",
       "      <th>3773</th>\n",
       "      <td>0.999581</td>\n",
       "      <td>{'contamination': 0.0022500000000000003, 'supp...</td>\n",
       "    </tr>\n",
       "    <tr>\n",
       "      <th>3732</th>\n",
       "      <td>0.999581</td>\n",
       "      <td>{'contamination': 0.0022400000000000002, 'supp...</td>\n",
       "    </tr>\n",
       "    <tr>\n",
       "      <th>3682</th>\n",
       "      <td>0.999581</td>\n",
       "      <td>{'contamination': 0.00223, 'support_fraction':...</td>\n",
       "    </tr>\n",
       "    <tr>\n",
       "      <th>3683</th>\n",
       "      <td>0.999581</td>\n",
       "      <td>{'contamination': 0.00223, 'support_fraction':...</td>\n",
       "    </tr>\n",
       "    <tr>\n",
       "      <th>3583</th>\n",
       "      <td>0.999581</td>\n",
       "      <td>{'contamination': 0.00221, 'support_fraction':...</td>\n",
       "    </tr>\n",
       "  </tbody>\n",
       "</table>\n",
       "</div>"
      ],
      "text/plain": [
       "      mean_test_score                                             params\n",
       "3773         0.999581  {'contamination': 0.0022500000000000003, 'supp...\n",
       "3732         0.999581  {'contamination': 0.0022400000000000002, 'supp...\n",
       "3682         0.999581  {'contamination': 0.00223, 'support_fraction':...\n",
       "3683         0.999581  {'contamination': 0.00223, 'support_fraction':...\n",
       "3583         0.999581  {'contamination': 0.00221, 'support_fraction':..."
      ]
     },
     "execution_count": 73,
     "metadata": {},
     "output_type": "execute_result"
    }
   ],
   "source": [
    "df_res = pd.DataFrame(grdsrch.cv_results_)\n",
    "df_res[['mean_test_score', 'params']].sort_values(by=['mean_test_score'], ascending=False).head()"
   ]
  },
  {
   "cell_type": "code",
   "execution_count": 74,
   "metadata": {},
   "outputs": [
    {
     "data": {
      "text/plain": [
       "EllipticEnvelope(assume_centered=False, contamination=0.0022, random_state=None,\n",
       "                 store_precision=True, support_fraction=0.61)"
      ]
     },
     "execution_count": 74,
     "metadata": {},
     "output_type": "execute_result"
    }
   ],
   "source": [
    "grdsrch.best_estimator_"
   ]
  },
  {
   "cell_type": "markdown",
   "metadata": {},
   "source": [
    "**Make predictions with our optimized envelope fit**"
   ]
  },
  {
   "cell_type": "code",
   "execution_count": 75,
   "metadata": {},
   "outputs": [
    {
     "data": {
      "text/plain": [
       "Counter({0: 44925, 1: 94})"
      ]
     },
     "execution_count": 75,
     "metadata": {},
     "output_type": "execute_result"
    }
   ],
   "source": [
    "ee_opt = grdsrch.best_estimator_\n",
    "X_tst = df[df_trn.shape[0] : ]\n",
    "y_pred = ee_opt.predict(X_tst)\n",
    "y_pred = [ 1 if x == -1 else 0 for x in y_pred ]\n",
    "Counter(y_pred)"
   ]
  },
  {
   "cell_type": "markdown",
   "metadata": {},
   "source": [
    "**Submission**"
   ]
  },
  {
   "cell_type": "code",
   "execution_count": 76,
   "metadata": {},
   "outputs": [],
   "source": [
    "df_sbm = pd.read_csv('../data/sample_submission.csv')\n",
    "df_sbm['FraudResult'] = y_pred\n",
    "df_sbm.to_csv('../submitted/AlBo0719_EE_Amount.csv', encoding='utf-8', index=False)"
   ]
  },
  {
   "cell_type": "markdown",
   "metadata": {},
   "source": [
    "**Result:** `0.684931506849315`"
   ]
  },
  {
   "cell_type": "markdown",
   "metadata": {},
   "source": [
    "## Scaling"
   ]
  },
  {
   "cell_type": "code",
   "execution_count": 78,
   "metadata": {},
   "outputs": [],
   "source": [
    "from sklearn.preprocessing import MinMaxScaler\n",
    "from sklearn.preprocessing import minmax_scale\n",
    "from sklearn.preprocessing import MaxAbsScaler\n",
    "from sklearn.preprocessing import StandardScaler\n",
    "from sklearn.preprocessing import RobustScaler\n",
    "from sklearn.preprocessing import Normalizer\n",
    "from sklearn.preprocessing import QuantileTransformer\n",
    "from sklearn.preprocessing import PowerTransformer"
   ]
  },
  {
   "cell_type": "code",
   "execution_count": 79,
   "metadata": {},
   "outputs": [],
   "source": [
    "def scaleColumns(data, cols_to_scale, scaler):\n",
    "    for col in cols_to_scale:\n",
    "        data[col] = pd.DataFrame(scaler.fit_transform(pd.DataFrame(data[col])))\n",
    "    return data"
   ]
  },
  {
   "cell_type": "markdown",
   "metadata": {},
   "source": [
    "### Standard Scaler"
   ]
  },
  {
   "cell_type": "code",
   "execution_count": 82,
   "metadata": {},
   "outputs": [],
   "source": [
    "df_ss = scaleColumns(df, ['Amount'], StandardScaler())"
   ]
  },
  {
   "cell_type": "code",
   "execution_count": 83,
   "metadata": {},
   "outputs": [
    {
     "data": {
      "text/html": [
       "<div>\n",
       "<style scoped>\n",
       "    .dataframe tbody tr th:only-of-type {\n",
       "        vertical-align: middle;\n",
       "    }\n",
       "\n",
       "    .dataframe tbody tr th {\n",
       "        vertical-align: top;\n",
       "    }\n",
       "\n",
       "    .dataframe thead th {\n",
       "        text-align: right;\n",
       "    }\n",
       "</style>\n",
       "<table border=\"1\" class=\"dataframe\">\n",
       "  <thead>\n",
       "    <tr style=\"text-align: right;\">\n",
       "      <th></th>\n",
       "      <th>Amount</th>\n",
       "    </tr>\n",
       "  </thead>\n",
       "  <tbody>\n",
       "    <tr>\n",
       "      <th>0</th>\n",
       "      <td>-0.043799</td>\n",
       "    </tr>\n",
       "    <tr>\n",
       "      <th>1</th>\n",
       "      <td>-0.052644</td>\n",
       "    </tr>\n",
       "    <tr>\n",
       "      <th>2</th>\n",
       "      <td>-0.048135</td>\n",
       "    </tr>\n",
       "    <tr>\n",
       "      <th>3</th>\n",
       "      <td>0.120970</td>\n",
       "    </tr>\n",
       "    <tr>\n",
       "      <th>4</th>\n",
       "      <td>-0.058056</td>\n",
       "    </tr>\n",
       "  </tbody>\n",
       "</table>\n",
       "</div>"
      ],
      "text/plain": [
       "     Amount\n",
       "0 -0.043799\n",
       "1 -0.052644\n",
       "2 -0.048135\n",
       "3  0.120970\n",
       "4 -0.058056"
      ]
     },
     "execution_count": 83,
     "metadata": {},
     "output_type": "execute_result"
    }
   ],
   "source": [
    "df_ss.head()"
   ]
  },
  {
   "cell_type": "markdown",
   "metadata": {},
   "source": [
    "**Grid Search CV**"
   ]
  },
  {
   "cell_type": "code",
   "execution_count": 84,
   "metadata": {},
   "outputs": [],
   "source": [
    "X1 = df_ss[ : df_trn.shape[0]]\n",
    "y1 = y_trn.astype(np.int8)\n",
    "y1[y_trn==1] = -1\n",
    "y1[y_trn==0] = 1"
   ]
  },
  {
   "cell_type": "code",
   "execution_count": 85,
   "metadata": {},
   "outputs": [],
   "source": [
    "skf = StratifiedKFold(n_splits=3)\n",
    "folds = list(skf.split(X1, y1))"
   ]
  },
  {
   "cell_type": "code",
   "execution_count": 86,
   "metadata": {},
   "outputs": [],
   "source": [
    "ee = EllipticEnvelope()\n",
    "params = {\n",
    "    'support_fraction': np.linspace(0.50, 0.99, num=50),\n",
    "    'contamination'   : np.linspace(0.0015, 0.0025, num=101)\n",
    "}\n",
    "f1score = make_scorer(f1_score)\n",
    "grdsrch = GridSearchCV(estimator=ee, param_grid=params, scoring=f1score, cv=folds, n_jobs=-1)\n",
    "grdsrch.fit(X1, y1);"
   ]
  },
  {
   "cell_type": "code",
   "execution_count": 87,
   "metadata": {},
   "outputs": [
    {
     "data": {
      "text/html": [
       "<div>\n",
       "<style scoped>\n",
       "    .dataframe tbody tr th:only-of-type {\n",
       "        vertical-align: middle;\n",
       "    }\n",
       "\n",
       "    .dataframe tbody tr th {\n",
       "        vertical-align: top;\n",
       "    }\n",
       "\n",
       "    .dataframe thead th {\n",
       "        text-align: right;\n",
       "    }\n",
       "</style>\n",
       "<table border=\"1\" class=\"dataframe\">\n",
       "  <thead>\n",
       "    <tr style=\"text-align: right;\">\n",
       "      <th></th>\n",
       "      <th>mean_test_score</th>\n",
       "      <th>params</th>\n",
       "    </tr>\n",
       "  </thead>\n",
       "  <tbody>\n",
       "    <tr>\n",
       "      <th>3780</th>\n",
       "      <td>0.999581</td>\n",
       "      <td>{'contamination': 0.0022500000000000003, 'supp...</td>\n",
       "    </tr>\n",
       "    <tr>\n",
       "      <th>3768</th>\n",
       "      <td>0.999581</td>\n",
       "      <td>{'contamination': 0.0022500000000000003, 'supp...</td>\n",
       "    </tr>\n",
       "    <tr>\n",
       "      <th>3608</th>\n",
       "      <td>0.999581</td>\n",
       "      <td>{'contamination': 0.00222, 'support_fraction':...</td>\n",
       "    </tr>\n",
       "    <tr>\n",
       "      <th>3783</th>\n",
       "      <td>0.999581</td>\n",
       "      <td>{'contamination': 0.0022500000000000003, 'supp...</td>\n",
       "    </tr>\n",
       "    <tr>\n",
       "      <th>3782</th>\n",
       "      <td>0.999581</td>\n",
       "      <td>{'contamination': 0.0022500000000000003, 'supp...</td>\n",
       "    </tr>\n",
       "  </tbody>\n",
       "</table>\n",
       "</div>"
      ],
      "text/plain": [
       "      mean_test_score                                             params\n",
       "3780         0.999581  {'contamination': 0.0022500000000000003, 'supp...\n",
       "3768         0.999581  {'contamination': 0.0022500000000000003, 'supp...\n",
       "3608         0.999581  {'contamination': 0.00222, 'support_fraction':...\n",
       "3783         0.999581  {'contamination': 0.0022500000000000003, 'supp...\n",
       "3782         0.999581  {'contamination': 0.0022500000000000003, 'supp..."
      ]
     },
     "execution_count": 87,
     "metadata": {},
     "output_type": "execute_result"
    }
   ],
   "source": [
    "df_res = pd.DataFrame(grdsrch.cv_results_)\n",
    "df_res[['mean_test_score', 'params']].sort_values(by=['mean_test_score'], ascending=False).head()"
   ]
  },
  {
   "cell_type": "code",
   "execution_count": 88,
   "metadata": {},
   "outputs": [
    {
     "data": {
      "text/plain": [
       "EllipticEnvelope(assume_centered=False, contamination=0.00222,\n",
       "                 random_state=None, store_precision=True,\n",
       "                 support_fraction=0.58)"
      ]
     },
     "execution_count": 88,
     "metadata": {},
     "output_type": "execute_result"
    }
   ],
   "source": [
    "grdsrch.best_estimator_"
   ]
  },
  {
   "cell_type": "markdown",
   "metadata": {},
   "source": [
    "**Make predictions with our optimized envelope fit**"
   ]
  },
  {
   "cell_type": "code",
   "execution_count": 89,
   "metadata": {},
   "outputs": [
    {
     "data": {
      "text/plain": [
       "Counter({0: 44950, 1: 69})"
      ]
     },
     "execution_count": 89,
     "metadata": {},
     "output_type": "execute_result"
    }
   ],
   "source": [
    "ee_opt = grdsrch.best_estimator_\n",
    "X_tst = df[df_trn.shape[0] : ]\n",
    "y_pred = ee_opt.predict(X_tst)\n",
    "y_pred = [ 1 if x == -1 else 0 for x in y_pred ]\n",
    "Counter(y_pred)"
   ]
  },
  {
   "cell_type": "markdown",
   "metadata": {},
   "source": [
    "# Field `Value`"
   ]
  },
  {
   "cell_type": "code",
   "execution_count": 100,
   "metadata": {},
   "outputs": [],
   "source": [
    "columns4drop = [\n",
    "    'AccountId',\n",
    "    'ProviderId',\n",
    "    'ProductId',\n",
    "    'ProductCategory',\n",
    "    'ChannelId',\n",
    "    'Amount',\n",
    "    'PricingStrategy',\n",
    "]"
   ]
  },
  {
   "cell_type": "markdown",
   "metadata": {},
   "source": [
    "**Ищем наилучший Scaler**"
   ]
  },
  {
   "cell_type": "code",
   "execution_count": 178,
   "metadata": {},
   "outputs": [],
   "source": [
    "X = df_union.drop(columns=columns4drop, axis=1)"
   ]
  },
  {
   "cell_type": "code",
   "execution_count": 179,
   "metadata": {},
   "outputs": [],
   "source": [
    "distributions = [\n",
    "    ('Unscaled data                         ', X),\n",
    "    ('Standard scaling                      ', StandardScaler().fit_transform(X)),\n",
    "    ('Min-max scaling                       ', MinMaxScaler().fit_transform(X)),\n",
    "    ('Max-abs scaling                       ', MaxAbsScaler().fit_transform(X)),\n",
    "    ('Robust scaling                        ', RobustScaler(quantile_range=(25, 75)).fit_transform(X)),\n",
    "    ('Power transformation (Yeo-Johnson)    ', PowerTransformer(method='yeo-johnson').fit_transform(X)),\n",
    "    ('Power transformation (Box-Cox)        ', PowerTransformer(method='box-cox').fit_transform(X)),\n",
    "    ('Quantile transformation (gaussian pdf)', QuantileTransformer(output_distribution='normal').fit_transform(X)),\n",
    "    ('Quantile transformation (uniform pdf) ', QuantileTransformer(output_distribution='uniform').fit_transform(X)),\n",
    "#     ('Sample-wise L2 normalizing            ', Normalizer().fit_transform(X)),\n",
    "]"
   ]
  },
  {
   "cell_type": "code",
   "execution_count": 180,
   "metadata": {},
   "outputs": [],
   "source": [
    "def running_EE_scaler(name, X, y_eta_trn):\n",
    "    algorithm = EllipticEnvelope(contamination=0.0022, support_fraction=1.0)\n",
    "    y_pred = algorithm.fit(X).predict(X)\n",
    "            \n",
    "    y_pred = [ 1 if x == -1 else 0 for x in y_pred ]\n",
    "    y_pred_trn = y_pred[ : len(y_trn)]\n",
    "    y_pred_tst = y_pred[len(y_trn) : ]\n",
    "        \n",
    "    n_frauds_trn      = Counter(y_pred_trn)[1]\n",
    "    n_frauds_tst      = Counter(y_pred_tst)[1]\n",
    "    tn, fp, fn, tp    = confusion_matrix(y_eta_trn, y_pred_trn).ravel()\n",
    "    precision         = precision_score(y_eta_trn, y_pred_trn)\n",
    "    recall            = recall_score(y_eta_trn, y_pred_trn)\n",
    "    f1                = f1_score(y_eta_trn, y_pred_trn)\n",
    "        \n",
    "    print('%s %8i %8i' % (' '*56, tn, fp))\n",
    "    print('%s %8i %8i %8i %8i %10.4f %10.4f %10.4f' % \n",
    "          (name, n_frauds_tst, n_frauds_trn, fn, tp, precision, recall, f1))\n",
    "    \n",
    "    return"
   ]
  },
  {
   "cell_type": "code",
   "execution_count": 181,
   "metadata": {},
   "outputs": [
    {
     "name": "stdout",
     "output_type": "stream",
     "text": [
      "                                                           Confusion-Matrix\n",
      "Scaler                                                         TN       FP\n",
      "                                        Frd_tst  Frd_trn       FN       TP     Precision  Recall     F1-score\n",
      "==============================================================================================================\n",
      "                                                            95411       58\n",
      "Unscaled data                                55      181       70      123     0.6796     0.6373     0.6578\n",
      "                                                            95411       58\n",
      "Standard scaling                             55      181       70      123     0.6796     0.6373     0.6578\n",
      "                                                            95411       58\n",
      "Min-max scaling                              55      181       70      123     0.6796     0.6373     0.6578\n",
      "                                                            95410       59\n",
      "Max-abs scaling                              94      231       21      172     0.7446     0.8912     0.8113\n",
      "                                                            95411       58\n",
      "Robust scaling                               55      181       70      123     0.6796     0.6373     0.6578\n",
      "                                                            95411       58\n",
      "Power transformation (Yeo-Johnson)           55      181       70      123     0.6796     0.6373     0.6578\n",
      "                                                            95411       58\n",
      "Power transformation (Box-Cox)               55      181       70      123     0.6796     0.6373     0.6578\n",
      "                                                            95314      155\n",
      "Quantile transformation (gaussian pdf)       63      244      104       89     0.3648     0.4611     0.4073\n",
      "                                                            95314      155\n",
      "Quantile transformation (uniform pdf)        63      244      104       89     0.3648     0.4611     0.4073\n",
      "--------------------------------------------------------------------------------------------------------------\n"
     ]
    }
   ],
   "source": [
    "print(' '*58, 'Confusion-Matrix')\n",
    "print('Scaler', ' '*55, 'TN       FP')\n",
    "print(' '*39, 'Frd_tst  Frd_trn       FN       TP     Precision  Recall     F1-score')\n",
    "print('='*110)\n",
    "\n",
    "for item_idx in range(len(distributions)):\n",
    "    X = df_union.drop(columns=columns4drop, axis=1)\n",
    "    title, X = distributions[item_idx]\n",
    "    running_EE_scaler(title, X, y_trn)\n",
    "\n",
    "print('-'*110)"
   ]
  },
  {
   "cell_type": "markdown",
   "metadata": {},
   "source": [
    "- **Max-abs Scaling**\n",
    "- **Grid Search CV**"
   ]
  },
  {
   "cell_type": "code",
   "execution_count": null,
   "metadata": {},
   "outputs": [],
   "source": []
  }
 ],
 "metadata": {
  "kernelspec": {
   "display_name": "Python 3",
   "language": "python",
   "name": "python3"
  },
  "language_info": {
   "codemirror_mode": {
    "name": "ipython",
    "version": 3
   },
   "file_extension": ".py",
   "mimetype": "text/x-python",
   "name": "python",
   "nbconvert_exporter": "python",
   "pygments_lexer": "ipython3",
   "version": "3.7.1"
  }
 },
 "nbformat": 4,
 "nbformat_minor": 2
}
