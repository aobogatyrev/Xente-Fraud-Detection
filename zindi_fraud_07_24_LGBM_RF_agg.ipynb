{
 "cells": [
  {
   "cell_type": "markdown",
   "metadata": {},
   "source": [
    "# LightGMB and RF"
   ]
  },
  {
   "cell_type": "markdown",
   "metadata": {},
   "source": [
    "Top10 aggregative feutures"
   ]
  },
  {
   "cell_type": "code",
   "execution_count": 1,
   "metadata": {},
   "outputs": [],
   "source": [
    "import numpy  as np\n",
    "import pandas as pd\n",
    "\n",
    "import lightgbm\n",
    "\n",
    "from collections import Counter\n",
    "from sklearn.metrics import f1_score\n",
    "from sklearn.model_selection import train_test_split"
   ]
  },
  {
   "cell_type": "code",
   "execution_count": 2,
   "metadata": {},
   "outputs": [],
   "source": [
    "df_trn = pd.read_csv('../data/train-agg.csv')\n",
    "df_tst = pd.read_csv('../data/test-agg.csv')\n",
    "df_sbm = pd.read_csv('../data/sample_submission.csv')"
   ]
  },
  {
   "cell_type": "code",
   "execution_count": 3,
   "metadata": {},
   "outputs": [
    {
     "data": {
      "text/html": [
       "<div>\n",
       "<style scoped>\n",
       "    .dataframe tbody tr th:only-of-type {\n",
       "        vertical-align: middle;\n",
       "    }\n",
       "\n",
       "    .dataframe tbody tr th {\n",
       "        vertical-align: top;\n",
       "    }\n",
       "\n",
       "    .dataframe thead th {\n",
       "        text-align: right;\n",
       "    }\n",
       "</style>\n",
       "<table border=\"1\" class=\"dataframe\">\n",
       "  <thead>\n",
       "    <tr style=\"text-align: right;\">\n",
       "      <th></th>\n",
       "      <th>TransactionId</th>\n",
       "      <th>BatchId</th>\n",
       "      <th>AccountId</th>\n",
       "      <th>SubscriptionId</th>\n",
       "      <th>CustomerId</th>\n",
       "      <th>CurrencyCode</th>\n",
       "      <th>CountryCode</th>\n",
       "      <th>ProviderId</th>\n",
       "      <th>ProductId</th>\n",
       "      <th>ProductCategory</th>\n",
       "      <th>...</th>\n",
       "      <th>pricing_strategy_transactions__AmountPositive_month_sum</th>\n",
       "      <th>pricing_strategy_transactions__AmountPositive_month_count</th>\n",
       "      <th>pricing_strategy_transactions__AmountPositive_month_min</th>\n",
       "      <th>pricing_strategy_transactions__AmountPositive_month_max</th>\n",
       "      <th>pricing_strategy_transactions__AmountPositive_month_avg</th>\n",
       "      <th>pricing_strategy_transactions__AmountPositive_global_sum</th>\n",
       "      <th>pricing_strategy_transactions__AmountPositive_global_count</th>\n",
       "      <th>pricing_strategy_transactions__AmountPositive_global_min</th>\n",
       "      <th>pricing_strategy_transactions__AmountPositive_global_max</th>\n",
       "      <th>pricing_strategy_transactions__AmountPositive_global_avg</th>\n",
       "    </tr>\n",
       "  </thead>\n",
       "  <tbody>\n",
       "    <tr>\n",
       "      <th>0</th>\n",
       "      <td>TransactionId_76871</td>\n",
       "      <td>BatchId_36123</td>\n",
       "      <td>AccountId_3957</td>\n",
       "      <td>SubscriptionId_887</td>\n",
       "      <td>CustomerId_4406</td>\n",
       "      <td>UGX</td>\n",
       "      <td>256</td>\n",
       "      <td>ProviderId_6</td>\n",
       "      <td>ProductId_10</td>\n",
       "      <td>airtime</td>\n",
       "      <td>...</td>\n",
       "      <td>0.0</td>\n",
       "      <td>0</td>\n",
       "      <td>1.000000e+09</td>\n",
       "      <td>-1.000000e+09</td>\n",
       "      <td>0.0</td>\n",
       "      <td>0.0</td>\n",
       "      <td>0</td>\n",
       "      <td>1.000000e+09</td>\n",
       "      <td>-1.000000e+09</td>\n",
       "      <td>0.0</td>\n",
       "    </tr>\n",
       "    <tr>\n",
       "      <th>1</th>\n",
       "      <td>TransactionId_73770</td>\n",
       "      <td>BatchId_15642</td>\n",
       "      <td>AccountId_4841</td>\n",
       "      <td>SubscriptionId_3829</td>\n",
       "      <td>CustomerId_4406</td>\n",
       "      <td>UGX</td>\n",
       "      <td>256</td>\n",
       "      <td>ProviderId_4</td>\n",
       "      <td>ProductId_6</td>\n",
       "      <td>financial_services</td>\n",
       "      <td>...</td>\n",
       "      <td>0.0</td>\n",
       "      <td>0</td>\n",
       "      <td>1.000000e+09</td>\n",
       "      <td>-1.000000e+09</td>\n",
       "      <td>0.0</td>\n",
       "      <td>1000.0</td>\n",
       "      <td>1</td>\n",
       "      <td>1.000000e+03</td>\n",
       "      <td>1.000000e+03</td>\n",
       "      <td>1000.0</td>\n",
       "    </tr>\n",
       "    <tr>\n",
       "      <th>2</th>\n",
       "      <td>TransactionId_26203</td>\n",
       "      <td>BatchId_53941</td>\n",
       "      <td>AccountId_4229</td>\n",
       "      <td>SubscriptionId_222</td>\n",
       "      <td>CustomerId_4683</td>\n",
       "      <td>UGX</td>\n",
       "      <td>256</td>\n",
       "      <td>ProviderId_6</td>\n",
       "      <td>ProductId_1</td>\n",
       "      <td>airtime</td>\n",
       "      <td>...</td>\n",
       "      <td>0.0</td>\n",
       "      <td>0</td>\n",
       "      <td>1.000000e+09</td>\n",
       "      <td>-1.000000e+09</td>\n",
       "      <td>0.0</td>\n",
       "      <td>1000.0</td>\n",
       "      <td>2</td>\n",
       "      <td>0.000000e+00</td>\n",
       "      <td>1.000000e+03</td>\n",
       "      <td>500.0</td>\n",
       "    </tr>\n",
       "    <tr>\n",
       "      <th>3</th>\n",
       "      <td>TransactionId_380</td>\n",
       "      <td>BatchId_102363</td>\n",
       "      <td>AccountId_648</td>\n",
       "      <td>SubscriptionId_2185</td>\n",
       "      <td>CustomerId_988</td>\n",
       "      <td>UGX</td>\n",
       "      <td>256</td>\n",
       "      <td>ProviderId_1</td>\n",
       "      <td>ProductId_21</td>\n",
       "      <td>utility_bill</td>\n",
       "      <td>...</td>\n",
       "      <td>0.0</td>\n",
       "      <td>0</td>\n",
       "      <td>1.000000e+09</td>\n",
       "      <td>-1.000000e+09</td>\n",
       "      <td>0.0</td>\n",
       "      <td>1500.0</td>\n",
       "      <td>3</td>\n",
       "      <td>0.000000e+00</td>\n",
       "      <td>1.000000e+03</td>\n",
       "      <td>500.0</td>\n",
       "    </tr>\n",
       "    <tr>\n",
       "      <th>4</th>\n",
       "      <td>TransactionId_28195</td>\n",
       "      <td>BatchId_38780</td>\n",
       "      <td>AccountId_4841</td>\n",
       "      <td>SubscriptionId_3829</td>\n",
       "      <td>CustomerId_988</td>\n",
       "      <td>UGX</td>\n",
       "      <td>256</td>\n",
       "      <td>ProviderId_4</td>\n",
       "      <td>ProductId_6</td>\n",
       "      <td>financial_services</td>\n",
       "      <td>...</td>\n",
       "      <td>0.0</td>\n",
       "      <td>0</td>\n",
       "      <td>1.000000e+09</td>\n",
       "      <td>-1.000000e+09</td>\n",
       "      <td>0.0</td>\n",
       "      <td>21500.0</td>\n",
       "      <td>4</td>\n",
       "      <td>0.000000e+00</td>\n",
       "      <td>2.000000e+04</td>\n",
       "      <td>5375.0</td>\n",
       "    </tr>\n",
       "  </tbody>\n",
       "</table>\n",
       "<p>5 rows × 511 columns</p>\n",
       "</div>"
      ],
      "text/plain": [
       "         TransactionId         BatchId       AccountId       SubscriptionId  \\\n",
       "0  TransactionId_76871   BatchId_36123  AccountId_3957   SubscriptionId_887   \n",
       "1  TransactionId_73770   BatchId_15642  AccountId_4841  SubscriptionId_3829   \n",
       "2  TransactionId_26203   BatchId_53941  AccountId_4229   SubscriptionId_222   \n",
       "3    TransactionId_380  BatchId_102363   AccountId_648  SubscriptionId_2185   \n",
       "4  TransactionId_28195   BatchId_38780  AccountId_4841  SubscriptionId_3829   \n",
       "\n",
       "        CustomerId CurrencyCode  CountryCode    ProviderId     ProductId  \\\n",
       "0  CustomerId_4406          UGX          256  ProviderId_6  ProductId_10   \n",
       "1  CustomerId_4406          UGX          256  ProviderId_4   ProductId_6   \n",
       "2  CustomerId_4683          UGX          256  ProviderId_6   ProductId_1   \n",
       "3   CustomerId_988          UGX          256  ProviderId_1  ProductId_21   \n",
       "4   CustomerId_988          UGX          256  ProviderId_4   ProductId_6   \n",
       "\n",
       "      ProductCategory  \\\n",
       "0             airtime   \n",
       "1  financial_services   \n",
       "2             airtime   \n",
       "3        utility_bill   \n",
       "4  financial_services   \n",
       "\n",
       "                             ...                             \\\n",
       "0                            ...                              \n",
       "1                            ...                              \n",
       "2                            ...                              \n",
       "3                            ...                              \n",
       "4                            ...                              \n",
       "\n",
       "  pricing_strategy_transactions__AmountPositive_month_sum  \\\n",
       "0                                                0.0        \n",
       "1                                                0.0        \n",
       "2                                                0.0        \n",
       "3                                                0.0        \n",
       "4                                                0.0        \n",
       "\n",
       "   pricing_strategy_transactions__AmountPositive_month_count  \\\n",
       "0                                                  0           \n",
       "1                                                  0           \n",
       "2                                                  0           \n",
       "3                                                  0           \n",
       "4                                                  0           \n",
       "\n",
       "   pricing_strategy_transactions__AmountPositive_month_min  \\\n",
       "0                                       1.000000e+09         \n",
       "1                                       1.000000e+09         \n",
       "2                                       1.000000e+09         \n",
       "3                                       1.000000e+09         \n",
       "4                                       1.000000e+09         \n",
       "\n",
       "  pricing_strategy_transactions__AmountPositive_month_max  \\\n",
       "0                                      -1.000000e+09        \n",
       "1                                      -1.000000e+09        \n",
       "2                                      -1.000000e+09        \n",
       "3                                      -1.000000e+09        \n",
       "4                                      -1.000000e+09        \n",
       "\n",
       "   pricing_strategy_transactions__AmountPositive_month_avg  \\\n",
       "0                                                0.0         \n",
       "1                                                0.0         \n",
       "2                                                0.0         \n",
       "3                                                0.0         \n",
       "4                                                0.0         \n",
       "\n",
       "   pricing_strategy_transactions__AmountPositive_global_sum  \\\n",
       "0                                                0.0          \n",
       "1                                             1000.0          \n",
       "2                                             1000.0          \n",
       "3                                             1500.0          \n",
       "4                                            21500.0          \n",
       "\n",
       "   pricing_strategy_transactions__AmountPositive_global_count  \\\n",
       "0                                                  0            \n",
       "1                                                  1            \n",
       "2                                                  2            \n",
       "3                                                  3            \n",
       "4                                                  4            \n",
       "\n",
       "   pricing_strategy_transactions__AmountPositive_global_min  \\\n",
       "0                                       1.000000e+09          \n",
       "1                                       1.000000e+03          \n",
       "2                                       0.000000e+00          \n",
       "3                                       0.000000e+00          \n",
       "4                                       0.000000e+00          \n",
       "\n",
       "   pricing_strategy_transactions__AmountPositive_global_max  \\\n",
       "0                                      -1.000000e+09          \n",
       "1                                       1.000000e+03          \n",
       "2                                       1.000000e+03          \n",
       "3                                       1.000000e+03          \n",
       "4                                       2.000000e+04          \n",
       "\n",
       "   pricing_strategy_transactions__AmountPositive_global_avg  \n",
       "0                                                0.0         \n",
       "1                                             1000.0         \n",
       "2                                              500.0         \n",
       "3                                              500.0         \n",
       "4                                             5375.0         \n",
       "\n",
       "[5 rows x 511 columns]"
      ]
     },
     "execution_count": 3,
     "metadata": {},
     "output_type": "execute_result"
    }
   ],
   "source": [
    "df_trn.head()"
   ]
  },
  {
   "cell_type": "markdown",
   "metadata": {},
   "source": [
    "## Univariate Selection $\\chi^2$"
   ]
  },
  {
   "cell_type": "code",
   "execution_count": 48,
   "metadata": {},
   "outputs": [],
   "source": [
    "columns_top10_chi2 = [\n",
    "    'Value',\n",
    "    'account_product_transactions__AmountPositive_global_sum',\n",
    "    'account_provider_transactions__AmountPositive_global_avg',\n",
    "    'account_product_category_transactions__AmountPositive_global_sum',\n",
    "    'account_provider_transactions__Value_global_avg',\n",
    "    'account_provider_transactions__AmountPositive_global_sum',\n",
    "    'account_channel_transactions__AmountPositive_global_sum',\n",
    "    'account_product_transactions__AmountPositive_global_avg',\n",
    "    'account_transactions__AmountPositive_global_sum',\n",
    "    'account_pricing_strategy_transactions__AmountPositive_global_sum'\n",
    "]"
   ]
  },
  {
   "cell_type": "code",
   "execution_count": 49,
   "metadata": {},
   "outputs": [],
   "source": [
    "X_trn_chi2 = df_trn[columns_top10_chi2]\n",
    "X_tst_chi2 = df_tst[columns_top10_chi2]"
   ]
  },
  {
   "cell_type": "code",
   "execution_count": 50,
   "metadata": {},
   "outputs": [
    {
     "data": {
      "text/html": [
       "<div>\n",
       "<style scoped>\n",
       "    .dataframe tbody tr th:only-of-type {\n",
       "        vertical-align: middle;\n",
       "    }\n",
       "\n",
       "    .dataframe tbody tr th {\n",
       "        vertical-align: top;\n",
       "    }\n",
       "\n",
       "    .dataframe thead th {\n",
       "        text-align: right;\n",
       "    }\n",
       "</style>\n",
       "<table border=\"1\" class=\"dataframe\">\n",
       "  <thead>\n",
       "    <tr style=\"text-align: right;\">\n",
       "      <th></th>\n",
       "      <th>Value</th>\n",
       "      <th>account_product_transactions__AmountPositive_global_sum</th>\n",
       "      <th>account_provider_transactions__AmountPositive_global_avg</th>\n",
       "      <th>account_product_category_transactions__AmountPositive_global_sum</th>\n",
       "      <th>account_provider_transactions__Value_global_avg</th>\n",
       "      <th>account_provider_transactions__AmountPositive_global_sum</th>\n",
       "      <th>account_channel_transactions__AmountPositive_global_sum</th>\n",
       "      <th>account_product_transactions__AmountPositive_global_avg</th>\n",
       "      <th>account_transactions__AmountPositive_global_sum</th>\n",
       "      <th>account_pricing_strategy_transactions__AmountPositive_global_sum</th>\n",
       "    </tr>\n",
       "  </thead>\n",
       "  <tbody>\n",
       "    <tr>\n",
       "      <th>0</th>\n",
       "      <td>1000</td>\n",
       "      <td>0.0</td>\n",
       "      <td>0.0</td>\n",
       "      <td>0.0</td>\n",
       "      <td>0.0</td>\n",
       "      <td>0.0</td>\n",
       "      <td>0.0</td>\n",
       "      <td>0.0</td>\n",
       "      <td>0.0</td>\n",
       "      <td>0.0</td>\n",
       "    </tr>\n",
       "    <tr>\n",
       "      <th>1</th>\n",
       "      <td>20</td>\n",
       "      <td>0.0</td>\n",
       "      <td>0.0</td>\n",
       "      <td>0.0</td>\n",
       "      <td>0.0</td>\n",
       "      <td>0.0</td>\n",
       "      <td>0.0</td>\n",
       "      <td>0.0</td>\n",
       "      <td>0.0</td>\n",
       "      <td>0.0</td>\n",
       "    </tr>\n",
       "    <tr>\n",
       "      <th>2</th>\n",
       "      <td>500</td>\n",
       "      <td>0.0</td>\n",
       "      <td>0.0</td>\n",
       "      <td>0.0</td>\n",
       "      <td>0.0</td>\n",
       "      <td>0.0</td>\n",
       "      <td>0.0</td>\n",
       "      <td>0.0</td>\n",
       "      <td>0.0</td>\n",
       "      <td>0.0</td>\n",
       "    </tr>\n",
       "    <tr>\n",
       "      <th>3</th>\n",
       "      <td>21800</td>\n",
       "      <td>0.0</td>\n",
       "      <td>0.0</td>\n",
       "      <td>0.0</td>\n",
       "      <td>0.0</td>\n",
       "      <td>0.0</td>\n",
       "      <td>0.0</td>\n",
       "      <td>0.0</td>\n",
       "      <td>0.0</td>\n",
       "      <td>0.0</td>\n",
       "    </tr>\n",
       "    <tr>\n",
       "      <th>4</th>\n",
       "      <td>644</td>\n",
       "      <td>0.0</td>\n",
       "      <td>0.0</td>\n",
       "      <td>0.0</td>\n",
       "      <td>20.0</td>\n",
       "      <td>0.0</td>\n",
       "      <td>0.0</td>\n",
       "      <td>0.0</td>\n",
       "      <td>0.0</td>\n",
       "      <td>0.0</td>\n",
       "    </tr>\n",
       "  </tbody>\n",
       "</table>\n",
       "</div>"
      ],
      "text/plain": [
       "   Value  account_product_transactions__AmountPositive_global_sum  \\\n",
       "0   1000                                                0.0         \n",
       "1     20                                                0.0         \n",
       "2    500                                                0.0         \n",
       "3  21800                                                0.0         \n",
       "4    644                                                0.0         \n",
       "\n",
       "   account_provider_transactions__AmountPositive_global_avg  \\\n",
       "0                                                0.0          \n",
       "1                                                0.0          \n",
       "2                                                0.0          \n",
       "3                                                0.0          \n",
       "4                                                0.0          \n",
       "\n",
       "   account_product_category_transactions__AmountPositive_global_sum  \\\n",
       "0                                                0.0                  \n",
       "1                                                0.0                  \n",
       "2                                                0.0                  \n",
       "3                                                0.0                  \n",
       "4                                                0.0                  \n",
       "\n",
       "   account_provider_transactions__Value_global_avg  \\\n",
       "0                                              0.0   \n",
       "1                                              0.0   \n",
       "2                                              0.0   \n",
       "3                                              0.0   \n",
       "4                                             20.0   \n",
       "\n",
       "   account_provider_transactions__AmountPositive_global_sum  \\\n",
       "0                                                0.0          \n",
       "1                                                0.0          \n",
       "2                                                0.0          \n",
       "3                                                0.0          \n",
       "4                                                0.0          \n",
       "\n",
       "   account_channel_transactions__AmountPositive_global_sum  \\\n",
       "0                                                0.0         \n",
       "1                                                0.0         \n",
       "2                                                0.0         \n",
       "3                                                0.0         \n",
       "4                                                0.0         \n",
       "\n",
       "   account_product_transactions__AmountPositive_global_avg  \\\n",
       "0                                                0.0         \n",
       "1                                                0.0         \n",
       "2                                                0.0         \n",
       "3                                                0.0         \n",
       "4                                                0.0         \n",
       "\n",
       "   account_transactions__AmountPositive_global_sum  \\\n",
       "0                                              0.0   \n",
       "1                                              0.0   \n",
       "2                                              0.0   \n",
       "3                                              0.0   \n",
       "4                                              0.0   \n",
       "\n",
       "   account_pricing_strategy_transactions__AmountPositive_global_sum  \n",
       "0                                                0.0                 \n",
       "1                                                0.0                 \n",
       "2                                                0.0                 \n",
       "3                                                0.0                 \n",
       "4                                                0.0                 "
      ]
     },
     "execution_count": 50,
     "metadata": {},
     "output_type": "execute_result"
    }
   ],
   "source": [
    "X_trn_chi2.head()"
   ]
  },
  {
   "cell_type": "code",
   "execution_count": 51,
   "metadata": {},
   "outputs": [],
   "source": [
    "# get the labels\n",
    "y_trn_chi2 = df_trn['FraudResult']"
   ]
  },
  {
   "cell_type": "code",
   "execution_count": 52,
   "metadata": {},
   "outputs": [],
   "source": [
    "x = X_trn_chi2.values\n",
    "y = y_trn_chi2.values"
   ]
  },
  {
   "cell_type": "code",
   "execution_count": 53,
   "metadata": {},
   "outputs": [],
   "source": [
    "# Create training and validation sets\n",
    "x, x_test, y, y_test = train_test_split(x, y, test_size=0.2, random_state=42, stratify=y)"
   ]
  },
  {
   "cell_type": "code",
   "execution_count": 54,
   "metadata": {},
   "outputs": [],
   "source": [
    "# train_data = lightgbm.Dataset(x, label=y, categorical_feature=[0, 1, 2, 3, 4, 7])\n",
    "train_data = lightgbm.Dataset(x, label=y)\n",
    "test_data  = lightgbm.Dataset(x_test, label=y_test)"
   ]
  },
  {
   "cell_type": "markdown",
   "metadata": {},
   "source": [
    "### Train the model"
   ]
  },
  {
   "cell_type": "code",
   "execution_count": 55,
   "metadata": {},
   "outputs": [],
   "source": [
    "parameters = {\n",
    "    'application' : 'binary',\n",
    "    'objective'   : 'binary',\n",
    "    'metric'      : 'auc',\n",
    "#     'is_unbalance': 'true',\n",
    "    'boosting'    : 'rf',\n",
    "    'num_leaves'  : 31,\n",
    "    'n_estimators': 1000,\n",
    "    'feature_fraction': 0.5,\n",
    "    'bagging_fraction': 0.5,\n",
    "    'bagging_freq'    : 20,\n",
    "#     'learning_rate': 0.05,\n",
    "#     'verbose': 0,\n",
    "    'n_jobs': -1\n",
    "}"
   ]
  },
  {
   "cell_type": "code",
   "execution_count": 56,
   "metadata": {},
   "outputs": [
    {
     "name": "stderr",
     "output_type": "stream",
     "text": [
      "/home/abogatyrov/anaconda3/lib/python3.7/site-packages/lightgbm/engine.py:118: UserWarning: Found `n_estimators` in params. Will use it instead of argument\n",
      "  warnings.warn(\"Found `{}` in params. Will use it instead of argument\".format(alias))\n"
     ]
    },
    {
     "name": "stdout",
     "output_type": "stream",
     "text": [
      "[1]\tvalid_0's auc: 0.986748\n",
      "Training until validation scores don't improve for 100 rounds.\n",
      "[2]\tvalid_0's auc: 0.999568\n",
      "[3]\tvalid_0's auc: 0.999601\n",
      "[4]\tvalid_0's auc: 0.999562\n",
      "[5]\tvalid_0's auc: 0.998371\n",
      "[6]\tvalid_0's auc: 0.99837\n",
      "[7]\tvalid_0's auc: 0.99836\n",
      "[8]\tvalid_0's auc: 0.998239\n",
      "[9]\tvalid_0's auc: 0.998244\n",
      "[10]\tvalid_0's auc: 0.997741\n",
      "[11]\tvalid_0's auc: 0.987498\n",
      "[12]\tvalid_0's auc: 0.987435\n",
      "[13]\tvalid_0's auc: 0.987412\n",
      "[14]\tvalid_0's auc: 0.98742\n",
      "[15]\tvalid_0's auc: 0.9873\n",
      "[16]\tvalid_0's auc: 0.987417\n",
      "[17]\tvalid_0's auc: 0.9873\n",
      "[18]\tvalid_0's auc: 0.987296\n",
      "[19]\tvalid_0's auc: 0.9873\n",
      "[20]\tvalid_0's auc: 0.9873\n",
      "[21]\tvalid_0's auc: 0.975151\n",
      "[22]\tvalid_0's auc: 0.97494\n",
      "[23]\tvalid_0's auc: 0.998269\n",
      "[24]\tvalid_0's auc: 0.998223\n",
      "[25]\tvalid_0's auc: 0.999295\n",
      "[26]\tvalid_0's auc: 0.999368\n",
      "[27]\tvalid_0's auc: 0.99935\n",
      "[28]\tvalid_0's auc: 0.999325\n",
      "[29]\tvalid_0's auc: 0.999303\n",
      "[30]\tvalid_0's auc: 0.999402\n",
      "[31]\tvalid_0's auc: 0.999496\n",
      "[32]\tvalid_0's auc: 0.999468\n",
      "[33]\tvalid_0's auc: 0.999515\n",
      "[34]\tvalid_0's auc: 0.999502\n",
      "[35]\tvalid_0's auc: 0.999487\n",
      "[36]\tvalid_0's auc: 0.999494\n",
      "[37]\tvalid_0's auc: 0.999513\n",
      "[38]\tvalid_0's auc: 0.999534\n",
      "[39]\tvalid_0's auc: 0.999539\n",
      "[40]\tvalid_0's auc: 0.999553\n",
      "[41]\tvalid_0's auc: 0.999549\n",
      "[42]\tvalid_0's auc: 0.999551\n",
      "[43]\tvalid_0's auc: 0.999565\n",
      "[44]\tvalid_0's auc: 0.999564\n",
      "[45]\tvalid_0's auc: 0.999568\n",
      "[46]\tvalid_0's auc: 0.99957\n",
      "[47]\tvalid_0's auc: 0.999569\n",
      "[48]\tvalid_0's auc: 0.999568\n",
      "[49]\tvalid_0's auc: 0.99957\n",
      "[50]\tvalid_0's auc: 0.999568\n",
      "[51]\tvalid_0's auc: 0.999569\n",
      "[52]\tvalid_0's auc: 0.999565\n",
      "[53]\tvalid_0's auc: 0.99956\n",
      "[54]\tvalid_0's auc: 0.999553\n",
      "[55]\tvalid_0's auc: 0.999557\n",
      "[56]\tvalid_0's auc: 0.99956\n",
      "[57]\tvalid_0's auc: 0.99956\n",
      "[58]\tvalid_0's auc: 0.99956\n",
      "[59]\tvalid_0's auc: 0.999562\n",
      "[60]\tvalid_0's auc: 0.999562\n",
      "[61]\tvalid_0's auc: 0.999565\n",
      "[62]\tvalid_0's auc: 0.999572\n",
      "[63]\tvalid_0's auc: 0.999576\n",
      "[64]\tvalid_0's auc: 0.999584\n",
      "[65]\tvalid_0's auc: 0.999581\n",
      "[66]\tvalid_0's auc: 0.999589\n",
      "[67]\tvalid_0's auc: 0.999586\n",
      "[68]\tvalid_0's auc: 0.999582\n",
      "[69]\tvalid_0's auc: 0.999577\n",
      "[70]\tvalid_0's auc: 0.999588\n",
      "[71]\tvalid_0's auc: 0.999581\n",
      "[72]\tvalid_0's auc: 0.999589\n",
      "[73]\tvalid_0's auc: 0.999582\n",
      "[74]\tvalid_0's auc: 0.999578\n",
      "[75]\tvalid_0's auc: 0.999592\n",
      "[76]\tvalid_0's auc: 0.999588\n",
      "[77]\tvalid_0's auc: 0.999597\n",
      "[78]\tvalid_0's auc: 0.999588\n",
      "[79]\tvalid_0's auc: 0.99958\n",
      "[80]\tvalid_0's auc: 0.999578\n",
      "[81]\tvalid_0's auc: 0.999577\n",
      "[82]\tvalid_0's auc: 0.999568\n",
      "[83]\tvalid_0's auc: 0.999565\n",
      "[84]\tvalid_0's auc: 0.999572\n",
      "[85]\tvalid_0's auc: 0.999574\n",
      "[86]\tvalid_0's auc: 0.99957\n",
      "[87]\tvalid_0's auc: 0.999576\n",
      "[88]\tvalid_0's auc: 0.999576\n",
      "[89]\tvalid_0's auc: 0.999576\n",
      "[90]\tvalid_0's auc: 0.999568\n",
      "[91]\tvalid_0's auc: 0.999568\n",
      "[92]\tvalid_0's auc: 0.999577\n",
      "[93]\tvalid_0's auc: 0.999578\n",
      "[94]\tvalid_0's auc: 0.999573\n",
      "[95]\tvalid_0's auc: 0.99957\n",
      "[96]\tvalid_0's auc: 0.999569\n",
      "[97]\tvalid_0's auc: 0.999569\n",
      "[98]\tvalid_0's auc: 0.999566\n",
      "[99]\tvalid_0's auc: 0.999562\n",
      "[100]\tvalid_0's auc: 0.999569\n",
      "[101]\tvalid_0's auc: 0.999568\n",
      "[102]\tvalid_0's auc: 0.999572\n",
      "[103]\tvalid_0's auc: 0.999578\n",
      "Early stopping, best iteration is:\n",
      "[3]\tvalid_0's auc: 0.999601\n"
     ]
    }
   ],
   "source": [
    "model = lightgbm.train(parameters,\n",
    "                       train_data,\n",
    "                       valid_sets=test_data,\n",
    "                       num_boost_round=5000,\n",
    "                       early_stopping_rounds=100)"
   ]
  },
  {
   "cell_type": "code",
   "execution_count": 57,
   "metadata": {},
   "outputs": [],
   "source": [
    "y_test_pred = model.predict(x_test)\n",
    "y_test_pred = [ 1 if i > 0.99999 else 0 for i in y_test_pred ]"
   ]
  },
  {
   "cell_type": "code",
   "execution_count": 58,
   "metadata": {},
   "outputs": [
    {
     "data": {
      "text/plain": [
       "Counter({0: 19046, 1: 87})"
      ]
     },
     "execution_count": 58,
     "metadata": {},
     "output_type": "execute_result"
    }
   ],
   "source": [
    "Counter(y_test_pred)"
   ]
  },
  {
   "cell_type": "code",
   "execution_count": 59,
   "metadata": {},
   "outputs": [
    {
     "data": {
      "text/plain": [
       "0.5873015873015872"
      ]
     },
     "execution_count": 59,
     "metadata": {},
     "output_type": "execute_result"
    }
   ],
   "source": [
    "f1_score(y_test_pred, y_test) "
   ]
  },
  {
   "cell_type": "markdown",
   "metadata": {},
   "source": [
    "### Random Forest"
   ]
  },
  {
   "cell_type": "code",
   "execution_count": 60,
   "metadata": {},
   "outputs": [],
   "source": [
    "from sklearn.ensemble import RandomForestClassifier"
   ]
  },
  {
   "cell_type": "code",
   "execution_count": 61,
   "metadata": {},
   "outputs": [],
   "source": [
    "RF = RandomForestClassifier(n_estimators=1000)"
   ]
  },
  {
   "cell_type": "code",
   "execution_count": 62,
   "metadata": {},
   "outputs": [
    {
     "data": {
      "text/plain": [
       "RandomForestClassifier(bootstrap=True, class_weight=None, criterion='gini',\n",
       "                       max_depth=None, max_features='auto', max_leaf_nodes=None,\n",
       "                       min_impurity_decrease=0.0, min_impurity_split=None,\n",
       "                       min_samples_leaf=1, min_samples_split=2,\n",
       "                       min_weight_fraction_leaf=0.0, n_estimators=1000,\n",
       "                       n_jobs=None, oob_score=False, random_state=None,\n",
       "                       verbose=0, warm_start=False)"
      ]
     },
     "execution_count": 62,
     "metadata": {},
     "output_type": "execute_result"
    }
   ],
   "source": [
    "RF.fit(x, y)"
   ]
  },
  {
   "cell_type": "code",
   "execution_count": 63,
   "metadata": {},
   "outputs": [],
   "source": [
    "y_test_pred = RF.predict(x_test)"
   ]
  },
  {
   "cell_type": "code",
   "execution_count": 64,
   "metadata": {},
   "outputs": [
    {
     "data": {
      "text/plain": [
       "0.8536585365853658"
      ]
     },
     "execution_count": 64,
     "metadata": {},
     "output_type": "execute_result"
    }
   ],
   "source": [
    "f1_score(y_test_pred, y_test) "
   ]
  },
  {
   "cell_type": "markdown",
   "metadata": {},
   "source": [
    "### Create a submission (LGBM)"
   ]
  },
  {
   "cell_type": "code",
   "execution_count": null,
   "metadata": {},
   "outputs": [],
   "source": [
    "df_tst_cut.head()"
   ]
  },
  {
   "cell_type": "code",
   "execution_count": null,
   "metadata": {},
   "outputs": [],
   "source": [
    "x_tst = df_tst_cut.values\n",
    "x_tst[:5]"
   ]
  },
  {
   "cell_type": "code",
   "execution_count": null,
   "metadata": {},
   "outputs": [],
   "source": [
    "y_pred = model.predict(x_tst)\n",
    "y_pred = [ 1 if i > 0.99999 else 0 for i in y_pred ]\n",
    "Counter(y_pred)\n",
    "# y_pred"
   ]
  },
  {
   "cell_type": "code",
   "execution_count": null,
   "metadata": {},
   "outputs": [],
   "source": [
    "y_pred"
   ]
  },
  {
   "cell_type": "code",
   "execution_count": null,
   "metadata": {},
   "outputs": [],
   "source": [
    "df_sbm['FraudResult'] = y_pred\n",
    "df_sbm.to_csv('../submitted/AlBo0723_LGBM_le.csv', encoding='utf-8', index=False)"
   ]
  },
  {
   "cell_type": "markdown",
   "metadata": {},
   "source": [
    "### Create a submission (RF)"
   ]
  },
  {
   "cell_type": "code",
   "execution_count": 65,
   "metadata": {},
   "outputs": [],
   "source": [
    "y_tst_pred = RF.predict(X_tst_chi2)"
   ]
  },
  {
   "cell_type": "code",
   "execution_count": 66,
   "metadata": {},
   "outputs": [
    {
     "data": {
      "text/plain": [
       "Counter({0: 44944, 1: 75})"
      ]
     },
     "execution_count": 66,
     "metadata": {},
     "output_type": "execute_result"
    }
   ],
   "source": [
    "Counter(y_tst_pred)"
   ]
  },
  {
   "cell_type": "code",
   "execution_count": 67,
   "metadata": {},
   "outputs": [],
   "source": [
    "df_sbm['FraudResult'] = y_tst_pred\n",
    "df_sbm.to_csv('../submitted/AlBo0724_top10chi2_RF.csv', encoding='utf-8', index=False)"
   ]
  },
  {
   "cell_type": "markdown",
   "metadata": {},
   "source": [
    "**Result:** `0.774193548387097`"
   ]
  },
  {
   "cell_type": "markdown",
   "metadata": {},
   "source": [
    "## Feature Importance with Tree Based Classifiers"
   ]
  },
  {
   "cell_type": "code",
   "execution_count": 68,
   "metadata": {},
   "outputs": [],
   "source": [
    "columns_top10_tree = [\n",
    "    'Amount', \n",
    "    'Value',\n",
    "    'pricing_strategy_transactions__AmountPositive_global_avg',\n",
    "    'account_product_transactions__AmountPositive_global_avg',\n",
    "    'account_channel_transactions__AmountPositive_global_sum',\n",
    "    'provider_transactions__AmountPositive_global_sum',\n",
    "    'provider_transactions__Value_week_avg',\n",
    "    'account_product_category_transactions__AmountPositive_global_min',\n",
    "    'product_category_transactions__Value_global_count',\n",
    "    'account_provider_transactions__AmountPositive_global_avg'\n",
    "]"
   ]
  },
  {
   "cell_type": "code",
   "execution_count": 71,
   "metadata": {},
   "outputs": [],
   "source": [
    "X_trn_tree = df_trn[columns_top10_tree]\n",
    "X_tst_tree = df_tst[columns_top10_tree]\n",
    "\n",
    "y_trn_tree = df_trn['FraudResult']\n",
    "\n",
    "x = X_trn_tree.values\n",
    "y = y_trn_tree.values"
   ]
  },
  {
   "cell_type": "code",
   "execution_count": 72,
   "metadata": {},
   "outputs": [],
   "source": [
    "# Create training and validation sets\n",
    "x, x_test, y, y_test = train_test_split(x, y, test_size=0.2, random_state=42, stratify=y)"
   ]
  },
  {
   "cell_type": "markdown",
   "metadata": {},
   "source": [
    "### Random Forest"
   ]
  },
  {
   "cell_type": "code",
   "execution_count": 73,
   "metadata": {},
   "outputs": [],
   "source": [
    "from sklearn.ensemble import RandomForestClassifier"
   ]
  },
  {
   "cell_type": "code",
   "execution_count": 78,
   "metadata": {},
   "outputs": [],
   "source": [
    "RF = RandomForestClassifier(n_estimators=100)"
   ]
  },
  {
   "cell_type": "code",
   "execution_count": 79,
   "metadata": {},
   "outputs": [
    {
     "data": {
      "text/plain": [
       "RandomForestClassifier(bootstrap=True, class_weight=None, criterion='gini',\n",
       "                       max_depth=None, max_features='auto', max_leaf_nodes=None,\n",
       "                       min_impurity_decrease=0.0, min_impurity_split=None,\n",
       "                       min_samples_leaf=1, min_samples_split=2,\n",
       "                       min_weight_fraction_leaf=0.0, n_estimators=100,\n",
       "                       n_jobs=None, oob_score=False, random_state=None,\n",
       "                       verbose=0, warm_start=False)"
      ]
     },
     "execution_count": 79,
     "metadata": {},
     "output_type": "execute_result"
    }
   ],
   "source": [
    "RF.fit(x, y)"
   ]
  },
  {
   "cell_type": "code",
   "execution_count": 80,
   "metadata": {},
   "outputs": [],
   "source": [
    "y_test_pred = RF.predict(x_test)"
   ]
  },
  {
   "cell_type": "code",
   "execution_count": 81,
   "metadata": {},
   "outputs": [
    {
     "data": {
      "text/plain": [
       "0.8831168831168831"
      ]
     },
     "execution_count": 81,
     "metadata": {},
     "output_type": "execute_result"
    }
   ],
   "source": [
    "f1_score(y_test_pred, y_test) "
   ]
  },
  {
   "cell_type": "markdown",
   "metadata": {},
   "source": [
    "### Create a submission (RF)"
   ]
  },
  {
   "cell_type": "code",
   "execution_count": 82,
   "metadata": {},
   "outputs": [],
   "source": [
    "y_tst_pred = RF.predict(X_tst_tree)"
   ]
  },
  {
   "cell_type": "code",
   "execution_count": 83,
   "metadata": {},
   "outputs": [
    {
     "data": {
      "text/plain": [
       "Counter({0: 44945, 1: 74})"
      ]
     },
     "execution_count": 83,
     "metadata": {},
     "output_type": "execute_result"
    }
   ],
   "source": [
    "Counter(y_tst_pred)"
   ]
  },
  {
   "cell_type": "code",
   "execution_count": null,
   "metadata": {},
   "outputs": [],
   "source": [
    "df_sbm['FraudResult'] = y_tst_pred"
   ]
  },
  {
   "cell_type": "code",
   "execution_count": 87,
   "metadata": {},
   "outputs": [
    {
     "name": "stdout",
     "output_type": "stream",
     "text": [
      "It is the same as in: AlBo0724_top10tree_RF.csv\n"
     ]
    }
   ],
   "source": [
    "import os \n",
    "\n",
    "current_subm_set = set(df_sbm[df_sbm['FraudResult'] == 1].index.tolist())\n",
    "\n",
    "files = os.listdir('../submitted')\n",
    "files.sort()\n",
    "\n",
    "for f in files:\n",
    "    f_csv = pd.read_csv('../submitted/'+f)\n",
    "    if set(f_csv[f_csv['FraudResult'] == 1].index.tolist()) == current_subm_set:\n",
    "        print('It is the same as in: ' + f)"
   ]
  },
  {
   "cell_type": "code",
   "execution_count": 84,
   "metadata": {},
   "outputs": [],
   "source": [
    "df_sbm.to_csv('../submitted/AlBo0724_top10tree_RF.csv', encoding='utf-8', index=False)"
   ]
  },
  {
   "cell_type": "markdown",
   "metadata": {},
   "source": [
    "**Result:** `0.766666666666667` - worse than top10-chi2"
   ]
  },
  {
   "cell_type": "markdown",
   "metadata": {},
   "source": [
    "## Feature Importance with Correlation Matrix"
   ]
  },
  {
   "cell_type": "code",
   "execution_count": 91,
   "metadata": {},
   "outputs": [],
   "source": [
    "columns_top10_corr = [\n",
    "    'Value', \n",
    "    'Amount', \n",
    "    'account_provider_transactions__AmountPositive_global_avg', \n",
    "    'account_provider_transactions__Value_global_avg', \n",
    "    'account_product_transactions__AmountPositive_global_avg', \n",
    "    'account_pricing_strategy_transactions__AmountPositive_global_avg',\n",
    "    'account_product_transactions__Value_global_avg', \n",
    "    'account_product_category_transactions__AmountPositive_global_avg',\n",
    "    'account_pricing_strategy_transactions__Value_global_avg',\n",
    "    'account_product_category_transactions__Value_global_avg'\n",
    "]"
   ]
  },
  {
   "cell_type": "code",
   "execution_count": 92,
   "metadata": {},
   "outputs": [],
   "source": [
    "X_trn_corr = df_trn[columns_top10_corr]\n",
    "X_tst_corr = df_tst[columns_top10_corr]\n",
    "\n",
    "y_trn_corr = df_trn['FraudResult']\n",
    "\n",
    "x = X_trn_corr.values\n",
    "y = y_trn_corr.values"
   ]
  },
  {
   "cell_type": "code",
   "execution_count": 93,
   "metadata": {},
   "outputs": [],
   "source": [
    "# Create training and validation sets\n",
    "x, x_test, y, y_test = train_test_split(x, y, test_size=0.2, random_state=42, stratify=y)"
   ]
  },
  {
   "cell_type": "markdown",
   "metadata": {},
   "source": [
    "### Random Forest"
   ]
  },
  {
   "cell_type": "code",
   "execution_count": 94,
   "metadata": {},
   "outputs": [],
   "source": [
    "from sklearn.ensemble import RandomForestClassifier"
   ]
  },
  {
   "cell_type": "code",
   "execution_count": 95,
   "metadata": {},
   "outputs": [],
   "source": [
    "RF = RandomForestClassifier(n_estimators=100)"
   ]
  },
  {
   "cell_type": "code",
   "execution_count": 96,
   "metadata": {},
   "outputs": [
    {
     "data": {
      "text/plain": [
       "RandomForestClassifier(bootstrap=True, class_weight=None, criterion='gini',\n",
       "                       max_depth=None, max_features='auto', max_leaf_nodes=None,\n",
       "                       min_impurity_decrease=0.0, min_impurity_split=None,\n",
       "                       min_samples_leaf=1, min_samples_split=2,\n",
       "                       min_weight_fraction_leaf=0.0, n_estimators=100,\n",
       "                       n_jobs=None, oob_score=False, random_state=None,\n",
       "                       verbose=0, warm_start=False)"
      ]
     },
     "execution_count": 96,
     "metadata": {},
     "output_type": "execute_result"
    }
   ],
   "source": [
    "RF.fit(x, y)"
   ]
  },
  {
   "cell_type": "code",
   "execution_count": 97,
   "metadata": {},
   "outputs": [],
   "source": [
    "y_test_pred = RF.predict(x_test)"
   ]
  },
  {
   "cell_type": "code",
   "execution_count": 98,
   "metadata": {},
   "outputs": [
    {
     "data": {
      "text/plain": [
       "0.8799999999999999"
      ]
     },
     "execution_count": 98,
     "metadata": {},
     "output_type": "execute_result"
    }
   ],
   "source": [
    "f1_score(y_test_pred, y_test) "
   ]
  },
  {
   "cell_type": "markdown",
   "metadata": {},
   "source": [
    "### Create a submission (RF)"
   ]
  },
  {
   "cell_type": "code",
   "execution_count": 99,
   "metadata": {},
   "outputs": [],
   "source": [
    "y_tst_pred = RF.predict(X_tst_tree)"
   ]
  },
  {
   "cell_type": "code",
   "execution_count": 100,
   "metadata": {},
   "outputs": [
    {
     "data": {
      "text/plain": [
       "Counter({0: 44963, 1: 56})"
      ]
     },
     "execution_count": 100,
     "metadata": {},
     "output_type": "execute_result"
    }
   ],
   "source": [
    "Counter(y_tst_pred)"
   ]
  },
  {
   "cell_type": "code",
   "execution_count": 101,
   "metadata": {},
   "outputs": [],
   "source": [
    "df_sbm['FraudResult'] = y_tst_pred"
   ]
  },
  {
   "cell_type": "code",
   "execution_count": 102,
   "metadata": {},
   "outputs": [],
   "source": [
    "import os \n",
    "\n",
    "current_subm_set = set(df_sbm[df_sbm['FraudResult'] == 1].index.tolist())\n",
    "\n",
    "files = os.listdir('../submitted')\n",
    "files.sort()\n",
    "\n",
    "for f in files:\n",
    "    f_csv = pd.read_csv('../submitted/'+f)\n",
    "    if set(f_csv[f_csv['FraudResult'] == 1].index.tolist()) == current_subm_set:\n",
    "        print('It is the same as in: ' + f)"
   ]
  },
  {
   "cell_type": "code",
   "execution_count": 103,
   "metadata": {},
   "outputs": [],
   "source": [
    "df_sbm.to_csv('../submitted/AlBo0724_top10corr_RF.csv', encoding='utf-8', index=False)"
   ]
  },
  {
   "cell_type": "markdown",
   "metadata": {},
   "source": [
    "**Result:** `0.576923076923077` - worse than top10-chi2 and top10-tree"
   ]
  },
  {
   "cell_type": "code",
   "execution_count": null,
   "metadata": {},
   "outputs": [],
   "source": []
  }
 ],
 "metadata": {
  "kernelspec": {
   "display_name": "Python 3",
   "language": "python",
   "name": "python3"
  },
  "language_info": {
   "codemirror_mode": {
    "name": "ipython",
    "version": 3
   },
   "file_extension": ".py",
   "mimetype": "text/x-python",
   "name": "python",
   "nbconvert_exporter": "python",
   "pygments_lexer": "ipython3",
   "version": "3.7.1"
  }
 },
 "nbformat": 4,
 "nbformat_minor": 2
}
