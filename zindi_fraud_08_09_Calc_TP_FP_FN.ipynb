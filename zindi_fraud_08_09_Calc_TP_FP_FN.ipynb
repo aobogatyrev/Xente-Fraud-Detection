{
 "cells": [
  {
   "attachments": {
    "Confusion_Matrix7.png": {
     "image/png": "[encoded data removed]"
    }
   },
   "cell_type": "markdown",
   "metadata": {},
   "source": [
    "![Confusion_Matrix7.png](attachment:Confusion_Matrix7.png)"
   ]
  },
  {
   "cell_type": "code",
   "execution_count": null,
   "metadata": {},
   "outputs": [],
   "source": [
    "max_nfrauds = 60\n",
    "for nfrauds in range(max_nfrauds//2, max_nfrauds):\n",
    "    print('========== Actual #frauds = %i ==========' % nfrauds)\n",
    "    for tp in range(max_nfrauds//2, nfrauds):\n",
    "        print('----- TP = %i -----' % tp)\n",
    "        fn = nfrauds - tp\n",
    "        for fp in range(max_nfrauds//2):\n",
    "            precision = tp / (tp + fp)\n",
    "            recall    = tp / (tp + fn)\n",
    "            f1        = 2 * recall * precision / (recall + precision)\n",
    "            print('%.3f' % f1)   "
   ]
  },
  {
   "cell_type": "code",
   "execution_count": 2,
   "metadata": {},
   "outputs": [],
   "source": [
    "import numpy  as np\n",
    "import pandas as pd"
   ]
  },
  {
   "cell_type": "markdown",
   "metadata": {},
   "source": [
    "$F_1 = \\frac{2TP}{2TP + FP + FN}$"
   ]
  },
  {
   "cell_type": "code",
   "execution_count": 3,
   "metadata": {},
   "outputs": [
    {
     "name": "stdout",
     "output_type": "stream",
     "text": [
      "81\n",
      "80\n",
      "['TransactionId_11374']\n",
      "[]\n",
      "['TransactionId_11374']\n"
     ]
    }
   ],
   "source": [
    "df_ETC_9    = pd.read_csv('../submitted/AlBo0808_RFE_ETC_9.csv')\n",
    "df_ETC_9_80 = pd.read_csv('../submitted/AlBo0808_RFE_ETC_9_80.csv')\n",
    "\n",
    "set_ETC_9    = set(df_ETC_9['TransactionId'][df_ETC_9['FraudResult']==1].tolist())\n",
    "set_ETC_9_80 = set(df_ETC_9_80['TransactionId'][df_ETC_9_80['FraudResult']==1].tolist())\n",
    "\n",
    "print(len(set_ETC_9))\n",
    "print(len(set_ETC_9_80))\n",
    "print(np.sort(list(set_ETC_9 - set_ETC_9_80)))\n",
    "print(np.sort(list(set_ETC_9_80 - set_ETC_9)))\n",
    "print(np.sort(list(set_ETC_9_80 ^ set_ETC_9)))"
   ]
  },
  {
   "cell_type": "code",
   "execution_count": 5,
   "metadata": {},
   "outputs": [
    {
     "name": "stdout",
     "output_type": "stream",
     "text": [
      "0    0\n",
      "Name: FraudResult, dtype: int64\n",
      "0    1\n",
      "Name: FraudResult, dtype: int64\n"
     ]
    }
   ],
   "source": [
    "print(df_ETC_9['FraudResult'][df_ETC_9['TransactionId']=='TransactionId_50600'])\n",
    "\n",
    "df_ETC_9.at[df_ETC_9['TransactionId'] == 'TransactionId_50600', 'FraudResult'] = 1\n",
    "\n",
    "print(df_ETC_9['FraudResult'][df_ETC_9['TransactionId']=='TransactionId_50600'])"
   ]
  },
  {
   "cell_type": "code",
   "execution_count": 9,
   "metadata": {},
   "outputs": [
    {
     "data": {
      "text/plain": [
       "Counter({1: 82, 0: 44937})"
      ]
     },
     "execution_count": 9,
     "metadata": {},
     "output_type": "execute_result"
    }
   ],
   "source": [
    "from collections import Counter\n",
    "Counter(df_ETC_9['FraudResult'])"
   ]
  },
  {
   "cell_type": "code",
   "execution_count": 11,
   "metadata": {},
   "outputs": [],
   "source": [
    "df_ETC_9.to_csv('../submitted/AlBo0809_RFE_ETC_9_82.csv', encoding='utf-8', index=False)"
   ]
  },
  {
   "cell_type": "code",
   "execution_count": 12,
   "metadata": {},
   "outputs": [
    {
     "name": "stdout",
     "output_type": "stream",
     "text": [
      "ETC_9 81\n",
      "ETC_9_82 82\n",
      "[]\n",
      "['TransactionId_50600']\n",
      "['TransactionId_50600']\n"
     ]
    }
   ],
   "source": [
    "df_ETC_9    = pd.read_csv('../submitted/AlBo0808_RFE_ETC_9.csv')\n",
    "df_ETC_9_82 = pd.read_csv('../submitted/AlBo0809_RFE_ETC_9_82.csv')\n",
    "\n",
    "set_ETC_9    = set(df_ETC_9   ['TransactionId'][df_ETC_9   ['FraudResult']==1].tolist())\n",
    "set_ETC_9_82 = set(df_ETC_9_82['TransactionId'][df_ETC_9_82['FraudResult']==1].tolist())\n",
    "\n",
    "print('ETC_9',      len(set_ETC_9))\n",
    "print('ETC_9_82', len(set_ETC_9_82))\n",
    "print(np.sort(list(set_ETC_9    - set_ETC_9_82)))\n",
    "print(np.sort(list(set_ETC_9_82 - set_ETC_9)))\n",
    "print(np.sort(list(set_ETC_9_82 ^ set_ETC_9)))"
   ]
  },
  {
   "cell_type": "code",
   "execution_count": 15,
   "metadata": {},
   "outputs": [],
   "source": [
    "A = 0.793650793650794 #frauds=81      AlBo0808_RFE_ETC_9.csv\n",
    "B = 0.774193548387097 #frauds=80 TP-1 AlBo0808_RFE_ETC_9_80.csv\n",
    "C = 0.78125           #frauds=82 FP+1 AlBo0809_RFE_ETC_9_82.csv"
   ]
  },
  {
   "cell_type": "code",
   "execution_count": 16,
   "metadata": {},
   "outputs": [
    {
     "name": "stdout",
     "output_type": "stream",
     "text": [
      "-0.4126984126984119\n",
      "-0.45161290322580605\n",
      "-1.225806451612903\n",
      "-0.4375\n"
     ]
    }
   ],
   "source": [
    "print(2*(A-1))\n",
    "\n",
    "print(2*(B-1))\n",
    "print(B-2)\n",
    "\n",
    "print(2*(C-1))"
   ]
  },
  {
   "cell_type": "code",
   "execution_count": null,
   "metadata": {},
   "outputs": [],
   "source": []
  }
 ],
 "metadata": {
  "kernelspec": {
   "display_name": "Python 3",
   "language": "python",
   "name": "python3"
  },
  "language_info": {
   "codemirror_mode": {
    "name": "ipython",
    "version": 3
   },
   "file_extension": ".py",
   "mimetype": "text/x-python",
   "name": "python",
   "nbconvert_exporter": "python",
   "pygments_lexer": "ipython3",
   "version": "3.7.1"
  }
 },
 "nbformat": 4,
 "nbformat_minor": 2
}
