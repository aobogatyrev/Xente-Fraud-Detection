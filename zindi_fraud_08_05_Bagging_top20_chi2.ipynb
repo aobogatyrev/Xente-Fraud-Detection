{
 "cells": [
  {
   "cell_type": "markdown",
   "metadata": {},
   "source": [
    "# Bagging Classifier on top k chi2"
   ]
  },
  {
   "cell_type": "code",
   "execution_count": 1,
   "metadata": {},
   "outputs": [],
   "source": [
    "import numpy as np\n",
    "import pandas as pd"
   ]
  },
  {
   "cell_type": "code",
   "execution_count": 2,
   "metadata": {},
   "outputs": [],
   "source": [
    "df_trn = pd.read_csv('../data/train-agg-cut.csv')"
   ]
  },
  {
   "cell_type": "markdown",
   "metadata": {},
   "source": [
    "## Univariate Selection $\\chi^2$"
   ]
  },
  {
   "cell_type": "markdown",
   "metadata": {},
   "source": [
    "### Scaling"
   ]
  },
  {
   "cell_type": "code",
   "execution_count": 3,
   "metadata": {},
   "outputs": [],
   "source": [
    "from sklearn.preprocessing import MinMaxScaler"
   ]
  },
  {
   "cell_type": "code",
   "execution_count": 4,
   "metadata": {},
   "outputs": [],
   "source": [
    "def scaleColumns(data, cols_to_scale, scaler):\n",
    "    for col in cols_to_scale:\n",
    "        data[col] = pd.DataFrame(scaler.fit_transform(pd.DataFrame(data[col])))"
   ]
  },
  {
   "cell_type": "code",
   "execution_count": 5,
   "metadata": {},
   "outputs": [],
   "source": [
    "scaleColumns(df_trn, list(df_trn.columns), MinMaxScaler())"
   ]
  },
  {
   "cell_type": "code",
   "execution_count": 6,
   "metadata": {},
   "outputs": [],
   "source": [
    "X_trn = df_trn.drop(columns=['FraudResult'], axis=1)\n",
    "y_trn = df_trn['FraudResult']"
   ]
  },
  {
   "cell_type": "code",
   "execution_count": 7,
   "metadata": {},
   "outputs": [],
   "source": [
    "from sklearn.feature_selection import SelectKBest\n",
    "from sklearn.feature_selection import chi2"
   ]
  },
  {
   "cell_type": "code",
   "execution_count": 8,
   "metadata": {},
   "outputs": [
    {
     "data": {
      "text/html": [
       "<div>\n",
       "<style scoped>\n",
       "    .dataframe tbody tr th:only-of-type {\n",
       "        vertical-align: middle;\n",
       "    }\n",
       "\n",
       "    .dataframe tbody tr th {\n",
       "        vertical-align: top;\n",
       "    }\n",
       "\n",
       "    .dataframe thead th {\n",
       "        text-align: right;\n",
       "    }\n",
       "</style>\n",
       "<table border=\"1\" class=\"dataframe\">\n",
       "  <thead>\n",
       "    <tr style=\"text-align: right;\">\n",
       "      <th></th>\n",
       "      <th>Features</th>\n",
       "      <th>Score</th>\n",
       "    </tr>\n",
       "  </thead>\n",
       "  <tbody>\n",
       "    <tr>\n",
       "      <th>496</th>\n",
       "      <td>AmountPositive</td>\n",
       "      <td>5597.219242</td>\n",
       "    </tr>\n",
       "    <tr>\n",
       "      <th>0</th>\n",
       "      <td>Value</td>\n",
       "      <td>4762.582809</td>\n",
       "    </tr>\n",
       "    <tr>\n",
       "      <th>86</th>\n",
       "      <td>account_product_transactions__AmountPositive_g...</td>\n",
       "      <td>883.548964</td>\n",
       "    </tr>\n",
       "    <tr>\n",
       "      <th>390</th>\n",
       "      <td>account_provider_transactions__AmountPositive_...</td>\n",
       "      <td>739.340503</td>\n",
       "    </tr>\n",
       "    <tr>\n",
       "      <th>311</th>\n",
       "      <td>account_product_category_transactions__AmountP...</td>\n",
       "      <td>691.669685</td>\n",
       "    </tr>\n",
       "    <tr>\n",
       "      <th>75</th>\n",
       "      <td>account_provider_transactions__Value_global_avg</td>\n",
       "      <td>570.979859</td>\n",
       "    </tr>\n",
       "    <tr>\n",
       "      <th>386</th>\n",
       "      <td>account_provider_transactions__AmountPositive_...</td>\n",
       "      <td>462.555515</td>\n",
       "    </tr>\n",
       "    <tr>\n",
       "      <th>296</th>\n",
       "      <td>account_channel_transactions__AmountPositive_g...</td>\n",
       "      <td>384.409342</td>\n",
       "    </tr>\n",
       "    <tr>\n",
       "      <th>90</th>\n",
       "      <td>account_product_transactions__AmountPositive_g...</td>\n",
       "      <td>383.886192</td>\n",
       "    </tr>\n",
       "    <tr>\n",
       "      <th>281</th>\n",
       "      <td>account_transactions__AmountPositive_global_sum</td>\n",
       "      <td>381.275567</td>\n",
       "    </tr>\n",
       "    <tr>\n",
       "      <th>446</th>\n",
       "      <td>account_pricing_strategy_transactions__AmountP...</td>\n",
       "      <td>372.565600</td>\n",
       "    </tr>\n",
       "    <tr>\n",
       "      <th>315</th>\n",
       "      <td>account_product_category_transactions__AmountP...</td>\n",
       "      <td>356.274749</td>\n",
       "    </tr>\n",
       "    <tr>\n",
       "      <th>76</th>\n",
       "      <td>account_product_transactions__AmountPositive_w...</td>\n",
       "      <td>319.413282</td>\n",
       "    </tr>\n",
       "    <tr>\n",
       "      <th>380</th>\n",
       "      <td>account_provider_transactions__AmountPositive_...</td>\n",
       "      <td>302.425837</td>\n",
       "    </tr>\n",
       "    <tr>\n",
       "      <th>450</th>\n",
       "      <td>account_pricing_strategy_transactions__AmountP...</td>\n",
       "      <td>292.863403</td>\n",
       "    </tr>\n",
       "    <tr>\n",
       "      <th>105</th>\n",
       "      <td>account_product_transactions__Value_global_avg</td>\n",
       "      <td>291.565427</td>\n",
       "    </tr>\n",
       "    <tr>\n",
       "      <th>330</th>\n",
       "      <td>account_product_category_transactions__Value_g...</td>\n",
       "      <td>272.484611</td>\n",
       "    </tr>\n",
       "    <tr>\n",
       "      <th>300</th>\n",
       "      <td>account_channel_transactions__AmountPositive_g...</td>\n",
       "      <td>271.570905</td>\n",
       "    </tr>\n",
       "    <tr>\n",
       "      <th>285</th>\n",
       "      <td>account_transactions__AmountPositive_global_avg</td>\n",
       "      <td>271.275782</td>\n",
       "    </tr>\n",
       "    <tr>\n",
       "      <th>376</th>\n",
       "      <td>account_provider_transactions__AmountPositive_...</td>\n",
       "      <td>254.274143</td>\n",
       "    </tr>\n",
       "  </tbody>\n",
       "</table>\n",
       "</div>"
      ],
      "text/plain": [
       "                                              Features        Score\n",
       "496                                     AmountPositive  5597.219242\n",
       "0                                                Value  4762.582809\n",
       "86   account_product_transactions__AmountPositive_g...   883.548964\n",
       "390  account_provider_transactions__AmountPositive_...   739.340503\n",
       "311  account_product_category_transactions__AmountP...   691.669685\n",
       "75     account_provider_transactions__Value_global_avg   570.979859\n",
       "386  account_provider_transactions__AmountPositive_...   462.555515\n",
       "296  account_channel_transactions__AmountPositive_g...   384.409342\n",
       "90   account_product_transactions__AmountPositive_g...   383.886192\n",
       "281    account_transactions__AmountPositive_global_sum   381.275567\n",
       "446  account_pricing_strategy_transactions__AmountP...   372.565600\n",
       "315  account_product_category_transactions__AmountP...   356.274749\n",
       "76   account_product_transactions__AmountPositive_w...   319.413282\n",
       "380  account_provider_transactions__AmountPositive_...   302.425837\n",
       "450  account_pricing_strategy_transactions__AmountP...   292.863403\n",
       "105     account_product_transactions__Value_global_avg   291.565427\n",
       "330  account_product_category_transactions__Value_g...   272.484611\n",
       "300  account_channel_transactions__AmountPositive_g...   271.570905\n",
       "285    account_transactions__AmountPositive_global_avg   271.275782\n",
       "376  account_provider_transactions__AmountPositive_...   254.274143"
      ]
     },
     "execution_count": 8,
     "metadata": {},
     "output_type": "execute_result"
    }
   ],
   "source": [
    "#apply SelectKBest class to extract top 20 best features\n",
    "k = 20\n",
    "bestfeatures = SelectKBest(score_func=chi2, k=k)\n",
    "fit = bestfeatures.fit(X_trn, y_trn)\n",
    "dfscores = pd.DataFrame(fit.scores_)\n",
    "dfcolumns = pd.DataFrame(X_trn.columns)\n",
    "\n",
    "#concat two dataframes for better visualization\n",
    "featureScores = pd.concat([dfcolumns, dfscores], axis=1)\n",
    "featureScores.columns = ['Features', 'Score']  # naming the dataframe columns\n",
    "featureScores.nlargest(k, 'Score')             # print best features"
   ]
  },
  {
   "cell_type": "code",
   "execution_count": 9,
   "metadata": {},
   "outputs": [],
   "source": [
    "columns_top20_chi2 = list(featureScores.nlargest(k, 'Score').values[:, 0])"
   ]
  },
  {
   "cell_type": "code",
   "execution_count": 14,
   "metadata": {},
   "outputs": [
    {
     "data": {
      "text/plain": [
       "['AmountPositive',\n",
       " 'Value',\n",
       " 'account_product_transactions__AmountPositive_global_sum',\n",
       " 'account_provider_transactions__AmountPositive_global_avg',\n",
       " 'account_product_category_transactions__AmountPositive_global_sum',\n",
       " 'account_provider_transactions__Value_global_avg',\n",
       " 'account_provider_transactions__AmountPositive_global_sum',\n",
       " 'account_channel_transactions__AmountPositive_global_sum',\n",
       " 'account_product_transactions__AmountPositive_global_avg',\n",
       " 'account_transactions__AmountPositive_global_sum',\n",
       " 'account_pricing_strategy_transactions__AmountPositive_global_sum',\n",
       " 'account_product_category_transactions__AmountPositive_global_avg',\n",
       " 'account_product_transactions__AmountPositive_week_sum',\n",
       " 'account_provider_transactions__AmountPositive_week_avg',\n",
       " 'account_pricing_strategy_transactions__AmountPositive_global_avg',\n",
       " 'account_product_transactions__Value_global_avg',\n",
       " 'account_product_category_transactions__Value_global_avg',\n",
       " 'account_channel_transactions__AmountPositive_global_avg',\n",
       " 'account_transactions__AmountPositive_global_avg',\n",
       " 'account_provider_transactions__AmountPositive_week_sum']"
      ]
     },
     "execution_count": 14,
     "metadata": {},
     "output_type": "execute_result"
    }
   ],
   "source": [
    "columns_top20_chi2"
   ]
  },
  {
   "cell_type": "markdown",
   "metadata": {},
   "source": [
    "## Подбор такого k, при котором есть отличия от уже submitted"
   ]
  },
  {
   "cell_type": "code",
   "execution_count": 10,
   "metadata": {},
   "outputs": [],
   "source": [
    "df_trn = pd.read_csv('../data/train-agg-cut.csv')\n",
    "df_tst = pd.read_csv('../data/test-agg-cut.csv')\n",
    "df_sbm = pd.read_csv('../data/sample_submission.csv')"
   ]
  },
  {
   "cell_type": "code",
   "execution_count": 11,
   "metadata": {},
   "outputs": [],
   "source": [
    "X_trn = df_trn.drop(columns=['FraudResult'], axis=1)\n",
    "y_trn = df_trn['FraudResult']\n",
    "\n",
    "X_tst = df_tst"
   ]
  },
  {
   "cell_type": "code",
   "execution_count": 12,
   "metadata": {},
   "outputs": [],
   "source": [
    "import os\n",
    "from collections import Counter\n",
    "from sklearn.ensemble import BaggingClassifier"
   ]
  },
  {
   "cell_type": "code",
   "execution_count": 13,
   "metadata": {},
   "outputs": [
    {
     "name": "stdout",
     "output_type": "stream",
     "text": [
      "1 : Counter({0: 44959, 1: 60})\n",
      "New result! Write it\n",
      "2 : Counter({0: 44958, 1: 61})\n",
      "New result! Write it\n",
      "3 : Counter({0: 44943, 1: 76})\n",
      "New result! Write it\n",
      "4 : Counter({0: 44944, 1: 75})\n",
      "New result! Write it\n",
      "5 : Counter({0: 44943, 1: 76})\n",
      "New result! Write it\n",
      "6 : Counter({0: 44943, 1: 76})\n",
      "New result! Write it\n",
      "7 : Counter({0: 44944, 1: 75})\n",
      "New result! Write it\n",
      "8 : Counter({0: 44945, 1: 74})\n",
      "New result! Write it\n",
      "9 : Counter({0: 44946, 1: 73})\n",
      "It is the same as in: AlBo0726_top97chi2_BaggingClassifier.csv\n",
      "10 : Counter({0: 44945, 1: 74})\n",
      "New result! Write it\n",
      "11 : Counter({0: 44946, 1: 73})\n",
      "It is the same as in: AlBo0726_top97chi2_BaggingClassifier.csv\n",
      "12 : Counter({0: 44946, 1: 73})\n",
      "It is the same as in: AlBo0726_top97chi2_BaggingClassifier.csv\n",
      "13 : Counter({0: 44944, 1: 75})\n",
      "New result! Write it\n",
      "14 : Counter({0: 44946, 1: 73})\n",
      "It is the same as in: AlBo0726_top97chi2_BaggingClassifier.csv\n",
      "15 : Counter({0: 44944, 1: 75})\n",
      "It is the same as in: AlBo0726_top97chi2_BaggingClassifier.csv\n",
      "16 : Counter({0: 44946, 1: 73})\n",
      "It is the same as in: AlBo0726_top97chi2_BaggingClassifier.csv\n",
      "17 : Counter({0: 44944, 1: 75})\n",
      "It is the same as in: AlBo0726_top97chi2_BaggingClassifier.csv\n",
      "18 : Counter({0: 44947, 1: 72})\n",
      "New result! Write it\n",
      "19 : Counter({0: 44944, 1: 75})\n",
      "It is the same as in: AlBo0726_top97chi2_BaggingClassifier.csv\n"
     ]
    }
   ],
   "source": [
    "classifier = BaggingClassifier(n_estimators=100, n_jobs=-1)\n",
    "for k in range(1, 20):\n",
    "    # prepare dataset on k columns\n",
    "    X_trn_drp = X_trn[columns_top20_chi2[:k]]\n",
    "    X_tst_drp = X_tst[columns_top20_chi2[:k]]\n",
    "    \n",
    "    predict = classifier.fit(X_trn_drp, y_trn).predict(X_tst_drp)\n",
    "    print(k, ':', Counter(predict))\n",
    "    df_sbm['FraudResult'] = predict\n",
    "    \n",
    "    # определяем был ли ранее точно такой же результат\n",
    "    current_subm_set = set(df_sbm[df_sbm['FraudResult'] == 1].index.tolist())\n",
    "    # просматриваем все файлы в папке submitted\n",
    "    is_exist = False\n",
    "    files = os.listdir('../submitted')\n",
    "    files.sort()\n",
    "    for f in files:\n",
    "        f_csv = pd.read_csv('../submitted/' + f)\n",
    "        if set(f_csv[f_csv['FraudResult'] == 1].index.tolist()) == current_subm_set:\n",
    "            is_exist = True    \n",
    "    if is_exist:\n",
    "        print('It is the same as in: ' + f)\n",
    "    else:\n",
    "        print('New result! Write it')\n",
    "        df_sbm.to_csv('../submitted/AlBo0726_top' + str(k) + 'chi2_BaggingClassifier.csv', encoding='utf-8', index=False)"
   ]
  },
  {
   "cell_type": "markdown",
   "metadata": {},
   "source": [
    "\n",
    "`k   F1-score on zindi`\n",
    "\n",
    "`01  0.679245283018868`\n",
    "\n",
    "`02  0.666666666666667`\n",
    "\n",
    "`03  0.766666666666667`\n",
    "\n",
    "`04  0.8`\n",
    "\n",
    "`05  0.766666666666667`\n",
    "\n",
    "`06  0.8`\n",
    "\n",
    "`07  0.8`\n",
    "\n",
    "`08  0.8`\n",
    "\n",
    "`10  0.8`\n",
    "\n",
    "`13  0.813559322033898`\n",
    "\n",
    "`18  0.827586206896552`\n",
    "\n",
    "`20  0.813559322033898`\n",
    "\n",
    "`25  0.793103448275862`\n",
    "\n",
    "`26  0.793103448275862`\n",
    "\n",
    "`27  0.793103448275862`\n",
    "\n",
    "`28  0.793103448275862`\n",
    "\n",
    "`29  0.696969696969697`\n",
    "\n",
    "`30  0.73015873015873`\n",
    "\n",
    "`31  0.793103448275862`\n",
    "\n",
    "`32  0.754098360655738`\n",
    "\n",
    "`35  0.741935483870968`\n",
    "\n",
    "`38  0.721311475409836`\n",
    "\n",
    "`39  0.754098360655738`\n",
    "\n",
    "`40  0.676470588235294`\n",
    "\n",
    "`43  0.741935483870968`\n",
    "\n",
    "`46  0.733333333333333`\n",
    "\n",
    "`53  0.754098360655738`\n",
    "\n",
    "`54  0.741935483870968`\n",
    "\n",
    "`62  0.741935483870968`\n",
    "\n",
    "`63  0.779661016949153`\n",
    "\n",
    "`71  0.733333333333333`\n",
    "\n"
   ]
  },
  {
   "cell_type": "code",
   "execution_count": null,
   "metadata": {},
   "outputs": [],
   "source": [
    "for n_frauds in range(70, 100):\n",
    "    for n_frauds_pred in range(70, 100):\n",
    "        \n"
   ]
  },
  {
   "cell_type": "code",
   "execution_count": null,
   "metadata": {},
   "outputs": [],
   "source": [
    "def f1_score"
   ]
  }
 ],
 "metadata": {
  "kernelspec": {
   "display_name": "Python 3",
   "language": "python",
   "name": "python3"
  },
  "language_info": {
   "codemirror_mode": {
    "name": "ipython",
    "version": 3
   },
   "file_extension": ".py",
   "mimetype": "text/x-python",
   "name": "python",
   "nbconvert_exporter": "python",
   "pygments_lexer": "ipython3",
   "version": "3.7.1"
  }
 },
 "nbformat": 4,
 "nbformat_minor": 2
}
