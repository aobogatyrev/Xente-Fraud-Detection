{
 "cells": [
  {
   "cell_type": "markdown",
   "metadata": {},
   "source": [
    "# Выбор метода бинарной классификации"
   ]
  },
  {
   "cell_type": "markdown",
   "metadata": {},
   "source": [
    "- Fields: `AccountId`, `SubscriptionId`, `CustomerId`, `ProviderId`, `ProductId`, `ProductCategory`, `ChannelId`, `PricingStrategy` - Probability Encoder\n",
    "- Fields: `TransactionId`, `BatchId`, `TransactionStartTime` - drop\n",
    "- Fields: `Amount`, `Value` - Robust Scaler"
   ]
  },
  {
   "cell_type": "code",
   "execution_count": 1,
   "metadata": {},
   "outputs": [],
   "source": [
    "import numpy  as np\n",
    "import pandas as pd"
   ]
  },
  {
   "cell_type": "code",
   "execution_count": 3,
   "metadata": {},
   "outputs": [],
   "source": [
    "df_trn = pd.read_csv('../data/training_pe.csv')\n",
    "df_tst = pd.read_csv('../data/test_pe.csv')\n",
    "df_sbm = pd.read_csv('../data/sample_submission.csv')"
   ]
  },
  {
   "cell_type": "markdown",
   "metadata": {},
   "source": [
    "## Prepare"
   ]
  },
  {
   "cell_type": "code",
   "execution_count": 4,
   "metadata": {},
   "outputs": [
    {
     "data": {
      "text/plain": [
       "['BatchId',\n",
       " 'AccountId',\n",
       " 'SubscriptionId',\n",
       " 'CustomerId',\n",
       " 'ProviderId',\n",
       " 'ProductId',\n",
       " 'ProductCategory',\n",
       " 'ChannelId',\n",
       " 'Amount',\n",
       " 'Value',\n",
       " 'TransactionStartTime',\n",
       " 'PricingStrategy',\n",
       " 'FraudResult']"
      ]
     },
     "execution_count": 4,
     "metadata": {},
     "output_type": "execute_result"
    }
   ],
   "source": [
    "list(df_trn.columns)"
   ]
  },
  {
   "cell_type": "markdown",
   "metadata": {},
   "source": [
    "### Drop"
   ]
  },
  {
   "cell_type": "code",
   "execution_count": 5,
   "metadata": {},
   "outputs": [],
   "source": [
    "columns4drop = [\n",
    "    'BatchId', \n",
    "    'TransactionStartTime'\n",
    "]"
   ]
  },
  {
   "cell_type": "code",
   "execution_count": 6,
   "metadata": {},
   "outputs": [],
   "source": [
    "df_trn = df_trn.drop(columns4drop, axis=1)\n",
    "df_tst = df_tst.drop(columns4drop, axis=1)"
   ]
  },
  {
   "cell_type": "code",
   "execution_count": 7,
   "metadata": {},
   "outputs": [
    {
     "data": {
      "text/html": [
       "<div>\n",
       "<style scoped>\n",
       "    .dataframe tbody tr th:only-of-type {\n",
       "        vertical-align: middle;\n",
       "    }\n",
       "\n",
       "    .dataframe tbody tr th {\n",
       "        vertical-align: top;\n",
       "    }\n",
       "\n",
       "    .dataframe thead th {\n",
       "        text-align: right;\n",
       "    }\n",
       "</style>\n",
       "<table border=\"1\" class=\"dataframe\">\n",
       "  <thead>\n",
       "    <tr style=\"text-align: right;\">\n",
       "      <th></th>\n",
       "      <th>AccountId</th>\n",
       "      <th>SubscriptionId</th>\n",
       "      <th>CustomerId</th>\n",
       "      <th>ProviderId</th>\n",
       "      <th>ProductId</th>\n",
       "      <th>ProductCategory</th>\n",
       "      <th>ChannelId</th>\n",
       "      <th>Amount</th>\n",
       "      <th>Value</th>\n",
       "      <th>PricingStrategy</th>\n",
       "      <th>FraudResult</th>\n",
       "    </tr>\n",
       "  </thead>\n",
       "  <tbody>\n",
       "    <tr>\n",
       "      <th>0</th>\n",
       "      <td>0.000000</td>\n",
       "      <td>0.000000</td>\n",
       "      <td>0.0</td>\n",
       "      <td>0.000088</td>\n",
       "      <td>0.000390</td>\n",
       "      <td>0.000400</td>\n",
       "      <td>0.003232</td>\n",
       "      <td>1000.0</td>\n",
       "      <td>1000</td>\n",
       "      <td>0.001741</td>\n",
       "      <td>0</td>\n",
       "    </tr>\n",
       "    <tr>\n",
       "      <th>1</th>\n",
       "      <td>0.000032</td>\n",
       "      <td>0.000031</td>\n",
       "      <td>0.0</td>\n",
       "      <td>0.000131</td>\n",
       "      <td>0.000031</td>\n",
       "      <td>0.003546</td>\n",
       "      <td>0.000135</td>\n",
       "      <td>-20.0</td>\n",
       "      <td>20</td>\n",
       "      <td>0.001741</td>\n",
       "      <td>0</td>\n",
       "    </tr>\n",
       "    <tr>\n",
       "      <th>2</th>\n",
       "      <td>0.000000</td>\n",
       "      <td>0.000000</td>\n",
       "      <td>0.0</td>\n",
       "      <td>0.000088</td>\n",
       "      <td>0.000000</td>\n",
       "      <td>0.000400</td>\n",
       "      <td>0.003232</td>\n",
       "      <td>500.0</td>\n",
       "      <td>500</td>\n",
       "      <td>0.001741</td>\n",
       "      <td>0</td>\n",
       "    </tr>\n",
       "    <tr>\n",
       "      <th>3</th>\n",
       "      <td>0.000000</td>\n",
       "      <td>0.000000</td>\n",
       "      <td>0.0</td>\n",
       "      <td>0.010101</td>\n",
       "      <td>0.002646</td>\n",
       "      <td>0.006250</td>\n",
       "      <td>0.003232</td>\n",
       "      <td>20000.0</td>\n",
       "      <td>21800</td>\n",
       "      <td>0.001741</td>\n",
       "      <td>0</td>\n",
       "    </tr>\n",
       "    <tr>\n",
       "      <th>4</th>\n",
       "      <td>0.000032</td>\n",
       "      <td>0.000031</td>\n",
       "      <td>0.0</td>\n",
       "      <td>0.000131</td>\n",
       "      <td>0.000031</td>\n",
       "      <td>0.003546</td>\n",
       "      <td>0.000135</td>\n",
       "      <td>-644.0</td>\n",
       "      <td>644</td>\n",
       "      <td>0.001741</td>\n",
       "      <td>0</td>\n",
       "    </tr>\n",
       "  </tbody>\n",
       "</table>\n",
       "</div>"
      ],
      "text/plain": [
       "   AccountId  SubscriptionId  CustomerId  ProviderId  ProductId  \\\n",
       "0   0.000000        0.000000         0.0    0.000088   0.000390   \n",
       "1   0.000032        0.000031         0.0    0.000131   0.000031   \n",
       "2   0.000000        0.000000         0.0    0.000088   0.000000   \n",
       "3   0.000000        0.000000         0.0    0.010101   0.002646   \n",
       "4   0.000032        0.000031         0.0    0.000131   0.000031   \n",
       "\n",
       "   ProductCategory  ChannelId   Amount  Value  PricingStrategy  FraudResult  \n",
       "0         0.000400   0.003232   1000.0   1000         0.001741            0  \n",
       "1         0.003546   0.000135    -20.0     20         0.001741            0  \n",
       "2         0.000400   0.003232    500.0    500         0.001741            0  \n",
       "3         0.006250   0.003232  20000.0  21800         0.001741            0  \n",
       "4         0.003546   0.000135   -644.0    644         0.001741            0  "
      ]
     },
     "execution_count": 7,
     "metadata": {},
     "output_type": "execute_result"
    }
   ],
   "source": [
    "df_trn.head()"
   ]
  },
  {
   "cell_type": "markdown",
   "metadata": {},
   "source": [
    "### Scaling"
   ]
  },
  {
   "cell_type": "code",
   "execution_count": 8,
   "metadata": {},
   "outputs": [],
   "source": [
    "from sklearn.preprocessing import RobustScaler"
   ]
  },
  {
   "cell_type": "code",
   "execution_count": 9,
   "metadata": {},
   "outputs": [],
   "source": [
    "def scaleColumns(data, cols_to_scale, scaler):\n",
    "    for col in cols_to_scale:\n",
    "        data[col] = pd.DataFrame(scaler.fit_transform(pd.DataFrame(data[col])))\n",
    "    return data"
   ]
  },
  {
   "cell_type": "code",
   "execution_count": 10,
   "metadata": {},
   "outputs": [],
   "source": [
    "df_trn = scaleColumns(df_trn, ['Amount', 'Value'], RobustScaler())\n",
    "df_tst = scaleColumns(df_tst, ['Amount', 'Value'], RobustScaler())"
   ]
  },
  {
   "cell_type": "code",
   "execution_count": 11,
   "metadata": {},
   "outputs": [
    {
     "data": {
      "text/html": [
       "<div>\n",
       "<style scoped>\n",
       "    .dataframe tbody tr th:only-of-type {\n",
       "        vertical-align: middle;\n",
       "    }\n",
       "\n",
       "    .dataframe tbody tr th {\n",
       "        vertical-align: top;\n",
       "    }\n",
       "\n",
       "    .dataframe thead th {\n",
       "        text-align: right;\n",
       "    }\n",
       "</style>\n",
       "<table border=\"1\" class=\"dataframe\">\n",
       "  <thead>\n",
       "    <tr style=\"text-align: right;\">\n",
       "      <th></th>\n",
       "      <th>AccountId</th>\n",
       "      <th>SubscriptionId</th>\n",
       "      <th>CustomerId</th>\n",
       "      <th>ProviderId</th>\n",
       "      <th>ProductId</th>\n",
       "      <th>ProductCategory</th>\n",
       "      <th>ChannelId</th>\n",
       "      <th>Amount</th>\n",
       "      <th>Value</th>\n",
       "      <th>PricingStrategy</th>\n",
       "      <th>FraudResult</th>\n",
       "    </tr>\n",
       "  </thead>\n",
       "  <tbody>\n",
       "    <tr>\n",
       "      <th>0</th>\n",
       "      <td>0.000000</td>\n",
       "      <td>0.000000</td>\n",
       "      <td>0.0</td>\n",
       "      <td>0.000088</td>\n",
       "      <td>0.000390</td>\n",
       "      <td>0.000400</td>\n",
       "      <td>0.003232</td>\n",
       "      <td>0.000000</td>\n",
       "      <td>0.000000</td>\n",
       "      <td>0.001741</td>\n",
       "      <td>0</td>\n",
       "    </tr>\n",
       "    <tr>\n",
       "      <th>1</th>\n",
       "      <td>0.000032</td>\n",
       "      <td>0.000031</td>\n",
       "      <td>0.0</td>\n",
       "      <td>0.000131</td>\n",
       "      <td>0.000031</td>\n",
       "      <td>0.003546</td>\n",
       "      <td>0.000135</td>\n",
       "      <td>-0.357895</td>\n",
       "      <td>-0.207407</td>\n",
       "      <td>0.001741</td>\n",
       "      <td>0</td>\n",
       "    </tr>\n",
       "    <tr>\n",
       "      <th>2</th>\n",
       "      <td>0.000000</td>\n",
       "      <td>0.000000</td>\n",
       "      <td>0.0</td>\n",
       "      <td>0.000088</td>\n",
       "      <td>0.000000</td>\n",
       "      <td>0.000400</td>\n",
       "      <td>0.003232</td>\n",
       "      <td>-0.175439</td>\n",
       "      <td>-0.105820</td>\n",
       "      <td>0.001741</td>\n",
       "      <td>0</td>\n",
       "    </tr>\n",
       "    <tr>\n",
       "      <th>3</th>\n",
       "      <td>0.000000</td>\n",
       "      <td>0.000000</td>\n",
       "      <td>0.0</td>\n",
       "      <td>0.010101</td>\n",
       "      <td>0.002646</td>\n",
       "      <td>0.006250</td>\n",
       "      <td>0.003232</td>\n",
       "      <td>6.666667</td>\n",
       "      <td>4.402116</td>\n",
       "      <td>0.001741</td>\n",
       "      <td>0</td>\n",
       "    </tr>\n",
       "    <tr>\n",
       "      <th>4</th>\n",
       "      <td>0.000032</td>\n",
       "      <td>0.000031</td>\n",
       "      <td>0.0</td>\n",
       "      <td>0.000131</td>\n",
       "      <td>0.000031</td>\n",
       "      <td>0.003546</td>\n",
       "      <td>0.000135</td>\n",
       "      <td>-0.576842</td>\n",
       "      <td>-0.075344</td>\n",
       "      <td>0.001741</td>\n",
       "      <td>0</td>\n",
       "    </tr>\n",
       "  </tbody>\n",
       "</table>\n",
       "</div>"
      ],
      "text/plain": [
       "   AccountId  SubscriptionId  CustomerId  ProviderId  ProductId  \\\n",
       "0   0.000000        0.000000         0.0    0.000088   0.000390   \n",
       "1   0.000032        0.000031         0.0    0.000131   0.000031   \n",
       "2   0.000000        0.000000         0.0    0.000088   0.000000   \n",
       "3   0.000000        0.000000         0.0    0.010101   0.002646   \n",
       "4   0.000032        0.000031         0.0    0.000131   0.000031   \n",
       "\n",
       "   ProductCategory  ChannelId    Amount     Value  PricingStrategy  \\\n",
       "0         0.000400   0.003232  0.000000  0.000000         0.001741   \n",
       "1         0.003546   0.000135 -0.357895 -0.207407         0.001741   \n",
       "2         0.000400   0.003232 -0.175439 -0.105820         0.001741   \n",
       "3         0.006250   0.003232  6.666667  4.402116         0.001741   \n",
       "4         0.003546   0.000135 -0.576842 -0.075344         0.001741   \n",
       "\n",
       "   FraudResult  \n",
       "0            0  \n",
       "1            0  \n",
       "2            0  \n",
       "3            0  \n",
       "4            0  "
      ]
     },
     "execution_count": 11,
     "metadata": {},
     "output_type": "execute_result"
    }
   ],
   "source": [
    "df_trn.head()"
   ]
  },
  {
   "cell_type": "code",
   "execution_count": 12,
   "metadata": {},
   "outputs": [],
   "source": [
    "X = df_trn.drop('FraudResult', axis=1)\n",
    "y = df_trn['FraudResult']"
   ]
  },
  {
   "cell_type": "code",
   "execution_count": 13,
   "metadata": {},
   "outputs": [],
   "source": [
    "from sklearn.model_selection import train_test_split"
   ]
  },
  {
   "cell_type": "code",
   "execution_count": 14,
   "metadata": {},
   "outputs": [],
   "source": [
    "X_train, X_test, y_train, y_test = train_test_split(X, y, test_size=0.2, random_state=24, shuffle=y)"
   ]
  },
  {
   "cell_type": "code",
   "execution_count": 15,
   "metadata": {},
   "outputs": [],
   "source": [
    "from collections import Counter"
   ]
  },
  {
   "cell_type": "code",
   "execution_count": 16,
   "metadata": {},
   "outputs": [
    {
     "name": "stdout",
     "output_type": "stream",
     "text": [
      "Train Label Distribution: Counter({0: 76380, 1: 149})\n",
      "Test  Label Distribution: Counter({0: 19089, 1: 44})\n"
     ]
    }
   ],
   "source": [
    "print('Train Label Distribution: {}'.format(Counter(y_train)))\n",
    "print('Test  Label Distribution: {}'.format(Counter(y_test)))"
   ]
  },
  {
   "cell_type": "markdown",
   "metadata": {},
   "source": [
    "## Train"
   ]
  },
  {
   "cell_type": "code",
   "execution_count": 17,
   "metadata": {},
   "outputs": [],
   "source": [
    "# Classifier Libraries\n",
    "from sklearn.naive_bayes import GaussianNB\n",
    "\n",
    "from sklearn.neighbors import KNeighborsClassifier\n",
    "\n",
    "from sklearn.tree import DecisionTreeClassifier\n",
    "\n",
    "from sklearn.linear_model import LogisticRegression\n",
    "from sklearn.svm import SVC\n",
    "\n",
    "from sklearn.ensemble import AdaBoostClassifier\n",
    "from sklearn.ensemble import BaggingClassifier\n",
    "from sklearn.ensemble import ExtraTreesClassifier\n",
    "from sklearn.ensemble import GradientBoostingClassifier\n",
    "from sklearn.ensemble import RandomForestClassifier\n",
    "from sklearn.ensemble import VotingClassifier\n",
    "# explicitly require this experimental feature\n",
    "from sklearn.experimental import enable_hist_gradient_boosting  # noqa\n",
    "# now you can import normally from ensemble\n",
    "from sklearn.ensemble import HistGradientBoostingClassifier\n",
    "\n",
    "from sklearn.gaussian_process import GaussianProcessClassifier\n",
    "from sklearn.gaussian_process.kernels import RBF\n",
    "\n",
    "from sklearn.discriminant_analysis import LinearDiscriminantAnalysis\n",
    "from sklearn.discriminant_analysis import QuadraticDiscriminantAnalysis\n",
    "\n",
    "from sklearn.neural_network import MLPClassifier"
   ]
  },
  {
   "cell_type": "code",
   "execution_count": 23,
   "metadata": {},
   "outputs": [],
   "source": [
    "classifiers = {\n",
    "    'Naive Bayes                       ': GaussianNB(),\n",
    "    'k-Nearest Neighbors               ': KNeighborsClassifier(3),\n",
    "    'Decision Tree Classifier          ': DecisionTreeClassifier(max_depth=5),\n",
    "    'Logisitic Regression              ': LogisticRegression(),\n",
    "    'AdaBoost Classifier               ': AdaBoostClassifier(),\n",
    "    'Bagging Classifier                ': BaggingClassifier(),\n",
    "    'Extra-Trees Classifier            ': ExtraTreesClassifier(),\n",
    "    'Gradient Boosting                 ': GradientBoostingClassifier(),\n",
    "    'Random Forest                     ': RandomForestClassifier(max_depth=5, n_estimators=10, max_features=1),\n",
    "#     'Histogram-based GradBoostClassTree': HistGradientBoostingClassifier(),\n",
    "    'Linear Discriminant Analysis      ': LinearDiscriminantAnalysis(),\n",
    "    'Quadratic Discriminant Analysis   ': QuadraticDiscriminantAnalysis(),\n",
    "    'Multilayer Perceptron             ': MLPClassifier(alpha=1, max_iter=1000)\n",
    "}\n",
    "#     'Voting Classifier              ': VotingClassifier(estimators=[('lr', clf1), ('rf', clf2), ('gnb', clf3)], voting='soft'),"
   ]
  },
  {
   "cell_type": "code",
   "execution_count": 24,
   "metadata": {},
   "outputs": [],
   "source": [
    "from time import time\n",
    "import warnings\n",
    "warnings.filterwarnings(\"ignore\")"
   ]
  },
  {
   "cell_type": "code",
   "execution_count": 25,
   "metadata": {},
   "outputs": [],
   "source": [
    "from sklearn.model_selection import cross_val_score\n",
    "from sklearn.model_selection import cross_validate\n",
    "from sklearn.metrics import precision_score\n",
    "from sklearn.metrics import recall_score\n",
    "from sklearn.metrics import f1_score\n",
    "from sklearn.metrics import roc_auc_score, accuracy_score, classification_report\n",
    "from sklearn.metrics import accuracy_score\n",
    "from sklearn.metrics import classification_report"
   ]
  },
  {
   "cell_type": "code",
   "execution_count": 30,
   "metadata": {},
   "outputs": [
    {
     "name": "stdout",
     "output_type": "stream",
     "text": [
      "Classifiers                            Precision  Recall     F1-score   b_accuracy ROC_AUC   Fit-time\n",
      "Naive Bayes                            0.1505     0.9798     0.2608     0.9845     0.9882     0.0833\n",
      "k-Nearest Neighbors                    0.8896     0.8320     0.8566     0.9159     0.9662     3.1411\n",
      "Decision Tree Classifier               0.8997     0.8926     0.8948     0.9462     0.9761     0.1995\n",
      "Logisitic Regression                   0.7112     0.5106     0.5926     0.7551     0.9991     1.4221\n",
      "AdaBoost Classifier                    0.8959     0.8726     0.8805     0.9362     0.9995     5.2598\n",
      "Bagging Classifier                     0.8862     0.8791     0.8820     0.9394     0.9629     1.3518\n",
      "Extra-Trees Classifier                 0.8890     0.8526     0.8698     0.9262     0.9730     0.5628\n",
      "Gradient Boosting                      0.7468     0.6894     0.7087     0.8445     0.7661    13.6239\n",
      "Random Forest                          0.8727     0.6837     0.7558     0.8417     0.9906     0.4136\n",
      "Linear Discriminant Analysis           0.6310     0.6515     0.6383     0.8254     0.9990     0.7088\n",
      "Quadratic Discriminant Analysis        0.1583     0.9664     0.2713     0.9781     0.9717     0.2147\n",
      "Multilayer Perceptron                  0.6204     0.3216     0.4065     0.6605     0.9900    43.3618\n"
     ]
    }
   ],
   "source": [
    "# iterate over classifiers\n",
    "print('Classifiers                            Precision  Recall     F1-score   b_accuracy ROC_AUC    Fit-time')\n",
    "for name, classifier in classifiers.items():\n",
    "    classifier.fit(X_train, y_train)\n",
    "    cv_results = cross_validate(classifier, X_train.value, y_train.value,\n",
    "                                scoring=('precision', 'recall', 'f1', 'balanced_accuracy', 'roc_auc'),\n",
    "                                cv=5, n_jobs=-1)\n",
    "\n",
    "    precision    = cv_results['test_precision'].mean()\n",
    "    recall       = cv_results['test_recall'].mean()\n",
    "    f1           = cv_results['test_f1'].mean()\n",
    "    bal_accuracy = cv_results['test_balanced_accuracy'].mean()\n",
    "    roc_auc      = cv_results['test_roc_auc'].mean()\n",
    "    fit_time     = cv_results['fit_time'].sum()\n",
    "    print('%s %10.4f %10.4f %10.4f %10.4f %10.4f %10.4f' % \n",
    "          (name, precision, recall, f1, bal_accuracy, roc_auc, fit_time))"
   ]
  },
  {
   "cell_type": "markdown",
   "metadata": {},
   "source": [
    "**Old Results (Fields `Amount` and `Value` only)**"
   ]
  },
  {
   "cell_type": "code",
   "execution_count": 38,
   "metadata": {},
   "outputs": [
    {
     "name": "stdout",
     "output_type": "stream",
     "text": [
      "Classifiers \t\t\t Precision \t Recall \t F1-score \t Fit-time\n",
      "Naive Bayes                        0.33918  \t 0.91862  \t 0.49315  \t 0.14\n",
      "k-Nearest Neighbors                0.92856  \t 0.78414  \t 0.84204  \t 1.51\n",
      "Decision Tree Classifier           0.95122  \t 0.79793  \t 0.86306  \t 0.19\n",
      "Logisitic Regression               0.6549  \t 0.30207  \t 0.40272  \t 0.51\n",
      "AdaBoost Classifier                0.972  \t 0.77126  \t 0.8561  \t 4.7\n",
      "Bagging Classifier                 0.9343  \t 0.77793  \t 0.84449  \t 1.22\n",
      "Extra-Trees Classifier             0.94058  \t 0.7977  \t 0.85633  \t 0.44\n",
      "Gradient Boosting                  0.76201  \t 0.45793  \t 0.52727  \t 7.34\n",
      "Random Forest                      0.95052  \t 0.79126  \t 0.85891  \t 0.78\n",
      "Histogram-based GradBoostClassTree 0.0  \t 0.0  \t 0.0  \t 2.23\n",
      "Linear Discriminant Analysis       0.53255  \t 0.40253  \t 0.45522  \t 0.16\n",
      "Quadratic Discriminant Analysis    0.25181  \t 0.89839  \t 0.39199  \t 0.06\n",
      "Multilayer Perceptron              0.5109  \t 0.36207  \t 0.42073  \t 37.82\n"
     ]
    }
   ],
   "source": [
    "# iterate over classifiers\n",
    "print('Classifiers \\t\\t\\t Precision \\t Recall \\t F1-score \\t Fit-time')\n",
    "for name, classifier in classifiers.items():\n",
    "    classifier.fit(X_train, y_train)\n",
    "    cv_results = cross_validate(classifier, X_train.values, y_train.values, scoring=('precision', 'recall', 'f1'), cv=5, n_jobs=-1)\n",
    "    print(name,\n",
    "          round(cv_results['test_precision'].mean(), 5), ' \\t',\n",
    "          round(cv_results['test_recall'].mean(),    5), ' \\t',\n",
    "          round(cv_results['test_f1'].mean(),        5), ' \\t',\n",
    "          round(cv_results['fit_time'].sum(),        2))"
   ]
  },
  {
   "cell_type": "code",
   "execution_count": 73,
   "metadata": {},
   "outputs": [
    {
     "name": "stdout",
     "output_type": "stream",
     "text": [
      "Classifiers \t\t\t Precision \t Recall \t F1-score \t Fit-time\n",
      "Naive Bayes                        0.3392  \t 0.9186  \t 0.4932  \t 0.13\n",
      "k-Nearest Neighbors                0.9286  \t 0.7841  \t 0.842  \t 1.51\n",
      "Decision Tree Classifier           0.9512  \t 0.7979  \t 0.8631  \t 0.18\n",
      "Logisitic Regression               0.6549  \t 0.3021  \t 0.4027  \t 0.49\n",
      "AdaBoost Classifier                0.972  \t 0.7713  \t 0.8561  \t 4.32\n",
      "Bagging Classifier                 0.9515  \t 0.7977  \t 0.8622  \t 1.19\n",
      "Extra-Trees Classifier             0.9515  \t 0.7977  \t 0.8622  \t 0.44\n",
      "Gradient Boosting                  0.762  \t 0.4579  \t 0.5273  \t 6.42\n",
      "Random Forest                      0.9515  \t 0.8046  \t 0.8671  \t 0.72\n",
      "Histogram-based GradBoostClassTree 0.0  \t 0.0  \t 0.0  \t 2.15\n",
      "Linear Discriminant Analysis       0.5326  \t 0.4025  \t 0.4552  \t 0.2\n",
      "Quadratic Discriminant Analysis    0.2518  \t 0.8984  \t 0.392  \t 0.05\n",
      "Multilayer Perceptron              0.6456  \t 0.2821  \t 0.3792  \t 40.58\n"
     ]
    }
   ],
   "source": [
    "# iterate over classifiers\n",
    "print('Classifiers \\t\\t\\t Precision \\t Recall \\t F1-score \\t Fit-time')\n",
    "for name, classifier in classifiers.items():\n",
    "    classifier.fit(X_train, y_train)\n",
    "    cv_results = cross_validate(classifier, X_train, y_train,\n",
    "                                scoring=('precision', 'recall', 'f1'), cv=5, n_jobs=-1)\n",
    "\n",
    "    print(name,\n",
    "          round(cv_results['test_precision'].mean(), 4), ' \\t',\n",
    "          round(cv_results['test_recall'].mean(),    4), ' \\t',\n",
    "          round(cv_results['test_f1'].mean(),        4), ' \\t',\n",
    "          round(cv_results['fit_time'].sum(),        2))"
   ]
  },
  {
   "cell_type": "markdown",
   "metadata": {},
   "source": [
    "## Test"
   ]
  },
  {
   "cell_type": "code",
   "execution_count": 32,
   "metadata": {},
   "outputs": [],
   "source": [
    "from sklearn.metrics import confusion_matrix\n",
    "from sklearn.metrics import precision_score\n",
    "from sklearn.metrics import recall_score\n",
    "from sklearn.metrics import f1_score\n",
    "from sklearn.metrics import balanced_accuracy_score\n",
    "from sklearn.metrics import roc_auc_score"
   ]
  },
  {
   "cell_type": "markdown",
   "metadata": {},
   "source": [
    "$Precision = \\frac{TP}{TP+FP}$\n",
    "\n",
    "$Recall = \\frac{TP}{TP+FN}$\n",
    "\n",
    "$F1 = 2\\cdot\\frac{Precision\\cdot{Recall}}{Precision+Recall}$"
   ]
  },
  {
   "attachments": {
    "Confusion-matrix-for-binary-classification.png": {
     "image/png": "[encoded data removed]"
    }
   },
   "cell_type": "markdown",
   "metadata": {},
   "source": [
    "![Confusion-matrix-for-binary-classification.png](attachment:Confusion-matrix-for-binary-classification.png)"
   ]
  },
  {
   "cell_type": "code",
   "execution_count": 44,
   "metadata": {},
   "outputs": [
    {
     "name": "stdout",
     "output_type": "stream",
     "text": [
      "                              Confusion-Matrix\n",
      "Classifiers                           TN    FP\n",
      "                                      FN    TP   Precision    Recall     F1-score   b_accuracy ROC_AUC\n",
      "=========================================================================================================\n",
      "                                   18902   187\n",
      "Naive Bayes                            0    44     0.1905     1.0000     0.3200     0.9951     0.9951\n",
      "                                   19088     1\n",
      "k-Nearest Neighbors                    4    40     0.9756     0.9091     0.9412     0.9545     0.9545\n",
      "                                   19085     4\n",
      "Decision Tree Classifier               2    42     0.9130     0.9545     0.9333     0.9772     0.9772\n",
      "                                   19084     5\n",
      "Logisitic Regression                  18    26     0.8387     0.5909     0.6933     0.7953     0.7953\n",
      "                                   19086     3\n",
      "AdaBoost Classifier                    3    41     0.9318     0.9318     0.9318     0.9658     0.9658\n",
      "                                   19083     6\n",
      "Bagging Classifier                     3    41     0.8723     0.9318     0.9011     0.9658     0.9658\n",
      "                                   19083     6\n",
      "Extra-Trees Classifier                 6    38     0.8636     0.8636     0.8636     0.9317     0.9317\n",
      "                                   19083     6\n",
      "Gradient Boosting                     17    27     0.8182     0.6136     0.7013     0.8067     0.8067\n",
      "                                   19088     1\n",
      "Random Forest                          9    35     0.9722     0.7955     0.8750     0.8977     0.8977\n",
      "                                   19077    12\n",
      "Linear Discriminant Analysis          14    30     0.7143     0.6818     0.6977     0.8406     0.8406\n",
      "                                   18907   182\n",
      "Quadratic Discriminant Analysis        0    44     0.1947     1.0000     0.3259     0.9952     0.9952\n",
      "                                   19083     6\n",
      "Multilayer Perceptron                 22    22     0.7857     0.5000     0.6111     0.7498     0.7498\n"
     ]
    }
   ],
   "source": [
    "# iterate over classifiers\n",
    "print(' '*29, 'Confusion-Matrix')\n",
    "print('Classifiers', ' '*25, 'TN    FP')\n",
    "print(' '*37, 'FN    TP   Precision    Recall     F1-score   b_accuracy ROC_AUC')\n",
    "print('=' * 105)\n",
    "for name, classifier in classifiers.items():\n",
    "    classifier.fit(X_train, y_train)\n",
    "    predict = classifier.predict(X_test)\n",
    "\n",
    "    tn, fp, fn, tp    = confusion_matrix(y_test, predict).ravel()\n",
    "    precision         = precision_score(y_test, predict)\n",
    "    recall            = recall_score(y_test, predict)    \n",
    "    f1                = f1_score(y_test, predict)\n",
    "    balanced_accuracy = balanced_accuracy_score(y_test, predict)\n",
    "    roc_auc           = roc_auc_score(y_test, predict)\n",
    "\n",
    "    print('%s %5i %5i'                                    % (' '*34, tn, fp))\n",
    "    print('%s %5i %5i %10.4f %10.4f %10.4f %10.4f %10.4f' % (name, fn, tp, precision, recall, f1, balanced_accuracy, roc_auc))\n",
    "#     print('-'*110)"
   ]
  },
  {
   "cell_type": "markdown",
   "metadata": {},
   "source": [
    "**Old Results (Fields `Amount` and `Value` only)**"
   ]
  },
  {
   "cell_type": "code",
   "execution_count": 80,
   "metadata": {},
   "outputs": [
    {
     "name": "stdout",
     "output_type": "stream",
     "text": [
      "Classifiers \t\t\t      TN    FP    FN    TP   Precision    Recall     F1-score\n",
      "----------------------------------------------------------------------------------------------------\n",
      "Naive Bayes                        19026    63     2    42     0.4000     0.9545     0.5638\n",
      "k-Nearest Neighbors                19086     3     3    41     0.9318     0.9318     0.9318\n",
      "Decision Tree Classifier           19089     0     6    38     1.0000     0.8636     0.9268\n",
      "Logisitic Regression               19086     3    30    14     0.8235     0.3182     0.4590\n",
      "AdaBoost Classifier                19089     0     7    37     1.0000     0.8409     0.9136\n",
      "Bagging Classifier                 19089     0     6    38     1.0000     0.8636     0.9268\n",
      "Extra-Trees Classifier             19089     0     6    38     1.0000     0.8636     0.9268\n",
      "Gradient Boosting                  19083     6    28    16     0.7273     0.3636     0.4848\n",
      "Random Forest                      19089     0     6    38     1.0000     0.8636     0.9268\n",
      "Histogram-based GradBoostClassTree 19040    49    42     2     0.0392     0.0455     0.0421\n",
      "Linear Discriminant Analysis       19083     6    23    21     0.7778     0.4773     0.5915\n",
      "Quadratic Discriminant Analysis    19014    75     2    42     0.3590     0.9545     0.5217\n",
      "Multilayer Perceptron              19083     6    29    15     0.7143     0.3409     0.4615\n"
     ]
    }
   ],
   "source": [
    "# iterate over classifiers\n",
    "print('Classifiers \\t\\t\\t     TN     FP    FN    TP   Precision    Recall     F1-score')\n",
    "print('-' * 95)\n",
    "for name, classifier in classifiers.items():\n",
    "    classifier.fit(X_train, y_train)\n",
    "    predict = classifier.predict(X_test)\n",
    "\n",
    "    tn, fp, fn, tp = confusion_matrix(y_test, predict).ravel()\n",
    "    precision      = precision_score(y_test, predict)\n",
    "    recall         = recall_score(y_test, predict)\n",
    "    f1             = f1_score(y_test, predict)\n",
    "\n",
    "    print('%s %5i %5i %5i %5i %10.4f %10.4f %10.4f' % (name, tn, fp, fn, tp, precision, recall, f1))"
   ]
  },
  {
   "cell_type": "markdown",
   "metadata": {},
   "source": [
    "## Submitting"
   ]
  },
  {
   "cell_type": "code",
   "execution_count": 45,
   "metadata": {},
   "outputs": [
    {
     "data": {
      "text/html": [
       "<div>\n",
       "<style scoped>\n",
       "    .dataframe tbody tr th:only-of-type {\n",
       "        vertical-align: middle;\n",
       "    }\n",
       "\n",
       "    .dataframe tbody tr th {\n",
       "        vertical-align: top;\n",
       "    }\n",
       "\n",
       "    .dataframe thead th {\n",
       "        text-align: right;\n",
       "    }\n",
       "</style>\n",
       "<table border=\"1\" class=\"dataframe\">\n",
       "  <thead>\n",
       "    <tr style=\"text-align: right;\">\n",
       "      <th></th>\n",
       "      <th>AccountId</th>\n",
       "      <th>SubscriptionId</th>\n",
       "      <th>CustomerId</th>\n",
       "      <th>ProviderId</th>\n",
       "      <th>ProductId</th>\n",
       "      <th>ProductCategory</th>\n",
       "      <th>ChannelId</th>\n",
       "      <th>Amount</th>\n",
       "      <th>Value</th>\n",
       "      <th>PricingStrategy</th>\n",
       "    </tr>\n",
       "  </thead>\n",
       "  <tbody>\n",
       "    <tr>\n",
       "      <th>0</th>\n",
       "      <td>0.000000</td>\n",
       "      <td>0.000000</td>\n",
       "      <td>0.0</td>\n",
       "      <td>0.000088</td>\n",
       "      <td>0.000390</td>\n",
       "      <td>0.000400</td>\n",
       "      <td>0.003232</td>\n",
       "      <td>0.000000</td>\n",
       "      <td>0.000000</td>\n",
       "      <td>0.001741</td>\n",
       "    </tr>\n",
       "    <tr>\n",
       "      <th>1</th>\n",
       "      <td>0.000032</td>\n",
       "      <td>0.000031</td>\n",
       "      <td>0.0</td>\n",
       "      <td>0.000131</td>\n",
       "      <td>0.000031</td>\n",
       "      <td>0.003546</td>\n",
       "      <td>0.000135</td>\n",
       "      <td>-0.357895</td>\n",
       "      <td>-0.207407</td>\n",
       "      <td>0.001741</td>\n",
       "    </tr>\n",
       "    <tr>\n",
       "      <th>2</th>\n",
       "      <td>0.000000</td>\n",
       "      <td>0.000000</td>\n",
       "      <td>0.0</td>\n",
       "      <td>0.000088</td>\n",
       "      <td>0.000000</td>\n",
       "      <td>0.000400</td>\n",
       "      <td>0.003232</td>\n",
       "      <td>-0.175439</td>\n",
       "      <td>-0.105820</td>\n",
       "      <td>0.001741</td>\n",
       "    </tr>\n",
       "    <tr>\n",
       "      <th>3</th>\n",
       "      <td>0.000000</td>\n",
       "      <td>0.000000</td>\n",
       "      <td>0.0</td>\n",
       "      <td>0.010101</td>\n",
       "      <td>0.002646</td>\n",
       "      <td>0.006250</td>\n",
       "      <td>0.003232</td>\n",
       "      <td>6.666667</td>\n",
       "      <td>4.402116</td>\n",
       "      <td>0.001741</td>\n",
       "    </tr>\n",
       "    <tr>\n",
       "      <th>4</th>\n",
       "      <td>0.000032</td>\n",
       "      <td>0.000031</td>\n",
       "      <td>0.0</td>\n",
       "      <td>0.000131</td>\n",
       "      <td>0.000031</td>\n",
       "      <td>0.003546</td>\n",
       "      <td>0.000135</td>\n",
       "      <td>-0.576842</td>\n",
       "      <td>-0.075344</td>\n",
       "      <td>0.001741</td>\n",
       "    </tr>\n",
       "  </tbody>\n",
       "</table>\n",
       "</div>"
      ],
      "text/plain": [
       "   AccountId  SubscriptionId  CustomerId  ProviderId  ProductId  \\\n",
       "0   0.000000        0.000000         0.0    0.000088   0.000390   \n",
       "1   0.000032        0.000031         0.0    0.000131   0.000031   \n",
       "2   0.000000        0.000000         0.0    0.000088   0.000000   \n",
       "3   0.000000        0.000000         0.0    0.010101   0.002646   \n",
       "4   0.000032        0.000031         0.0    0.000131   0.000031   \n",
       "\n",
       "   ProductCategory  ChannelId    Amount     Value  PricingStrategy  \n",
       "0         0.000400   0.003232  0.000000  0.000000         0.001741  \n",
       "1         0.003546   0.000135 -0.357895 -0.207407         0.001741  \n",
       "2         0.000400   0.003232 -0.175439 -0.105820         0.001741  \n",
       "3         0.006250   0.003232  6.666667  4.402116         0.001741  \n",
       "4         0.003546   0.000135 -0.576842 -0.075344         0.001741  "
      ]
     },
     "execution_count": 45,
     "metadata": {},
     "output_type": "execute_result"
    }
   ],
   "source": [
    "X.head()"
   ]
  },
  {
   "cell_type": "code",
   "execution_count": 46,
   "metadata": {},
   "outputs": [
    {
     "data": {
      "text/html": [
       "<div>\n",
       "<style scoped>\n",
       "    .dataframe tbody tr th:only-of-type {\n",
       "        vertical-align: middle;\n",
       "    }\n",
       "\n",
       "    .dataframe tbody tr th {\n",
       "        vertical-align: top;\n",
       "    }\n",
       "\n",
       "    .dataframe thead th {\n",
       "        text-align: right;\n",
       "    }\n",
       "</style>\n",
       "<table border=\"1\" class=\"dataframe\">\n",
       "  <thead>\n",
       "    <tr style=\"text-align: right;\">\n",
       "      <th></th>\n",
       "      <th>AccountId</th>\n",
       "      <th>SubscriptionId</th>\n",
       "      <th>CustomerId</th>\n",
       "      <th>ProviderId</th>\n",
       "      <th>ProductId</th>\n",
       "      <th>ProductCategory</th>\n",
       "      <th>ChannelId</th>\n",
       "      <th>Amount</th>\n",
       "      <th>Value</th>\n",
       "      <th>PricingStrategy</th>\n",
       "    </tr>\n",
       "  </thead>\n",
       "  <tbody>\n",
       "    <tr>\n",
       "      <th>0</th>\n",
       "      <td>0.000000</td>\n",
       "      <td>0.000000</td>\n",
       "      <td>0.0</td>\n",
       "      <td>0.004401</td>\n",
       "      <td>0.000493</td>\n",
       "      <td>0.000400</td>\n",
       "      <td>0.003232</td>\n",
       "      <td>0.000000</td>\n",
       "      <td>-0.042553</td>\n",
       "      <td>0.000811</td>\n",
       "    </tr>\n",
       "    <tr>\n",
       "      <th>1</th>\n",
       "      <td>0.000000</td>\n",
       "      <td>0.000000</td>\n",
       "      <td>0.0</td>\n",
       "      <td>0.004401</td>\n",
       "      <td>0.013123</td>\n",
       "      <td>0.003546</td>\n",
       "      <td>0.003232</td>\n",
       "      <td>0.198020</td>\n",
       "      <td>0.170213</td>\n",
       "      <td>0.001741</td>\n",
       "    </tr>\n",
       "    <tr>\n",
       "      <th>2</th>\n",
       "      <td>0.000032</td>\n",
       "      <td>0.000031</td>\n",
       "      <td>0.0</td>\n",
       "      <td>0.000131</td>\n",
       "      <td>0.000031</td>\n",
       "      <td>0.003546</td>\n",
       "      <td>0.000135</td>\n",
       "      <td>-0.207921</td>\n",
       "      <td>-0.244681</td>\n",
       "      <td>0.001741</td>\n",
       "    </tr>\n",
       "    <tr>\n",
       "      <th>3</th>\n",
       "      <td>0.000000</td>\n",
       "      <td>0.000000</td>\n",
       "      <td>0.0</td>\n",
       "      <td>0.004401</td>\n",
       "      <td>0.000390</td>\n",
       "      <td>0.000400</td>\n",
       "      <td>0.003232</td>\n",
       "      <td>0.396040</td>\n",
       "      <td>0.382979</td>\n",
       "      <td>0.000811</td>\n",
       "    </tr>\n",
       "    <tr>\n",
       "      <th>4</th>\n",
       "      <td>0.000032</td>\n",
       "      <td>0.000031</td>\n",
       "      <td>0.0</td>\n",
       "      <td>0.000131</td>\n",
       "      <td>0.000031</td>\n",
       "      <td>0.003546</td>\n",
       "      <td>0.000135</td>\n",
       "      <td>-0.209901</td>\n",
       "      <td>-0.242553</td>\n",
       "      <td>0.001741</td>\n",
       "    </tr>\n",
       "  </tbody>\n",
       "</table>\n",
       "</div>"
      ],
      "text/plain": [
       "   AccountId  SubscriptionId  CustomerId  ProviderId  ProductId  \\\n",
       "0   0.000000        0.000000         0.0    0.004401   0.000493   \n",
       "1   0.000000        0.000000         0.0    0.004401   0.013123   \n",
       "2   0.000032        0.000031         0.0    0.000131   0.000031   \n",
       "3   0.000000        0.000000         0.0    0.004401   0.000390   \n",
       "4   0.000032        0.000031         0.0    0.000131   0.000031   \n",
       "\n",
       "   ProductCategory  ChannelId    Amount     Value  PricingStrategy  \n",
       "0         0.000400   0.003232  0.000000 -0.042553         0.000811  \n",
       "1         0.003546   0.003232  0.198020  0.170213         0.001741  \n",
       "2         0.003546   0.000135 -0.207921 -0.244681         0.001741  \n",
       "3         0.000400   0.003232  0.396040  0.382979         0.000811  \n",
       "4         0.003546   0.000135 -0.209901 -0.242553         0.001741  "
      ]
     },
     "execution_count": 46,
     "metadata": {},
     "output_type": "execute_result"
    }
   ],
   "source": [
    "df_tst.head()"
   ]
  },
  {
   "cell_type": "code",
   "execution_count": 47,
   "metadata": {},
   "outputs": [],
   "source": [
    "classifiers = {\n",
    "#     'Naive Bayes                       ': GaussianNB(),\n",
    "    'k-Nearest Neighbors               ': KNeighborsClassifier(3),\n",
    "    'Decision Tree Classifier          ': DecisionTreeClassifier(max_depth=5),\n",
    "    'Logisitic Regression              ': LogisticRegression(),\n",
    "    'AdaBoost Classifier               ': AdaBoostClassifier(),\n",
    "    'Bagging Classifier                ': BaggingClassifier(),\n",
    "    'Extra-Trees Classifier            ': ExtraTreesClassifier(),\n",
    "    'Gradient Boosting                 ': GradientBoostingClassifier(),\n",
    "    'Random Forest                     ': RandomForestClassifier(max_depth=5, n_estimators=10, max_features=1),\n",
    "#     'Histogram-based GradBoostClassTree': HistGradientBoostingClassifier(),\n",
    "    'Linear Discriminant Analysis      ': LinearDiscriminantAnalysis(),\n",
    "#     'Quadratic Discriminant Analysis   ': QuadraticDiscriminantAnalysis(),\n",
    "    'Multilayer Perceptron             ': MLPClassifier(alpha=1, max_iter=1000)\n",
    "}"
   ]
  },
  {
   "cell_type": "code",
   "execution_count": 48,
   "metadata": {},
   "outputs": [
    {
     "name": "stdout",
     "output_type": "stream",
     "text": [
      "k-Nearest Neighbors                : Counter({0: 44975, 1: 44})\n",
      "Decision Tree Classifier           : Counter({0: 44969, 1: 50})\n",
      "Logisitic Regression               : Counter({0: 44994, 1: 25})\n",
      "AdaBoost Classifier                : Counter({0: 45015, 1: 4})\n",
      "Bagging Classifier                 : Counter({0: 44954, 1: 65})\n",
      "Extra-Trees Classifier             : Counter({0: 45008, 1: 11})\n",
      "Gradient Boosting                  : Counter({0: 44956, 1: 63})\n",
      "Random Forest                      : Counter({0: 45015, 1: 4})\n",
      "Linear Discriminant Analysis       : Counter({0: 44992, 1: 27})\n",
      "Multilayer Perceptron              : Counter({0: 44972, 1: 47})\n"
     ]
    }
   ],
   "source": [
    "for name, classifier in classifiers.items():\n",
    "    classifier.fit(X, y)\n",
    "    predict = classifier.predict(df_tst)\n",
    "\n",
    "    print(name, ':', Counter(predict))\n",
    "    df_sbm['FraudResult'] = predict\n",
    "    df_sbm.to_csv('../submitted/AlBo0717_' + name.rstrip().replace(' ', '_') + '.csv', encoding='utf-8', index=False)"
   ]
  },
  {
   "cell_type": "markdown",
   "metadata": {},
   "source": [
    "## Results on ZINDI\n",
    "- `k-Nearest Neighbors                : 0.52               down`\n",
    "- `Decision Tree Classifier           : 0.583333333333333  stay`\n",
    "- `Logisitic Regression               : 0.390243902439024  down`\n",
    "- `AdaBoost Classifier                : 0.0740740740740741 down`\n",
    "- `Bagging Classifier                 : 0.642857142857143  down` \n",
    "- `Extra-Trees Classifier             : 0.3125             down`\n",
    "- `Gradient Boosting                  : 0.654545454545455    up` === 1-st place === \n",
    "- `Random Forest                      : 0.0740740740740741 down`\n",
    "- `Linear Discriminant Analysis       : 0.428571428571429  down`\n",
    "- `Multilayer Perceptron              : 0.549019607843137    up`"
   ]
  },
  {
   "cell_type": "markdown",
   "metadata": {},
   "source": [
    "**Old Results (Fields `Amount` and `Value` only)**"
   ]
  },
  {
   "cell_type": "code",
   "execution_count": 89,
   "metadata": {},
   "outputs": [
    {
     "name": "stdout",
     "output_type": "stream",
     "text": [
      "k-Nearest Neighbors                : Counter({0: 44972, 1: 47})\n",
      "Decision Tree Classifier           : Counter({0: 44969, 1: 50})\n",
      "Logisitic Regression               : Counter({0: 44971, 1: 48})\n",
      "AdaBoost Classifier                : Counter({0: 44965, 1: 54})\n",
      "Bagging Classifier                 : Counter({0: 44946, 1: 73})\n",
      "Extra-Trees Classifier             : Counter({0: 44967, 1: 52})\n",
      "Gradient Boosting                  : Counter({0: 45001, 1: 18})\n",
      "Random Forest                      : Counter({0: 44926, 1: 93})\n",
      "Linear Discriminant Analysis       : Counter({0: 44968, 1: 51})\n",
      "Multilayer Perceptron              : Counter({0: 44994, 1: 25})\n"
     ]
    }
   ],
   "source": [
    "for name, classifier in classifiers.items():\n",
    "    classifier.fit(X, y)\n",
    "    predict = classifier.predict(df_tst)\n",
    "\n",
    "    print(name, ':', Counter(predict))\n",
    "    df_sbm['FraudResult'] = predict\n",
    "    df_sbm.to_csv('../submitted/AlBo0713_' + name.rstrip().replace(' ', '_') + '.csv', encoding='utf-8', index=False)"
   ]
  },
  {
   "cell_type": "markdown",
   "metadata": {},
   "source": [
    "## Results on ZINDI\n",
    "- 'k-Nearest Neighbors               ': 0.549019607843137\n",
    "- 'Decision Tree Classifier          ': 0.583333333333333\n",
    "- 'Logisitic Regression              ': 0.528301886792453\n",
    "- 'AdaBoost Classifier               ': 0.6\n",
    "- 'Bagging Classifier                ': 0.688524590163934\n",
    "- 'Extra-Trees Classifier            ': 0.592592592592593\n",
    "- 'Gradient Boosting                 ': 0.4\n",
    "- 'Random Forest                     ': 0.694444444444444 === 1-st place ===\n",
    "- 'Linear Discriminant Analysis      ': 0.555555555555556\n",
    "- 'Multilayer Perceptron             ': 0.512820512820513"
   ]
  },
  {
   "cell_type": "code",
   "execution_count": null,
   "metadata": {},
   "outputs": [],
   "source": []
  },
  {
   "cell_type": "code",
   "execution_count": null,
   "metadata": {},
   "outputs": [],
   "source": []
  },
  {
   "cell_type": "code",
   "execution_count": null,
   "metadata": {},
   "outputs": [],
   "source": []
  },
  {
   "cell_type": "code",
   "execution_count": null,
   "metadata": {},
   "outputs": [],
   "source": [
    "classifiers_sc = {\n",
    "    'Support Vector Classifier, Linear': SVC(kernel=\"linear\", C=0.025),\n",
    "    'Support Vector Classifier, RBF   ': SVC(kernel=\"rbf\", gamma=2, C=1),\n",
    "}"
   ]
  },
  {
   "cell_type": "code",
   "execution_count": null,
   "metadata": {},
   "outputs": [],
   "source": [
    "# iterate over classifiers_sc\n",
    "print('Classifiers \\t\\t Cross_val_score \\t Time')\n",
    "for name, classifier in classifiers_sc.items():\n",
    "    tac = time()\n",
    "    classifier.fit(X_sc_train, y_sc_train)\n",
    "    training_score = cross_val_score(classifier, X_sc_train, y_sc_train, cv=5)\n",
    "    tic = time()\n",
    "    print(name, round(training_score.mean(), 5), ' \\t', round(tic-tac, 2))"
   ]
  },
  {
   "cell_type": "code",
   "execution_count": null,
   "metadata": {},
   "outputs": [],
   "source": []
  },
  {
   "cell_type": "code",
   "execution_count": null,
   "metadata": {},
   "outputs": [],
   "source": []
  },
  {
   "cell_type": "code",
   "execution_count": 41,
   "metadata": {},
   "outputs": [],
   "source": [
    "from sklearn.metrics import make_scorer"
   ]
  },
  {
   "cell_type": "code",
   "execution_count": 42,
   "metadata": {},
   "outputs": [],
   "source": [
    "def tn(y_true, y_pred): return confusion_matrix(y_true, y_pred)[0, 0]\n",
    "def fp(y_true, y_pred): return confusion_matrix(y_true, y_pred)[0, 1]\n",
    "def fn(y_true, y_pred): return confusion_matrix(y_true, y_pred)[1, 0]\n",
    "def tp(y_true, y_pred): return confusion_matrix(y_true, y_pred)[1, 1]\n",
    "scoring = {'tp': make_scorer(tp),\n",
    "           'tn': make_scorer(tn),\n",
    "           'fp': make_scorer(fp),\n",
    "           'fn': make_scorer(fn)}"
   ]
  },
  {
   "cell_type": "code",
   "execution_count": null,
   "metadata": {},
   "outputs": [],
   "source": [
    "cv_results = cross_validate(svm.fit(X, y), X, y, scoring=scoring, cv=5)\n",
    "# Getting the test set true positive scores\n",
    "print(cv_results['test_tp'])  \n",
    "\n",
    "# Getting the test set false negative scores\n",
    "print(cv_results['test_fn'])  "
   ]
  },
  {
   "cell_type": "code",
   "execution_count": null,
   "metadata": {},
   "outputs": [],
   "source": []
  },
  {
   "cell_type": "code",
   "execution_count": null,
   "metadata": {},
   "outputs": [],
   "source": [
    "# We will undersample during cross validating\n",
    "undersample_X = df.drop('Class', axis=1)\n",
    "undersample_y = df['Class']\n",
    "\n",
    "for train_index, test_index in sss.split(undersample_X, undersample_y):\n",
    "    print(\"Train:\", train_index, \"Test:\", test_index)\n",
    "    undersample_Xtrain, undersample_Xtest = undersample_X.iloc[train_index], undersample_X.iloc[test_index]\n",
    "    undersample_ytrain, undersample_ytest = undersample_y.iloc[train_index], undersample_y.iloc[test_index]\n",
    "    \n",
    "undersample_Xtrain = undersample_Xtrain.values\n",
    "undersample_Xtest = undersample_Xtest.values\n",
    "undersample_ytrain = undersample_ytrain.values\n",
    "undersample_ytest = undersample_ytest.values \n",
    "\n",
    "undersample_accuracy = []\n",
    "undersample_precision = []\n",
    "undersample_recall = []\n",
    "undersample_f1 = []\n",
    "undersample_auc = []\n",
    "\n",
    "# Implementing NearMiss Technique \n",
    "# Distribution of NearMiss (Just to see how it distributes the labels we won't use these variables)\n",
    "X_nearmiss, y_nearmiss = NearMiss().fit_sample(undersample_X.values, undersample_y.values)\n",
    "print('NearMiss Label Distribution: {}'.format(Counter(y_nearmiss)))\n",
    "# Cross Validating the right way\n",
    "\n",
    "for train, test in sss.split(undersample_Xtrain, undersample_ytrain):\n",
    "    undersample_pipeline = imbalanced_make_pipeline(NearMiss(sampling_strategy='majority'), log_reg) # SMOTE happens during Cross Validation not before..\n",
    "    undersample_model = undersample_pipeline.fit(undersample_Xtrain[train], undersample_ytrain[train])\n",
    "    undersample_prediction = undersample_model.predict(undersample_Xtrain[test])\n",
    "    \n",
    "    undersample_accuracy.append(undersample_pipeline.score(original_Xtrain[test], original_ytrain[test]))\n",
    "    undersample_precision.append(precision_score(original_ytrain[test], undersample_prediction))\n",
    "    undersample_recall.append(recall_score(original_ytrain[test], undersample_prediction))\n",
    "    undersample_f1.append(f1_score(original_ytrain[test], undersample_prediction))\n",
    "    undersample_auc.append(roc_auc_score(original_ytrain[test], undersample_prediction))"
   ]
  }
 ],
 "metadata": {
  "kernelspec": {
   "display_name": "Python 3",
   "language": "python",
   "name": "python3"
  },
  "language_info": {
   "codemirror_mode": {
    "name": "ipython",
    "version": 3
   },
   "file_extension": ".py",
   "mimetype": "text/x-python",
   "name": "python",
   "nbconvert_exporter": "python",
   "pygments_lexer": "ipython3",
   "version": "3.7.1"
  }
 },
 "nbformat": 4,
 "nbformat_minor": 2
}
