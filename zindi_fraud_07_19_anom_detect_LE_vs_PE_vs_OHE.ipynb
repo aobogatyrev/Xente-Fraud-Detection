{
 "cells": [
  {
   "cell_type": "markdown",
   "metadata": {},
   "source": [
    "# Анализ влияния LE, PE, OHE кодирования на предсказательную способность anomaly-detection-моделей"
   ]
  },
  {
   "cell_type": "markdown",
   "metadata": {},
   "source": [
    "- Задача поиска аномалий (unsupervised)\n",
    "- рассматриваются моделе: OCSVM, IF, EE, LOF\n",
    "- поля `ProviderId`, `ProductId`, `ProductCategory`, `ChannelId`, `Amount`, `Value`, `PricingStrategy`\n",
    "- сравниваем результаты LE-кодирования, LE-кодирования со скейлингом, PE-кодирования и OHE"
   ]
  },
  {
   "cell_type": "code",
   "execution_count": 1,
   "metadata": {},
   "outputs": [],
   "source": [
    "import numpy  as np\n",
    "import pandas as pd"
   ]
  },
  {
   "cell_type": "code",
   "execution_count": 2,
   "metadata": {},
   "outputs": [],
   "source": [
    "df_trn = pd.read_csv('../data/training_le.csv')"
   ]
  },
  {
   "cell_type": "code",
   "execution_count": 3,
   "metadata": {},
   "outputs": [
    {
     "data": {
      "text/html": [
       "<div>\n",
       "<style scoped>\n",
       "    .dataframe tbody tr th:only-of-type {\n",
       "        vertical-align: middle;\n",
       "    }\n",
       "\n",
       "    .dataframe tbody tr th {\n",
       "        vertical-align: top;\n",
       "    }\n",
       "\n",
       "    .dataframe thead th {\n",
       "        text-align: right;\n",
       "    }\n",
       "</style>\n",
       "<table border=\"1\" class=\"dataframe\">\n",
       "  <thead>\n",
       "    <tr style=\"text-align: right;\">\n",
       "      <th></th>\n",
       "      <th>BatchId</th>\n",
       "      <th>AccountId</th>\n",
       "      <th>SubscriptionId</th>\n",
       "      <th>CustomerId</th>\n",
       "      <th>ProviderId</th>\n",
       "      <th>ProductId</th>\n",
       "      <th>ProductCategory</th>\n",
       "      <th>ChannelId</th>\n",
       "      <th>Amount</th>\n",
       "      <th>Value</th>\n",
       "      <th>TransactionStartTime</th>\n",
       "      <th>PricingStrategy</th>\n",
       "      <th>FraudResult</th>\n",
       "    </tr>\n",
       "  </thead>\n",
       "  <tbody>\n",
       "    <tr>\n",
       "      <th>0</th>\n",
       "      <td>36122</td>\n",
       "      <td>3956</td>\n",
       "      <td>886</td>\n",
       "      <td>4405</td>\n",
       "      <td>5</td>\n",
       "      <td>9</td>\n",
       "      <td>0</td>\n",
       "      <td>2</td>\n",
       "      <td>1000.0</td>\n",
       "      <td>1000</td>\n",
       "      <td>2018-11-15 02:18:49</td>\n",
       "      <td>2</td>\n",
       "      <td>0</td>\n",
       "    </tr>\n",
       "    <tr>\n",
       "      <th>1</th>\n",
       "      <td>15641</td>\n",
       "      <td>4840</td>\n",
       "      <td>3828</td>\n",
       "      <td>4405</td>\n",
       "      <td>3</td>\n",
       "      <td>5</td>\n",
       "      <td>2</td>\n",
       "      <td>1</td>\n",
       "      <td>-20.0</td>\n",
       "      <td>20</td>\n",
       "      <td>2018-11-15 02:19:08</td>\n",
       "      <td>2</td>\n",
       "      <td>0</td>\n",
       "    </tr>\n",
       "    <tr>\n",
       "      <th>2</th>\n",
       "      <td>53940</td>\n",
       "      <td>4228</td>\n",
       "      <td>221</td>\n",
       "      <td>4682</td>\n",
       "      <td>5</td>\n",
       "      <td>0</td>\n",
       "      <td>0</td>\n",
       "      <td>2</td>\n",
       "      <td>500.0</td>\n",
       "      <td>500</td>\n",
       "      <td>2018-11-15 02:44:21</td>\n",
       "      <td>2</td>\n",
       "      <td>0</td>\n",
       "    </tr>\n",
       "    <tr>\n",
       "      <th>3</th>\n",
       "      <td>102362</td>\n",
       "      <td>647</td>\n",
       "      <td>2184</td>\n",
       "      <td>987</td>\n",
       "      <td>0</td>\n",
       "      <td>20</td>\n",
       "      <td>9</td>\n",
       "      <td>2</td>\n",
       "      <td>20000.0</td>\n",
       "      <td>21800</td>\n",
       "      <td>2018-11-15 03:32:55</td>\n",
       "      <td>2</td>\n",
       "      <td>0</td>\n",
       "    </tr>\n",
       "    <tr>\n",
       "      <th>4</th>\n",
       "      <td>38779</td>\n",
       "      <td>4840</td>\n",
       "      <td>3828</td>\n",
       "      <td>987</td>\n",
       "      <td>3</td>\n",
       "      <td>5</td>\n",
       "      <td>2</td>\n",
       "      <td>1</td>\n",
       "      <td>-644.0</td>\n",
       "      <td>644</td>\n",
       "      <td>2018-11-15 03:34:21</td>\n",
       "      <td>2</td>\n",
       "      <td>0</td>\n",
       "    </tr>\n",
       "  </tbody>\n",
       "</table>\n",
       "</div>"
      ],
      "text/plain": [
       "   BatchId  AccountId  SubscriptionId  CustomerId  ProviderId  ProductId  \\\n",
       "0    36122       3956             886        4405           5          9   \n",
       "1    15641       4840            3828        4405           3          5   \n",
       "2    53940       4228             221        4682           5          0   \n",
       "3   102362        647            2184         987           0         20   \n",
       "4    38779       4840            3828         987           3          5   \n",
       "\n",
       "   ProductCategory  ChannelId   Amount  Value TransactionStartTime  \\\n",
       "0                0          2   1000.0   1000  2018-11-15 02:18:49   \n",
       "1                2          1    -20.0     20  2018-11-15 02:19:08   \n",
       "2                0          2    500.0    500  2018-11-15 02:44:21   \n",
       "3                9          2  20000.0  21800  2018-11-15 03:32:55   \n",
       "4                2          1   -644.0    644  2018-11-15 03:34:21   \n",
       "\n",
       "   PricingStrategy  FraudResult  \n",
       "0                2            0  \n",
       "1                2            0  \n",
       "2                2            0  \n",
       "3                2            0  \n",
       "4                2            0  "
      ]
     },
     "execution_count": 3,
     "metadata": {},
     "output_type": "execute_result"
    }
   ],
   "source": [
    "df_trn.head()"
   ]
  },
  {
   "cell_type": "markdown",
   "metadata": {},
   "source": [
    "**Correlation Matrices**"
   ]
  },
  {
   "cell_type": "code",
   "execution_count": 4,
   "metadata": {},
   "outputs": [],
   "source": [
    "corr = df_trn.corr()"
   ]
  },
  {
   "cell_type": "code",
   "execution_count": 5,
   "metadata": {},
   "outputs": [],
   "source": [
    "import matplotlib.pyplot as plt\n",
    "import seaborn as sns"
   ]
  },
  {
   "cell_type": "code",
   "execution_count": 6,
   "metadata": {},
   "outputs": [
    {
     "data": {
      "image/png": "[encoded data removed]",
      "text/plain": [
       "<Figure size 432x288 with 2 Axes>"
      ]
     },
     "metadata": {
      "needs_background": "light"
     },
     "output_type": "display_data"
    }
   ],
   "source": [
    "ax = sns.heatmap(\n",
    "    corr, \n",
    "    vmin=-1, vmax=1, center=0,\n",
    "    cmap=sns.diverging_palette(20, 220, n=200),\n",
    "    square=True\n",
    ")\n",
    "ax.set_xticklabels(\n",
    "    ax.get_xticklabels(),\n",
    "    rotation=45,\n",
    "    horizontalalignment='right'\n",
    ");"
   ]
  },
  {
   "cell_type": "code",
   "execution_count": 7,
   "metadata": {},
   "outputs": [
    {
     "data": {
      "text/html": [
       "<div>\n",
       "<style scoped>\n",
       "    .dataframe tbody tr th:only-of-type {\n",
       "        vertical-align: middle;\n",
       "    }\n",
       "\n",
       "    .dataframe tbody tr th {\n",
       "        vertical-align: top;\n",
       "    }\n",
       "\n",
       "    .dataframe thead th {\n",
       "        text-align: right;\n",
       "    }\n",
       "</style>\n",
       "<table border=\"1\" class=\"dataframe\">\n",
       "  <thead>\n",
       "    <tr style=\"text-align: right;\">\n",
       "      <th></th>\n",
       "      <th>BatchId</th>\n",
       "      <th>AccountId</th>\n",
       "      <th>SubscriptionId</th>\n",
       "      <th>CustomerId</th>\n",
       "      <th>ProviderId</th>\n",
       "      <th>ProductId</th>\n",
       "      <th>ProductCategory</th>\n",
       "      <th>ChannelId</th>\n",
       "      <th>Amount</th>\n",
       "      <th>Value</th>\n",
       "      <th>PricingStrategy</th>\n",
       "      <th>FraudResult</th>\n",
       "    </tr>\n",
       "  </thead>\n",
       "  <tbody>\n",
       "    <tr>\n",
       "      <th>BatchId</th>\n",
       "      <td>1.000000</td>\n",
       "      <td>0.031850</td>\n",
       "      <td>0.060558</td>\n",
       "      <td>0.144860</td>\n",
       "      <td>-0.034058</td>\n",
       "      <td>-0.017532</td>\n",
       "      <td>-0.037846</td>\n",
       "      <td>-0.063891</td>\n",
       "      <td>-0.013423</td>\n",
       "      <td>0.007764</td>\n",
       "      <td>0.131405</td>\n",
       "      <td>-0.000683</td>\n",
       "    </tr>\n",
       "    <tr>\n",
       "      <th>AccountId</th>\n",
       "      <td>0.031850</td>\n",
       "      <td>1.000000</td>\n",
       "      <td>0.352973</td>\n",
       "      <td>0.503405</td>\n",
       "      <td>-0.213127</td>\n",
       "      <td>-0.158946</td>\n",
       "      <td>0.171551</td>\n",
       "      <td>-0.694218</td>\n",
       "      <td>-0.048580</td>\n",
       "      <td>-0.035141</td>\n",
       "      <td>-0.039308</td>\n",
       "      <td>-0.026157</td>\n",
       "    </tr>\n",
       "    <tr>\n",
       "      <th>SubscriptionId</th>\n",
       "      <td>0.060558</td>\n",
       "      <td>0.352973</td>\n",
       "      <td>1.000000</td>\n",
       "      <td>0.133708</td>\n",
       "      <td>-0.221204</td>\n",
       "      <td>-0.112645</td>\n",
       "      <td>0.118305</td>\n",
       "      <td>-0.423540</td>\n",
       "      <td>-0.036190</td>\n",
       "      <td>-0.011349</td>\n",
       "      <td>0.083328</td>\n",
       "      <td>-0.010864</td>\n",
       "    </tr>\n",
       "    <tr>\n",
       "      <th>CustomerId</th>\n",
       "      <td>0.144860</td>\n",
       "      <td>0.503405</td>\n",
       "      <td>0.133708</td>\n",
       "      <td>1.000000</td>\n",
       "      <td>-0.004948</td>\n",
       "      <td>-0.023494</td>\n",
       "      <td>-0.102622</td>\n",
       "      <td>-0.127159</td>\n",
       "      <td>-0.037375</td>\n",
       "      <td>0.011864</td>\n",
       "      <td>0.302477</td>\n",
       "      <td>-0.004549</td>\n",
       "    </tr>\n",
       "    <tr>\n",
       "      <th>ProviderId</th>\n",
       "      <td>-0.034058</td>\n",
       "      <td>-0.213127</td>\n",
       "      <td>-0.221204</td>\n",
       "      <td>-0.004948</td>\n",
       "      <td>1.000000</td>\n",
       "      <td>-0.180489</td>\n",
       "      <td>-0.245062</td>\n",
       "      <td>0.323558</td>\n",
       "      <td>-0.049208</td>\n",
       "      <td>-0.062083</td>\n",
       "      <td>-0.095864</td>\n",
       "      <td>-0.051937</td>\n",
       "    </tr>\n",
       "    <tr>\n",
       "      <th>ProductId</th>\n",
       "      <td>-0.017532</td>\n",
       "      <td>-0.158946</td>\n",
       "      <td>-0.112645</td>\n",
       "      <td>-0.023494</td>\n",
       "      <td>-0.180489</td>\n",
       "      <td>1.000000</td>\n",
       "      <td>0.577532</td>\n",
       "      <td>0.203787</td>\n",
       "      <td>0.089368</td>\n",
       "      <td>0.082494</td>\n",
       "      <td>-0.179263</td>\n",
       "      <td>0.063452</td>\n",
       "    </tr>\n",
       "    <tr>\n",
       "      <th>ProductCategory</th>\n",
       "      <td>-0.037846</td>\n",
       "      <td>0.171551</td>\n",
       "      <td>0.118305</td>\n",
       "      <td>-0.102622</td>\n",
       "      <td>-0.245062</td>\n",
       "      <td>0.577532</td>\n",
       "      <td>1.000000</td>\n",
       "      <td>-0.211960</td>\n",
       "      <td>0.042541</td>\n",
       "      <td>0.033191</td>\n",
       "      <td>-0.255262</td>\n",
       "      <td>0.027165</td>\n",
       "    </tr>\n",
       "    <tr>\n",
       "      <th>ChannelId</th>\n",
       "      <td>-0.063891</td>\n",
       "      <td>-0.694218</td>\n",
       "      <td>-0.423540</td>\n",
       "      <td>-0.127159</td>\n",
       "      <td>0.323558</td>\n",
       "      <td>0.203787</td>\n",
       "      <td>-0.211960</td>\n",
       "      <td>1.000000</td>\n",
       "      <td>0.051903</td>\n",
       "      <td>0.028611</td>\n",
       "      <td>0.075672</td>\n",
       "      <td>0.024972</td>\n",
       "    </tr>\n",
       "    <tr>\n",
       "      <th>Amount</th>\n",
       "      <td>-0.013423</td>\n",
       "      <td>-0.048580</td>\n",
       "      <td>-0.036190</td>\n",
       "      <td>-0.037375</td>\n",
       "      <td>-0.049208</td>\n",
       "      <td>0.089368</td>\n",
       "      <td>0.042541</td>\n",
       "      <td>0.051903</td>\n",
       "      <td>1.000000</td>\n",
       "      <td>0.989692</td>\n",
       "      <td>-0.079827</td>\n",
       "      <td>0.557370</td>\n",
       "    </tr>\n",
       "    <tr>\n",
       "      <th>Value</th>\n",
       "      <td>0.007764</td>\n",
       "      <td>-0.035141</td>\n",
       "      <td>-0.011349</td>\n",
       "      <td>0.011864</td>\n",
       "      <td>-0.062083</td>\n",
       "      <td>0.082494</td>\n",
       "      <td>0.033191</td>\n",
       "      <td>0.028611</td>\n",
       "      <td>0.989692</td>\n",
       "      <td>1.000000</td>\n",
       "      <td>-0.038703</td>\n",
       "      <td>0.566739</td>\n",
       "    </tr>\n",
       "    <tr>\n",
       "      <th>PricingStrategy</th>\n",
       "      <td>0.131405</td>\n",
       "      <td>-0.039308</td>\n",
       "      <td>0.083328</td>\n",
       "      <td>0.302477</td>\n",
       "      <td>-0.095864</td>\n",
       "      <td>-0.179263</td>\n",
       "      <td>-0.255262</td>\n",
       "      <td>0.075672</td>\n",
       "      <td>-0.079827</td>\n",
       "      <td>-0.038703</td>\n",
       "      <td>1.000000</td>\n",
       "      <td>-0.051744</td>\n",
       "    </tr>\n",
       "    <tr>\n",
       "      <th>FraudResult</th>\n",
       "      <td>-0.000683</td>\n",
       "      <td>-0.026157</td>\n",
       "      <td>-0.010864</td>\n",
       "      <td>-0.004549</td>\n",
       "      <td>-0.051937</td>\n",
       "      <td>0.063452</td>\n",
       "      <td>0.027165</td>\n",
       "      <td>0.024972</td>\n",
       "      <td>0.557370</td>\n",
       "      <td>0.566739</td>\n",
       "      <td>-0.051744</td>\n",
       "      <td>1.000000</td>\n",
       "    </tr>\n",
       "  </tbody>\n",
       "</table>\n",
       "</div>"
      ],
      "text/plain": [
       "                  BatchId  AccountId  SubscriptionId  CustomerId  ProviderId  \\\n",
       "BatchId          1.000000   0.031850        0.060558    0.144860   -0.034058   \n",
       "AccountId        0.031850   1.000000        0.352973    0.503405   -0.213127   \n",
       "SubscriptionId   0.060558   0.352973        1.000000    0.133708   -0.221204   \n",
       "CustomerId       0.144860   0.503405        0.133708    1.000000   -0.004948   \n",
       "ProviderId      -0.034058  -0.213127       -0.221204   -0.004948    1.000000   \n",
       "ProductId       -0.017532  -0.158946       -0.112645   -0.023494   -0.180489   \n",
       "ProductCategory -0.037846   0.171551        0.118305   -0.102622   -0.245062   \n",
       "ChannelId       -0.063891  -0.694218       -0.423540   -0.127159    0.323558   \n",
       "Amount          -0.013423  -0.048580       -0.036190   -0.037375   -0.049208   \n",
       "Value            0.007764  -0.035141       -0.011349    0.011864   -0.062083   \n",
       "PricingStrategy  0.131405  -0.039308        0.083328    0.302477   -0.095864   \n",
       "FraudResult     -0.000683  -0.026157       -0.010864   -0.004549   -0.051937   \n",
       "\n",
       "                 ProductId  ProductCategory  ChannelId    Amount     Value  \\\n",
       "BatchId          -0.017532        -0.037846  -0.063891 -0.013423  0.007764   \n",
       "AccountId        -0.158946         0.171551  -0.694218 -0.048580 -0.035141   \n",
       "SubscriptionId   -0.112645         0.118305  -0.423540 -0.036190 -0.011349   \n",
       "CustomerId       -0.023494        -0.102622  -0.127159 -0.037375  0.011864   \n",
       "ProviderId       -0.180489        -0.245062   0.323558 -0.049208 -0.062083   \n",
       "ProductId         1.000000         0.577532   0.203787  0.089368  0.082494   \n",
       "ProductCategory   0.577532         1.000000  -0.211960  0.042541  0.033191   \n",
       "ChannelId         0.203787        -0.211960   1.000000  0.051903  0.028611   \n",
       "Amount            0.089368         0.042541   0.051903  1.000000  0.989692   \n",
       "Value             0.082494         0.033191   0.028611  0.989692  1.000000   \n",
       "PricingStrategy  -0.179263        -0.255262   0.075672 -0.079827 -0.038703   \n",
       "FraudResult       0.063452         0.027165   0.024972  0.557370  0.566739   \n",
       "\n",
       "                 PricingStrategy  FraudResult  \n",
       "BatchId                 0.131405    -0.000683  \n",
       "AccountId              -0.039308    -0.026157  \n",
       "SubscriptionId          0.083328    -0.010864  \n",
       "CustomerId              0.302477    -0.004549  \n",
       "ProviderId             -0.095864    -0.051937  \n",
       "ProductId              -0.179263     0.063452  \n",
       "ProductCategory        -0.255262     0.027165  \n",
       "ChannelId               0.075672     0.024972  \n",
       "Amount                 -0.079827     0.557370  \n",
       "Value                  -0.038703     0.566739  \n",
       "PricingStrategy         1.000000    -0.051744  \n",
       "FraudResult            -0.051744     1.000000  "
      ]
     },
     "execution_count": 7,
     "metadata": {},
     "output_type": "execute_result"
    }
   ],
   "source": [
    "corr.loc[:, :]"
   ]
  },
  {
   "cell_type": "markdown",
   "metadata": {},
   "source": [
    "## Common preparing"
   ]
  },
  {
   "cell_type": "code",
   "execution_count": 8,
   "metadata": {},
   "outputs": [],
   "source": [
    "df_trn = pd.read_csv('../data/training_le.csv')\n",
    "df_tst = pd.read_csv('../data/test_le.csv')"
   ]
  },
  {
   "cell_type": "code",
   "execution_count": 10,
   "metadata": {},
   "outputs": [
    {
     "name": "stdout",
     "output_type": "stream",
     "text": [
      "Train outliers fraction: 0.002\n"
     ]
    }
   ],
   "source": [
    "num_transactions = df_trn.shape[0]\n",
    "num_otliers = df_trn['FraudResult'].value_counts()[1]\n",
    "num_inliers = df_trn['FraudResult'].value_counts()[0]\n",
    "outliers_fraction = num_otliers / num_transactions\n",
    "print('Train outliers fraction:', round(outliers_fraction, 3))"
   ]
  },
  {
   "cell_type": "code",
   "execution_count": 11,
   "metadata": {},
   "outputs": [],
   "source": [
    "y_trn = df_trn['FraudResult']"
   ]
  },
  {
   "cell_type": "code",
   "execution_count": 12,
   "metadata": {},
   "outputs": [
    {
     "name": "stdout",
     "output_type": "stream",
     "text": [
      "Train Label Distribution: Counter({0: 95469, 1: 193})\n"
     ]
    }
   ],
   "source": [
    "from collections import Counter\n",
    "print('Train Label Distribution: {}'.format(Counter(y_trn)))"
   ]
  },
  {
   "cell_type": "code",
   "execution_count": 13,
   "metadata": {},
   "outputs": [
    {
     "data": {
      "text/html": [
       "<div>\n",
       "<style scoped>\n",
       "    .dataframe tbody tr th:only-of-type {\n",
       "        vertical-align: middle;\n",
       "    }\n",
       "\n",
       "    .dataframe tbody tr th {\n",
       "        vertical-align: top;\n",
       "    }\n",
       "\n",
       "    .dataframe thead th {\n",
       "        text-align: right;\n",
       "    }\n",
       "</style>\n",
       "<table border=\"1\" class=\"dataframe\">\n",
       "  <thead>\n",
       "    <tr style=\"text-align: right;\">\n",
       "      <th></th>\n",
       "      <th>BatchId</th>\n",
       "      <th>AccountId</th>\n",
       "      <th>SubscriptionId</th>\n",
       "      <th>CustomerId</th>\n",
       "      <th>ProviderId</th>\n",
       "      <th>ProductId</th>\n",
       "      <th>ProductCategory</th>\n",
       "      <th>ChannelId</th>\n",
       "      <th>Amount</th>\n",
       "      <th>Value</th>\n",
       "      <th>TransactionStartTime</th>\n",
       "      <th>PricingStrategy</th>\n",
       "      <th>FraudResult</th>\n",
       "    </tr>\n",
       "  </thead>\n",
       "  <tbody>\n",
       "    <tr>\n",
       "      <th>95657</th>\n",
       "      <td>96667</td>\n",
       "      <td>4840</td>\n",
       "      <td>3828</td>\n",
       "      <td>3077</td>\n",
       "      <td>3</td>\n",
       "      <td>5</td>\n",
       "      <td>2</td>\n",
       "      <td>1</td>\n",
       "      <td>-1000.0</td>\n",
       "      <td>1000</td>\n",
       "      <td>2019-02-13 09:54:09</td>\n",
       "      <td>2</td>\n",
       "      <td>0</td>\n",
       "    </tr>\n",
       "    <tr>\n",
       "      <th>95658</th>\n",
       "      <td>3502</td>\n",
       "      <td>3438</td>\n",
       "      <td>2642</td>\n",
       "      <td>3873</td>\n",
       "      <td>5</td>\n",
       "      <td>9</td>\n",
       "      <td>0</td>\n",
       "      <td>2</td>\n",
       "      <td>1000.0</td>\n",
       "      <td>1000</td>\n",
       "      <td>2019-02-13 09:54:25</td>\n",
       "      <td>2</td>\n",
       "      <td>0</td>\n",
       "    </tr>\n",
       "    <tr>\n",
       "      <th>95659</th>\n",
       "      <td>118601</td>\n",
       "      <td>4840</td>\n",
       "      <td>3828</td>\n",
       "      <td>3873</td>\n",
       "      <td>3</td>\n",
       "      <td>5</td>\n",
       "      <td>2</td>\n",
       "      <td>1</td>\n",
       "      <td>-20.0</td>\n",
       "      <td>20</td>\n",
       "      <td>2019-02-13 09:54:35</td>\n",
       "      <td>2</td>\n",
       "      <td>0</td>\n",
       "    </tr>\n",
       "    <tr>\n",
       "      <th>95660</th>\n",
       "      <td>70923</td>\n",
       "      <td>1345</td>\n",
       "      <td>651</td>\n",
       "      <td>1708</td>\n",
       "      <td>5</td>\n",
       "      <td>18</td>\n",
       "      <td>8</td>\n",
       "      <td>2</td>\n",
       "      <td>3000.0</td>\n",
       "      <td>3000</td>\n",
       "      <td>2019-02-13 10:01:10</td>\n",
       "      <td>2</td>\n",
       "      <td>0</td>\n",
       "    </tr>\n",
       "    <tr>\n",
       "      <th>95661</th>\n",
       "      <td>29316</td>\n",
       "      <td>4840</td>\n",
       "      <td>3828</td>\n",
       "      <td>1708</td>\n",
       "      <td>3</td>\n",
       "      <td>5</td>\n",
       "      <td>2</td>\n",
       "      <td>1</td>\n",
       "      <td>-60.0</td>\n",
       "      <td>60</td>\n",
       "      <td>2019-02-13 10:01:28</td>\n",
       "      <td>2</td>\n",
       "      <td>0</td>\n",
       "    </tr>\n",
       "  </tbody>\n",
       "</table>\n",
       "</div>"
      ],
      "text/plain": [
       "       BatchId  AccountId  SubscriptionId  CustomerId  ProviderId  ProductId  \\\n",
       "95657    96667       4840            3828        3077           3          5   \n",
       "95658     3502       3438            2642        3873           5          9   \n",
       "95659   118601       4840            3828        3873           3          5   \n",
       "95660    70923       1345             651        1708           5         18   \n",
       "95661    29316       4840            3828        1708           3          5   \n",
       "\n",
       "       ProductCategory  ChannelId  Amount  Value TransactionStartTime  \\\n",
       "95657                2          1 -1000.0   1000  2019-02-13 09:54:09   \n",
       "95658                0          2  1000.0   1000  2019-02-13 09:54:25   \n",
       "95659                2          1   -20.0     20  2019-02-13 09:54:35   \n",
       "95660                8          2  3000.0   3000  2019-02-13 10:01:10   \n",
       "95661                2          1   -60.0     60  2019-02-13 10:01:28   \n",
       "\n",
       "       PricingStrategy  FraudResult  \n",
       "95657                2            0  \n",
       "95658                2            0  \n",
       "95659                2            0  \n",
       "95660                2            0  \n",
       "95661                2            0  "
      ]
     },
     "execution_count": 13,
     "metadata": {},
     "output_type": "execute_result"
    }
   ],
   "source": [
    "df_trn.tail(5)"
   ]
  },
  {
   "cell_type": "code",
   "execution_count": 14,
   "metadata": {},
   "outputs": [
    {
     "data": {
      "text/html": [
       "<div>\n",
       "<style scoped>\n",
       "    .dataframe tbody tr th:only-of-type {\n",
       "        vertical-align: middle;\n",
       "    }\n",
       "\n",
       "    .dataframe tbody tr th {\n",
       "        vertical-align: top;\n",
       "    }\n",
       "\n",
       "    .dataframe thead th {\n",
       "        text-align: right;\n",
       "    }\n",
       "</style>\n",
       "<table border=\"1\" class=\"dataframe\">\n",
       "  <thead>\n",
       "    <tr style=\"text-align: right;\">\n",
       "      <th></th>\n",
       "      <th>BatchId</th>\n",
       "      <th>AccountId</th>\n",
       "      <th>SubscriptionId</th>\n",
       "      <th>CustomerId</th>\n",
       "      <th>ProviderId</th>\n",
       "      <th>ProductId</th>\n",
       "      <th>ProductCategory</th>\n",
       "      <th>ChannelId</th>\n",
       "      <th>Amount</th>\n",
       "      <th>Value</th>\n",
       "      <th>TransactionStartTime</th>\n",
       "      <th>PricingStrategy</th>\n",
       "    </tr>\n",
       "  </thead>\n",
       "  <tbody>\n",
       "    <tr>\n",
       "      <th>0</th>\n",
       "      <td>35027</td>\n",
       "      <td>2440</td>\n",
       "      <td>4425</td>\n",
       "      <td>2856</td>\n",
       "      <td>4</td>\n",
       "      <td>2</td>\n",
       "      <td>0</td>\n",
       "      <td>2</td>\n",
       "      <td>1000.0</td>\n",
       "      <td>1000</td>\n",
       "      <td>2019-02-13 10:01:40</td>\n",
       "      <td>3</td>\n",
       "    </tr>\n",
       "    <tr>\n",
       "      <th>1</th>\n",
       "      <td>45138</td>\n",
       "      <td>3438</td>\n",
       "      <td>2642</td>\n",
       "      <td>3873</td>\n",
       "      <td>4</td>\n",
       "      <td>14</td>\n",
       "      <td>2</td>\n",
       "      <td>2</td>\n",
       "      <td>2000.0</td>\n",
       "      <td>2000</td>\n",
       "      <td>2019-02-13 10:02:12</td>\n",
       "      <td>2</td>\n",
       "    </tr>\n",
       "    <tr>\n",
       "      <th>2</th>\n",
       "      <td>74886</td>\n",
       "      <td>4840</td>\n",
       "      <td>3828</td>\n",
       "      <td>2856</td>\n",
       "      <td>3</td>\n",
       "      <td>5</td>\n",
       "      <td>2</td>\n",
       "      <td>1</td>\n",
       "      <td>-50.0</td>\n",
       "      <td>50</td>\n",
       "      <td>2019-02-13 10:02:30</td>\n",
       "      <td>2</td>\n",
       "    </tr>\n",
       "    <tr>\n",
       "      <th>3</th>\n",
       "      <td>11024</td>\n",
       "      <td>2684</td>\n",
       "      <td>4625</td>\n",
       "      <td>3104</td>\n",
       "      <td>4</td>\n",
       "      <td>9</td>\n",
       "      <td>0</td>\n",
       "      <td>2</td>\n",
       "      <td>3000.0</td>\n",
       "      <td>3000</td>\n",
       "      <td>2019-02-13 10:02:38</td>\n",
       "      <td>3</td>\n",
       "    </tr>\n",
       "    <tr>\n",
       "      <th>4</th>\n",
       "      <td>29803</td>\n",
       "      <td>4840</td>\n",
       "      <td>3828</td>\n",
       "      <td>3104</td>\n",
       "      <td>3</td>\n",
       "      <td>5</td>\n",
       "      <td>2</td>\n",
       "      <td>1</td>\n",
       "      <td>-60.0</td>\n",
       "      <td>60</td>\n",
       "      <td>2019-02-13 10:02:58</td>\n",
       "      <td>2</td>\n",
       "    </tr>\n",
       "  </tbody>\n",
       "</table>\n",
       "</div>"
      ],
      "text/plain": [
       "   BatchId  AccountId  SubscriptionId  CustomerId  ProviderId  ProductId  \\\n",
       "0    35027       2440            4425        2856           4          2   \n",
       "1    45138       3438            2642        3873           4         14   \n",
       "2    74886       4840            3828        2856           3          5   \n",
       "3    11024       2684            4625        3104           4          9   \n",
       "4    29803       4840            3828        3104           3          5   \n",
       "\n",
       "   ProductCategory  ChannelId  Amount  Value TransactionStartTime  \\\n",
       "0                0          2  1000.0   1000  2019-02-13 10:01:40   \n",
       "1                2          2  2000.0   2000  2019-02-13 10:02:12   \n",
       "2                2          1   -50.0     50  2019-02-13 10:02:30   \n",
       "3                0          2  3000.0   3000  2019-02-13 10:02:38   \n",
       "4                2          1   -60.0     60  2019-02-13 10:02:58   \n",
       "\n",
       "   PricingStrategy  \n",
       "0                3  \n",
       "1                2  \n",
       "2                2  \n",
       "3                3  \n",
       "4                2  "
      ]
     },
     "execution_count": 14,
     "metadata": {},
     "output_type": "execute_result"
    }
   ],
   "source": [
    "df_tst.head()"
   ]
  },
  {
   "cell_type": "code",
   "execution_count": 15,
   "metadata": {},
   "outputs": [],
   "source": [
    "columns4drop = [\n",
    "    'BatchId',\n",
    "    'AccountId',\n",
    "    'SubscriptionId',\n",
    "    'CustomerId',\n",
    "    'TransactionStartTime'\n",
    "]"
   ]
  },
  {
   "cell_type": "code",
   "execution_count": 16,
   "metadata": {},
   "outputs": [
    {
     "name": "stdout",
     "output_type": "stream",
     "text": [
      "(95662, 8) (45019, 7)\n"
     ]
    }
   ],
   "source": [
    "df_trn = df_trn.drop(columns=columns4drop, axis=1)\n",
    "df_tst = df_tst.drop(columns=columns4drop, axis=1)\n",
    "print(df_trn.shape, df_tst.shape)"
   ]
  },
  {
   "cell_type": "code",
   "execution_count": 17,
   "metadata": {},
   "outputs": [],
   "source": [
    "df_trn = df_trn.drop(columns='FraudResult', axis=1)"
   ]
  },
  {
   "cell_type": "code",
   "execution_count": 18,
   "metadata": {},
   "outputs": [
    {
     "data": {
      "text/plain": [
       "(140681, 7)"
      ]
     },
     "execution_count": 18,
     "metadata": {},
     "output_type": "execute_result"
    }
   ],
   "source": [
    "frames = [df_trn, df_tst]\n",
    "df_union = pd.concat(frames)\n",
    "df_union.shape"
   ]
  },
  {
   "cell_type": "code",
   "execution_count": 19,
   "metadata": {},
   "outputs": [
    {
     "data": {
      "text/html": [
       "<div>\n",
       "<style scoped>\n",
       "    .dataframe tbody tr th:only-of-type {\n",
       "        vertical-align: middle;\n",
       "    }\n",
       "\n",
       "    .dataframe tbody tr th {\n",
       "        vertical-align: top;\n",
       "    }\n",
       "\n",
       "    .dataframe thead th {\n",
       "        text-align: right;\n",
       "    }\n",
       "</style>\n",
       "<table border=\"1\" class=\"dataframe\">\n",
       "  <thead>\n",
       "    <tr style=\"text-align: right;\">\n",
       "      <th></th>\n",
       "      <th>ProviderId</th>\n",
       "      <th>ProductId</th>\n",
       "      <th>ProductCategory</th>\n",
       "      <th>ChannelId</th>\n",
       "      <th>Amount</th>\n",
       "      <th>Value</th>\n",
       "      <th>PricingStrategy</th>\n",
       "    </tr>\n",
       "  </thead>\n",
       "  <tbody>\n",
       "    <tr>\n",
       "      <th>0</th>\n",
       "      <td>5</td>\n",
       "      <td>9</td>\n",
       "      <td>0</td>\n",
       "      <td>2</td>\n",
       "      <td>1000.0</td>\n",
       "      <td>1000</td>\n",
       "      <td>2</td>\n",
       "    </tr>\n",
       "    <tr>\n",
       "      <th>1</th>\n",
       "      <td>3</td>\n",
       "      <td>5</td>\n",
       "      <td>2</td>\n",
       "      <td>1</td>\n",
       "      <td>-20.0</td>\n",
       "      <td>20</td>\n",
       "      <td>2</td>\n",
       "    </tr>\n",
       "    <tr>\n",
       "      <th>2</th>\n",
       "      <td>5</td>\n",
       "      <td>0</td>\n",
       "      <td>0</td>\n",
       "      <td>2</td>\n",
       "      <td>500.0</td>\n",
       "      <td>500</td>\n",
       "      <td>2</td>\n",
       "    </tr>\n",
       "    <tr>\n",
       "      <th>3</th>\n",
       "      <td>0</td>\n",
       "      <td>20</td>\n",
       "      <td>9</td>\n",
       "      <td>2</td>\n",
       "      <td>20000.0</td>\n",
       "      <td>21800</td>\n",
       "      <td>2</td>\n",
       "    </tr>\n",
       "    <tr>\n",
       "      <th>4</th>\n",
       "      <td>3</td>\n",
       "      <td>5</td>\n",
       "      <td>2</td>\n",
       "      <td>1</td>\n",
       "      <td>-644.0</td>\n",
       "      <td>644</td>\n",
       "      <td>2</td>\n",
       "    </tr>\n",
       "  </tbody>\n",
       "</table>\n",
       "</div>"
      ],
      "text/plain": [
       "   ProviderId  ProductId  ProductCategory  ChannelId   Amount  Value  \\\n",
       "0           5          9                0          2   1000.0   1000   \n",
       "1           3          5                2          1    -20.0     20   \n",
       "2           5          0                0          2    500.0    500   \n",
       "3           0         20                9          2  20000.0  21800   \n",
       "4           3          5                2          1   -644.0    644   \n",
       "\n",
       "   PricingStrategy  \n",
       "0                2  \n",
       "1                2  \n",
       "2                2  \n",
       "3                2  \n",
       "4                2  "
      ]
     },
     "execution_count": 19,
     "metadata": {},
     "output_type": "execute_result"
    }
   ],
   "source": [
    "df_union.head()"
   ]
  },
  {
   "cell_type": "code",
   "execution_count": 20,
   "metadata": {},
   "outputs": [
    {
     "name": "stdout",
     "output_type": "stream",
     "text": [
      "Number of outliers on union dataset = 284.0\n"
     ]
    }
   ],
   "source": [
    "print('Number of outliers on union dataset =', round(df_union.shape[0]*outliers_fraction, 0))"
   ]
  },
  {
   "cell_type": "markdown",
   "metadata": {},
   "source": [
    "**Scaling**"
   ]
  },
  {
   "cell_type": "code",
   "execution_count": 21,
   "metadata": {},
   "outputs": [],
   "source": [
    "from sklearn.preprocessing import RobustScaler"
   ]
  },
  {
   "cell_type": "code",
   "execution_count": 22,
   "metadata": {},
   "outputs": [],
   "source": [
    "def scaleColumns(data, cols_to_scale, scaler):\n",
    "    for col in cols_to_scale:\n",
    "        data[col] = pd.DataFrame(scaler.fit_transform(pd.DataFrame(data[col])))\n",
    "    return data"
   ]
  },
  {
   "cell_type": "code",
   "execution_count": 23,
   "metadata": {},
   "outputs": [],
   "source": [
    "df_union = scaleColumns(df_union, ['Amount', 'Value'], RobustScaler())"
   ]
  },
  {
   "cell_type": "code",
   "execution_count": 24,
   "metadata": {},
   "outputs": [
    {
     "data": {
      "text/html": [
       "<div>\n",
       "<style scoped>\n",
       "    .dataframe tbody tr th:only-of-type {\n",
       "        vertical-align: middle;\n",
       "    }\n",
       "\n",
       "    .dataframe tbody tr th {\n",
       "        vertical-align: top;\n",
       "    }\n",
       "\n",
       "    .dataframe thead th {\n",
       "        text-align: right;\n",
       "    }\n",
       "</style>\n",
       "<table border=\"1\" class=\"dataframe\">\n",
       "  <thead>\n",
       "    <tr style=\"text-align: right;\">\n",
       "      <th></th>\n",
       "      <th>ProviderId</th>\n",
       "      <th>ProductId</th>\n",
       "      <th>ProductCategory</th>\n",
       "      <th>ChannelId</th>\n",
       "      <th>Amount</th>\n",
       "      <th>Value</th>\n",
       "      <th>PricingStrategy</th>\n",
       "    </tr>\n",
       "  </thead>\n",
       "  <tbody>\n",
       "    <tr>\n",
       "      <th>0</th>\n",
       "      <td>5</td>\n",
       "      <td>9</td>\n",
       "      <td>0</td>\n",
       "      <td>2</td>\n",
       "      <td>0.000000</td>\n",
       "      <td>0.000000</td>\n",
       "      <td>2</td>\n",
       "    </tr>\n",
       "    <tr>\n",
       "      <th>1</th>\n",
       "      <td>3</td>\n",
       "      <td>5</td>\n",
       "      <td>2</td>\n",
       "      <td>1</td>\n",
       "      <td>-0.334426</td>\n",
       "      <td>-0.212674</td>\n",
       "      <td>2</td>\n",
       "    </tr>\n",
       "    <tr>\n",
       "      <th>2</th>\n",
       "      <td>5</td>\n",
       "      <td>0</td>\n",
       "      <td>0</td>\n",
       "      <td>2</td>\n",
       "      <td>-0.163934</td>\n",
       "      <td>-0.108507</td>\n",
       "      <td>2</td>\n",
       "    </tr>\n",
       "    <tr>\n",
       "      <th>3</th>\n",
       "      <td>0</td>\n",
       "      <td>20</td>\n",
       "      <td>9</td>\n",
       "      <td>2</td>\n",
       "      <td>6.229508</td>\n",
       "      <td>4.513889</td>\n",
       "      <td>2</td>\n",
       "    </tr>\n",
       "    <tr>\n",
       "      <th>4</th>\n",
       "      <td>3</td>\n",
       "      <td>5</td>\n",
       "      <td>2</td>\n",
       "      <td>1</td>\n",
       "      <td>-0.539016</td>\n",
       "      <td>-0.077257</td>\n",
       "      <td>2</td>\n",
       "    </tr>\n",
       "  </tbody>\n",
       "</table>\n",
       "</div>"
      ],
      "text/plain": [
       "   ProviderId  ProductId  ProductCategory  ChannelId    Amount     Value  \\\n",
       "0           5          9                0          2  0.000000  0.000000   \n",
       "1           3          5                2          1 -0.334426 -0.212674   \n",
       "2           5          0                0          2 -0.163934 -0.108507   \n",
       "3           0         20                9          2  6.229508  4.513889   \n",
       "4           3          5                2          1 -0.539016 -0.077257   \n",
       "\n",
       "   PricingStrategy  \n",
       "0                2  \n",
       "1                2  \n",
       "2                2  \n",
       "3                2  \n",
       "4                2  "
      ]
     },
     "execution_count": 24,
     "metadata": {},
     "output_type": "execute_result"
    }
   ],
   "source": [
    "df_union.head()"
   ]
  },
  {
   "cell_type": "code",
   "execution_count": 25,
   "metadata": {},
   "outputs": [],
   "source": [
    "# Anomaly Detection Libraries\n",
    "from sklearn            import svm\n",
    "from sklearn.ensemble   import IsolationForest\n",
    "from sklearn.covariance import EllipticEnvelope\n",
    "from sklearn.neighbors  import LocalOutlierFactor"
   ]
  },
  {
   "cell_type": "code",
   "execution_count": 26,
   "metadata": {},
   "outputs": [],
   "source": [
    "algorithms = {\n",
    "    'OCSVM': svm.OneClassSVM(nu=outliers_fraction, kernel=\"rbf\", gamma=0.000001),\n",
    "    'IF   ': IsolationForest(behaviour='new', contamination=outliers_fraction, random_state=24),\n",
    "    'EE   ': EllipticEnvelope(contamination=outliers_fraction*1.15),\n",
    "    'LOF  ': LocalOutlierFactor(n_neighbors=12, contamination=outliers_fraction, novelty=True)\n",
    "}"
   ]
  },
  {
   "cell_type": "code",
   "execution_count": 27,
   "metadata": {},
   "outputs": [],
   "source": [
    "import warnings\n",
    "warnings.filterwarnings(\"ignore\")"
   ]
  },
  {
   "cell_type": "code",
   "execution_count": 28,
   "metadata": {},
   "outputs": [],
   "source": [
    "from sklearn.metrics import confusion_matrix\n",
    "from sklearn.metrics import precision_score\n",
    "from sklearn.metrics import recall_score\n",
    "from sklearn.metrics import f1_score\n",
    "from sklearn.metrics import cohen_kappa_score\n",
    "from sklearn.metrics import balanced_accuracy_score\n",
    "from sklearn.metrics import roc_auc_score"
   ]
  },
  {
   "cell_type": "markdown",
   "metadata": {},
   "source": [
    "$Precision = \\frac{TP}{TP+FP}$\n",
    "\n",
    "$Recall = \\frac{TP}{TP+FN}$\n",
    "\n",
    "$F1 = 2\\cdot\\frac{Precision\\cdot{Recall}}{Precision+Recall}$"
   ]
  },
  {
   "attachments": {
    "Confusion-matrix-for-binary-classification.png": {
     "image/png": "[encoded data removed]"
    }
   },
   "cell_type": "markdown",
   "metadata": {},
   "source": [
    "![Confusion-matrix-for-binary-classification.png](attachment:Confusion-matrix-for-binary-classification.png)"
   ]
  },
  {
   "cell_type": "code",
   "execution_count": 55,
   "metadata": {},
   "outputs": [],
   "source": [
    "def running_anomaly_detection_methods(X, y_eta_trn):\n",
    "    print(' '*27, 'Confusion-Matrix')\n",
    "    print('Algorithm', ' '*20, 'TN       FP')\n",
    "    print(' '*7, 'Frd_tst   Frd_trn      FN       TP     Precision  Recall     F1-score   kappa      b_accuracy ROC_AUC')\n",
    "    print('='*110)\n",
    "\n",
    "    # iterate over classifiers\n",
    "    for name, algorithm in algorithms.items():\n",
    "        # fit the data and tag outliers\n",
    "        if name == 'LOF':\n",
    "            y_pred = algorithm.fit_predict(X)\n",
    "        else:\n",
    "            y_pred = algorithm.fit(X).predict(X)\n",
    "            \n",
    "        y_pred = [ 1 if x == -1 else 0 for x in y_pred ]\n",
    "        y_pred_trn = y_pred[ : len(y_trn)]\n",
    "        y_pred_tst = y_pred[len(y_trn) : ]\n",
    "        \n",
    "        n_frauds_trn      = Counter(y_pred_trn)[1]\n",
    "        n_frauds_tst      = Counter(y_pred_tst)[1]\n",
    "        tn, fp, fn, tp    = confusion_matrix(y_eta_trn, y_pred_trn).ravel()\n",
    "        precision         = precision_score(y_eta_trn, y_pred_trn)\n",
    "        recall            = recall_score(y_eta_trn, y_pred_trn)\n",
    "        f1                = f1_score(y_eta_trn, y_pred_trn)\n",
    "        kappa             = cohen_kappa_score(y_eta_trn, y_pred_trn)\n",
    "        balanced_accuracy = balanced_accuracy_score(y_eta_trn, y_pred_trn)\n",
    "        roc_auc           = roc_auc_score(y_eta_trn, y_pred_trn)\n",
    "        \n",
    "        print('%s %8i %8i' % (' '*24, tn, fp))\n",
    "        print('%s %8i %8i %8i %8i %10.4f %10.4f %10.4f %10.4f %10.4f %10.4f' % \n",
    "              (name+' ', n_frauds_tst, n_frauds_trn, fn, tp, precision, recall, f1, kappa, balanced_accuracy, roc_auc))\n",
    "        \n",
    "    print('-'*110)\n",
    "    return"
   ]
  },
  {
   "cell_type": "markdown",
   "metadata": {},
   "source": [
    "### Only `Amount`"
   ]
  },
  {
   "cell_type": "code",
   "execution_count": 30,
   "metadata": {},
   "outputs": [],
   "source": [
    "columns4drop = [\n",
    "    'ProviderId',\n",
    "    'ProductId',\n",
    "    'ProductCategory',\n",
    "    'ChannelId',\n",
    "    'Value',\n",
    "    'PricingStrategy',\n",
    "]"
   ]
  },
  {
   "cell_type": "code",
   "execution_count": 31,
   "metadata": {},
   "outputs": [],
   "source": [
    "df = df_union.drop(columns=columns4drop, axis=1)"
   ]
  },
  {
   "cell_type": "code",
   "execution_count": 32,
   "metadata": {},
   "outputs": [
    {
     "data": {
      "text/html": [
       "<div>\n",
       "<style scoped>\n",
       "    .dataframe tbody tr th:only-of-type {\n",
       "        vertical-align: middle;\n",
       "    }\n",
       "\n",
       "    .dataframe tbody tr th {\n",
       "        vertical-align: top;\n",
       "    }\n",
       "\n",
       "    .dataframe thead th {\n",
       "        text-align: right;\n",
       "    }\n",
       "</style>\n",
       "<table border=\"1\" class=\"dataframe\">\n",
       "  <thead>\n",
       "    <tr style=\"text-align: right;\">\n",
       "      <th></th>\n",
       "      <th>Amount</th>\n",
       "    </tr>\n",
       "  </thead>\n",
       "  <tbody>\n",
       "    <tr>\n",
       "      <th>0</th>\n",
       "      <td>0.000000</td>\n",
       "    </tr>\n",
       "    <tr>\n",
       "      <th>1</th>\n",
       "      <td>-0.334426</td>\n",
       "    </tr>\n",
       "    <tr>\n",
       "      <th>2</th>\n",
       "      <td>-0.163934</td>\n",
       "    </tr>\n",
       "    <tr>\n",
       "      <th>3</th>\n",
       "      <td>6.229508</td>\n",
       "    </tr>\n",
       "    <tr>\n",
       "      <th>4</th>\n",
       "      <td>-0.539016</td>\n",
       "    </tr>\n",
       "  </tbody>\n",
       "</table>\n",
       "</div>"
      ],
      "text/plain": [
       "     Amount\n",
       "0  0.000000\n",
       "1 -0.334426\n",
       "2 -0.163934\n",
       "3  6.229508\n",
       "4 -0.539016"
      ]
     },
     "execution_count": 32,
     "metadata": {},
     "output_type": "execute_result"
    }
   ],
   "source": [
    "df.head()"
   ]
  },
  {
   "cell_type": "code",
   "execution_count": 56,
   "metadata": {},
   "outputs": [
    {
     "name": "stdout",
     "output_type": "stream",
     "text": [
      "                            Confusion-Matrix\n",
      "Algorithm                      TN       FP\n",
      "            Frd_trn   Frd_tst  FN       TP     Precision  Recall     F1-score   kappa      b_accuracy ROC_AUC\n",
      "==============================================================================================================\n",
      "                            95322      147\n",
      "OCSVM       210       81      130       63     0.3000     0.3264     0.3127     0.3112     0.6624     0.6624\n",
      "                            95413       56\n",
      "IF          170       68       79      114     0.6706     0.5907     0.6281     0.6274     0.7950     0.7950\n",
      "                            95410       59\n",
      "EE          231       98       21      172     0.7446     0.8912     0.8113     0.8109     0.9453     0.9453\n",
      "                            95309      160\n",
      "LOF         191       59      162       31     0.1623     0.1606     0.1615     0.1598     0.5795     0.5795\n",
      "--------------------------------------------------------------------------------------------------------------\n"
     ]
    }
   ],
   "source": [
    "running_anomaly_detection_methods(df, y_trn)"
   ]
  },
  {
   "cell_type": "markdown",
   "metadata": {},
   "source": [
    "### Only `Amount` and `Value`"
   ]
  },
  {
   "cell_type": "code",
   "execution_count": 57,
   "metadata": {},
   "outputs": [],
   "source": [
    "columns4drop = [\n",
    "    'ProviderId',\n",
    "    'ProductId',\n",
    "    'ProductCategory',\n",
    "    'ChannelId',\n",
    "    'PricingStrategy',\n",
    "]"
   ]
  },
  {
   "cell_type": "code",
   "execution_count": 58,
   "metadata": {},
   "outputs": [],
   "source": [
    "df = df_union.drop(columns=columns4drop, axis=1)"
   ]
  },
  {
   "cell_type": "code",
   "execution_count": 59,
   "metadata": {},
   "outputs": [
    {
     "data": {
      "text/html": [
       "<div>\n",
       "<style scoped>\n",
       "    .dataframe tbody tr th:only-of-type {\n",
       "        vertical-align: middle;\n",
       "    }\n",
       "\n",
       "    .dataframe tbody tr th {\n",
       "        vertical-align: top;\n",
       "    }\n",
       "\n",
       "    .dataframe thead th {\n",
       "        text-align: right;\n",
       "    }\n",
       "</style>\n",
       "<table border=\"1\" class=\"dataframe\">\n",
       "  <thead>\n",
       "    <tr style=\"text-align: right;\">\n",
       "      <th></th>\n",
       "      <th>Amount</th>\n",
       "      <th>Value</th>\n",
       "    </tr>\n",
       "  </thead>\n",
       "  <tbody>\n",
       "    <tr>\n",
       "      <th>0</th>\n",
       "      <td>0.000000</td>\n",
       "      <td>0.000000</td>\n",
       "    </tr>\n",
       "    <tr>\n",
       "      <th>1</th>\n",
       "      <td>-0.334426</td>\n",
       "      <td>-0.212674</td>\n",
       "    </tr>\n",
       "    <tr>\n",
       "      <th>2</th>\n",
       "      <td>-0.163934</td>\n",
       "      <td>-0.108507</td>\n",
       "    </tr>\n",
       "    <tr>\n",
       "      <th>3</th>\n",
       "      <td>6.229508</td>\n",
       "      <td>4.513889</td>\n",
       "    </tr>\n",
       "    <tr>\n",
       "      <th>4</th>\n",
       "      <td>-0.539016</td>\n",
       "      <td>-0.077257</td>\n",
       "    </tr>\n",
       "  </tbody>\n",
       "</table>\n",
       "</div>"
      ],
      "text/plain": [
       "     Amount     Value\n",
       "0  0.000000  0.000000\n",
       "1 -0.334426 -0.212674\n",
       "2 -0.163934 -0.108507\n",
       "3  6.229508  4.513889\n",
       "4 -0.539016 -0.077257"
      ]
     },
     "execution_count": 59,
     "metadata": {},
     "output_type": "execute_result"
    }
   ],
   "source": [
    "df.head()"
   ]
  },
  {
   "cell_type": "code",
   "execution_count": 60,
   "metadata": {},
   "outputs": [
    {
     "name": "stdout",
     "output_type": "stream",
     "text": [
      "                            Confusion-Matrix\n",
      "Algorithm                      TN       FP\n",
      "            Frd_trn   Frd_tst  FN       TP     Precision  Recall     F1-score   kappa      b_accuracy ROC_AUC\n",
      "==============================================================================================================\n",
      "                            95300      169\n",
      "OCSVM       236       91      126       67     0.2839     0.3472     0.3124     0.3108     0.6727     0.6727\n",
      "                            95413       56\n",
      "IF          178       73       71      122     0.6854     0.6321     0.6577     0.6570     0.8158     0.8158\n",
      "                            95295      174\n",
      "EE          233       94      134       59     0.2532     0.3057     0.2770     0.2754     0.6519     0.6519\n",
      "                            95328      141\n",
      "LOF         172       56      162       31     0.1802     0.1606     0.1699     0.1683     0.5796     0.5796\n",
      "--------------------------------------------------------------------------------------------------------------\n"
     ]
    }
   ],
   "source": [
    "running_anomaly_detection_methods(df, y_trn)"
   ]
  },
  {
   "cell_type": "markdown",
   "metadata": {},
   "source": [
    "### LE-coding\n",
    " of fields: `ProviderId`, `ProductId`, `ProductCategory`, `ChannelId`, `PricingStrategy`\n",
    "\n",
    "`RobustScaler` of fields: `Amount`, `Value`"
   ]
  },
  {
   "cell_type": "code",
   "execution_count": 61,
   "metadata": {},
   "outputs": [],
   "source": [
    "df = df_union"
   ]
  },
  {
   "cell_type": "code",
   "execution_count": 62,
   "metadata": {},
   "outputs": [
    {
     "data": {
      "text/html": [
       "<div>\n",
       "<style scoped>\n",
       "    .dataframe tbody tr th:only-of-type {\n",
       "        vertical-align: middle;\n",
       "    }\n",
       "\n",
       "    .dataframe tbody tr th {\n",
       "        vertical-align: top;\n",
       "    }\n",
       "\n",
       "    .dataframe thead th {\n",
       "        text-align: right;\n",
       "    }\n",
       "</style>\n",
       "<table border=\"1\" class=\"dataframe\">\n",
       "  <thead>\n",
       "    <tr style=\"text-align: right;\">\n",
       "      <th></th>\n",
       "      <th>ProviderId</th>\n",
       "      <th>ProductId</th>\n",
       "      <th>ProductCategory</th>\n",
       "      <th>ChannelId</th>\n",
       "      <th>Amount</th>\n",
       "      <th>Value</th>\n",
       "      <th>PricingStrategy</th>\n",
       "    </tr>\n",
       "  </thead>\n",
       "  <tbody>\n",
       "    <tr>\n",
       "      <th>0</th>\n",
       "      <td>5</td>\n",
       "      <td>9</td>\n",
       "      <td>0</td>\n",
       "      <td>2</td>\n",
       "      <td>0.000000</td>\n",
       "      <td>0.000000</td>\n",
       "      <td>2</td>\n",
       "    </tr>\n",
       "    <tr>\n",
       "      <th>1</th>\n",
       "      <td>3</td>\n",
       "      <td>5</td>\n",
       "      <td>2</td>\n",
       "      <td>1</td>\n",
       "      <td>-0.334426</td>\n",
       "      <td>-0.212674</td>\n",
       "      <td>2</td>\n",
       "    </tr>\n",
       "    <tr>\n",
       "      <th>2</th>\n",
       "      <td>5</td>\n",
       "      <td>0</td>\n",
       "      <td>0</td>\n",
       "      <td>2</td>\n",
       "      <td>-0.163934</td>\n",
       "      <td>-0.108507</td>\n",
       "      <td>2</td>\n",
       "    </tr>\n",
       "    <tr>\n",
       "      <th>3</th>\n",
       "      <td>0</td>\n",
       "      <td>20</td>\n",
       "      <td>9</td>\n",
       "      <td>2</td>\n",
       "      <td>6.229508</td>\n",
       "      <td>4.513889</td>\n",
       "      <td>2</td>\n",
       "    </tr>\n",
       "    <tr>\n",
       "      <th>4</th>\n",
       "      <td>3</td>\n",
       "      <td>5</td>\n",
       "      <td>2</td>\n",
       "      <td>1</td>\n",
       "      <td>-0.539016</td>\n",
       "      <td>-0.077257</td>\n",
       "      <td>2</td>\n",
       "    </tr>\n",
       "  </tbody>\n",
       "</table>\n",
       "</div>"
      ],
      "text/plain": [
       "   ProviderId  ProductId  ProductCategory  ChannelId    Amount     Value  \\\n",
       "0           5          9                0          2  0.000000  0.000000   \n",
       "1           3          5                2          1 -0.334426 -0.212674   \n",
       "2           5          0                0          2 -0.163934 -0.108507   \n",
       "3           0         20                9          2  6.229508  4.513889   \n",
       "4           3          5                2          1 -0.539016 -0.077257   \n",
       "\n",
       "   PricingStrategy  \n",
       "0                2  \n",
       "1                2  \n",
       "2                2  \n",
       "3                2  \n",
       "4                2  "
      ]
     },
     "execution_count": 62,
     "metadata": {},
     "output_type": "execute_result"
    }
   ],
   "source": [
    "df.head()"
   ]
  },
  {
   "cell_type": "code",
   "execution_count": 63,
   "metadata": {},
   "outputs": [
    {
     "name": "stdout",
     "output_type": "stream",
     "text": [
      "                            Confusion-Matrix\n",
      "Algorithm                      TN       FP\n",
      "            Frd_trn   Frd_tst  FN       TP     Precision  Recall     F1-score   kappa      b_accuracy ROC_AUC\n",
      "==============================================================================================================\n",
      "                            95325      144\n",
      "OCSVM       207       80      130       63     0.3043     0.3264     0.3150     0.3136     0.6625     0.6625\n",
      "                            95288      181\n",
      "IF          266       15      108       85     0.3195     0.4404     0.3704     0.3689     0.7193     0.7193\n",
      "                            95408       61\n",
      "EE          230       98       24      169     0.7348     0.8756     0.7991     0.7986     0.9375     0.9375\n",
      "                            95361      108\n",
      "LOF         113      102      188        5     0.0442     0.0259     0.0327     0.0312     0.5124     0.5124\n",
      "--------------------------------------------------------------------------------------------------------------\n"
     ]
    }
   ],
   "source": [
    "running_anomaly_detection_methods(df, y_trn)"
   ]
  },
  {
   "cell_type": "markdown",
   "metadata": {},
   "source": [
    "### LE-coding with `MinMaxScaler`\n",
    "`MinMaxScaler` of fields: `ProviderId`, `ProductId`, `ProductCategory`, `ChannelId`, `PricingStrategy`\n",
    "\n",
    "`RobustScaler` of fields: `Amount`, `Value`"
   ]
  },
  {
   "cell_type": "code",
   "execution_count": 64,
   "metadata": {},
   "outputs": [],
   "source": [
    "columns4MinMaxScaler = [\n",
    "    'ProviderId',\n",
    "    'ProductId', \n",
    "    'ProductCategory', \n",
    "    'ChannelId',\n",
    "    'PricingStrategy'\n",
    "]"
   ]
  },
  {
   "cell_type": "code",
   "execution_count": 65,
   "metadata": {},
   "outputs": [],
   "source": [
    "# int --> float\n",
    "for clm in columns4MinMaxScaler:\n",
    "    df[clm] = df[clm].astype(float)"
   ]
  },
  {
   "cell_type": "code",
   "execution_count": 66,
   "metadata": {},
   "outputs": [],
   "source": [
    "from sklearn.preprocessing import MinMaxScaler"
   ]
  },
  {
   "cell_type": "code",
   "execution_count": 67,
   "metadata": {},
   "outputs": [],
   "source": [
    "df = scaleColumns(df, columns4MinMaxScaler, MinMaxScaler())"
   ]
  },
  {
   "cell_type": "code",
   "execution_count": 68,
   "metadata": {},
   "outputs": [
    {
     "data": {
      "text/html": [
       "<div>\n",
       "<style scoped>\n",
       "    .dataframe tbody tr th:only-of-type {\n",
       "        vertical-align: middle;\n",
       "    }\n",
       "\n",
       "    .dataframe tbody tr th {\n",
       "        vertical-align: top;\n",
       "    }\n",
       "\n",
       "    .dataframe thead th {\n",
       "        text-align: right;\n",
       "    }\n",
       "</style>\n",
       "<table border=\"1\" class=\"dataframe\">\n",
       "  <thead>\n",
       "    <tr style=\"text-align: right;\">\n",
       "      <th></th>\n",
       "      <th>ProviderId</th>\n",
       "      <th>ProductId</th>\n",
       "      <th>ProductCategory</th>\n",
       "      <th>ChannelId</th>\n",
       "      <th>Amount</th>\n",
       "      <th>Value</th>\n",
       "      <th>PricingStrategy</th>\n",
       "    </tr>\n",
       "  </thead>\n",
       "  <tbody>\n",
       "    <tr>\n",
       "      <th>0</th>\n",
       "      <td>1.0</td>\n",
       "      <td>0.346154</td>\n",
       "      <td>0.000000</td>\n",
       "      <td>0.50</td>\n",
       "      <td>0.000000</td>\n",
       "      <td>0.000000</td>\n",
       "      <td>0.666667</td>\n",
       "    </tr>\n",
       "    <tr>\n",
       "      <th>1</th>\n",
       "      <td>0.6</td>\n",
       "      <td>0.192308</td>\n",
       "      <td>0.222222</td>\n",
       "      <td>0.25</td>\n",
       "      <td>-0.334426</td>\n",
       "      <td>-0.212674</td>\n",
       "      <td>0.666667</td>\n",
       "    </tr>\n",
       "    <tr>\n",
       "      <th>2</th>\n",
       "      <td>1.0</td>\n",
       "      <td>0.000000</td>\n",
       "      <td>0.000000</td>\n",
       "      <td>0.50</td>\n",
       "      <td>-0.163934</td>\n",
       "      <td>-0.108507</td>\n",
       "      <td>0.666667</td>\n",
       "    </tr>\n",
       "    <tr>\n",
       "      <th>3</th>\n",
       "      <td>0.0</td>\n",
       "      <td>0.769231</td>\n",
       "      <td>1.000000</td>\n",
       "      <td>0.50</td>\n",
       "      <td>6.229508</td>\n",
       "      <td>4.513889</td>\n",
       "      <td>0.666667</td>\n",
       "    </tr>\n",
       "    <tr>\n",
       "      <th>4</th>\n",
       "      <td>0.6</td>\n",
       "      <td>0.192308</td>\n",
       "      <td>0.222222</td>\n",
       "      <td>0.25</td>\n",
       "      <td>-0.539016</td>\n",
       "      <td>-0.077257</td>\n",
       "      <td>0.666667</td>\n",
       "    </tr>\n",
       "  </tbody>\n",
       "</table>\n",
       "</div>"
      ],
      "text/plain": [
       "   ProviderId  ProductId  ProductCategory  ChannelId    Amount     Value  \\\n",
       "0         1.0   0.346154         0.000000       0.50  0.000000  0.000000   \n",
       "1         0.6   0.192308         0.222222       0.25 -0.334426 -0.212674   \n",
       "2         1.0   0.000000         0.000000       0.50 -0.163934 -0.108507   \n",
       "3         0.0   0.769231         1.000000       0.50  6.229508  4.513889   \n",
       "4         0.6   0.192308         0.222222       0.25 -0.539016 -0.077257   \n",
       "\n",
       "   PricingStrategy  \n",
       "0         0.666667  \n",
       "1         0.666667  \n",
       "2         0.666667  \n",
       "3         0.666667  \n",
       "4         0.666667  "
      ]
     },
     "execution_count": 68,
     "metadata": {},
     "output_type": "execute_result"
    }
   ],
   "source": [
    "df.head()"
   ]
  },
  {
   "cell_type": "code",
   "execution_count": 69,
   "metadata": {},
   "outputs": [
    {
     "name": "stdout",
     "output_type": "stream",
     "text": [
      "                            Confusion-Matrix\n",
      "Algorithm                      TN       FP\n",
      "            Frd_trn   Frd_tst  FN       TP     Precision  Recall     F1-score   kappa      b_accuracy ROC_AUC\n",
      "==============================================================================================================\n",
      "                            95342      127\n",
      "OCSVM       190       74      130       63     0.3316     0.3264     0.3290     0.3276     0.6625     0.6625\n",
      "                            95375       94\n",
      "IF          168      107      119       74     0.4405     0.3834     0.4100     0.4089     0.6912     0.6912\n",
      "                            95336      133\n",
      "EE          234       91       92      101     0.4316     0.5233     0.4731     0.4719     0.7610     0.7610\n",
      "                            95320      149\n",
      "LOF         155       68      187        6     0.0387     0.0311     0.0345     0.0327     0.5148     0.5148\n",
      "--------------------------------------------------------------------------------------------------------------\n"
     ]
    }
   ],
   "source": [
    "running_anomaly_detection_methods(df, y_trn)"
   ]
  },
  {
   "cell_type": "markdown",
   "metadata": {},
   "source": [
    "### PE-coding\n",
    "PE-coding of fields: `ProviderId`, `ProductId`, `ProductCategory`, `ChannelId`, `PricingStrategy`\n",
    "\n",
    "`RobustScaler` of fields: `Amount`, `Value`"
   ]
  },
  {
   "cell_type": "code",
   "execution_count": 111,
   "metadata": {},
   "outputs": [],
   "source": [
    "df_trn = pd.read_csv('../data/training_pe.csv')\n",
    "df_tst = pd.read_csv('../data/test_pe.csv')"
   ]
  },
  {
   "cell_type": "code",
   "execution_count": 112,
   "metadata": {},
   "outputs": [],
   "source": [
    "columns4drop = [\n",
    "    'BatchId',\n",
    "    'AccountId',\n",
    "    'SubscriptionId',\n",
    "    'CustomerId',\n",
    "    'TransactionStartTime'\n",
    "]"
   ]
  },
  {
   "cell_type": "code",
   "execution_count": 113,
   "metadata": {},
   "outputs": [
    {
     "name": "stdout",
     "output_type": "stream",
     "text": [
      "(95662, 8) (45019, 7)\n"
     ]
    }
   ],
   "source": [
    "df_trn = df_trn.drop(columns=columns4drop, axis=1)\n",
    "df_tst = df_tst.drop(columns=columns4drop, axis=1)\n",
    "print(df_trn.shape, df_tst.shape)"
   ]
  },
  {
   "cell_type": "code",
   "execution_count": 114,
   "metadata": {},
   "outputs": [],
   "source": [
    "df_trn = df_trn.drop(columns='FraudResult', axis=1)"
   ]
  },
  {
   "cell_type": "code",
   "execution_count": 115,
   "metadata": {},
   "outputs": [
    {
     "data": {
      "text/plain": [
       "(140681, 7)"
      ]
     },
     "execution_count": 115,
     "metadata": {},
     "output_type": "execute_result"
    }
   ],
   "source": [
    "frames = [df_trn, df_tst]\n",
    "df_union = pd.concat(frames)\n",
    "df_union.shape"
   ]
  },
  {
   "cell_type": "code",
   "execution_count": 116,
   "metadata": {
    "scrolled": true
   },
   "outputs": [
    {
     "data": {
      "text/html": [
       "<div>\n",
       "<style scoped>\n",
       "    .dataframe tbody tr th:only-of-type {\n",
       "        vertical-align: middle;\n",
       "    }\n",
       "\n",
       "    .dataframe tbody tr th {\n",
       "        vertical-align: top;\n",
       "    }\n",
       "\n",
       "    .dataframe thead th {\n",
       "        text-align: right;\n",
       "    }\n",
       "</style>\n",
       "<table border=\"1\" class=\"dataframe\">\n",
       "  <thead>\n",
       "    <tr style=\"text-align: right;\">\n",
       "      <th></th>\n",
       "      <th>ProviderId</th>\n",
       "      <th>ProductId</th>\n",
       "      <th>ProductCategory</th>\n",
       "      <th>ChannelId</th>\n",
       "      <th>Amount</th>\n",
       "      <th>Value</th>\n",
       "      <th>PricingStrategy</th>\n",
       "    </tr>\n",
       "  </thead>\n",
       "  <tbody>\n",
       "    <tr>\n",
       "      <th>0</th>\n",
       "      <td>0.000088</td>\n",
       "      <td>0.000390</td>\n",
       "      <td>0.000400</td>\n",
       "      <td>0.003232</td>\n",
       "      <td>1000.0</td>\n",
       "      <td>1000</td>\n",
       "      <td>0.001741</td>\n",
       "    </tr>\n",
       "    <tr>\n",
       "      <th>1</th>\n",
       "      <td>0.000131</td>\n",
       "      <td>0.000031</td>\n",
       "      <td>0.003546</td>\n",
       "      <td>0.000135</td>\n",
       "      <td>-20.0</td>\n",
       "      <td>20</td>\n",
       "      <td>0.001741</td>\n",
       "    </tr>\n",
       "    <tr>\n",
       "      <th>2</th>\n",
       "      <td>0.000088</td>\n",
       "      <td>0.000000</td>\n",
       "      <td>0.000400</td>\n",
       "      <td>0.003232</td>\n",
       "      <td>500.0</td>\n",
       "      <td>500</td>\n",
       "      <td>0.001741</td>\n",
       "    </tr>\n",
       "    <tr>\n",
       "      <th>3</th>\n",
       "      <td>0.010101</td>\n",
       "      <td>0.002646</td>\n",
       "      <td>0.006250</td>\n",
       "      <td>0.003232</td>\n",
       "      <td>20000.0</td>\n",
       "      <td>21800</td>\n",
       "      <td>0.001741</td>\n",
       "    </tr>\n",
       "    <tr>\n",
       "      <th>4</th>\n",
       "      <td>0.000131</td>\n",
       "      <td>0.000031</td>\n",
       "      <td>0.003546</td>\n",
       "      <td>0.000135</td>\n",
       "      <td>-644.0</td>\n",
       "      <td>644</td>\n",
       "      <td>0.001741</td>\n",
       "    </tr>\n",
       "  </tbody>\n",
       "</table>\n",
       "</div>"
      ],
      "text/plain": [
       "   ProviderId  ProductId  ProductCategory  ChannelId   Amount  Value  \\\n",
       "0    0.000088   0.000390         0.000400   0.003232   1000.0   1000   \n",
       "1    0.000131   0.000031         0.003546   0.000135    -20.0     20   \n",
       "2    0.000088   0.000000         0.000400   0.003232    500.0    500   \n",
       "3    0.010101   0.002646         0.006250   0.003232  20000.0  21800   \n",
       "4    0.000131   0.000031         0.003546   0.000135   -644.0    644   \n",
       "\n",
       "   PricingStrategy  \n",
       "0         0.001741  \n",
       "1         0.001741  \n",
       "2         0.001741  \n",
       "3         0.001741  \n",
       "4         0.001741  "
      ]
     },
     "execution_count": 116,
     "metadata": {},
     "output_type": "execute_result"
    }
   ],
   "source": [
    "df_union.head()"
   ]
  },
  {
   "cell_type": "markdown",
   "metadata": {},
   "source": [
    "**Scaling**"
   ]
  },
  {
   "cell_type": "markdown",
   "metadata": {},
   "source": [
    "Вычисляем \"предсказательную способность\" данного значения, то есть угадывает ли он `frauds` и лучше, чем просто среднее\n",
    "\n",
    "Для этого смотрим как часто этот признак сигнализирует о `frauds` и вычитаем частоту `frauds` во всей выборке"
   ]
  },
  {
   "cell_type": "code",
   "execution_count": 117,
   "metadata": {},
   "outputs": [],
   "source": [
    "columns4scaling = [\n",
    "    'ProviderId',\n",
    "    'ProductId',\n",
    "    'ProductCategory',\n",
    "    'ChannelId',\n",
    "    'PricingStrategy'\n",
    "]"
   ]
  },
  {
   "cell_type": "code",
   "execution_count": 118,
   "metadata": {},
   "outputs": [],
   "source": [
    "# coef = n_frauds / (n_frauds + n_nofrauds) \n",
    "for clm in columns4scaling:\n",
    "    df_union[clm] -= outliers_fraction"
   ]
  },
  {
   "cell_type": "code",
   "execution_count": 119,
   "metadata": {},
   "outputs": [],
   "source": [
    "df = df_union"
   ]
  },
  {
   "cell_type": "code",
   "execution_count": 120,
   "metadata": {},
   "outputs": [
    {
     "data": {
      "text/html": [
       "<div>\n",
       "<style scoped>\n",
       "    .dataframe tbody tr th:only-of-type {\n",
       "        vertical-align: middle;\n",
       "    }\n",
       "\n",
       "    .dataframe tbody tr th {\n",
       "        vertical-align: top;\n",
       "    }\n",
       "\n",
       "    .dataframe thead th {\n",
       "        text-align: right;\n",
       "    }\n",
       "</style>\n",
       "<table border=\"1\" class=\"dataframe\">\n",
       "  <thead>\n",
       "    <tr style=\"text-align: right;\">\n",
       "      <th></th>\n",
       "      <th>ProviderId</th>\n",
       "      <th>ProductId</th>\n",
       "      <th>ProductCategory</th>\n",
       "      <th>ChannelId</th>\n",
       "      <th>Amount</th>\n",
       "      <th>Value</th>\n",
       "      <th>PricingStrategy</th>\n",
       "    </tr>\n",
       "  </thead>\n",
       "  <tbody>\n",
       "    <tr>\n",
       "      <th>0</th>\n",
       "      <td>-0.001930</td>\n",
       "      <td>-0.001628</td>\n",
       "      <td>-0.001618</td>\n",
       "      <td>0.001214</td>\n",
       "      <td>1000.0</td>\n",
       "      <td>1000</td>\n",
       "      <td>-0.000277</td>\n",
       "    </tr>\n",
       "    <tr>\n",
       "      <th>1</th>\n",
       "      <td>-0.001887</td>\n",
       "      <td>-0.001987</td>\n",
       "      <td>0.001528</td>\n",
       "      <td>-0.001883</td>\n",
       "      <td>-20.0</td>\n",
       "      <td>20</td>\n",
       "      <td>-0.000277</td>\n",
       "    </tr>\n",
       "    <tr>\n",
       "      <th>2</th>\n",
       "      <td>-0.001930</td>\n",
       "      <td>-0.002018</td>\n",
       "      <td>-0.001618</td>\n",
       "      <td>0.001214</td>\n",
       "      <td>500.0</td>\n",
       "      <td>500</td>\n",
       "      <td>-0.000277</td>\n",
       "    </tr>\n",
       "    <tr>\n",
       "      <th>3</th>\n",
       "      <td>0.008083</td>\n",
       "      <td>0.000628</td>\n",
       "      <td>0.004232</td>\n",
       "      <td>0.001214</td>\n",
       "      <td>20000.0</td>\n",
       "      <td>21800</td>\n",
       "      <td>-0.000277</td>\n",
       "    </tr>\n",
       "    <tr>\n",
       "      <th>4</th>\n",
       "      <td>-0.001887</td>\n",
       "      <td>-0.001987</td>\n",
       "      <td>0.001528</td>\n",
       "      <td>-0.001883</td>\n",
       "      <td>-644.0</td>\n",
       "      <td>644</td>\n",
       "      <td>-0.000277</td>\n",
       "    </tr>\n",
       "  </tbody>\n",
       "</table>\n",
       "</div>"
      ],
      "text/plain": [
       "   ProviderId  ProductId  ProductCategory  ChannelId   Amount  Value  \\\n",
       "0   -0.001930  -0.001628        -0.001618   0.001214   1000.0   1000   \n",
       "1   -0.001887  -0.001987         0.001528  -0.001883    -20.0     20   \n",
       "2   -0.001930  -0.002018        -0.001618   0.001214    500.0    500   \n",
       "3    0.008083   0.000628         0.004232   0.001214  20000.0  21800   \n",
       "4   -0.001887  -0.001987         0.001528  -0.001883   -644.0    644   \n",
       "\n",
       "   PricingStrategy  \n",
       "0        -0.000277  \n",
       "1        -0.000277  \n",
       "2        -0.000277  \n",
       "3        -0.000277  \n",
       "4        -0.000277  "
      ]
     },
     "execution_count": 120,
     "metadata": {},
     "output_type": "execute_result"
    }
   ],
   "source": [
    "df.head()"
   ]
  },
  {
   "cell_type": "code",
   "execution_count": 121,
   "metadata": {},
   "outputs": [
    {
     "name": "stdout",
     "output_type": "stream",
     "text": [
      "                            Confusion-Matrix\n",
      "Algorithm                      TN       FP\n",
      "            Frd_trn   Frd_tst  FN       TP     Precision  Recall     F1-score   kappa      b_accuracy ROC_AUC\n",
      "==============================================================================================================\n",
      "                            83640    11829\n",
      "OCSVM     11925     6048       97       96     0.0081     0.4974     0.0158     0.0119     0.6868     0.6868\n",
      "                            95363      106\n",
      "IF          186       98      113       80     0.4301     0.4145     0.4222     0.4210     0.7067     0.7067\n",
      "                            95410       59\n",
      "EE           99      228      153       40     0.4040     0.2073     0.2740     0.2730     0.6033     0.6033\n",
      "                            95329      140\n",
      "LOF         153       70      180       13     0.0850     0.0674     0.0751     0.0735     0.5329     0.5329\n",
      "--------------------------------------------------------------------------------------------------------------\n"
     ]
    }
   ],
   "source": [
    "running_anomaly_detection_methods(df, y_trn)"
   ]
  },
  {
   "cell_type": "markdown",
   "metadata": {},
   "source": [
    "**Robust Scale `Amount` and `Value`**"
   ]
  },
  {
   "cell_type": "code",
   "execution_count": 122,
   "metadata": {},
   "outputs": [],
   "source": [
    "df_rs = df_union"
   ]
  },
  {
   "cell_type": "code",
   "execution_count": 123,
   "metadata": {},
   "outputs": [],
   "source": [
    "columns4RobustScaler = [\n",
    "    'Amount',\n",
    "    'Value'\n",
    "]"
   ]
  },
  {
   "cell_type": "code",
   "execution_count": 124,
   "metadata": {},
   "outputs": [],
   "source": [
    "df_rs = scaleColumns(df_rs, columns4RobustScaler, RobustScaler())"
   ]
  },
  {
   "cell_type": "code",
   "execution_count": 125,
   "metadata": {},
   "outputs": [
    {
     "data": {
      "text/html": [
       "<div>\n",
       "<style scoped>\n",
       "    .dataframe tbody tr th:only-of-type {\n",
       "        vertical-align: middle;\n",
       "    }\n",
       "\n",
       "    .dataframe tbody tr th {\n",
       "        vertical-align: top;\n",
       "    }\n",
       "\n",
       "    .dataframe thead th {\n",
       "        text-align: right;\n",
       "    }\n",
       "</style>\n",
       "<table border=\"1\" class=\"dataframe\">\n",
       "  <thead>\n",
       "    <tr style=\"text-align: right;\">\n",
       "      <th></th>\n",
       "      <th>ProviderId</th>\n",
       "      <th>ProductId</th>\n",
       "      <th>ProductCategory</th>\n",
       "      <th>ChannelId</th>\n",
       "      <th>Amount</th>\n",
       "      <th>Value</th>\n",
       "      <th>PricingStrategy</th>\n",
       "    </tr>\n",
       "  </thead>\n",
       "  <tbody>\n",
       "    <tr>\n",
       "      <th>0</th>\n",
       "      <td>-0.001930</td>\n",
       "      <td>-0.001628</td>\n",
       "      <td>-0.001618</td>\n",
       "      <td>0.001214</td>\n",
       "      <td>0.000000</td>\n",
       "      <td>0.000000</td>\n",
       "      <td>-0.000277</td>\n",
       "    </tr>\n",
       "    <tr>\n",
       "      <th>1</th>\n",
       "      <td>-0.001887</td>\n",
       "      <td>-0.001987</td>\n",
       "      <td>0.001528</td>\n",
       "      <td>-0.001883</td>\n",
       "      <td>-0.334426</td>\n",
       "      <td>-0.212674</td>\n",
       "      <td>-0.000277</td>\n",
       "    </tr>\n",
       "    <tr>\n",
       "      <th>2</th>\n",
       "      <td>-0.001930</td>\n",
       "      <td>-0.002018</td>\n",
       "      <td>-0.001618</td>\n",
       "      <td>0.001214</td>\n",
       "      <td>-0.163934</td>\n",
       "      <td>-0.108507</td>\n",
       "      <td>-0.000277</td>\n",
       "    </tr>\n",
       "    <tr>\n",
       "      <th>3</th>\n",
       "      <td>0.008083</td>\n",
       "      <td>0.000628</td>\n",
       "      <td>0.004232</td>\n",
       "      <td>0.001214</td>\n",
       "      <td>6.229508</td>\n",
       "      <td>4.513889</td>\n",
       "      <td>-0.000277</td>\n",
       "    </tr>\n",
       "    <tr>\n",
       "      <th>4</th>\n",
       "      <td>-0.001887</td>\n",
       "      <td>-0.001987</td>\n",
       "      <td>0.001528</td>\n",
       "      <td>-0.001883</td>\n",
       "      <td>-0.539016</td>\n",
       "      <td>-0.077257</td>\n",
       "      <td>-0.000277</td>\n",
       "    </tr>\n",
       "  </tbody>\n",
       "</table>\n",
       "</div>"
      ],
      "text/plain": [
       "   ProviderId  ProductId  ProductCategory  ChannelId    Amount     Value  \\\n",
       "0   -0.001930  -0.001628        -0.001618   0.001214  0.000000  0.000000   \n",
       "1   -0.001887  -0.001987         0.001528  -0.001883 -0.334426 -0.212674   \n",
       "2   -0.001930  -0.002018        -0.001618   0.001214 -0.163934 -0.108507   \n",
       "3    0.008083   0.000628         0.004232   0.001214  6.229508  4.513889   \n",
       "4   -0.001887  -0.001987         0.001528  -0.001883 -0.539016 -0.077257   \n",
       "\n",
       "   PricingStrategy  \n",
       "0        -0.000277  \n",
       "1        -0.000277  \n",
       "2        -0.000277  \n",
       "3        -0.000277  \n",
       "4        -0.000277  "
      ]
     },
     "execution_count": 125,
     "metadata": {},
     "output_type": "execute_result"
    }
   ],
   "source": [
    "df_rs.head()"
   ]
  },
  {
   "cell_type": "code",
   "execution_count": 126,
   "metadata": {},
   "outputs": [
    {
     "name": "stdout",
     "output_type": "stream",
     "text": [
      "                            Confusion-Matrix\n",
      "Algorithm                      TN       FP\n",
      "            Frd_trn   Frd_tst  FN       TP     Precision  Recall     F1-score   kappa      b_accuracy ROC_AUC\n",
      "==============================================================================================================\n",
      "                            95300      169\n",
      "OCSVM       236       91      126       67     0.2839     0.3472     0.3124     0.3108     0.6727     0.6727\n",
      "                            95300      169\n",
      "IF          272       16       90      103     0.3787     0.5337     0.4430     0.4417     0.7660     0.7660\n",
      "                            95372       97\n",
      "EE          252       74       38      155     0.6151     0.8031     0.6966     0.6959     0.9010     0.9010\n",
      "                            95283      186\n",
      "LOF         191       52      188        5     0.0262     0.0259     0.0260     0.0241     0.5120     0.5120\n",
      "--------------------------------------------------------------------------------------------------------------\n"
     ]
    }
   ],
   "source": [
    "running_anomaly_detection_methods(df_rs, y_trn)"
   ]
  },
  {
   "cell_type": "markdown",
   "metadata": {},
   "source": [
    "**Scandart Scale `Amount` and `Value`**"
   ]
  },
  {
   "cell_type": "code",
   "execution_count": 127,
   "metadata": {},
   "outputs": [],
   "source": [
    "df_ss = df_union"
   ]
  },
  {
   "cell_type": "code",
   "execution_count": 128,
   "metadata": {},
   "outputs": [],
   "source": [
    "from sklearn.preprocessing import StandardScaler"
   ]
  },
  {
   "cell_type": "code",
   "execution_count": 129,
   "metadata": {},
   "outputs": [],
   "source": [
    "columns4StandardScaler = [\n",
    "    'Amount',\n",
    "    'Value'\n",
    "]"
   ]
  },
  {
   "cell_type": "code",
   "execution_count": 130,
   "metadata": {},
   "outputs": [],
   "source": [
    "df_ss = scaleColumns(df_ss, columns4StandardScaler, StandardScaler())"
   ]
  },
  {
   "cell_type": "code",
   "execution_count": 131,
   "metadata": {},
   "outputs": [
    {
     "data": {
      "text/html": [
       "<div>\n",
       "<style scoped>\n",
       "    .dataframe tbody tr th:only-of-type {\n",
       "        vertical-align: middle;\n",
       "    }\n",
       "\n",
       "    .dataframe tbody tr th {\n",
       "        vertical-align: top;\n",
       "    }\n",
       "\n",
       "    .dataframe thead th {\n",
       "        text-align: right;\n",
       "    }\n",
       "</style>\n",
       "<table border=\"1\" class=\"dataframe\">\n",
       "  <thead>\n",
       "    <tr style=\"text-align: right;\">\n",
       "      <th></th>\n",
       "      <th>ProviderId</th>\n",
       "      <th>ProductId</th>\n",
       "      <th>ProductCategory</th>\n",
       "      <th>ChannelId</th>\n",
       "      <th>Amount</th>\n",
       "      <th>Value</th>\n",
       "      <th>PricingStrategy</th>\n",
       "    </tr>\n",
       "  </thead>\n",
       "  <tbody>\n",
       "    <tr>\n",
       "      <th>0</th>\n",
       "      <td>-0.001930</td>\n",
       "      <td>-0.001628</td>\n",
       "      <td>-0.001618</td>\n",
       "      <td>0.001214</td>\n",
       "      <td>-0.047967</td>\n",
       "      <td>-0.076872</td>\n",
       "      <td>-0.000277</td>\n",
       "    </tr>\n",
       "    <tr>\n",
       "      <th>1</th>\n",
       "      <td>-0.001887</td>\n",
       "      <td>-0.001987</td>\n",
       "      <td>0.001528</td>\n",
       "      <td>-0.001883</td>\n",
       "      <td>-0.057172</td>\n",
       "      <td>-0.085732</td>\n",
       "      <td>-0.000277</td>\n",
       "    </tr>\n",
       "    <tr>\n",
       "      <th>2</th>\n",
       "      <td>-0.001930</td>\n",
       "      <td>-0.002018</td>\n",
       "      <td>-0.001618</td>\n",
       "      <td>0.001214</td>\n",
       "      <td>-0.052479</td>\n",
       "      <td>-0.081392</td>\n",
       "      <td>-0.000277</td>\n",
       "    </tr>\n",
       "    <tr>\n",
       "      <th>3</th>\n",
       "      <td>0.008083</td>\n",
       "      <td>0.000628</td>\n",
       "      <td>0.004232</td>\n",
       "      <td>0.001214</td>\n",
       "      <td>0.123498</td>\n",
       "      <td>0.111172</td>\n",
       "      <td>-0.000277</td>\n",
       "    </tr>\n",
       "    <tr>\n",
       "      <th>4</th>\n",
       "      <td>-0.001887</td>\n",
       "      <td>-0.001987</td>\n",
       "      <td>0.001528</td>\n",
       "      <td>-0.001883</td>\n",
       "      <td>-0.062803</td>\n",
       "      <td>-0.080090</td>\n",
       "      <td>-0.000277</td>\n",
       "    </tr>\n",
       "  </tbody>\n",
       "</table>\n",
       "</div>"
      ],
      "text/plain": [
       "   ProviderId  ProductId  ProductCategory  ChannelId    Amount     Value  \\\n",
       "0   -0.001930  -0.001628        -0.001618   0.001214 -0.047967 -0.076872   \n",
       "1   -0.001887  -0.001987         0.001528  -0.001883 -0.057172 -0.085732   \n",
       "2   -0.001930  -0.002018        -0.001618   0.001214 -0.052479 -0.081392   \n",
       "3    0.008083   0.000628         0.004232   0.001214  0.123498  0.111172   \n",
       "4   -0.001887  -0.001987         0.001528  -0.001883 -0.062803 -0.080090   \n",
       "\n",
       "   PricingStrategy  \n",
       "0        -0.000277  \n",
       "1        -0.000277  \n",
       "2        -0.000277  \n",
       "3        -0.000277  \n",
       "4        -0.000277  "
      ]
     },
     "execution_count": 131,
     "metadata": {},
     "output_type": "execute_result"
    }
   ],
   "source": [
    "df_ss.head()"
   ]
  },
  {
   "cell_type": "code",
   "execution_count": 132,
   "metadata": {},
   "outputs": [
    {
     "name": "stdout",
     "output_type": "stream",
     "text": [
      "                            Confusion-Matrix\n",
      "Algorithm                      TN       FP\n",
      "            Frd_trn   Frd_tst  FN       TP     Precision  Recall     F1-score   kappa      b_accuracy ROC_AUC\n",
      "==============================================================================================================\n",
      "                            71233    24236\n",
      "OCSVM     24290    12458      139       54     0.0022     0.2798     0.0044     0.0004     0.5130     0.5130\n",
      "                            95300      169\n",
      "IF          272       16       90      103     0.3787     0.5337     0.4430     0.4417     0.7660     0.7660\n",
      "                            95289      180\n",
      "EE          252       76      121       72     0.2857     0.3731     0.3236     0.3220     0.6856     0.6856\n",
      "                            95350      119\n",
      "LOF         124       93      188        5     0.0403     0.0259     0.0315     0.0300     0.5123     0.5123\n",
      "--------------------------------------------------------------------------------------------------------------\n"
     ]
    }
   ],
   "source": [
    "running_anomaly_detection_methods(df_ss, y_trn)"
   ]
  },
  {
   "cell_type": "markdown",
   "metadata": {},
   "source": [
    "### OHE-coding\n",
    "- `OHE` of fields: `ProviderId`, `ProductId`, `ProductCategory`, `ChannelId`, `PricingStrategy`\n",
    "- `RobustScaler` of fields: `Amount`, `Value`"
   ]
  },
  {
   "cell_type": "code",
   "execution_count": 133,
   "metadata": {},
   "outputs": [],
   "source": [
    "df_trn = pd.read_csv('../data/training_ohe_short.csv')\n",
    "df_tst = pd.read_csv('../data/test_ohe_short.csv')"
   ]
  },
  {
   "cell_type": "code",
   "execution_count": 134,
   "metadata": {},
   "outputs": [],
   "source": [
    "columns4drop = [\n",
    "    'BatchId',\n",
    "    'AccountId',\n",
    "    'SubscriptionId',\n",
    "    'CustomerId',\n",
    "    'TransactionStartTime'\n",
    "]"
   ]
  },
  {
   "cell_type": "code",
   "execution_count": 135,
   "metadata": {},
   "outputs": [
    {
     "name": "stdout",
     "output_type": "stream",
     "text": [
      "(95662, 55) (45019, 54)\n"
     ]
    }
   ],
   "source": [
    "df_trn = df_trn.drop(columns=columns4drop, axis=1)\n",
    "df_tst = df_tst.drop(columns=columns4drop, axis=1)\n",
    "print(df_trn.shape, df_tst.shape)"
   ]
  },
  {
   "cell_type": "code",
   "execution_count": 136,
   "metadata": {},
   "outputs": [],
   "source": [
    "df_trn = df_trn.drop(columns='FraudResult', axis=1)"
   ]
  },
  {
   "cell_type": "code",
   "execution_count": 137,
   "metadata": {},
   "outputs": [
    {
     "data": {
      "text/plain": [
       "(140681, 54)"
      ]
     },
     "execution_count": 137,
     "metadata": {},
     "output_type": "execute_result"
    }
   ],
   "source": [
    "frames = [df_trn, df_tst]\n",
    "df_union = pd.concat(frames)\n",
    "df_union.shape"
   ]
  },
  {
   "cell_type": "code",
   "execution_count": 138,
   "metadata": {
    "scrolled": true
   },
   "outputs": [
    {
     "data": {
      "text/html": [
       "<div>\n",
       "<style scoped>\n",
       "    .dataframe tbody tr th:only-of-type {\n",
       "        vertical-align: middle;\n",
       "    }\n",
       "\n",
       "    .dataframe tbody tr th {\n",
       "        vertical-align: top;\n",
       "    }\n",
       "\n",
       "    .dataframe thead th {\n",
       "        text-align: right;\n",
       "    }\n",
       "</style>\n",
       "<table border=\"1\" class=\"dataframe\">\n",
       "  <thead>\n",
       "    <tr style=\"text-align: right;\">\n",
       "      <th></th>\n",
       "      <th>Amount</th>\n",
       "      <th>Value</th>\n",
       "      <th>ProviderId_0</th>\n",
       "      <th>ProviderId_1</th>\n",
       "      <th>ProviderId_2</th>\n",
       "      <th>ProviderId_3</th>\n",
       "      <th>ProviderId_4</th>\n",
       "      <th>ProviderId_5</th>\n",
       "      <th>ProductId_0</th>\n",
       "      <th>ProductId_1</th>\n",
       "      <th>...</th>\n",
       "      <th>ProductCategory_9</th>\n",
       "      <th>ChannelId_0</th>\n",
       "      <th>ChannelId_1</th>\n",
       "      <th>ChannelId_2</th>\n",
       "      <th>ChannelId_3</th>\n",
       "      <th>ChannelId_4</th>\n",
       "      <th>PricingStrategy_0</th>\n",
       "      <th>PricingStrategy_1</th>\n",
       "      <th>PricingStrategy_2</th>\n",
       "      <th>PricingStrategy_3</th>\n",
       "    </tr>\n",
       "  </thead>\n",
       "  <tbody>\n",
       "    <tr>\n",
       "      <th>0</th>\n",
       "      <td>1000.0</td>\n",
       "      <td>1000</td>\n",
       "      <td>0</td>\n",
       "      <td>0</td>\n",
       "      <td>0</td>\n",
       "      <td>0</td>\n",
       "      <td>0</td>\n",
       "      <td>1</td>\n",
       "      <td>0</td>\n",
       "      <td>0</td>\n",
       "      <td>...</td>\n",
       "      <td>0</td>\n",
       "      <td>0</td>\n",
       "      <td>0</td>\n",
       "      <td>1</td>\n",
       "      <td>0</td>\n",
       "      <td>0</td>\n",
       "      <td>0</td>\n",
       "      <td>0</td>\n",
       "      <td>1</td>\n",
       "      <td>0</td>\n",
       "    </tr>\n",
       "    <tr>\n",
       "      <th>1</th>\n",
       "      <td>-20.0</td>\n",
       "      <td>20</td>\n",
       "      <td>0</td>\n",
       "      <td>0</td>\n",
       "      <td>0</td>\n",
       "      <td>1</td>\n",
       "      <td>0</td>\n",
       "      <td>0</td>\n",
       "      <td>0</td>\n",
       "      <td>0</td>\n",
       "      <td>...</td>\n",
       "      <td>0</td>\n",
       "      <td>0</td>\n",
       "      <td>1</td>\n",
       "      <td>0</td>\n",
       "      <td>0</td>\n",
       "      <td>0</td>\n",
       "      <td>0</td>\n",
       "      <td>0</td>\n",
       "      <td>1</td>\n",
       "      <td>0</td>\n",
       "    </tr>\n",
       "    <tr>\n",
       "      <th>2</th>\n",
       "      <td>500.0</td>\n",
       "      <td>500</td>\n",
       "      <td>0</td>\n",
       "      <td>0</td>\n",
       "      <td>0</td>\n",
       "      <td>0</td>\n",
       "      <td>0</td>\n",
       "      <td>1</td>\n",
       "      <td>1</td>\n",
       "      <td>0</td>\n",
       "      <td>...</td>\n",
       "      <td>0</td>\n",
       "      <td>0</td>\n",
       "      <td>0</td>\n",
       "      <td>1</td>\n",
       "      <td>0</td>\n",
       "      <td>0</td>\n",
       "      <td>0</td>\n",
       "      <td>0</td>\n",
       "      <td>1</td>\n",
       "      <td>0</td>\n",
       "    </tr>\n",
       "    <tr>\n",
       "      <th>3</th>\n",
       "      <td>20000.0</td>\n",
       "      <td>21800</td>\n",
       "      <td>1</td>\n",
       "      <td>0</td>\n",
       "      <td>0</td>\n",
       "      <td>0</td>\n",
       "      <td>0</td>\n",
       "      <td>0</td>\n",
       "      <td>0</td>\n",
       "      <td>0</td>\n",
       "      <td>...</td>\n",
       "      <td>1</td>\n",
       "      <td>0</td>\n",
       "      <td>0</td>\n",
       "      <td>1</td>\n",
       "      <td>0</td>\n",
       "      <td>0</td>\n",
       "      <td>0</td>\n",
       "      <td>0</td>\n",
       "      <td>1</td>\n",
       "      <td>0</td>\n",
       "    </tr>\n",
       "    <tr>\n",
       "      <th>4</th>\n",
       "      <td>-644.0</td>\n",
       "      <td>644</td>\n",
       "      <td>0</td>\n",
       "      <td>0</td>\n",
       "      <td>0</td>\n",
       "      <td>1</td>\n",
       "      <td>0</td>\n",
       "      <td>0</td>\n",
       "      <td>0</td>\n",
       "      <td>0</td>\n",
       "      <td>...</td>\n",
       "      <td>0</td>\n",
       "      <td>0</td>\n",
       "      <td>1</td>\n",
       "      <td>0</td>\n",
       "      <td>0</td>\n",
       "      <td>0</td>\n",
       "      <td>0</td>\n",
       "      <td>0</td>\n",
       "      <td>1</td>\n",
       "      <td>0</td>\n",
       "    </tr>\n",
       "  </tbody>\n",
       "</table>\n",
       "<p>5 rows × 54 columns</p>\n",
       "</div>"
      ],
      "text/plain": [
       "    Amount  Value  ProviderId_0  ProviderId_1  ProviderId_2  ProviderId_3  \\\n",
       "0   1000.0   1000             0             0             0             0   \n",
       "1    -20.0     20             0             0             0             1   \n",
       "2    500.0    500             0             0             0             0   \n",
       "3  20000.0  21800             1             0             0             0   \n",
       "4   -644.0    644             0             0             0             1   \n",
       "\n",
       "   ProviderId_4  ProviderId_5  ProductId_0  ProductId_1        ...          \\\n",
       "0             0             1            0            0        ...           \n",
       "1             0             0            0            0        ...           \n",
       "2             0             1            1            0        ...           \n",
       "3             0             0            0            0        ...           \n",
       "4             0             0            0            0        ...           \n",
       "\n",
       "   ProductCategory_9  ChannelId_0  ChannelId_1  ChannelId_2  ChannelId_3  \\\n",
       "0                  0            0            0            1            0   \n",
       "1                  0            0            1            0            0   \n",
       "2                  0            0            0            1            0   \n",
       "3                  1            0            0            1            0   \n",
       "4                  0            0            1            0            0   \n",
       "\n",
       "   ChannelId_4  PricingStrategy_0  PricingStrategy_1  PricingStrategy_2  \\\n",
       "0            0                  0                  0                  1   \n",
       "1            0                  0                  0                  1   \n",
       "2            0                  0                  0                  1   \n",
       "3            0                  0                  0                  1   \n",
       "4            0                  0                  0                  1   \n",
       "\n",
       "   PricingStrategy_3  \n",
       "0                  0  \n",
       "1                  0  \n",
       "2                  0  \n",
       "3                  0  \n",
       "4                  0  \n",
       "\n",
       "[5 rows x 54 columns]"
      ]
     },
     "execution_count": 138,
     "metadata": {},
     "output_type": "execute_result"
    }
   ],
   "source": [
    "df_union.head()"
   ]
  },
  {
   "cell_type": "markdown",
   "metadata": {},
   "source": [
    "**Robust Scale `Amount` and `Value`**"
   ]
  },
  {
   "cell_type": "code",
   "execution_count": 139,
   "metadata": {},
   "outputs": [],
   "source": [
    "df_rs = df_union"
   ]
  },
  {
   "cell_type": "code",
   "execution_count": 140,
   "metadata": {},
   "outputs": [],
   "source": [
    "columns4RobustScaler = [\n",
    "    'Amount',\n",
    "    'Value'\n",
    "]"
   ]
  },
  {
   "cell_type": "code",
   "execution_count": 141,
   "metadata": {},
   "outputs": [],
   "source": [
    "df_rs = scaleColumns(df_rs, columns4RobustScaler, RobustScaler())"
   ]
  },
  {
   "cell_type": "code",
   "execution_count": 142,
   "metadata": {},
   "outputs": [
    {
     "data": {
      "text/html": [
       "<div>\n",
       "<style scoped>\n",
       "    .dataframe tbody tr th:only-of-type {\n",
       "        vertical-align: middle;\n",
       "    }\n",
       "\n",
       "    .dataframe tbody tr th {\n",
       "        vertical-align: top;\n",
       "    }\n",
       "\n",
       "    .dataframe thead th {\n",
       "        text-align: right;\n",
       "    }\n",
       "</style>\n",
       "<table border=\"1\" class=\"dataframe\">\n",
       "  <thead>\n",
       "    <tr style=\"text-align: right;\">\n",
       "      <th></th>\n",
       "      <th>Amount</th>\n",
       "      <th>Value</th>\n",
       "      <th>ProviderId_0</th>\n",
       "      <th>ProviderId_1</th>\n",
       "      <th>ProviderId_2</th>\n",
       "      <th>ProviderId_3</th>\n",
       "      <th>ProviderId_4</th>\n",
       "      <th>ProviderId_5</th>\n",
       "      <th>ProductId_0</th>\n",
       "      <th>ProductId_1</th>\n",
       "      <th>...</th>\n",
       "      <th>ProductCategory_9</th>\n",
       "      <th>ChannelId_0</th>\n",
       "      <th>ChannelId_1</th>\n",
       "      <th>ChannelId_2</th>\n",
       "      <th>ChannelId_3</th>\n",
       "      <th>ChannelId_4</th>\n",
       "      <th>PricingStrategy_0</th>\n",
       "      <th>PricingStrategy_1</th>\n",
       "      <th>PricingStrategy_2</th>\n",
       "      <th>PricingStrategy_3</th>\n",
       "    </tr>\n",
       "  </thead>\n",
       "  <tbody>\n",
       "    <tr>\n",
       "      <th>0</th>\n",
       "      <td>0.000000</td>\n",
       "      <td>0.000000</td>\n",
       "      <td>0</td>\n",
       "      <td>0</td>\n",
       "      <td>0</td>\n",
       "      <td>0</td>\n",
       "      <td>0</td>\n",
       "      <td>1</td>\n",
       "      <td>0</td>\n",
       "      <td>0</td>\n",
       "      <td>...</td>\n",
       "      <td>0</td>\n",
       "      <td>0</td>\n",
       "      <td>0</td>\n",
       "      <td>1</td>\n",
       "      <td>0</td>\n",
       "      <td>0</td>\n",
       "      <td>0</td>\n",
       "      <td>0</td>\n",
       "      <td>1</td>\n",
       "      <td>0</td>\n",
       "    </tr>\n",
       "    <tr>\n",
       "      <th>1</th>\n",
       "      <td>-0.334426</td>\n",
       "      <td>-0.212674</td>\n",
       "      <td>0</td>\n",
       "      <td>0</td>\n",
       "      <td>0</td>\n",
       "      <td>1</td>\n",
       "      <td>0</td>\n",
       "      <td>0</td>\n",
       "      <td>0</td>\n",
       "      <td>0</td>\n",
       "      <td>...</td>\n",
       "      <td>0</td>\n",
       "      <td>0</td>\n",
       "      <td>1</td>\n",
       "      <td>0</td>\n",
       "      <td>0</td>\n",
       "      <td>0</td>\n",
       "      <td>0</td>\n",
       "      <td>0</td>\n",
       "      <td>1</td>\n",
       "      <td>0</td>\n",
       "    </tr>\n",
       "    <tr>\n",
       "      <th>2</th>\n",
       "      <td>-0.163934</td>\n",
       "      <td>-0.108507</td>\n",
       "      <td>0</td>\n",
       "      <td>0</td>\n",
       "      <td>0</td>\n",
       "      <td>0</td>\n",
       "      <td>0</td>\n",
       "      <td>1</td>\n",
       "      <td>1</td>\n",
       "      <td>0</td>\n",
       "      <td>...</td>\n",
       "      <td>0</td>\n",
       "      <td>0</td>\n",
       "      <td>0</td>\n",
       "      <td>1</td>\n",
       "      <td>0</td>\n",
       "      <td>0</td>\n",
       "      <td>0</td>\n",
       "      <td>0</td>\n",
       "      <td>1</td>\n",
       "      <td>0</td>\n",
       "    </tr>\n",
       "    <tr>\n",
       "      <th>3</th>\n",
       "      <td>6.229508</td>\n",
       "      <td>4.513889</td>\n",
       "      <td>1</td>\n",
       "      <td>0</td>\n",
       "      <td>0</td>\n",
       "      <td>0</td>\n",
       "      <td>0</td>\n",
       "      <td>0</td>\n",
       "      <td>0</td>\n",
       "      <td>0</td>\n",
       "      <td>...</td>\n",
       "      <td>1</td>\n",
       "      <td>0</td>\n",
       "      <td>0</td>\n",
       "      <td>1</td>\n",
       "      <td>0</td>\n",
       "      <td>0</td>\n",
       "      <td>0</td>\n",
       "      <td>0</td>\n",
       "      <td>1</td>\n",
       "      <td>0</td>\n",
       "    </tr>\n",
       "    <tr>\n",
       "      <th>4</th>\n",
       "      <td>-0.539016</td>\n",
       "      <td>-0.077257</td>\n",
       "      <td>0</td>\n",
       "      <td>0</td>\n",
       "      <td>0</td>\n",
       "      <td>1</td>\n",
       "      <td>0</td>\n",
       "      <td>0</td>\n",
       "      <td>0</td>\n",
       "      <td>0</td>\n",
       "      <td>...</td>\n",
       "      <td>0</td>\n",
       "      <td>0</td>\n",
       "      <td>1</td>\n",
       "      <td>0</td>\n",
       "      <td>0</td>\n",
       "      <td>0</td>\n",
       "      <td>0</td>\n",
       "      <td>0</td>\n",
       "      <td>1</td>\n",
       "      <td>0</td>\n",
       "    </tr>\n",
       "  </tbody>\n",
       "</table>\n",
       "<p>5 rows × 54 columns</p>\n",
       "</div>"
      ],
      "text/plain": [
       "     Amount     Value  ProviderId_0  ProviderId_1  ProviderId_2  ProviderId_3  \\\n",
       "0  0.000000  0.000000             0             0             0             0   \n",
       "1 -0.334426 -0.212674             0             0             0             1   \n",
       "2 -0.163934 -0.108507             0             0             0             0   \n",
       "3  6.229508  4.513889             1             0             0             0   \n",
       "4 -0.539016 -0.077257             0             0             0             1   \n",
       "\n",
       "   ProviderId_4  ProviderId_5  ProductId_0  ProductId_1        ...          \\\n",
       "0             0             1            0            0        ...           \n",
       "1             0             0            0            0        ...           \n",
       "2             0             1            1            0        ...           \n",
       "3             0             0            0            0        ...           \n",
       "4             0             0            0            0        ...           \n",
       "\n",
       "   ProductCategory_9  ChannelId_0  ChannelId_1  ChannelId_2  ChannelId_3  \\\n",
       "0                  0            0            0            1            0   \n",
       "1                  0            0            1            0            0   \n",
       "2                  0            0            0            1            0   \n",
       "3                  1            0            0            1            0   \n",
       "4                  0            0            1            0            0   \n",
       "\n",
       "   ChannelId_4  PricingStrategy_0  PricingStrategy_1  PricingStrategy_2  \\\n",
       "0            0                  0                  0                  1   \n",
       "1            0                  0                  0                  1   \n",
       "2            0                  0                  0                  1   \n",
       "3            0                  0                  0                  1   \n",
       "4            0                  0                  0                  1   \n",
       "\n",
       "   PricingStrategy_3  \n",
       "0                  0  \n",
       "1                  0  \n",
       "2                  0  \n",
       "3                  0  \n",
       "4                  0  \n",
       "\n",
       "[5 rows x 54 columns]"
      ]
     },
     "execution_count": 142,
     "metadata": {},
     "output_type": "execute_result"
    }
   ],
   "source": [
    "df_rs.head()"
   ]
  },
  {
   "cell_type": "code",
   "execution_count": 143,
   "metadata": {},
   "outputs": [
    {
     "name": "stdout",
     "output_type": "stream",
     "text": [
      "                            Confusion-Matrix\n",
      "Algorithm                      TN       FP\n",
      "            Frd_trn   Frd_tst  FN       TP     Precision  Recall     F1-score   kappa      b_accuracy ROC_AUC\n",
      "==============================================================================================================\n",
      "                            95300      169\n",
      "OCSVM       236       91      126       67     0.2839     0.3472     0.3124     0.3108     0.6727     0.6727\n",
      "                            95272      197\n",
      "IF          241       29      149       44     0.1826     0.2280     0.2028     0.2010     0.6130     0.6130\n",
      "                            95354      115\n",
      "EE          235       92       73      120     0.5106     0.6218     0.5607     0.5598     0.8103     0.8103\n",
      "                            95390       79\n",
      "LOF          79       92      193        0     0.0000     0.0000     0.0000    -0.0012     0.4996     0.4996\n",
      "--------------------------------------------------------------------------------------------------------------\n"
     ]
    }
   ],
   "source": [
    "running_anomaly_detection_methods(df_rs, y_trn)"
   ]
  },
  {
   "cell_type": "code",
   "execution_count": null,
   "metadata": {},
   "outputs": [],
   "source": []
  }
 ],
 "metadata": {
  "kernelspec": {
   "display_name": "Python 3",
   "language": "python",
   "name": "python3"
  },
  "language_info": {
   "codemirror_mode": {
    "name": "ipython",
    "version": 3
   },
   "file_extension": ".py",
   "mimetype": "text/x-python",
   "name": "python",
   "nbconvert_exporter": "python",
   "pygments_lexer": "ipython3",
   "version": "3.7.1"
  }
 },
 "nbformat": 4,
 "nbformat_minor": 2
}
