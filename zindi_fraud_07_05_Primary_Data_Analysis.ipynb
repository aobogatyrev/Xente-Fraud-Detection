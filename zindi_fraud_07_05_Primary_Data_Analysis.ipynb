{
 "cells": [
  {
   "cell_type": "markdown",
   "metadata": {},
   "source": [
    "# Primary data analysis"
   ]
  },
  {
   "cell_type": "code",
   "execution_count": 1,
   "metadata": {},
   "outputs": [],
   "source": [
    "import numpy as np\n",
    "import pandas as pd\n",
    "from sklearn.metrics import f1_score\n",
    "import matplotlib.pyplot as plt"
   ]
  },
  {
   "cell_type": "code",
   "execution_count": 2,
   "metadata": {},
   "outputs": [],
   "source": [
    "df_train      = pd.read_csv('./data/training.csv')\n",
    "df_test       = pd.read_csv('./data/test.csv')\n",
    "df_submission = pd.read_csv('./data/sample_submission.csv')"
   ]
  },
  {
   "cell_type": "code",
   "execution_count": 3,
   "metadata": {},
   "outputs": [
    {
     "data": {
      "text/html": [
       "<div>\n",
       "<style scoped>\n",
       "    .dataframe tbody tr th:only-of-type {\n",
       "        vertical-align: middle;\n",
       "    }\n",
       "\n",
       "    .dataframe tbody tr th {\n",
       "        vertical-align: top;\n",
       "    }\n",
       "\n",
       "    .dataframe thead th {\n",
       "        text-align: right;\n",
       "    }\n",
       "</style>\n",
       "<table border=\"1\" class=\"dataframe\">\n",
       "  <thead>\n",
       "    <tr style=\"text-align: right;\">\n",
       "      <th></th>\n",
       "      <th>TransactionId</th>\n",
       "      <th>BatchId</th>\n",
       "      <th>AccountId</th>\n",
       "      <th>SubscriptionId</th>\n",
       "      <th>CustomerId</th>\n",
       "      <th>CurrencyCode</th>\n",
       "      <th>CountryCode</th>\n",
       "      <th>ProviderId</th>\n",
       "      <th>ProductId</th>\n",
       "      <th>ProductCategory</th>\n",
       "      <th>ChannelId</th>\n",
       "      <th>Amount</th>\n",
       "      <th>Value</th>\n",
       "      <th>TransactionStartTime</th>\n",
       "      <th>PricingStrategy</th>\n",
       "      <th>FraudResult</th>\n",
       "    </tr>\n",
       "  </thead>\n",
       "  <tbody>\n",
       "    <tr>\n",
       "      <th>0</th>\n",
       "      <td>TransactionId_76871</td>\n",
       "      <td>BatchId_36123</td>\n",
       "      <td>AccountId_3957</td>\n",
       "      <td>SubscriptionId_887</td>\n",
       "      <td>CustomerId_4406</td>\n",
       "      <td>UGX</td>\n",
       "      <td>256</td>\n",
       "      <td>ProviderId_6</td>\n",
       "      <td>ProductId_10</td>\n",
       "      <td>airtime</td>\n",
       "      <td>ChannelId_3</td>\n",
       "      <td>1000.0</td>\n",
       "      <td>1000</td>\n",
       "      <td>2018-11-15T02:18:49Z</td>\n",
       "      <td>2</td>\n",
       "      <td>0</td>\n",
       "    </tr>\n",
       "    <tr>\n",
       "      <th>1</th>\n",
       "      <td>TransactionId_73770</td>\n",
       "      <td>BatchId_15642</td>\n",
       "      <td>AccountId_4841</td>\n",
       "      <td>SubscriptionId_3829</td>\n",
       "      <td>CustomerId_4406</td>\n",
       "      <td>UGX</td>\n",
       "      <td>256</td>\n",
       "      <td>ProviderId_4</td>\n",
       "      <td>ProductId_6</td>\n",
       "      <td>financial_services</td>\n",
       "      <td>ChannelId_2</td>\n",
       "      <td>-20.0</td>\n",
       "      <td>20</td>\n",
       "      <td>2018-11-15T02:19:08Z</td>\n",
       "      <td>2</td>\n",
       "      <td>0</td>\n",
       "    </tr>\n",
       "    <tr>\n",
       "      <th>2</th>\n",
       "      <td>TransactionId_26203</td>\n",
       "      <td>BatchId_53941</td>\n",
       "      <td>AccountId_4229</td>\n",
       "      <td>SubscriptionId_222</td>\n",
       "      <td>CustomerId_4683</td>\n",
       "      <td>UGX</td>\n",
       "      <td>256</td>\n",
       "      <td>ProviderId_6</td>\n",
       "      <td>ProductId_1</td>\n",
       "      <td>airtime</td>\n",
       "      <td>ChannelId_3</td>\n",
       "      <td>500.0</td>\n",
       "      <td>500</td>\n",
       "      <td>2018-11-15T02:44:21Z</td>\n",
       "      <td>2</td>\n",
       "      <td>0</td>\n",
       "    </tr>\n",
       "    <tr>\n",
       "      <th>3</th>\n",
       "      <td>TransactionId_380</td>\n",
       "      <td>BatchId_102363</td>\n",
       "      <td>AccountId_648</td>\n",
       "      <td>SubscriptionId_2185</td>\n",
       "      <td>CustomerId_988</td>\n",
       "      <td>UGX</td>\n",
       "      <td>256</td>\n",
       "      <td>ProviderId_1</td>\n",
       "      <td>ProductId_21</td>\n",
       "      <td>utility_bill</td>\n",
       "      <td>ChannelId_3</td>\n",
       "      <td>20000.0</td>\n",
       "      <td>21800</td>\n",
       "      <td>2018-11-15T03:32:55Z</td>\n",
       "      <td>2</td>\n",
       "      <td>0</td>\n",
       "    </tr>\n",
       "    <tr>\n",
       "      <th>4</th>\n",
       "      <td>TransactionId_28195</td>\n",
       "      <td>BatchId_38780</td>\n",
       "      <td>AccountId_4841</td>\n",
       "      <td>SubscriptionId_3829</td>\n",
       "      <td>CustomerId_988</td>\n",
       "      <td>UGX</td>\n",
       "      <td>256</td>\n",
       "      <td>ProviderId_4</td>\n",
       "      <td>ProductId_6</td>\n",
       "      <td>financial_services</td>\n",
       "      <td>ChannelId_2</td>\n",
       "      <td>-644.0</td>\n",
       "      <td>644</td>\n",
       "      <td>2018-11-15T03:34:21Z</td>\n",
       "      <td>2</td>\n",
       "      <td>0</td>\n",
       "    </tr>\n",
       "    <tr>\n",
       "      <th>5</th>\n",
       "      <td>TransactionId_23223</td>\n",
       "      <td>BatchId_25954</td>\n",
       "      <td>AccountId_1078</td>\n",
       "      <td>SubscriptionId_4238</td>\n",
       "      <td>CustomerId_1432</td>\n",
       "      <td>UGX</td>\n",
       "      <td>256</td>\n",
       "      <td>ProviderId_6</td>\n",
       "      <td>ProductId_3</td>\n",
       "      <td>airtime</td>\n",
       "      <td>ChannelId_3</td>\n",
       "      <td>2000.0</td>\n",
       "      <td>2000</td>\n",
       "      <td>2018-11-15T03:35:10Z</td>\n",
       "      <td>2</td>\n",
       "      <td>0</td>\n",
       "    </tr>\n",
       "    <tr>\n",
       "      <th>6</th>\n",
       "      <td>TransactionId_118063</td>\n",
       "      <td>BatchId_118460</td>\n",
       "      <td>AccountId_2442</td>\n",
       "      <td>SubscriptionId_1980</td>\n",
       "      <td>CustomerId_2858</td>\n",
       "      <td>UGX</td>\n",
       "      <td>256</td>\n",
       "      <td>ProviderId_5</td>\n",
       "      <td>ProductId_3</td>\n",
       "      <td>airtime</td>\n",
       "      <td>ChannelId_3</td>\n",
       "      <td>10000.0</td>\n",
       "      <td>10000</td>\n",
       "      <td>2018-11-15T03:44:31Z</td>\n",
       "      <td>4</td>\n",
       "      <td>0</td>\n",
       "    </tr>\n",
       "    <tr>\n",
       "      <th>7</th>\n",
       "      <td>TransactionId_100640</td>\n",
       "      <td>BatchId_38561</td>\n",
       "      <td>AccountId_4841</td>\n",
       "      <td>SubscriptionId_3829</td>\n",
       "      <td>CustomerId_2858</td>\n",
       "      <td>UGX</td>\n",
       "      <td>256</td>\n",
       "      <td>ProviderId_4</td>\n",
       "      <td>ProductId_6</td>\n",
       "      <td>financial_services</td>\n",
       "      <td>ChannelId_2</td>\n",
       "      <td>-500.0</td>\n",
       "      <td>500</td>\n",
       "      <td>2018-11-15T03:45:13Z</td>\n",
       "      <td>2</td>\n",
       "      <td>0</td>\n",
       "    </tr>\n",
       "    <tr>\n",
       "      <th>8</th>\n",
       "      <td>TransactionId_51905</td>\n",
       "      <td>BatchId_93774</td>\n",
       "      <td>AccountId_272</td>\n",
       "      <td>SubscriptionId_4731</td>\n",
       "      <td>CustomerId_598</td>\n",
       "      <td>UGX</td>\n",
       "      <td>256</td>\n",
       "      <td>ProviderId_6</td>\n",
       "      <td>ProductId_10</td>\n",
       "      <td>airtime</td>\n",
       "      <td>ChannelId_3</td>\n",
       "      <td>500.0</td>\n",
       "      <td>500</td>\n",
       "      <td>2018-11-15T04:14:59Z</td>\n",
       "      <td>2</td>\n",
       "      <td>0</td>\n",
       "    </tr>\n",
       "    <tr>\n",
       "      <th>9</th>\n",
       "      <td>TransactionId_130161</td>\n",
       "      <td>BatchId_82409</td>\n",
       "      <td>AccountId_710</td>\n",
       "      <td>SubscriptionId_920</td>\n",
       "      <td>CustomerId_1053</td>\n",
       "      <td>UGX</td>\n",
       "      <td>256</td>\n",
       "      <td>ProviderId_1</td>\n",
       "      <td>ProductId_15</td>\n",
       "      <td>financial_services</td>\n",
       "      <td>ChannelId_3</td>\n",
       "      <td>600.0</td>\n",
       "      <td>600</td>\n",
       "      <td>2018-11-15T04:31:48Z</td>\n",
       "      <td>2</td>\n",
       "      <td>0</td>\n",
       "    </tr>\n",
       "  </tbody>\n",
       "</table>\n",
       "</div>"
      ],
      "text/plain": [
       "          TransactionId         BatchId       AccountId       SubscriptionId  \\\n",
       "0   TransactionId_76871   BatchId_36123  AccountId_3957   SubscriptionId_887   \n",
       "1   TransactionId_73770   BatchId_15642  AccountId_4841  SubscriptionId_3829   \n",
       "2   TransactionId_26203   BatchId_53941  AccountId_4229   SubscriptionId_222   \n",
       "3     TransactionId_380  BatchId_102363   AccountId_648  SubscriptionId_2185   \n",
       "4   TransactionId_28195   BatchId_38780  AccountId_4841  SubscriptionId_3829   \n",
       "5   TransactionId_23223   BatchId_25954  AccountId_1078  SubscriptionId_4238   \n",
       "6  TransactionId_118063  BatchId_118460  AccountId_2442  SubscriptionId_1980   \n",
       "7  TransactionId_100640   BatchId_38561  AccountId_4841  SubscriptionId_3829   \n",
       "8   TransactionId_51905   BatchId_93774   AccountId_272  SubscriptionId_4731   \n",
       "9  TransactionId_130161   BatchId_82409   AccountId_710   SubscriptionId_920   \n",
       "\n",
       "        CustomerId CurrencyCode  CountryCode    ProviderId     ProductId  \\\n",
       "0  CustomerId_4406          UGX          256  ProviderId_6  ProductId_10   \n",
       "1  CustomerId_4406          UGX          256  ProviderId_4   ProductId_6   \n",
       "2  CustomerId_4683          UGX          256  ProviderId_6   ProductId_1   \n",
       "3   CustomerId_988          UGX          256  ProviderId_1  ProductId_21   \n",
       "4   CustomerId_988          UGX          256  ProviderId_4   ProductId_6   \n",
       "5  CustomerId_1432          UGX          256  ProviderId_6   ProductId_3   \n",
       "6  CustomerId_2858          UGX          256  ProviderId_5   ProductId_3   \n",
       "7  CustomerId_2858          UGX          256  ProviderId_4   ProductId_6   \n",
       "8   CustomerId_598          UGX          256  ProviderId_6  ProductId_10   \n",
       "9  CustomerId_1053          UGX          256  ProviderId_1  ProductId_15   \n",
       "\n",
       "      ProductCategory    ChannelId   Amount  Value  TransactionStartTime  \\\n",
       "0             airtime  ChannelId_3   1000.0   1000  2018-11-15T02:18:49Z   \n",
       "1  financial_services  ChannelId_2    -20.0     20  2018-11-15T02:19:08Z   \n",
       "2             airtime  ChannelId_3    500.0    500  2018-11-15T02:44:21Z   \n",
       "3        utility_bill  ChannelId_3  20000.0  21800  2018-11-15T03:32:55Z   \n",
       "4  financial_services  ChannelId_2   -644.0    644  2018-11-15T03:34:21Z   \n",
       "5             airtime  ChannelId_3   2000.0   2000  2018-11-15T03:35:10Z   \n",
       "6             airtime  ChannelId_3  10000.0  10000  2018-11-15T03:44:31Z   \n",
       "7  financial_services  ChannelId_2   -500.0    500  2018-11-15T03:45:13Z   \n",
       "8             airtime  ChannelId_3    500.0    500  2018-11-15T04:14:59Z   \n",
       "9  financial_services  ChannelId_3    600.0    600  2018-11-15T04:31:48Z   \n",
       "\n",
       "   PricingStrategy  FraudResult  \n",
       "0                2            0  \n",
       "1                2            0  \n",
       "2                2            0  \n",
       "3                2            0  \n",
       "4                2            0  \n",
       "5                2            0  \n",
       "6                4            0  \n",
       "7                2            0  \n",
       "8                2            0  \n",
       "9                2            0  "
      ]
     },
     "execution_count": 3,
     "metadata": {},
     "output_type": "execute_result"
    }
   ],
   "source": [
    "df_train.head(10)"
   ]
  },
  {
   "cell_type": "code",
   "execution_count": 4,
   "metadata": {},
   "outputs": [
    {
     "data": {
      "text/html": [
       "<div>\n",
       "<style scoped>\n",
       "    .dataframe tbody tr th:only-of-type {\n",
       "        vertical-align: middle;\n",
       "    }\n",
       "\n",
       "    .dataframe tbody tr th {\n",
       "        vertical-align: top;\n",
       "    }\n",
       "\n",
       "    .dataframe thead th {\n",
       "        text-align: right;\n",
       "    }\n",
       "</style>\n",
       "<table border=\"1\" class=\"dataframe\">\n",
       "  <thead>\n",
       "    <tr style=\"text-align: right;\">\n",
       "      <th></th>\n",
       "      <th>TransactionId</th>\n",
       "      <th>BatchId</th>\n",
       "      <th>AccountId</th>\n",
       "      <th>SubscriptionId</th>\n",
       "      <th>CustomerId</th>\n",
       "      <th>CurrencyCode</th>\n",
       "      <th>CountryCode</th>\n",
       "      <th>ProviderId</th>\n",
       "      <th>ProductId</th>\n",
       "      <th>ProductCategory</th>\n",
       "      <th>ChannelId</th>\n",
       "      <th>Amount</th>\n",
       "      <th>Value</th>\n",
       "      <th>TransactionStartTime</th>\n",
       "      <th>PricingStrategy</th>\n",
       "    </tr>\n",
       "  </thead>\n",
       "  <tbody>\n",
       "    <tr>\n",
       "      <th>0</th>\n",
       "      <td>TransactionId_50600</td>\n",
       "      <td>BatchId_35028</td>\n",
       "      <td>AccountId_2441</td>\n",
       "      <td>SubscriptionId_4426</td>\n",
       "      <td>CustomerId_2857</td>\n",
       "      <td>UGX</td>\n",
       "      <td>256</td>\n",
       "      <td>ProviderId_5</td>\n",
       "      <td>ProductId_3</td>\n",
       "      <td>airtime</td>\n",
       "      <td>ChannelId_3</td>\n",
       "      <td>1000.0</td>\n",
       "      <td>1000</td>\n",
       "      <td>2019-02-13T10:01:40Z</td>\n",
       "      <td>4</td>\n",
       "    </tr>\n",
       "    <tr>\n",
       "      <th>1</th>\n",
       "      <td>TransactionId_95109</td>\n",
       "      <td>BatchId_45139</td>\n",
       "      <td>AccountId_3439</td>\n",
       "      <td>SubscriptionId_2643</td>\n",
       "      <td>CustomerId_3874</td>\n",
       "      <td>UGX</td>\n",
       "      <td>256</td>\n",
       "      <td>ProviderId_5</td>\n",
       "      <td>ProductId_15</td>\n",
       "      <td>financial_services</td>\n",
       "      <td>ChannelId_3</td>\n",
       "      <td>2000.0</td>\n",
       "      <td>2000</td>\n",
       "      <td>2019-02-13T10:02:12Z</td>\n",
       "      <td>2</td>\n",
       "    </tr>\n",
       "    <tr>\n",
       "      <th>2</th>\n",
       "      <td>TransactionId_47357</td>\n",
       "      <td>BatchId_74887</td>\n",
       "      <td>AccountId_4841</td>\n",
       "      <td>SubscriptionId_3829</td>\n",
       "      <td>CustomerId_2857</td>\n",
       "      <td>UGX</td>\n",
       "      <td>256</td>\n",
       "      <td>ProviderId_4</td>\n",
       "      <td>ProductId_6</td>\n",
       "      <td>financial_services</td>\n",
       "      <td>ChannelId_2</td>\n",
       "      <td>-50.0</td>\n",
       "      <td>50</td>\n",
       "      <td>2019-02-13T10:02:30Z</td>\n",
       "      <td>2</td>\n",
       "    </tr>\n",
       "    <tr>\n",
       "      <th>3</th>\n",
       "      <td>TransactionId_28185</td>\n",
       "      <td>BatchId_11025</td>\n",
       "      <td>AccountId_2685</td>\n",
       "      <td>SubscriptionId_4626</td>\n",
       "      <td>CustomerId_3105</td>\n",
       "      <td>UGX</td>\n",
       "      <td>256</td>\n",
       "      <td>ProviderId_5</td>\n",
       "      <td>ProductId_10</td>\n",
       "      <td>airtime</td>\n",
       "      <td>ChannelId_3</td>\n",
       "      <td>3000.0</td>\n",
       "      <td>3000</td>\n",
       "      <td>2019-02-13T10:02:38Z</td>\n",
       "      <td>4</td>\n",
       "    </tr>\n",
       "    <tr>\n",
       "      <th>4</th>\n",
       "      <td>TransactionId_22140</td>\n",
       "      <td>BatchId_29804</td>\n",
       "      <td>AccountId_4841</td>\n",
       "      <td>SubscriptionId_3829</td>\n",
       "      <td>CustomerId_3105</td>\n",
       "      <td>UGX</td>\n",
       "      <td>256</td>\n",
       "      <td>ProviderId_4</td>\n",
       "      <td>ProductId_6</td>\n",
       "      <td>financial_services</td>\n",
       "      <td>ChannelId_2</td>\n",
       "      <td>-60.0</td>\n",
       "      <td>60</td>\n",
       "      <td>2019-02-13T10:02:58Z</td>\n",
       "      <td>2</td>\n",
       "    </tr>\n",
       "  </tbody>\n",
       "</table>\n",
       "</div>"
      ],
      "text/plain": [
       "         TransactionId        BatchId       AccountId       SubscriptionId  \\\n",
       "0  TransactionId_50600  BatchId_35028  AccountId_2441  SubscriptionId_4426   \n",
       "1  TransactionId_95109  BatchId_45139  AccountId_3439  SubscriptionId_2643   \n",
       "2  TransactionId_47357  BatchId_74887  AccountId_4841  SubscriptionId_3829   \n",
       "3  TransactionId_28185  BatchId_11025  AccountId_2685  SubscriptionId_4626   \n",
       "4  TransactionId_22140  BatchId_29804  AccountId_4841  SubscriptionId_3829   \n",
       "\n",
       "        CustomerId CurrencyCode  CountryCode    ProviderId     ProductId  \\\n",
       "0  CustomerId_2857          UGX          256  ProviderId_5   ProductId_3   \n",
       "1  CustomerId_3874          UGX          256  ProviderId_5  ProductId_15   \n",
       "2  CustomerId_2857          UGX          256  ProviderId_4   ProductId_6   \n",
       "3  CustomerId_3105          UGX          256  ProviderId_5  ProductId_10   \n",
       "4  CustomerId_3105          UGX          256  ProviderId_4   ProductId_6   \n",
       "\n",
       "      ProductCategory    ChannelId  Amount  Value  TransactionStartTime  \\\n",
       "0             airtime  ChannelId_3  1000.0   1000  2019-02-13T10:01:40Z   \n",
       "1  financial_services  ChannelId_3  2000.0   2000  2019-02-13T10:02:12Z   \n",
       "2  financial_services  ChannelId_2   -50.0     50  2019-02-13T10:02:30Z   \n",
       "3             airtime  ChannelId_3  3000.0   3000  2019-02-13T10:02:38Z   \n",
       "4  financial_services  ChannelId_2   -60.0     60  2019-02-13T10:02:58Z   \n",
       "\n",
       "   PricingStrategy  \n",
       "0                4  \n",
       "1                2  \n",
       "2                2  \n",
       "3                4  \n",
       "4                2  "
      ]
     },
     "execution_count": 4,
     "metadata": {},
     "output_type": "execute_result"
    }
   ],
   "source": [
    "df_test.head()"
   ]
  },
  {
   "cell_type": "code",
   "execution_count": 5,
   "metadata": {},
   "outputs": [
    {
     "name": "stdout",
     "output_type": "stream",
     "text": [
      "(95662, 16) (45019, 15)\n"
     ]
    }
   ],
   "source": [
    "# a tuple representing the dimensionality of the TRAIN and TEST DataFrames\n",
    "print(df_train.shape, df_test.shape)"
   ]
  },
  {
   "cell_type": "markdown",
   "metadata": {},
   "source": [
    "- **TransactionId** --- Unique пњљtransaction identifier on platform\n",
    "- **BatchId** --- Unique number assigned to a batch of transactions for processing\n",
    "- **AccountId** --- Unique number identifying the customer on platform\n",
    "- **SubscriptionId** --- Unique number identifying the customer subscription\n",
    "- **CustomerId** --- Unique identifier attached to Account\n",
    "- **CurrencyCode** --- Country currency\n",
    "- **CountryCode** --- Numerical geographical code of country\n",
    "- **ProviderId** --- Source provider of Item bought\n",
    "- **ProductId** --- Item name being bought\n",
    "- **ProductCategory** --- ProductIds are organized into these broader product categories\n",
    "- **ChannelId** --- Identifies if customer used web, Android, IOS, pay later or checkout\n",
    "- **Amount** --- Value of the transaction. Positive for debits from customer account and negative for credit into customer account\n",
    "- **Value** --- Absolute value of the amount\n",
    "- **TransactionStartTime** --- Transaction start time\n",
    "- **PricingStrategy** --- Category of Xente's pricing structure for merchants\n",
    "- **FraudResult** --- Fraud status of transaction 1 -yes or 0-No"
   ]
  },
  {
   "cell_type": "code",
   "execution_count": 6,
   "metadata": {},
   "outputs": [
    {
     "name": "stdout",
     "output_type": "stream",
     "text": [
      "False False\n"
     ]
    }
   ],
   "source": [
    "# Indicator whether DataFrame is empty\n",
    "print(df_train.empty, df_test.empty)"
   ]
  },
  {
   "cell_type": "code",
   "execution_count": 7,
   "metadata": {},
   "outputs": [
    {
     "name": "stdout",
     "output_type": "stream",
     "text": [
      "0 0\n"
     ]
    }
   ],
   "source": [
    "print(df_train.isnull().sum().max(), df_test.isnull().sum().max())"
   ]
  },
  {
   "cell_type": "code",
   "execution_count": 8,
   "metadata": {},
   "outputs": [
    {
     "data": {
      "text/plain": [
       "TransactionId            object\n",
       "BatchId                  object\n",
       "AccountId                object\n",
       "SubscriptionId           object\n",
       "CustomerId               object\n",
       "CurrencyCode             object\n",
       "CountryCode               int64\n",
       "ProviderId               object\n",
       "ProductId                object\n",
       "ProductCategory          object\n",
       "ChannelId                object\n",
       "Amount                  float64\n",
       "Value                     int64\n",
       "TransactionStartTime     object\n",
       "PricingStrategy           int64\n",
       "FraudResult               int64\n",
       "dtype: object"
      ]
     },
     "execution_count": 8,
     "metadata": {},
     "output_type": "execute_result"
    }
   ],
   "source": [
    "df_train.dtypes"
   ]
  },
  {
   "cell_type": "code",
   "execution_count": 9,
   "metadata": {},
   "outputs": [
    {
     "name": "stdout",
     "output_type": "stream",
     "text": [
      "=== Number of unique values in columns (TRAIN) ===\n",
      "TransactionId : 95662\n",
      "BatchId : 94809\n",
      "AccountId : 3633\n",
      "SubscriptionId : 3627\n",
      "CustomerId : 3742\n",
      "CurrencyCode : 1\n",
      "CountryCode : 1\n",
      "ProviderId : 6\n",
      "ProductId : 23\n",
      "ProductCategory : 9\n",
      "ChannelId : 4\n",
      "Amount : 1676\n",
      "Value : 1517\n",
      "TransactionStartTime : 94556\n",
      "PricingStrategy : 4\n",
      "FraudResult : 2\n"
     ]
    }
   ],
   "source": [
    "print('=== Number of unique values in columns (TRAIN) ===')\n",
    "for clm in df_train.columns:\n",
    "    print(clm, ':', df_train[clm].nunique())"
   ]
  },
  {
   "cell_type": "code",
   "execution_count": 10,
   "metadata": {},
   "outputs": [
    {
     "name": "stdout",
     "output_type": "stream",
     "text": [
      "=== Number of unique values in columns (TEST) ===\n",
      "TransactionId : 45019\n",
      "BatchId : 44684\n",
      "AccountId : 2471\n",
      "SubscriptionId : 2470\n",
      "CustomerId : 5018\n",
      "CurrencyCode : 1\n",
      "CountryCode : 1\n",
      "ProviderId : 6\n",
      "ProductId : 26\n",
      "ProductCategory : 9\n",
      "ChannelId : 5\n",
      "Amount : 998\n",
      "Value : 944\n",
      "TransactionStartTime : 44018\n",
      "PricingStrategy : 4\n"
     ]
    }
   ],
   "source": [
    "print('=== Number of unique values in columns (TEST) ===')\n",
    "for clm in df_test.columns:\n",
    "    print(clm, ':', df_test[clm].nunique())"
   ]
  },
  {
   "cell_type": "markdown",
   "metadata": {},
   "source": [
    "### Field `TransactionId`"
   ]
  },
  {
   "cell_type": "markdown",
   "metadata": {},
   "source": [
    "Содержит уникальные знаения, использование затруднительно"
   ]
  },
  {
   "cell_type": "code",
   "execution_count": 11,
   "metadata": {},
   "outputs": [
    {
     "data": {
      "text/plain": [
       "0"
      ]
     },
     "execution_count": 11,
     "metadata": {},
     "output_type": "execute_result"
    }
   ],
   "source": [
    "# проверяем пересекаются ли тразакции в train и test\n",
    "len(set(df_train['TransactionId']) & set(df_test['TransactionId']))"
   ]
  },
  {
   "cell_type": "markdown",
   "metadata": {},
   "source": [
    "можно удалять"
   ]
  },
  {
   "cell_type": "markdown",
   "metadata": {},
   "source": [
    "### Field `BatchId`"
   ]
  },
  {
   "cell_type": "markdown",
   "metadata": {},
   "source": [
    "Проанализировать возможность использования `BatchId`"
   ]
  },
  {
   "cell_type": "markdown",
   "metadata": {},
   "source": [
    "### Field `AccountId`"
   ]
  },
  {
   "cell_type": "code",
   "execution_count": 12,
   "metadata": {},
   "outputs": [
    {
     "data": {
      "text/plain": [
       "1263"
      ]
     },
     "execution_count": 12,
     "metadata": {},
     "output_type": "execute_result"
    }
   ],
   "source": [
    "# проверяем пересекаются ли аккаунты в train и test\n",
    "len(set(df_train['AccountId']) & set(df_test['AccountId']))"
   ]
  },
  {
   "cell_type": "markdown",
   "metadata": {},
   "source": [
    "для предикта можно воспользоваться информацией о тех аккаунтуах, которые есть на трейне"
   ]
  },
  {
   "cell_type": "markdown",
   "metadata": {},
   "source": [
    "### Fields `SubscriptionId`, `CustomerId`"
   ]
  },
  {
   "cell_type": "markdown",
   "metadata": {},
   "source": [
    "Проанализировать возможность использования\n",
    "\n",
    "Проверить не связаны ли frauds с использованием нового SubscriptionId или нового CustomerId"
   ]
  },
  {
   "cell_type": "markdown",
   "metadata": {},
   "source": [
    "### Fields `CurrencyCode`,  `CountryCode`, `ProviderId`, `ProductId`, `ProductCategory`, `ChannelId`, `PricingStrategy`"
   ]
  },
  {
   "cell_type": "code",
   "execution_count": 13,
   "metadata": {},
   "outputs": [
    {
     "name": "stdout",
     "output_type": "stream",
     "text": [
      "---  CurrencyCode  ---\n",
      "Train: ['UGX']\n",
      "Test:  ['UGX']\n",
      "\n",
      "---  CountryCode  ---\n",
      "Train: [256]\n",
      "Test:  [256]\n",
      "\n",
      "---  ProviderId  ---\n",
      "Train: ['ProviderId_1' 'ProviderId_2' 'ProviderId_3' 'ProviderId_4'\n",
      " 'ProviderId_5' 'ProviderId_6']\n",
      "Test:  ['ProviderId_1' 'ProviderId_2' 'ProviderId_3' 'ProviderId_4'\n",
      " 'ProviderId_5' 'ProviderId_6']\n",
      "\n",
      "---  ProductId  ---\n",
      "Train: ['ProductId_1' 'ProductId_10' 'ProductId_11' 'ProductId_12' 'ProductId_13'\n",
      " 'ProductId_14' 'ProductId_15' 'ProductId_16' 'ProductId_19' 'ProductId_2'\n",
      " 'ProductId_20' 'ProductId_21' 'ProductId_22' 'ProductId_23'\n",
      " 'ProductId_24' 'ProductId_27' 'ProductId_3' 'ProductId_4' 'ProductId_5'\n",
      " 'ProductId_6' 'ProductId_7' 'ProductId_8' 'ProductId_9']\n",
      "Test:  ['ProductId_1' 'ProductId_10' 'ProductId_11' 'ProductId_13' 'ProductId_14'\n",
      " 'ProductId_15' 'ProductId_16' 'ProductId_17' 'ProductId_18'\n",
      " 'ProductId_19' 'ProductId_2' 'ProductId_20' 'ProductId_21' 'ProductId_22'\n",
      " 'ProductId_23' 'ProductId_24' 'ProductId_25' 'ProductId_26'\n",
      " 'ProductId_27' 'ProductId_3' 'ProductId_4' 'ProductId_5' 'ProductId_6'\n",
      " 'ProductId_7' 'ProductId_8' 'ProductId_9']\n",
      "\n",
      "---  ProductCategory  ---\n",
      "Train: ['airtime' 'data_bundles' 'financial_services' 'movies' 'other' 'ticket'\n",
      " 'transport' 'tv' 'utility_bill']\n",
      "Test:  ['airtime' 'data_bundles' 'financial_services' 'movies' 'retail' 'ticket'\n",
      " 'transport' 'tv' 'utility_bill']\n",
      "\n",
      "---  ChannelId  ---\n",
      "Train: ['ChannelId_1' 'ChannelId_2' 'ChannelId_3' 'ChannelId_5']\n",
      "Test:  ['ChannelId_1' 'ChannelId_2' 'ChannelId_3' 'ChannelId_4' 'ChannelId_5']\n",
      "\n",
      "---  PricingStrategy  ---\n",
      "Train: [0 1 2 4]\n",
      "Test:  [0 1 2 4]\n",
      "\n"
     ]
    }
   ],
   "source": [
    "columns = ['CurrencyCode', \n",
    "           'CountryCode', \n",
    "           'ProviderId', \n",
    "           'ProductId', \n",
    "           'ProductCategory', \n",
    "           'ChannelId', \n",
    "           'PricingStrategy']\n",
    "for clm in columns:\n",
    "    print('--- ', clm, ' ---')\n",
    "    print('Train:', np.sort(df_train[clm].unique()))\n",
    "    print('Test: ', np.sort( df_test[clm].unique()))\n",
    "    print()"
   ]
  },
  {
   "cell_type": "markdown",
   "metadata": {},
   "source": [
    "Выводы:\n",
    "- `CurrencyCode` на `train` и `test` принимает **одно** значение\n",
    "- `CountryCode` на `train` и `test` принимает **одно** значение\n",
    "- `ProviderId` принимает 6 значений, которые совпадают на `train` и `test`\n",
    "- `ProductId` принимает **27** возможных значений!\n",
    "- `ProductCategory` принимает **9** несовпадающих значений! `other` в `train` заменено на `retail` в `test`\n",
    "- `ChannelId` на `train` **не содержит** `ChannelId_4`\n",
    "- `PricingStrategy` принимает 4 значения, которые совпадают на `train` и `test`, но значение `3` отсутствует"
   ]
  },
  {
   "cell_type": "markdown",
   "metadata": {},
   "source": [
    "### Field `CurrencyCode`"
   ]
  },
  {
   "cell_type": "markdown",
   "metadata": {},
   "source": [
    "Вывод: удалить"
   ]
  },
  {
   "cell_type": "markdown",
   "metadata": {},
   "source": [
    "### Field `CountryCode`"
   ]
  },
  {
   "cell_type": "markdown",
   "metadata": {},
   "source": [
    "Вывод: удалить"
   ]
  },
  {
   "cell_type": "markdown",
   "metadata": {},
   "source": [
    "### Field `ProviderId`"
   ]
  },
  {
   "cell_type": "code",
   "execution_count": 14,
   "metadata": {},
   "outputs": [
    {
     "name": "stdout",
     "output_type": "stream",
     "text": [
      "ProviderId   : train : test\n",
      "ProviderId_1 : 5643 : 2391\n",
      "ProviderId_2 : 18 : 6\n",
      "ProviderId_3 : 3084 : 1568\n",
      "ProviderId_4 : 38189 : 18256\n",
      "ProviderId_5 : 14542 : 6977\n",
      "ProviderId_6 : 34186 : 15821\n"
     ]
    }
   ],
   "source": [
    "field_name = 'ProviderId'\n",
    "nunique_trn = df_train[field_name].nunique()\n",
    "nunique_tst = df_test [field_name].nunique()\n",
    "ids = []                    #list IDs\n",
    "trn = np.zeros(nunique_trn) #list train\n",
    "tst = np.zeros(nunique_tst) #list test\n",
    "print(field_name + '   : train : test')\n",
    "for i in range(max(nunique_trn, nunique_tst)):\n",
    "    ID = field_name + '_' + str(i+1)\n",
    "    n_train = df_train[field_name][df_train[field_name] == ID].count()\n",
    "    n_test  = df_test [field_name][df_test [field_name] == ID].count()\n",
    "    ids.append(ID)\n",
    "    trn[i] = n_train\n",
    "    tst[i] = n_test\n",
    "    print(ids[i], ':', n_train, ':', n_test)"
   ]
  },
  {
   "cell_type": "code",
   "execution_count": 15,
   "metadata": {},
   "outputs": [
    {
     "data": {
      "image/png": "[encoded data removed]",
      "text/plain": [
       "<Figure size 864x576 with 1 Axes>"
      ]
     },
     "metadata": {
      "needs_background": "light"
     },
     "output_type": "display_data"
    }
   ],
   "source": [
    "ind = np.arange(nunique_trn)  # the x locations for the groups\n",
    "width = 0.35  # the width of the bars\n",
    "\n",
    "fig, ax = plt.subplots(figsize=(12, 8))\n",
    "\n",
    "rects1 = ax.bar(ind - width/2, trn, width, label='Train')\n",
    "rects2 = ax.bar(ind + width/2, tst, width, label='Test')\n",
    "\n",
    "# Add some text for labels, title and custom x-axis tick labels, etc.\n",
    "ax.set_ylabel('Nubmer of transactions')\n",
    "ax.set_title('Number of transactions by ProviderID')\n",
    "ax.set_xticks(ind)\n",
    "ax.set_xticklabels(ids)\n",
    "ax.legend()\n",
    "\n",
    "plt.show()"
   ]
  },
  {
   "cell_type": "markdown",
   "metadata": {},
   "source": [
    "Вывод: применить `One-Hot Encoding`"
   ]
  },
  {
   "cell_type": "markdown",
   "metadata": {},
   "source": [
    "### Field `ProductId`"
   ]
  },
  {
   "cell_type": "code",
   "execution_count": 16,
   "metadata": {},
   "outputs": [
    {
     "name": "stdout",
     "output_type": "stream",
     "text": [
      "ProductId   : train : test\n",
      "ProductId_1 : 2885 : 1212\n",
      "ProductId_2 : 236 : 41\n",
      "ProductId_3 : 24344 : 10310\n",
      "ProductId_4 : 2403 : 875\n",
      "ProductId_5 : 25 : 5\n",
      "ProductId_6 : 32635 : 15186\n",
      "ProductId_7 : 86 : 42\n",
      "ProductId_8 : 197 : 74\n",
      "ProductId_9 : 17 : 3\n",
      "ProductId_10 : 15384 : 8482\n",
      "ProductId_11 : 1377 : 867\n",
      "ProductId_12 : 2 : 0\n",
      "ProductId_13 : 296 : 105\n",
      "ProductId_14 : 789 : 473\n",
      "ProductId_15 : 11964 : 6007\n",
      "ProductId_16 : 10 : 35\n",
      "ProductId_17 : 0 : 6\n",
      "ProductId_18 : 0 : 7\n",
      "ProductId_19 : 965 : 334\n",
      "ProductId_20 : 216 : 16\n",
      "ProductId_21 : 1512 : 566\n",
      "ProductId_22 : 112 : 69\n",
      "ProductId_23 : 1 : 2\n",
      "ProductId_24 : 175 : 78\n",
      "ProductId_25 : 0 : 31\n",
      "ProductId_26 : 0 : 184\n",
      "ProductId_27 : 31 : 9\n"
     ]
    }
   ],
   "source": [
    "field_name = 'ProductId'\n",
    "n_union_uniqui = 27\n",
    "ids = []                       #list IDs\n",
    "trn = np.zeros(n_union_uniqui) #list train\n",
    "tst = np.zeros(n_union_uniqui) #list test\n",
    "print(field_name + '   : train : test')\n",
    "for i in range(n_union_uniqui):\n",
    "    ID = field_name + '_' + str(i+1)\n",
    "    n_train = df_train[field_name][df_train[field_name] == ID].count()\n",
    "    n_test  = df_test [field_name][df_test [field_name] == ID].count()\n",
    "    ids.append(ID)\n",
    "    trn[i] = n_train\n",
    "    tst[i] = n_test\n",
    "    print(ids[i], ':', n_train, ':', n_test)"
   ]
  },
  {
   "cell_type": "code",
   "execution_count": 17,
   "metadata": {},
   "outputs": [
    {
     "data": {
      "image/png": "[encoded data removed]",
      "text/plain": [
       "<Figure size 864x576 with 1 Axes>"
      ]
     },
     "metadata": {
      "needs_background": "light"
     },
     "output_type": "display_data"
    }
   ],
   "source": [
    "ind = np.arange(n_union_uniqui)  # the x locations for the groups\n",
    "width = 0.35  # the width of the bars\n",
    "\n",
    "fig, ax = plt.subplots(figsize=(12, 8))\n",
    "\n",
    "rects1 = ax.bar(ind - width/2, trn, width, label='Train')\n",
    "rects2 = ax.bar(ind + width/2, tst, width, label='Test')\n",
    "\n",
    "# Add some text for labels, title and custom x-axis tick labels, etc.\n",
    "ax.set_ylabel('Nubmer of transactions')\n",
    "ax.set_title('Number of transactions by ' + field_name)\n",
    "ax.set_xticks(ind)\n",
    "ax.set_xticklabels(range(1, n_union_uniqui+1))\n",
    "ax.legend()\n",
    "\n",
    "plt.show()"
   ]
  },
  {
   "cell_type": "markdown",
   "metadata": {},
   "source": [
    "Вывод: применить `One-Hot Encoding` для **27** значений от `ProductId_1` до `ProductId_27`"
   ]
  },
  {
   "cell_type": "markdown",
   "metadata": {},
   "source": [
    "### Field `ProductCategory`"
   ]
  },
  {
   "cell_type": "code",
   "execution_count": 18,
   "metadata": {},
   "outputs": [
    {
     "name": "stdout",
     "output_type": "stream",
     "text": [
      "ProductCategory   : train : test\n",
      "airtime : 45027 : 20923\n",
      "data_bundles : 1613 : 914\n",
      "financial_services : 45405 : 21700\n",
      "movies : 175 : 78\n",
      "other : 2 : 0\n",
      "retail : 0 : 184\n",
      "ticket : 216 : 16\n",
      "transport : 25 : 5\n",
      "tv : 1279 : 459\n",
      "utility_bill : 1920 : 740\n"
     ]
    }
   ],
   "source": [
    "field_name = 'ProductCategory'\n",
    "PC_list = np.sort(list(set(df_train[field_name].unique()) | set(df_test[field_name].unique())))\n",
    "n_union_uniqui = len(PC_list)\n",
    "ids = []                       #list IDs\n",
    "trn = np.zeros(n_union_uniqui) #list train\n",
    "tst = np.zeros(n_union_uniqui) #list test\n",
    "print(field_name + '   : train : test')\n",
    "for i, ID in enumerate(PC_list):\n",
    "    n_train = df_train[field_name][df_train[field_name] == ID].count()\n",
    "    n_test  = df_test [field_name][df_test [field_name] == ID].count()\n",
    "    ids.append(ID)\n",
    "    trn[i] = n_train\n",
    "    tst[i] = n_test\n",
    "    print(ids[i], ':', n_train, ':', n_test)"
   ]
  },
  {
   "cell_type": "code",
   "execution_count": 19,
   "metadata": {},
   "outputs": [
    {
     "data": {
      "image/png": "[encoded data removed]",
      "text/plain": [
       "<Figure size 864x576 with 1 Axes>"
      ]
     },
     "metadata": {
      "needs_background": "light"
     },
     "output_type": "display_data"
    }
   ],
   "source": [
    "ind = np.arange(n_union_uniqui)  # the x locations for the groups\n",
    "width = 0.35  # the width of the bars\n",
    "\n",
    "fig, ax = plt.subplots(figsize=(12, 8))\n",
    "\n",
    "rects1 = ax.bar(ind - width/2, trn, width, label='Train')\n",
    "rects2 = ax.bar(ind + width/2, tst, width, label='Test')\n",
    "\n",
    "# Add some text for labels, title and custom x-axis tick labels, etc.\n",
    "ax.set_ylabel('Nubmer of transactions')\n",
    "ax.set_title('Number of transactions by ' + field_name)\n",
    "ax.set_xticks(ind)\n",
    "ax.set_xticklabels(ids)\n",
    "ax.legend()\n",
    "\n",
    "plt.show()"
   ]
  },
  {
   "cell_type": "markdown",
   "metadata": {},
   "source": [
    "Вывод: перекодировать общий список `ProductCategory` в последовательность `[0,1,2,...,9]`, применить One-Hot Encoding для этих значений"
   ]
  },
  {
   "cell_type": "markdown",
   "metadata": {},
   "source": [
    "### Field `ChannelId`"
   ]
  },
  {
   "cell_type": "code",
   "execution_count": 20,
   "metadata": {},
   "outputs": [
    {
     "name": "stdout",
     "output_type": "stream",
     "text": [
      "ChannelId   : train : test\n",
      "ChannelId_1 : 538 : 102\n",
      "ChannelId_2 : 37141 : 6198\n",
      "ChannelId_3 : 56935 : 38090\n",
      "ChannelId_4 : 0 : 27\n",
      "ChannelId_5 : 1048 : 602\n"
     ]
    }
   ],
   "source": [
    "field_name = 'ChannelId'\n",
    "n_union_uniqui = 5\n",
    "ids = []                       #list IDs\n",
    "trn = np.zeros(n_union_uniqui) #list train\n",
    "tst = np.zeros(n_union_uniqui) #list test\n",
    "print(field_name + '   : train : test')\n",
    "for i in range(n_union_uniqui):\n",
    "    ID = field_name + '_' + str(i+1)\n",
    "    n_train = df_train[field_name][df_train[field_name] == ID].count()\n",
    "    n_test  = df_test [field_name][df_test [field_name] == ID].count()\n",
    "    ids.append(ID)\n",
    "    trn[i] = n_train\n",
    "    tst[i] = n_test\n",
    "    print(ids[i], ':', n_train, ':', n_test)"
   ]
  },
  {
   "cell_type": "code",
   "execution_count": 21,
   "metadata": {},
   "outputs": [
    {
     "data": {
      "image/png": "[encoded data removed]",
      "text/plain": [
       "<Figure size 864x576 with 1 Axes>"
      ]
     },
     "metadata": {
      "needs_background": "light"
     },
     "output_type": "display_data"
    }
   ],
   "source": [
    "ind = np.arange(n_union_uniqui)  # the x locations for the groups\n",
    "width = 0.35  # the width of the bars\n",
    "\n",
    "fig, ax = plt.subplots(figsize=(12, 8))\n",
    "\n",
    "rects1 = ax.bar(ind - width/2, trn, width, label='Train')\n",
    "rects2 = ax.bar(ind + width/2, tst, width, label='Test')\n",
    "\n",
    "# Add some text for labels, title and custom x-axis tick labels, etc.\n",
    "ax.set_ylabel('Nubmer of transactions')\n",
    "ax.set_title('Number of transactions by ' + field_name)\n",
    "ax.set_xticks(ind)\n",
    "ax.set_xticklabels(ids)\n",
    "ax.legend()\n",
    "\n",
    "plt.show()"
   ]
  },
  {
   "cell_type": "markdown",
   "metadata": {},
   "source": [
    "Вывод: применить `One-Hot Encoding` для **5** значений от `ChannelId_1` до `ChannelId_5`"
   ]
  },
  {
   "cell_type": "markdown",
   "metadata": {},
   "source": [
    "### Field `PricingStrategy`"
   ]
  },
  {
   "cell_type": "code",
   "execution_count": 22,
   "metadata": {},
   "outputs": [
    {
     "name": "stdout",
     "output_type": "stream",
     "text": [
      "PricingStrategy   : train : test\n",
      "0 : 385 : 268\n",
      "1 : 1867 : 692\n",
      "2 : 79848 : 37578\n",
      "3 : 0 : 0\n",
      "4 : 13562 : 6481\n"
     ]
    }
   ],
   "source": [
    "field_name = 'PricingStrategy'\n",
    "n_union_uniqui = 5\n",
    "ids = []                       #list IDs\n",
    "trn = np.zeros(n_union_uniqui) #list train\n",
    "tst = np.zeros(n_union_uniqui) #list test\n",
    "print(field_name + '   : train : test')\n",
    "for i in range(n_union_uniqui):\n",
    "    ID = i                     # changed\n",
    "    n_train = df_train[field_name][df_train[field_name] == ID].count()\n",
    "    n_test  = df_test [field_name][df_test [field_name] == ID].count()\n",
    "    ids.append(ID)\n",
    "    trn[i] = n_train\n",
    "    tst[i] = n_test\n",
    "    print(ids[i], ':', n_train, ':', n_test)"
   ]
  },
  {
   "cell_type": "code",
   "execution_count": 23,
   "metadata": {},
   "outputs": [
    {
     "data": {
      "image/png": "[encoded data removed]",
      "text/plain": [
       "<Figure size 864x576 with 1 Axes>"
      ]
     },
     "metadata": {
      "needs_background": "light"
     },
     "output_type": "display_data"
    }
   ],
   "source": [
    "ind = np.arange(n_union_uniqui)  # the x locations for the groups\n",
    "width = 0.35  # the width of the bars\n",
    "\n",
    "fig, ax = plt.subplots(figsize=(12, 8))\n",
    "\n",
    "rects1 = ax.bar(ind - width/2, trn, width, label='Train')\n",
    "rects2 = ax.bar(ind + width/2, tst, width, label='Test')\n",
    "\n",
    "# Add some text for labels, title and custom x-axis tick labels, etc.\n",
    "ax.set_ylabel('Nubmer of transactions')\n",
    "ax.set_title('Number of transactions by ' + field_name)\n",
    "ax.set_xticks(ind)\n",
    "ax.set_xticklabels(ids)  # changed\n",
    "ax.legend()\n",
    "\n",
    "plt.show()"
   ]
  },
  {
   "cell_type": "markdown",
   "metadata": {},
   "source": [
    "Вывод: перекодировать `4` на `3`"
   ]
  },
  {
   "cell_type": "markdown",
   "metadata": {},
   "source": [
    "## Field `FraudResult`"
   ]
  },
  {
   "cell_type": "markdown",
   "metadata": {},
   "source": [
    "# Исследовать сколько frauds приходится на каждое значение каждого из полей"
   ]
  },
  {
   "cell_type": "code",
   "execution_count": null,
   "metadata": {},
   "outputs": [],
   "source": [
    "df_train[df_train['FraudResult'] == 1][df_train['ProductId'] == 'ProductId_1'].count()"
   ]
  },
  {
   "cell_type": "code",
   "execution_count": null,
   "metadata": {},
   "outputs": [],
   "source": []
  },
  {
   "cell_type": "code",
   "execution_count": null,
   "metadata": {},
   "outputs": [],
   "source": [
    "df_train.filter(items=['TransactionId', 'ProductId']).groupby(['ProductId']).count()"
   ]
  },
  {
   "cell_type": "code",
   "execution_count": null,
   "metadata": {},
   "outputs": [],
   "source": [
    "#df_train.filter(items=['TransactionId', 'ProductId', 'FraudResult']).groupby(['FraudResult']).count()"
   ]
  },
  {
   "cell_type": "code",
   "execution_count": null,
   "metadata": {},
   "outputs": [],
   "source": [
    "plt.hist(df_test['ProductId']);"
   ]
  },
  {
   "cell_type": "code",
   "execution_count": null,
   "metadata": {},
   "outputs": [],
   "source": [
    "num_nofraud = df_train['FraudResult'].value_counts()[0]\n",
    "num_fraud   = df_train['FraudResult'].value_counts()[1]\n",
    "\n",
    "print('No Frauds:', num_nofraud, 'transactions,', round(num_nofraud / len(df_train), 3), '% of the dataset')\n",
    "print('Frauds:', num_fraud, 'transactions,', round(num_fraud / len(df_train), 3), '% of the dataset')"
   ]
  },
  {
   "cell_type": "code",
   "execution_count": null,
   "metadata": {},
   "outputs": [],
   "source": [
    "df_fraud_Am_Val = df_train.sort_values(by=['FraudResult'], ascending=False).filter(items=['Amount', 'Value']).head(num_fraud)"
   ]
  },
  {
   "cell_type": "code",
   "execution_count": null,
   "metadata": {},
   "outputs": [],
   "source": [
    "df_fraud_Am_Val.groupby(['Amount']).count()"
   ]
  },
  {
   "cell_type": "code",
   "execution_count": null,
   "metadata": {},
   "outputs": [],
   "source": [
    "df_fraud_Am_Val.Amount.value_counts()"
   ]
  },
  {
   "cell_type": "code",
   "execution_count": null,
   "metadata": {},
   "outputs": [],
   "source": [
    "plt.hist(df_fraud_Am_Val['Amount'], bins=50);"
   ]
  },
  {
   "cell_type": "code",
   "execution_count": null,
   "metadata": {},
   "outputs": [],
   "source": [
    "plt.hist(df_train['Amount'], bins=50);"
   ]
  },
  {
   "cell_type": "code",
   "execution_count": null,
   "metadata": {},
   "outputs": [],
   "source": [
    "df_train.describe()"
   ]
  },
  {
   "cell_type": "markdown",
   "metadata": {},
   "source": [
    "# Data Preprocessing"
   ]
  },
  {
   "cell_type": "markdown",
   "metadata": {},
   "source": [
    "1. Удаляем безполезные столбцы\n",
    "- Переводим текстовое поля дата-время в корректный формат\n",
    "- Переводим текстовые поля в числовые\n",
    "- Кодируем числовые поля с помощью `LabelEncoder`\n",
    "- Кодируем числовые поля с помощью `OneHotEncoder`"
   ]
  },
  {
   "cell_type": "markdown",
   "metadata": {},
   "source": [
    "**1. Удаляем столбцы, не содержащие полезную информацию**"
   ]
  },
  {
   "cell_type": "code",
   "execution_count": 24,
   "metadata": {},
   "outputs": [],
   "source": [
    "df_trn = df_train.drop(columns=['TransactionId', 'CurrencyCode', 'CountryCode'])\n",
    "df_tst =  df_test.drop(columns=['TransactionId', 'CurrencyCode', 'CountryCode'])"
   ]
  },
  {
   "cell_type": "markdown",
   "metadata": {},
   "source": [
    "**2. Преобразуем поле `TransactionStartTime` типа object в тип `datetime64`**"
   ]
  },
  {
   "cell_type": "code",
   "execution_count": 25,
   "metadata": {},
   "outputs": [],
   "source": [
    "df_trn['TransactionStartTime'] = pd.to_datetime(df_trn['TransactionStartTime'])\n",
    "df_tst['TransactionStartTime'] = pd.to_datetime(df_tst['TransactionStartTime'])"
   ]
  },
  {
   "cell_type": "code",
   "execution_count": 26,
   "metadata": {},
   "outputs": [
    {
     "data": {
      "text/plain": [
       "0   2018-11-15 02:18:49\n",
       "1   2018-11-15 02:19:08\n",
       "2   2018-11-15 02:44:21\n",
       "3   2018-11-15 03:32:55\n",
       "4   2018-11-15 03:34:21\n",
       "Name: TransactionStartTime, dtype: datetime64[ns]"
      ]
     },
     "execution_count": 26,
     "metadata": {},
     "output_type": "execute_result"
    }
   ],
   "source": [
    "df_trn['TransactionStartTime'].head()"
   ]
  },
  {
   "cell_type": "markdown",
   "metadata": {},
   "source": [
    "**3. Преобразовываем текстовые ID в числовые. Для этого сначала отрезаем преффикс у текстовых ID. Далее преобразуем строки, содержащие цифры в числа**"
   ]
  },
  {
   "cell_type": "code",
   "execution_count": 27,
   "metadata": {},
   "outputs": [],
   "source": [
    "columns_with_ID = ['BatchId', \n",
    "                   'AccountId', \n",
    "                   'SubscriptionId', \n",
    "                   'CustomerId', \n",
    "                   'ProviderId', \n",
    "                   'ProductId', \n",
    "                   'ChannelId'] "
   ]
  },
  {
   "cell_type": "code",
   "execution_count": 28,
   "metadata": {},
   "outputs": [
    {
     "data": {
      "text/html": [
       "<div>\n",
       "<style scoped>\n",
       "    .dataframe tbody tr th:only-of-type {\n",
       "        vertical-align: middle;\n",
       "    }\n",
       "\n",
       "    .dataframe tbody tr th {\n",
       "        vertical-align: top;\n",
       "    }\n",
       "\n",
       "    .dataframe thead th {\n",
       "        text-align: right;\n",
       "    }\n",
       "</style>\n",
       "<table border=\"1\" class=\"dataframe\">\n",
       "  <thead>\n",
       "    <tr style=\"text-align: right;\">\n",
       "      <th></th>\n",
       "      <th>BatchId</th>\n",
       "      <th>AccountId</th>\n",
       "      <th>SubscriptionId</th>\n",
       "      <th>CustomerId</th>\n",
       "      <th>ProviderId</th>\n",
       "      <th>ProductId</th>\n",
       "      <th>ChannelId</th>\n",
       "    </tr>\n",
       "  </thead>\n",
       "  <tbody>\n",
       "    <tr>\n",
       "      <th>0</th>\n",
       "      <td>BatchId_36123</td>\n",
       "      <td>AccountId_3957</td>\n",
       "      <td>SubscriptionId_887</td>\n",
       "      <td>CustomerId_4406</td>\n",
       "      <td>ProviderId_6</td>\n",
       "      <td>ProductId_10</td>\n",
       "      <td>ChannelId_3</td>\n",
       "    </tr>\n",
       "    <tr>\n",
       "      <th>1</th>\n",
       "      <td>BatchId_15642</td>\n",
       "      <td>AccountId_4841</td>\n",
       "      <td>SubscriptionId_3829</td>\n",
       "      <td>CustomerId_4406</td>\n",
       "      <td>ProviderId_4</td>\n",
       "      <td>ProductId_6</td>\n",
       "      <td>ChannelId_2</td>\n",
       "    </tr>\n",
       "    <tr>\n",
       "      <th>2</th>\n",
       "      <td>BatchId_53941</td>\n",
       "      <td>AccountId_4229</td>\n",
       "      <td>SubscriptionId_222</td>\n",
       "      <td>CustomerId_4683</td>\n",
       "      <td>ProviderId_6</td>\n",
       "      <td>ProductId_1</td>\n",
       "      <td>ChannelId_3</td>\n",
       "    </tr>\n",
       "    <tr>\n",
       "      <th>3</th>\n",
       "      <td>BatchId_102363</td>\n",
       "      <td>AccountId_648</td>\n",
       "      <td>SubscriptionId_2185</td>\n",
       "      <td>CustomerId_988</td>\n",
       "      <td>ProviderId_1</td>\n",
       "      <td>ProductId_21</td>\n",
       "      <td>ChannelId_3</td>\n",
       "    </tr>\n",
       "    <tr>\n",
       "      <th>4</th>\n",
       "      <td>BatchId_38780</td>\n",
       "      <td>AccountId_4841</td>\n",
       "      <td>SubscriptionId_3829</td>\n",
       "      <td>CustomerId_988</td>\n",
       "      <td>ProviderId_4</td>\n",
       "      <td>ProductId_6</td>\n",
       "      <td>ChannelId_2</td>\n",
       "    </tr>\n",
       "  </tbody>\n",
       "</table>\n",
       "</div>"
      ],
      "text/plain": [
       "          BatchId       AccountId       SubscriptionId       CustomerId  \\\n",
       "0   BatchId_36123  AccountId_3957   SubscriptionId_887  CustomerId_4406   \n",
       "1   BatchId_15642  AccountId_4841  SubscriptionId_3829  CustomerId_4406   \n",
       "2   BatchId_53941  AccountId_4229   SubscriptionId_222  CustomerId_4683   \n",
       "3  BatchId_102363   AccountId_648  SubscriptionId_2185   CustomerId_988   \n",
       "4   BatchId_38780  AccountId_4841  SubscriptionId_3829   CustomerId_988   \n",
       "\n",
       "     ProviderId     ProductId    ChannelId  \n",
       "0  ProviderId_6  ProductId_10  ChannelId_3  \n",
       "1  ProviderId_4   ProductId_6  ChannelId_2  \n",
       "2  ProviderId_6   ProductId_1  ChannelId_3  \n",
       "3  ProviderId_1  ProductId_21  ChannelId_3  \n",
       "4  ProviderId_4   ProductId_6  ChannelId_2  "
      ]
     },
     "execution_count": 28,
     "metadata": {},
     "output_type": "execute_result"
    }
   ],
   "source": [
    "df_trn[columns_with_ID].head()"
   ]
  },
  {
   "cell_type": "code",
   "execution_count": 29,
   "metadata": {},
   "outputs": [
    {
     "name": "stdout",
     "output_type": "stream",
     "text": [
      "=== Type of columns ===\n",
      "BatchId : object\n",
      "AccountId : object\n",
      "SubscriptionId : object\n",
      "CustomerId : object\n",
      "ProviderId : object\n",
      "ProductId : object\n",
      "ChannelId : object\n"
     ]
    }
   ],
   "source": [
    "print('=== Type of columns ===')\n",
    "for clm in columns_with_ID:\n",
    "    print(clm, ':', df_trn[clm].dtype)"
   ]
  },
  {
   "cell_type": "code",
   "execution_count": 30,
   "metadata": {},
   "outputs": [],
   "source": [
    "# удаляем префикс\n",
    "for col_name in columns_with_ID:\n",
    "    df_trn[col_name] = df_trn[col_name].apply(lambda s: s[len(col_name)+1:])\n",
    "for col_name in columns_with_ID:\n",
    "    df_tst[col_name] = df_tst[col_name].apply(lambda s: s[len(col_name)+1:])"
   ]
  },
  {
   "cell_type": "code",
   "execution_count": 31,
   "metadata": {},
   "outputs": [],
   "source": [
    "# преобразуем цифровую строку в число\n",
    "df_trn[columns_with_ID] = df_trn[columns_with_ID].apply(pd.to_numeric)\n",
    "df_tst[columns_with_ID] = df_tst[columns_with_ID].apply(pd.to_numeric)"
   ]
  },
  {
   "cell_type": "code",
   "execution_count": 32,
   "metadata": {
    "scrolled": true
   },
   "outputs": [
    {
     "data": {
      "text/html": [
       "<div>\n",
       "<style scoped>\n",
       "    .dataframe tbody tr th:only-of-type {\n",
       "        vertical-align: middle;\n",
       "    }\n",
       "\n",
       "    .dataframe tbody tr th {\n",
       "        vertical-align: top;\n",
       "    }\n",
       "\n",
       "    .dataframe thead th {\n",
       "        text-align: right;\n",
       "    }\n",
       "</style>\n",
       "<table border=\"1\" class=\"dataframe\">\n",
       "  <thead>\n",
       "    <tr style=\"text-align: right;\">\n",
       "      <th></th>\n",
       "      <th>BatchId</th>\n",
       "      <th>AccountId</th>\n",
       "      <th>SubscriptionId</th>\n",
       "      <th>CustomerId</th>\n",
       "      <th>ProviderId</th>\n",
       "      <th>ProductId</th>\n",
       "      <th>ChannelId</th>\n",
       "    </tr>\n",
       "  </thead>\n",
       "  <tbody>\n",
       "    <tr>\n",
       "      <th>0</th>\n",
       "      <td>36123</td>\n",
       "      <td>3957</td>\n",
       "      <td>887</td>\n",
       "      <td>4406</td>\n",
       "      <td>6</td>\n",
       "      <td>10</td>\n",
       "      <td>3</td>\n",
       "    </tr>\n",
       "    <tr>\n",
       "      <th>1</th>\n",
       "      <td>15642</td>\n",
       "      <td>4841</td>\n",
       "      <td>3829</td>\n",
       "      <td>4406</td>\n",
       "      <td>4</td>\n",
       "      <td>6</td>\n",
       "      <td>2</td>\n",
       "    </tr>\n",
       "    <tr>\n",
       "      <th>2</th>\n",
       "      <td>53941</td>\n",
       "      <td>4229</td>\n",
       "      <td>222</td>\n",
       "      <td>4683</td>\n",
       "      <td>6</td>\n",
       "      <td>1</td>\n",
       "      <td>3</td>\n",
       "    </tr>\n",
       "    <tr>\n",
       "      <th>3</th>\n",
       "      <td>102363</td>\n",
       "      <td>648</td>\n",
       "      <td>2185</td>\n",
       "      <td>988</td>\n",
       "      <td>1</td>\n",
       "      <td>21</td>\n",
       "      <td>3</td>\n",
       "    </tr>\n",
       "    <tr>\n",
       "      <th>4</th>\n",
       "      <td>38780</td>\n",
       "      <td>4841</td>\n",
       "      <td>3829</td>\n",
       "      <td>988</td>\n",
       "      <td>4</td>\n",
       "      <td>6</td>\n",
       "      <td>2</td>\n",
       "    </tr>\n",
       "  </tbody>\n",
       "</table>\n",
       "</div>"
      ],
      "text/plain": [
       "   BatchId  AccountId  SubscriptionId  CustomerId  ProviderId  ProductId  \\\n",
       "0    36123       3957             887        4406           6         10   \n",
       "1    15642       4841            3829        4406           4          6   \n",
       "2    53941       4229             222        4683           6          1   \n",
       "3   102363        648            2185         988           1         21   \n",
       "4    38780       4841            3829         988           4          6   \n",
       "\n",
       "   ChannelId  \n",
       "0          3  \n",
       "1          2  \n",
       "2          3  \n",
       "3          3  \n",
       "4          2  "
      ]
     },
     "execution_count": 32,
     "metadata": {},
     "output_type": "execute_result"
    }
   ],
   "source": [
    "df_trn[columns_with_ID].head()"
   ]
  },
  {
   "cell_type": "code",
   "execution_count": 33,
   "metadata": {},
   "outputs": [
    {
     "name": "stdout",
     "output_type": "stream",
     "text": [
      "=== Type of columns ===\n",
      "BatchId : int64\n",
      "AccountId : int64\n",
      "SubscriptionId : int64\n",
      "CustomerId : int64\n",
      "ProviderId : int64\n",
      "ProductId : int64\n",
      "ChannelId : int64\n"
     ]
    }
   ],
   "source": [
    "print('=== Type of columns ===')\n",
    "for clm in columns_with_ID:\n",
    "    print(clm, ':', df_trn[clm].dtype)"
   ]
  },
  {
   "cell_type": "code",
   "execution_count": 34,
   "metadata": {},
   "outputs": [],
   "source": [
    "df_trn.to_csv('./data/training_num.csv', encoding='utf-8', index=False)\n",
    "df_tst.to_csv('./data/test_num.csv',     encoding='utf-8', index=False)"
   ]
  },
  {
   "cell_type": "markdown",
   "metadata": {},
   "source": [
    "**4. С помощью `LabelEncoder` кодируем поля:** \n",
    "- `BatchId`\n",
    "- `AccountId`\n",
    "- `SubscriptionId`\n",
    "- `CustomerId`\n",
    "- `ProviderId`\n",
    "- `ProductId`\n",
    "- `ProductCategory`\n",
    "- `ChannelId`\n",
    "- `PricingStrategy`"
   ]
  },
  {
   "cell_type": "code",
   "execution_count": 35,
   "metadata": {},
   "outputs": [
    {
     "name": "stdout",
     "output_type": "stream",
     "text": [
      "Train: 2 139493 94809\n",
      "Train: 1 139492 44684\n",
      "Intersection: 0\n"
     ]
    }
   ],
   "source": [
    "# проверяем как пересекаются BatchID в train и test\n",
    "clm = 'BatchId'\n",
    "print('Train:', min(df_trn[clm]), max(df_trn[clm]), df_trn[clm].nunique())\n",
    "print('Train:', min(df_tst[clm]), max(df_tst[clm]), df_tst[clm].nunique())\n",
    "print('Intersection:', len(set(df_trn[clm]) & set(df_tst[clm])))"
   ]
  },
  {
   "cell_type": "code",
   "execution_count": 36,
   "metadata": {},
   "outputs": [
    {
     "name": "stdout",
     "output_type": "stream",
     "text": [
      "Train: 1 4841 3633\n",
      "Train: 10 4841 2471\n",
      "Intersection: 1263\n"
     ]
    }
   ],
   "source": [
    "# проверяем как пересекаются AccountId в train и test\n",
    "clm = 'AccountId'\n",
    "print('Train:', min(df_trn[clm]), max(df_trn[clm]), df_trn[clm].nunique())\n",
    "print('Train:', min(df_tst[clm]), max(df_tst[clm]), df_tst[clm].nunique())\n",
    "print('Intersection:', len(set(df_trn[clm]) & set(df_tst[clm])))"
   ]
  },
  {
   "cell_type": "code",
   "execution_count": 37,
   "metadata": {},
   "outputs": [
    {
     "name": "stdout",
     "output_type": "stream",
     "text": [
      "Train: 2 4836 3627\n",
      "Train: 1 4836 2470\n",
      "Intersection: 1261\n"
     ]
    }
   ],
   "source": [
    "# проверяем как пересекаются SubscriptionId в train и test\n",
    "clm = 'SubscriptionId'\n",
    "print('Train:', min(df_trn[clm]), max(df_trn[clm]), df_trn[clm].nunique())\n",
    "print('Train:', min(df_tst[clm]), max(df_tst[clm]), df_tst[clm].nunique())\n",
    "print('Intersection:', len(set(df_trn[clm]) & set(df_tst[clm])))"
   ]
  },
  {
   "cell_type": "code",
   "execution_count": 38,
   "metadata": {},
   "outputs": [
    {
     "name": "stdout",
     "output_type": "stream",
     "text": [
      "Train: 1 7479 3742\n",
      "Train: 16 7449 5018\n",
      "Intersection: 1281\n"
     ]
    }
   ],
   "source": [
    "# проверяем как пересекаются CustomerId в train и test\n",
    "clm = 'CustomerId'\n",
    "print('Train:', min(df_trn[clm]), max(df_trn[clm]), df_trn[clm].nunique())\n",
    "print('Train:', min(df_tst[clm]), max(df_tst[clm]), df_tst[clm].nunique())\n",
    "print('Intersection:', len(set(df_trn[clm]) & set(df_tst[clm])))"
   ]
  },
  {
   "cell_type": "markdown",
   "metadata": {},
   "source": [
    "Все поля будем кодировать по-своему, в ручную!"
   ]
  },
  {
   "cell_type": "markdown",
   "metadata": {},
   "source": [
    "`Label Encoding` своими руками"
   ]
  },
  {
   "cell_type": "code",
   "execution_count": 39,
   "metadata": {},
   "outputs": [],
   "source": [
    "# dct = {'Kiev': 0, 'London': 1, 'Minsk': 2}\n",
    "# data['city_le'] = data['city'].map(dct)"
   ]
  },
  {
   "cell_type": "code",
   "execution_count": 40,
   "metadata": {},
   "outputs": [],
   "source": [
    "# список полей для LE-кодирования путем уменьшения значения на 1\n",
    "columns4le = ['BatchId', \n",
    "              'AccountId',\n",
    "              'SubscriptionId',\n",
    "              'CustomerId',\n",
    "              'ProviderId',\n",
    "              'ProductId',\n",
    "              #'ProductCategory',\n",
    "              'ChannelId',\n",
    "              #'PricingStrategy'\n",
    "             ]"
   ]
  },
  {
   "cell_type": "code",
   "execution_count": 41,
   "metadata": {},
   "outputs": [],
   "source": [
    "for clm in columns4le:\n",
    "    df_trn[clm] = df_trn[clm].apply(lambda x: x-1)\n",
    "    df_tst[clm] = df_tst[clm].apply(lambda x: x-1)\n",
    "    \n",
    "    df_trn[clm] = df_trn[clm].astype(int)\n",
    "    df_tst[clm] = df_tst[clm].astype(int)"
   ]
  },
  {
   "cell_type": "markdown",
   "metadata": {},
   "source": [
    "**`Label Encoding` column `ProductCategory`**"
   ]
  },
  {
   "cell_type": "code",
   "execution_count": 42,
   "metadata": {},
   "outputs": [
    {
     "data": {
      "text/plain": [
       "array(['airtime', 'data_bundles', 'financial_services', 'movies', 'other',\n",
       "       'retail', 'ticket', 'transport', 'tv', 'utility_bill'],\n",
       "      dtype='<U18')"
      ]
     },
     "execution_count": 42,
     "metadata": {},
     "output_type": "execute_result"
    }
   ],
   "source": [
    "np.sort(list(set(df_train['ProductCategory'].unique()) | set(df_test['ProductCategory'].unique())))"
   ]
  },
  {
   "cell_type": "code",
   "execution_count": 43,
   "metadata": {},
   "outputs": [],
   "source": [
    "dic = {'airtime': 0, \n",
    "       'data_bundles': 1, \n",
    "       'financial_services': 2, \n",
    "       'movies': 3, \n",
    "       'other': 4,\n",
    "       'retail': 5, \n",
    "       'ticket': 6, \n",
    "       'transport': 7, \n",
    "       'tv': 8, \n",
    "       'utility_bill': 9}"
   ]
  },
  {
   "cell_type": "code",
   "execution_count": 44,
   "metadata": {},
   "outputs": [],
   "source": [
    "df_trn['ProductCategory'] = df_trn['ProductCategory'].map(dic)\n",
    "df_tst['ProductCategory'] = df_tst['ProductCategory'].map(dic)"
   ]
  },
  {
   "cell_type": "code",
   "execution_count": 45,
   "metadata": {},
   "outputs": [],
   "source": [
    "df_trn['PricingStrategy'] = df_trn['PricingStrategy'].apply(lambda x: x-1 if x==4 else x)\n",
    "df_tst['PricingStrategy'] = df_tst['PricingStrategy'].apply(lambda x: x-1 if x==4 else x)\n",
    "\n",
    "df_trn['PricingStrategy'] = df_trn['PricingStrategy'].astype(int)\n",
    "df_tst['PricingStrategy'] = df_tst['PricingStrategy'].astype(int)"
   ]
  },
  {
   "cell_type": "code",
   "execution_count": 46,
   "metadata": {},
   "outputs": [],
   "source": [
    "# from sklearn.preprocessing import LabelEncoder"
   ]
  },
  {
   "cell_type": "code",
   "execution_count": 47,
   "metadata": {},
   "outputs": [],
   "source": [
    "# список полей для LE-кодирования\n",
    "# columns4le = ['BatchId', \n",
    "#               'AccountId',\n",
    "#               'SubscriptionId',\n",
    "#               'CustomerId',\n",
    "#               'ProviderId',\n",
    "#               'ProductId',\n",
    "#               'ProductCategory',\n",
    "#               'ChannelId',\n",
    "#               'PricingStrategy']"
   ]
  },
  {
   "cell_type": "code",
   "execution_count": 48,
   "metadata": {},
   "outputs": [],
   "source": [
    "# columns4le.remove('ProviderId')\n",
    "# columns4le.remove('ProductId')\n",
    "# columns4le.remove('ProductCategory')\n",
    "# columns4le.remove('ChannelId')\n",
    "# columns4le.remove('PricingStrategy')"
   ]
  },
  {
   "cell_type": "code",
   "execution_count": 49,
   "metadata": {},
   "outputs": [],
   "source": [
    "# df[columns4le].head()"
   ]
  },
  {
   "cell_type": "code",
   "execution_count": 50,
   "metadata": {},
   "outputs": [],
   "source": [
    "# print('FieldName : min max number-of-unique-elements')\n",
    "# for clm in columns4le:\n",
    "#     print(clm, ':', min(df[clm]), max(df[clm]), df[clm].nunique())"
   ]
  },
  {
   "cell_type": "code",
   "execution_count": 51,
   "metadata": {},
   "outputs": [],
   "source": [
    "# for clm in columns4le:\n",
    "#     le = LabelEncoder()\n",
    "#     df[clm] = le.fit(df[clm]).transform(df[clm])"
   ]
  },
  {
   "cell_type": "code",
   "execution_count": 52,
   "metadata": {},
   "outputs": [],
   "source": [
    "# df[columns4le].head()"
   ]
  },
  {
   "cell_type": "code",
   "execution_count": 53,
   "metadata": {},
   "outputs": [],
   "source": [
    "# print('FieldName : min max number-of-unique-elements')\n",
    "# for clm in columns4le:\n",
    "#     print(clm, ':', min(df[clm]), max(df[clm]), df[clm].nunique())"
   ]
  },
  {
   "cell_type": "markdown",
   "metadata": {},
   "source": [
    "**Results**"
   ]
  },
  {
   "cell_type": "code",
   "execution_count": 54,
   "metadata": {},
   "outputs": [
    {
     "data": {
      "text/html": [
       "<div>\n",
       "<style scoped>\n",
       "    .dataframe tbody tr th:only-of-type {\n",
       "        vertical-align: middle;\n",
       "    }\n",
       "\n",
       "    .dataframe tbody tr th {\n",
       "        vertical-align: top;\n",
       "    }\n",
       "\n",
       "    .dataframe thead th {\n",
       "        text-align: right;\n",
       "    }\n",
       "</style>\n",
       "<table border=\"1\" class=\"dataframe\">\n",
       "  <thead>\n",
       "    <tr style=\"text-align: right;\">\n",
       "      <th></th>\n",
       "      <th>BatchId</th>\n",
       "      <th>AccountId</th>\n",
       "      <th>SubscriptionId</th>\n",
       "      <th>CustomerId</th>\n",
       "      <th>ProviderId</th>\n",
       "      <th>ProductId</th>\n",
       "      <th>ProductCategory</th>\n",
       "      <th>ChannelId</th>\n",
       "      <th>Amount</th>\n",
       "      <th>Value</th>\n",
       "      <th>TransactionStartTime</th>\n",
       "      <th>PricingStrategy</th>\n",
       "      <th>FraudResult</th>\n",
       "    </tr>\n",
       "  </thead>\n",
       "  <tbody>\n",
       "    <tr>\n",
       "      <th>0</th>\n",
       "      <td>36122</td>\n",
       "      <td>3956</td>\n",
       "      <td>886</td>\n",
       "      <td>4405</td>\n",
       "      <td>5</td>\n",
       "      <td>9</td>\n",
       "      <td>0</td>\n",
       "      <td>2</td>\n",
       "      <td>1000.0</td>\n",
       "      <td>1000</td>\n",
       "      <td>2018-11-15 02:18:49</td>\n",
       "      <td>2</td>\n",
       "      <td>0</td>\n",
       "    </tr>\n",
       "    <tr>\n",
       "      <th>1</th>\n",
       "      <td>15641</td>\n",
       "      <td>4840</td>\n",
       "      <td>3828</td>\n",
       "      <td>4405</td>\n",
       "      <td>3</td>\n",
       "      <td>5</td>\n",
       "      <td>2</td>\n",
       "      <td>1</td>\n",
       "      <td>-20.0</td>\n",
       "      <td>20</td>\n",
       "      <td>2018-11-15 02:19:08</td>\n",
       "      <td>2</td>\n",
       "      <td>0</td>\n",
       "    </tr>\n",
       "    <tr>\n",
       "      <th>2</th>\n",
       "      <td>53940</td>\n",
       "      <td>4228</td>\n",
       "      <td>221</td>\n",
       "      <td>4682</td>\n",
       "      <td>5</td>\n",
       "      <td>0</td>\n",
       "      <td>0</td>\n",
       "      <td>2</td>\n",
       "      <td>500.0</td>\n",
       "      <td>500</td>\n",
       "      <td>2018-11-15 02:44:21</td>\n",
       "      <td>2</td>\n",
       "      <td>0</td>\n",
       "    </tr>\n",
       "    <tr>\n",
       "      <th>3</th>\n",
       "      <td>102362</td>\n",
       "      <td>647</td>\n",
       "      <td>2184</td>\n",
       "      <td>987</td>\n",
       "      <td>0</td>\n",
       "      <td>20</td>\n",
       "      <td>9</td>\n",
       "      <td>2</td>\n",
       "      <td>20000.0</td>\n",
       "      <td>21800</td>\n",
       "      <td>2018-11-15 03:32:55</td>\n",
       "      <td>2</td>\n",
       "      <td>0</td>\n",
       "    </tr>\n",
       "    <tr>\n",
       "      <th>4</th>\n",
       "      <td>38779</td>\n",
       "      <td>4840</td>\n",
       "      <td>3828</td>\n",
       "      <td>987</td>\n",
       "      <td>3</td>\n",
       "      <td>5</td>\n",
       "      <td>2</td>\n",
       "      <td>1</td>\n",
       "      <td>-644.0</td>\n",
       "      <td>644</td>\n",
       "      <td>2018-11-15 03:34:21</td>\n",
       "      <td>2</td>\n",
       "      <td>0</td>\n",
       "    </tr>\n",
       "  </tbody>\n",
       "</table>\n",
       "</div>"
      ],
      "text/plain": [
       "   BatchId  AccountId  SubscriptionId  CustomerId  ProviderId  ProductId  \\\n",
       "0    36122       3956             886        4405           5          9   \n",
       "1    15641       4840            3828        4405           3          5   \n",
       "2    53940       4228             221        4682           5          0   \n",
       "3   102362        647            2184         987           0         20   \n",
       "4    38779       4840            3828         987           3          5   \n",
       "\n",
       "   ProductCategory  ChannelId   Amount  Value TransactionStartTime  \\\n",
       "0                0          2   1000.0   1000  2018-11-15 02:18:49   \n",
       "1                2          1    -20.0     20  2018-11-15 02:19:08   \n",
       "2                0          2    500.0    500  2018-11-15 02:44:21   \n",
       "3                9          2  20000.0  21800  2018-11-15 03:32:55   \n",
       "4                2          1   -644.0    644  2018-11-15 03:34:21   \n",
       "\n",
       "   PricingStrategy  FraudResult  \n",
       "0                2            0  \n",
       "1                2            0  \n",
       "2                2            0  \n",
       "3                2            0  \n",
       "4                2            0  "
      ]
     },
     "execution_count": 54,
     "metadata": {},
     "output_type": "execute_result"
    }
   ],
   "source": [
    "df_trn.head()"
   ]
  },
  {
   "cell_type": "code",
   "execution_count": 55,
   "metadata": {},
   "outputs": [
    {
     "data": {
      "text/plain": [
       "BatchId                          int64\n",
       "AccountId                        int64\n",
       "SubscriptionId                   int64\n",
       "CustomerId                       int64\n",
       "ProviderId                       int64\n",
       "ProductId                        int64\n",
       "ProductCategory                  int64\n",
       "ChannelId                        int64\n",
       "Amount                         float64\n",
       "Value                            int64\n",
       "TransactionStartTime    datetime64[ns]\n",
       "PricingStrategy                  int64\n",
       "FraudResult                      int64\n",
       "dtype: object"
      ]
     },
     "execution_count": 55,
     "metadata": {},
     "output_type": "execute_result"
    }
   ],
   "source": [
    "df_trn.dtypes"
   ]
  },
  {
   "cell_type": "code",
   "execution_count": 56,
   "metadata": {},
   "outputs": [],
   "source": [
    "df_trn.to_csv('./data/training_le.csv', encoding='utf-8', index=False)\n",
    "df_tst.to_csv('./data/test_le.csv',     encoding='utf-8', index=False)"
   ]
  },
  {
   "cell_type": "markdown",
   "metadata": {},
   "source": [
    "**5. С помощью `OneHotEncoder` кодируем признаки** \n",
    "- `BatchId`\n",
    "- `AccountId`\n",
    "- `SubscriptionId`\n",
    "- `CustomerId`\n",
    "- `ProviderId`, \n",
    "- `ProductId`,\n",
    "- `ProductCategory`,\n",
    "- `ChannelId`,\n",
    "- `PricingStrategy`"
   ]
  },
  {
   "cell_type": "code",
   "execution_count": null,
   "metadata": {},
   "outputs": [],
   "source": [
    "def manual_ohe(data, feature, n_unique):\n",
    "    for i in range(n_unique):\n",
    "        data[feature + '_' + str(i)] = (data[feature] == i).astype(int)"
   ]
  },
  {
   "cell_type": "code",
   "execution_count": null,
   "metadata": {},
   "outputs": [],
   "source": [
    "df_trn.head()"
   ]
  },
  {
   "cell_type": "code",
   "execution_count": null,
   "metadata": {},
   "outputs": [],
   "source": [
    "columns4ohe_short = [\n",
    "#     'BatchId', \n",
    "#     'AccountId', \n",
    "#     'SubscriptionId', \n",
    "#     'CustomerId', \n",
    "    'ProviderId',\n",
    "    'ProductId', \n",
    "    'ProductCategory', \n",
    "    'ChannelId', \n",
    "    'PricingStrategy'\n",
    "]"
   ]
  },
  {
   "cell_type": "code",
   "execution_count": null,
   "metadata": {},
   "outputs": [],
   "source": [
    "print('FieldName : min max number-of-unique-elements')\n",
    "for clm in columns4ohe_short:\n",
    "    print(clm, '(train):', min(df_trn[clm]), max(df_trn[clm]), df_trn[clm].nunique())\n",
    "    print(clm, '(test) :', min(df_tst[clm]), max(df_tst[clm]), df_tst[clm].nunique())"
   ]
  },
  {
   "cell_type": "code",
   "execution_count": null,
   "metadata": {},
   "outputs": [],
   "source": [
    "for clm in columns4ohe_short:\n",
    "    manual_ohe(df_trn, clm, max(max(df_trn[clm]), max(df_tst[clm]))+1)\n",
    "    manual_ohe(df_tst, clm, max(max(df_trn[clm]), max(df_tst[clm]))+1)"
   ]
  },
  {
   "cell_type": "code",
   "execution_count": null,
   "metadata": {},
   "outputs": [],
   "source": [
    "df_trn = df_trn.drop(columns=columns4ohe_short)\n",
    "df_tst = df_tst.drop(columns=columns4ohe_short)"
   ]
  },
  {
   "cell_type": "code",
   "execution_count": null,
   "metadata": {},
   "outputs": [],
   "source": [
    "df_trn.head()"
   ]
  },
  {
   "cell_type": "code",
   "execution_count": null,
   "metadata": {},
   "outputs": [],
   "source": [
    "df_trn.to_csv('./data/training_ohe_short.csv', encoding='utf-8', index=False)\n",
    "df_tst.to_csv('./data/test_ohe_short.csv',     encoding='utf-8', index=False)"
   ]
  },
  {
   "cell_type": "code",
   "execution_count": null,
   "metadata": {},
   "outputs": [],
   "source": [
    "# from sklearn import preprocessing\n",
    "# cat_features = ['color', 'director_name', 'actor_2_name']\n",
    "# enc = preprocessing.LabelEncoder()\n",
    "# enc.fit(cat_features)\n",
    "# new_cat_features = enc.transform(cat_features)\n",
    "# print(new_cat_features) # [1 2 0]\n",
    "# new_cat_features = new_cat_features.reshape(-1, 1) # Needs to be the correct shape\n",
    "# ohe = preprocessing.OneHotEncoder(sparse=False) #Easier to read\n",
    "# print(ohe.fit_transform(new_cat_features))"
   ]
  },
  {
   "cell_type": "markdown",
   "metadata": {},
   "source": [
    "## Scaling"
   ]
  },
  {
   "cell_type": "code",
   "execution_count": 57,
   "metadata": {},
   "outputs": [],
   "source": [
    "from sklearn.preprocessing import MinMaxScaler\n",
    "from sklearn.preprocessing import minmax_scale\n",
    "from sklearn.preprocessing import MaxAbsScaler\n",
    "from sklearn.preprocessing import StandardScaler\n",
    "from sklearn.preprocessing import RobustScaler\n",
    "from sklearn.preprocessing import Normalizer\n",
    "from sklearn.preprocessing import QuantileTransformer\n",
    "from sklearn.preprocessing import PowerTransformer"
   ]
  },
  {
   "cell_type": "code",
   "execution_count": null,
   "metadata": {},
   "outputs": [],
   "source": [
    "df_trn_cut = pd.DataFrame(df_trn, columns = ['Amount', 'Value', \n",
    "                                             'PricingStrategy_0', 'PricingStrategy_1', \n",
    "                                             'PricingStrategy_2', 'PricingStrategy_3'])\n",
    "df_tst_cut = pd.DataFrame(df_tst, columns = ['Amount', 'Value', \n",
    "                                             'PricingStrategy_0', 'PricingStrategy_1', \n",
    "                                             'PricingStrategy_2', 'PricingStrategy_3'])"
   ]
  },
  {
   "cell_type": "code",
   "execution_count": null,
   "metadata": {},
   "outputs": [],
   "source": [
    "df_trn_cut.head()"
   ]
  },
  {
   "cell_type": "code",
   "execution_count": null,
   "metadata": {},
   "outputs": [],
   "source": [
    "def scaleColumns(data, cols_to_scale, scaler):\n",
    "    for col in cols_to_scale:\n",
    "        data[col] = pd.DataFrame(scaler.fit_transform(pd.DataFrame(data[col])))\n",
    "    return data"
   ]
  },
  {
   "cell_type": "code",
   "execution_count": 58,
   "metadata": {},
   "outputs": [],
   "source": [
    "def scaleColumns(data, cols_to_scale, scaler):\n",
    "    for col in cols_to_scale:\n",
    "        data[col] = pd.DataFrame(scaler.fit_transform(pd.DataFrame(df['Value'])))\n",
    "    return data"
   ]
  },
  {
   "cell_type": "code",
   "execution_count": null,
   "metadata": {},
   "outputs": [],
   "source": [
    "df_trn_cut = scaleColumns(df_trn_cut, ['Amount','Value'])\n",
    "df_tst_cut = scaleColumns(df_tst_cut, ['Amount','Value'])"
   ]
  },
  {
   "cell_type": "code",
   "execution_count": null,
   "metadata": {},
   "outputs": [],
   "source": [
    "df_trn_cut.head()"
   ]
  },
  {
   "cell_type": "code",
   "execution_count": null,
   "metadata": {},
   "outputs": [],
   "source": [
    "columnsPS = ['PricingStrategy_0', 'PricingStrategy_1', 'PricingStrategy_2', 'PricingStrategy_3']\n",
    "df_trn_cut = df_trn_cut.drop(columns=columnsPS)\n",
    "df_tst_cut = df_tst_cut.drop(columns=columnsPS)"
   ]
  },
  {
   "cell_type": "code",
   "execution_count": null,
   "metadata": {},
   "outputs": [],
   "source": [
    "df_trn_cut.head()"
   ]
  },
  {
   "cell_type": "code",
   "execution_count": null,
   "metadata": {},
   "outputs": [],
   "source": []
  },
  {
   "cell_type": "markdown",
   "metadata": {},
   "source": []
  },
  {
   "cell_type": "code",
   "execution_count": null,
   "metadata": {},
   "outputs": [],
   "source": [
    "# конъюнкция двух признаков\n",
    "def make_conj(data, feature1, feature2):\n",
    "    data[feature1 + '+' + feature2] = data[feature1].astype(str) + '+' + data[feature1].astype(str)\n",
    "    return data"
   ]
  },
  {
   "cell_type": "markdown",
   "metadata": {},
   "source": [
    "# Создаем новые признаки"
   ]
  },
  {
   "cell_type": "code",
   "execution_count": null,
   "metadata": {},
   "outputs": [],
   "source": [
    "# пример использования\n",
    "make_conj(data, 'city', 'degree dvid d')"
   ]
  },
  {
   "cell_type": "markdown",
   "metadata": {},
   "source": [
    "**compare f1_score**"
   ]
  },
  {
   "cell_type": "code",
   "execution_count": null,
   "metadata": {},
   "outputs": [],
   "source": [
    "y1      = [0, 0, 0, 1, 0]\n",
    "y1_pred = [0, 0, 1, 1, 0]\n",
    "f1_score(y1, y1_pred)"
   ]
  },
  {
   "cell_type": "code",
   "execution_count": null,
   "metadata": {},
   "outputs": [],
   "source": [
    "y2      = [1, 1,  1, -1, 1]\n",
    "y2_pred = [1, 1, -1, -1, 1]\n",
    "f1_score(y2, y2_pred)"
   ]
  },
  {
   "cell_type": "markdown",
   "metadata": {},
   "source": [
    "# 1. Rule based approach\n",
    "перебирая пороговое значение для поля 'Amount' ищем наиболее высокое значение F1 на обучающем наборе"
   ]
  },
  {
   "cell_type": "code",
   "execution_count": null,
   "metadata": {},
   "outputs": [],
   "source": [
    "def F1_score:\n",
    "    TP = # True Positive\n",
    "    FP = # False Positive\n",
    "    FN = # False Negative\n",
    "    precision = TP / (TP + FP) \n",
    "    recall = TP / (TP + FN)\n",
    "    return 2*precision*recall / (precision + recall)    "
   ]
  },
  {
   "cell_type": "code",
   "execution_count": null,
   "metadata": {},
   "outputs": [],
   "source": [
    "F1_max = 0\n",
    "len_df = len(df)\n",
    "threshold = range(round(min(df['Amount'])), round(max(df['Amount'])), 100)\n",
    "for ts in threshold:\n",
    "    df_ts = df[df['Amount'] > thr]\n",
    "    num_fraud_ts = df_ts['FraudResult'].value_counts()[1]"
   ]
  },
  {
   "cell_type": "code",
   "execution_count": null,
   "metadata": {},
   "outputs": [],
   "source": [
    "ts = 300000\n",
    "y_hat = df['Amount'] > ts\n",
    "data = np.array(y_hat)\n",
    "FraudResult_hat = pd.Series(df['Amount'] > ts)"
   ]
  },
  {
   "cell_type": "code",
   "execution_count": null,
   "metadata": {},
   "outputs": [],
   "source": [
    "FraudResult_hat.astype('int64')"
   ]
  },
  {
   "cell_type": "code",
   "execution_count": null,
   "metadata": {},
   "outputs": [],
   "source": [
    "\n",
    "f1_ts = f1_score(df['FraudResult'], FraudResult_hat)\n",
    "f1_ts"
   ]
  },
  {
   "cell_type": "code",
   "execution_count": null,
   "metadata": {},
   "outputs": [],
   "source": [
    "from tqdm import tqdm"
   ]
  },
  {
   "cell_type": "code",
   "execution_count": null,
   "metadata": {},
   "outputs": [],
   "source": [
    "f1_scores = []\n",
    "thresholds = range(0, round(max(df['Amount'])), 100)\n",
    "for ts in thresholds:\n",
    "    FraudPredict = pd.Series(df['Amount'] > ts)\n",
    "    f1 = f1_score(df['FraudResult'], FraudPredict)\n",
    "    f1_scores.append(f1)"
   ]
  },
  {
   "cell_type": "code",
   "execution_count": null,
   "metadata": {},
   "outputs": [],
   "source": [
    "print('Best threshold of Amount', thresholds[f1_scores.index(max(f1_scores))])\n",
    "print('F1 for best threshold Amount:', max(f1_scores))"
   ]
  },
  {
   "cell_type": "code",
   "execution_count": null,
   "metadata": {},
   "outputs": [],
   "source": [
    "plt.figure(figsize=(12,8))\n",
    "marker_size = [4]*len(thresholds)\n",
    "plt.title('Search best threshould of Amount', fontsize=14)\n",
    "plt.scatter(thresholds, f1_scores, s=marker_size)\n",
    "plt.xlabel('Threshold of Amount', fontsize=12)\n",
    "plt.ylabel('F1 score', fontsize=12)\n",
    "plt.show"
   ]
  },
  {
   "cell_type": "markdown",
   "metadata": {},
   "source": [
    "# 2. Supervised Approaches "
   ]
  },
  {
   "cell_type": "markdown",
   "metadata": {},
   "source": [
    "- Logistic Regression (LR)\n",
    "- k-Nearest Neighbors (kNN)\n",
    "- Support Vector Machines (SVM)\n",
    "- Decision Tree (DT)\n",
    "- Random Forest (RF)\n",
    "- Extreme Gradient Boosting (XGB)"
   ]
  },
  {
   "cell_type": "markdown",
   "metadata": {},
   "source": [
    "Делаем *Under-Sampling* и *Over-Sampling* и решаем как задачу бинарной классификации с помощью LR, kNN, SVM, DT, RF, XGB"
   ]
  },
  {
   "cell_type": "markdown",
   "metadata": {},
   "source": [
    "## Under-Sampling"
   ]
  },
  {
   "cell_type": "code",
   "execution_count": null,
   "metadata": {},
   "outputs": [],
   "source": []
  },
  {
   "cell_type": "markdown",
   "metadata": {},
   "source": [
    "## Over-Sampling"
   ]
  },
  {
   "cell_type": "code",
   "execution_count": null,
   "metadata": {},
   "outputs": [],
   "source": []
  },
  {
   "cell_type": "markdown",
   "metadata": {},
   "source": [
    "# 3. Anomaly Detection Algorithms (Unsupervised Approaches)\n",
    "Рассматриваем задачу Fraud Detection как задачу Anomaly Detection\n",
    "\n",
    "Algorithms:\n",
    "- One-Class SVM\n",
    "- Isolation Forest\n",
    "- Fitting an elliptic envelope\n",
    "- Local Outlier Factor (LOF)"
   ]
  },
  {
   "cell_type": "code",
   "execution_count": null,
   "metadata": {},
   "outputs": [],
   "source": [
    "import numpy as np\n",
    "import pandas as pd\n",
    "from sklearn.metrics import f1_score\n",
    "import matplotlib.pyplot as plt"
   ]
  },
  {
   "cell_type": "code",
   "execution_count": null,
   "metadata": {},
   "outputs": [],
   "source": [
    "df_train = pd.read_csv('./data/training.csv')"
   ]
  },
  {
   "cell_type": "code",
   "execution_count": null,
   "metadata": {},
   "outputs": [],
   "source": [
    "df_train.columns"
   ]
  },
  {
   "cell_type": "code",
   "execution_count": null,
   "metadata": {},
   "outputs": [],
   "source": [
    "list(df_train['FraudResult'])[130:140]"
   ]
  },
  {
   "cell_type": "code",
   "execution_count": null,
   "metadata": {},
   "outputs": [],
   "source": [
    "#df = pd.DataFrame({'PricingStrategy': df_train['PricingStrategy'],\n",
    "#                   'Value': df_train['Value']})"
   ]
  },
  {
   "cell_type": "code",
   "execution_count": null,
   "metadata": {},
   "outputs": [],
   "source": [
    "removable_columns = ['TransactionId', \n",
    "                     'BatchId', \n",
    "                     'AccountId', \n",
    "                     'SubscriptionId', \n",
    "                     'CustomerId', \n",
    "                     'CurrencyCode',\n",
    "                     'CountryCode',\n",
    "                     'ProviderId', \n",
    "                     'ProductId', \n",
    "                     'ProductCategory', \n",
    "                     'ChannelId', \n",
    "                     #'Amount', \n",
    "                     #'Value', \n",
    "                     'TransactionStartTime', \n",
    "                     #'PricingStrategy',\n",
    "                     'FraudResult'\n",
    "                    ]\n",
    "df = df_train.drop(columns=removable_columns)"
   ]
  },
  {
   "cell_type": "code",
   "execution_count": null,
   "metadata": {},
   "outputs": [],
   "source": [
    "df.head()"
   ]
  },
  {
   "cell_type": "markdown",
   "metadata": {},
   "source": [
    "Попробовать разные скейлеры\n",
    "https://scikit-learn.org/stable/auto_examples/preprocessing/plot_all_scaling.html#sphx-glr-auto-examples-preprocessing-plot-all-scaling-py"
   ]
  },
  {
   "cell_type": "code",
   "execution_count": null,
   "metadata": {},
   "outputs": [],
   "source": [
    "scaler = MinMaxScaler()\n",
    "df = scaler.fit_transform(df)"
   ]
  },
  {
   "cell_type": "code",
   "execution_count": null,
   "metadata": {},
   "outputs": [],
   "source": [
    "type(df)"
   ]
  },
  {
   "cell_type": "code",
   "execution_count": null,
   "metadata": {},
   "outputs": [],
   "source": [
    "df[:5,]"
   ]
  },
  {
   "cell_type": "code",
   "execution_count": null,
   "metadata": {},
   "outputs": [],
   "source": []
  },
  {
   "cell_type": "code",
   "execution_count": null,
   "metadata": {},
   "outputs": [],
   "source": []
  },
  {
   "cell_type": "code",
   "execution_count": null,
   "metadata": {},
   "outputs": [],
   "source": [
    "num_transactions = df_train.shape[0]\n",
    "num_otliers = df_train['FraudResult'].value_counts()[1]\n",
    "num_inliers = df_train['FraudResult'].value_counts()[0]\n",
    "outliers_fraction = num_otliers / num_transactions\n",
    "print('outliers fraction:', round(outliers_fraction, 3))"
   ]
  },
  {
   "cell_type": "code",
   "execution_count": null,
   "metadata": {},
   "outputs": [],
   "source": [
    "df.head()"
   ]
  },
  {
   "cell_type": "code",
   "execution_count": null,
   "metadata": {},
   "outputs": [],
   "source": [
    "df = df.drop(columns=['BatchId', \n",
    "                      'AccountId', \n",
    "                      'SubscriptionId', \n",
    "                      'CustomerId', \n",
    "                      'TransactionStartTime', \n",
    "                      'FraudResult'])"
   ]
  },
  {
   "cell_type": "code",
   "execution_count": null,
   "metadata": {},
   "outputs": [],
   "source": [
    "df.head()"
   ]
  },
  {
   "cell_type": "markdown",
   "metadata": {},
   "source": [
    "## One-Class SVM (OCSVM)"
   ]
  },
  {
   "cell_type": "code",
   "execution_count": null,
   "metadata": {},
   "outputs": [],
   "source": [
    "from sklearn import svm"
   ]
  },
  {
   "cell_type": "markdown",
   "metadata": {},
   "source": [
    "Grid Search по параметрам и скейлерам"
   ]
  },
  {
   "cell_type": "code",
   "execution_count": null,
   "metadata": {},
   "outputs": [],
   "source": [
    "OCSVM = svm.OneClassSVM(nu=0.95*outliers_fraction+0.05, kernel=\"rbf\", gamma=0.1)"
   ]
  },
  {
   "cell_type": "code",
   "execution_count": null,
   "metadata": {},
   "outputs": [],
   "source": [
    "OCSVM.fit(df_trn_cut)"
   ]
  },
  {
   "cell_type": "code",
   "execution_count": null,
   "metadata": {},
   "outputs": [],
   "source": [
    "FraudPred_OCSVM = OCSVM.predict(df_trn_cut)"
   ]
  },
  {
   "cell_type": "code",
   "execution_count": null,
   "metadata": {},
   "outputs": [],
   "source": [
    "FraudPred_OCSVM = [ 1 if x == -1 else 0 for x in FraudPred_OCSVM ]"
   ]
  },
  {
   "cell_type": "code",
   "execution_count": null,
   "metadata": {},
   "outputs": [],
   "source": [
    "unique, counts = np.unique(FraudPred_OCSVM, return_counts=True)\n",
    "dict(zip(unique, counts))"
   ]
  },
  {
   "cell_type": "code",
   "execution_count": null,
   "metadata": {},
   "outputs": [],
   "source": [
    "unique, counts = np.unique(df_train['FraudResult'], return_counts=True)\n",
    "dict(zip(unique, counts))"
   ]
  },
  {
   "cell_type": "code",
   "execution_count": null,
   "metadata": {},
   "outputs": [],
   "source": [
    "f1_score(df_train['FraudResult'], FraudPred_OCSVM)"
   ]
  },
  {
   "cell_type": "markdown",
   "metadata": {},
   "source": [
    "## Isolation Forest (IF)"
   ]
  },
  {
   "cell_type": "code",
   "execution_count": null,
   "metadata": {},
   "outputs": [],
   "source": [
    "from sklearn.ensemble import IsolationForest"
   ]
  },
  {
   "cell_type": "code",
   "execution_count": null,
   "metadata": {},
   "outputs": [],
   "source": [
    "IF = IsolationForest(behaviour='new', contamination=outliers_fraction, random_state=24)"
   ]
  },
  {
   "cell_type": "code",
   "execution_count": null,
   "metadata": {},
   "outputs": [],
   "source": [
    "IF.fit(df_trn_cut)"
   ]
  },
  {
   "cell_type": "code",
   "execution_count": null,
   "metadata": {},
   "outputs": [],
   "source": [
    "FraudPred_IF = IF.predict(df_trn_cut)"
   ]
  },
  {
   "cell_type": "code",
   "execution_count": null,
   "metadata": {},
   "outputs": [],
   "source": [
    "FraudPred_IF_replace = [ 1 if x == -1 else 0 for x in FraudPred_IF ]"
   ]
  },
  {
   "cell_type": "code",
   "execution_count": null,
   "metadata": {},
   "outputs": [],
   "source": [
    "unique, counts = np.unique(FraudPred_IF_replace, return_counts=True)\n",
    "dict(zip(unique, counts))"
   ]
  },
  {
   "cell_type": "code",
   "execution_count": null,
   "metadata": {},
   "outputs": [],
   "source": [
    "unique, counts = np.unique(df_train['FraudResult'], return_counts=True)\n",
    "dict(zip(unique, counts))"
   ]
  },
  {
   "cell_type": "code",
   "execution_count": null,
   "metadata": {},
   "outputs": [],
   "source": [
    "f1_score(df_train['FraudResult'], FraudPred_IF_replace)"
   ]
  },
  {
   "cell_type": "markdown",
   "metadata": {},
   "source": [
    "## Fitting an Elliptic Envelope (EE)"
   ]
  },
  {
   "cell_type": "code",
   "execution_count": null,
   "metadata": {},
   "outputs": [],
   "source": [
    "from sklearn.covariance import EllipticEnvelope"
   ]
  },
  {
   "cell_type": "code",
   "execution_count": null,
   "metadata": {},
   "outputs": [],
   "source": [
    "EE = EllipticEnvelope(contamination=outliers_fraction*1.5)"
   ]
  },
  {
   "cell_type": "code",
   "execution_count": null,
   "metadata": {},
   "outputs": [],
   "source": [
    "EE.fit(df_trn_cut)"
   ]
  },
  {
   "cell_type": "code",
   "execution_count": null,
   "metadata": {},
   "outputs": [],
   "source": [
    "FraudPred_EE = EE.predict(df_trn_cut)"
   ]
  },
  {
   "cell_type": "code",
   "execution_count": null,
   "metadata": {},
   "outputs": [],
   "source": [
    "FraudPred_EE = [ 1 if x == -1 else 0 for x in FraudPred_EE ]"
   ]
  },
  {
   "cell_type": "code",
   "execution_count": null,
   "metadata": {},
   "outputs": [],
   "source": [
    "unique, counts = np.unique(FraudPred_EE, return_counts=True)\n",
    "dict(zip(unique, counts))"
   ]
  },
  {
   "cell_type": "code",
   "execution_count": null,
   "metadata": {},
   "outputs": [],
   "source": [
    "unique, counts = np.unique(df_train['FraudResult'], return_counts=True)\n",
    "dict(zip(unique, counts))"
   ]
  },
  {
   "cell_type": "code",
   "execution_count": null,
   "metadata": {},
   "outputs": [],
   "source": [
    "f1_score(df_train['FraudResult'], FraudPred_EE)"
   ]
  },
  {
   "cell_type": "markdown",
   "metadata": {},
   "source": [
    "## Local Outlier Factor (LOF)"
   ]
  },
  {
   "cell_type": "code",
   "execution_count": null,
   "metadata": {},
   "outputs": [],
   "source": [
    "from sklearn.neighbors import LocalOutlierFactor"
   ]
  },
  {
   "cell_type": "code",
   "execution_count": null,
   "metadata": {},
   "outputs": [],
   "source": [
    "LOF = LocalOutlierFactor(n_neighbors=15, contamination=outliers_fraction)"
   ]
  },
  {
   "cell_type": "code",
   "execution_count": null,
   "metadata": {},
   "outputs": [],
   "source": [
    "FraudPred_LOF = LOF.fit_predict(df_trn_cut)"
   ]
  },
  {
   "cell_type": "code",
   "execution_count": null,
   "metadata": {},
   "outputs": [],
   "source": [
    "# FraudPred_LOF = LOF.fit_predict(df_tst_cut)"
   ]
  },
  {
   "cell_type": "code",
   "execution_count": null,
   "metadata": {},
   "outputs": [],
   "source": [
    "FraudPred_LOF = [ 1 if x == -1 else 0 for x in FraudPred_LOF ]"
   ]
  },
  {
   "cell_type": "code",
   "execution_count": null,
   "metadata": {},
   "outputs": [],
   "source": [
    "unique, counts = np.unique(FraudPred_LOF, return_counts=True)\n",
    "dict(zip(unique, counts))"
   ]
  },
  {
   "cell_type": "code",
   "execution_count": null,
   "metadata": {},
   "outputs": [],
   "source": [
    "unique, counts = np.unique(df_train['FraudResult'], return_counts=True)\n",
    "dict(zip(unique, counts))"
   ]
  },
  {
   "cell_type": "code",
   "execution_count": null,
   "metadata": {},
   "outputs": [],
   "source": [
    "f1_score(df_train['FraudResult'], FraudPred_LOF)"
   ]
  },
  {
   "cell_type": "markdown",
   "metadata": {},
   "source": [
    "# Neural Network Approach"
   ]
  },
  {
   "cell_type": "markdown",
   "metadata": {},
   "source": [
    "Supervised approaches\n",
    "- Perceptron (MLP)\n",
    "- LSTM\n",
    "\n",
    "Unsupervised approaches\n",
    "- Auto-Encoder (AE)\n",
    "- Restricted Boltzmann Machine (RBM)\n",
    "- Generative Adversarial Networks (GAN)"
   ]
  },
  {
   "cell_type": "code",
   "execution_count": null,
   "metadata": {},
   "outputs": [],
   "source": []
  },
  {
   "cell_type": "markdown",
   "metadata": {},
   "source": [
    "## Perceptron"
   ]
  },
  {
   "cell_type": "code",
   "execution_count": null,
   "metadata": {},
   "outputs": [],
   "source": []
  },
  {
   "cell_type": "markdown",
   "metadata": {},
   "source": [
    "## LSTM"
   ]
  },
  {
   "cell_type": "code",
   "execution_count": null,
   "metadata": {},
   "outputs": [],
   "source": []
  },
  {
   "cell_type": "code",
   "execution_count": null,
   "metadata": {},
   "outputs": [],
   "source": []
  },
  {
   "cell_type": "code",
   "execution_count": null,
   "metadata": {},
   "outputs": [],
   "source": []
  },
  {
   "cell_type": "code",
   "execution_count": null,
   "metadata": {},
   "outputs": [],
   "source": []
  },
  {
   "cell_type": "code",
   "execution_count": null,
   "metadata": {},
   "outputs": [],
   "source": []
  },
  {
   "cell_type": "code",
   "execution_count": null,
   "metadata": {},
   "outputs": [],
   "source": []
  },
  {
   "cell_type": "markdown",
   "metadata": {},
   "source": [
    "# Submission"
   ]
  },
  {
   "cell_type": "code",
   "execution_count": null,
   "metadata": {},
   "outputs": [],
   "source": [
    "import numpy as np\n",
    "import pandas as pd"
   ]
  },
  {
   "cell_type": "markdown",
   "metadata": {},
   "source": [
    "### `Isolation Forest` 02-07-19"
   ]
  },
  {
   "cell_type": "code",
   "execution_count": null,
   "metadata": {},
   "outputs": [],
   "source": [
    "df_test = pd.read_csv('./data/test.csv')\n",
    "df_submission = pd.read_csv('./data/sample_submission-2.csv')"
   ]
  },
  {
   "cell_type": "code",
   "execution_count": null,
   "metadata": {},
   "outputs": [],
   "source": [
    "df_test.head()"
   ]
  },
  {
   "cell_type": "code",
   "execution_count": null,
   "metadata": {},
   "outputs": [],
   "source": [
    "df_submission.head()"
   ]
  },
  {
   "cell_type": "code",
   "execution_count": null,
   "metadata": {},
   "outputs": [],
   "source": [
    "removable_columns = ['TransactionId', \n",
    "                     'BatchId', \n",
    "                     'AccountId', \n",
    "                     'SubscriptionId', \n",
    "                     'CustomerId', \n",
    "                     'CurrencyCode',\n",
    "                     'CountryCode',\n",
    "                     'ProviderId', \n",
    "                     'ProductId', \n",
    "                     'ProductCategory', \n",
    "                     'ChannelId', \n",
    "                     'Amount', \n",
    "                     #'Value', \n",
    "                     'TransactionStartTime', \n",
    "                     #'PricingStrategy',\n",
    "                     #'FraudResult'\n",
    "                    ]\n",
    "df_test = df_test.drop(columns=removable_columns)"
   ]
  },
  {
   "cell_type": "code",
   "execution_count": null,
   "metadata": {},
   "outputs": [],
   "source": [
    "scaler = MinMaxScaler()\n",
    "df_test = scaler.fit_transform(df_test)"
   ]
  },
  {
   "cell_type": "code",
   "execution_count": null,
   "metadata": {},
   "outputs": [],
   "source": [
    "df_test[:5,]"
   ]
  },
  {
   "cell_type": "code",
   "execution_count": null,
   "metadata": {},
   "outputs": [],
   "source": [
    "IF = IsolationForest(behaviour='new', contamination=outliers_fraction, random_state=24)"
   ]
  },
  {
   "cell_type": "code",
   "execution_count": null,
   "metadata": {},
   "outputs": [],
   "source": [
    "FraudPred_IF_test = IF.fit(df_test).predict(df_test)"
   ]
  },
  {
   "cell_type": "code",
   "execution_count": null,
   "metadata": {},
   "outputs": [],
   "source": [
    "FraudPred_IF_test"
   ]
  },
  {
   "cell_type": "code",
   "execution_count": null,
   "metadata": {},
   "outputs": [],
   "source": [
    "unique, counts = np.unique(FraudPred_IF_test, return_counts=True)\n",
    "dict(zip(unique, counts))"
   ]
  },
  {
   "cell_type": "code",
   "execution_count": null,
   "metadata": {},
   "outputs": [],
   "source": [
    "FraudPred_IF_test = [ 1 if x == -1 else 0 for x in FraudPred_IF_test ]"
   ]
  },
  {
   "cell_type": "code",
   "execution_count": null,
   "metadata": {},
   "outputs": [],
   "source": [
    "unique, counts = np.unique(FraudPred_IF_test, return_counts=True)\n",
    "dict(zip(unique, counts))"
   ]
  },
  {
   "cell_type": "code",
   "execution_count": null,
   "metadata": {},
   "outputs": [],
   "source": [
    "df_submission['FraudResult'] = FraudPred_IF_test"
   ]
  },
  {
   "cell_type": "code",
   "execution_count": null,
   "metadata": {},
   "outputs": [],
   "source": [
    "df_submission.head()"
   ]
  },
  {
   "cell_type": "code",
   "execution_count": null,
   "metadata": {},
   "outputs": [],
   "source": [
    "df_submission.to_csv('AlBo_1.csv', encoding='utf-8', index=False)"
   ]
  },
  {
   "cell_type": "markdown",
   "metadata": {},
   "source": [
    "### `Elliptic Envelope` 03-07-19"
   ]
  },
  {
   "cell_type": "code",
   "execution_count": null,
   "metadata": {},
   "outputs": [],
   "source": [
    "df_train      = pd.read_csv('./data/training.csv')\n",
    "df_test       = pd.read_csv('./data/test.csv')\n",
    "df_submission = pd.read_csv('./data/sample_submission-2.csv')"
   ]
  },
  {
   "cell_type": "code",
   "execution_count": null,
   "metadata": {},
   "outputs": [],
   "source": [
    "df_test.head()"
   ]
  },
  {
   "cell_type": "code",
   "execution_count": null,
   "metadata": {},
   "outputs": [],
   "source": [
    "removable_columns = ['TransactionId', \n",
    "                     'BatchId', \n",
    "                     'AccountId', \n",
    "                     'SubscriptionId', \n",
    "                     'CustomerId', \n",
    "                     'CurrencyCode',\n",
    "                     'CountryCode',\n",
    "                     'ProviderId', \n",
    "                     'ProductId', \n",
    "                     'ProductCategory', \n",
    "                     'ChannelId', \n",
    "                     #'Amount', \n",
    "                     #'Value', \n",
    "                     'TransactionStartTime', \n",
    "                     #'PricingStrategy'\n",
    "                    ]\n",
    "df_test = df_test.drop(columns=removable_columns)"
   ]
  },
  {
   "cell_type": "code",
   "execution_count": null,
   "metadata": {},
   "outputs": [],
   "source": [
    "from sklearn.preprocessing import MinMaxScaler\n",
    "scaler = MinMaxScaler()\n",
    "df_test = scaler.fit_transform(df_test)"
   ]
  },
  {
   "cell_type": "code",
   "execution_count": null,
   "metadata": {},
   "outputs": [],
   "source": [
    "df_test[:5,]"
   ]
  },
  {
   "cell_type": "code",
   "execution_count": null,
   "metadata": {},
   "outputs": [],
   "source": [
    "num_transactions = df_train.shape[0]\n",
    "num_otliers = df_train['FraudResult'].value_counts()[1]\n",
    "num_inliers = df_train['FraudResult'].value_counts()[0]\n",
    "outliers_fraction = num_otliers / num_transactions\n",
    "print('outliers fraction:', round(outliers_fraction, 3))"
   ]
  },
  {
   "cell_type": "code",
   "execution_count": null,
   "metadata": {},
   "outputs": [],
   "source": [
    "from sklearn.covariance import EllipticEnvelope"
   ]
  },
  {
   "cell_type": "code",
   "execution_count": null,
   "metadata": {},
   "outputs": [],
   "source": [
    "EE = EllipticEnvelope(contamination=outliers_fraction)"
   ]
  },
  {
   "cell_type": "code",
   "execution_count": null,
   "metadata": {},
   "outputs": [],
   "source": [
    "FraudPred_EE = EE.fit(df_test).predict(df_test)"
   ]
  },
  {
   "cell_type": "code",
   "execution_count": null,
   "metadata": {},
   "outputs": [],
   "source": [
    "FraudPred_EE = [ 1 if x == -1 else 0 for x in FraudPred_EE ]"
   ]
  },
  {
   "cell_type": "code",
   "execution_count": null,
   "metadata": {},
   "outputs": [],
   "source": [
    "df_submission['FraudResult'] = FraudPred_EE"
   ]
  },
  {
   "cell_type": "code",
   "execution_count": null,
   "metadata": {},
   "outputs": [],
   "source": [
    "df_submission.to_csv('AlBo_07_03.csv', encoding='utf-8', index=False)"
   ]
  },
  {
   "cell_type": "markdown",
   "metadata": {},
   "source": [
    "### `Elliptic Envelope` 04-07-19"
   ]
  },
  {
   "cell_type": "code",
   "execution_count": null,
   "metadata": {},
   "outputs": [],
   "source": [
    "df.head()"
   ]
  },
  {
   "cell_type": "code",
   "execution_count": null,
   "metadata": {},
   "outputs": [],
   "source": [
    "removable_columns = [\n",
    "                     'BatchId', \n",
    "                     'AccountId', \n",
    "                     'SubscriptionId', \n",
    "                     'CustomerId',\n",
    "                     #'ProviderId', \n",
    "                     #'ProductId', \n",
    "                     #'ProductCategory', \n",
    "                     #'ChannelId', \n",
    "                     #'Amount', \n",
    "                     #'Value', \n",
    "                     'TransactionStartTime', \n",
    "                     #'PricingStrategy', \n",
    "                     'FraudResult',\n",
    "                     'PricingStrategy_0',\n",
    "                     'PricingStrategy_1',\n",
    "                     'PricingStrategy_2',\n",
    "                     'PricingStrategy_3',\n",
    "                     'PricingStrategy_4'\n",
    "                    ]\n",
    "df_sbm = df.drop(columns=removable_columns)"
   ]
  },
  {
   "cell_type": "code",
   "execution_count": null,
   "metadata": {},
   "outputs": [],
   "source": [
    "df_sbm.head()"
   ]
  },
  {
   "cell_type": "code",
   "execution_count": null,
   "metadata": {},
   "outputs": [],
   "source": [
    "# from sklearn.preprocessing import MinMaxScaler\n",
    "# scaler = MinMaxScaler()\n",
    "# df_sbm = scaler.fit_transform(df_sbm)"
   ]
  },
  {
   "cell_type": "code",
   "execution_count": null,
   "metadata": {},
   "outputs": [],
   "source": [
    "# df_sbm[:5, ]"
   ]
  },
  {
   "cell_type": "code",
   "execution_count": null,
   "metadata": {},
   "outputs": [],
   "source": [
    "num_transactions = df_train.shape[0]\n",
    "num_otliers = df_train['FraudResult'].value_counts()[1]\n",
    "num_inliers = df_train['FraudResult'].value_counts()[0]\n",
    "outliers_fraction = num_otliers / num_transactions\n",
    "print('outliers fraction:', round(outliers_fraction, 3))"
   ]
  },
  {
   "cell_type": "code",
   "execution_count": null,
   "metadata": {},
   "outputs": [],
   "source": [
    "from sklearn.covariance import EllipticEnvelope"
   ]
  },
  {
   "cell_type": "code",
   "execution_count": null,
   "metadata": {},
   "outputs": [],
   "source": [
    "EE = EllipticEnvelope(contamination=outliers_fraction)"
   ]
  },
  {
   "cell_type": "code",
   "execution_count": null,
   "metadata": {},
   "outputs": [],
   "source": [
    "FraudPred_EE = EE.fit(df_test).predict(df)"
   ]
  },
  {
   "cell_type": "code",
   "execution_count": null,
   "metadata": {},
   "outputs": [],
   "source": []
  }
 ],
 "metadata": {
  "kernelspec": {
   "display_name": "Python 3",
   "language": "python",
   "name": "python3"
  },
  "language_info": {
   "codemirror_mode": {
    "name": "ipython",
    "version": 3
   },
   "file_extension": ".py",
   "mimetype": "text/x-python",
   "name": "python",
   "nbconvert_exporter": "python",
   "pygments_lexer": "ipython3",
   "version": "3.7.1"
  }
 },
 "nbformat": 4,
 "nbformat_minor": 2
}
