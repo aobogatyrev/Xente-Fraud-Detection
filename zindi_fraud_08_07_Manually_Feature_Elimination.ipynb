{
 "cells": [
  {
   "cell_type": "markdown",
   "metadata": {},
   "source": [
    "# Manually Feature Elimination\n",
    "удаляем features по результатам submit'ов для $\\chi^2$ отбора\n",
    "1. Отбросим те features из `top20chi2`, которые понижают score на submit'е\n",
    "   - plus column `Value`\n",
    "2. Отбросим те features из `top20chi2`, которые не повышают score на submit'е\n",
    "   - plus column `Value`\n",
    "3. Отбросим все features with `sum`\n",
    "4. Оставим только те features, которые увеличивают score по сравнению с предыдущим результатом"
   ]
  },
  {
   "cell_type": "code",
   "execution_count": 1,
   "metadata": {},
   "outputs": [],
   "source": [
    "import numpy  as np\n",
    "import pandas as pd"
   ]
  },
  {
   "cell_type": "code",
   "execution_count": 2,
   "metadata": {},
   "outputs": [],
   "source": [
    "df_trn = pd.read_csv('../data/train-agg-cut.csv')\n",
    "df_tst = pd.read_csv('../data/test-agg-cut.csv')\n",
    "df_sbm = pd.read_csv('../data/sample_submission.csv')"
   ]
  },
  {
   "cell_type": "code",
   "execution_count": 3,
   "metadata": {},
   "outputs": [],
   "source": [
    "X_trn = df_trn.drop(columns=['FraudResult'], axis=1)\n",
    "y_trn = df_trn['FraudResult']\n",
    "\n",
    "X_tst = df_tst"
   ]
  },
  {
   "cell_type": "code",
   "execution_count": 4,
   "metadata": {},
   "outputs": [],
   "source": [
    "import os\n",
    "from collections import Counter\n",
    "from sklearn.ensemble import BaggingClassifier"
   ]
  },
  {
   "cell_type": "code",
   "execution_count": 5,
   "metadata": {},
   "outputs": [],
   "source": [
    "def prediction(X_trn, y_trn, X_tst, name):\n",
    "    classifier = BaggingClassifier(n_estimators=1000, n_jobs=-1)\n",
    "    predict = classifier.fit(X_trn, y_trn).predict(X_tst)\n",
    "    print('Predict = ', Counter(predict))\n",
    "    df_sbm['FraudResult'] = predict\n",
    "\n",
    "    # определяем был ли ранее точно такой же результат\n",
    "    current_subm_set = set(df_sbm[df_sbm['FraudResult'] == 1].index.tolist())\n",
    "    \n",
    "    # просматриваем все файлы в папке submitted\n",
    "    is_exist = False\n",
    "    files = os.listdir('../submitted')\n",
    "    files.sort()\n",
    "    for f in files:\n",
    "        f_csv = pd.read_csv('../submitted/' + f)\n",
    "        if set(f_csv[f_csv['FraudResult'] == 1].index.tolist()) == current_subm_set:\n",
    "            print('It is the same as in: ' + f)\n",
    "            is_exist = True\n",
    "    if not is_exist:\n",
    "        print('New result! Write it')\n",
    "        df_sbm.to_csv('../submitted/AlBo0807_Manually_Feature_Elimination_'+name+'.csv', encoding='utf-8', index=False)"
   ]
  },
  {
   "cell_type": "code",
   "execution_count": 6,
   "metadata": {},
   "outputs": [],
   "source": [
    "top20chi2 = [\n",
    "    'AmountPositive',                                                           #01\n",
    "    'Value',                                                                    #02\n",
    "    'account_product_transactions__AmountPositive_global_sum',                  #03\n",
    "    'account_provider_transactions__AmountPositive_global_avg',                 #04\n",
    "    'account_product_category_transactions__AmountPositive_global_sum',         #05\n",
    "    'account_provider_transactions__Value_global_avg',                          #06\n",
    "    'account_provider_transactions__AmountPositive_global_sum',                 #07\n",
    "    'account_channel_transactions__AmountPositive_global_sum',                  #08\n",
    "    'account_product_transactions__AmountPositive_global_avg',                  #09\n",
    "    'account_transactions__AmountPositive_global_sum',                          #10\n",
    "    'account_pricing_strategy_transactions__AmountPositive_global_sum',         #11\n",
    "    'account_product_category_transactions__AmountPositive_global_avg',         #12\n",
    "    'account_product_transactions__AmountPositive_week_sum',                    #13\n",
    "    'account_provider_transactions__AmountPositive_week_avg',                   #14\n",
    "    'account_pricing_strategy_transactions__AmountPositive_global_avg',         #15\n",
    "    'account_product_transactions__Value_global_avg',                           #16\n",
    "    'account_product_category_transactions__Value_global_avg',                  #17\n",
    "    'account_channel_transactions__AmountPositive_global_avg',                  #18\n",
    "    'account_transactions__AmountPositive_global_avg',                          #19\n",
    "    'account_provider_transactions__AmountPositive_week_sum'                    #20\n",
    "]"
   ]
  },
  {
   "cell_type": "markdown",
   "metadata": {},
   "source": [
    "### Version #1\n",
    "Отбросим те features из `top20chi2`, которые понижают score на submit'е"
   ]
  },
  {
   "cell_type": "code",
   "execution_count": 7,
   "metadata": {},
   "outputs": [],
   "source": [
    "top20chi2_ver1 = [\n",
    "    'AmountPositive',                                                           #01\n",
    "#     'Value',                                                                    #02\n",
    "    'account_product_transactions__AmountPositive_global_sum',                  #03\n",
    "    'account_provider_transactions__AmountPositive_global_avg',                 #04\n",
    "#     'account_product_category_transactions__AmountPositive_global_sum',         #05\n",
    "    'account_provider_transactions__Value_global_avg',                          #06\n",
    "    'account_provider_transactions__AmountPositive_global_sum',                 #07\n",
    "    'account_channel_transactions__AmountPositive_global_sum',                  #08\n",
    "#     'account_product_transactions__AmountPositive_global_avg',                  #09\n",
    "    'account_transactions__AmountPositive_global_sum',                          #10\n",
    "#     'account_pricing_strategy_transactions__AmountPositive_global_sum',         #11\n",
    "#     'account_product_category_transactions__AmountPositive_global_avg',         #12\n",
    "    'account_product_transactions__AmountPositive_week_sum',                    #13\n",
    "#     'account_provider_transactions__AmountPositive_week_avg',                   #14\n",
    "#     'account_pricing_strategy_transactions__AmountPositive_global_avg',         #15\n",
    "#     'account_product_transactions__Value_global_avg',                           #16\n",
    "#     'account_product_category_transactions__Value_global_avg',                  #17\n",
    "    'account_channel_transactions__AmountPositive_global_avg',                  #18\n",
    "#     'account_transactions__AmountPositive_global_avg',                          #19\n",
    "#     'account_provider_transactions__AmountPositive_week_sum'                    #20\n",
    "]"
   ]
  },
  {
   "cell_type": "code",
   "execution_count": 9,
   "metadata": {},
   "outputs": [
    {
     "name": "stdout",
     "output_type": "stream",
     "text": [
      "Predict =  Counter({0: 44947, 1: 72})\n",
      "It is the same as in: AlBo0726_top18chi2_BaggingClassifier.csv\n"
     ]
    }
   ],
   "source": [
    "prediction(X_trn[top20chi2_ver1], y_trn, X_tst[top20chi2_ver1], 'ver1')"
   ]
  },
  {
   "cell_type": "markdown",
   "metadata": {},
   "source": [
    "**Result:** `0.827586206896552` (same `top18chi2`)"
   ]
  },
  {
   "cell_type": "markdown",
   "metadata": {},
   "source": [
    "### Version #1 with column `Value`\n",
    "Отбросим те features из `top20chi2`, которые понижают score на submit'е, plus column `Value`"
   ]
  },
  {
   "cell_type": "code",
   "execution_count": 10,
   "metadata": {},
   "outputs": [],
   "source": [
    "top20chi2_ver1_Value = [\n",
    "    'AmountPositive',                                                           #01\n",
    "    'Value',                                                                    #02\n",
    "    'account_product_transactions__AmountPositive_global_sum',                  #03\n",
    "    'account_provider_transactions__AmountPositive_global_avg',                 #04\n",
    "#     'account_product_category_transactions__AmountPositive_global_sum',         #05\n",
    "    'account_provider_transactions__Value_global_avg',                          #06\n",
    "    'account_provider_transactions__AmountPositive_global_sum',                 #07\n",
    "    'account_channel_transactions__AmountPositive_global_sum',                  #08\n",
    "#     'account_product_transactions__AmountPositive_global_avg',                  #09\n",
    "    'account_transactions__AmountPositive_global_sum',                          #10\n",
    "#     'account_pricing_strategy_transactions__AmountPositive_global_sum',         #11\n",
    "#     'account_product_category_transactions__AmountPositive_global_avg',         #12\n",
    "    'account_product_transactions__AmountPositive_week_sum',                    #13\n",
    "#     'account_provider_transactions__AmountPositive_week_avg',                   #14\n",
    "#     'account_pricing_strategy_transactions__AmountPositive_global_avg',         #15\n",
    "#     'account_product_transactions__Value_global_avg',                           #16\n",
    "#     'account_product_category_transactions__Value_global_avg',                  #17\n",
    "    'account_channel_transactions__AmountPositive_global_avg',                  #18\n",
    "#     'account_transactions__AmountPositive_global_avg',                          #19\n",
    "#     'account_provider_transactions__AmountPositive_week_sum'                    #20\n",
    "]"
   ]
  },
  {
   "cell_type": "code",
   "execution_count": 11,
   "metadata": {},
   "outputs": [
    {
     "name": "stdout",
     "output_type": "stream",
     "text": [
      "Predict =  Counter({0: 44946, 1: 73})\n",
      "It is the same as in: AlBo0724_top20chi2_BaggingClassifier.csv\n"
     ]
    }
   ],
   "source": [
    "prediction(X_trn[top20chi2_ver1_Value], y_trn, X_tst[top20chi2_ver1_Value], 'ver1_Value')"
   ]
  },
  {
   "cell_type": "markdown",
   "metadata": {},
   "source": [
    "**Result:** `0.813559322033898` (same `top20chi2`, worse than `top18chi2`)"
   ]
  },
  {
   "cell_type": "markdown",
   "metadata": {},
   "source": [
    "### Version #2\n",
    "Отбросим те features из `top20chi2`, которые не повышают score на submit'е"
   ]
  },
  {
   "cell_type": "code",
   "execution_count": 12,
   "metadata": {},
   "outputs": [],
   "source": [
    "top20chi2_ver2 = [\n",
    "    'AmountPositive',                                                           #01\n",
    "#     'Value',                                                                    #02\n",
    "    'account_product_transactions__AmountPositive_global_sum',                  #03\n",
    "    'account_provider_transactions__AmountPositive_global_avg',                 #04\n",
    "#     'account_product_category_transactions__AmountPositive_global_sum',         #05\n",
    "#     'account_provider_transactions__Value_global_avg',                          #06\n",
    "#     'account_provider_transactions__AmountPositive_global_sum',                 #07\n",
    "#     'account_channel_transactions__AmountPositive_global_sum',                  #08\n",
    "#     'account_product_transactions__AmountPositive_global_avg',                  #09\n",
    "#     'account_transactions__AmountPositive_global_sum',                          #10\n",
    "#     'account_pricing_strategy_transactions__AmountPositive_global_sum',         #11\n",
    "#     'account_product_category_transactions__AmountPositive_global_avg',         #12\n",
    "    'account_product_transactions__AmountPositive_week_sum',                    #13\n",
    "#     'account_provider_transactions__AmountPositive_week_avg',                   #14\n",
    "#     'account_pricing_strategy_transactions__AmountPositive_global_avg',         #15\n",
    "#     'account_product_transactions__Value_global_avg',                           #16\n",
    "#     'account_product_category_transactions__Value_global_avg',                  #17\n",
    "    'account_channel_transactions__AmountPositive_global_avg',                  #18\n",
    "#     'account_transactions__AmountPositive_global_avg',                          #19\n",
    "#     'account_provider_transactions__AmountPositive_week_sum'                    #20\n",
    "]"
   ]
  },
  {
   "cell_type": "code",
   "execution_count": 13,
   "metadata": {},
   "outputs": [
    {
     "name": "stdout",
     "output_type": "stream",
     "text": [
      "Predict =  Counter({0: 44946, 1: 73})\n",
      "New result! Write it\n"
     ]
    }
   ],
   "source": [
    "prediction(X_trn[top20chi2_ver2], y_trn, X_tst[top20chi2_ver2], 'ver2')"
   ]
  },
  {
   "cell_type": "markdown",
   "metadata": {},
   "source": [
    "**Result:** `0.827586206896552` (same `top18chi2` and `ver1`)"
   ]
  },
  {
   "cell_type": "markdown",
   "metadata": {},
   "source": [
    "### Version #2 with column `Value`\n",
    "Отбросим те features из `top20chi2`, которые не повышают score на submit'е, plus column `Value`"
   ]
  },
  {
   "cell_type": "code",
   "execution_count": 14,
   "metadata": {},
   "outputs": [],
   "source": [
    "top20chi2_ver2_Value = [\n",
    "    'AmountPositive',                                                           #01\n",
    "    'Value',                                                                    #02\n",
    "    'account_product_transactions__AmountPositive_global_sum',                  #03\n",
    "    'account_provider_transactions__AmountPositive_global_avg',                 #04\n",
    "#     'account_product_category_transactions__AmountPositive_global_sum',         #05\n",
    "#     'account_provider_transactions__Value_global_avg',                          #06\n",
    "#     'account_provider_transactions__AmountPositive_global_sum',                 #07\n",
    "#     'account_channel_transactions__AmountPositive_global_sum',                  #08\n",
    "#     'account_product_transactions__AmountPositive_global_avg',                  #09\n",
    "#     'account_transactions__AmountPositive_global_sum',                          #10\n",
    "#     'account_pricing_strategy_transactions__AmountPositive_global_sum',         #11\n",
    "#     'account_product_category_transactions__AmountPositive_global_avg',         #12\n",
    "    'account_product_transactions__AmountPositive_week_sum',                    #13\n",
    "#     'account_provider_transactions__AmountPositive_week_avg',                   #14\n",
    "#     'account_pricing_strategy_transactions__AmountPositive_global_avg',         #15\n",
    "#     'account_product_transactions__Value_global_avg',                           #16\n",
    "#     'account_product_category_transactions__Value_global_avg',                  #17\n",
    "    'account_channel_transactions__AmountPositive_global_avg',                  #18\n",
    "#     'account_transactions__AmountPositive_global_avg',                          #19\n",
    "#     'account_provider_transactions__AmountPositive_week_sum'                    #20\n",
    "]"
   ]
  },
  {
   "cell_type": "code",
   "execution_count": 15,
   "metadata": {},
   "outputs": [
    {
     "name": "stdout",
     "output_type": "stream",
     "text": [
      "Predict =  Counter({0: 44945, 1: 74})\n",
      "New result! Write it\n"
     ]
    }
   ],
   "source": [
    "prediction(X_trn[top20chi2_ver2_Value], y_trn, X_tst[top20chi2_ver2_Value], 'ver2_Value')"
   ]
  },
  {
   "cell_type": "markdown",
   "metadata": {},
   "source": [
    "**Result:** `0.813559322033898` (worse than `top18` and `ver1` and `ver2`)"
   ]
  },
  {
   "cell_type": "markdown",
   "metadata": {},
   "source": [
    "### Version #3\n",
    "Отбросим все features with `sum`"
   ]
  },
  {
   "cell_type": "code",
   "execution_count": 16,
   "metadata": {},
   "outputs": [],
   "source": [
    "top20chi2_ver3 = [\n",
    "    'AmountPositive',                                                           #01\n",
    "    'Value',                                                                    #02\n",
    "#     'account_product_transactions__AmountPositive_global_sum',                  #03\n",
    "    'account_provider_transactions__AmountPositive_global_avg',                 #04\n",
    "#     'account_product_category_transactions__AmountPositive_global_sum',         #05\n",
    "    'account_provider_transactions__Value_global_avg',                          #06\n",
    "#     'account_provider_transactions__AmountPositive_global_sum',                 #07\n",
    "#     'account_channel_transactions__AmountPositive_global_sum',                  #08\n",
    "    'account_product_transactions__AmountPositive_global_avg',                  #09\n",
    "#     'account_transactions__AmountPositive_global_sum',                          #10\n",
    "#     'account_pricing_strategy_transactions__AmountPositive_global_sum',         #11\n",
    "    'account_product_category_transactions__AmountPositive_global_avg',         #12\n",
    "#     'account_product_transactions__AmountPositive_week_sum',                    #13\n",
    "    'account_provider_transactions__AmountPositive_week_avg',                   #14\n",
    "    'account_pricing_strategy_transactions__AmountPositive_global_avg',         #15\n",
    "    'account_product_transactions__Value_global_avg',                           #16\n",
    "    'account_product_category_transactions__Value_global_avg',                  #17\n",
    "    'account_channel_transactions__AmountPositive_global_avg',                  #18\n",
    "    'account_transactions__AmountPositive_global_avg',                          #19\n",
    "#     'account_provider_transactions__AmountPositive_week_sum'                    #20\n",
    "]"
   ]
  },
  {
   "cell_type": "code",
   "execution_count": 17,
   "metadata": {},
   "outputs": [
    {
     "name": "stdout",
     "output_type": "stream",
     "text": [
      "Predict =  Counter({0: 44953, 1: 66})\n",
      "New result! Write it\n"
     ]
    }
   ],
   "source": [
    "prediction(X_trn[top20chi2_ver3], y_trn, X_tst[top20chi2_ver3], 'ver3')"
   ]
  },
  {
   "cell_type": "markdown",
   "metadata": {},
   "source": [
    "**Result:** `0.714285714285714` (much worse)"
   ]
  },
  {
   "cell_type": "markdown",
   "metadata": {},
   "source": [
    "### Version #4\n",
    "Оставим только те features, которые увеличивают score по сравнению с предыдущим результатом"
   ]
  },
  {
   "cell_type": "markdown",
   "metadata": {},
   "source": [
    "начнем с 6 features, 5 из которых - это `var2`"
   ]
  },
  {
   "cell_type": "code",
   "execution_count": 18,
   "metadata": {},
   "outputs": [],
   "source": [
    "top200chi2inc6 = [\n",
    "    'AmountPositive',                                                      #001\n",
    "#     'Value',                                                               #002\n",
    "    'account_product_transactions__AmountPositive_global_sum',             #003\n",
    "    'account_provider_transactions__AmountPositive_global_avg',            #004\n",
    "#     'account_product_category_transactions__AmountPositive_global_sum',    #005\n",
    "    'account_provider_transactions__Value_global_avg',                     #006\n",
    "#     'account_provider_transactions__AmountPositive_global_sum',            #007\n",
    "#     'account_channel_transactions__AmountPositive_global_sum',             #008\n",
    "#     'account_product_transactions__AmountPositive_global_avg',             #009\n",
    "#     'account_transactions__AmountPositive_global_sum',                     #010\n",
    "#     'account_pricing_strategy_transactions__AmountPositive_global_sum',    #011\n",
    "#     'account_product_category_transactions__AmountPositive_global_avg',    #012\n",
    "    'account_product_transactions__AmountPositive_week_sum',               #013\n",
    "#     'account_provider_transactions__AmountPositive_week_avg',              #014\n",
    "#     'account_pricing_strategy_transactions__AmountPositive_global_avg',    #015\n",
    "#     'account_product_transactions__Value_global_avg',                      #016\n",
    "#     'account_product_category_transactions__Value_global_avg',             #017\n",
    "    'account_channel_transactions__AmountPositive_global_avg',             #018\n",
    "#     'account_transactions__AmountPositive_global_avg',                     #019 \n",
    "#     'account_provider_transactions__AmountPositive_week_sum',              #020\n",
    "#     'account_product_category_transactions__AmountPositive_week_sum',      #021\n",
    "#     'account_pricing_strategy_transactions__Value_global_avg',             #022\n",
    "#     'account_channel_transactions__Value_global_avg',                      #023\n",
    "#     'account_transactions__Value_global_avg',                              #024\n",
    "#     'product_transactions__AmountPositive_global_sum',                     #025\n",
    "#     'product_transactions__AmountPositive_week_sum',                       #026\n",
    "#     'account_provider_transactions__Value_week_avg',                       #027\n",
    "#     'product_transactions__AmountPositive_month_sum',                      #028\n",
    "#     'provider_transactions__AmountPositive_global_avg',                    #029\n",
    "#     'account_channel_transactions__AmountPositive_week_sum',               #030\n",
    "#     'account_transactions__AmountPositive_week_sum',\n",
    "#     'account_transactions__AmountPositive_global_min',\n",
    "#     'account_transactions__Value_global_min',\n",
    "#     'account_transactions__AmountNegative_global_min',\n",
    "#     'account_channel_transactions__AmountPositive_global_min',\n",
    "#     'account_channel_transactions__Value_global_min',\n",
    "#     'account_channel_transactions__AmountNegative_global_min',\n",
    "#     'account_product_category_transactions__AmountPositive_week_min',\n",
    "#     'account_product_category_transactions__Value_week_min',\n",
    "#     'account_product_category_transactions__AmountNegative_week_min',\n",
    "#     'account_pricing_strategy_transactions__AmountPositive_global_min',\n",
    "#     'account_pricing_strategy_transactions__Value_global_min',\n",
    "#     'account_pricing_strategy_transactions__AmountNegative_global_min',\n",
    "#     'account_transactions__AmountNegative_week_min',\n",
    "#     'account_transactions__AmountPositive_week_min',\n",
    "#     'account_transactions__Value_week_min',\n",
    "#     'account_channel_transactions__AmountNegative_week_min',\n",
    "#     'account_channel_transactions__AmountPositive_week_min',\n",
    "#     'account_channel_transactions__Value_week_min',\n",
    "#     'account_pricing_strategy_transactions__AmountPositive_week_min',\n",
    "#     'account_pricing_strategy_transactions__Value_week_min',\n",
    "#     'account_pricing_strategy_transactions__AmountNegative_week_min',\n",
    "#     'account_pricing_strategy_transactions__AmountPositive_week_avg',\n",
    "#     'account_product_transactions__AmountPositive_week_avg',\n",
    "#     'account_provider_transactions__AmountPositive_week_min',\n",
    "#     'account_provider_transactions__Value_week_min',\n",
    "#     'account_provider_transactions__AmountNegative_week_min',\n",
    "#     'pricing_strategy_transactions__AmountPositive_global_avg',\n",
    "#     'account_pricing_strategy_transactions__AmountPositive_week_sum',\n",
    "#     'account_product_transactions__AmountPositive_week_min',\n",
    "#     'account_product_transactions__Value_week_min',\n",
    "#     'account_product_transactions__AmountNegative_week_min',\n",
    "#     'provider_transactions__AmountPositive_month_avg',\n",
    "#     'account_provider_transactions__AmountPositive_global_min',\n",
    "#     'account_provider_transactions__Value_global_min',\n",
    "#     'account_provider_transactions__AmountNegative_global_min',\n",
    "#     'account_product_category_transactions__AmountPositive_global_min',\n",
    "#     'account_product_category_transactions__Value_global_min',\n",
    "#     'account_product_category_transactions__AmountNegative_global_min',\n",
    "#     'account_channel_transactions__AmountPositive_week_avg',\n",
    "#     'account_transactions__AmountPositive_week_avg',\n",
    "#     'account_product_category_transactions__AmountPositive_week_avg',\n",
    "#     'provider_transactions__Value_global_avg',\n",
    "#     'provider_transactions__AmountPositive_week_avg',\n",
    "#     'pricing_strategy_transactions__AmountNegative_global_min',\n",
    "#     'pricing_strategy_transactions__AmountPositive_global_min',\n",
    "#     'pricing_strategy_transactions__Value_global_min',\n",
    "#     'product_transactions__Value_week_sum',\n",
    "#     'pricing_strategy_transactions__Value_global_avg',\n",
    "#     'product_transactions__Value_global_sum',\n",
    "#     'account_pricing_strategy_transactions__Value_week_avg',\n",
    "#     'account_product_transactions__Value_week_avg',\n",
    "#     'product_transactions__Value_month_sum',\n",
    "#     'provider_transactions__Value_month_avg',\n",
    "#     'account_channel_transactions__Value_week_avg',\n",
    "#     'account_transactions__Value_week_avg',\n",
    "#     'provider_transactions__Value_week_avg',\n",
    "#     'account_product_category_transactions__Value_week_avg',\n",
    "#     'account_product_transactions__AmountPositive_global_min',\n",
    "#     'account_product_transactions__Value_global_min',\n",
    "#     'account_product_transactions__AmountNegative_global_min',\n",
    "#     'product_transactions__AmountPositive_global_avg',\n",
    "#     'pricing_strategy_transactions__AmountPositive_week_avg',\n",
    "#     'account_product_category_transactions__AmountNegative_week_max',\n",
    "#     'account_product_category_transactions__AmountPositive_week_max',\n",
    "#     'account_product_category_transactions__Value_week_max',\n",
    "#     'account_provider_transactions__AmountPositive_month_avg',\n",
    "#     'account_product_transactions__AmountNegative_week_max',\n",
    "#     'account_provider_transactions__AmountNegative_week_max',\n",
    "#     'account_product_transactions__AmountPositive_week_max',\n",
    "#     'account_product_transactions__Value_week_max',\n",
    "#     'account_provider_transactions__AmountPositive_week_max',\n",
    "#     'account_provider_transactions__Value_week_max',\n",
    "#     'account_product_category_transactions__AmountNegative_month_max',\n",
    "#     'account_product_category_transactions__AmountPositive_month_max',\n",
    "#     'account_product_category_transactions__Value_month_max',\n",
    "#     'account_pricing_strategy_transactions__AmountNegative_week_max',\n",
    "#     'account_pricing_strategy_transactions__AmountPositive_week_max',\n",
    "#     'account_pricing_strategy_transactions__Value_week_max',\n",
    "#     'account_product_transactions__AmountNegative_month_max',\n",
    "#     'account_product_transactions__AmountPositive_month_max',\n",
    "#     'account_product_transactions__Value_month_max',\n",
    "#     'provider_transactions__AmountNegative_week_count',\n",
    "#     'provider_transactions__AmountPositive_week_count',\n",
    "#     'provider_transactions__Value_week_count',\n",
    "#     'account_transactions__AmountNegative_week_max',\n",
    "#     'account_transactions__AmountPositive_week_max',\n",
    "#     'account_transactions__Value_week_max',\n",
    "#     'account_channel_transactions__AmountNegative_week_max',\n",
    "#     'account_channel_transactions__AmountPositive_week_max',\n",
    "#     'account_channel_transactions__Value_week_max',\n",
    "#     'account_pricing_strategy_transactions__Value_week_count',\n",
    "#     'account_pricing_strategy_transactions__AmountPositive_week_count',\n",
    "#     'account_pricing_strategy_transactions__AmountNegative_week_count',\n",
    "#     'account_product_transactions__AmountPositive_week_count',\n",
    "#     'account_product_transactions__Value_week_count',\n",
    "#     'account_product_transactions__AmountNegative_week_count',\n",
    "#     'account_provider_transactions__Value_week_count',\n",
    "#     'account_provider_transactions__AmountNegative_week_count',\n",
    "#     'account_provider_transactions__AmountPositive_week_count',\n",
    "#     'account_product_category_transactions__AmountPositive_week_count',\n",
    "#     'account_product_category_transactions__Value_week_count',\n",
    "#     'account_product_category_transactions__AmountNegative_week_count',\n",
    "#     'account_transactions__Value_week_count',\n",
    "#     'account_transactions__AmountPositive_week_count',\n",
    "#     'account_transactions__AmountNegative_week_count',\n",
    "#     'account_channel_transactions__AmountNegative_week_count',\n",
    "#     'account_channel_transactions__Value_week_count',\n",
    "#     'account_channel_transactions__AmountPositive_week_count',\n",
    "#     'product_transactions__AmountPositive_month_avg',\n",
    "#     'account_transactions__AmountNegative_month_max',\n",
    "#     'account_transactions__AmountPositive_month_max',\n",
    "#     'account_transactions__Value_month_max',\n",
    "#     'account_channel_transactions__AmountNegative_month_max',\n",
    "#     'account_channel_transactions__AmountPositive_month_max',\n",
    "#     'account_channel_transactions__Value_month_max',\n",
    "#     'account_pricing_strategy_transactions__AmountNegative_month_max',\n",
    "#     'account_pricing_strategy_transactions__AmountPositive_month_max',\n",
    "#     'account_pricing_strategy_transactions__Value_month_max',\n",
    "#     'account_provider_transactions__AmountNegative_month_max',\n",
    "#     'account_provider_transactions__AmountPositive_month_max',\n",
    "#     'account_provider_transactions__Value_month_max',\n",
    "#     'pricing_strategy_transactions__Value_week_avg',\n",
    "#     'channel_transactions__AmountPositive_global_sum',\n",
    "#     'provider_transactions__AmountNegative_global_avg',\n",
    "#     'channel_transactions__AmountNegative_global_avg',\n",
    "#     'product_transactions__AmountPositive_week_avg',\n",
    "#     'provider_transactions__AmountNegative_month_count',\n",
    "#     'provider_transactions__AmountPositive_month_count',\n",
    "#     'provider_transactions__Value_month_count',\n",
    "#     'account_product_category_transactions__AmountNegative_month_min',\n",
    "#     'account_product_category_transactions__AmountPositive_month_min',\n",
    "#     'account_product_category_transactions__Value_month_min',\n",
    "#     'provider_transactions__AmountNegative_global_sum',\n",
    "#     'product_transactions__AmountNegative_global_sum',\n",
    "#     'provider_transactions__AmountNegative_month_sum',\n",
    "#     'channel_transactions__AmountNegative_global_sum',\n",
    "#     'product_transactions__Value_global_avg',\n",
    "#     'channel_transactions__AmountNegative_month_sum',\n",
    "#     'account_product_transactions__AmountPositive_month_count',\n",
    "#     'account_product_transactions__Value_month_count',\n",
    "#     'account_product_transactions__AmountNegative_month_count',\n",
    "#     'account_pricing_strategy_transactions__Value_month_count',\n",
    "#     'account_pricing_strategy_transactions__AmountPositive_month_count',\n",
    "#     'account_pricing_strategy_transactions__AmountNegative_month_count',\n",
    "#     'account_provider_transactions__Value_month_count',\n",
    "#     'account_provider_transactions__AmountNegative_month_count',\n",
    "#     'account_provider_transactions__AmountPositive_month_count',\n",
    "#     'account_transactions__Value_month_count',\n",
    "#     'account_transactions__AmountPositive_month_count',\n",
    "#     'account_transactions__AmountNegative_month_count',\n",
    "#     'account_channel_transactions__AmountNegative_month_count',\n",
    "#     'account_channel_transactions__Value_month_count',\n",
    "#     'account_channel_transactions__AmountPositive_month_count',\n",
    "#     'account_product_category_transactions__AmountPositive_month_count',\n",
    "#     'account_product_category_transactions__Value_month_count',\n",
    "#     'account_product_category_transactions__AmountNegative_month_count',\n",
    "#     'provider_transactions__AmountNegative_month_avg',\n",
    "#     'account_transactions__AmountNegative_month_min',\n",
    "#     'account_transactions__AmountPositive_month_min',\n",
    "#     'account_transactions__Value_month_min',\n",
    "#     'account_channel_transactions__AmountNegative_month_min',\n",
    "#     'account_channel_transactions__AmountPositive_month_min',\n",
    "#     'account_channel_transactions__Value_month_min',\n",
    "#     'account_product_transactions__AmountNegative_month_min',\n",
    "#     'account_product_transactions__AmountPositive_month_min',\n",
    "#     'account_product_transactions__Value_month_min',\n",
    "#     'provider_transactions__AmountNegative_global_count',\n",
    "#     'provider_transactions__AmountPositive_global_count',\n",
    "#     'provider_transactions__Value_global_count'\n",
    "]\n",
    "# 001, 003, 004, 006, 013, 018 (same `ver2` plus 006)"
   ]
  },
  {
   "cell_type": "code",
   "execution_count": 19,
   "metadata": {},
   "outputs": [
    {
     "name": "stdout",
     "output_type": "stream",
     "text": [
      "Predict =  Counter({0: 44946, 1: 73})\n",
      "It is the same as in: AlBo0807_Manually_Feature_Elimination_ver2.csv\n"
     ]
    }
   ],
   "source": [
    "prediction(X_trn[top200chi2inc6], y_trn, X_tst[top200chi2inc6], 'ver4inc6')"
   ]
  },
  {
   "cell_type": "markdown",
   "metadata": {},
   "source": [
    "7 features"
   ]
  },
  {
   "cell_type": "code",
   "execution_count": 20,
   "metadata": {},
   "outputs": [],
   "source": [
    "top200chi2inc7 = [\n",
    "    'AmountPositive',                                                      #001\n",
    "#     'Value',                                                               #002\n",
    "    'account_product_transactions__AmountPositive_global_sum',             #003\n",
    "    'account_provider_transactions__AmountPositive_global_avg',            #004\n",
    "#     'account_product_category_transactions__AmountPositive_global_sum',    #005\n",
    "    'account_provider_transactions__Value_global_avg',                     #006\n",
    "#     'account_provider_transactions__AmountPositive_global_sum',            #007\n",
    "#     'account_channel_transactions__AmountPositive_global_sum',             #008\n",
    "#     'account_product_transactions__AmountPositive_global_avg',             #009\n",
    "    'account_transactions__AmountPositive_global_sum',                     #010\n",
    "#     'account_pricing_strategy_transactions__AmountPositive_global_sum',    #011\n",
    "#     'account_product_category_transactions__AmountPositive_global_avg',    #012\n",
    "    'account_product_transactions__AmountPositive_week_sum',               #013\n",
    "#     'account_provider_transactions__AmountPositive_week_avg',              #014\n",
    "#     'account_pricing_strategy_transactions__AmountPositive_global_avg',    #015\n",
    "#     'account_product_transactions__Value_global_avg',                      #016\n",
    "#     'account_product_category_transactions__Value_global_avg',             #017\n",
    "    'account_channel_transactions__AmountPositive_global_avg',             #018\n",
    "#     'account_transactions__AmountPositive_global_avg',                     #019 \n",
    "#     'account_provider_transactions__AmountPositive_week_sum',              #020\n",
    "#     'account_product_category_transactions__AmountPositive_week_sum',      #021\n",
    "#     'account_pricing_strategy_transactions__Value_global_avg',             #022\n",
    "#     'account_channel_transactions__Value_global_avg',                      #023\n",
    "#     'account_transactions__Value_global_avg',                              #024\n",
    "#     'product_transactions__AmountPositive_global_sum',                     #025\n",
    "#     'product_transactions__AmountPositive_week_sum',                       #026\n",
    "#     'account_provider_transactions__Value_week_avg',                       #027\n",
    "#     'product_transactions__AmountPositive_month_sum',                      #028\n",
    "#     'provider_transactions__AmountPositive_global_avg',                    #029\n",
    "#     'account_channel_transactions__AmountPositive_week_sum',               #030\n",
    "]"
   ]
  },
  {
   "cell_type": "code",
   "execution_count": 21,
   "metadata": {},
   "outputs": [
    {
     "name": "stdout",
     "output_type": "stream",
     "text": [
      "Predict =  Counter({0: 44946, 1: 73})\n",
      "It is the same as in: AlBo0807_Manually_Feature_Elimination_ver2.csv\n"
     ]
    }
   ],
   "source": [
    "prediction(X_trn[top200chi2inc7], y_trn, X_tst[top200chi2inc7], 'ver4inc7')"
   ]
  },
  {
   "cell_type": "markdown",
   "metadata": {},
   "source": [
    "8 features"
   ]
  },
  {
   "cell_type": "code",
   "execution_count": 23,
   "metadata": {},
   "outputs": [],
   "source": [
    "top200chi2inc8 = [\n",
    "    'AmountPositive',                                                      #001\n",
    "#     'Value',                                                               #002\n",
    "    'account_product_transactions__AmountPositive_global_sum',             #003\n",
    "    'account_provider_transactions__AmountPositive_global_avg',            #004\n",
    "#     'account_product_category_transactions__AmountPositive_global_sum',    #005\n",
    "    'account_provider_transactions__Value_global_avg',                     #006\n",
    "#     'account_provider_transactions__AmountPositive_global_sum',            #007\n",
    "#     'account_channel_transactions__AmountPositive_global_sum',             #008\n",
    "#     'account_product_transactions__AmountPositive_global_avg',             #009\n",
    "    'account_transactions__AmountPositive_global_sum',                     #010\n",
    "#     'account_pricing_strategy_transactions__AmountPositive_global_sum',    #011\n",
    "#     'account_product_category_transactions__AmountPositive_global_avg',    #012\n",
    "    'account_product_transactions__AmountPositive_week_sum',               #013\n",
    "#     'account_provider_transactions__AmountPositive_week_avg',              #014\n",
    "#     'account_pricing_strategy_transactions__AmountPositive_global_avg',    #015\n",
    "#     'account_product_transactions__Value_global_avg',                      #016\n",
    "#     'account_product_category_transactions__Value_global_avg',             #017\n",
    "    'account_channel_transactions__AmountPositive_global_avg',             #018\n",
    "#     'account_transactions__AmountPositive_global_avg',                     #019 \n",
    "    'account_provider_transactions__AmountPositive_week_sum',              #020\n",
    "#     'account_product_category_transactions__AmountPositive_week_sum',      #021\n",
    "#     'account_pricing_strategy_transactions__Value_global_avg',             #022\n",
    "#     'account_channel_transactions__Value_global_avg',                      #023\n",
    "#     'account_transactions__Value_global_avg',                              #024\n",
    "#     'product_transactions__AmountPositive_global_sum',                     #025\n",
    "#     'product_transactions__AmountPositive_week_sum',                       #026\n",
    "#     'account_provider_transactions__Value_week_avg',                       #027\n",
    "#     'product_transactions__AmountPositive_month_sum',                      #028\n",
    "#     'provider_transactions__AmountPositive_global_avg',                    #029\n",
    "#     'account_channel_transactions__AmountPositive_week_sum',               #030\n",
    "]"
   ]
  },
  {
   "cell_type": "code",
   "execution_count": 24,
   "metadata": {},
   "outputs": [
    {
     "name": "stdout",
     "output_type": "stream",
     "text": [
      "Predict =  Counter({0: 44946, 1: 73})\n",
      "It is the same as in: AlBo0807_Manually_Feature_Elimination_ver2.csv\n"
     ]
    }
   ],
   "source": [
    "prediction(X_trn[top200chi2inc8], y_trn, X_tst[top200chi2inc8], 'ver4inc8')"
   ]
  },
  {
   "cell_type": "markdown",
   "metadata": {},
   "source": [
    "9 features"
   ]
  },
  {
   "cell_type": "code",
   "execution_count": 26,
   "metadata": {},
   "outputs": [],
   "source": [
    "top200chi2inc9 = [\n",
    "    'AmountPositive',                                                      #001\n",
    "#     'Value',                                                               #002\n",
    "    'account_product_transactions__AmountPositive_global_sum',             #003\n",
    "    'account_provider_transactions__AmountPositive_global_avg',            #004\n",
    "#     'account_product_category_transactions__AmountPositive_global_sum',    #005\n",
    "    'account_provider_transactions__Value_global_avg',                     #006\n",
    "#     'account_provider_transactions__AmountPositive_global_sum',            #007\n",
    "#     'account_channel_transactions__AmountPositive_global_sum',             #008\n",
    "#     'account_product_transactions__AmountPositive_global_avg',             #009\n",
    "    'account_transactions__AmountPositive_global_sum',                     #010\n",
    "#     'account_pricing_strategy_transactions__AmountPositive_global_sum',    #011\n",
    "#     'account_product_category_transactions__AmountPositive_global_avg',    #012\n",
    "    'account_product_transactions__AmountPositive_week_sum',               #013\n",
    "#     'account_provider_transactions__AmountPositive_week_avg',              #014\n",
    "#     'account_pricing_strategy_transactions__AmountPositive_global_avg',    #015\n",
    "#     'account_product_transactions__Value_global_avg',                      #016\n",
    "#     'account_product_category_transactions__Value_global_avg',             #017\n",
    "    'account_channel_transactions__AmountPositive_global_avg',             #018\n",
    "#     'account_transactions__AmountPositive_global_avg',                     #019 \n",
    "    'account_provider_transactions__AmountPositive_week_sum',              #020\n",
    "#     'account_product_category_transactions__AmountPositive_week_sum',      #021\n",
    "#     'account_pricing_strategy_transactions__Value_global_avg',             #022\n",
    "#     'account_channel_transactions__Value_global_avg',                      #023\n",
    "#     'account_transactions__Value_global_avg',                              #024\n",
    "#     'product_transactions__AmountPositive_global_sum',                     #025\n",
    "#     'product_transactions__AmountPositive_week_sum',                       #026\n",
    "#     'account_provider_transactions__Value_week_avg',                       #027\n",
    "#     'product_transactions__AmountPositive_month_sum',                      #028\n",
    "#     'provider_transactions__AmountPositive_global_avg',                    #029\n",
    "    'account_channel_transactions__AmountPositive_week_sum',               #030\n",
    "]"
   ]
  },
  {
   "cell_type": "code",
   "execution_count": 27,
   "metadata": {},
   "outputs": [
    {
     "name": "stdout",
     "output_type": "stream",
     "text": [
      "Predict =  Counter({0: 44946, 1: 73})\n",
      "It is the same as in: AlBo0807_Manually_Feature_Elimination_ver2.csv\n"
     ]
    }
   ],
   "source": [
    "prediction(X_trn[top200chi2inc9], y_trn, X_tst[top200chi2inc9], 'ver4inc9')"
   ]
  },
  {
   "cell_type": "markdown",
   "metadata": {},
   "source": [
    "10 features"
   ]
  },
  {
   "cell_type": "code",
   "execution_count": 28,
   "metadata": {},
   "outputs": [],
   "source": [
    "top200chi2inc10 = [\n",
    "    'AmountPositive',                                                      #001\n",
    "#     'Value',                                                               #002\n",
    "    'account_product_transactions__AmountPositive_global_sum',             #003\n",
    "    'account_provider_transactions__AmountPositive_global_avg',            #004\n",
    "#     'account_product_category_transactions__AmountPositive_global_sum',    #005\n",
    "    'account_provider_transactions__Value_global_avg',                     #006\n",
    "#     'account_provider_transactions__AmountPositive_global_sum',            #007\n",
    "#     'account_channel_transactions__AmountPositive_global_sum',             #008\n",
    "#     'account_product_transactions__AmountPositive_global_avg',             #009\n",
    "    'account_transactions__AmountPositive_global_sum',                     #010\n",
    "#     'account_pricing_strategy_transactions__AmountPositive_global_sum',    #011\n",
    "#     'account_product_category_transactions__AmountPositive_global_avg',    #012\n",
    "    'account_product_transactions__AmountPositive_week_sum',               #013\n",
    "#     'account_provider_transactions__AmountPositive_week_avg',              #014\n",
    "#     'account_pricing_strategy_transactions__AmountPositive_global_avg',    #015\n",
    "#     'account_product_transactions__Value_global_avg',                      #016\n",
    "#     'account_product_category_transactions__Value_global_avg',             #017\n",
    "    'account_channel_transactions__AmountPositive_global_avg',             #018\n",
    "#     'account_transactions__AmountPositive_global_avg',                     #019 \n",
    "    'account_provider_transactions__AmountPositive_week_sum',              #020\n",
    "#     'account_product_category_transactions__AmountPositive_week_sum',      #021\n",
    "#     'account_pricing_strategy_transactions__Value_global_avg',             #022\n",
    "#     'account_channel_transactions__Value_global_avg',                      #023\n",
    "#     'account_transactions__Value_global_avg',                              #024\n",
    "#     'product_transactions__AmountPositive_global_sum',                     #025\n",
    "#     'product_transactions__AmountPositive_week_sum',                       #026\n",
    "#     'account_provider_transactions__Value_week_avg',                       #027\n",
    "#     'product_transactions__AmountPositive_month_sum',                      #028\n",
    "#     'provider_transactions__AmountPositive_global_avg',                    #029\n",
    "    'account_channel_transactions__AmountPositive_week_sum',               #030\n",
    "    'account_transactions__AmountPositive_week_sum',                       #031\n",
    "#     'account_transactions__AmountPositive_global_min',\n",
    "#     'account_transactions__Value_global_min',\n",
    "#     'account_transactions__AmountNegative_global_min',\n",
    "#     'account_channel_transactions__AmountPositive_global_min',\n",
    "#     'account_channel_transactions__Value_global_min',\n",
    "#     'account_channel_transactions__AmountNegative_global_min',\n",
    "#     'account_product_category_transactions__AmountPositive_week_min',\n",
    "#     'account_product_category_transactions__Value_week_min',\n",
    "#     'account_product_category_transactions__AmountNegative_week_min',\n",
    "]"
   ]
  },
  {
   "cell_type": "code",
   "execution_count": 29,
   "metadata": {},
   "outputs": [
    {
     "name": "stdout",
     "output_type": "stream",
     "text": [
      "Predict =  Counter({0: 44946, 1: 73})\n",
      "It is the same as in: AlBo0807_Manually_Feature_Elimination_ver2.csv\n"
     ]
    }
   ],
   "source": [
    "prediction(X_trn[top200chi2inc10], y_trn, X_tst[top200chi2inc10], 'ver4inc10')"
   ]
  },
  {
   "cell_type": "markdown",
   "metadata": {},
   "source": [
    "`k   F1-score on zindi`\n",
    "\n",
    "`01  0.679245283018868`\n",
    "\n",
    "`02  0.666666666666667`\n",
    "\n",
    "`03  0.766666666666667`\n",
    "\n",
    "`04  0.8`\n",
    "\n",
    "`05  0.766666666666667`\n",
    "\n",
    "`06  0.8`\n",
    "\n",
    "`07  0.8`\n",
    "\n",
    "`08  0.8`\n",
    "\n",
    "`10  0.8`\n",
    "\n",
    "`13  0.813559322033898`\n",
    "\n",
    "`18  0.827586206896552`\n",
    "\n",
    "`20  0.813559322033898`\n",
    "\n",
    "`25  0.793103448275862`\n",
    "\n",
    "`26  0.793103448275862`\n",
    "\n",
    "`27  0.793103448275862`\n",
    "\n",
    "`28  0.793103448275862`\n",
    "\n",
    "`29  0.696969696969697`\n",
    "\n",
    "`30  0.73015873015873`\n",
    "\n",
    "`31  0.793103448275862`\n",
    "\n",
    "`32  0.754098360655738`\n",
    "\n",
    "`35  0.741935483870968`\n",
    "\n",
    "`38  0.721311475409836`\n",
    "\n",
    "`39  0.754098360655738`\n",
    "\n",
    "`40  0.676470588235294`\n",
    "\n",
    "`43  0.741935483870968`\n",
    "\n",
    "`46  0.733333333333333`\n",
    "\n",
    "`53  0.754098360655738`\n",
    "\n",
    "`54  0.741935483870968`\n",
    "\n",
    "`62  0.741935483870968`\n",
    "\n",
    "`63  0.779661016949153`\n",
    "\n",
    "`71  0.733333333333333`"
   ]
  },
  {
   "cell_type": "code",
   "execution_count": null,
   "metadata": {},
   "outputs": [],
   "source": []
  }
 ],
 "metadata": {
  "kernelspec": {
   "display_name": "Python 3",
   "language": "python",
   "name": "python3"
  },
  "language_info": {
   "codemirror_mode": {
    "name": "ipython",
    "version": 3
   },
   "file_extension": ".py",
   "mimetype": "text/x-python",
   "name": "python",
   "nbconvert_exporter": "python",
   "pygments_lexer": "ipython3",
   "version": "3.7.1"
  }
 },
 "nbformat": 4,
 "nbformat_minor": 2
}
