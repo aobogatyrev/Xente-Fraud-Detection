{
 "cells": [
  {
   "cell_type": "markdown",
   "metadata": {},
   "source": [
    "# LightGMB"
   ]
  },
  {
   "cell_type": "code",
   "execution_count": 1,
   "metadata": {},
   "outputs": [],
   "source": [
    "import numpy  as np\n",
    "import pandas as pd\n",
    "\n",
    "import lightgbm\n",
    "\n",
    "from collections import Counter\n",
    "from sklearn.metrics import f1_score\n",
    "from sklearn.model_selection import train_test_split"
   ]
  },
  {
   "cell_type": "code",
   "execution_count": 2,
   "metadata": {},
   "outputs": [],
   "source": [
    "df_trn = pd.read_csv('../data/training_pe.csv')\n",
    "df_tst = pd.read_csv('../data/test_pe.csv')\n",
    "df_sbm = pd.read_csv('../data/sample_submission.csv')"
   ]
  },
  {
   "cell_type": "code",
   "execution_count": 3,
   "metadata": {},
   "outputs": [
    {
     "data": {
      "text/html": [
       "<div>\n",
       "<style scoped>\n",
       "    .dataframe tbody tr th:only-of-type {\n",
       "        vertical-align: middle;\n",
       "    }\n",
       "\n",
       "    .dataframe tbody tr th {\n",
       "        vertical-align: top;\n",
       "    }\n",
       "\n",
       "    .dataframe thead th {\n",
       "        text-align: right;\n",
       "    }\n",
       "</style>\n",
       "<table border=\"1\" class=\"dataframe\">\n",
       "  <thead>\n",
       "    <tr style=\"text-align: right;\">\n",
       "      <th></th>\n",
       "      <th>BatchId</th>\n",
       "      <th>AccountId</th>\n",
       "      <th>SubscriptionId</th>\n",
       "      <th>CustomerId</th>\n",
       "      <th>ProviderId</th>\n",
       "      <th>ProductId</th>\n",
       "      <th>ProductCategory</th>\n",
       "      <th>ChannelId</th>\n",
       "      <th>Amount</th>\n",
       "      <th>Value</th>\n",
       "      <th>TransactionStartTime</th>\n",
       "      <th>PricingStrategy</th>\n",
       "      <th>FraudResult</th>\n",
       "    </tr>\n",
       "  </thead>\n",
       "  <tbody>\n",
       "    <tr>\n",
       "      <th>0</th>\n",
       "      <td>36122</td>\n",
       "      <td>0.000000</td>\n",
       "      <td>0.000000</td>\n",
       "      <td>0.0</td>\n",
       "      <td>0.000088</td>\n",
       "      <td>0.000390</td>\n",
       "      <td>0.000400</td>\n",
       "      <td>0.003232</td>\n",
       "      <td>1000.0</td>\n",
       "      <td>1000</td>\n",
       "      <td>2018-11-15 02:18:49</td>\n",
       "      <td>0.001741</td>\n",
       "      <td>0</td>\n",
       "    </tr>\n",
       "    <tr>\n",
       "      <th>1</th>\n",
       "      <td>15641</td>\n",
       "      <td>0.000032</td>\n",
       "      <td>0.000031</td>\n",
       "      <td>0.0</td>\n",
       "      <td>0.000131</td>\n",
       "      <td>0.000031</td>\n",
       "      <td>0.003546</td>\n",
       "      <td>0.000135</td>\n",
       "      <td>-20.0</td>\n",
       "      <td>20</td>\n",
       "      <td>2018-11-15 02:19:08</td>\n",
       "      <td>0.001741</td>\n",
       "      <td>0</td>\n",
       "    </tr>\n",
       "    <tr>\n",
       "      <th>2</th>\n",
       "      <td>53940</td>\n",
       "      <td>0.000000</td>\n",
       "      <td>0.000000</td>\n",
       "      <td>0.0</td>\n",
       "      <td>0.000088</td>\n",
       "      <td>0.000000</td>\n",
       "      <td>0.000400</td>\n",
       "      <td>0.003232</td>\n",
       "      <td>500.0</td>\n",
       "      <td>500</td>\n",
       "      <td>2018-11-15 02:44:21</td>\n",
       "      <td>0.001741</td>\n",
       "      <td>0</td>\n",
       "    </tr>\n",
       "    <tr>\n",
       "      <th>3</th>\n",
       "      <td>102362</td>\n",
       "      <td>0.000000</td>\n",
       "      <td>0.000000</td>\n",
       "      <td>0.0</td>\n",
       "      <td>0.010101</td>\n",
       "      <td>0.002646</td>\n",
       "      <td>0.006250</td>\n",
       "      <td>0.003232</td>\n",
       "      <td>20000.0</td>\n",
       "      <td>21800</td>\n",
       "      <td>2018-11-15 03:32:55</td>\n",
       "      <td>0.001741</td>\n",
       "      <td>0</td>\n",
       "    </tr>\n",
       "    <tr>\n",
       "      <th>4</th>\n",
       "      <td>38779</td>\n",
       "      <td>0.000032</td>\n",
       "      <td>0.000031</td>\n",
       "      <td>0.0</td>\n",
       "      <td>0.000131</td>\n",
       "      <td>0.000031</td>\n",
       "      <td>0.003546</td>\n",
       "      <td>0.000135</td>\n",
       "      <td>-644.0</td>\n",
       "      <td>644</td>\n",
       "      <td>2018-11-15 03:34:21</td>\n",
       "      <td>0.001741</td>\n",
       "      <td>0</td>\n",
       "    </tr>\n",
       "  </tbody>\n",
       "</table>\n",
       "</div>"
      ],
      "text/plain": [
       "   BatchId  AccountId  SubscriptionId  CustomerId  ProviderId  ProductId  \\\n",
       "0    36122   0.000000        0.000000         0.0    0.000088   0.000390   \n",
       "1    15641   0.000032        0.000031         0.0    0.000131   0.000031   \n",
       "2    53940   0.000000        0.000000         0.0    0.000088   0.000000   \n",
       "3   102362   0.000000        0.000000         0.0    0.010101   0.002646   \n",
       "4    38779   0.000032        0.000031         0.0    0.000131   0.000031   \n",
       "\n",
       "   ProductCategory  ChannelId   Amount  Value TransactionStartTime  \\\n",
       "0         0.000400   0.003232   1000.0   1000  2018-11-15 02:18:49   \n",
       "1         0.003546   0.000135    -20.0     20  2018-11-15 02:19:08   \n",
       "2         0.000400   0.003232    500.0    500  2018-11-15 02:44:21   \n",
       "3         0.006250   0.003232  20000.0  21800  2018-11-15 03:32:55   \n",
       "4         0.003546   0.000135   -644.0    644  2018-11-15 03:34:21   \n",
       "\n",
       "   PricingStrategy  FraudResult  \n",
       "0         0.001741            0  \n",
       "1         0.001741            0  \n",
       "2         0.001741            0  \n",
       "3         0.001741            0  \n",
       "4         0.001741            0  "
      ]
     },
     "execution_count": 3,
     "metadata": {},
     "output_type": "execute_result"
    }
   ],
   "source": [
    "df_trn.head()"
   ]
  },
  {
   "cell_type": "code",
   "execution_count": 4,
   "metadata": {},
   "outputs": [],
   "source": [
    "columns4drop = [\n",
    "#     'TransactionId',\n",
    "    'BatchId',\n",
    "    'AccountId',\n",
    "    'SubscriptionId',\n",
    "    'CustomerId',\n",
    "#     'CurrencyCode',\n",
    "#     'CountryCode',\n",
    "#     'ProviderId',\n",
    "#     'ProductId',\n",
    "    'ProductCategory',\n",
    "    'ChannelId',\n",
    "#     'Amount', \n",
    "#     'Value',\n",
    "    'TransactionStartTime',\n",
    "#     'PricingStrategy'\n",
    "]"
   ]
  },
  {
   "cell_type": "code",
   "execution_count": 5,
   "metadata": {},
   "outputs": [],
   "source": [
    "df_trn_cut = df_trn.drop(columns=columns4drop, axis=1)\n",
    "df_tst_cut = df_tst.drop(columns=columns4drop, axis=1)"
   ]
  },
  {
   "cell_type": "code",
   "execution_count": 6,
   "metadata": {},
   "outputs": [
    {
     "data": {
      "text/html": [
       "<div>\n",
       "<style scoped>\n",
       "    .dataframe tbody tr th:only-of-type {\n",
       "        vertical-align: middle;\n",
       "    }\n",
       "\n",
       "    .dataframe tbody tr th {\n",
       "        vertical-align: top;\n",
       "    }\n",
       "\n",
       "    .dataframe thead th {\n",
       "        text-align: right;\n",
       "    }\n",
       "</style>\n",
       "<table border=\"1\" class=\"dataframe\">\n",
       "  <thead>\n",
       "    <tr style=\"text-align: right;\">\n",
       "      <th></th>\n",
       "      <th>ProviderId</th>\n",
       "      <th>ProductId</th>\n",
       "      <th>Amount</th>\n",
       "      <th>Value</th>\n",
       "      <th>PricingStrategy</th>\n",
       "      <th>FraudResult</th>\n",
       "    </tr>\n",
       "  </thead>\n",
       "  <tbody>\n",
       "    <tr>\n",
       "      <th>0</th>\n",
       "      <td>0.000088</td>\n",
       "      <td>0.000390</td>\n",
       "      <td>1000.0</td>\n",
       "      <td>1000</td>\n",
       "      <td>0.001741</td>\n",
       "      <td>0</td>\n",
       "    </tr>\n",
       "    <tr>\n",
       "      <th>1</th>\n",
       "      <td>0.000131</td>\n",
       "      <td>0.000031</td>\n",
       "      <td>-20.0</td>\n",
       "      <td>20</td>\n",
       "      <td>0.001741</td>\n",
       "      <td>0</td>\n",
       "    </tr>\n",
       "    <tr>\n",
       "      <th>2</th>\n",
       "      <td>0.000088</td>\n",
       "      <td>0.000000</td>\n",
       "      <td>500.0</td>\n",
       "      <td>500</td>\n",
       "      <td>0.001741</td>\n",
       "      <td>0</td>\n",
       "    </tr>\n",
       "    <tr>\n",
       "      <th>3</th>\n",
       "      <td>0.010101</td>\n",
       "      <td>0.002646</td>\n",
       "      <td>20000.0</td>\n",
       "      <td>21800</td>\n",
       "      <td>0.001741</td>\n",
       "      <td>0</td>\n",
       "    </tr>\n",
       "    <tr>\n",
       "      <th>4</th>\n",
       "      <td>0.000131</td>\n",
       "      <td>0.000031</td>\n",
       "      <td>-644.0</td>\n",
       "      <td>644</td>\n",
       "      <td>0.001741</td>\n",
       "      <td>0</td>\n",
       "    </tr>\n",
       "  </tbody>\n",
       "</table>\n",
       "</div>"
      ],
      "text/plain": [
       "   ProviderId  ProductId   Amount  Value  PricingStrategy  FraudResult\n",
       "0    0.000088   0.000390   1000.0   1000         0.001741            0\n",
       "1    0.000131   0.000031    -20.0     20         0.001741            0\n",
       "2    0.000088   0.000000    500.0    500         0.001741            0\n",
       "3    0.010101   0.002646  20000.0  21800         0.001741            0\n",
       "4    0.000131   0.000031   -644.0    644         0.001741            0"
      ]
     },
     "execution_count": 6,
     "metadata": {},
     "output_type": "execute_result"
    }
   ],
   "source": [
    "df_trn_cut.head()"
   ]
  },
  {
   "cell_type": "code",
   "execution_count": 7,
   "metadata": {},
   "outputs": [],
   "source": [
    "columns4scaling = [\n",
    "    'ProviderId',\n",
    "    'ProductId',\n",
    "#     'ProductCategory',\n",
    "#     'ChannelId',\n",
    "    'PricingStrategy'\n",
    "]"
   ]
  },
  {
   "cell_type": "code",
   "execution_count": 8,
   "metadata": {},
   "outputs": [
    {
     "name": "stdout",
     "output_type": "stream",
     "text": [
      "Train outliers fraction: 0.002\n"
     ]
    }
   ],
   "source": [
    "num_transactions = df_trn.shape[0]\n",
    "num_otliers = df_trn['FraudResult'].value_counts()[1]\n",
    "num_inliers = df_trn['FraudResult'].value_counts()[0]\n",
    "outliers_fraction = num_otliers / num_transactions\n",
    "print('Train outliers fraction:', round(outliers_fraction, 3))"
   ]
  },
  {
   "cell_type": "code",
   "execution_count": 10,
   "metadata": {},
   "outputs": [],
   "source": [
    "# coef = n_frauds / (n_frauds + n_nofrauds) \n",
    "for clm in columns4scaling:\n",
    "    df_trn_cut[clm] -= outliers_fraction"
   ]
  },
  {
   "cell_type": "code",
   "execution_count": 11,
   "metadata": {},
   "outputs": [],
   "source": [
    "# get the labels\n",
    "X_trn_cut = df_trn_cut.drop(columns=['FraudResult'], axis=1)\n",
    "y_trn_cut = df_trn_cut['FraudResult']"
   ]
  },
  {
   "cell_type": "code",
   "execution_count": 12,
   "metadata": {},
   "outputs": [
    {
     "data": {
      "text/html": [
       "<div>\n",
       "<style scoped>\n",
       "    .dataframe tbody tr th:only-of-type {\n",
       "        vertical-align: middle;\n",
       "    }\n",
       "\n",
       "    .dataframe tbody tr th {\n",
       "        vertical-align: top;\n",
       "    }\n",
       "\n",
       "    .dataframe thead th {\n",
       "        text-align: right;\n",
       "    }\n",
       "</style>\n",
       "<table border=\"1\" class=\"dataframe\">\n",
       "  <thead>\n",
       "    <tr style=\"text-align: right;\">\n",
       "      <th></th>\n",
       "      <th>ProviderId</th>\n",
       "      <th>ProductId</th>\n",
       "      <th>Amount</th>\n",
       "      <th>Value</th>\n",
       "      <th>PricingStrategy</th>\n",
       "    </tr>\n",
       "  </thead>\n",
       "  <tbody>\n",
       "    <tr>\n",
       "      <th>0</th>\n",
       "      <td>-0.001930</td>\n",
       "      <td>-0.001628</td>\n",
       "      <td>1000.0</td>\n",
       "      <td>1000</td>\n",
       "      <td>-0.000277</td>\n",
       "    </tr>\n",
       "    <tr>\n",
       "      <th>1</th>\n",
       "      <td>-0.001887</td>\n",
       "      <td>-0.001987</td>\n",
       "      <td>-20.0</td>\n",
       "      <td>20</td>\n",
       "      <td>-0.000277</td>\n",
       "    </tr>\n",
       "    <tr>\n",
       "      <th>2</th>\n",
       "      <td>-0.001930</td>\n",
       "      <td>-0.002018</td>\n",
       "      <td>500.0</td>\n",
       "      <td>500</td>\n",
       "      <td>-0.000277</td>\n",
       "    </tr>\n",
       "    <tr>\n",
       "      <th>3</th>\n",
       "      <td>0.008083</td>\n",
       "      <td>0.000628</td>\n",
       "      <td>20000.0</td>\n",
       "      <td>21800</td>\n",
       "      <td>-0.000277</td>\n",
       "    </tr>\n",
       "    <tr>\n",
       "      <th>4</th>\n",
       "      <td>-0.001887</td>\n",
       "      <td>-0.001987</td>\n",
       "      <td>-644.0</td>\n",
       "      <td>644</td>\n",
       "      <td>-0.000277</td>\n",
       "    </tr>\n",
       "  </tbody>\n",
       "</table>\n",
       "</div>"
      ],
      "text/plain": [
       "   ProviderId  ProductId   Amount  Value  PricingStrategy\n",
       "0   -0.001930  -0.001628   1000.0   1000        -0.000277\n",
       "1   -0.001887  -0.001987    -20.0     20        -0.000277\n",
       "2   -0.001930  -0.002018    500.0    500        -0.000277\n",
       "3    0.008083   0.000628  20000.0  21800        -0.000277\n",
       "4   -0.001887  -0.001987   -644.0    644        -0.000277"
      ]
     },
     "execution_count": 12,
     "metadata": {},
     "output_type": "execute_result"
    }
   ],
   "source": [
    "X_trn_cut.head()"
   ]
  },
  {
   "cell_type": "code",
   "execution_count": 13,
   "metadata": {},
   "outputs": [],
   "source": [
    "x = X_trn_cut.values\n",
    "y = y_trn_cut.values"
   ]
  },
  {
   "cell_type": "code",
   "execution_count": 14,
   "metadata": {},
   "outputs": [],
   "source": [
    "# Create training and validation sets\n",
    "x, x_test, y, y_test = train_test_split(x, y, test_size=0.2, random_state=42, stratify=y)"
   ]
  },
  {
   "cell_type": "code",
   "execution_count": 15,
   "metadata": {},
   "outputs": [],
   "source": [
    "# train_data = lightgbm.Dataset(x, label=y, categorical_feature=[0, 1, 2, 3, 4, 7])\n",
    "train_data = lightgbm.Dataset(x, label=y)\n",
    "test_data  = lightgbm.Dataset(x_test, label=y_test)"
   ]
  },
  {
   "cell_type": "markdown",
   "metadata": {},
   "source": [
    "### Train the model"
   ]
  },
  {
   "cell_type": "code",
   "execution_count": 16,
   "metadata": {},
   "outputs": [],
   "source": [
    "parameters = {\n",
    "    'application' : 'binary',\n",
    "    'objective'   : 'binary',\n",
    "    'metric'      : 'auc',\n",
    "#     'is_unbalance': 'true',\n",
    "    'boosting'    : 'rf',\n",
    "    'num_leaves'  : 31,\n",
    "    'n_estimators': 100,\n",
    "    'feature_fraction': 0.5,\n",
    "    'bagging_fraction': 0.5,\n",
    "    'bagging_freq'    : 20,\n",
    "#     'learning_rate': 0.05,\n",
    "#     'verbose': 0,\n",
    "    'n_jobs': -1\n",
    "}"
   ]
  },
  {
   "cell_type": "code",
   "execution_count": 17,
   "metadata": {},
   "outputs": [
    {
     "name": "stderr",
     "output_type": "stream",
     "text": [
      "/home/abogatyrov/anaconda3/lib/python3.7/site-packages/lightgbm/engine.py:118: UserWarning: Found `n_estimators` in params. Will use it instead of argument\n",
      "  warnings.warn(\"Found `{}` in params. Will use it instead of argument\".format(alias))\n"
     ]
    },
    {
     "name": "stdout",
     "output_type": "stream",
     "text": [
      "[1]\tvalid_0's auc: 0.986507\n",
      "Training until validation scores don't improve for 100 rounds.\n",
      "[2]\tvalid_0's auc: 0.986567\n",
      "[3]\tvalid_0's auc: 0.986401\n",
      "[4]\tvalid_0's auc: 0.986327\n",
      "[5]\tvalid_0's auc: 0.997284\n",
      "[6]\tvalid_0's auc: 0.997273\n",
      "[7]\tvalid_0's auc: 0.998608\n",
      "[8]\tvalid_0's auc: 0.998666\n",
      "[9]\tvalid_0's auc: 0.998592\n",
      "[10]\tvalid_0's auc: 0.998545\n",
      "[11]\tvalid_0's auc: 0.998545\n",
      "[12]\tvalid_0's auc: 0.998515\n",
      "[13]\tvalid_0's auc: 0.998515\n",
      "[14]\tvalid_0's auc: 0.998515\n",
      "[15]\tvalid_0's auc: 0.998519\n",
      "[16]\tvalid_0's auc: 0.99851\n",
      "[17]\tvalid_0's auc: 0.99851\n",
      "[18]\tvalid_0's auc: 0.998503\n",
      "[19]\tvalid_0's auc: 0.998499\n",
      "[20]\tvalid_0's auc: 0.998491\n",
      "[21]\tvalid_0's auc: 0.998443\n",
      "[22]\tvalid_0's auc: 0.998547\n",
      "[23]\tvalid_0's auc: 0.998573\n",
      "[24]\tvalid_0's auc: 0.998606\n",
      "[25]\tvalid_0's auc: 0.998624\n",
      "[26]\tvalid_0's auc: 0.998621\n",
      "[27]\tvalid_0's auc: 0.998519\n",
      "[28]\tvalid_0's auc: 0.998468\n",
      "[29]\tvalid_0's auc: 0.998462\n",
      "[30]\tvalid_0's auc: 0.998444\n",
      "[31]\tvalid_0's auc: 0.998479\n",
      "[32]\tvalid_0's auc: 0.998443\n",
      "[33]\tvalid_0's auc: 0.998401\n",
      "[34]\tvalid_0's auc: 0.9984\n",
      "[35]\tvalid_0's auc: 0.998435\n",
      "[36]\tvalid_0's auc: 0.998435\n",
      "[37]\tvalid_0's auc: 0.998446\n",
      "[38]\tvalid_0's auc: 0.998446\n",
      "[39]\tvalid_0's auc: 0.998442\n",
      "[40]\tvalid_0's auc: 0.998442\n",
      "[41]\tvalid_0's auc: 0.998562\n",
      "[42]\tvalid_0's auc: 0.998653\n",
      "[43]\tvalid_0's auc: 0.998688\n",
      "[44]\tvalid_0's auc: 0.998662\n",
      "[45]\tvalid_0's auc: 0.998709\n",
      "[46]\tvalid_0's auc: 0.998787\n",
      "[47]\tvalid_0's auc: 0.998795\n",
      "[48]\tvalid_0's auc: 0.999073\n",
      "[49]\tvalid_0's auc: 0.999079\n",
      "[50]\tvalid_0's auc: 0.999146\n",
      "[51]\tvalid_0's auc: 0.999158\n",
      "[52]\tvalid_0's auc: 0.999153\n",
      "[53]\tvalid_0's auc: 0.999127\n",
      "[54]\tvalid_0's auc: 0.999131\n",
      "[55]\tvalid_0's auc: 0.999135\n",
      "[56]\tvalid_0's auc: 0.999141\n",
      "[57]\tvalid_0's auc: 0.999128\n",
      "[58]\tvalid_0's auc: 0.999107\n",
      "[59]\tvalid_0's auc: 0.999107\n",
      "[60]\tvalid_0's auc: 0.999116\n",
      "[61]\tvalid_0's auc: 0.999155\n",
      "[62]\tvalid_0's auc: 0.999139\n",
      "[63]\tvalid_0's auc: 0.999155\n",
      "[64]\tvalid_0's auc: 0.999171\n",
      "[65]\tvalid_0's auc: 0.99917\n",
      "[66]\tvalid_0's auc: 0.999171\n",
      "[67]\tvalid_0's auc: 0.999138\n",
      "[68]\tvalid_0's auc: 0.999132\n",
      "[69]\tvalid_0's auc: 0.99915\n",
      "[70]\tvalid_0's auc: 0.999153\n",
      "[71]\tvalid_0's auc: 0.999155\n",
      "[72]\tvalid_0's auc: 0.999153\n",
      "[73]\tvalid_0's auc: 0.999162\n",
      "[74]\tvalid_0's auc: 0.999158\n",
      "[75]\tvalid_0's auc: 0.999162\n",
      "[76]\tvalid_0's auc: 0.999162\n",
      "[77]\tvalid_0's auc: 0.999162\n",
      "[78]\tvalid_0's auc: 0.999162\n",
      "[79]\tvalid_0's auc: 0.999162\n",
      "[80]\tvalid_0's auc: 0.999162\n",
      "[81]\tvalid_0's auc: 0.999162\n",
      "[82]\tvalid_0's auc: 0.999123\n",
      "[83]\tvalid_0's auc: 0.999161\n",
      "[84]\tvalid_0's auc: 0.999161\n",
      "[85]\tvalid_0's auc: 0.999158\n",
      "[86]\tvalid_0's auc: 0.999151\n",
      "[87]\tvalid_0's auc: 0.999151\n",
      "[88]\tvalid_0's auc: 0.999151\n",
      "[89]\tvalid_0's auc: 0.999145\n",
      "[90]\tvalid_0's auc: 0.999124\n",
      "[91]\tvalid_0's auc: 0.999124\n",
      "[92]\tvalid_0's auc: 0.999124\n",
      "[93]\tvalid_0's auc: 0.999087\n",
      "[94]\tvalid_0's auc: 0.999087\n",
      "[95]\tvalid_0's auc: 0.999087\n",
      "[96]\tvalid_0's auc: 0.999087\n",
      "[97]\tvalid_0's auc: 0.999088\n",
      "[98]\tvalid_0's auc: 0.99911\n",
      "[99]\tvalid_0's auc: 0.999114\n",
      "[100]\tvalid_0's auc: 0.999114\n",
      "Did not meet early stopping. Best iteration is:\n",
      "[64]\tvalid_0's auc: 0.999171\n"
     ]
    }
   ],
   "source": [
    "model = lightgbm.train(parameters,\n",
    "                       train_data,\n",
    "                       valid_sets=test_data,\n",
    "                       num_boost_round=5000,\n",
    "                       early_stopping_rounds=100)"
   ]
  },
  {
   "cell_type": "code",
   "execution_count": 18,
   "metadata": {},
   "outputs": [],
   "source": [
    "y_test_pred = model.predict(x_test)\n",
    "y_test_pred = [ 1 if i > 0.99999 else 0 for i in y_test_pred ]"
   ]
  },
  {
   "cell_type": "code",
   "execution_count": 19,
   "metadata": {},
   "outputs": [
    {
     "data": {
      "text/plain": [
       "Counter({0: 19047, 1: 86})"
      ]
     },
     "execution_count": 19,
     "metadata": {},
     "output_type": "execute_result"
    }
   ],
   "source": [
    "Counter(y_test_pred)"
   ]
  },
  {
   "cell_type": "code",
   "execution_count": 20,
   "metadata": {},
   "outputs": [
    {
     "data": {
      "text/plain": [
       "0.576"
      ]
     },
     "execution_count": 20,
     "metadata": {},
     "output_type": "execute_result"
    }
   ],
   "source": [
    "f1_score(y_test_pred, y_test) "
   ]
  },
  {
   "cell_type": "markdown",
   "metadata": {},
   "source": [
    "### Create a submission"
   ]
  },
  {
   "cell_type": "code",
   "execution_count": null,
   "metadata": {},
   "outputs": [],
   "source": [
    "df_tst_cut.head()"
   ]
  },
  {
   "cell_type": "code",
   "execution_count": null,
   "metadata": {},
   "outputs": [],
   "source": [
    "x_tst = df_tst_cut.values\n",
    "x_tst[:5]"
   ]
  },
  {
   "cell_type": "code",
   "execution_count": null,
   "metadata": {},
   "outputs": [],
   "source": [
    "y_pred = model.predict(x_tst)\n",
    "Counter(y_pred)"
   ]
  },
  {
   "cell_type": "code",
   "execution_count": null,
   "metadata": {},
   "outputs": [],
   "source": [
    "y_pred = [ 1 if i > 0.99999 else 0 for i in y_pred ]\n",
    "Counter(y_pred)\n",
    "# y_pred"
   ]
  },
  {
   "cell_type": "code",
   "execution_count": null,
   "metadata": {},
   "outputs": [],
   "source": [
    "y_pred"
   ]
  },
  {
   "cell_type": "code",
   "execution_count": null,
   "metadata": {},
   "outputs": [],
   "source": [
    "df_sbm['FraudResult'] = y_pred\n",
    "df_sbm.to_csv('../submitted/AlBo0723_LGBM_pe.csv', encoding='utf-8', index=False)"
   ]
  },
  {
   "cell_type": "code",
   "execution_count": null,
   "metadata": {},
   "outputs": [],
   "source": []
  }
 ],
 "metadata": {
  "kernelspec": {
   "display_name": "Python 3",
   "language": "python",
   "name": "python3"
  },
  "language_info": {
   "codemirror_mode": {
    "name": "ipython",
    "version": 3
   },
   "file_extension": ".py",
   "mimetype": "text/x-python",
   "name": "python",
   "nbconvert_exporter": "python",
   "pygments_lexer": "ipython3",
   "version": "3.7.1"
  }
 },
 "nbformat": 4,
 "nbformat_minor": 2
}
