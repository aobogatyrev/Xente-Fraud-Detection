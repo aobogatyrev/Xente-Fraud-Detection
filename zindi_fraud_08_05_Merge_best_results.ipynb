{
 "cells": [
  {
   "cell_type": "markdown",
   "metadata": {},
   "source": [
    "# Merge best results"
   ]
  },
  {
   "cell_type": "code",
   "execution_count": 1,
   "metadata": {},
   "outputs": [],
   "source": [
    "import numpy  as np\n",
    "import pandas as pd"
   ]
  },
  {
   "cell_type": "markdown",
   "metadata": {},
   "source": [
    "### Score = `0.827586206896552`"
   ]
  },
  {
   "cell_type": "code",
   "execution_count": 2,
   "metadata": {},
   "outputs": [],
   "source": [
    "df_18 = pd.read_csv('../submitted/AlBo0726_top18chi2_BaggingClassifier.csv')"
   ]
  },
  {
   "cell_type": "code",
   "execution_count": 3,
   "metadata": {},
   "outputs": [],
   "source": [
    "set_18 = set(df_18['TransactionId'][df_18['FraudResult']==1])"
   ]
  },
  {
   "cell_type": "code",
   "execution_count": 4,
   "metadata": {},
   "outputs": [
    {
     "name": "stdout",
     "output_type": "stream",
     "text": [
      "72\n"
     ]
    }
   ],
   "source": [
    "print(len(set_18))"
   ]
  },
  {
   "cell_type": "markdown",
   "metadata": {},
   "source": [
    "### Score = `0.813559322033898`"
   ]
  },
  {
   "cell_type": "code",
   "execution_count": 5,
   "metadata": {},
   "outputs": [],
   "source": [
    "df_13 = pd.read_csv('../submitted/AlBo0726_top13chi2_BaggingClassifier.csv')\n",
    "df_20 = pd.read_csv('../submitted/AlBo0724_top20chi2_BaggingClassifier.csv')"
   ]
  },
  {
   "cell_type": "code",
   "execution_count": 6,
   "metadata": {},
   "outputs": [
    {
     "name": "stdout",
     "output_type": "stream",
     "text": [
      "75 73 73\n"
     ]
    }
   ],
   "source": [
    "set_13 = set(df_13['TransactionId'][df_13['FraudResult']==1])\n",
    "set_20 = set(df_20['TransactionId'][df_20['FraudResult']==1])\n",
    "\n",
    "set_union_0_81 = set_13 & set_20\n",
    "\n",
    "print(len(set_13), len(set_20), len(set_union_0_81))"
   ]
  },
  {
   "cell_type": "code",
   "execution_count": 7,
   "metadata": {},
   "outputs": [
    {
     "name": "stdout",
     "output_type": "stream",
     "text": [
      "{'TransactionId_62470', 'TransactionId_37370'}\n",
      "set()\n"
     ]
    }
   ],
   "source": [
    "print(set_13 - set_union_0_81)\n",
    "print(set_20 - set_union_0_81)"
   ]
  },
  {
   "cell_type": "code",
   "execution_count": 8,
   "metadata": {},
   "outputs": [
    {
     "name": "stdout",
     "output_type": "stream",
     "text": [
      "{'TransactionId_37370', 'TransactionId_62470'}\n",
      "set()\n"
     ]
    }
   ],
   "source": [
    "print(set_13 ^ set_union_0_81)\n",
    "print(set_20 ^ set_union_0_81)"
   ]
  },
  {
   "cell_type": "markdown",
   "metadata": {},
   "source": [
    "### Cheating"
   ]
  },
  {
   "cell_type": "code",
   "execution_count": 9,
   "metadata": {},
   "outputs": [
    {
     "name": "stdout",
     "output_type": "stream",
     "text": [
      "{'TransactionId_47953'}\n"
     ]
    }
   ],
   "source": [
    "print(set_18 ^ set_union_0_81)"
   ]
  },
  {
   "cell_type": "code",
   "execution_count": 22,
   "metadata": {},
   "outputs": [
    {
     "name": "stdout",
     "output_type": "stream",
     "text": [
      "False False\n"
     ]
    }
   ],
   "source": [
    "print('TransactionId_37370' in set_18, 'TransactionId_62470' in set_18)"
   ]
  },
  {
   "cell_type": "code",
   "execution_count": 37,
   "metadata": {},
   "outputs": [
    {
     "data": {
      "text/plain": [
       "21963    1\n",
       "Name: FraudResult, dtype: int64"
      ]
     },
     "execution_count": 37,
     "metadata": {},
     "output_type": "execute_result"
    }
   ],
   "source": [
    "df_18['FraudResult'][df_18['TransactionId'] == 'TransactionId_37370']"
   ]
  },
  {
   "cell_type": "code",
   "execution_count": 36,
   "metadata": {},
   "outputs": [],
   "source": [
    "df_18.at[df_18['TransactionId'] == 'TransactionId_37370', 'FraudResult'] = 1\n",
    "df_18['FraudResult'][df_18['TransactionId'] == 'TransactionId_37370']"
   ]
  },
  {
   "cell_type": "code",
   "execution_count": 38,
   "metadata": {},
   "outputs": [],
   "source": [
    "df_18.to_csv('../submitted/AlBo0806_top18chi2_BaggingClassifier_37370.csv', encoding='utf-8', index=False)"
   ]
  },
  {
   "cell_type": "code",
   "execution_count": 40,
   "metadata": {},
   "outputs": [
    {
     "name": "stdout",
     "output_type": "stream",
     "text": [
      "21954    0\n",
      "Name: FraudResult, dtype: int64\n",
      "21954    1\n",
      "Name: FraudResult, dtype: int64\n"
     ]
    }
   ],
   "source": [
    "print(df_18['FraudResult'][df_18['TransactionId'] == 'TransactionId_62470'])\n",
    "\n",
    "df_18.at[df_18['TransactionId'] == 'TransactionId_62470', 'FraudResult'] = 1\n",
    "print(df_18['FraudResult'][df_18['TransactionId'] == 'TransactionId_62470'])\n",
    "\n",
    "df_18.to_csv('../submitted/AlBo0806_top18chi2_BaggingClassifier_62470.csv', encoding='utf-8', index=False)"
   ]
  },
  {
   "cell_type": "markdown",
   "metadata": {},
   "source": [
    "### Score = `0.8`"
   ]
  },
  {
   "cell_type": "code",
   "execution_count": 10,
   "metadata": {},
   "outputs": [],
   "source": [
    "df_04 = pd.read_csv('../submitted/AlBo0726_top4chi2_BaggingClassifier.csv')\n",
    "df_06 = pd.read_csv('../submitted/AlBo0726_top6chi2_BaggingClassifier.csv')\n",
    "df_07 = pd.read_csv('../submitted/AlBo0726_top7chi2_BaggingClassifier.csv')\n",
    "df_08 = pd.read_csv('../submitted/AlBo0726_top8chi2_BaggingClassifier.csv')\n",
    "df_10 = pd.read_csv('../submitted/AlBo0726_top10chi2_BaggingClassifier.csv')"
   ]
  },
  {
   "cell_type": "code",
   "execution_count": 11,
   "metadata": {},
   "outputs": [],
   "source": [
    "set_04 = set(df_04['TransactionId'][df_04['FraudResult']==1])\n",
    "set_06 = set(df_06['TransactionId'][df_06['FraudResult']==1])\n",
    "set_07 = set(df_07['TransactionId'][df_07['FraudResult']==1])\n",
    "set_08 = set(df_08['TransactionId'][df_08['FraudResult']==1])\n",
    "set_10 = set(df_10['TransactionId'][df_10['FraudResult']==1])"
   ]
  },
  {
   "cell_type": "code",
   "execution_count": 12,
   "metadata": {},
   "outputs": [
    {
     "name": "stdout",
     "output_type": "stream",
     "text": [
      "75 76 75 74 74 72\n"
     ]
    }
   ],
   "source": [
    "set_union_0_80 = set_04 & set_06 & set_07 & set_08 & set_10\n",
    "print(len(set_04), len(set_06), len(set_07), len(set_08), len(set_10), len(set_union_0_80))"
   ]
  },
  {
   "cell_type": "code",
   "execution_count": 13,
   "metadata": {},
   "outputs": [
    {
     "name": "stdout",
     "output_type": "stream",
     "text": [
      "{'TransactionId_55945', 'TransactionId_45907', 'TransactionId_128869'}\n",
      "{'TransactionId_55945', 'TransactionId_88604', 'TransactionId_45907', 'TransactionId_47953'}\n",
      "{'TransactionId_55945', 'TransactionId_45907', 'TransactionId_47953'}\n",
      "{'TransactionId_45907', 'TransactionId_47953'}\n",
      "{'TransactionId_47953', 'TransactionId_76482'}\n"
     ]
    }
   ],
   "source": [
    "print(set_04 - set_union_0_80)\n",
    "print(set_06 - set_union_0_80)\n",
    "print(set_07 - set_union_0_80)\n",
    "print(set_08 - set_union_0_80)\n",
    "print(set_10 - set_union_0_80)"
   ]
  },
  {
   "cell_type": "code",
   "execution_count": 14,
   "metadata": {},
   "outputs": [
    {
     "name": "stdout",
     "output_type": "stream",
     "text": [
      "{'TransactionId_47953'}\n"
     ]
    }
   ],
   "source": [
    "print(set_union_0_81 - set_union_0_80)"
   ]
  },
  {
   "cell_type": "markdown",
   "metadata": {},
   "source": [
    "### Score = `0.793103448275862`"
   ]
  },
  {
   "cell_type": "code",
   "execution_count": 15,
   "metadata": {},
   "outputs": [],
   "source": [
    "df_25 = pd.read_csv('../submitted/AlBo0726_top25chi2_BaggingClassifier.csv')\n",
    "df_26 = pd.read_csv('../submitted/AlBo0726_top26chi2_BaggingClassifier.csv')\n",
    "df_27 = pd.read_csv('../submitted/AlBo0726_top27chi2_BaggingClassifier.csv')\n",
    "df_28 = pd.read_csv('../submitted/AlBo0726_top28chi2_BaggingClassifier.csv')\n",
    "df_31 = pd.read_csv('../submitted/AlBo0726_top31chi2_BaggingClassifier.csv')\n",
    "df_93 = pd.read_csv('../submitted/AlBo0726_top93chi2_BaggingClassifier.csv')"
   ]
  },
  {
   "cell_type": "code",
   "execution_count": 16,
   "metadata": {},
   "outputs": [],
   "source": [
    "set_25 = set(df_25['TransactionId'][df_25['FraudResult']==1])\n",
    "set_26 = set(df_26['TransactionId'][df_26['FraudResult']==1])\n",
    "set_27 = set(df_27['TransactionId'][df_27['FraudResult']==1])\n",
    "set_28 = set(df_28['TransactionId'][df_28['FraudResult']==1])\n",
    "set_31 = set(df_31['TransactionId'][df_31['FraudResult']==1])\n",
    "set_93 = set(df_93['TransactionId'][df_93['FraudResult']==1])"
   ]
  },
  {
   "cell_type": "code",
   "execution_count": 17,
   "metadata": {},
   "outputs": [
    {
     "name": "stdout",
     "output_type": "stream",
     "text": [
      "72 75 74 73 73 71\n"
     ]
    }
   ],
   "source": [
    "set_union_0_79 = set_25 & set_26 & set_27 & set_28 & set_31 & set_93\n",
    "print(len(set_25), len(set_26), len(set_27), len(set_28), len(set_31), len(set_union_0_79))"
   ]
  },
  {
   "cell_type": "code",
   "execution_count": 18,
   "metadata": {},
   "outputs": [
    {
     "name": "stdout",
     "output_type": "stream",
     "text": [
      "{'TransactionId_47953'}\n",
      "{'TransactionId_47953', 'TransactionId_88604', 'TransactionId_62470', 'TransactionId_37370'}\n",
      "{'TransactionId_47953', 'TransactionId_62470', 'TransactionId_37370'}\n",
      "{'TransactionId_88604', 'TransactionId_47953'}\n",
      "{'TransactionId_69678', 'TransactionId_47953'}\n",
      "{'TransactionId_23606', 'TransactionId_69678'}\n"
     ]
    }
   ],
   "source": [
    "print(set_25 - set_union_0_79)\n",
    "print(set_26 - set_union_0_79)\n",
    "print(set_27 - set_union_0_79)\n",
    "print(set_28 - set_union_0_79)\n",
    "print(set_31 - set_union_0_79)\n",
    "print(set_93 - set_union_0_79)"
   ]
  },
  {
   "cell_type": "code",
   "execution_count": null,
   "metadata": {},
   "outputs": [],
   "source": []
  }
 ],
 "metadata": {
  "kernelspec": {
   "display_name": "Python 3",
   "language": "python",
   "name": "python3"
  },
  "language_info": {
   "codemirror_mode": {
    "name": "ipython",
    "version": 3
   },
   "file_extension": ".py",
   "mimetype": "text/x-python",
   "name": "python",
   "nbconvert_exporter": "python",
   "pygments_lexer": "ipython3",
   "version": "3.7.1"
  }
 },
 "nbformat": 4,
 "nbformat_minor": 2
}
