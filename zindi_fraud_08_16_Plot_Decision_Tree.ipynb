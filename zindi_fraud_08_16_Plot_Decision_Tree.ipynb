{
 "cells": [
  {
   "cell_type": "markdown",
   "metadata": {},
   "source": [
    "# Plot Decision Tree\n",
    "\n",
    "- Original Data\n",
    "- Number Encoding\n",
    "- Label Encoding\n",
    "- One Hot Encoding\n",
    "- Probability Encoding\n",
    "- 5 'super features' from top20 $\\chi^2$\n",
    "- 18 first of the top20 $\\chi^2$"
   ]
  },
  {
   "cell_type": "code",
   "execution_count": 1,
   "metadata": {},
   "outputs": [],
   "source": [
    "import numpy  as np\n",
    "import pandas as pd"
   ]
  },
  {
   "cell_type": "code",
   "execution_count": 2,
   "metadata": {},
   "outputs": [],
   "source": [
    "from sklearn.tree import DecisionTreeClassifier, plot_tree\n",
    "import matplotlib.pyplot as plt"
   ]
  },
  {
   "cell_type": "code",
   "execution_count": 3,
   "metadata": {},
   "outputs": [],
   "source": [
    "def dtc_fit():\n",
    "    clf = DecisionTreeClassifier(\n",
    "        criterion='entropy', \n",
    "        splitter='best',\n",
    "        max_depth=None,\n",
    "        min_samples_split=2,\n",
    "        min_samples_leaf=1,\n",
    "        max_features=None\n",
    "    #     max_leaf_nodes=None  # Grow a tree with max_leaf_nodes in best-first fashion. Best nodes are defined as relative reduction in impurity. If None then unlimited number of leaf nodes.\n",
    "    ).fit(X_trn, y_trn)\n",
    "        \n",
    "    return clf"
   ]
  },
  {
   "cell_type": "code",
   "execution_count": 4,
   "metadata": {},
   "outputs": [],
   "source": [
    "def dtc_fit_and_plot():\n",
    "    plt.figure(figsize=(72,36))\n",
    "    clf = DecisionTreeClassifier(\n",
    "        criterion='entropy', \n",
    "        splitter='best',\n",
    "        max_depth=None,\n",
    "        min_samples_split=2,\n",
    "        min_samples_leaf=1,\n",
    "        max_features=None\n",
    "    #     max_leaf_nodes=None  # Grow a tree with max_leaf_nodes in best-first fashion. Best nodes are defined as relative reduction in impurity. If None then unlimited number of leaf nodes.\n",
    "    ).fit(X_trn, y_trn)\n",
    "    plot_tree(clf, filled=True)\n",
    "    plt.show()"
   ]
  },
  {
   "cell_type": "code",
   "execution_count": 5,
   "metadata": {},
   "outputs": [],
   "source": [
    "def feature_importances_print(clf):\n",
    "    # Calculate feature importances\n",
    "    importances = clf.feature_importances_\n",
    "    \n",
    "    # Sort feature importances in descending order\n",
    "    indices = np.argsort(importances)[::-1]\n",
    "\n",
    "    # Rearrange feature names so they match the sorted feature importances\n",
    "    names = [X_trn.columns[i] for i in indices]\n",
    "\n",
    "    # Print the feature ranking\n",
    "    print(\"Feature ranking:\")\n",
    "\n",
    "    for i in range(X_trn.shape[1]):\n",
    "        if importances[indices[i]] > 0.0:\n",
    "            print(\"%3d. %30s: %.10f\" % (i+1, names[i], importances[indices[i]]))"
   ]
  },
  {
   "cell_type": "code",
   "execution_count": 6,
   "metadata": {},
   "outputs": [],
   "source": [
    "def feature_importances_print_and_plot(clf):\n",
    "    # Calculate feature importances\n",
    "    importances = clf.feature_importances_\n",
    "    \n",
    "    # Sort feature importances in descending order\n",
    "    indices = np.argsort(importances)[::-1]\n",
    "\n",
    "    # Rearrange feature names so they match the sorted feature importances\n",
    "    names = [X_trn.columns[i] for i in indices]\n",
    "\n",
    "    # Print the feature ranking\n",
    "    print(\"Feature ranking:\")\n",
    "\n",
    "    for i in range(X_trn.shape[1]):\n",
    "        if importances[indices[i]] > 0.0:\n",
    "            print(\"%3d. %30s: %.10f\" % (i+1, names[i], importances[indices[i]]))\n",
    "            \n",
    "    # Create plot\n",
    "    plt.figure(figsize=(12,8))\n",
    "\n",
    "    # Create plot title\n",
    "    plt.title(\"Feature Importance\")\n",
    "\n",
    "    # Add bars\n",
    "    plt.bar(range(X_trn.shape[1]), importances[indices])\n",
    "\n",
    "    # Add feature names as x-axis labels\n",
    "    plt.xticks(range(X_trn.shape[1]), names, rotation=90)\n",
    "\n",
    "    # Show plot\n",
    "    plt.show()"
   ]
  },
  {
   "cell_type": "code",
   "execution_count": 7,
   "metadata": {},
   "outputs": [],
   "source": [
    "import graphviz\n",
    "from sklearn import tree"
   ]
  },
  {
   "cell_type": "code",
   "execution_count": 8,
   "metadata": {},
   "outputs": [],
   "source": [
    "def dtc_to_pdf(clf, f_name):\n",
    "    dot_data = tree.export_graphviz(\n",
    "        clf, \n",
    "        out_file=None,\n",
    "        feature_names=X_trn.columns,\n",
    "        filled=True,\n",
    "        rounded=True,\n",
    "        special_characters=True\n",
    "    )\n",
    "    graph = graphviz.Source(dot_data)\n",
    "    graph.render('../myNotebooks/DecisionTrees/' + f_name)"
   ]
  },
  {
   "cell_type": "code",
   "execution_count": 9,
   "metadata": {},
   "outputs": [],
   "source": [
    "import os\n",
    "from collections import Counter"
   ]
  },
  {
   "cell_type": "code",
   "execution_count": 10,
   "metadata": {},
   "outputs": [],
   "source": [
    "# определяем был ли ранее точно такой же результат\n",
    "def is_predict_exist(df):\n",
    "    current_subm_set = set(df[df['FraudResult'] == 1].index.tolist())\n",
    "\n",
    "    # просматриваем все файлы в папке submitted\n",
    "    is_exist = False\n",
    "    files = os.listdir('../submitted')\n",
    "    files.sort()\n",
    "    for f in files:\n",
    "        f_csv = pd.read_csv('../submitted/' + f)\n",
    "        if set(f_csv[f_csv['FraudResult'] == 1].index.tolist()) == current_subm_set:\n",
    "            print('It is the same as in: ' + f)\n",
    "            is_exist = True\n",
    "    return is_exist"
   ]
  },
  {
   "cell_type": "markdown",
   "metadata": {},
   "source": [
    "## Original Data"
   ]
  },
  {
   "cell_type": "code",
   "execution_count": 11,
   "metadata": {},
   "outputs": [],
   "source": [
    "df_trn = pd.read_csv('../data/training.csv')\n",
    "df_tst = pd.read_csv('../data/test.csv')\n",
    "df_sbm = pd.read_csv('../data/sample_submission.csv')"
   ]
  },
  {
   "cell_type": "code",
   "execution_count": 12,
   "metadata": {},
   "outputs": [],
   "source": [
    "X_trn = df_trn.drop(columns=['CurrencyCode', 'CountryCode', 'ProductCategory', 'TransactionStartTime', 'FraudResult'], axis=1)\n",
    "X_tst = df_tst.drop(columns=['CurrencyCode', 'CountryCode', 'ProductCategory', 'TransactionStartTime'               ], axis=1)\n",
    "\n",
    "y_trn = df_trn['FraudResult']"
   ]
  },
  {
   "cell_type": "code",
   "execution_count": 13,
   "metadata": {},
   "outputs": [
    {
     "data": {
      "text/html": [
       "<div>\n",
       "<style scoped>\n",
       "    .dataframe tbody tr th:only-of-type {\n",
       "        vertical-align: middle;\n",
       "    }\n",
       "\n",
       "    .dataframe tbody tr th {\n",
       "        vertical-align: top;\n",
       "    }\n",
       "\n",
       "    .dataframe thead th {\n",
       "        text-align: right;\n",
       "    }\n",
       "</style>\n",
       "<table border=\"1\" class=\"dataframe\">\n",
       "  <thead>\n",
       "    <tr style=\"text-align: right;\">\n",
       "      <th></th>\n",
       "      <th>TransactionId</th>\n",
       "      <th>BatchId</th>\n",
       "      <th>AccountId</th>\n",
       "      <th>SubscriptionId</th>\n",
       "      <th>CustomerId</th>\n",
       "      <th>ProviderId</th>\n",
       "      <th>ProductId</th>\n",
       "      <th>ChannelId</th>\n",
       "      <th>Amount</th>\n",
       "      <th>Value</th>\n",
       "      <th>PricingStrategy</th>\n",
       "    </tr>\n",
       "  </thead>\n",
       "  <tbody>\n",
       "    <tr>\n",
       "      <th>0</th>\n",
       "      <td>TransactionId_76871</td>\n",
       "      <td>BatchId_36123</td>\n",
       "      <td>AccountId_3957</td>\n",
       "      <td>SubscriptionId_887</td>\n",
       "      <td>CustomerId_4406</td>\n",
       "      <td>ProviderId_6</td>\n",
       "      <td>ProductId_10</td>\n",
       "      <td>ChannelId_3</td>\n",
       "      <td>1000.0</td>\n",
       "      <td>1000</td>\n",
       "      <td>2</td>\n",
       "    </tr>\n",
       "    <tr>\n",
       "      <th>1</th>\n",
       "      <td>TransactionId_73770</td>\n",
       "      <td>BatchId_15642</td>\n",
       "      <td>AccountId_4841</td>\n",
       "      <td>SubscriptionId_3829</td>\n",
       "      <td>CustomerId_4406</td>\n",
       "      <td>ProviderId_4</td>\n",
       "      <td>ProductId_6</td>\n",
       "      <td>ChannelId_2</td>\n",
       "      <td>-20.0</td>\n",
       "      <td>20</td>\n",
       "      <td>2</td>\n",
       "    </tr>\n",
       "    <tr>\n",
       "      <th>2</th>\n",
       "      <td>TransactionId_26203</td>\n",
       "      <td>BatchId_53941</td>\n",
       "      <td>AccountId_4229</td>\n",
       "      <td>SubscriptionId_222</td>\n",
       "      <td>CustomerId_4683</td>\n",
       "      <td>ProviderId_6</td>\n",
       "      <td>ProductId_1</td>\n",
       "      <td>ChannelId_3</td>\n",
       "      <td>500.0</td>\n",
       "      <td>500</td>\n",
       "      <td>2</td>\n",
       "    </tr>\n",
       "    <tr>\n",
       "      <th>3</th>\n",
       "      <td>TransactionId_380</td>\n",
       "      <td>BatchId_102363</td>\n",
       "      <td>AccountId_648</td>\n",
       "      <td>SubscriptionId_2185</td>\n",
       "      <td>CustomerId_988</td>\n",
       "      <td>ProviderId_1</td>\n",
       "      <td>ProductId_21</td>\n",
       "      <td>ChannelId_3</td>\n",
       "      <td>20000.0</td>\n",
       "      <td>21800</td>\n",
       "      <td>2</td>\n",
       "    </tr>\n",
       "    <tr>\n",
       "      <th>4</th>\n",
       "      <td>TransactionId_28195</td>\n",
       "      <td>BatchId_38780</td>\n",
       "      <td>AccountId_4841</td>\n",
       "      <td>SubscriptionId_3829</td>\n",
       "      <td>CustomerId_988</td>\n",
       "      <td>ProviderId_4</td>\n",
       "      <td>ProductId_6</td>\n",
       "      <td>ChannelId_2</td>\n",
       "      <td>-644.0</td>\n",
       "      <td>644</td>\n",
       "      <td>2</td>\n",
       "    </tr>\n",
       "  </tbody>\n",
       "</table>\n",
       "</div>"
      ],
      "text/plain": [
       "         TransactionId         BatchId       AccountId       SubscriptionId  \\\n",
       "0  TransactionId_76871   BatchId_36123  AccountId_3957   SubscriptionId_887   \n",
       "1  TransactionId_73770   BatchId_15642  AccountId_4841  SubscriptionId_3829   \n",
       "2  TransactionId_26203   BatchId_53941  AccountId_4229   SubscriptionId_222   \n",
       "3    TransactionId_380  BatchId_102363   AccountId_648  SubscriptionId_2185   \n",
       "4  TransactionId_28195   BatchId_38780  AccountId_4841  SubscriptionId_3829   \n",
       "\n",
       "        CustomerId    ProviderId     ProductId    ChannelId   Amount  Value  \\\n",
       "0  CustomerId_4406  ProviderId_6  ProductId_10  ChannelId_3   1000.0   1000   \n",
       "1  CustomerId_4406  ProviderId_4   ProductId_6  ChannelId_2    -20.0     20   \n",
       "2  CustomerId_4683  ProviderId_6   ProductId_1  ChannelId_3    500.0    500   \n",
       "3   CustomerId_988  ProviderId_1  ProductId_21  ChannelId_3  20000.0  21800   \n",
       "4   CustomerId_988  ProviderId_4   ProductId_6  ChannelId_2   -644.0    644   \n",
       "\n",
       "   PricingStrategy  \n",
       "0                2  \n",
       "1                2  \n",
       "2                2  \n",
       "3                2  \n",
       "4                2  "
      ]
     },
     "execution_count": 13,
     "metadata": {},
     "output_type": "execute_result"
    }
   ],
   "source": [
    "X_trn.head()"
   ]
  },
  {
   "cell_type": "code",
   "execution_count": 14,
   "metadata": {},
   "outputs": [],
   "source": [
    "# ValueError: could not convert string to float: 'TransactionId_76871'\n",
    "# dtc = dtc_fit()"
   ]
  },
  {
   "cell_type": "markdown",
   "metadata": {},
   "source": [
    "## Num Encoding"
   ]
  },
  {
   "cell_type": "code",
   "execution_count": 15,
   "metadata": {},
   "outputs": [],
   "source": [
    "df_trn = pd.read_csv('../data/training_num.csv')\n",
    "df_tst = pd.read_csv('../data/test_num.csv')\n",
    "df_sbm = pd.read_csv('../data/sample_submission.csv')"
   ]
  },
  {
   "cell_type": "code",
   "execution_count": 16,
   "metadata": {},
   "outputs": [],
   "source": [
    "X_trn = df_trn.drop(columns=['ProductCategory', 'TransactionStartTime', 'FraudResult'], axis=1)\n",
    "X_tst = df_tst.drop(columns=['ProductCategory', 'TransactionStartTime'               ], axis=1)\n",
    "\n",
    "y_trn = df_trn['FraudResult']"
   ]
  },
  {
   "cell_type": "code",
   "execution_count": 17,
   "metadata": {},
   "outputs": [
    {
     "data": {
      "text/html": [
       "<div>\n",
       "<style scoped>\n",
       "    .dataframe tbody tr th:only-of-type {\n",
       "        vertical-align: middle;\n",
       "    }\n",
       "\n",
       "    .dataframe tbody tr th {\n",
       "        vertical-align: top;\n",
       "    }\n",
       "\n",
       "    .dataframe thead th {\n",
       "        text-align: right;\n",
       "    }\n",
       "</style>\n",
       "<table border=\"1\" class=\"dataframe\">\n",
       "  <thead>\n",
       "    <tr style=\"text-align: right;\">\n",
       "      <th></th>\n",
       "      <th>BatchId</th>\n",
       "      <th>AccountId</th>\n",
       "      <th>SubscriptionId</th>\n",
       "      <th>CustomerId</th>\n",
       "      <th>ProviderId</th>\n",
       "      <th>ProductId</th>\n",
       "      <th>ChannelId</th>\n",
       "      <th>Amount</th>\n",
       "      <th>Value</th>\n",
       "      <th>PricingStrategy</th>\n",
       "    </tr>\n",
       "  </thead>\n",
       "  <tbody>\n",
       "    <tr>\n",
       "      <th>0</th>\n",
       "      <td>36123</td>\n",
       "      <td>3957</td>\n",
       "      <td>887</td>\n",
       "      <td>4406</td>\n",
       "      <td>6</td>\n",
       "      <td>10</td>\n",
       "      <td>3</td>\n",
       "      <td>1000.0</td>\n",
       "      <td>1000</td>\n",
       "      <td>2</td>\n",
       "    </tr>\n",
       "    <tr>\n",
       "      <th>1</th>\n",
       "      <td>15642</td>\n",
       "      <td>4841</td>\n",
       "      <td>3829</td>\n",
       "      <td>4406</td>\n",
       "      <td>4</td>\n",
       "      <td>6</td>\n",
       "      <td>2</td>\n",
       "      <td>-20.0</td>\n",
       "      <td>20</td>\n",
       "      <td>2</td>\n",
       "    </tr>\n",
       "    <tr>\n",
       "      <th>2</th>\n",
       "      <td>53941</td>\n",
       "      <td>4229</td>\n",
       "      <td>222</td>\n",
       "      <td>4683</td>\n",
       "      <td>6</td>\n",
       "      <td>1</td>\n",
       "      <td>3</td>\n",
       "      <td>500.0</td>\n",
       "      <td>500</td>\n",
       "      <td>2</td>\n",
       "    </tr>\n",
       "    <tr>\n",
       "      <th>3</th>\n",
       "      <td>102363</td>\n",
       "      <td>648</td>\n",
       "      <td>2185</td>\n",
       "      <td>988</td>\n",
       "      <td>1</td>\n",
       "      <td>21</td>\n",
       "      <td>3</td>\n",
       "      <td>20000.0</td>\n",
       "      <td>21800</td>\n",
       "      <td>2</td>\n",
       "    </tr>\n",
       "    <tr>\n",
       "      <th>4</th>\n",
       "      <td>38780</td>\n",
       "      <td>4841</td>\n",
       "      <td>3829</td>\n",
       "      <td>988</td>\n",
       "      <td>4</td>\n",
       "      <td>6</td>\n",
       "      <td>2</td>\n",
       "      <td>-644.0</td>\n",
       "      <td>644</td>\n",
       "      <td>2</td>\n",
       "    </tr>\n",
       "  </tbody>\n",
       "</table>\n",
       "</div>"
      ],
      "text/plain": [
       "   BatchId  AccountId  SubscriptionId  CustomerId  ProviderId  ProductId  \\\n",
       "0    36123       3957             887        4406           6         10   \n",
       "1    15642       4841            3829        4406           4          6   \n",
       "2    53941       4229             222        4683           6          1   \n",
       "3   102363        648            2185         988           1         21   \n",
       "4    38780       4841            3829         988           4          6   \n",
       "\n",
       "   ChannelId   Amount  Value  PricingStrategy  \n",
       "0          3   1000.0   1000                2  \n",
       "1          2    -20.0     20                2  \n",
       "2          3    500.0    500                2  \n",
       "3          3  20000.0  21800                2  \n",
       "4          2   -644.0    644                2  "
      ]
     },
     "execution_count": 17,
     "metadata": {},
     "output_type": "execute_result"
    }
   ],
   "source": [
    "X_trn.head()"
   ]
  },
  {
   "cell_type": "code",
   "execution_count": 18,
   "metadata": {},
   "outputs": [
    {
     "name": "stdout",
     "output_type": "stream",
     "text": [
      "Feature ranking:\n",
      "  1.                          Value: 0.8049481074\n",
      "  2.                         Amount: 0.0893740669\n",
      "  3.                        BatchId: 0.0317878438\n",
      "  4.                 SubscriptionId: 0.0265620861\n",
      "  5.                      AccountId: 0.0185416698\n",
      "  6.                     CustomerId: 0.0171805802\n",
      "  7.                     ProviderId: 0.0090918652\n",
      "  8.                      ProductId: 0.0013746073\n",
      "  9.                PricingStrategy: 0.0011391732\n"
     ]
    }
   ],
   "source": [
    "dtc = dtc_fit()\n",
    "feature_importances_print(dtc)\n",
    "dtc_to_pdf(dtc, 'DecisionTree-num-010-features')"
   ]
  },
  {
   "cell_type": "code",
   "execution_count": 19,
   "metadata": {},
   "outputs": [
    {
     "name": "stdout",
     "output_type": "stream",
     "text": [
      "Counter({0: 44953, 1: 66})\n",
      "New result!\n"
     ]
    }
   ],
   "source": [
    "predict = dtc.predict(X_tst)\n",
    "df_sbm['FraudResult'] = predict\n",
    "print(Counter(df_sbm['FraudResult']))\n",
    "\n",
    "if not is_predict_exist(df_sbm):\n",
    "    print('New result!')\n",
    "    df_sbm.to_csv('../submitted/AlBo0816_DT_num_010.csv', encoding='utf-8', index=False)"
   ]
  },
  {
   "cell_type": "markdown",
   "metadata": {},
   "source": [
    "**Result:** `65   0.703703703703704`"
   ]
  },
  {
   "cell_type": "markdown",
   "metadata": {},
   "source": [
    "### Оставим только 'логичные' features"
   ]
  },
  {
   "cell_type": "code",
   "execution_count": 20,
   "metadata": {},
   "outputs": [],
   "source": [
    "columns4drop = [\n",
    "    'BatchId',\n",
    "    'AccountId',\n",
    "    'SubscriptionId',\n",
    "    'CustomerId',\n",
    "    'ProductCategory',\n",
    "    'TransactionStartTime'\n",
    "]\n",
    "X_trn = df_trn.drop(columns=columns4drop, axis=1)\n",
    "X_tst = df_tst.drop(columns=columns4drop, axis=1)\n",
    "\n",
    "X_trn = X_trn.drop(columns=['FraudResult'], axis=1)"
   ]
  },
  {
   "cell_type": "code",
   "execution_count": 21,
   "metadata": {
    "scrolled": true
   },
   "outputs": [
    {
     "data": {
      "text/html": [
       "<div>\n",
       "<style scoped>\n",
       "    .dataframe tbody tr th:only-of-type {\n",
       "        vertical-align: middle;\n",
       "    }\n",
       "\n",
       "    .dataframe tbody tr th {\n",
       "        vertical-align: top;\n",
       "    }\n",
       "\n",
       "    .dataframe thead th {\n",
       "        text-align: right;\n",
       "    }\n",
       "</style>\n",
       "<table border=\"1\" class=\"dataframe\">\n",
       "  <thead>\n",
       "    <tr style=\"text-align: right;\">\n",
       "      <th></th>\n",
       "      <th>ProviderId</th>\n",
       "      <th>ProductId</th>\n",
       "      <th>ChannelId</th>\n",
       "      <th>Amount</th>\n",
       "      <th>Value</th>\n",
       "      <th>PricingStrategy</th>\n",
       "    </tr>\n",
       "  </thead>\n",
       "  <tbody>\n",
       "    <tr>\n",
       "      <th>0</th>\n",
       "      <td>6</td>\n",
       "      <td>10</td>\n",
       "      <td>3</td>\n",
       "      <td>1000.0</td>\n",
       "      <td>1000</td>\n",
       "      <td>2</td>\n",
       "    </tr>\n",
       "    <tr>\n",
       "      <th>1</th>\n",
       "      <td>4</td>\n",
       "      <td>6</td>\n",
       "      <td>2</td>\n",
       "      <td>-20.0</td>\n",
       "      <td>20</td>\n",
       "      <td>2</td>\n",
       "    </tr>\n",
       "    <tr>\n",
       "      <th>2</th>\n",
       "      <td>6</td>\n",
       "      <td>1</td>\n",
       "      <td>3</td>\n",
       "      <td>500.0</td>\n",
       "      <td>500</td>\n",
       "      <td>2</td>\n",
       "    </tr>\n",
       "    <tr>\n",
       "      <th>3</th>\n",
       "      <td>1</td>\n",
       "      <td>21</td>\n",
       "      <td>3</td>\n",
       "      <td>20000.0</td>\n",
       "      <td>21800</td>\n",
       "      <td>2</td>\n",
       "    </tr>\n",
       "    <tr>\n",
       "      <th>4</th>\n",
       "      <td>4</td>\n",
       "      <td>6</td>\n",
       "      <td>2</td>\n",
       "      <td>-644.0</td>\n",
       "      <td>644</td>\n",
       "      <td>2</td>\n",
       "    </tr>\n",
       "  </tbody>\n",
       "</table>\n",
       "</div>"
      ],
      "text/plain": [
       "   ProviderId  ProductId  ChannelId   Amount  Value  PricingStrategy\n",
       "0           6         10          3   1000.0   1000                2\n",
       "1           4          6          2    -20.0     20                2\n",
       "2           6          1          3    500.0    500                2\n",
       "3           1         21          3  20000.0  21800                2\n",
       "4           4          6          2   -644.0    644                2"
      ]
     },
     "execution_count": 21,
     "metadata": {},
     "output_type": "execute_result"
    }
   ],
   "source": [
    "X_trn.head()"
   ]
  },
  {
   "cell_type": "code",
   "execution_count": 22,
   "metadata": {},
   "outputs": [
    {
     "name": "stdout",
     "output_type": "stream",
     "text": [
      "Feature ranking:\n",
      "  1.                          Value: 0.8821218489\n",
      "  2.                         Amount: 0.0818062812\n",
      "  3.                     ProviderId: 0.0219282799\n",
      "  4.                      ProductId: 0.0067519049\n",
      "  5.                PricingStrategy: 0.0062353404\n",
      "  6.                      ChannelId: 0.0011563446\n"
     ]
    }
   ],
   "source": [
    "dtc = dtc_fit()\n",
    "feature_importances_print(dtc)\n",
    "dtc_to_pdf(dtc, 'DecisionTree-num-006-features')"
   ]
  },
  {
   "cell_type": "code",
   "execution_count": 23,
   "metadata": {},
   "outputs": [
    {
     "name": "stdout",
     "output_type": "stream",
     "text": [
      "Counter({0: 44946, 1: 73})\n",
      "New result!\n"
     ]
    }
   ],
   "source": [
    "predict = dtc.predict(X_tst)\n",
    "df_sbm['FraudResult'] = predict\n",
    "print(Counter(df_sbm['FraudResult']))\n",
    "\n",
    "if not is_predict_exist(df_sbm):\n",
    "    print('New result!')\n",
    "    df_sbm.to_csv('../submitted/AlBo0816_DT_num_006.csv', encoding='utf-8', index=False)"
   ]
  },
  {
   "cell_type": "markdown",
   "metadata": {},
   "source": [
    "**Result:** `74   0.688524590163934`"
   ]
  },
  {
   "cell_type": "markdown",
   "metadata": {},
   "source": [
    "## Label Encoding"
   ]
  },
  {
   "cell_type": "code",
   "execution_count": 24,
   "metadata": {},
   "outputs": [],
   "source": [
    "df_trn = pd.read_csv('../data/training_le.csv')\n",
    "df_tst = pd.read_csv('../data/test_le.csv')\n",
    "df_sbm = pd.read_csv('../data/sample_submission.csv')"
   ]
  },
  {
   "cell_type": "code",
   "execution_count": 25,
   "metadata": {},
   "outputs": [],
   "source": [
    "X_trn = df_trn.drop(columns=['TransactionStartTime', 'FraudResult'], axis=1)\n",
    "X_tst = df_tst.drop(columns=['TransactionStartTime'               ], axis=1)\n",
    "\n",
    "y_trn = df_trn['FraudResult']"
   ]
  },
  {
   "cell_type": "code",
   "execution_count": 26,
   "metadata": {},
   "outputs": [
    {
     "data": {
      "text/html": [
       "<div>\n",
       "<style scoped>\n",
       "    .dataframe tbody tr th:only-of-type {\n",
       "        vertical-align: middle;\n",
       "    }\n",
       "\n",
       "    .dataframe tbody tr th {\n",
       "        vertical-align: top;\n",
       "    }\n",
       "\n",
       "    .dataframe thead th {\n",
       "        text-align: right;\n",
       "    }\n",
       "</style>\n",
       "<table border=\"1\" class=\"dataframe\">\n",
       "  <thead>\n",
       "    <tr style=\"text-align: right;\">\n",
       "      <th></th>\n",
       "      <th>BatchId</th>\n",
       "      <th>AccountId</th>\n",
       "      <th>SubscriptionId</th>\n",
       "      <th>CustomerId</th>\n",
       "      <th>ProviderId</th>\n",
       "      <th>ProductId</th>\n",
       "      <th>ProductCategory</th>\n",
       "      <th>ChannelId</th>\n",
       "      <th>Amount</th>\n",
       "      <th>Value</th>\n",
       "      <th>PricingStrategy</th>\n",
       "    </tr>\n",
       "  </thead>\n",
       "  <tbody>\n",
       "    <tr>\n",
       "      <th>0</th>\n",
       "      <td>36122</td>\n",
       "      <td>3956</td>\n",
       "      <td>886</td>\n",
       "      <td>4405</td>\n",
       "      <td>5</td>\n",
       "      <td>9</td>\n",
       "      <td>0</td>\n",
       "      <td>2</td>\n",
       "      <td>1000.0</td>\n",
       "      <td>1000</td>\n",
       "      <td>2</td>\n",
       "    </tr>\n",
       "    <tr>\n",
       "      <th>1</th>\n",
       "      <td>15641</td>\n",
       "      <td>4840</td>\n",
       "      <td>3828</td>\n",
       "      <td>4405</td>\n",
       "      <td>3</td>\n",
       "      <td>5</td>\n",
       "      <td>2</td>\n",
       "      <td>1</td>\n",
       "      <td>-20.0</td>\n",
       "      <td>20</td>\n",
       "      <td>2</td>\n",
       "    </tr>\n",
       "    <tr>\n",
       "      <th>2</th>\n",
       "      <td>53940</td>\n",
       "      <td>4228</td>\n",
       "      <td>221</td>\n",
       "      <td>4682</td>\n",
       "      <td>5</td>\n",
       "      <td>0</td>\n",
       "      <td>0</td>\n",
       "      <td>2</td>\n",
       "      <td>500.0</td>\n",
       "      <td>500</td>\n",
       "      <td>2</td>\n",
       "    </tr>\n",
       "    <tr>\n",
       "      <th>3</th>\n",
       "      <td>102362</td>\n",
       "      <td>647</td>\n",
       "      <td>2184</td>\n",
       "      <td>987</td>\n",
       "      <td>0</td>\n",
       "      <td>20</td>\n",
       "      <td>9</td>\n",
       "      <td>2</td>\n",
       "      <td>20000.0</td>\n",
       "      <td>21800</td>\n",
       "      <td>2</td>\n",
       "    </tr>\n",
       "    <tr>\n",
       "      <th>4</th>\n",
       "      <td>38779</td>\n",
       "      <td>4840</td>\n",
       "      <td>3828</td>\n",
       "      <td>987</td>\n",
       "      <td>3</td>\n",
       "      <td>5</td>\n",
       "      <td>2</td>\n",
       "      <td>1</td>\n",
       "      <td>-644.0</td>\n",
       "      <td>644</td>\n",
       "      <td>2</td>\n",
       "    </tr>\n",
       "  </tbody>\n",
       "</table>\n",
       "</div>"
      ],
      "text/plain": [
       "   BatchId  AccountId  SubscriptionId  CustomerId  ProviderId  ProductId  \\\n",
       "0    36122       3956             886        4405           5          9   \n",
       "1    15641       4840            3828        4405           3          5   \n",
       "2    53940       4228             221        4682           5          0   \n",
       "3   102362        647            2184         987           0         20   \n",
       "4    38779       4840            3828         987           3          5   \n",
       "\n",
       "   ProductCategory  ChannelId   Amount  Value  PricingStrategy  \n",
       "0                0          2   1000.0   1000                2  \n",
       "1                2          1    -20.0     20                2  \n",
       "2                0          2    500.0    500                2  \n",
       "3                9          2  20000.0  21800                2  \n",
       "4                2          1   -644.0    644                2  "
      ]
     },
     "execution_count": 26,
     "metadata": {},
     "output_type": "execute_result"
    }
   ],
   "source": [
    "X_trn.head()"
   ]
  },
  {
   "cell_type": "code",
   "execution_count": 27,
   "metadata": {},
   "outputs": [
    {
     "name": "stdout",
     "output_type": "stream",
     "text": [
      "Feature ranking:\n",
      "  1.                          Value: 0.8306119249\n",
      "  2.                         Amount: 0.0613539279\n",
      "  3.                        BatchId: 0.0289683819\n",
      "  4.                 SubscriptionId: 0.0273961886\n",
      "  5.                     CustomerId: 0.0210882269\n",
      "  6.                      AccountId: 0.0124253133\n",
      "  7.                     ProviderId: 0.0090918652\n",
      "  8.                ProductCategory: 0.0051757834\n",
      "  9.                PricingStrategy: 0.0025137805\n",
      " 10.                      ProductId: 0.0013746073\n"
     ]
    }
   ],
   "source": [
    "dtc = dtc_fit()\n",
    "feature_importances_print(dtc)\n",
    "dtc_to_pdf(dtc, 'DecisionTree-LE-011-features')"
   ]
  },
  {
   "cell_type": "code",
   "execution_count": 28,
   "metadata": {},
   "outputs": [
    {
     "name": "stdout",
     "output_type": "stream",
     "text": [
      "Counter({0: 44954, 1: 65})\n",
      "New result!\n"
     ]
    }
   ],
   "source": [
    "predict = dtc.predict(X_tst)\n",
    "df_sbm['FraudResult'] = predict\n",
    "print(Counter(df_sbm['FraudResult']))\n",
    "\n",
    "if not is_predict_exist(df_sbm):\n",
    "    print('New result!')\n",
    "    df_sbm.to_csv('../submitted/AlBo0816_DT_LE_011.csv', encoding='utf-8', index=False)"
   ]
  },
  {
   "cell_type": "markdown",
   "metadata": {},
   "source": [
    "**Result:** `64   0.703703703703704`"
   ]
  },
  {
   "cell_type": "markdown",
   "metadata": {},
   "source": [
    "### Оставим только 'логичные' features"
   ]
  },
  {
   "cell_type": "code",
   "execution_count": 29,
   "metadata": {},
   "outputs": [],
   "source": [
    "columns4drop = [\n",
    "    'BatchId',\n",
    "    'AccountId',\n",
    "    'SubscriptionId',\n",
    "    'CustomerId',\n",
    "    'TransactionStartTime'\n",
    "]\n",
    "X_trn = df_trn.drop(columns=columns4drop, axis=1)\n",
    "X_tst = df_tst.drop(columns=columns4drop, axis=1)\n",
    "\n",
    "X_trn = X_trn.drop(columns=['FraudResult'], axis=1)"
   ]
  },
  {
   "cell_type": "code",
   "execution_count": 30,
   "metadata": {
    "scrolled": true
   },
   "outputs": [
    {
     "data": {
      "text/html": [
       "<div>\n",
       "<style scoped>\n",
       "    .dataframe tbody tr th:only-of-type {\n",
       "        vertical-align: middle;\n",
       "    }\n",
       "\n",
       "    .dataframe tbody tr th {\n",
       "        vertical-align: top;\n",
       "    }\n",
       "\n",
       "    .dataframe thead th {\n",
       "        text-align: right;\n",
       "    }\n",
       "</style>\n",
       "<table border=\"1\" class=\"dataframe\">\n",
       "  <thead>\n",
       "    <tr style=\"text-align: right;\">\n",
       "      <th></th>\n",
       "      <th>ProviderId</th>\n",
       "      <th>ProductId</th>\n",
       "      <th>ProductCategory</th>\n",
       "      <th>ChannelId</th>\n",
       "      <th>Amount</th>\n",
       "      <th>Value</th>\n",
       "      <th>PricingStrategy</th>\n",
       "    </tr>\n",
       "  </thead>\n",
       "  <tbody>\n",
       "    <tr>\n",
       "      <th>0</th>\n",
       "      <td>5</td>\n",
       "      <td>9</td>\n",
       "      <td>0</td>\n",
       "      <td>2</td>\n",
       "      <td>1000.0</td>\n",
       "      <td>1000</td>\n",
       "      <td>2</td>\n",
       "    </tr>\n",
       "    <tr>\n",
       "      <th>1</th>\n",
       "      <td>3</td>\n",
       "      <td>5</td>\n",
       "      <td>2</td>\n",
       "      <td>1</td>\n",
       "      <td>-20.0</td>\n",
       "      <td>20</td>\n",
       "      <td>2</td>\n",
       "    </tr>\n",
       "    <tr>\n",
       "      <th>2</th>\n",
       "      <td>5</td>\n",
       "      <td>0</td>\n",
       "      <td>0</td>\n",
       "      <td>2</td>\n",
       "      <td>500.0</td>\n",
       "      <td>500</td>\n",
       "      <td>2</td>\n",
       "    </tr>\n",
       "    <tr>\n",
       "      <th>3</th>\n",
       "      <td>0</td>\n",
       "      <td>20</td>\n",
       "      <td>9</td>\n",
       "      <td>2</td>\n",
       "      <td>20000.0</td>\n",
       "      <td>21800</td>\n",
       "      <td>2</td>\n",
       "    </tr>\n",
       "    <tr>\n",
       "      <th>4</th>\n",
       "      <td>3</td>\n",
       "      <td>5</td>\n",
       "      <td>2</td>\n",
       "      <td>1</td>\n",
       "      <td>-644.0</td>\n",
       "      <td>644</td>\n",
       "      <td>2</td>\n",
       "    </tr>\n",
       "  </tbody>\n",
       "</table>\n",
       "</div>"
      ],
      "text/plain": [
       "   ProviderId  ProductId  ProductCategory  ChannelId   Amount  Value  \\\n",
       "0           5          9                0          2   1000.0   1000   \n",
       "1           3          5                2          1    -20.0     20   \n",
       "2           5          0                0          2    500.0    500   \n",
       "3           0         20                9          2  20000.0  21800   \n",
       "4           3          5                2          1   -644.0    644   \n",
       "\n",
       "   PricingStrategy  \n",
       "0                2  \n",
       "1                2  \n",
       "2                2  \n",
       "3                2  \n",
       "4                2  "
      ]
     },
     "execution_count": 30,
     "metadata": {},
     "output_type": "execute_result"
    }
   ],
   "source": [
    "X_trn.head()"
   ]
  },
  {
   "cell_type": "code",
   "execution_count": 31,
   "metadata": {},
   "outputs": [
    {
     "name": "stdout",
     "output_type": "stream",
     "text": [
      "Feature ranking:\n",
      "  1.                          Value: 0.8871534479\n",
      "  2.                         Amount: 0.0764916382\n",
      "  3.                     ProviderId: 0.0219282799\n",
      "  4.                PricingStrategy: 0.0054752804\n",
      "  5.                ProductCategory: 0.0047327550\n",
      "  6.                      ProductId: 0.0031042323\n",
      "  7.                      ChannelId: 0.0011143663\n"
     ]
    }
   ],
   "source": [
    "dtc = dtc_fit()\n",
    "feature_importances_print(dtc)\n",
    "dtc_to_pdf(dtc, 'DecisionTree-LE-007-features')"
   ]
  },
  {
   "cell_type": "code",
   "execution_count": 32,
   "metadata": {},
   "outputs": [
    {
     "name": "stdout",
     "output_type": "stream",
     "text": [
      "Counter({0: 44945, 1: 74})\n",
      "New result!\n"
     ]
    }
   ],
   "source": [
    "predict = dtc.predict(X_tst)\n",
    "df_sbm['FraudResult'] = predict\n",
    "print(Counter(df_sbm['FraudResult']))\n",
    "\n",
    "if not is_predict_exist(df_sbm):\n",
    "    print('New result!')\n",
    "    df_sbm.to_csv('../submitted/AlBo0816_DT_LE_007.csv', encoding='utf-8', index=False)"
   ]
  },
  {
   "cell_type": "markdown",
   "metadata": {},
   "source": [
    "**Result:** `74   0.690909090909091`"
   ]
  },
  {
   "cell_type": "markdown",
   "metadata": {},
   "source": [
    "## One Hot Encoding"
   ]
  },
  {
   "cell_type": "code",
   "execution_count": 33,
   "metadata": {},
   "outputs": [],
   "source": [
    "df_trn = pd.read_csv('../data/training_ohe_short.csv')\n",
    "df_tst = pd.read_csv('../data/test_ohe_short.csv')\n",
    "df_sbm = pd.read_csv('../data/sample_submission.csv')"
   ]
  },
  {
   "cell_type": "code",
   "execution_count": 34,
   "metadata": {},
   "outputs": [],
   "source": [
    "X_trn = df_trn.drop(columns=['TransactionStartTime', 'FraudResult'], axis=1)\n",
    "X_tst = df_tst.drop(columns=['TransactionStartTime'               ], axis=1)\n",
    "\n",
    "y_trn = df_trn['FraudResult']"
   ]
  },
  {
   "cell_type": "code",
   "execution_count": 35,
   "metadata": {},
   "outputs": [
    {
     "data": {
      "text/html": [
       "<div>\n",
       "<style scoped>\n",
       "    .dataframe tbody tr th:only-of-type {\n",
       "        vertical-align: middle;\n",
       "    }\n",
       "\n",
       "    .dataframe tbody tr th {\n",
       "        vertical-align: top;\n",
       "    }\n",
       "\n",
       "    .dataframe thead th {\n",
       "        text-align: right;\n",
       "    }\n",
       "</style>\n",
       "<table border=\"1\" class=\"dataframe\">\n",
       "  <thead>\n",
       "    <tr style=\"text-align: right;\">\n",
       "      <th></th>\n",
       "      <th>BatchId</th>\n",
       "      <th>AccountId</th>\n",
       "      <th>SubscriptionId</th>\n",
       "      <th>CustomerId</th>\n",
       "      <th>Amount</th>\n",
       "      <th>Value</th>\n",
       "      <th>ProviderId_0</th>\n",
       "      <th>ProviderId_1</th>\n",
       "      <th>ProviderId_2</th>\n",
       "      <th>ProviderId_3</th>\n",
       "      <th>...</th>\n",
       "      <th>ProductCategory_9</th>\n",
       "      <th>ChannelId_0</th>\n",
       "      <th>ChannelId_1</th>\n",
       "      <th>ChannelId_2</th>\n",
       "      <th>ChannelId_3</th>\n",
       "      <th>ChannelId_4</th>\n",
       "      <th>PricingStrategy_0</th>\n",
       "      <th>PricingStrategy_1</th>\n",
       "      <th>PricingStrategy_2</th>\n",
       "      <th>PricingStrategy_3</th>\n",
       "    </tr>\n",
       "  </thead>\n",
       "  <tbody>\n",
       "    <tr>\n",
       "      <th>0</th>\n",
       "      <td>36122</td>\n",
       "      <td>3956</td>\n",
       "      <td>886</td>\n",
       "      <td>4405</td>\n",
       "      <td>1000.0</td>\n",
       "      <td>1000</td>\n",
       "      <td>0</td>\n",
       "      <td>0</td>\n",
       "      <td>0</td>\n",
       "      <td>0</td>\n",
       "      <td>...</td>\n",
       "      <td>0</td>\n",
       "      <td>0</td>\n",
       "      <td>0</td>\n",
       "      <td>1</td>\n",
       "      <td>0</td>\n",
       "      <td>0</td>\n",
       "      <td>0</td>\n",
       "      <td>0</td>\n",
       "      <td>1</td>\n",
       "      <td>0</td>\n",
       "    </tr>\n",
       "    <tr>\n",
       "      <th>1</th>\n",
       "      <td>15641</td>\n",
       "      <td>4840</td>\n",
       "      <td>3828</td>\n",
       "      <td>4405</td>\n",
       "      <td>-20.0</td>\n",
       "      <td>20</td>\n",
       "      <td>0</td>\n",
       "      <td>0</td>\n",
       "      <td>0</td>\n",
       "      <td>1</td>\n",
       "      <td>...</td>\n",
       "      <td>0</td>\n",
       "      <td>0</td>\n",
       "      <td>1</td>\n",
       "      <td>0</td>\n",
       "      <td>0</td>\n",
       "      <td>0</td>\n",
       "      <td>0</td>\n",
       "      <td>0</td>\n",
       "      <td>1</td>\n",
       "      <td>0</td>\n",
       "    </tr>\n",
       "    <tr>\n",
       "      <th>2</th>\n",
       "      <td>53940</td>\n",
       "      <td>4228</td>\n",
       "      <td>221</td>\n",
       "      <td>4682</td>\n",
       "      <td>500.0</td>\n",
       "      <td>500</td>\n",
       "      <td>0</td>\n",
       "      <td>0</td>\n",
       "      <td>0</td>\n",
       "      <td>0</td>\n",
       "      <td>...</td>\n",
       "      <td>0</td>\n",
       "      <td>0</td>\n",
       "      <td>0</td>\n",
       "      <td>1</td>\n",
       "      <td>0</td>\n",
       "      <td>0</td>\n",
       "      <td>0</td>\n",
       "      <td>0</td>\n",
       "      <td>1</td>\n",
       "      <td>0</td>\n",
       "    </tr>\n",
       "    <tr>\n",
       "      <th>3</th>\n",
       "      <td>102362</td>\n",
       "      <td>647</td>\n",
       "      <td>2184</td>\n",
       "      <td>987</td>\n",
       "      <td>20000.0</td>\n",
       "      <td>21800</td>\n",
       "      <td>1</td>\n",
       "      <td>0</td>\n",
       "      <td>0</td>\n",
       "      <td>0</td>\n",
       "      <td>...</td>\n",
       "      <td>1</td>\n",
       "      <td>0</td>\n",
       "      <td>0</td>\n",
       "      <td>1</td>\n",
       "      <td>0</td>\n",
       "      <td>0</td>\n",
       "      <td>0</td>\n",
       "      <td>0</td>\n",
       "      <td>1</td>\n",
       "      <td>0</td>\n",
       "    </tr>\n",
       "    <tr>\n",
       "      <th>4</th>\n",
       "      <td>38779</td>\n",
       "      <td>4840</td>\n",
       "      <td>3828</td>\n",
       "      <td>987</td>\n",
       "      <td>-644.0</td>\n",
       "      <td>644</td>\n",
       "      <td>0</td>\n",
       "      <td>0</td>\n",
       "      <td>0</td>\n",
       "      <td>1</td>\n",
       "      <td>...</td>\n",
       "      <td>0</td>\n",
       "      <td>0</td>\n",
       "      <td>1</td>\n",
       "      <td>0</td>\n",
       "      <td>0</td>\n",
       "      <td>0</td>\n",
       "      <td>0</td>\n",
       "      <td>0</td>\n",
       "      <td>1</td>\n",
       "      <td>0</td>\n",
       "    </tr>\n",
       "  </tbody>\n",
       "</table>\n",
       "<p>5 rows × 58 columns</p>\n",
       "</div>"
      ],
      "text/plain": [
       "   BatchId  AccountId  SubscriptionId  CustomerId   Amount  Value  \\\n",
       "0    36122       3956             886        4405   1000.0   1000   \n",
       "1    15641       4840            3828        4405    -20.0     20   \n",
       "2    53940       4228             221        4682    500.0    500   \n",
       "3   102362        647            2184         987  20000.0  21800   \n",
       "4    38779       4840            3828         987   -644.0    644   \n",
       "\n",
       "   ProviderId_0  ProviderId_1  ProviderId_2  ProviderId_3        ...          \\\n",
       "0             0             0             0             0        ...           \n",
       "1             0             0             0             1        ...           \n",
       "2             0             0             0             0        ...           \n",
       "3             1             0             0             0        ...           \n",
       "4             0             0             0             1        ...           \n",
       "\n",
       "   ProductCategory_9  ChannelId_0  ChannelId_1  ChannelId_2  ChannelId_3  \\\n",
       "0                  0            0            0            1            0   \n",
       "1                  0            0            1            0            0   \n",
       "2                  0            0            0            1            0   \n",
       "3                  1            0            0            1            0   \n",
       "4                  0            0            1            0            0   \n",
       "\n",
       "   ChannelId_4  PricingStrategy_0  PricingStrategy_1  PricingStrategy_2  \\\n",
       "0            0                  0                  0                  1   \n",
       "1            0                  0                  0                  1   \n",
       "2            0                  0                  0                  1   \n",
       "3            0                  0                  0                  1   \n",
       "4            0                  0                  0                  1   \n",
       "\n",
       "   PricingStrategy_3  \n",
       "0                  0  \n",
       "1                  0  \n",
       "2                  0  \n",
       "3                  0  \n",
       "4                  0  \n",
       "\n",
       "[5 rows x 58 columns]"
      ]
     },
     "execution_count": 35,
     "metadata": {},
     "output_type": "execute_result"
    }
   ],
   "source": [
    "X_trn.head()"
   ]
  },
  {
   "cell_type": "code",
   "execution_count": 36,
   "metadata": {},
   "outputs": [
    {
     "name": "stdout",
     "output_type": "stream",
     "text": [
      "Feature ranking:\n",
      "  1.                          Value: 0.8293089165\n",
      "  2.                         Amount: 0.0658393629\n",
      "  3.                     CustomerId: 0.0275072198\n",
      "  4.                        BatchId: 0.0270248791\n",
      "  5.                 SubscriptionId: 0.0207476142\n",
      "  6.                   ProviderId_2: 0.0153381585\n",
      "  7.                      AccountId: 0.0041823298\n",
      "  8.                    ProductId_9: 0.0035200448\n",
      "  9.                   ProviderId_4: 0.0026430866\n",
      " 10.                    ChannelId_0: 0.0013746073\n",
      " 11.              ProductCategory_0: 0.0013746073\n",
      " 12.              PricingStrategy_0: 0.0011391732\n"
     ]
    }
   ],
   "source": [
    "dtc = dtc_fit()\n",
    "feature_importances_print(dtc)\n",
    "dtc_to_pdf(dtc, 'DecisionTree-OHE-058-features')"
   ]
  },
  {
   "cell_type": "code",
   "execution_count": 37,
   "metadata": {},
   "outputs": [
    {
     "name": "stdout",
     "output_type": "stream",
     "text": [
      "Counter({0: 44954, 1: 65})\n",
      "It is the same as in: AlBo0816_DT_LE_011.csv\n"
     ]
    }
   ],
   "source": [
    "predict = dtc.predict(X_tst)\n",
    "df_sbm['FraudResult'] = predict\n",
    "print(Counter(df_sbm['FraudResult']))\n",
    "\n",
    "if not is_predict_exist(df_sbm):\n",
    "    print('New result!')\n",
    "    df_sbm.to_csv('../submitted/AlBo0816_DT_OHE_058.csv', encoding='utf-8', index=False)"
   ]
  },
  {
   "cell_type": "markdown",
   "metadata": {},
   "source": [
    "**Result:** `66   0.678571428571428`"
   ]
  },
  {
   "cell_type": "markdown",
   "metadata": {},
   "source": [
    "### Оставим только 'логичные' features"
   ]
  },
  {
   "cell_type": "code",
   "execution_count": 38,
   "metadata": {},
   "outputs": [],
   "source": [
    "columns4drop = [\n",
    "    'BatchId',\n",
    "    'AccountId',\n",
    "    'SubscriptionId',\n",
    "    'CustomerId',\n",
    "    'TransactionStartTime'\n",
    "]\n",
    "X_trn = df_trn.drop(columns=columns4drop, axis=1)\n",
    "X_tst = df_tst.drop(columns=columns4drop, axis=1)\n",
    "\n",
    "X_trn = X_trn.drop(columns=['FraudResult'], axis=1)"
   ]
  },
  {
   "cell_type": "code",
   "execution_count": 39,
   "metadata": {
    "scrolled": true
   },
   "outputs": [
    {
     "data": {
      "text/html": [
       "<div>\n",
       "<style scoped>\n",
       "    .dataframe tbody tr th:only-of-type {\n",
       "        vertical-align: middle;\n",
       "    }\n",
       "\n",
       "    .dataframe tbody tr th {\n",
       "        vertical-align: top;\n",
       "    }\n",
       "\n",
       "    .dataframe thead th {\n",
       "        text-align: right;\n",
       "    }\n",
       "</style>\n",
       "<table border=\"1\" class=\"dataframe\">\n",
       "  <thead>\n",
       "    <tr style=\"text-align: right;\">\n",
       "      <th></th>\n",
       "      <th>Amount</th>\n",
       "      <th>Value</th>\n",
       "      <th>ProviderId_0</th>\n",
       "      <th>ProviderId_1</th>\n",
       "      <th>ProviderId_2</th>\n",
       "      <th>ProviderId_3</th>\n",
       "      <th>ProviderId_4</th>\n",
       "      <th>ProviderId_5</th>\n",
       "      <th>ProductId_0</th>\n",
       "      <th>ProductId_1</th>\n",
       "      <th>...</th>\n",
       "      <th>ProductCategory_9</th>\n",
       "      <th>ChannelId_0</th>\n",
       "      <th>ChannelId_1</th>\n",
       "      <th>ChannelId_2</th>\n",
       "      <th>ChannelId_3</th>\n",
       "      <th>ChannelId_4</th>\n",
       "      <th>PricingStrategy_0</th>\n",
       "      <th>PricingStrategy_1</th>\n",
       "      <th>PricingStrategy_2</th>\n",
       "      <th>PricingStrategy_3</th>\n",
       "    </tr>\n",
       "  </thead>\n",
       "  <tbody>\n",
       "    <tr>\n",
       "      <th>0</th>\n",
       "      <td>1000.0</td>\n",
       "      <td>1000</td>\n",
       "      <td>0</td>\n",
       "      <td>0</td>\n",
       "      <td>0</td>\n",
       "      <td>0</td>\n",
       "      <td>0</td>\n",
       "      <td>1</td>\n",
       "      <td>0</td>\n",
       "      <td>0</td>\n",
       "      <td>...</td>\n",
       "      <td>0</td>\n",
       "      <td>0</td>\n",
       "      <td>0</td>\n",
       "      <td>1</td>\n",
       "      <td>0</td>\n",
       "      <td>0</td>\n",
       "      <td>0</td>\n",
       "      <td>0</td>\n",
       "      <td>1</td>\n",
       "      <td>0</td>\n",
       "    </tr>\n",
       "    <tr>\n",
       "      <th>1</th>\n",
       "      <td>-20.0</td>\n",
       "      <td>20</td>\n",
       "      <td>0</td>\n",
       "      <td>0</td>\n",
       "      <td>0</td>\n",
       "      <td>1</td>\n",
       "      <td>0</td>\n",
       "      <td>0</td>\n",
       "      <td>0</td>\n",
       "      <td>0</td>\n",
       "      <td>...</td>\n",
       "      <td>0</td>\n",
       "      <td>0</td>\n",
       "      <td>1</td>\n",
       "      <td>0</td>\n",
       "      <td>0</td>\n",
       "      <td>0</td>\n",
       "      <td>0</td>\n",
       "      <td>0</td>\n",
       "      <td>1</td>\n",
       "      <td>0</td>\n",
       "    </tr>\n",
       "    <tr>\n",
       "      <th>2</th>\n",
       "      <td>500.0</td>\n",
       "      <td>500</td>\n",
       "      <td>0</td>\n",
       "      <td>0</td>\n",
       "      <td>0</td>\n",
       "      <td>0</td>\n",
       "      <td>0</td>\n",
       "      <td>1</td>\n",
       "      <td>1</td>\n",
       "      <td>0</td>\n",
       "      <td>...</td>\n",
       "      <td>0</td>\n",
       "      <td>0</td>\n",
       "      <td>0</td>\n",
       "      <td>1</td>\n",
       "      <td>0</td>\n",
       "      <td>0</td>\n",
       "      <td>0</td>\n",
       "      <td>0</td>\n",
       "      <td>1</td>\n",
       "      <td>0</td>\n",
       "    </tr>\n",
       "    <tr>\n",
       "      <th>3</th>\n",
       "      <td>20000.0</td>\n",
       "      <td>21800</td>\n",
       "      <td>1</td>\n",
       "      <td>0</td>\n",
       "      <td>0</td>\n",
       "      <td>0</td>\n",
       "      <td>0</td>\n",
       "      <td>0</td>\n",
       "      <td>0</td>\n",
       "      <td>0</td>\n",
       "      <td>...</td>\n",
       "      <td>1</td>\n",
       "      <td>0</td>\n",
       "      <td>0</td>\n",
       "      <td>1</td>\n",
       "      <td>0</td>\n",
       "      <td>0</td>\n",
       "      <td>0</td>\n",
       "      <td>0</td>\n",
       "      <td>1</td>\n",
       "      <td>0</td>\n",
       "    </tr>\n",
       "    <tr>\n",
       "      <th>4</th>\n",
       "      <td>-644.0</td>\n",
       "      <td>644</td>\n",
       "      <td>0</td>\n",
       "      <td>0</td>\n",
       "      <td>0</td>\n",
       "      <td>1</td>\n",
       "      <td>0</td>\n",
       "      <td>0</td>\n",
       "      <td>0</td>\n",
       "      <td>0</td>\n",
       "      <td>...</td>\n",
       "      <td>0</td>\n",
       "      <td>0</td>\n",
       "      <td>1</td>\n",
       "      <td>0</td>\n",
       "      <td>0</td>\n",
       "      <td>0</td>\n",
       "      <td>0</td>\n",
       "      <td>0</td>\n",
       "      <td>1</td>\n",
       "      <td>0</td>\n",
       "    </tr>\n",
       "  </tbody>\n",
       "</table>\n",
       "<p>5 rows × 54 columns</p>\n",
       "</div>"
      ],
      "text/plain": [
       "    Amount  Value  ProviderId_0  ProviderId_1  ProviderId_2  ProviderId_3  \\\n",
       "0   1000.0   1000             0             0             0             0   \n",
       "1    -20.0     20             0             0             0             1   \n",
       "2    500.0    500             0             0             0             0   \n",
       "3  20000.0  21800             1             0             0             0   \n",
       "4   -644.0    644             0             0             0             1   \n",
       "\n",
       "   ProviderId_4  ProviderId_5  ProductId_0  ProductId_1        ...          \\\n",
       "0             0             1            0            0        ...           \n",
       "1             0             0            0            0        ...           \n",
       "2             0             1            1            0        ...           \n",
       "3             0             0            0            0        ...           \n",
       "4             0             0            0            0        ...           \n",
       "\n",
       "   ProductCategory_9  ChannelId_0  ChannelId_1  ChannelId_2  ChannelId_3  \\\n",
       "0                  0            0            0            1            0   \n",
       "1                  0            0            1            0            0   \n",
       "2                  0            0            0            1            0   \n",
       "3                  1            0            0            1            0   \n",
       "4                  0            0            1            0            0   \n",
       "\n",
       "   ChannelId_4  PricingStrategy_0  PricingStrategy_1  PricingStrategy_2  \\\n",
       "0            0                  0                  0                  1   \n",
       "1            0                  0                  0                  1   \n",
       "2            0                  0                  0                  1   \n",
       "3            0                  0                  0                  1   \n",
       "4            0                  0                  0                  1   \n",
       "\n",
       "   PricingStrategy_3  \n",
       "0                  0  \n",
       "1                  0  \n",
       "2                  0  \n",
       "3                  0  \n",
       "4                  0  \n",
       "\n",
       "[5 rows x 54 columns]"
      ]
     },
     "execution_count": 39,
     "metadata": {},
     "output_type": "execute_result"
    }
   ],
   "source": [
    "X_trn.head()"
   ]
  },
  {
   "cell_type": "code",
   "execution_count": 40,
   "metadata": {},
   "outputs": [
    {
     "name": "stdout",
     "output_type": "stream",
     "text": [
      "Feature ranking:\n",
      "  1.                          Value: 0.8858869306\n",
      "  2.                         Amount: 0.0770119378\n",
      "  3.                   ProviderId_2: 0.0169442015\n",
      "  4.              PricingStrategy_2: 0.0046853078\n",
      "  5.                    ProductId_9: 0.0033010440\n",
      "  6.                   ProviderId_4: 0.0030404036\n",
      "  7.                   ProviderId_0: 0.0028780395\n",
      "  8.                    ProductId_2: 0.0016104595\n",
      "  9.                    ChannelId_2: 0.0014634143\n",
      " 10.              PricingStrategy_0: 0.0012127699\n",
      " 11.              ProductCategory_2: 0.0011154623\n",
      " 12.                    ChannelId_0: 0.0008496473\n",
      " 13.                   ProviderId_1: 0.0000003818\n"
     ]
    }
   ],
   "source": [
    "dtc = dtc_fit()\n",
    "feature_importances_print(dtc)\n",
    "dtc_to_pdf(dtc, 'DecisionTree-OHE-054-features')"
   ]
  },
  {
   "cell_type": "code",
   "execution_count": 41,
   "metadata": {},
   "outputs": [
    {
     "name": "stdout",
     "output_type": "stream",
     "text": [
      "Counter({0: 44946, 1: 73})\n",
      "It is the same as in: AlBo0816_DT_num_006.csv\n"
     ]
    }
   ],
   "source": [
    "predict = dtc.predict(X_tst)\n",
    "df_sbm['FraudResult'] = predict\n",
    "print(Counter(df_sbm['FraudResult']))\n",
    "\n",
    "if not is_predict_exist(df_sbm):\n",
    "    print('New result!')\n",
    "    df_sbm.to_csv('../submitted/AlBo0816_DT_OHE_054.csv', encoding='utf-8', index=False)"
   ]
  },
  {
   "cell_type": "markdown",
   "metadata": {},
   "source": [
    "## Probability Encoding"
   ]
  },
  {
   "cell_type": "code",
   "execution_count": 42,
   "metadata": {},
   "outputs": [],
   "source": [
    "df_trn = pd.read_csv('../data/training_pe.csv')\n",
    "df_tst = pd.read_csv('../data/test_pe.csv')\n",
    "df_sbm = pd.read_csv('../data/sample_submission.csv')"
   ]
  },
  {
   "cell_type": "code",
   "execution_count": 43,
   "metadata": {},
   "outputs": [],
   "source": [
    "X_trn = df_trn.drop(columns=['BatchId', 'TransactionStartTime', 'FraudResult'], axis=1)\n",
    "X_tst = df_tst.drop(columns=['BatchId', 'TransactionStartTime'               ], axis=1)\n",
    "\n",
    "y_trn = df_trn['FraudResult']"
   ]
  },
  {
   "cell_type": "code",
   "execution_count": 44,
   "metadata": {},
   "outputs": [
    {
     "data": {
      "text/html": [
       "<div>\n",
       "<style scoped>\n",
       "    .dataframe tbody tr th:only-of-type {\n",
       "        vertical-align: middle;\n",
       "    }\n",
       "\n",
       "    .dataframe tbody tr th {\n",
       "        vertical-align: top;\n",
       "    }\n",
       "\n",
       "    .dataframe thead th {\n",
       "        text-align: right;\n",
       "    }\n",
       "</style>\n",
       "<table border=\"1\" class=\"dataframe\">\n",
       "  <thead>\n",
       "    <tr style=\"text-align: right;\">\n",
       "      <th></th>\n",
       "      <th>AccountId</th>\n",
       "      <th>SubscriptionId</th>\n",
       "      <th>CustomerId</th>\n",
       "      <th>ProviderId</th>\n",
       "      <th>ProductId</th>\n",
       "      <th>ProductCategory</th>\n",
       "      <th>ChannelId</th>\n",
       "      <th>Amount</th>\n",
       "      <th>Value</th>\n",
       "      <th>PricingStrategy</th>\n",
       "    </tr>\n",
       "  </thead>\n",
       "  <tbody>\n",
       "    <tr>\n",
       "      <th>0</th>\n",
       "      <td>0.000000</td>\n",
       "      <td>0.000000</td>\n",
       "      <td>0.0</td>\n",
       "      <td>0.000088</td>\n",
       "      <td>0.000390</td>\n",
       "      <td>0.000400</td>\n",
       "      <td>0.003232</td>\n",
       "      <td>1000.0</td>\n",
       "      <td>1000</td>\n",
       "      <td>0.001741</td>\n",
       "    </tr>\n",
       "    <tr>\n",
       "      <th>1</th>\n",
       "      <td>0.000032</td>\n",
       "      <td>0.000031</td>\n",
       "      <td>0.0</td>\n",
       "      <td>0.000131</td>\n",
       "      <td>0.000031</td>\n",
       "      <td>0.003546</td>\n",
       "      <td>0.000135</td>\n",
       "      <td>-20.0</td>\n",
       "      <td>20</td>\n",
       "      <td>0.001741</td>\n",
       "    </tr>\n",
       "    <tr>\n",
       "      <th>2</th>\n",
       "      <td>0.000000</td>\n",
       "      <td>0.000000</td>\n",
       "      <td>0.0</td>\n",
       "      <td>0.000088</td>\n",
       "      <td>0.000000</td>\n",
       "      <td>0.000400</td>\n",
       "      <td>0.003232</td>\n",
       "      <td>500.0</td>\n",
       "      <td>500</td>\n",
       "      <td>0.001741</td>\n",
       "    </tr>\n",
       "    <tr>\n",
       "      <th>3</th>\n",
       "      <td>0.000000</td>\n",
       "      <td>0.000000</td>\n",
       "      <td>0.0</td>\n",
       "      <td>0.010101</td>\n",
       "      <td>0.002646</td>\n",
       "      <td>0.006250</td>\n",
       "      <td>0.003232</td>\n",
       "      <td>20000.0</td>\n",
       "      <td>21800</td>\n",
       "      <td>0.001741</td>\n",
       "    </tr>\n",
       "    <tr>\n",
       "      <th>4</th>\n",
       "      <td>0.000032</td>\n",
       "      <td>0.000031</td>\n",
       "      <td>0.0</td>\n",
       "      <td>0.000131</td>\n",
       "      <td>0.000031</td>\n",
       "      <td>0.003546</td>\n",
       "      <td>0.000135</td>\n",
       "      <td>-644.0</td>\n",
       "      <td>644</td>\n",
       "      <td>0.001741</td>\n",
       "    </tr>\n",
       "  </tbody>\n",
       "</table>\n",
       "</div>"
      ],
      "text/plain": [
       "   AccountId  SubscriptionId  CustomerId  ProviderId  ProductId  \\\n",
       "0   0.000000        0.000000         0.0    0.000088   0.000390   \n",
       "1   0.000032        0.000031         0.0    0.000131   0.000031   \n",
       "2   0.000000        0.000000         0.0    0.000088   0.000000   \n",
       "3   0.000000        0.000000         0.0    0.010101   0.002646   \n",
       "4   0.000032        0.000031         0.0    0.000131   0.000031   \n",
       "\n",
       "   ProductCategory  ChannelId   Amount  Value  PricingStrategy  \n",
       "0         0.000400   0.003232   1000.0   1000         0.001741  \n",
       "1         0.003546   0.000135    -20.0     20         0.001741  \n",
       "2         0.000400   0.003232    500.0    500         0.001741  \n",
       "3         0.006250   0.003232  20000.0  21800         0.001741  \n",
       "4         0.003546   0.000135   -644.0    644         0.001741  "
      ]
     },
     "execution_count": 44,
     "metadata": {},
     "output_type": "execute_result"
    }
   ],
   "source": [
    "X_trn.head()"
   ]
  },
  {
   "cell_type": "code",
   "execution_count": 45,
   "metadata": {},
   "outputs": [
    {
     "name": "stdout",
     "output_type": "stream",
     "text": [
      "Feature ranking:\n",
      "  1.                          Value: 0.8221848669\n",
      "  2.                      AccountId: 0.0909695996\n",
      "  3.                         Amount: 0.0345014076\n",
      "  4.                     CustomerId: 0.0187692620\n",
      "  5.                 SubscriptionId: 0.0155127882\n",
      "  6.                     ProviderId: 0.0133547267\n",
      "  7.                      ProductId: 0.0024385665\n",
      "  8.                PricingStrategy: 0.0022687826\n"
     ]
    }
   ],
   "source": [
    "dtc = dtc_fit()\n",
    "feature_importances_print(dtc)\n",
    "dtc_to_pdf(dtc, 'DecisionTree-PE-010-features')"
   ]
  },
  {
   "cell_type": "code",
   "execution_count": 46,
   "metadata": {},
   "outputs": [
    {
     "name": "stdout",
     "output_type": "stream",
     "text": [
      "Counter({0: 44958, 1: 61})\n",
      "New result!\n"
     ]
    }
   ],
   "source": [
    "predict = dtc.predict(X_tst)\n",
    "df_sbm['FraudResult'] = predict\n",
    "print(Counter(df_sbm['FraudResult']))\n",
    "\n",
    "if not is_predict_exist(df_sbm):\n",
    "    print('New result!')\n",
    "    df_sbm.to_csv('../submitted/AlBo0816_DT_PE_010.csv', encoding='utf-8', index=False)"
   ]
  },
  {
   "cell_type": "markdown",
   "metadata": {},
   "source": [
    "**Result:** `61   0.666666666666667`"
   ]
  },
  {
   "cell_type": "markdown",
   "metadata": {},
   "source": [
    "### Оставим только 'логичные' features"
   ]
  },
  {
   "cell_type": "code",
   "execution_count": 47,
   "metadata": {},
   "outputs": [],
   "source": [
    "columns4drop = [\n",
    "    'BatchId',\n",
    "    'AccountId',\n",
    "    'SubscriptionId',\n",
    "    'CustomerId',\n",
    "    'TransactionStartTime'\n",
    "]\n",
    "X_trn = df_trn.drop(columns=columns4drop, axis=1)\n",
    "X_tst = df_tst.drop(columns=columns4drop, axis=1)\n",
    "\n",
    "X_trn = X_trn.drop(columns=['FraudResult'], axis=1)"
   ]
  },
  {
   "cell_type": "code",
   "execution_count": 48,
   "metadata": {
    "scrolled": true
   },
   "outputs": [
    {
     "data": {
      "text/html": [
       "<div>\n",
       "<style scoped>\n",
       "    .dataframe tbody tr th:only-of-type {\n",
       "        vertical-align: middle;\n",
       "    }\n",
       "\n",
       "    .dataframe tbody tr th {\n",
       "        vertical-align: top;\n",
       "    }\n",
       "\n",
       "    .dataframe thead th {\n",
       "        text-align: right;\n",
       "    }\n",
       "</style>\n",
       "<table border=\"1\" class=\"dataframe\">\n",
       "  <thead>\n",
       "    <tr style=\"text-align: right;\">\n",
       "      <th></th>\n",
       "      <th>ProviderId</th>\n",
       "      <th>ProductId</th>\n",
       "      <th>ProductCategory</th>\n",
       "      <th>ChannelId</th>\n",
       "      <th>Amount</th>\n",
       "      <th>Value</th>\n",
       "      <th>PricingStrategy</th>\n",
       "    </tr>\n",
       "  </thead>\n",
       "  <tbody>\n",
       "    <tr>\n",
       "      <th>0</th>\n",
       "      <td>0.000088</td>\n",
       "      <td>0.000390</td>\n",
       "      <td>0.000400</td>\n",
       "      <td>0.003232</td>\n",
       "      <td>1000.0</td>\n",
       "      <td>1000</td>\n",
       "      <td>0.001741</td>\n",
       "    </tr>\n",
       "    <tr>\n",
       "      <th>1</th>\n",
       "      <td>0.000131</td>\n",
       "      <td>0.000031</td>\n",
       "      <td>0.003546</td>\n",
       "      <td>0.000135</td>\n",
       "      <td>-20.0</td>\n",
       "      <td>20</td>\n",
       "      <td>0.001741</td>\n",
       "    </tr>\n",
       "    <tr>\n",
       "      <th>2</th>\n",
       "      <td>0.000088</td>\n",
       "      <td>0.000000</td>\n",
       "      <td>0.000400</td>\n",
       "      <td>0.003232</td>\n",
       "      <td>500.0</td>\n",
       "      <td>500</td>\n",
       "      <td>0.001741</td>\n",
       "    </tr>\n",
       "    <tr>\n",
       "      <th>3</th>\n",
       "      <td>0.010101</td>\n",
       "      <td>0.002646</td>\n",
       "      <td>0.006250</td>\n",
       "      <td>0.003232</td>\n",
       "      <td>20000.0</td>\n",
       "      <td>21800</td>\n",
       "      <td>0.001741</td>\n",
       "    </tr>\n",
       "    <tr>\n",
       "      <th>4</th>\n",
       "      <td>0.000131</td>\n",
       "      <td>0.000031</td>\n",
       "      <td>0.003546</td>\n",
       "      <td>0.000135</td>\n",
       "      <td>-644.0</td>\n",
       "      <td>644</td>\n",
       "      <td>0.001741</td>\n",
       "    </tr>\n",
       "  </tbody>\n",
       "</table>\n",
       "</div>"
      ],
      "text/plain": [
       "   ProviderId  ProductId  ProductCategory  ChannelId   Amount  Value  \\\n",
       "0    0.000088   0.000390         0.000400   0.003232   1000.0   1000   \n",
       "1    0.000131   0.000031         0.003546   0.000135    -20.0     20   \n",
       "2    0.000088   0.000000         0.000400   0.003232    500.0    500   \n",
       "3    0.010101   0.002646         0.006250   0.003232  20000.0  21800   \n",
       "4    0.000131   0.000031         0.003546   0.000135   -644.0    644   \n",
       "\n",
       "   PricingStrategy  \n",
       "0         0.001741  \n",
       "1         0.001741  \n",
       "2         0.001741  \n",
       "3         0.001741  \n",
       "4         0.001741  "
      ]
     },
     "execution_count": 48,
     "metadata": {},
     "output_type": "execute_result"
    }
   ],
   "source": [
    "X_trn.head()"
   ]
  },
  {
   "cell_type": "code",
   "execution_count": 49,
   "metadata": {},
   "outputs": [
    {
     "name": "stdout",
     "output_type": "stream",
     "text": [
      "Feature ranking:\n",
      "  1.                          Value: 0.8643917556\n",
      "  2.                         Amount: 0.0993409293\n",
      "  3.                     ProviderId: 0.0215410726\n",
      "  4.                      ProductId: 0.0070489018\n",
      "  5.                PricingStrategy: 0.0047392899\n",
      "  6.                ProductCategory: 0.0017817084\n",
      "  7.                      ChannelId: 0.0011563425\n"
     ]
    }
   ],
   "source": [
    "dtc = dtc_fit()\n",
    "feature_importances_print(dtc)\n",
    "dtc_to_pdf(dtc, 'DecisionTree-PE-007-features')"
   ]
  },
  {
   "cell_type": "code",
   "execution_count": 50,
   "metadata": {},
   "outputs": [
    {
     "name": "stdout",
     "output_type": "stream",
     "text": [
      "Counter({0: 44945, 1: 74})\n",
      "It is the same as in: AlBo0816_DT_LE_007.csv\n"
     ]
    }
   ],
   "source": [
    "predict = dtc.predict(X_tst)\n",
    "df_sbm['FraudResult'] = predict\n",
    "print(Counter(df_sbm['FraudResult']))\n",
    "\n",
    "if not is_predict_exist(df_sbm):\n",
    "    print('New result!')\n",
    "    df_sbm.to_csv('../submitted/AlBo0816_DT_OHE_007.csv', encoding='utf-8', index=False)"
   ]
  },
  {
   "cell_type": "markdown",
   "metadata": {},
   "source": [
    "### 5 'super features' from top20 $\\chi^2$"
   ]
  },
  {
   "cell_type": "code",
   "execution_count": 51,
   "metadata": {},
   "outputs": [],
   "source": [
    "df_trn = pd.read_csv('../data/train-agg-cut.csv')\n",
    "df_tst = pd.read_csv('../data/test-agg-cut.csv')\n",
    "df_sbm = pd.read_csv('../data/sample_submission.csv')"
   ]
  },
  {
   "cell_type": "code",
   "execution_count": 52,
   "metadata": {},
   "outputs": [],
   "source": [
    "columns5 = [\n",
    "    'AmountPositive',                                                           #01\n",
    "#     'Value',                                                                    #02\n",
    "    'account_product_transactions__AmountPositive_global_sum',                  #03\n",
    "    'account_provider_transactions__AmountPositive_global_avg',                 #04\n",
    "#     'account_product_category_transactions__AmountPositive_global_sum',         #05\n",
    "#     'account_provider_transactions__Value_global_avg',                          #06\n",
    "#     'account_provider_transactions__AmountPositive_global_sum',                 #07\n",
    "#     'account_channel_transactions__AmountPositive_global_sum',                  #08\n",
    "#     'account_product_transactions__AmountPositive_global_avg',                  #09\n",
    "#     'account_transactions__AmountPositive_global_sum',                          #10\n",
    "#     'account_pricing_strategy_transactions__AmountPositive_global_sum',         #11\n",
    "#     'account_product_category_transactions__AmountPositive_global_avg',         #12\n",
    "    'account_product_transactions__AmountPositive_week_sum',                    #13\n",
    "#     'account_provider_transactions__AmountPositive_week_avg',                   #14\n",
    "#     'account_pricing_strategy_transactions__AmountPositive_global_avg',         #15\n",
    "#     'account_product_transactions__Value_global_avg',                           #16\n",
    "#     'account_product_category_transactions__Value_global_avg',                  #17\n",
    "    'account_channel_transactions__AmountPositive_global_avg',                  #18\n",
    "#     'account_transactions__AmountPositive_global_avg',                          #19\n",
    "#     'account_provider_transactions__AmountPositive_week_sum'                    #20\n",
    "]"
   ]
  },
  {
   "cell_type": "code",
   "execution_count": 53,
   "metadata": {},
   "outputs": [],
   "source": [
    "X_trn = df_trn[columns5]\n",
    "y_trn = df_trn['FraudResult']\n",
    "\n",
    "X_tst = df_tst[columns5]"
   ]
  },
  {
   "cell_type": "code",
   "execution_count": 54,
   "metadata": {},
   "outputs": [
    {
     "data": {
      "text/html": [
       "<div>\n",
       "<style scoped>\n",
       "    .dataframe tbody tr th:only-of-type {\n",
       "        vertical-align: middle;\n",
       "    }\n",
       "\n",
       "    .dataframe tbody tr th {\n",
       "        vertical-align: top;\n",
       "    }\n",
       "\n",
       "    .dataframe thead th {\n",
       "        text-align: right;\n",
       "    }\n",
       "</style>\n",
       "<table border=\"1\" class=\"dataframe\">\n",
       "  <thead>\n",
       "    <tr style=\"text-align: right;\">\n",
       "      <th></th>\n",
       "      <th>AmountPositive</th>\n",
       "      <th>account_product_transactions__AmountPositive_global_sum</th>\n",
       "      <th>account_provider_transactions__AmountPositive_global_avg</th>\n",
       "      <th>account_product_transactions__AmountPositive_week_sum</th>\n",
       "      <th>account_channel_transactions__AmountPositive_global_avg</th>\n",
       "    </tr>\n",
       "  </thead>\n",
       "  <tbody>\n",
       "    <tr>\n",
       "      <th>0</th>\n",
       "      <td>1000.0</td>\n",
       "      <td>0.0</td>\n",
       "      <td>0.0</td>\n",
       "      <td>0.0</td>\n",
       "      <td>0.0</td>\n",
       "    </tr>\n",
       "    <tr>\n",
       "      <th>1</th>\n",
       "      <td>0.0</td>\n",
       "      <td>0.0</td>\n",
       "      <td>0.0</td>\n",
       "      <td>0.0</td>\n",
       "      <td>0.0</td>\n",
       "    </tr>\n",
       "    <tr>\n",
       "      <th>2</th>\n",
       "      <td>500.0</td>\n",
       "      <td>0.0</td>\n",
       "      <td>0.0</td>\n",
       "      <td>0.0</td>\n",
       "      <td>0.0</td>\n",
       "    </tr>\n",
       "    <tr>\n",
       "      <th>3</th>\n",
       "      <td>20000.0</td>\n",
       "      <td>0.0</td>\n",
       "      <td>0.0</td>\n",
       "      <td>0.0</td>\n",
       "      <td>0.0</td>\n",
       "    </tr>\n",
       "    <tr>\n",
       "      <th>4</th>\n",
       "      <td>0.0</td>\n",
       "      <td>0.0</td>\n",
       "      <td>0.0</td>\n",
       "      <td>0.0</td>\n",
       "      <td>0.0</td>\n",
       "    </tr>\n",
       "  </tbody>\n",
       "</table>\n",
       "</div>"
      ],
      "text/plain": [
       "   AmountPositive  account_product_transactions__AmountPositive_global_sum  \\\n",
       "0          1000.0                                                0.0         \n",
       "1             0.0                                                0.0         \n",
       "2           500.0                                                0.0         \n",
       "3         20000.0                                                0.0         \n",
       "4             0.0                                                0.0         \n",
       "\n",
       "   account_provider_transactions__AmountPositive_global_avg  \\\n",
       "0                                                0.0          \n",
       "1                                                0.0          \n",
       "2                                                0.0          \n",
       "3                                                0.0          \n",
       "4                                                0.0          \n",
       "\n",
       "   account_product_transactions__AmountPositive_week_sum  \\\n",
       "0                                                0.0       \n",
       "1                                                0.0       \n",
       "2                                                0.0       \n",
       "3                                                0.0       \n",
       "4                                                0.0       \n",
       "\n",
       "   account_channel_transactions__AmountPositive_global_avg  \n",
       "0                                                0.0        \n",
       "1                                                0.0        \n",
       "2                                                0.0        \n",
       "3                                                0.0        \n",
       "4                                                0.0        "
      ]
     },
     "execution_count": 54,
     "metadata": {},
     "output_type": "execute_result"
    }
   ],
   "source": [
    "X_trn.head()"
   ]
  },
  {
   "cell_type": "code",
   "execution_count": 55,
   "metadata": {},
   "outputs": [
    {
     "name": "stdout",
     "output_type": "stream",
     "text": [
      "Feature ranking:\n",
      "  1.                 AmountPositive: 0.9076541431\n",
      "  2. account_product_transactions__AmountPositive_global_sum: 0.0434348625\n",
      "  3. account_channel_transactions__AmountPositive_global_avg: 0.0389385613\n",
      "  4. account_provider_transactions__AmountPositive_global_avg: 0.0092533725\n",
      "  5. account_product_transactions__AmountPositive_week_sum: 0.0007190605\n"
     ]
    }
   ],
   "source": [
    "dtc = dtc_fit()\n",
    "feature_importances_print(dtc)\n",
    "dtc_to_pdf(dtc, 'DecisionTree-top20chi2-005-features')"
   ]
  },
  {
   "cell_type": "code",
   "execution_count": 56,
   "metadata": {},
   "outputs": [
    {
     "name": "stdout",
     "output_type": "stream",
     "text": [
      "Counter({0: 44934, 1: 85})\n",
      "New result!\n"
     ]
    }
   ],
   "source": [
    "predict = dtc.predict(X_tst)\n",
    "df_sbm['FraudResult'] = predict\n",
    "print(Counter(df_sbm['FraudResult']))\n",
    "\n",
    "if not is_predict_exist(df_sbm):\n",
    "    print('New result!')\n",
    "    df_sbm.to_csv('../submitted/AlBo0816_DT_top20chi2_005.csv', encoding='utf-8', index=False)"
   ]
  },
  {
   "cell_type": "markdown",
   "metadata": {},
   "source": [
    "**Result:** `85   0.71875`"
   ]
  },
  {
   "cell_type": "markdown",
   "metadata": {},
   "source": [
    "### Применим Random Forest"
   ]
  },
  {
   "cell_type": "code",
   "execution_count": 57,
   "metadata": {},
   "outputs": [],
   "source": [
    "from sklearn.ensemble import RandomForestClassifier"
   ]
  },
  {
   "cell_type": "code",
   "execution_count": 58,
   "metadata": {},
   "outputs": [],
   "source": [
    "rfc = RandomForestClassifier(n_estimators=10, max_depth=5, random_state=24)"
   ]
  },
  {
   "cell_type": "code",
   "execution_count": 59,
   "metadata": {},
   "outputs": [
    {
     "data": {
      "text/plain": [
       "RandomForestClassifier(bootstrap=True, class_weight=None, criterion='gini',\n",
       "                       max_depth=5, max_features='auto', max_leaf_nodes=None,\n",
       "                       min_impurity_decrease=0.0, min_impurity_split=None,\n",
       "                       min_samples_leaf=1, min_samples_split=2,\n",
       "                       min_weight_fraction_leaf=0.0, n_estimators=10,\n",
       "                       n_jobs=None, oob_score=False, random_state=24, verbose=0,\n",
       "                       warm_start=False)"
      ]
     },
     "execution_count": 59,
     "metadata": {},
     "output_type": "execute_result"
    }
   ],
   "source": [
    "rfc.fit(X_trn, y_trn)"
   ]
  },
  {
   "cell_type": "code",
   "execution_count": 61,
   "metadata": {},
   "outputs": [
    {
     "name": "stdout",
     "output_type": "stream",
     "text": [
      "Counter({0: 44952, 1: 67})\n",
      "New result!\n"
     ]
    }
   ],
   "source": [
    "predict = rfc.predict(X_tst)\n",
    "df_sbm['FraudResult'] = predict\n",
    "print(Counter(df_sbm['FraudResult']))\n",
    "\n",
    "if not is_predict_exist(df_sbm):\n",
    "    print('New result!')\n",
    "    df_sbm.to_csv('../submitted/AlBo0816_RF_top20_005.csv', encoding='utf-8', index=False)"
   ]
  },
  {
   "cell_type": "markdown",
   "metadata": {},
   "source": [
    "**Result:** `67   0.727272727272727`"
   ]
  },
  {
   "cell_type": "code",
   "execution_count": 62,
   "metadata": {},
   "outputs": [
    {
     "data": {
      "text/plain": [
       "0.9996550354372687"
      ]
     },
     "execution_count": 62,
     "metadata": {},
     "output_type": "execute_result"
    }
   ],
   "source": [
    "rfc.score(X_trn, y_trn)"
   ]
  },
  {
   "cell_type": "code",
   "execution_count": 63,
   "metadata": {},
   "outputs": [
    {
     "data": {
      "text/plain": [
       "[DecisionTreeClassifier(class_weight=None, criterion='gini', max_depth=5,\n",
       "                        max_features='auto', max_leaf_nodes=None,\n",
       "                        min_impurity_decrease=0.0, min_impurity_split=None,\n",
       "                        min_samples_leaf=1, min_samples_split=2,\n",
       "                        min_weight_fraction_leaf=0.0, presort=False,\n",
       "                        random_state=1975759266, splitter='best'),\n",
       " DecisionTreeClassifier(class_weight=None, criterion='gini', max_depth=5,\n",
       "                        max_features='auto', max_leaf_nodes=None,\n",
       "                        min_impurity_decrease=0.0, min_impurity_split=None,\n",
       "                        min_samples_leaf=1, min_samples_split=2,\n",
       "                        min_weight_fraction_leaf=0.0, presort=False,\n",
       "                        random_state=1264583555, splitter='best'),\n",
       " DecisionTreeClassifier(class_weight=None, criterion='gini', max_depth=5,\n",
       "                        max_features='auto', max_leaf_nodes=None,\n",
       "                        min_impurity_decrease=0.0, min_impurity_split=None,\n",
       "                        min_samples_leaf=1, min_samples_split=2,\n",
       "                        min_weight_fraction_leaf=0.0, presort=False,\n",
       "                        random_state=856897728, splitter='best'),\n",
       " DecisionTreeClassifier(class_weight=None, criterion='gini', max_depth=5,\n",
       "                        max_features='auto', max_leaf_nodes=None,\n",
       "                        min_impurity_decrease=0.0, min_impurity_split=None,\n",
       "                        min_samples_leaf=1, min_samples_split=2,\n",
       "                        min_weight_fraction_leaf=0.0, presort=False,\n",
       "                        random_state=227008855, splitter='best'),\n",
       " DecisionTreeClassifier(class_weight=None, criterion='gini', max_depth=5,\n",
       "                        max_features='auto', max_leaf_nodes=None,\n",
       "                        min_impurity_decrease=0.0, min_impurity_split=None,\n",
       "                        min_samples_leaf=1, min_samples_split=2,\n",
       "                        min_weight_fraction_leaf=0.0, presort=False,\n",
       "                        random_state=2146913681, splitter='best'),\n",
       " DecisionTreeClassifier(class_weight=None, criterion='gini', max_depth=5,\n",
       "                        max_features='auto', max_leaf_nodes=None,\n",
       "                        min_impurity_decrease=0.0, min_impurity_split=None,\n",
       "                        min_samples_leaf=1, min_samples_split=2,\n",
       "                        min_weight_fraction_leaf=0.0, presort=False,\n",
       "                        random_state=1363601553, splitter='best'),\n",
       " DecisionTreeClassifier(class_weight=None, criterion='gini', max_depth=5,\n",
       "                        max_features='auto', max_leaf_nodes=None,\n",
       "                        min_impurity_decrease=0.0, min_impurity_split=None,\n",
       "                        min_samples_leaf=1, min_samples_split=2,\n",
       "                        min_weight_fraction_leaf=0.0, presort=False,\n",
       "                        random_state=945181825, splitter='best'),\n",
       " DecisionTreeClassifier(class_weight=None, criterion='gini', max_depth=5,\n",
       "                        max_features='auto', max_leaf_nodes=None,\n",
       "                        min_impurity_decrease=0.0, min_impurity_split=None,\n",
       "                        min_samples_leaf=1, min_samples_split=2,\n",
       "                        min_weight_fraction_leaf=0.0, presort=False,\n",
       "                        random_state=2078546276, splitter='best'),\n",
       " DecisionTreeClassifier(class_weight=None, criterion='gini', max_depth=5,\n",
       "                        max_features='auto', max_leaf_nodes=None,\n",
       "                        min_impurity_decrease=0.0, min_impurity_split=None,\n",
       "                        min_samples_leaf=1, min_samples_split=2,\n",
       "                        min_weight_fraction_leaf=0.0, presort=False,\n",
       "                        random_state=1550725243, splitter='best'),\n",
       " DecisionTreeClassifier(class_weight=None, criterion='gini', max_depth=5,\n",
       "                        max_features='auto', max_leaf_nodes=None,\n",
       "                        min_impurity_decrease=0.0, min_impurity_split=None,\n",
       "                        min_samples_leaf=1, min_samples_split=2,\n",
       "                        min_weight_fraction_leaf=0.0, presort=False,\n",
       "                        random_state=38739151, splitter='best')]"
      ]
     },
     "execution_count": 63,
     "metadata": {},
     "output_type": "execute_result"
    }
   ],
   "source": [
    "rfc.estimators_"
   ]
  },
  {
   "cell_type": "code",
   "execution_count": 64,
   "metadata": {},
   "outputs": [],
   "source": [
    "rfc_00 = DecisionTreeClassifier(class_weight=None, criterion='gini', max_depth=5,\n",
    "                        max_features='auto', max_leaf_nodes=None,\n",
    "                        min_impurity_decrease=0.0, min_impurity_split=None,\n",
    "                        min_samples_leaf=1, min_samples_split=2,\n",
    "                        min_weight_fraction_leaf=0.0, presort=False,\n",
    "                        random_state=1975759266, splitter='best')"
   ]
  },
  {
   "cell_type": "code",
   "execution_count": 66,
   "metadata": {},
   "outputs": [],
   "source": [
    "rfc_00_fit = rfc_00.fit(X_trn, y_trn)\n",
    "dtc_to_pdf(rfc_00_fit, 'DecisionTree-rfc-00')"
   ]
  },
  {
   "cell_type": "markdown",
   "metadata": {},
   "source": [
    "### другие настройки Random Forest"
   ]
  },
  {
   "cell_type": "code",
   "execution_count": 75,
   "metadata": {},
   "outputs": [],
   "source": [
    "rfc = RandomForestClassifier(\n",
    "    n_estimators=200,                  # default=10\n",
    "    criterion='gini', \n",
    "    max_depth=None,\n",
    "    min_samples_split=2,\n",
    "    min_samples_leaf=1,\n",
    "    min_weight_fraction_leaf=0.0,\n",
    "    max_features=None,                 # default=”auto”\n",
    "    max_leaf_nodes=None,\n",
    "    min_impurity_decrease=0.0,\n",
    "#     min_impurity_split=1e-7,\n",
    "    bootstrap=True,\n",
    "    oob_score=True,                    # default=False\n",
    "    n_jobs=-1,                         # default=None    \n",
    "    random_state=24,                   # default=None\n",
    "    verbose=1,                         # default=0\n",
    "    warm_start=False,\n",
    "    class_weight='balanced_subsample'  # default=None\n",
    ")"
   ]
  },
  {
   "cell_type": "code",
   "execution_count": 76,
   "metadata": {},
   "outputs": [
    {
     "name": "stderr",
     "output_type": "stream",
     "text": [
      "[Parallel(n_jobs=-1)]: Using backend ThreadingBackend with 6 concurrent workers.\n",
      "[Parallel(n_jobs=-1)]: Done  38 tasks      | elapsed:    0.7s\n",
      "[Parallel(n_jobs=-1)]: Done 188 tasks      | elapsed:    3.0s\n",
      "[Parallel(n_jobs=-1)]: Done 200 out of 200 | elapsed:    3.2s finished\n"
     ]
    },
    {
     "data": {
      "text/plain": [
       "RandomForestClassifier(bootstrap=True, class_weight='balanced_subsample',\n",
       "                       criterion='gini', max_depth=None, max_features=None,\n",
       "                       max_leaf_nodes=None, min_impurity_decrease=0.0,\n",
       "                       min_impurity_split=None, min_samples_leaf=1,\n",
       "                       min_samples_split=2, min_weight_fraction_leaf=0.0,\n",
       "                       n_estimators=200, n_jobs=-1, oob_score=True,\n",
       "                       random_state=24, verbose=1, warm_start=False)"
      ]
     },
     "execution_count": 76,
     "metadata": {},
     "output_type": "execute_result"
    }
   ],
   "source": [
    "rfc.fit(X_trn, y_trn)"
   ]
  },
  {
   "cell_type": "code",
   "execution_count": 81,
   "metadata": {},
   "outputs": [
    {
     "data": {
      "text/plain": [
       "array([0.96119242, 0.00651088, 0.01263442, 0.00096702, 0.01869525])"
      ]
     },
     "execution_count": 81,
     "metadata": {},
     "output_type": "execute_result"
    }
   ],
   "source": [
    "rfc.feature_importances_"
   ]
  },
  {
   "cell_type": "code",
   "execution_count": 82,
   "metadata": {},
   "outputs": [
    {
     "data": {
      "text/plain": [
       "0.9994459660053103"
      ]
     },
     "execution_count": 82,
     "metadata": {},
     "output_type": "execute_result"
    }
   ],
   "source": [
    "rfc.oob_score_"
   ]
  },
  {
   "cell_type": "code",
   "execution_count": 83,
   "metadata": {},
   "outputs": [
    {
     "name": "stderr",
     "output_type": "stream",
     "text": [
      "[Parallel(n_jobs=6)]: Using backend ThreadingBackend with 6 concurrent workers.\n",
      "[Parallel(n_jobs=6)]: Done  38 tasks      | elapsed:    0.0s\n",
      "[Parallel(n_jobs=6)]: Done 188 tasks      | elapsed:    0.1s\n",
      "[Parallel(n_jobs=6)]: Done 200 out of 200 | elapsed:    0.1s finished\n"
     ]
    },
    {
     "name": "stdout",
     "output_type": "stream",
     "text": [
      "Counter({0: 44944, 1: 75})\n",
      "New result!\n"
     ]
    }
   ],
   "source": [
    "predict = rfc.predict(X_tst)\n",
    "df_sbm['FraudResult'] = predict\n",
    "print(Counter(df_sbm['FraudResult']))\n",
    "\n",
    "if not is_predict_exist(df_sbm):\n",
    "    print('New result!')\n",
    "    df_sbm.to_csv('../submitted/AlBo0819_RF_top20_005_v2.csv', encoding='utf-8', index=False)"
   ]
  },
  {
   "cell_type": "markdown",
   "metadata": {},
   "source": [
    "**Result:** `75  0.754098360655738`"
   ]
  },
  {
   "cell_type": "markdown",
   "metadata": {},
   "source": [
    "### Grid Search Parameters for Random Forest"
   ]
  },
  {
   "cell_type": "code",
   "execution_count": 86,
   "metadata": {},
   "outputs": [],
   "source": [
    "from sklearn.model_selection import GridSearchCV"
   ]
  },
  {
   "cell_type": "code",
   "execution_count": 87,
   "metadata": {},
   "outputs": [],
   "source": [
    "# Create the parameter grid based on the results of random search \n",
    "param_grid = {\n",
    "    'n_estimators': [10, 20, 40, 80, 100, 200, 400, 1000],\n",
    "    'criterion'   : ['gini', 'entropy'],\n",
    "    'max_depth'   : [4, 6, 8, 10, 12, None],\n",
    "    'max_features': ['auto', None],   \n",
    "    'bootstrap'   : [True, False],\n",
    "    'class_weight': ['balanced', 'balanced_subsample', None]\n",
    "}"
   ]
  },
  {
   "cell_type": "code",
   "execution_count": 88,
   "metadata": {},
   "outputs": [],
   "source": [
    "# Create a based model\n",
    "rfc = RandomForestClassifier(n_jobs=-1)"
   ]
  },
  {
   "cell_type": "code",
   "execution_count": 90,
   "metadata": {},
   "outputs": [],
   "source": [
    "# Instantiate the grid search model\n",
    "grid_search = GridSearchCV(\n",
    "    estimator = rfc,\n",
    "    param_grid = param_grid,\n",
    "    cv = 3,\n",
    "    n_jobs = -1,\n",
    "    verbose = 2\n",
    ")"
   ]
  },
  {
   "cell_type": "code",
   "execution_count": 92,
   "metadata": {},
   "outputs": [
    {
     "name": "stdout",
     "output_type": "stream",
     "text": [
      "Fitting 3 folds for each of 1152 candidates, totalling 3456 fits\n"
     ]
    },
    {
     "name": "stderr",
     "output_type": "stream",
     "text": [
      "[Parallel(n_jobs=-1)]: Using backend LokyBackend with 6 concurrent workers.\n",
      "[Parallel(n_jobs=-1)]: Done  29 tasks      | elapsed:   13.0s\n",
      "[Parallel(n_jobs=-1)]: Done 150 tasks      | elapsed:  1.9min\n",
      "[Parallel(n_jobs=-1)]: Done 353 tasks      | elapsed:  4.9min\n",
      "[Parallel(n_jobs=-1)]: Done 636 tasks      | elapsed:  9.8min\n",
      "[Parallel(n_jobs=-1)]: Done 1001 tasks      | elapsed: 17.6min\n",
      "[Parallel(n_jobs=-1)]: Done 1446 tasks      | elapsed: 26.4min\n",
      "[Parallel(n_jobs=-1)]: Done 1973 tasks      | elapsed: 36.7min\n",
      "[Parallel(n_jobs=-1)]: Done 2580 tasks      | elapsed: 49.7min\n",
      "[Parallel(n_jobs=-1)]: Done 3269 tasks      | elapsed: 66.4min\n",
      "[Parallel(n_jobs=-1)]: Done 3456 out of 3456 | elapsed: 71.7min finished\n"
     ]
    },
    {
     "data": {
      "text/plain": [
       "GridSearchCV(cv=3, error_score='raise-deprecating',\n",
       "             estimator=RandomForestClassifier(bootstrap=True, class_weight=None,\n",
       "                                              criterion='gini', max_depth=None,\n",
       "                                              max_features='auto',\n",
       "                                              max_leaf_nodes=None,\n",
       "                                              min_impurity_decrease=0.0,\n",
       "                                              min_impurity_split=None,\n",
       "                                              min_samples_leaf=1,\n",
       "                                              min_samples_split=2,\n",
       "                                              min_weight_fraction_leaf=0.0,\n",
       "                                              n_estimators='warn', n_jobs=-1,\n",
       "                                              oob_score=Fals...\n",
       "                                              warm_start=False),\n",
       "             iid='warn', n_jobs=-1,\n",
       "             param_grid={'bootstrap': [True, False],\n",
       "                         'class_weight': ['balanced', 'balanced_subsample',\n",
       "                                          None],\n",
       "                         'criterion': ['gini', 'entropy'],\n",
       "                         'max_depth': [4, 6, 8, 10, 12, None],\n",
       "                         'max_features': ['auto', None],\n",
       "                         'n_estimators': [10, 20, 40, 80, 100, 200, 400, 1000]},\n",
       "             pre_dispatch='2*n_jobs', refit=True, return_train_score=False,\n",
       "             scoring=None, verbose=2)"
      ]
     },
     "execution_count": 92,
     "metadata": {},
     "output_type": "execute_result"
    }
   ],
   "source": [
    "# Fit the grid search to the data\n",
    "grid_search.fit(X_trn, y_trn)"
   ]
  },
  {
   "cell_type": "code",
   "execution_count": 93,
   "metadata": {},
   "outputs": [
    {
     "data": {
      "text/plain": [
       "{'bootstrap': False,\n",
       " 'class_weight': None,\n",
       " 'criterion': 'entropy',\n",
       " 'max_depth': 4,\n",
       " 'max_features': None,\n",
       " 'n_estimators': 10}"
      ]
     },
     "execution_count": 93,
     "metadata": {},
     "output_type": "execute_result"
    }
   ],
   "source": [
    "grid_search.best_params_"
   ]
  },
  {
   "cell_type": "markdown",
   "metadata": {},
   "source": [
    "**Fine Tuning Grid Search**"
   ]
  },
  {
   "cell_type": "code",
   "execution_count": 94,
   "metadata": {},
   "outputs": [],
   "source": [
    "# Create the parameter grid based on the results of random search \n",
    "param_grid_fine = {\n",
    "    'n_estimators': [6, 8, 10, 12, 14],\n",
    "    'criterion'   : ['gini', 'entropy'],\n",
    "    'max_depth'   : [2, 3, 4, 5],\n",
    "    'class_weight': ['balanced', 'balanced_subsample', None]\n",
    "}"
   ]
  },
  {
   "cell_type": "code",
   "execution_count": 96,
   "metadata": {},
   "outputs": [],
   "source": [
    "# Create a based model\n",
    "rfc_fine = RandomForestClassifier(bootstrap=False, max_features=None, n_jobs=-1)"
   ]
  },
  {
   "cell_type": "code",
   "execution_count": 98,
   "metadata": {},
   "outputs": [],
   "source": [
    "# Instantiate the grid search model\n",
    "grid_search_fine = GridSearchCV(\n",
    "    estimator = rfc_fine,\n",
    "    param_grid = param_grid_fine,\n",
    "    cv = 3,\n",
    "    n_jobs = -1,\n",
    "    verbose = 2\n",
    ")"
   ]
  },
  {
   "cell_type": "code",
   "execution_count": 99,
   "metadata": {},
   "outputs": [
    {
     "name": "stdout",
     "output_type": "stream",
     "text": [
      "Fitting 3 folds for each of 120 candidates, totalling 360 fits\n"
     ]
    },
    {
     "name": "stderr",
     "output_type": "stream",
     "text": [
      "[Parallel(n_jobs=-1)]: Using backend LokyBackend with 6 concurrent workers.\n",
      "[Parallel(n_jobs=-1)]: Done  29 tasks      | elapsed:    2.8s\n",
      "[Parallel(n_jobs=-1)]: Done 150 tasks      | elapsed:   11.2s\n",
      "[Parallel(n_jobs=-1)]: Done 360 out of 360 | elapsed:   27.1s finished\n"
     ]
    },
    {
     "data": {
      "text/plain": [
       "GridSearchCV(cv=3, error_score='raise-deprecating',\n",
       "             estimator=RandomForestClassifier(bootstrap=False,\n",
       "                                              class_weight=None,\n",
       "                                              criterion='gini', max_depth=None,\n",
       "                                              max_features=None,\n",
       "                                              max_leaf_nodes=None,\n",
       "                                              min_impurity_decrease=0.0,\n",
       "                                              min_impurity_split=None,\n",
       "                                              min_samples_leaf=1,\n",
       "                                              min_samples_split=2,\n",
       "                                              min_weight_fraction_leaf=0.0,\n",
       "                                              n_estimators='warn', n_jobs=-1,\n",
       "                                              oob_score=False,\n",
       "                                              random_state=None, verbose=0,\n",
       "                                              warm_start=False),\n",
       "             iid='warn', n_jobs=-1,\n",
       "             param_grid={'class_weight': ['balanced', 'balanced_subsample',\n",
       "                                          None],\n",
       "                         'criterion': ['gini', 'entropy'],\n",
       "                         'max_depth': [2, 3, 4, 5],\n",
       "                         'n_estimators': [6, 8, 10, 12, 14]},\n",
       "             pre_dispatch='2*n_jobs', refit=True, return_train_score=False,\n",
       "             scoring=None, verbose=2)"
      ]
     },
     "execution_count": 99,
     "metadata": {},
     "output_type": "execute_result"
    }
   ],
   "source": [
    "# Fit the grid search to the data\n",
    "grid_search_fine.fit(X_trn, y_trn)"
   ]
  },
  {
   "cell_type": "code",
   "execution_count": 101,
   "metadata": {},
   "outputs": [
    {
     "data": {
      "text/plain": [
       "{'class_weight': None,\n",
       " 'criterion': 'entropy',\n",
       " 'max_depth': 3,\n",
       " 'n_estimators': 6}"
      ]
     },
     "execution_count": 101,
     "metadata": {},
     "output_type": "execute_result"
    }
   ],
   "source": [
    "grid_search_fine.best_params_"
   ]
  },
  {
   "cell_type": "code",
   "execution_count": 104,
   "metadata": {},
   "outputs": [],
   "source": [
    "rfc_final = RandomForestClassifier(\n",
    "    n_estimators=6,\n",
    "    criterion='entropy',\n",
    "    max_depth=3,\n",
    "    max_features=None,\n",
    "    bootstrap=False,\n",
    "#     oob_score=True,\n",
    "    n_jobs=-1,\n",
    "    random_state=24,\n",
    "    verbose=2,\n",
    "    class_weight=None\n",
    ")"
   ]
  },
  {
   "cell_type": "code",
   "execution_count": 105,
   "metadata": {},
   "outputs": [
    {
     "name": "stderr",
     "output_type": "stream",
     "text": [
      "[Parallel(n_jobs=-1)]: Using backend ThreadingBackend with 6 concurrent workers.\n",
      "[Parallel(n_jobs=-1)]: Done   3 out of   6 | elapsed:    0.1s remaining:    0.1s\n",
      "[Parallel(n_jobs=-1)]: Done   6 out of   6 | elapsed:    0.1s finished\n"
     ]
    },
    {
     "name": "stdout",
     "output_type": "stream",
     "text": [
      "building tree 1 of 6\n",
      "building tree 2 of 6\n",
      "building tree 3 of 6building tree 4 of 6\n",
      "building tree 5 of 6building tree 6 of 6\n",
      "\n",
      "\n"
     ]
    },
    {
     "data": {
      "text/plain": [
       "RandomForestClassifier(bootstrap=False, class_weight=None, criterion='entropy',\n",
       "                       max_depth=3, max_features=None, max_leaf_nodes=None,\n",
       "                       min_impurity_decrease=0.0, min_impurity_split=None,\n",
       "                       min_samples_leaf=1, min_samples_split=2,\n",
       "                       min_weight_fraction_leaf=0.0, n_estimators=6, n_jobs=-1,\n",
       "                       oob_score=False, random_state=24, verbose=2,\n",
       "                       warm_start=False)"
      ]
     },
     "execution_count": 105,
     "metadata": {},
     "output_type": "execute_result"
    }
   ],
   "source": [
    "rfc_final.fit(X_trn, y_trn)"
   ]
  },
  {
   "cell_type": "code",
   "execution_count": 106,
   "metadata": {},
   "outputs": [
    {
     "data": {
      "text/plain": [
       "array([9.84534785e-01, 4.18999518e-03, 8.91985767e-04, 0.00000000e+00,\n",
       "       1.03832342e-02])"
      ]
     },
     "execution_count": 106,
     "metadata": {},
     "output_type": "execute_result"
    }
   ],
   "source": [
    "rfc_final.feature_importances_"
   ]
  },
  {
   "cell_type": "code",
   "execution_count": 109,
   "metadata": {},
   "outputs": [
    {
     "data": {
      "text/plain": [
       "False"
      ]
     },
     "execution_count": 109,
     "metadata": {},
     "output_type": "execute_result"
    }
   ],
   "source": [
    "rfc_final.oob_score"
   ]
  },
  {
   "cell_type": "code",
   "execution_count": 111,
   "metadata": {},
   "outputs": [
    {
     "name": "stderr",
     "output_type": "stream",
     "text": [
      "[Parallel(n_jobs=6)]: Using backend ThreadingBackend with 6 concurrent workers.\n",
      "[Parallel(n_jobs=6)]: Done   3 out of   6 | elapsed:    0.0s remaining:    0.0s\n",
      "[Parallel(n_jobs=6)]: Done   6 out of   6 | elapsed:    0.0s finished\n"
     ]
    },
    {
     "name": "stdout",
     "output_type": "stream",
     "text": [
      "Counter({0: 44966, 1: 53})\n",
      "New result!\n"
     ]
    }
   ],
   "source": [
    "predict = rfc_final.predict(X_tst)\n",
    "df_sbm['FraudResult'] = predict\n",
    "print(Counter(df_sbm['FraudResult']))\n",
    "\n",
    "if not is_predict_exist(df_sbm):\n",
    "    print('New result!')\n",
    "    df_sbm.to_csv('../submitted/AlBo0819_RF_top20_005_v3.csv', encoding='utf-8', index=False)"
   ]
  },
  {
   "cell_type": "markdown",
   "metadata": {},
   "source": [
    "**Result:** `53  0.612244897959184` "
   ]
  },
  {
   "cell_type": "markdown",
   "metadata": {},
   "source": [
    "## 18 first of the top20 $\\chi^2$"
   ]
  },
  {
   "cell_type": "code",
   "execution_count": 112,
   "metadata": {},
   "outputs": [],
   "source": [
    "columns18 = [\n",
    "    'AmountPositive',                                                           #01\n",
    "    'Value',                                                                    #02\n",
    "    'account_product_transactions__AmountPositive_global_sum',                  #03\n",
    "    'account_provider_transactions__AmountPositive_global_avg',                 #04\n",
    "    'account_product_category_transactions__AmountPositive_global_sum',         #05\n",
    "    'account_provider_transactions__Value_global_avg',                          #06\n",
    "    'account_provider_transactions__AmountPositive_global_sum',                 #07\n",
    "    'account_channel_transactions__AmountPositive_global_sum',                  #08\n",
    "    'account_product_transactions__AmountPositive_global_avg',                  #09\n",
    "    'account_transactions__AmountPositive_global_sum',                          #10\n",
    "    'account_pricing_strategy_transactions__AmountPositive_global_sum',         #11\n",
    "    'account_product_category_transactions__AmountPositive_global_avg',         #12\n",
    "    'account_product_transactions__AmountPositive_week_sum',                    #13\n",
    "    'account_provider_transactions__AmountPositive_week_avg',                   #14\n",
    "    'account_pricing_strategy_transactions__AmountPositive_global_avg',         #15\n",
    "    'account_product_transactions__Value_global_avg',                           #16\n",
    "    'account_product_category_transactions__Value_global_avg',                  #17\n",
    "    'account_channel_transactions__AmountPositive_global_avg',                  #18\n",
    "#     'account_transactions__AmountPositive_global_avg',                          #19\n",
    "#     'account_provider_transactions__AmountPositive_week_sum'                    #20\n",
    "]"
   ]
  },
  {
   "cell_type": "code",
   "execution_count": 113,
   "metadata": {},
   "outputs": [],
   "source": [
    "X_trn = df_trn[columns18]\n",
    "y_trn = df_trn['FraudResult']\n",
    "\n",
    "X_tst = df_tst[columns18]"
   ]
  },
  {
   "cell_type": "code",
   "execution_count": 114,
   "metadata": {},
   "outputs": [
    {
     "data": {
      "text/html": [
       "<div>\n",
       "<style scoped>\n",
       "    .dataframe tbody tr th:only-of-type {\n",
       "        vertical-align: middle;\n",
       "    }\n",
       "\n",
       "    .dataframe tbody tr th {\n",
       "        vertical-align: top;\n",
       "    }\n",
       "\n",
       "    .dataframe thead th {\n",
       "        text-align: right;\n",
       "    }\n",
       "</style>\n",
       "<table border=\"1\" class=\"dataframe\">\n",
       "  <thead>\n",
       "    <tr style=\"text-align: right;\">\n",
       "      <th></th>\n",
       "      <th>AmountPositive</th>\n",
       "      <th>Value</th>\n",
       "      <th>account_product_transactions__AmountPositive_global_sum</th>\n",
       "      <th>account_provider_transactions__AmountPositive_global_avg</th>\n",
       "      <th>account_product_category_transactions__AmountPositive_global_sum</th>\n",
       "      <th>account_provider_transactions__Value_global_avg</th>\n",
       "      <th>account_provider_transactions__AmountPositive_global_sum</th>\n",
       "      <th>account_channel_transactions__AmountPositive_global_sum</th>\n",
       "      <th>account_product_transactions__AmountPositive_global_avg</th>\n",
       "      <th>account_transactions__AmountPositive_global_sum</th>\n",
       "      <th>account_pricing_strategy_transactions__AmountPositive_global_sum</th>\n",
       "      <th>account_product_category_transactions__AmountPositive_global_avg</th>\n",
       "      <th>account_product_transactions__AmountPositive_week_sum</th>\n",
       "      <th>account_provider_transactions__AmountPositive_week_avg</th>\n",
       "      <th>account_pricing_strategy_transactions__AmountPositive_global_avg</th>\n",
       "      <th>account_product_transactions__Value_global_avg</th>\n",
       "      <th>account_product_category_transactions__Value_global_avg</th>\n",
       "      <th>account_channel_transactions__AmountPositive_global_avg</th>\n",
       "    </tr>\n",
       "  </thead>\n",
       "  <tbody>\n",
       "    <tr>\n",
       "      <th>0</th>\n",
       "      <td>1000.0</td>\n",
       "      <td>1000</td>\n",
       "      <td>0.0</td>\n",
       "      <td>0.0</td>\n",
       "      <td>0.0</td>\n",
       "      <td>0.0</td>\n",
       "      <td>0.0</td>\n",
       "      <td>0.0</td>\n",
       "      <td>0.0</td>\n",
       "      <td>0.0</td>\n",
       "      <td>0.0</td>\n",
       "      <td>0.0</td>\n",
       "      <td>0.0</td>\n",
       "      <td>0.0</td>\n",
       "      <td>0.0</td>\n",
       "      <td>0.0</td>\n",
       "      <td>0.0</td>\n",
       "      <td>0.0</td>\n",
       "    </tr>\n",
       "    <tr>\n",
       "      <th>1</th>\n",
       "      <td>0.0</td>\n",
       "      <td>20</td>\n",
       "      <td>0.0</td>\n",
       "      <td>0.0</td>\n",
       "      <td>0.0</td>\n",
       "      <td>0.0</td>\n",
       "      <td>0.0</td>\n",
       "      <td>0.0</td>\n",
       "      <td>0.0</td>\n",
       "      <td>0.0</td>\n",
       "      <td>0.0</td>\n",
       "      <td>0.0</td>\n",
       "      <td>0.0</td>\n",
       "      <td>0.0</td>\n",
       "      <td>0.0</td>\n",
       "      <td>0.0</td>\n",
       "      <td>0.0</td>\n",
       "      <td>0.0</td>\n",
       "    </tr>\n",
       "    <tr>\n",
       "      <th>2</th>\n",
       "      <td>500.0</td>\n",
       "      <td>500</td>\n",
       "      <td>0.0</td>\n",
       "      <td>0.0</td>\n",
       "      <td>0.0</td>\n",
       "      <td>0.0</td>\n",
       "      <td>0.0</td>\n",
       "      <td>0.0</td>\n",
       "      <td>0.0</td>\n",
       "      <td>0.0</td>\n",
       "      <td>0.0</td>\n",
       "      <td>0.0</td>\n",
       "      <td>0.0</td>\n",
       "      <td>0.0</td>\n",
       "      <td>0.0</td>\n",
       "      <td>0.0</td>\n",
       "      <td>0.0</td>\n",
       "      <td>0.0</td>\n",
       "    </tr>\n",
       "    <tr>\n",
       "      <th>3</th>\n",
       "      <td>20000.0</td>\n",
       "      <td>21800</td>\n",
       "      <td>0.0</td>\n",
       "      <td>0.0</td>\n",
       "      <td>0.0</td>\n",
       "      <td>0.0</td>\n",
       "      <td>0.0</td>\n",
       "      <td>0.0</td>\n",
       "      <td>0.0</td>\n",
       "      <td>0.0</td>\n",
       "      <td>0.0</td>\n",
       "      <td>0.0</td>\n",
       "      <td>0.0</td>\n",
       "      <td>0.0</td>\n",
       "      <td>0.0</td>\n",
       "      <td>0.0</td>\n",
       "      <td>0.0</td>\n",
       "      <td>0.0</td>\n",
       "    </tr>\n",
       "    <tr>\n",
       "      <th>4</th>\n",
       "      <td>0.0</td>\n",
       "      <td>644</td>\n",
       "      <td>0.0</td>\n",
       "      <td>0.0</td>\n",
       "      <td>0.0</td>\n",
       "      <td>20.0</td>\n",
       "      <td>0.0</td>\n",
       "      <td>0.0</td>\n",
       "      <td>0.0</td>\n",
       "      <td>0.0</td>\n",
       "      <td>0.0</td>\n",
       "      <td>0.0</td>\n",
       "      <td>0.0</td>\n",
       "      <td>0.0</td>\n",
       "      <td>0.0</td>\n",
       "      <td>20.0</td>\n",
       "      <td>20.0</td>\n",
       "      <td>0.0</td>\n",
       "    </tr>\n",
       "  </tbody>\n",
       "</table>\n",
       "</div>"
      ],
      "text/plain": [
       "   AmountPositive  Value  \\\n",
       "0          1000.0   1000   \n",
       "1             0.0     20   \n",
       "2           500.0    500   \n",
       "3         20000.0  21800   \n",
       "4             0.0    644   \n",
       "\n",
       "   account_product_transactions__AmountPositive_global_sum  \\\n",
       "0                                                0.0         \n",
       "1                                                0.0         \n",
       "2                                                0.0         \n",
       "3                                                0.0         \n",
       "4                                                0.0         \n",
       "\n",
       "   account_provider_transactions__AmountPositive_global_avg  \\\n",
       "0                                                0.0          \n",
       "1                                                0.0          \n",
       "2                                                0.0          \n",
       "3                                                0.0          \n",
       "4                                                0.0          \n",
       "\n",
       "   account_product_category_transactions__AmountPositive_global_sum  \\\n",
       "0                                                0.0                  \n",
       "1                                                0.0                  \n",
       "2                                                0.0                  \n",
       "3                                                0.0                  \n",
       "4                                                0.0                  \n",
       "\n",
       "   account_provider_transactions__Value_global_avg  \\\n",
       "0                                              0.0   \n",
       "1                                              0.0   \n",
       "2                                              0.0   \n",
       "3                                              0.0   \n",
       "4                                             20.0   \n",
       "\n",
       "   account_provider_transactions__AmountPositive_global_sum  \\\n",
       "0                                                0.0          \n",
       "1                                                0.0          \n",
       "2                                                0.0          \n",
       "3                                                0.0          \n",
       "4                                                0.0          \n",
       "\n",
       "   account_channel_transactions__AmountPositive_global_sum  \\\n",
       "0                                                0.0         \n",
       "1                                                0.0         \n",
       "2                                                0.0         \n",
       "3                                                0.0         \n",
       "4                                                0.0         \n",
       "\n",
       "   account_product_transactions__AmountPositive_global_avg  \\\n",
       "0                                                0.0         \n",
       "1                                                0.0         \n",
       "2                                                0.0         \n",
       "3                                                0.0         \n",
       "4                                                0.0         \n",
       "\n",
       "   account_transactions__AmountPositive_global_sum  \\\n",
       "0                                              0.0   \n",
       "1                                              0.0   \n",
       "2                                              0.0   \n",
       "3                                              0.0   \n",
       "4                                              0.0   \n",
       "\n",
       "   account_pricing_strategy_transactions__AmountPositive_global_sum  \\\n",
       "0                                                0.0                  \n",
       "1                                                0.0                  \n",
       "2                                                0.0                  \n",
       "3                                                0.0                  \n",
       "4                                                0.0                  \n",
       "\n",
       "   account_product_category_transactions__AmountPositive_global_avg  \\\n",
       "0                                                0.0                  \n",
       "1                                                0.0                  \n",
       "2                                                0.0                  \n",
       "3                                                0.0                  \n",
       "4                                                0.0                  \n",
       "\n",
       "   account_product_transactions__AmountPositive_week_sum  \\\n",
       "0                                                0.0       \n",
       "1                                                0.0       \n",
       "2                                                0.0       \n",
       "3                                                0.0       \n",
       "4                                                0.0       \n",
       "\n",
       "   account_provider_transactions__AmountPositive_week_avg  \\\n",
       "0                                                0.0        \n",
       "1                                                0.0        \n",
       "2                                                0.0        \n",
       "3                                                0.0        \n",
       "4                                                0.0        \n",
       "\n",
       "   account_pricing_strategy_transactions__AmountPositive_global_avg  \\\n",
       "0                                                0.0                  \n",
       "1                                                0.0                  \n",
       "2                                                0.0                  \n",
       "3                                                0.0                  \n",
       "4                                                0.0                  \n",
       "\n",
       "   account_product_transactions__Value_global_avg  \\\n",
       "0                                             0.0   \n",
       "1                                             0.0   \n",
       "2                                             0.0   \n",
       "3                                             0.0   \n",
       "4                                            20.0   \n",
       "\n",
       "   account_product_category_transactions__Value_global_avg  \\\n",
       "0                                                0.0         \n",
       "1                                                0.0         \n",
       "2                                                0.0         \n",
       "3                                                0.0         \n",
       "4                                               20.0         \n",
       "\n",
       "   account_channel_transactions__AmountPositive_global_avg  \n",
       "0                                                0.0        \n",
       "1                                                0.0        \n",
       "2                                                0.0        \n",
       "3                                                0.0        \n",
       "4                                                0.0        "
      ]
     },
     "execution_count": 114,
     "metadata": {},
     "output_type": "execute_result"
    }
   ],
   "source": [
    "X_trn.head()"
   ]
  },
  {
   "cell_type": "code",
   "execution_count": 115,
   "metadata": {},
   "outputs": [
    {
     "name": "stdout",
     "output_type": "stream",
     "text": [
      "Feature ranking:\n",
      "  1.                          Value: 0.8150912646\n",
      "  2.                 AmountPositive: 0.0871761807\n",
      "  3. account_product_transactions__AmountPositive_global_sum: 0.0194949620\n",
      "  4. account_provider_transactions__AmountPositive_global_sum: 0.0149319136\n",
      "  5. account_pricing_strategy_transactions__AmountPositive_global_avg: 0.0145743829\n",
      "  6. account_channel_transactions__AmountPositive_global_sum: 0.0113076112\n",
      "  7. account_pricing_strategy_transactions__AmountPositive_global_sum: 0.0090283276\n",
      "  8. account_provider_transactions__Value_global_avg: 0.0088210358\n",
      "  9. account_transactions__AmountPositive_global_sum: 0.0067833735\n",
      " 10. account_product_category_transactions__AmountPositive_global_avg: 0.0039824583\n",
      " 11. account_product_category_transactions__AmountPositive_global_sum: 0.0037278453\n",
      " 12. account_product_transactions__Value_global_avg: 0.0017027737\n",
      " 13. account_product_transactions__AmountPositive_global_avg: 0.0013848387\n",
      " 14. account_provider_transactions__AmountPositive_global_avg: 0.0012328421\n",
      " 15. account_channel_transactions__AmountPositive_global_avg: 0.0007601899\n"
     ]
    }
   ],
   "source": [
    "dtc = dtc_fit()\n",
    "feature_importances_print(dtc)\n",
    "dtc_to_pdf(dtc, 'DecisionTree-top20chi2-018-features')"
   ]
  },
  {
   "cell_type": "code",
   "execution_count": 116,
   "metadata": {},
   "outputs": [
    {
     "name": "stdout",
     "output_type": "stream",
     "text": [
      "Counter({0: 44942, 1: 77})\n",
      "New result!\n"
     ]
    }
   ],
   "source": [
    "predict = dtc.predict(X_tst)\n",
    "df_sbm['FraudResult'] = predict\n",
    "print(Counter(df_sbm['FraudResult']))\n",
    "\n",
    "if not is_predict_exist(df_sbm):\n",
    "    print('New result!')\n",
    "    df_sbm.to_csv('../submitted/AlBo0816_DT_top20chi2_018.csv', encoding='utf-8', index=False)"
   ]
  },
  {
   "cell_type": "markdown",
   "metadata": {},
   "source": [
    "**Result:** `77  0.786885245901639`"
   ]
  },
  {
   "cell_type": "markdown",
   "metadata": {},
   "source": [
    "### Применим Random Forest"
   ]
  },
  {
   "cell_type": "code",
   "execution_count": 117,
   "metadata": {},
   "outputs": [],
   "source": [
    "rfc = RandomForestClassifier(n_estimators=10, max_depth=5, n_jobs=-1, random_state=24)"
   ]
  },
  {
   "cell_type": "code",
   "execution_count": 118,
   "metadata": {},
   "outputs": [
    {
     "data": {
      "text/plain": [
       "RandomForestClassifier(bootstrap=True, class_weight=None, criterion='gini',\n",
       "                       max_depth=5, max_features='auto', max_leaf_nodes=None,\n",
       "                       min_impurity_decrease=0.0, min_impurity_split=None,\n",
       "                       min_samples_leaf=1, min_samples_split=2,\n",
       "                       min_weight_fraction_leaf=0.0, n_estimators=10, n_jobs=-1,\n",
       "                       oob_score=False, random_state=24, verbose=0,\n",
       "                       warm_start=False)"
      ]
     },
     "execution_count": 118,
     "metadata": {},
     "output_type": "execute_result"
    }
   ],
   "source": [
    "rfc.fit(X_trn, y_trn)"
   ]
  },
  {
   "cell_type": "code",
   "execution_count": 119,
   "metadata": {},
   "outputs": [
    {
     "name": "stdout",
     "output_type": "stream",
     "text": [
      "Counter({0: 44947, 1: 72})\n",
      "New result!\n"
     ]
    }
   ],
   "source": [
    "predict = rfc.predict(X_tst)\n",
    "df_sbm['FraudResult'] = predict\n",
    "print(Counter(df_sbm['FraudResult']))\n",
    "\n",
    "if not is_predict_exist(df_sbm):\n",
    "    print('New result!')\n",
    "    df_sbm.to_csv('../submitted/AlBo0816_RF_top20_018_v2.csv', encoding='utf-8', index=False)"
   ]
  },
  {
   "cell_type": "markdown",
   "metadata": {},
   "source": [
    "**Result:** `72   0.793103448275862`"
   ]
  },
  {
   "cell_type": "markdown",
   "metadata": {},
   "source": [
    "### другие настройки Random Forest"
   ]
  },
  {
   "cell_type": "code",
   "execution_count": 120,
   "metadata": {},
   "outputs": [],
   "source": [
    "rfc = RandomForestClassifier(\n",
    "    n_estimators=200,                  # default=10\n",
    "    criterion='entropy',               # default='gini'\n",
    "    max_depth=None,\n",
    "    min_samples_split=2,\n",
    "    min_samples_leaf=1,\n",
    "    min_weight_fraction_leaf=0.0,\n",
    "    max_features=None,                 # default=”auto”\n",
    "    max_leaf_nodes=None,\n",
    "    min_impurity_decrease=0.0,\n",
    "#     min_impurity_split=1e-7,\n",
    "    bootstrap=True,\n",
    "    oob_score=True,                    # default=False\n",
    "    n_jobs=-1,                         # default=None    \n",
    "    random_state=24,                   # default=None\n",
    "    verbose=0,\n",
    "    warm_start=False,\n",
    "    class_weight=None                  # 'balanced_subsample'\n",
    ")"
   ]
  },
  {
   "cell_type": "code",
   "execution_count": 121,
   "metadata": {},
   "outputs": [
    {
     "data": {
      "text/plain": [
       "RandomForestClassifier(bootstrap=True, class_weight=None, criterion='entropy',\n",
       "                       max_depth=None, max_features=None, max_leaf_nodes=None,\n",
       "                       min_impurity_decrease=0.0, min_impurity_split=None,\n",
       "                       min_samples_leaf=1, min_samples_split=2,\n",
       "                       min_weight_fraction_leaf=0.0, n_estimators=200,\n",
       "                       n_jobs=-1, oob_score=True, random_state=24, verbose=0,\n",
       "                       warm_start=False)"
      ]
     },
     "execution_count": 121,
     "metadata": {},
     "output_type": "execute_result"
    }
   ],
   "source": [
    "rfc.fit(X_trn, y_trn)"
   ]
  },
  {
   "cell_type": "code",
   "execution_count": 122,
   "metadata": {},
   "outputs": [
    {
     "data": {
      "text/plain": [
       "array([0.07850147, 0.80475369, 0.00586228, 0.01236296, 0.00483298,\n",
       "       0.01636808, 0.00724046, 0.00457732, 0.00257436, 0.00484795,\n",
       "       0.00875807, 0.00238348, 0.00087423, 0.0013658 , 0.0306087 ,\n",
       "       0.0034711 , 0.00228491, 0.00833216])"
      ]
     },
     "execution_count": 122,
     "metadata": {},
     "output_type": "execute_result"
    }
   ],
   "source": [
    "rfc.feature_importances_"
   ]
  },
  {
   "cell_type": "code",
   "execution_count": 123,
   "metadata": {},
   "outputs": [
    {
     "data": {
      "text/plain": [
       "0.9996445819656709"
      ]
     },
     "execution_count": 123,
     "metadata": {},
     "output_type": "execute_result"
    }
   ],
   "source": [
    "rfc.oob_score_"
   ]
  },
  {
   "cell_type": "code",
   "execution_count": 124,
   "metadata": {},
   "outputs": [
    {
     "name": "stdout",
     "output_type": "stream",
     "text": [
      "Counter({0: 44944, 1: 75})\n",
      "It is the same as in: AlBo0726_top13chi2_BaggingClassifier.csv\n"
     ]
    }
   ],
   "source": [
    "predict = rfc.predict(X_tst)\n",
    "df_sbm['FraudResult'] = predict\n",
    "print(Counter(df_sbm['FraudResult']))\n",
    "\n",
    "if not is_predict_exist(df_sbm):\n",
    "    print('New result!')\n",
    "    df_sbm.to_csv('../submitted/AlBo0819_RF_top20_018_v3.csv', encoding='utf-8', index=False)"
   ]
  },
  {
   "cell_type": "markdown",
   "metadata": {},
   "source": [
    "**Result:** `75  0.813559322033898`"
   ]
  },
  {
   "cell_type": "markdown",
   "metadata": {},
   "source": [
    "**Пробуем `class_weight`**"
   ]
  },
  {
   "cell_type": "code",
   "execution_count": 126,
   "metadata": {},
   "outputs": [],
   "source": [
    "rfc = RandomForestClassifier(\n",
    "    n_jobs=-1,\n",
    "    random_state=24,\n",
    "    class_weight={0: 1, 1: 50}\n",
    ")"
   ]
  },
  {
   "cell_type": "code",
   "execution_count": 127,
   "metadata": {},
   "outputs": [
    {
     "name": "stderr",
     "output_type": "stream",
     "text": [
      "/home/abogatyrov/anaconda3/lib/python3.7/site-packages/sklearn/ensemble/forest.py:245: FutureWarning: The default value of n_estimators will change from 10 in version 0.20 to 100 in 0.22.\n",
      "  \"10 in version 0.20 to 100 in 0.22.\", FutureWarning)\n"
     ]
    },
    {
     "data": {
      "text/plain": [
       "RandomForestClassifier(bootstrap=True, class_weight={0: 1, 1: 50},\n",
       "                       criterion='gini', max_depth=None, max_features='auto',\n",
       "                       max_leaf_nodes=None, min_impurity_decrease=0.0,\n",
       "                       min_impurity_split=None, min_samples_leaf=1,\n",
       "                       min_samples_split=2, min_weight_fraction_leaf=0.0,\n",
       "                       n_estimators=10, n_jobs=-1, oob_score=False,\n",
       "                       random_state=24, verbose=0, warm_start=False)"
      ]
     },
     "execution_count": 127,
     "metadata": {},
     "output_type": "execute_result"
    }
   ],
   "source": [
    "rfc.fit(X_trn, y_trn)"
   ]
  },
  {
   "cell_type": "code",
   "execution_count": 130,
   "metadata": {},
   "outputs": [
    {
     "name": "stdout",
     "output_type": "stream",
     "text": [
      "Counter({0: 44951, 1: 68})\n",
      "New result!\n"
     ]
    }
   ],
   "source": [
    "predict = rfc.predict(X_tst)\n",
    "df_sbm['FraudResult'] = predict\n",
    "print(Counter(df_sbm['FraudResult']))\n",
    "\n",
    "if not is_predict_exist(df_sbm):\n",
    "    print('New result!')\n",
    "    df_sbm.to_csv('../submitted/AlBo0819_RF_top20_018_v4.csv', encoding='utf-8', index=False)"
   ]
  },
  {
   "cell_type": "markdown",
   "metadata": {},
   "source": [
    "**Result:** `68  0.766666666666667`"
   ]
  },
  {
   "cell_type": "code",
   "execution_count": 131,
   "metadata": {},
   "outputs": [],
   "source": [
    "rfc = RandomForestClassifier(\n",
    "    n_estimators=200,                  # default=10\n",
    "    criterion='entropy',               # default='gini'\n",
    "    max_depth=None,\n",
    "    min_samples_split=2,\n",
    "    min_samples_leaf=1,\n",
    "    min_weight_fraction_leaf=0.0,\n",
    "    max_features=None,                 # default=”auto”\n",
    "    max_leaf_nodes=None,\n",
    "    min_impurity_decrease=0.0,\n",
    "#     min_impurity_split=1e-7,\n",
    "    bootstrap=True,\n",
    "    oob_score=True,                    # default=False\n",
    "    n_jobs=-1,                         # default=None    \n",
    "    random_state=24,                   # default=None\n",
    "    verbose=0,\n",
    "    warm_start=False,\n",
    "    class_weight={0: 1, 1: 50}         # default=None\n",
    ")"
   ]
  },
  {
   "cell_type": "code",
   "execution_count": 132,
   "metadata": {},
   "outputs": [
    {
     "data": {
      "text/plain": [
       "RandomForestClassifier(bootstrap=True, class_weight={0: 1, 1: 50},\n",
       "                       criterion='entropy', max_depth=None, max_features=None,\n",
       "                       max_leaf_nodes=None, min_impurity_decrease=0.0,\n",
       "                       min_impurity_split=None, min_samples_leaf=1,\n",
       "                       min_samples_split=2, min_weight_fraction_leaf=0.0,\n",
       "                       n_estimators=200, n_jobs=-1, oob_score=True,\n",
       "                       random_state=24, verbose=0, warm_start=False)"
      ]
     },
     "execution_count": 132,
     "metadata": {},
     "output_type": "execute_result"
    }
   ],
   "source": [
    "rfc.fit(X_trn, y_trn)"
   ]
  },
  {
   "cell_type": "code",
   "execution_count": 133,
   "metadata": {},
   "outputs": [
    {
     "data": {
      "text/plain": [
       "0.9994982333632999"
      ]
     },
     "execution_count": 133,
     "metadata": {},
     "output_type": "execute_result"
    }
   ],
   "source": [
    "rfc.oob_score_"
   ]
  },
  {
   "cell_type": "code",
   "execution_count": 134,
   "metadata": {},
   "outputs": [
    {
     "name": "stdout",
     "output_type": "stream",
     "text": [
      "Counter({0: 44942, 1: 77})\n",
      "New result!\n"
     ]
    }
   ],
   "source": [
    "predict = rfc.predict(X_tst)\n",
    "df_sbm['FraudResult'] = predict\n",
    "print(Counter(df_sbm['FraudResult']))\n",
    "\n",
    "if not is_predict_exist(df_sbm):\n",
    "    print('New result!')\n",
    "    df_sbm.to_csv('../submitted/AlBo0819_RF_top20_018_v5.csv', encoding='utf-8', index=False)"
   ]
  },
  {
   "cell_type": "code",
   "execution_count": null,
   "metadata": {},
   "outputs": [],
   "source": []
  }
 ],
 "metadata": {
  "kernelspec": {
   "display_name": "Python 3",
   "language": "python",
   "name": "python3"
  },
  "language_info": {
   "codemirror_mode": {
    "name": "ipython",
    "version": 3
   },
   "file_extension": ".py",
   "mimetype": "text/x-python",
   "name": "python",
   "nbconvert_exporter": "python",
   "pygments_lexer": "ipython3",
   "version": "3.7.1"
  }
 },
 "nbformat": 4,
 "nbformat_minor": 2
}
