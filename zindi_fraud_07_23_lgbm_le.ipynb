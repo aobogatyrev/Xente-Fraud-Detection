{
 "cells": [
  {
   "cell_type": "markdown",
   "metadata": {},
   "source": [
    "# LightGMB"
   ]
  },
  {
   "cell_type": "code",
   "execution_count": 1,
   "metadata": {},
   "outputs": [],
   "source": [
    "import numpy  as np\n",
    "import pandas as pd\n",
    "\n",
    "import lightgbm\n",
    "\n",
    "from collections import Counter\n",
    "from sklearn.metrics import f1_score\n",
    "from sklearn.model_selection import train_test_split"
   ]
  },
  {
   "cell_type": "code",
   "execution_count": 2,
   "metadata": {},
   "outputs": [],
   "source": [
    "df_trn = pd.read_csv('../data/training_le.csv')\n",
    "df_tst = pd.read_csv('../data/test_le.csv')\n",
    "df_sbm = pd.read_csv('../data/sample_submission.csv')"
   ]
  },
  {
   "cell_type": "code",
   "execution_count": 3,
   "metadata": {},
   "outputs": [
    {
     "data": {
      "text/html": [
       "<div>\n",
       "<style scoped>\n",
       "    .dataframe tbody tr th:only-of-type {\n",
       "        vertical-align: middle;\n",
       "    }\n",
       "\n",
       "    .dataframe tbody tr th {\n",
       "        vertical-align: top;\n",
       "    }\n",
       "\n",
       "    .dataframe thead th {\n",
       "        text-align: right;\n",
       "    }\n",
       "</style>\n",
       "<table border=\"1\" class=\"dataframe\">\n",
       "  <thead>\n",
       "    <tr style=\"text-align: right;\">\n",
       "      <th></th>\n",
       "      <th>BatchId</th>\n",
       "      <th>AccountId</th>\n",
       "      <th>SubscriptionId</th>\n",
       "      <th>CustomerId</th>\n",
       "      <th>ProviderId</th>\n",
       "      <th>ProductId</th>\n",
       "      <th>ProductCategory</th>\n",
       "      <th>ChannelId</th>\n",
       "      <th>Amount</th>\n",
       "      <th>Value</th>\n",
       "      <th>TransactionStartTime</th>\n",
       "      <th>PricingStrategy</th>\n",
       "      <th>FraudResult</th>\n",
       "    </tr>\n",
       "  </thead>\n",
       "  <tbody>\n",
       "    <tr>\n",
       "      <th>0</th>\n",
       "      <td>36122</td>\n",
       "      <td>3956</td>\n",
       "      <td>886</td>\n",
       "      <td>4405</td>\n",
       "      <td>5</td>\n",
       "      <td>9</td>\n",
       "      <td>0</td>\n",
       "      <td>2</td>\n",
       "      <td>1000.0</td>\n",
       "      <td>1000</td>\n",
       "      <td>2018-11-15 02:18:49</td>\n",
       "      <td>2</td>\n",
       "      <td>0</td>\n",
       "    </tr>\n",
       "    <tr>\n",
       "      <th>1</th>\n",
       "      <td>15641</td>\n",
       "      <td>4840</td>\n",
       "      <td>3828</td>\n",
       "      <td>4405</td>\n",
       "      <td>3</td>\n",
       "      <td>5</td>\n",
       "      <td>2</td>\n",
       "      <td>1</td>\n",
       "      <td>-20.0</td>\n",
       "      <td>20</td>\n",
       "      <td>2018-11-15 02:19:08</td>\n",
       "      <td>2</td>\n",
       "      <td>0</td>\n",
       "    </tr>\n",
       "    <tr>\n",
       "      <th>2</th>\n",
       "      <td>53940</td>\n",
       "      <td>4228</td>\n",
       "      <td>221</td>\n",
       "      <td>4682</td>\n",
       "      <td>5</td>\n",
       "      <td>0</td>\n",
       "      <td>0</td>\n",
       "      <td>2</td>\n",
       "      <td>500.0</td>\n",
       "      <td>500</td>\n",
       "      <td>2018-11-15 02:44:21</td>\n",
       "      <td>2</td>\n",
       "      <td>0</td>\n",
       "    </tr>\n",
       "    <tr>\n",
       "      <th>3</th>\n",
       "      <td>102362</td>\n",
       "      <td>647</td>\n",
       "      <td>2184</td>\n",
       "      <td>987</td>\n",
       "      <td>0</td>\n",
       "      <td>20</td>\n",
       "      <td>9</td>\n",
       "      <td>2</td>\n",
       "      <td>20000.0</td>\n",
       "      <td>21800</td>\n",
       "      <td>2018-11-15 03:32:55</td>\n",
       "      <td>2</td>\n",
       "      <td>0</td>\n",
       "    </tr>\n",
       "    <tr>\n",
       "      <th>4</th>\n",
       "      <td>38779</td>\n",
       "      <td>4840</td>\n",
       "      <td>3828</td>\n",
       "      <td>987</td>\n",
       "      <td>3</td>\n",
       "      <td>5</td>\n",
       "      <td>2</td>\n",
       "      <td>1</td>\n",
       "      <td>-644.0</td>\n",
       "      <td>644</td>\n",
       "      <td>2018-11-15 03:34:21</td>\n",
       "      <td>2</td>\n",
       "      <td>0</td>\n",
       "    </tr>\n",
       "  </tbody>\n",
       "</table>\n",
       "</div>"
      ],
      "text/plain": [
       "   BatchId  AccountId  SubscriptionId  CustomerId  ProviderId  ProductId  \\\n",
       "0    36122       3956             886        4405           5          9   \n",
       "1    15641       4840            3828        4405           3          5   \n",
       "2    53940       4228             221        4682           5          0   \n",
       "3   102362        647            2184         987           0         20   \n",
       "4    38779       4840            3828         987           3          5   \n",
       "\n",
       "   ProductCategory  ChannelId   Amount  Value TransactionStartTime  \\\n",
       "0                0          2   1000.0   1000  2018-11-15 02:18:49   \n",
       "1                2          1    -20.0     20  2018-11-15 02:19:08   \n",
       "2                0          2    500.0    500  2018-11-15 02:44:21   \n",
       "3                9          2  20000.0  21800  2018-11-15 03:32:55   \n",
       "4                2          1   -644.0    644  2018-11-15 03:34:21   \n",
       "\n",
       "   PricingStrategy  FraudResult  \n",
       "0                2            0  \n",
       "1                2            0  \n",
       "2                2            0  \n",
       "3                2            0  \n",
       "4                2            0  "
      ]
     },
     "execution_count": 3,
     "metadata": {},
     "output_type": "execute_result"
    }
   ],
   "source": [
    "df_trn.head()"
   ]
  },
  {
   "cell_type": "code",
   "execution_count": 4,
   "metadata": {},
   "outputs": [],
   "source": [
    "columns4drop = [\n",
    "#     'TransactionId',\n",
    "    'BatchId',\n",
    "    'AccountId',\n",
    "    'SubscriptionId',\n",
    "    'CustomerId',\n",
    "#     'CurrencyCode',\n",
    "#     'CountryCode',\n",
    "#     'ProviderId',\n",
    "#     'ProductId',\n",
    "    'ProductCategory',\n",
    "    'ChannelId',\n",
    "#     'Amount', \n",
    "#     'Value',\n",
    "    'TransactionStartTime',\n",
    "#     'PricingStrategy'\n",
    "]"
   ]
  },
  {
   "cell_type": "code",
   "execution_count": 5,
   "metadata": {},
   "outputs": [],
   "source": [
    "df_trn_cut = df_trn.drop(columns=columns4drop, axis=1)\n",
    "df_tst_cut = df_tst.drop(columns=columns4drop, axis=1)"
   ]
  },
  {
   "cell_type": "code",
   "execution_count": 6,
   "metadata": {},
   "outputs": [
    {
     "data": {
      "text/html": [
       "<div>\n",
       "<style scoped>\n",
       "    .dataframe tbody tr th:only-of-type {\n",
       "        vertical-align: middle;\n",
       "    }\n",
       "\n",
       "    .dataframe tbody tr th {\n",
       "        vertical-align: top;\n",
       "    }\n",
       "\n",
       "    .dataframe thead th {\n",
       "        text-align: right;\n",
       "    }\n",
       "</style>\n",
       "<table border=\"1\" class=\"dataframe\">\n",
       "  <thead>\n",
       "    <tr style=\"text-align: right;\">\n",
       "      <th></th>\n",
       "      <th>ProviderId</th>\n",
       "      <th>ProductId</th>\n",
       "      <th>Amount</th>\n",
       "      <th>Value</th>\n",
       "      <th>PricingStrategy</th>\n",
       "      <th>FraudResult</th>\n",
       "    </tr>\n",
       "  </thead>\n",
       "  <tbody>\n",
       "    <tr>\n",
       "      <th>0</th>\n",
       "      <td>5</td>\n",
       "      <td>9</td>\n",
       "      <td>1000.0</td>\n",
       "      <td>1000</td>\n",
       "      <td>2</td>\n",
       "      <td>0</td>\n",
       "    </tr>\n",
       "    <tr>\n",
       "      <th>1</th>\n",
       "      <td>3</td>\n",
       "      <td>5</td>\n",
       "      <td>-20.0</td>\n",
       "      <td>20</td>\n",
       "      <td>2</td>\n",
       "      <td>0</td>\n",
       "    </tr>\n",
       "    <tr>\n",
       "      <th>2</th>\n",
       "      <td>5</td>\n",
       "      <td>0</td>\n",
       "      <td>500.0</td>\n",
       "      <td>500</td>\n",
       "      <td>2</td>\n",
       "      <td>0</td>\n",
       "    </tr>\n",
       "    <tr>\n",
       "      <th>3</th>\n",
       "      <td>0</td>\n",
       "      <td>20</td>\n",
       "      <td>20000.0</td>\n",
       "      <td>21800</td>\n",
       "      <td>2</td>\n",
       "      <td>0</td>\n",
       "    </tr>\n",
       "    <tr>\n",
       "      <th>4</th>\n",
       "      <td>3</td>\n",
       "      <td>5</td>\n",
       "      <td>-644.0</td>\n",
       "      <td>644</td>\n",
       "      <td>2</td>\n",
       "      <td>0</td>\n",
       "    </tr>\n",
       "  </tbody>\n",
       "</table>\n",
       "</div>"
      ],
      "text/plain": [
       "   ProviderId  ProductId   Amount  Value  PricingStrategy  FraudResult\n",
       "0           5          9   1000.0   1000                2            0\n",
       "1           3          5    -20.0     20                2            0\n",
       "2           5          0    500.0    500                2            0\n",
       "3           0         20  20000.0  21800                2            0\n",
       "4           3          5   -644.0    644                2            0"
      ]
     },
     "execution_count": 6,
     "metadata": {},
     "output_type": "execute_result"
    }
   ],
   "source": [
    "df_trn_cut.head()"
   ]
  },
  {
   "cell_type": "code",
   "execution_count": 7,
   "metadata": {},
   "outputs": [],
   "source": [
    "# get the labels\n",
    "X_trn_cut = df_trn_cut.drop(columns=['FraudResult'], axis=1)\n",
    "y_trn_cut = df_trn_cut['FraudResult']"
   ]
  },
  {
   "cell_type": "code",
   "execution_count": 8,
   "metadata": {},
   "outputs": [
    {
     "data": {
      "text/html": [
       "<div>\n",
       "<style scoped>\n",
       "    .dataframe tbody tr th:only-of-type {\n",
       "        vertical-align: middle;\n",
       "    }\n",
       "\n",
       "    .dataframe tbody tr th {\n",
       "        vertical-align: top;\n",
       "    }\n",
       "\n",
       "    .dataframe thead th {\n",
       "        text-align: right;\n",
       "    }\n",
       "</style>\n",
       "<table border=\"1\" class=\"dataframe\">\n",
       "  <thead>\n",
       "    <tr style=\"text-align: right;\">\n",
       "      <th></th>\n",
       "      <th>ProviderId</th>\n",
       "      <th>ProductId</th>\n",
       "      <th>Amount</th>\n",
       "      <th>Value</th>\n",
       "      <th>PricingStrategy</th>\n",
       "    </tr>\n",
       "  </thead>\n",
       "  <tbody>\n",
       "    <tr>\n",
       "      <th>0</th>\n",
       "      <td>5</td>\n",
       "      <td>9</td>\n",
       "      <td>1000.0</td>\n",
       "      <td>1000</td>\n",
       "      <td>2</td>\n",
       "    </tr>\n",
       "    <tr>\n",
       "      <th>1</th>\n",
       "      <td>3</td>\n",
       "      <td>5</td>\n",
       "      <td>-20.0</td>\n",
       "      <td>20</td>\n",
       "      <td>2</td>\n",
       "    </tr>\n",
       "    <tr>\n",
       "      <th>2</th>\n",
       "      <td>5</td>\n",
       "      <td>0</td>\n",
       "      <td>500.0</td>\n",
       "      <td>500</td>\n",
       "      <td>2</td>\n",
       "    </tr>\n",
       "    <tr>\n",
       "      <th>3</th>\n",
       "      <td>0</td>\n",
       "      <td>20</td>\n",
       "      <td>20000.0</td>\n",
       "      <td>21800</td>\n",
       "      <td>2</td>\n",
       "    </tr>\n",
       "    <tr>\n",
       "      <th>4</th>\n",
       "      <td>3</td>\n",
       "      <td>5</td>\n",
       "      <td>-644.0</td>\n",
       "      <td>644</td>\n",
       "      <td>2</td>\n",
       "    </tr>\n",
       "  </tbody>\n",
       "</table>\n",
       "</div>"
      ],
      "text/plain": [
       "   ProviderId  ProductId   Amount  Value  PricingStrategy\n",
       "0           5          9   1000.0   1000                2\n",
       "1           3          5    -20.0     20                2\n",
       "2           5          0    500.0    500                2\n",
       "3           0         20  20000.0  21800                2\n",
       "4           3          5   -644.0    644                2"
      ]
     },
     "execution_count": 8,
     "metadata": {},
     "output_type": "execute_result"
    }
   ],
   "source": [
    "X_trn_cut.head()"
   ]
  },
  {
   "cell_type": "code",
   "execution_count": 9,
   "metadata": {},
   "outputs": [],
   "source": [
    "x = X_trn_cut.values\n",
    "y = y_trn_cut.values"
   ]
  },
  {
   "cell_type": "code",
   "execution_count": 10,
   "metadata": {},
   "outputs": [],
   "source": [
    "# Create training and validation sets\n",
    "x, x_test, y, y_test = train_test_split(x, y, test_size=0.2, random_state=42, stratify=y)"
   ]
  },
  {
   "cell_type": "code",
   "execution_count": 11,
   "metadata": {},
   "outputs": [],
   "source": [
    "# train_data = lightgbm.Dataset(x, label=y, categorical_feature=[0, 1, 2, 3, 4, 7])\n",
    "train_data = lightgbm.Dataset(x, label=y)\n",
    "test_data  = lightgbm.Dataset(x_test, label=y_test)"
   ]
  },
  {
   "cell_type": "markdown",
   "metadata": {},
   "source": [
    "### Train the model"
   ]
  },
  {
   "cell_type": "code",
   "execution_count": 12,
   "metadata": {},
   "outputs": [],
   "source": [
    "parameters = {\n",
    "    'application' : 'binary',\n",
    "    'objective'   : 'binary',\n",
    "    'metric'      : 'auc',\n",
    "#     'is_unbalance': 'true',\n",
    "    'boosting'    : 'rf',\n",
    "    'num_leaves'  : 31,\n",
    "    'n_estimators': 100,\n",
    "    'feature_fraction': 0.5,\n",
    "    'bagging_fraction': 0.5,\n",
    "    'bagging_freq'    : 20,\n",
    "#     'learning_rate': 0.05,\n",
    "#     'verbose': 0,\n",
    "    'n_jobs': -1\n",
    "}"
   ]
  },
  {
   "cell_type": "code",
   "execution_count": 13,
   "metadata": {},
   "outputs": [
    {
     "name": "stderr",
     "output_type": "stream",
     "text": [
      "/home/abogatyrov/anaconda3/lib/python3.7/site-packages/lightgbm/engine.py:118: UserWarning: Found `n_estimators` in params. Will use it instead of argument\n",
      "  warnings.warn(\"Found `{}` in params. Will use it instead of argument\".format(alias))\n"
     ]
    },
    {
     "name": "stdout",
     "output_type": "stream",
     "text": [
      "[1]\tvalid_0's auc: 0.986558\n",
      "Training until validation scores don't improve for 100 rounds.\n",
      "[2]\tvalid_0's auc: 0.986579\n",
      "[3]\tvalid_0's auc: 0.986423\n",
      "[4]\tvalid_0's auc: 0.986346\n",
      "[5]\tvalid_0's auc: 0.997269\n",
      "[6]\tvalid_0's auc: 0.997248\n",
      "[7]\tvalid_0's auc: 0.998588\n",
      "[8]\tvalid_0's auc: 0.998654\n",
      "[9]\tvalid_0's auc: 0.998577\n",
      "[10]\tvalid_0's auc: 0.998524\n",
      "[11]\tvalid_0's auc: 0.998527\n",
      "[12]\tvalid_0's auc: 0.99847\n",
      "[13]\tvalid_0's auc: 0.998468\n",
      "[14]\tvalid_0's auc: 0.998468\n",
      "[15]\tvalid_0's auc: 0.998472\n",
      "[16]\tvalid_0's auc: 0.998462\n",
      "[17]\tvalid_0's auc: 0.998462\n",
      "[18]\tvalid_0's auc: 0.998454\n",
      "[19]\tvalid_0's auc: 0.998452\n",
      "[20]\tvalid_0's auc: 0.998429\n",
      "[21]\tvalid_0's auc: 0.998421\n",
      "[22]\tvalid_0's auc: 0.998517\n",
      "[23]\tvalid_0's auc: 0.998542\n",
      "[24]\tvalid_0's auc: 0.998575\n",
      "[25]\tvalid_0's auc: 0.998595\n",
      "[26]\tvalid_0's auc: 0.998593\n",
      "[27]\tvalid_0's auc: 0.99853\n",
      "[28]\tvalid_0's auc: 0.998485\n",
      "[29]\tvalid_0's auc: 0.998479\n",
      "[30]\tvalid_0's auc: 0.99843\n",
      "[31]\tvalid_0's auc: 0.998513\n",
      "[32]\tvalid_0's auc: 0.998469\n",
      "[33]\tvalid_0's auc: 0.998445\n",
      "[34]\tvalid_0's auc: 0.998426\n",
      "[35]\tvalid_0's auc: 0.99846\n",
      "[36]\tvalid_0's auc: 0.998458\n",
      "[37]\tvalid_0's auc: 0.998458\n",
      "[38]\tvalid_0's auc: 0.998458\n",
      "[39]\tvalid_0's auc: 0.998456\n",
      "[40]\tvalid_0's auc: 0.998456\n",
      "[41]\tvalid_0's auc: 0.998474\n",
      "[42]\tvalid_0's auc: 0.998507\n",
      "[43]\tvalid_0's auc: 0.998544\n",
      "[44]\tvalid_0's auc: 0.998584\n",
      "[45]\tvalid_0's auc: 0.998618\n",
      "[46]\tvalid_0's auc: 0.998654\n",
      "[47]\tvalid_0's auc: 0.998638\n",
      "[48]\tvalid_0's auc: 0.998703\n",
      "[49]\tvalid_0's auc: 0.998718\n",
      "[50]\tvalid_0's auc: 0.998722\n",
      "[51]\tvalid_0's auc: 0.998779\n",
      "[52]\tvalid_0's auc: 0.998789\n",
      "[53]\tvalid_0's auc: 0.998768\n",
      "[54]\tvalid_0's auc: 0.999045\n",
      "[55]\tvalid_0's auc: 0.999039\n",
      "[56]\tvalid_0's auc: 0.998795\n",
      "[57]\tvalid_0's auc: 0.999049\n",
      "[58]\tvalid_0's auc: 0.999083\n",
      "[59]\tvalid_0's auc: 0.999053\n",
      "[60]\tvalid_0's auc: 0.999051\n",
      "[61]\tvalid_0's auc: 0.999067\n",
      "[62]\tvalid_0's auc: 0.999075\n",
      "[63]\tvalid_0's auc: 0.999113\n",
      "[64]\tvalid_0's auc: 0.999113\n",
      "[65]\tvalid_0's auc: 0.999115\n",
      "[66]\tvalid_0's auc: 0.999119\n",
      "[67]\tvalid_0's auc: 0.999084\n",
      "[68]\tvalid_0's auc: 0.999084\n",
      "[69]\tvalid_0's auc: 0.999087\n",
      "[70]\tvalid_0's auc: 0.999085\n",
      "[71]\tvalid_0's auc: 0.99909\n",
      "[72]\tvalid_0's auc: 0.99909\n",
      "[73]\tvalid_0's auc: 0.999087\n",
      "[74]\tvalid_0's auc: 0.999087\n",
      "[75]\tvalid_0's auc: 0.999096\n",
      "[76]\tvalid_0's auc: 0.999094\n",
      "[77]\tvalid_0's auc: 0.999096\n",
      "[78]\tvalid_0's auc: 0.999095\n",
      "[79]\tvalid_0's auc: 0.999098\n",
      "[80]\tvalid_0's auc: 0.999098\n",
      "[81]\tvalid_0's auc: 0.9991\n",
      "[82]\tvalid_0's auc: 0.9991\n",
      "[83]\tvalid_0's auc: 0.99912\n",
      "[84]\tvalid_0's auc: 0.999119\n",
      "[85]\tvalid_0's auc: 0.999116\n",
      "[86]\tvalid_0's auc: 0.999111\n",
      "[87]\tvalid_0's auc: 0.999108\n",
      "[88]\tvalid_0's auc: 0.999108\n",
      "[89]\tvalid_0's auc: 0.999108\n",
      "[90]\tvalid_0's auc: 0.999104\n",
      "[91]\tvalid_0's auc: 0.999104\n",
      "[92]\tvalid_0's auc: 0.999104\n",
      "[93]\tvalid_0's auc: 0.999104\n",
      "[94]\tvalid_0's auc: 0.999068\n",
      "[95]\tvalid_0's auc: 0.999045\n",
      "[96]\tvalid_0's auc: 0.999045\n",
      "[97]\tvalid_0's auc: 0.999045\n",
      "[98]\tvalid_0's auc: 0.999051\n",
      "[99]\tvalid_0's auc: 0.999055\n",
      "[100]\tvalid_0's auc: 0.999055\n",
      "[101]\tvalid_0's auc: 0.999055\n",
      "[102]\tvalid_0's auc: 0.999056\n",
      "[103]\tvalid_0's auc: 0.999056\n",
      "[104]\tvalid_0's auc: 0.999056\n",
      "[105]\tvalid_0's auc: 0.999052\n",
      "[106]\tvalid_0's auc: 0.999047\n",
      "[107]\tvalid_0's auc: 0.999047\n",
      "[108]\tvalid_0's auc: 0.999045\n",
      "[109]\tvalid_0's auc: 0.999045\n",
      "[110]\tvalid_0's auc: 0.999045\n",
      "[111]\tvalid_0's auc: 0.999029\n",
      "[112]\tvalid_0's auc: 0.999028\n",
      "[113]\tvalid_0's auc: 0.999028\n",
      "[114]\tvalid_0's auc: 0.999065\n",
      "[115]\tvalid_0's auc: 0.999065\n",
      "[116]\tvalid_0's auc: 0.999065\n",
      "[117]\tvalid_0's auc: 0.999051\n",
      "[118]\tvalid_0's auc: 0.999051\n",
      "[119]\tvalid_0's auc: 0.999051\n",
      "[120]\tvalid_0's auc: 0.999026\n",
      "Did not meet early stopping. Best iteration is:\n",
      "[83]\tvalid_0's auc: 0.99912\n"
     ]
    }
   ],
   "source": [
    "model = lightgbm.train(parameters,\n",
    "                       train_data,\n",
    "                       valid_sets=test_data,\n",
    "                       num_boost_round=5000,\n",
    "                       early_stopping_rounds=100)"
   ]
  },
  {
   "cell_type": "code",
   "execution_count": 14,
   "metadata": {},
   "outputs": [],
   "source": [
    "y_test_pred = model.predict(x_test)\n",
    "y_test_pred = [ 1 if i > 0.99999 else 0 for i in y_test_pred ]"
   ]
  },
  {
   "cell_type": "code",
   "execution_count": 15,
   "metadata": {},
   "outputs": [
    {
     "data": {
      "text/plain": [
       "Counter({0: 19047, 1: 86})"
      ]
     },
     "execution_count": 15,
     "metadata": {},
     "output_type": "execute_result"
    }
   ],
   "source": [
    "Counter(y_test_pred)"
   ]
  },
  {
   "cell_type": "code",
   "execution_count": 16,
   "metadata": {},
   "outputs": [
    {
     "data": {
      "text/plain": [
       "0.576"
      ]
     },
     "execution_count": 16,
     "metadata": {},
     "output_type": "execute_result"
    }
   ],
   "source": [
    "f1_score(y_test_pred, y_test) "
   ]
  },
  {
   "cell_type": "markdown",
   "metadata": {},
   "source": [
    "### Create a submission"
   ]
  },
  {
   "cell_type": "code",
   "execution_count": 17,
   "metadata": {},
   "outputs": [
    {
     "data": {
      "text/html": [
       "<div>\n",
       "<style scoped>\n",
       "    .dataframe tbody tr th:only-of-type {\n",
       "        vertical-align: middle;\n",
       "    }\n",
       "\n",
       "    .dataframe tbody tr th {\n",
       "        vertical-align: top;\n",
       "    }\n",
       "\n",
       "    .dataframe thead th {\n",
       "        text-align: right;\n",
       "    }\n",
       "</style>\n",
       "<table border=\"1\" class=\"dataframe\">\n",
       "  <thead>\n",
       "    <tr style=\"text-align: right;\">\n",
       "      <th></th>\n",
       "      <th>ProviderId</th>\n",
       "      <th>ProductId</th>\n",
       "      <th>Amount</th>\n",
       "      <th>Value</th>\n",
       "      <th>PricingStrategy</th>\n",
       "    </tr>\n",
       "  </thead>\n",
       "  <tbody>\n",
       "    <tr>\n",
       "      <th>0</th>\n",
       "      <td>4</td>\n",
       "      <td>2</td>\n",
       "      <td>1000.0</td>\n",
       "      <td>1000</td>\n",
       "      <td>3</td>\n",
       "    </tr>\n",
       "    <tr>\n",
       "      <th>1</th>\n",
       "      <td>4</td>\n",
       "      <td>14</td>\n",
       "      <td>2000.0</td>\n",
       "      <td>2000</td>\n",
       "      <td>2</td>\n",
       "    </tr>\n",
       "    <tr>\n",
       "      <th>2</th>\n",
       "      <td>3</td>\n",
       "      <td>5</td>\n",
       "      <td>-50.0</td>\n",
       "      <td>50</td>\n",
       "      <td>2</td>\n",
       "    </tr>\n",
       "    <tr>\n",
       "      <th>3</th>\n",
       "      <td>4</td>\n",
       "      <td>9</td>\n",
       "      <td>3000.0</td>\n",
       "      <td>3000</td>\n",
       "      <td>3</td>\n",
       "    </tr>\n",
       "    <tr>\n",
       "      <th>4</th>\n",
       "      <td>3</td>\n",
       "      <td>5</td>\n",
       "      <td>-60.0</td>\n",
       "      <td>60</td>\n",
       "      <td>2</td>\n",
       "    </tr>\n",
       "  </tbody>\n",
       "</table>\n",
       "</div>"
      ],
      "text/plain": [
       "   ProviderId  ProductId  Amount  Value  PricingStrategy\n",
       "0           4          2  1000.0   1000                3\n",
       "1           4         14  2000.0   2000                2\n",
       "2           3          5   -50.0     50                2\n",
       "3           4          9  3000.0   3000                3\n",
       "4           3          5   -60.0     60                2"
      ]
     },
     "execution_count": 17,
     "metadata": {},
     "output_type": "execute_result"
    }
   ],
   "source": [
    "df_tst_cut.head()"
   ]
  },
  {
   "cell_type": "code",
   "execution_count": 18,
   "metadata": {},
   "outputs": [
    {
     "data": {
      "text/plain": [
       "array([[ 4.0e+00,  2.0e+00,  1.0e+03,  1.0e+03,  3.0e+00],\n",
       "       [ 4.0e+00,  1.4e+01,  2.0e+03,  2.0e+03,  2.0e+00],\n",
       "       [ 3.0e+00,  5.0e+00, -5.0e+01,  5.0e+01,  2.0e+00],\n",
       "       [ 4.0e+00,  9.0e+00,  3.0e+03,  3.0e+03,  3.0e+00],\n",
       "       [ 3.0e+00,  5.0e+00, -6.0e+01,  6.0e+01,  2.0e+00]])"
      ]
     },
     "execution_count": 18,
     "metadata": {},
     "output_type": "execute_result"
    }
   ],
   "source": [
    "x_tst = df_tst_cut.values\n",
    "x_tst[:5]"
   ]
  },
  {
   "cell_type": "code",
   "execution_count": 22,
   "metadata": {},
   "outputs": [
    {
     "data": {
      "text/plain": [
       "Counter({0: 44806, 1: 213})"
      ]
     },
     "execution_count": 22,
     "metadata": {},
     "output_type": "execute_result"
    }
   ],
   "source": [
    "y_pred = model.predict(x_tst)\n",
    "y_pred = [ 1 if i > 0.99999 else 0 for i in y_pred ]\n",
    "Counter(y_pred)\n",
    "# y_pred"
   ]
  },
  {
   "cell_type": "code",
   "execution_count": 21,
   "metadata": {},
   "outputs": [
    {
     "data": {
      "text/plain": [
       "(45019, 5)"
      ]
     },
     "execution_count": 21,
     "metadata": {},
     "output_type": "execute_result"
    }
   ],
   "source": [
    "y_pred"
   ]
  },
  {
   "cell_type": "code",
   "execution_count": 23,
   "metadata": {},
   "outputs": [],
   "source": [
    "df_sbm['FraudResult'] = y_pred\n",
    "df_sbm.to_csv('../submitted/AlBo0723_LGBM_le.csv', encoding='utf-8', index=False)"
   ]
  },
  {
   "cell_type": "code",
   "execution_count": null,
   "metadata": {},
   "outputs": [],
   "source": []
  }
 ],
 "metadata": {
  "kernelspec": {
   "display_name": "Python 3",
   "language": "python",
   "name": "python3"
  },
  "language_info": {
   "codemirror_mode": {
    "name": "ipython",
    "version": 3
   },
   "file_extension": ".py",
   "mimetype": "text/x-python",
   "name": "python",
   "nbconvert_exporter": "python",
   "pygments_lexer": "ipython3",
   "version": "3.7.1"
  }
 },
 "nbformat": 4,
 "nbformat_minor": 2
}
