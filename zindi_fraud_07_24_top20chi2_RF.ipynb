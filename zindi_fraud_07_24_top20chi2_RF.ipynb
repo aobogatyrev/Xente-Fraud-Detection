{
 "cells": [
  {
   "cell_type": "markdown",
   "metadata": {},
   "source": [
    "## Random Forest\n",
    "top 20 features"
   ]
  },
  {
   "cell_type": "code",
   "execution_count": 1,
   "metadata": {},
   "outputs": [],
   "source": [
    "import numpy  as np\n",
    "import pandas as pd"
   ]
  },
  {
   "cell_type": "code",
   "execution_count": 2,
   "metadata": {},
   "outputs": [],
   "source": [
    "df_trn = pd.read_csv('../data/train-agg.csv')\n",
    "df_tst = pd.read_csv('../data/test-agg.csv')\n",
    "df_sbm = pd.read_csv('../data/sample_submission.csv')"
   ]
  },
  {
   "cell_type": "code",
   "execution_count": 3,
   "metadata": {},
   "outputs": [],
   "source": [
    "df_trn['AmountPositive'] = df_trn['Amount'].apply(lambda x: x if x > 0 else 0)\n",
    "df_trn['AmountNegative'] = df_trn['Amount'].apply(lambda x: x if x < 0 else 0)\n",
    "\n",
    "df_tst['AmountPositive'] = df_tst['Amount'].apply(lambda x: x if x > 0 else 0)\n",
    "df_tst['AmountNegative'] = df_tst['Amount'].apply(lambda x: x if x < 0 else 0)"
   ]
  },
  {
   "cell_type": "code",
   "execution_count": 4,
   "metadata": {},
   "outputs": [],
   "source": [
    "columns4drop = [\n",
    "    'TransactionId',\n",
    "    'BatchId',\n",
    "    'AccountId',\n",
    "    'SubscriptionId',\n",
    "    'CustomerId',\n",
    "    'CurrencyCode',\n",
    "    'CountryCode',\n",
    "    'ProviderId',\n",
    "    'ProductId',\n",
    "    'ProductCategory',\n",
    "    'ChannelId',\n",
    "    'Amount',\n",
    "    'TransactionStartTime',\n",
    "    'PricingStrategy'\n",
    "]"
   ]
  },
  {
   "cell_type": "code",
   "execution_count": 5,
   "metadata": {},
   "outputs": [],
   "source": [
    "df_trn_cut = df_trn.drop(columns=columns4drop, axis=1)\n",
    "df_tst_cut = df_tst.drop(columns=columns4drop, axis=1)"
   ]
  },
  {
   "cell_type": "code",
   "execution_count": 6,
   "metadata": {},
   "outputs": [],
   "source": [
    "X_trn_cut = df_trn_cut.drop(columns=['FraudResult'], axis=1)\n",
    "X_tst_cut = df_tst_cut\n",
    "\n",
    "y_trn_cut = df_trn_cut['FraudResult']"
   ]
  },
  {
   "cell_type": "markdown",
   "metadata": {},
   "source": [
    "## Univariate Selection $\\chi^2$"
   ]
  },
  {
   "cell_type": "markdown",
   "metadata": {},
   "source": [
    "### Scaling"
   ]
  },
  {
   "cell_type": "code",
   "execution_count": 7,
   "metadata": {},
   "outputs": [],
   "source": [
    "from sklearn.preprocessing import MinMaxScaler"
   ]
  },
  {
   "cell_type": "code",
   "execution_count": 8,
   "metadata": {},
   "outputs": [],
   "source": [
    "def scaleColumns(data, cols_to_scale, scaler):\n",
    "    for col in cols_to_scale:\n",
    "        data[col] = pd.DataFrame(scaler.fit_transform(pd.DataFrame(data[col])))\n",
    "    return data"
   ]
  },
  {
   "cell_type": "code",
   "execution_count": 9,
   "metadata": {},
   "outputs": [],
   "source": [
    "df_trn_cut_sc = scaleColumns(df_trn_cut, list(df_trn_cut.columns), MinMaxScaler())"
   ]
  },
  {
   "cell_type": "code",
   "execution_count": 10,
   "metadata": {},
   "outputs": [],
   "source": [
    "X_trn_cut_sc = df_trn_cut_sc.drop(columns=['FraudResult'], axis=1)\n",
    "y_trn_cut_sc = df_trn_cut_sc['FraudResult']"
   ]
  },
  {
   "cell_type": "code",
   "execution_count": 11,
   "metadata": {},
   "outputs": [],
   "source": [
    "from sklearn.feature_selection import SelectKBest\n",
    "from sklearn.feature_selection import chi2"
   ]
  },
  {
   "cell_type": "code",
   "execution_count": 12,
   "metadata": {},
   "outputs": [],
   "source": [
    "#apply SelectKBest class to extract top 10 best features\n",
    "bestfeatures = SelectKBest(score_func=chi2, k=10)\n",
    "fit = bestfeatures.fit(X_trn_cut_sc, y_trn_cut_sc)\n",
    "dfscores = pd.DataFrame(fit.scores_)\n",
    "dfcolumns = pd.DataFrame(X_trn_cut_sc.columns)"
   ]
  },
  {
   "cell_type": "code",
   "execution_count": 13,
   "metadata": {},
   "outputs": [
    {
     "data": {
      "text/html": [
       "<div>\n",
       "<style scoped>\n",
       "    .dataframe tbody tr th:only-of-type {\n",
       "        vertical-align: middle;\n",
       "    }\n",
       "\n",
       "    .dataframe tbody tr th {\n",
       "        vertical-align: top;\n",
       "    }\n",
       "\n",
       "    .dataframe thead th {\n",
       "        text-align: right;\n",
       "    }\n",
       "</style>\n",
       "<table border=\"1\" class=\"dataframe\">\n",
       "  <thead>\n",
       "    <tr style=\"text-align: right;\">\n",
       "      <th></th>\n",
       "      <th>Specs</th>\n",
       "      <th>Score</th>\n",
       "    </tr>\n",
       "  </thead>\n",
       "  <tbody>\n",
       "    <tr>\n",
       "      <th>496</th>\n",
       "      <td>AmountPositive</td>\n",
       "      <td>5597.219242</td>\n",
       "    </tr>\n",
       "    <tr>\n",
       "      <th>0</th>\n",
       "      <td>Value</td>\n",
       "      <td>4762.582809</td>\n",
       "    </tr>\n",
       "    <tr>\n",
       "      <th>86</th>\n",
       "      <td>account_product_transactions__AmountPositive_g...</td>\n",
       "      <td>883.548964</td>\n",
       "    </tr>\n",
       "    <tr>\n",
       "      <th>390</th>\n",
       "      <td>account_provider_transactions__AmountPositive_...</td>\n",
       "      <td>739.340503</td>\n",
       "    </tr>\n",
       "    <tr>\n",
       "      <th>311</th>\n",
       "      <td>account_product_category_transactions__AmountP...</td>\n",
       "      <td>691.669685</td>\n",
       "    </tr>\n",
       "    <tr>\n",
       "      <th>75</th>\n",
       "      <td>account_provider_transactions__Value_global_avg</td>\n",
       "      <td>570.979859</td>\n",
       "    </tr>\n",
       "    <tr>\n",
       "      <th>386</th>\n",
       "      <td>account_provider_transactions__AmountPositive_...</td>\n",
       "      <td>462.555515</td>\n",
       "    </tr>\n",
       "    <tr>\n",
       "      <th>296</th>\n",
       "      <td>account_channel_transactions__AmountPositive_g...</td>\n",
       "      <td>384.409342</td>\n",
       "    </tr>\n",
       "    <tr>\n",
       "      <th>90</th>\n",
       "      <td>account_product_transactions__AmountPositive_g...</td>\n",
       "      <td>383.886192</td>\n",
       "    </tr>\n",
       "    <tr>\n",
       "      <th>281</th>\n",
       "      <td>account_transactions__AmountPositive_global_sum</td>\n",
       "      <td>381.275567</td>\n",
       "    </tr>\n",
       "    <tr>\n",
       "      <th>446</th>\n",
       "      <td>account_pricing_strategy_transactions__AmountP...</td>\n",
       "      <td>372.565600</td>\n",
       "    </tr>\n",
       "    <tr>\n",
       "      <th>315</th>\n",
       "      <td>account_product_category_transactions__AmountP...</td>\n",
       "      <td>356.274749</td>\n",
       "    </tr>\n",
       "    <tr>\n",
       "      <th>76</th>\n",
       "      <td>account_product_transactions__AmountPositive_w...</td>\n",
       "      <td>319.413282</td>\n",
       "    </tr>\n",
       "    <tr>\n",
       "      <th>380</th>\n",
       "      <td>account_provider_transactions__AmountPositive_...</td>\n",
       "      <td>302.425837</td>\n",
       "    </tr>\n",
       "    <tr>\n",
       "      <th>450</th>\n",
       "      <td>account_pricing_strategy_transactions__AmountP...</td>\n",
       "      <td>292.863403</td>\n",
       "    </tr>\n",
       "    <tr>\n",
       "      <th>105</th>\n",
       "      <td>account_product_transactions__Value_global_avg</td>\n",
       "      <td>291.565427</td>\n",
       "    </tr>\n",
       "    <tr>\n",
       "      <th>330</th>\n",
       "      <td>account_product_category_transactions__Value_g...</td>\n",
       "      <td>272.484611</td>\n",
       "    </tr>\n",
       "    <tr>\n",
       "      <th>300</th>\n",
       "      <td>account_channel_transactions__AmountPositive_g...</td>\n",
       "      <td>271.570905</td>\n",
       "    </tr>\n",
       "    <tr>\n",
       "      <th>285</th>\n",
       "      <td>account_transactions__AmountPositive_global_avg</td>\n",
       "      <td>271.275782</td>\n",
       "    </tr>\n",
       "    <tr>\n",
       "      <th>376</th>\n",
       "      <td>account_provider_transactions__AmountPositive_...</td>\n",
       "      <td>254.274143</td>\n",
       "    </tr>\n",
       "  </tbody>\n",
       "</table>\n",
       "</div>"
      ],
      "text/plain": [
       "                                                 Specs        Score\n",
       "496                                     AmountPositive  5597.219242\n",
       "0                                                Value  4762.582809\n",
       "86   account_product_transactions__AmountPositive_g...   883.548964\n",
       "390  account_provider_transactions__AmountPositive_...   739.340503\n",
       "311  account_product_category_transactions__AmountP...   691.669685\n",
       "75     account_provider_transactions__Value_global_avg   570.979859\n",
       "386  account_provider_transactions__AmountPositive_...   462.555515\n",
       "296  account_channel_transactions__AmountPositive_g...   384.409342\n",
       "90   account_product_transactions__AmountPositive_g...   383.886192\n",
       "281    account_transactions__AmountPositive_global_sum   381.275567\n",
       "446  account_pricing_strategy_transactions__AmountP...   372.565600\n",
       "315  account_product_category_transactions__AmountP...   356.274749\n",
       "76   account_product_transactions__AmountPositive_w...   319.413282\n",
       "380  account_provider_transactions__AmountPositive_...   302.425837\n",
       "450  account_pricing_strategy_transactions__AmountP...   292.863403\n",
       "105     account_product_transactions__Value_global_avg   291.565427\n",
       "330  account_product_category_transactions__Value_g...   272.484611\n",
       "300  account_channel_transactions__AmountPositive_g...   271.570905\n",
       "285    account_transactions__AmountPositive_global_avg   271.275782\n",
       "376  account_provider_transactions__AmountPositive_...   254.274143"
      ]
     },
     "execution_count": 13,
     "metadata": {},
     "output_type": "execute_result"
    }
   ],
   "source": [
    "#concat two dataframes for better visualization \n",
    "featureScores = pd.concat([dfcolumns, dfscores], axis=1)\n",
    "featureScores.columns = ['Specs', 'Score']  #naming the dataframe columns\n",
    "featureScores.nlargest(20, 'Score')  #print 10 best features"
   ]
  },
  {
   "cell_type": "code",
   "execution_count": 14,
   "metadata": {},
   "outputs": [
    {
     "data": {
      "text/plain": [
       "['AmountPositive',\n",
       " 'Value',\n",
       " 'account_product_transactions__AmountPositive_global_sum',\n",
       " 'account_provider_transactions__AmountPositive_global_avg',\n",
       " 'account_product_category_transactions__AmountPositive_global_sum',\n",
       " 'account_provider_transactions__Value_global_avg',\n",
       " 'account_provider_transactions__AmountPositive_global_sum',\n",
       " 'account_channel_transactions__AmountPositive_global_sum',\n",
       " 'account_product_transactions__AmountPositive_global_avg',\n",
       " 'account_transactions__AmountPositive_global_sum',\n",
       " 'account_pricing_strategy_transactions__AmountPositive_global_sum',\n",
       " 'account_product_category_transactions__AmountPositive_global_avg',\n",
       " 'account_product_transactions__AmountPositive_week_sum',\n",
       " 'account_provider_transactions__AmountPositive_week_avg',\n",
       " 'account_pricing_strategy_transactions__AmountPositive_global_avg',\n",
       " 'account_product_transactions__Value_global_avg',\n",
       " 'account_product_category_transactions__Value_global_avg',\n",
       " 'account_channel_transactions__AmountPositive_global_avg',\n",
       " 'account_transactions__AmountPositive_global_avg',\n",
       " 'account_provider_transactions__AmountPositive_week_sum']"
      ]
     },
     "execution_count": 14,
     "metadata": {},
     "output_type": "execute_result"
    }
   ],
   "source": [
    "list(featureScores.nlargest(20, 'Score').values[:, 0])"
   ]
  },
  {
   "cell_type": "code",
   "execution_count": 15,
   "metadata": {},
   "outputs": [],
   "source": [
    "columns_top20_chi2 = list(featureScores.nlargest(20, 'Score').values[:, 0])"
   ]
  },
  {
   "cell_type": "markdown",
   "metadata": {},
   "source": [
    "### Random Forest"
   ]
  },
  {
   "cell_type": "code",
   "execution_count": 16,
   "metadata": {},
   "outputs": [],
   "source": [
    "from sklearn.ensemble import RandomForestClassifier\n",
    "from collections import Counter"
   ]
  },
  {
   "cell_type": "code",
   "execution_count": 18,
   "metadata": {},
   "outputs": [],
   "source": [
    "X_trn = X_trn_cut[columns_top20_chi2]\n",
    "X_tst = X_tst_cut[columns_top20_chi2]\n",
    "\n",
    "y_trn = y_trn_cut\n",
    "\n",
    "x = X_trn.values\n",
    "y = y_trn.values"
   ]
  },
  {
   "cell_type": "code",
   "execution_count": 29,
   "metadata": {},
   "outputs": [
    {
     "name": "stderr",
     "output_type": "stream",
     "text": [
      "/home/abogatyrov/anaconda3/lib/python3.7/site-packages/ipykernel_launcher.py:3: SettingWithCopyWarning: \n",
      "A value is trying to be set on a copy of a slice from a DataFrame.\n",
      "Try using .loc[row_indexer,col_indexer] = value instead\n",
      "\n",
      "See the caveats in the documentation: http://pandas.pydata.org/pandas-docs/stable/indexing.html#indexing-view-versus-copy\n",
      "  This is separate from the ipykernel package so we can avoid doing imports until\n"
     ]
    }
   ],
   "source": [
    "# save DataFrames top20chi2\n",
    "df_trn_top20chi2 = X_trn\n",
    "df_trn_top20chi2['FraudResult'] = y_trn\n",
    "# df_trn_top20chi2.head()\n",
    "df_trn_top20chi2.to_csv('../data/train_top20chi2.csv', encoding='utf-8', index=False)"
   ]
  },
  {
   "cell_type": "code",
   "execution_count": 31,
   "metadata": {},
   "outputs": [],
   "source": [
    "df_tst_top20chi2 = X_tst\n",
    "# df_tst_top20chi2.head()\n",
    "df_tst_top20chi2.to_csv('../data/test_top20chi2.csv', encoding='utf-8', index=False)"
   ]
  },
  {
   "cell_type": "code",
   "execution_count": 19,
   "metadata": {},
   "outputs": [],
   "source": [
    "from sklearn.model_selection import train_test_split"
   ]
  },
  {
   "cell_type": "code",
   "execution_count": 20,
   "metadata": {},
   "outputs": [],
   "source": [
    "# Create training and validation sets\n",
    "x, x_test, y, y_test = train_test_split(x, y, test_size=0.2, random_state=42, stratify=y)"
   ]
  },
  {
   "cell_type": "code",
   "execution_count": 21,
   "metadata": {},
   "outputs": [],
   "source": [
    "RF = RandomForestClassifier(n_estimators=100)"
   ]
  },
  {
   "cell_type": "code",
   "execution_count": 22,
   "metadata": {},
   "outputs": [
    {
     "data": {
      "text/plain": [
       "RandomForestClassifier(bootstrap=True, class_weight=None, criterion='gini',\n",
       "                       max_depth=None, max_features='auto', max_leaf_nodes=None,\n",
       "                       min_impurity_decrease=0.0, min_impurity_split=None,\n",
       "                       min_samples_leaf=1, min_samples_split=2,\n",
       "                       min_weight_fraction_leaf=0.0, n_estimators=100,\n",
       "                       n_jobs=None, oob_score=False, random_state=None,\n",
       "                       verbose=0, warm_start=False)"
      ]
     },
     "execution_count": 22,
     "metadata": {},
     "output_type": "execute_result"
    }
   ],
   "source": [
    "RF.fit(x, y)"
   ]
  },
  {
   "cell_type": "code",
   "execution_count": 23,
   "metadata": {},
   "outputs": [],
   "source": [
    "y_test_pred = RF.predict(x_test)"
   ]
  },
  {
   "cell_type": "code",
   "execution_count": 24,
   "metadata": {},
   "outputs": [
    {
     "data": {
      "text/plain": [
       "0.8607594936708861"
      ]
     },
     "execution_count": 24,
     "metadata": {},
     "output_type": "execute_result"
    }
   ],
   "source": [
    "from sklearn.metrics import f1_score\n",
    "f1_score(y_test_pred, y_test)"
   ]
  },
  {
   "cell_type": "markdown",
   "metadata": {},
   "source": [
    "**Submission**"
   ]
  },
  {
   "cell_type": "code",
   "execution_count": 25,
   "metadata": {},
   "outputs": [],
   "source": [
    "y_tst_pred = RF.predict(X_tst)"
   ]
  },
  {
   "cell_type": "code",
   "execution_count": 26,
   "metadata": {},
   "outputs": [
    {
     "data": {
      "text/plain": [
       "Counter({0: 44945, 1: 74})"
      ]
     },
     "execution_count": 26,
     "metadata": {},
     "output_type": "execute_result"
    }
   ],
   "source": [
    "Counter(y_tst_pred)"
   ]
  },
  {
   "cell_type": "code",
   "execution_count": 27,
   "metadata": {},
   "outputs": [],
   "source": [
    "df_sbm['FraudResult'] = y_tst_pred"
   ]
  },
  {
   "cell_type": "code",
   "execution_count": null,
   "metadata": {},
   "outputs": [],
   "source": [
    "df_sbm.to_csv('../submitted/AlBo0724_top20chi2_RF.csv', encoding='utf-8', index=False)"
   ]
  },
  {
   "cell_type": "markdown",
   "metadata": {},
   "source": [
    "**Result:** `0.786885245901639`"
   ]
  },
  {
   "cell_type": "code",
   "execution_count": null,
   "metadata": {},
   "outputs": [],
   "source": []
  }
 ],
 "metadata": {
  "kernelspec": {
   "display_name": "Python 3",
   "language": "python",
   "name": "python3"
  },
  "language_info": {
   "codemirror_mode": {
    "name": "ipython",
    "version": 3
   },
   "file_extension": ".py",
   "mimetype": "text/x-python",
   "name": "python",
   "nbconvert_exporter": "python",
   "pygments_lexer": "ipython3",
   "version": "3.7.1"
  }
 },
 "nbformat": 4,
 "nbformat_minor": 2
}
